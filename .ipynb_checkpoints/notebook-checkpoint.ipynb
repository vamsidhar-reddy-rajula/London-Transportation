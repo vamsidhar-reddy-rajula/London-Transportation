{
 "cells": [
  {
   "cell_type": "code",
   "execution_count": 22,
   "id": "a5e90041-9780-4cc8-8579-99faa7d1c7a4",
   "metadata": {},
   "outputs": [],
   "source": [
    "import requests\n",
    "from IPython.display import JSON"
   ]
  },
  {
   "cell_type": "code",
   "execution_count": 79,
   "id": "103ee34a-c963-4772-bb80-3bc6a94c8fc4",
   "metadata": {},
   "outputs": [],
   "source": [
    "root_url = \"https://api.tfl.gov.uk/\"\n",
    "#endpoints\n",
    "accident_stats_endpoint = \"AccidentStats/\"\n",
    "air_quality_endpoint = \"AirQuality/\"\n",
    "line_endpoint = \"Line/\"\n",
    "bike_endpoint = \"BikePoint/\"\n",
    "journey_endpoint = \"Journey/\"\n",
    "stoppoint_endpoint = \"StopPoint/\""
   ]
  },
  {
   "cell_type": "code",
   "execution_count": 43,
   "id": "4ccafe87-03a8-4cef-90cf-d4cc8e8c85a9",
   "metadata": {},
   "outputs": [],
   "source": [
    "def get_data(endpoint,*args,params=None):\n",
    "    ''' Return the json body for the provided endpoints'''\n",
    "    if len(args):\n",
    "        endpoint = endpoint+\"/\".join(args[:])\n",
    "    url = root_url+endpoint\n",
    "    try:\n",
    "        response = requests.get(url,params=params)\n",
    "    except:\n",
    "        print(\"Error in requesting data from the resource provided\")\n",
    "    else:\n",
    "        print(f\"......... Data received successfully from {url}\")\n",
    "        if response.status_code == 200:\n",
    "            return response.json()"
   ]
  },
  {
   "cell_type": "code",
   "execution_count": 27,
   "id": "e3a61e3b-d069-4937-90ac-ae3d740f3cac",
   "metadata": {},
   "outputs": [
    {
     "name": "stdout",
     "output_type": "stream",
     "text": [
      "......... Data received successfully from https://api.tfl.gov.uk/AirQuality/\n",
      "\n",
      " Forecast for tomorrow is:\n",
      " Unsettled, with rain or showers moving southeast on Friday.&lt;br/&gt;Cloud cover and sunny intervals with possible showers on Saturday.&lt;br/&gt;&lt;br/&gt;A steady feed of westerly air arriving from the Atlantic should give good dispersion of local emissions while bearing little imported pollution.&lt;br/&gt;&lt;br/&gt;Air pollution is expected to remain &#39;Low&#39; for the following pollutants:&lt;br/&gt;&lt;br/&gt;Nitrogen Dioxide&lt;br/&gt;Ozone&lt;br/&gt;PM10 Particulate&lt;br/&gt;PM2.5 Particulate&lt;br/&gt;Sulphur Dioxide&lt;br/&gt;\n"
     ]
    }
   ],
   "source": [
    "response_json = get_data(air_quality_endpoint)\n",
    "# print(JSON(response_json))\n",
    "future_air_quality_prediction = response_json[\"currentForecast\"][1][\"forecastText\"]\n",
    "print(f\"\\n Forecast for tomorrow is:\\n {future_air_quality_prediction}\")"
   ]
  },
  {
   "cell_type": "code",
   "execution_count": 52,
   "id": "690aa97a-f772-462d-bc90-3f90075a02a9",
   "metadata": {},
   "outputs": [
    {
     "name": "stdout",
     "output_type": "stream",
     "text": [
      "......... Data received successfully from https://api.tfl.gov.uk/Line/Meta/Modes\n",
      "['bus', 'cable-car', 'coach', 'cycle', 'cycle-hire', 'dlr', 'interchange-keep-sitting', 'interchange-secure', 'national-rail', 'overground', 'replacement-bus', 'river-bus', 'river-tour', 'taxi', 'tflrail', 'tram', 'tube', 'walking']\n",
      "Number of different modes of transport is: 18\n"
     ]
    }
   ],
   "source": [
    "response_json = get_data(line_endpoint,\"Meta\",\"Modes\")\n",
    "modes=[]\n",
    "for mode in response_json:\n",
    "    modes.append(mode[\"modeName\"])\n",
    "print(modes)\n",
    "print(f\"Number of different modes of transport is: {len(modes)}\")"
   ]
  },
  {
   "cell_type": "code",
   "execution_count": 57,
   "id": "70af36a3-4442-45ef-a8d7-c3ed64a695ca",
   "metadata": {},
   "outputs": [
    {
     "name": "stdout",
     "output_type": "stream",
     "text": [
      "......... Data received successfully from https://api.tfl.gov.uk/BikePoint/\n",
      "Number of bikepoints: 785\n",
      "Total number of docks across all bikepoints: 20831\n"
     ]
    }
   ],
   "source": [
    "response_json = get_data(bike_endpoint)\n",
    "n_docks = []\n",
    "for bike_point in response_json:\n",
    "    n_docks.append(int(bike_point[\"additionalProperties\"][8][\"value\"]))\n",
    "print(f\"Number of bikepoints: {len(n_docks)}\")\n",
    "print(f\"Total number of docks across all bikepoints: {sum(n_docks)}\")"
   ]
  },
  {
   "cell_type": "code",
   "execution_count": 69,
   "id": "09571012-72d7-43e4-a38b-81fb3f1e0c78",
   "metadata": {},
   "outputs": [
    {
     "name": "stdout",
     "output_type": "stream",
     "text": [
      "......... Data received successfully from https://api.tfl.gov.uk/Line/Mode//tube//Route\n",
      "Number of tube lines: 11\n",
      "Tube line names: ['Bakerloo', 'Central', 'Circle', 'District', 'Hammersmith & City', 'Jubilee', 'Metropolitan', 'Northern', 'Piccadilly', 'Victoria', 'Waterloo & City']\n"
     ]
    },
    {
     "data": {
      "application/json": [
       {
        "$type": "Tfl.Api.Presentation.Entities.Line, Tfl.Api.Presentation.Entities",
        "created": "2021-06-22T18:41:11.143Z",
        "crowding": {
         "$type": "Tfl.Api.Presentation.Entities.Crowding, Tfl.Api.Presentation.Entities"
        },
        "disruptions": [],
        "id": "bakerloo",
        "lineStatuses": [],
        "modeName": "tube",
        "modified": "2021-06-22T18:41:11.143Z",
        "name": "Bakerloo",
        "routeSections": [
         {
          "$type": "Tfl.Api.Presentation.Entities.MatchedRoute, Tfl.Api.Presentation.Entities",
          "destination": "940GZZLUEAC",
          "destinationName": "Elephant & Castle Underground Station",
          "direction": "inbound",
          "name": "Harrow & Wealdstone Underground Station - Elephant & Castle Underground Station",
          "originationName": "Harrow & Wealdstone Underground Station",
          "originator": "940GZZLUHAW",
          "serviceType": "Regular",
          "validFrom": "2021-06-12T00:00:00Z",
          "validTo": "2021-11-23T00:00:00Z"
         },
         {
          "$type": "Tfl.Api.Presentation.Entities.MatchedRoute, Tfl.Api.Presentation.Entities",
          "destination": "940GZZLUHAW",
          "destinationName": "Harrow & Wealdstone Underground Station",
          "direction": "outbound",
          "name": "Elephant & Castle Underground Station - Harrow & Wealdstone Underground Station",
          "originationName": "Elephant & Castle Underground Station",
          "originator": "940GZZLUEAC",
          "serviceType": "Regular",
          "validFrom": "2021-06-12T00:00:00Z",
          "validTo": "2021-11-23T00:00:00Z"
         }
        ],
        "serviceTypes": [
         {
          "$type": "Tfl.Api.Presentation.Entities.LineServiceTypeInfo, Tfl.Api.Presentation.Entities",
          "name": "Regular",
          "uri": "/Line/Route?ids=Bakerloo&serviceTypes=Regular"
         }
        ]
       },
       {
        "$type": "Tfl.Api.Presentation.Entities.Line, Tfl.Api.Presentation.Entities",
        "created": "2021-06-22T18:41:11.143Z",
        "crowding": {
         "$type": "Tfl.Api.Presentation.Entities.Crowding, Tfl.Api.Presentation.Entities"
        },
        "disruptions": [],
        "id": "central",
        "lineStatuses": [],
        "modeName": "tube",
        "modified": "2021-06-22T18:41:11.143Z",
        "name": "Central",
        "routeSections": [
         {
          "$type": "Tfl.Api.Presentation.Entities.MatchedRoute, Tfl.Api.Presentation.Entities",
          "destination": "940GZZLUWRP",
          "destinationName": "West Ruislip Underground Station",
          "direction": "inbound",
          "name": "Epping Underground Station - West Ruislip Underground Station",
          "originationName": "Epping Underground Station",
          "originator": "940GZZLUEPG",
          "serviceType": "Regular",
          "validFrom": "2021-06-12T00:00:00Z",
          "validTo": "2021-11-23T00:00:00Z"
         },
         {
          "$type": "Tfl.Api.Presentation.Entities.MatchedRoute, Tfl.Api.Presentation.Entities",
          "destination": "940GZZLUEPG",
          "destinationName": "Epping Underground Station",
          "direction": "outbound",
          "name": "West Ruislip Underground Station - Epping Underground Station",
          "originationName": "West Ruislip Underground Station",
          "originator": "940GZZLUWRP",
          "serviceType": "Regular",
          "validFrom": "2021-06-12T00:00:00Z",
          "validTo": "2021-11-23T00:00:00Z"
         },
         {
          "$type": "Tfl.Api.Presentation.Entities.MatchedRoute, Tfl.Api.Presentation.Entities",
          "destination": "940GZZLUWRP",
          "destinationName": "West Ruislip Underground Station",
          "direction": "inbound",
          "name": "Hainault Underground Station - West Ruislip Underground Station",
          "originationName": "Hainault Underground Station",
          "originator": "940GZZLUHLT",
          "serviceType": "Regular",
          "validFrom": "2021-06-12T00:00:00Z",
          "validTo": "2021-11-23T00:00:00Z"
         },
         {
          "$type": "Tfl.Api.Presentation.Entities.MatchedRoute, Tfl.Api.Presentation.Entities",
          "destination": "940GZZLUWRP",
          "destinationName": "West Ruislip Underground Station",
          "direction": "inbound",
          "name": "Hainault Underground Station - West Ruislip Underground Station",
          "originationName": "Hainault Underground Station",
          "originator": "940GZZLUHLT",
          "serviceType": "Regular",
          "validFrom": "2021-06-12T00:00:00Z",
          "validTo": "2021-11-23T00:00:00Z"
         },
         {
          "$type": "Tfl.Api.Presentation.Entities.MatchedRoute, Tfl.Api.Presentation.Entities",
          "destination": "940GZZLUHLT",
          "destinationName": "Hainault Underground Station",
          "direction": "outbound",
          "name": "West Ruislip Underground Station - Hainault Underground Station",
          "originationName": "West Ruislip Underground Station",
          "originator": "940GZZLUWRP",
          "serviceType": "Regular",
          "validFrom": "2021-06-12T00:00:00Z",
          "validTo": "2021-11-23T00:00:00Z"
         },
         {
          "$type": "Tfl.Api.Presentation.Entities.MatchedRoute, Tfl.Api.Presentation.Entities",
          "destination": "940GZZLUHLT",
          "destinationName": "Hainault Underground Station",
          "direction": "outbound",
          "name": "West Ruislip Underground Station - Hainault Underground Station",
          "originationName": "West Ruislip Underground Station",
          "originator": "940GZZLUWRP",
          "serviceType": "Regular",
          "validFrom": "2021-06-12T00:00:00Z",
          "validTo": "2021-11-23T00:00:00Z"
         },
         {
          "$type": "Tfl.Api.Presentation.Entities.MatchedRoute, Tfl.Api.Presentation.Entities",
          "destination": "940GZZLUEBY",
          "destinationName": "Ealing Broadway Underground Station",
          "direction": "inbound",
          "name": "Epping Underground Station - Ealing Broadway Underground Station",
          "originationName": "Epping Underground Station",
          "originator": "940GZZLUEPG",
          "serviceType": "Regular",
          "validFrom": "2021-06-12T00:00:00Z",
          "validTo": "2021-11-23T00:00:00Z"
         },
         {
          "$type": "Tfl.Api.Presentation.Entities.MatchedRoute, Tfl.Api.Presentation.Entities",
          "destination": "940GZZLUEPG",
          "destinationName": "Epping Underground Station",
          "direction": "outbound",
          "name": "Ealing Broadway Underground Station - Epping Underground Station",
          "originationName": "Ealing Broadway Underground Station",
          "originator": "940GZZLUEBY",
          "serviceType": "Regular",
          "validFrom": "2021-06-12T00:00:00Z",
          "validTo": "2021-11-23T00:00:00Z"
         },
         {
          "$type": "Tfl.Api.Presentation.Entities.MatchedRoute, Tfl.Api.Presentation.Entities",
          "destination": "940GZZLUEBY",
          "destinationName": "Ealing Broadway Underground Station",
          "direction": "inbound",
          "name": "Hainault Underground Station - Ealing Broadway Underground Station",
          "originationName": "Hainault Underground Station",
          "originator": "940GZZLUHLT",
          "serviceType": "Regular",
          "validFrom": "2021-06-12T00:00:00Z",
          "validTo": "2021-11-23T00:00:00Z"
         },
         {
          "$type": "Tfl.Api.Presentation.Entities.MatchedRoute, Tfl.Api.Presentation.Entities",
          "destination": "940GZZLUHLT",
          "destinationName": "Hainault Underground Station",
          "direction": "outbound",
          "name": "Ealing Broadway Underground Station - Hainault Underground Station",
          "originationName": "Ealing Broadway Underground Station",
          "originator": "940GZZLUEBY",
          "serviceType": "Regular",
          "validFrom": "2021-06-12T00:00:00Z",
          "validTo": "2021-11-23T00:00:00Z"
         }
        ],
        "serviceTypes": [
         {
          "$type": "Tfl.Api.Presentation.Entities.LineServiceTypeInfo, Tfl.Api.Presentation.Entities",
          "name": "Regular",
          "uri": "/Line/Route?ids=Central&serviceTypes=Regular"
         },
         {
          "$type": "Tfl.Api.Presentation.Entities.LineServiceTypeInfo, Tfl.Api.Presentation.Entities",
          "name": "Night",
          "uri": "/Line/Route?ids=Central&serviceTypes=Night"
         }
        ]
       },
       {
        "$type": "Tfl.Api.Presentation.Entities.Line, Tfl.Api.Presentation.Entities",
        "created": "2021-06-22T18:41:11.127Z",
        "crowding": {
         "$type": "Tfl.Api.Presentation.Entities.Crowding, Tfl.Api.Presentation.Entities"
        },
        "disruptions": [],
        "id": "circle",
        "lineStatuses": [],
        "modeName": "tube",
        "modified": "2021-06-22T18:41:11.127Z",
        "name": "Circle",
        "routeSections": [
         {
          "$type": "Tfl.Api.Presentation.Entities.MatchedRoute, Tfl.Api.Presentation.Entities",
          "destination": "940GZZLUHSC",
          "destinationName": "Hammersmith (H&C Line) Underground Station",
          "direction": "inbound",
          "name": "Edgware Road (Circle Line) Underground Station - Hammersmith (H&C Line) Underground Station",
          "originationName": "Edgware Road (Circle Line) Underground Station",
          "originator": "940GZZLUERC",
          "serviceType": "Regular",
          "validFrom": "2021-06-14T00:00:00Z",
          "validTo": "2021-11-23T00:00:00Z"
         },
         {
          "$type": "Tfl.Api.Presentation.Entities.MatchedRoute, Tfl.Api.Presentation.Entities",
          "destination": "940GZZLUERC",
          "destinationName": "Edgware Road (Circle Line) Underground Station",
          "direction": "outbound",
          "name": "Hammersmith (H&C Line) Underground Station - Edgware Road (Circle Line) Underground Station",
          "originationName": "Hammersmith (H&C Line) Underground Station",
          "originator": "940GZZLUHSC",
          "serviceType": "Regular",
          "validFrom": "2021-06-14T00:00:00Z",
          "validTo": "2021-11-23T00:00:00Z"
         }
        ],
        "serviceTypes": [
         {
          "$type": "Tfl.Api.Presentation.Entities.LineServiceTypeInfo, Tfl.Api.Presentation.Entities",
          "name": "Regular",
          "uri": "/Line/Route?ids=Circle&serviceTypes=Regular"
         }
        ]
       },
       {
        "$type": "Tfl.Api.Presentation.Entities.Line, Tfl.Api.Presentation.Entities",
        "created": "2021-06-22T18:41:11.127Z",
        "crowding": {
         "$type": "Tfl.Api.Presentation.Entities.Crowding, Tfl.Api.Presentation.Entities"
        },
        "disruptions": [],
        "id": "district",
        "lineStatuses": [],
        "modeName": "tube",
        "modified": "2021-06-22T18:41:11.127Z",
        "name": "District",
        "routeSections": [
         {
          "$type": "Tfl.Api.Presentation.Entities.MatchedRoute, Tfl.Api.Presentation.Entities",
          "destination": "940GZZLUEBY",
          "destinationName": "Ealing Broadway Underground Station",
          "direction": "inbound",
          "name": "Upminster Underground Station - Ealing Broadway Underground Station",
          "originationName": "Upminster Underground Station",
          "originator": "940GZZLUUPM",
          "serviceType": "Regular",
          "validFrom": "2021-06-12T00:00:00Z",
          "validTo": "2021-11-23T00:00:00Z"
         },
         {
          "$type": "Tfl.Api.Presentation.Entities.MatchedRoute, Tfl.Api.Presentation.Entities",
          "destination": "940GZZLUUPM",
          "destinationName": "Upminster Underground Station",
          "direction": "outbound",
          "name": "Ealing Broadway Underground Station - Upminster Underground Station",
          "originationName": "Ealing Broadway Underground Station",
          "originator": "940GZZLUEBY",
          "serviceType": "Regular",
          "validFrom": "2021-06-12T00:00:00Z",
          "validTo": "2021-11-23T00:00:00Z"
         },
         {
          "$type": "Tfl.Api.Presentation.Entities.MatchedRoute, Tfl.Api.Presentation.Entities",
          "destination": "940GZZLURMD",
          "destinationName": "Richmond Underground Station",
          "direction": "inbound",
          "name": "Upminster Underground Station - Richmond Underground Station",
          "originationName": "Upminster Underground Station",
          "originator": "940GZZLUUPM",
          "serviceType": "Regular",
          "validFrom": "2021-06-12T00:00:00Z",
          "validTo": "2021-11-23T00:00:00Z"
         },
         {
          "$type": "Tfl.Api.Presentation.Entities.MatchedRoute, Tfl.Api.Presentation.Entities",
          "destination": "940GZZLUUPM",
          "destinationName": "Upminster Underground Station",
          "direction": "outbound",
          "name": "Richmond Underground Station - Upminster Underground Station",
          "originationName": "Richmond Underground Station",
          "originator": "940GZZLURMD",
          "serviceType": "Regular",
          "validFrom": "2021-06-12T00:00:00Z",
          "validTo": "2021-11-23T00:00:00Z"
         },
         {
          "$type": "Tfl.Api.Presentation.Entities.MatchedRoute, Tfl.Api.Presentation.Entities",
          "destination": "940GZZLUWIM",
          "destinationName": "Wimbledon Underground Station",
          "direction": "inbound",
          "name": "Upminster Underground Station - Wimbledon Underground Station",
          "originationName": "Upminster Underground Station",
          "originator": "940GZZLUUPM",
          "serviceType": "Regular",
          "validFrom": "2021-06-12T00:00:00Z",
          "validTo": "2021-11-23T00:00:00Z"
         },
         {
          "$type": "Tfl.Api.Presentation.Entities.MatchedRoute, Tfl.Api.Presentation.Entities",
          "destination": "940GZZLUUPM",
          "destinationName": "Upminster Underground Station",
          "direction": "outbound",
          "name": "Wimbledon Underground Station - Upminster Underground Station",
          "originationName": "Wimbledon Underground Station",
          "originator": "940GZZLUWIM",
          "serviceType": "Regular",
          "validFrom": "2021-06-12T00:00:00Z",
          "validTo": "2021-11-23T00:00:00Z"
         },
         {
          "$type": "Tfl.Api.Presentation.Entities.MatchedRoute, Tfl.Api.Presentation.Entities",
          "destination": "940GZZLUUPM",
          "destinationName": "Upminster Underground Station",
          "direction": "outbound",
          "name": "Kensington (Olympia) Underground Station - Upminster Underground Station",
          "originationName": "Kensington (Olympia) Underground Station",
          "originator": "940GZZLUKOY",
          "serviceType": "Regular",
          "validFrom": "2021-06-12T00:00:00Z",
          "validTo": "2021-11-23T00:00:00Z"
         },
         {
          "$type": "Tfl.Api.Presentation.Entities.MatchedRoute, Tfl.Api.Presentation.Entities",
          "destination": "940GZZLUEBY",
          "destinationName": "Ealing Broadway Underground Station",
          "direction": "inbound",
          "name": "Edgware Road (Circle Line) Underground Station - Ealing Broadway Underground Station",
          "originationName": "Edgware Road (Circle Line) Underground Station",
          "originator": "940GZZLUERC",
          "serviceType": "Regular",
          "validFrom": "2021-06-12T00:00:00Z",
          "validTo": "2021-11-23T00:00:00Z"
         },
         {
          "$type": "Tfl.Api.Presentation.Entities.MatchedRoute, Tfl.Api.Presentation.Entities",
          "destination": "940GZZLUERC",
          "destinationName": "Edgware Road (Circle Line) Underground Station",
          "direction": "outbound",
          "name": "Ealing Broadway Underground Station - Edgware Road (Circle Line) Underground Station",
          "originationName": "Ealing Broadway Underground Station",
          "originator": "940GZZLUEBY",
          "serviceType": "Regular",
          "validFrom": "2021-06-12T00:00:00Z",
          "validTo": "2021-11-23T00:00:00Z"
         },
         {
          "$type": "Tfl.Api.Presentation.Entities.MatchedRoute, Tfl.Api.Presentation.Entities",
          "destination": "940GZZLURMD",
          "destinationName": "Richmond Underground Station",
          "direction": "inbound",
          "name": "Edgware Road (Circle Line) Underground Station - Richmond Underground Station",
          "originationName": "Edgware Road (Circle Line) Underground Station",
          "originator": "940GZZLUERC",
          "serviceType": "Regular",
          "validFrom": "2021-06-12T00:00:00Z",
          "validTo": "2021-11-23T00:00:00Z"
         },
         {
          "$type": "Tfl.Api.Presentation.Entities.MatchedRoute, Tfl.Api.Presentation.Entities",
          "destination": "940GZZLUERC",
          "destinationName": "Edgware Road (Circle Line) Underground Station",
          "direction": "outbound",
          "name": "Richmond Underground Station - Edgware Road (Circle Line) Underground Station",
          "originationName": "Richmond Underground Station",
          "originator": "940GZZLURMD",
          "serviceType": "Regular",
          "validFrom": "2021-06-12T00:00:00Z",
          "validTo": "2021-11-23T00:00:00Z"
         },
         {
          "$type": "Tfl.Api.Presentation.Entities.MatchedRoute, Tfl.Api.Presentation.Entities",
          "destination": "940GZZLUWIM",
          "destinationName": "Wimbledon Underground Station",
          "direction": "inbound",
          "name": "Edgware Road (Circle Line) Underground Station - Wimbledon Underground Station",
          "originationName": "Edgware Road (Circle Line) Underground Station",
          "originator": "940GZZLUERC",
          "serviceType": "Regular",
          "validFrom": "2021-06-12T00:00:00Z",
          "validTo": "2021-11-23T00:00:00Z"
         },
         {
          "$type": "Tfl.Api.Presentation.Entities.MatchedRoute, Tfl.Api.Presentation.Entities",
          "destination": "940GZZLUERC",
          "destinationName": "Edgware Road (Circle Line) Underground Station",
          "direction": "outbound",
          "name": "Wimbledon Underground Station - Edgware Road (Circle Line) Underground Station",
          "originationName": "Wimbledon Underground Station",
          "originator": "940GZZLUWIM",
          "serviceType": "Regular",
          "validFrom": "2021-06-12T00:00:00Z",
          "validTo": "2021-11-23T00:00:00Z"
         },
         {
          "$type": "Tfl.Api.Presentation.Entities.MatchedRoute, Tfl.Api.Presentation.Entities",
          "destination": "940GZZLUKOY",
          "destinationName": "Kensington (Olympia) Underground Station",
          "direction": "inbound",
          "name": "Edgware Road (Circle Line) Underground Station - Kensington (Olympia) Underground Station",
          "originationName": "Edgware Road (Circle Line) Underground Station",
          "originator": "940GZZLUERC",
          "serviceType": "Regular",
          "validFrom": "2021-06-12T00:00:00Z",
          "validTo": "2021-11-23T00:00:00Z"
         },
         {
          "$type": "Tfl.Api.Presentation.Entities.MatchedRoute, Tfl.Api.Presentation.Entities",
          "destination": "940GZZLUERC",
          "destinationName": "Edgware Road (Circle Line) Underground Station",
          "direction": "outbound",
          "name": "Kensington (Olympia) Underground Station - Edgware Road (Circle Line) Underground Station",
          "originationName": "Kensington (Olympia) Underground Station",
          "originator": "940GZZLUKOY",
          "serviceType": "Regular",
          "validFrom": "2021-06-12T00:00:00Z",
          "validTo": "2021-11-23T00:00:00Z"
         }
        ],
        "serviceTypes": [
         {
          "$type": "Tfl.Api.Presentation.Entities.LineServiceTypeInfo, Tfl.Api.Presentation.Entities",
          "name": "Regular",
          "uri": "/Line/Route?ids=District&serviceTypes=Regular"
         }
        ]
       },
       {
        "$type": "Tfl.Api.Presentation.Entities.Line, Tfl.Api.Presentation.Entities",
        "created": "2021-06-22T18:41:11.127Z",
        "crowding": {
         "$type": "Tfl.Api.Presentation.Entities.Crowding, Tfl.Api.Presentation.Entities"
        },
        "disruptions": [],
        "id": "hammersmith-city",
        "lineStatuses": [],
        "modeName": "tube",
        "modified": "2021-06-22T18:41:11.127Z",
        "name": "Hammersmith & City",
        "routeSections": [
         {
          "$type": "Tfl.Api.Presentation.Entities.MatchedRoute, Tfl.Api.Presentation.Entities",
          "destination": "940GZZLUHSC",
          "destinationName": "Hammersmith (H&C Line) Underground Station",
          "direction": "inbound",
          "name": "Barking Underground Station - Hammersmith (H&C Line) Underground Station",
          "originationName": "Barking Underground Station",
          "originator": "940GZZLUBKG",
          "serviceType": "Regular",
          "validFrom": "2021-06-12T00:00:00Z",
          "validTo": "2021-11-23T00:00:00Z"
         },
         {
          "$type": "Tfl.Api.Presentation.Entities.MatchedRoute, Tfl.Api.Presentation.Entities",
          "destination": "940GZZLUBKG",
          "destinationName": "Barking Underground Station",
          "direction": "outbound",
          "name": "Hammersmith (H&C Line) Underground Station - Barking Underground Station",
          "originationName": "Hammersmith (H&C Line) Underground Station",
          "originator": "940GZZLUHSC",
          "serviceType": "Regular",
          "validFrom": "2021-06-12T00:00:00Z",
          "validTo": "2021-11-23T00:00:00Z"
         }
        ],
        "serviceTypes": [
         {
          "$type": "Tfl.Api.Presentation.Entities.LineServiceTypeInfo, Tfl.Api.Presentation.Entities",
          "name": "Regular",
          "uri": "/Line/Route?ids=Hammersmith & City&serviceTypes=Regular"
         }
        ]
       },
       {
        "$type": "Tfl.Api.Presentation.Entities.Line, Tfl.Api.Presentation.Entities",
        "created": "2021-06-22T18:41:11.127Z",
        "crowding": {
         "$type": "Tfl.Api.Presentation.Entities.Crowding, Tfl.Api.Presentation.Entities"
        },
        "disruptions": [],
        "id": "jubilee",
        "lineStatuses": [],
        "modeName": "tube",
        "modified": "2021-06-22T18:41:11.127Z",
        "name": "Jubilee",
        "routeSections": [
         {
          "$type": "Tfl.Api.Presentation.Entities.MatchedRoute, Tfl.Api.Presentation.Entities",
          "destination": "940GZZLUSTM",
          "destinationName": "Stanmore Underground Station",
          "direction": "inbound",
          "name": "Stratford Underground Station - Stanmore Underground Station",
          "originationName": "Stratford Underground Station",
          "originator": "940GZZLUSTD",
          "serviceType": "Regular",
          "validFrom": "2021-06-12T00:00:00Z",
          "validTo": "2021-11-23T00:00:00Z"
         },
         {
          "$type": "Tfl.Api.Presentation.Entities.MatchedRoute, Tfl.Api.Presentation.Entities",
          "destination": "940GZZLUSTD",
          "destinationName": "Stratford Underground Station",
          "direction": "outbound",
          "name": "Stanmore Underground Station - Stratford Underground Station",
          "originationName": "Stanmore Underground Station",
          "originator": "940GZZLUSTM",
          "serviceType": "Regular",
          "validFrom": "2021-06-12T00:00:00Z",
          "validTo": "2021-11-23T00:00:00Z"
         }
        ],
        "serviceTypes": [
         {
          "$type": "Tfl.Api.Presentation.Entities.LineServiceTypeInfo, Tfl.Api.Presentation.Entities",
          "name": "Regular",
          "uri": "/Line/Route?ids=Jubilee&serviceTypes=Regular"
         },
         {
          "$type": "Tfl.Api.Presentation.Entities.LineServiceTypeInfo, Tfl.Api.Presentation.Entities",
          "name": "Night",
          "uri": "/Line/Route?ids=Jubilee&serviceTypes=Night"
         }
        ]
       },
       {
        "$type": "Tfl.Api.Presentation.Entities.Line, Tfl.Api.Presentation.Entities",
        "created": "2021-06-22T18:41:11.143Z",
        "crowding": {
         "$type": "Tfl.Api.Presentation.Entities.Crowding, Tfl.Api.Presentation.Entities"
        },
        "disruptions": [],
        "id": "metropolitan",
        "lineStatuses": [],
        "modeName": "tube",
        "modified": "2021-06-22T18:41:11.143Z",
        "name": "Metropolitan",
        "routeSections": [
         {
          "$type": "Tfl.Api.Presentation.Entities.MatchedRoute, Tfl.Api.Presentation.Entities",
          "destination": "940GZZLUALD",
          "destinationName": "Aldgate Underground Station",
          "direction": "outbound",
          "name": "Amersham Underground Station - Aldgate Underground Station",
          "originationName": "Amersham Underground Station",
          "originator": "940GZZLUAMS",
          "serviceType": "Regular",
          "validFrom": "2021-06-12T00:00:00Z",
          "validTo": "2021-07-11T00:00:00Z"
         },
         {
          "$type": "Tfl.Api.Presentation.Entities.MatchedRoute, Tfl.Api.Presentation.Entities",
          "destination": "940GZZLUAMS",
          "destinationName": "Amersham Underground Station",
          "direction": "inbound",
          "name": "Aldgate Underground Station - Amersham Underground Station",
          "originationName": "Aldgate Underground Station",
          "originator": "940GZZLUALD",
          "serviceType": "Regular",
          "validFrom": "2021-06-12T00:00:00Z",
          "validTo": "2021-07-11T00:00:00Z"
         },
         {
          "$type": "Tfl.Api.Presentation.Entities.MatchedRoute, Tfl.Api.Presentation.Entities",
          "destination": "940GZZLUCSM",
          "destinationName": "Chesham Underground Station",
          "direction": "inbound",
          "name": "Aldgate Underground Station - Chesham Underground Station",
          "originationName": "Aldgate Underground Station",
          "originator": "940GZZLUALD",
          "serviceType": "Regular",
          "validFrom": "2021-06-12T00:00:00Z",
          "validTo": "2021-07-11T00:00:00Z"
         },
         {
          "$type": "Tfl.Api.Presentation.Entities.MatchedRoute, Tfl.Api.Presentation.Entities",
          "destination": "940GZZLUALD",
          "destinationName": "Aldgate Underground Station",
          "direction": "outbound",
          "name": "Chesham Underground Station - Aldgate Underground Station",
          "originationName": "Chesham Underground Station",
          "originator": "940GZZLUCSM",
          "serviceType": "Regular",
          "validFrom": "2021-06-12T00:00:00Z",
          "validTo": "2021-07-11T00:00:00Z"
         },
         {
          "$type": "Tfl.Api.Presentation.Entities.MatchedRoute, Tfl.Api.Presentation.Entities",
          "destination": "940GZZLUALD",
          "destinationName": "Aldgate Underground Station",
          "direction": "outbound",
          "name": "Uxbridge Underground Station - Aldgate Underground Station",
          "originationName": "Uxbridge Underground Station",
          "originator": "940GZZLUUXB",
          "serviceType": "Regular",
          "validFrom": "2021-06-12T00:00:00Z",
          "validTo": "2021-07-11T00:00:00Z"
         },
         {
          "$type": "Tfl.Api.Presentation.Entities.MatchedRoute, Tfl.Api.Presentation.Entities",
          "destination": "940GZZLUWAF",
          "destinationName": "Watford Underground Station",
          "direction": "inbound",
          "name": "Aldgate Underground Station - Watford Underground Station",
          "originationName": "Aldgate Underground Station",
          "originator": "940GZZLUALD",
          "serviceType": "Regular",
          "validFrom": "2021-06-12T00:00:00Z",
          "validTo": "2021-07-11T00:00:00Z"
         },
         {
          "$type": "Tfl.Api.Presentation.Entities.MatchedRoute, Tfl.Api.Presentation.Entities",
          "destination": "940GZZLUALD",
          "destinationName": "Aldgate Underground Station",
          "direction": "outbound",
          "name": "Watford Underground Station - Aldgate Underground Station",
          "originationName": "Watford Underground Station",
          "originator": "940GZZLUWAF",
          "serviceType": "Regular",
          "validFrom": "2021-06-12T00:00:00Z",
          "validTo": "2021-07-11T00:00:00Z"
         },
         {
          "$type": "Tfl.Api.Presentation.Entities.MatchedRoute, Tfl.Api.Presentation.Entities",
          "destination": "940GZZLUUXB",
          "destinationName": "Uxbridge Underground Station",
          "direction": "inbound",
          "name": "Aldgate Underground Station - Uxbridge Underground Station",
          "originationName": "Aldgate Underground Station",
          "originator": "940GZZLUALD",
          "serviceType": "Regular",
          "validFrom": "2021-06-12T00:00:00Z",
          "validTo": "2021-07-11T00:00:00Z"
         },
         {
          "$type": "Tfl.Api.Presentation.Entities.MatchedRoute, Tfl.Api.Presentation.Entities",
          "destination": "940GZZLUWAF",
          "destinationName": "Watford Underground Station",
          "direction": "outbound",
          "name": "Chesham Underground Station - Watford Underground Station",
          "originationName": "Chesham Underground Station",
          "originator": "940GZZLUCSM",
          "serviceType": "Regular",
          "validFrom": "2021-06-12T00:00:00Z",
          "validTo": "2021-07-11T00:00:00Z"
         },
         {
          "$type": "Tfl.Api.Presentation.Entities.MatchedRoute, Tfl.Api.Presentation.Entities",
          "destination": "940GZZLURKW",
          "destinationName": "Rickmansworth Underground Station",
          "direction": "inbound",
          "name": "Watford Underground Station - Rickmansworth Underground Station",
          "originationName": "Watford Underground Station",
          "originator": "940GZZLUWAF",
          "serviceType": "Regular",
          "validFrom": "2021-06-12T00:00:00Z",
          "validTo": "2021-07-11T00:00:00Z"
         }
        ],
        "serviceTypes": [
         {
          "$type": "Tfl.Api.Presentation.Entities.LineServiceTypeInfo, Tfl.Api.Presentation.Entities",
          "name": "Regular",
          "uri": "/Line/Route?ids=Metropolitan&serviceTypes=Regular"
         }
        ]
       },
       {
        "$type": "Tfl.Api.Presentation.Entities.Line, Tfl.Api.Presentation.Entities",
        "created": "2021-06-22T18:41:11.127Z",
        "crowding": {
         "$type": "Tfl.Api.Presentation.Entities.Crowding, Tfl.Api.Presentation.Entities"
        },
        "disruptions": [],
        "id": "northern",
        "lineStatuses": [],
        "modeName": "tube",
        "modified": "2021-06-22T18:41:11.127Z",
        "name": "Northern",
        "routeSections": [
         {
          "$type": "Tfl.Api.Presentation.Entities.MatchedRoute, Tfl.Api.Presentation.Entities",
          "destination": "940GZZLUMDN",
          "destinationName": "Morden Underground Station",
          "direction": "inbound",
          "name": "High Barnet Underground Station - Morden Underground Station",
          "originationName": "High Barnet Underground Station",
          "originator": "940GZZLUHBT",
          "serviceType": "Regular",
          "validFrom": "2021-06-12T00:00:00Z",
          "validTo": "2021-11-23T00:00:00Z"
         },
         {
          "$type": "Tfl.Api.Presentation.Entities.MatchedRoute, Tfl.Api.Presentation.Entities",
          "destination": "940GZZLUMDN",
          "destinationName": "Morden Underground Station",
          "direction": "inbound",
          "name": "High Barnet Underground Station - Morden Underground Station",
          "originationName": "High Barnet Underground Station",
          "originator": "940GZZLUHBT",
          "serviceType": "Regular",
          "validFrom": "2021-06-12T00:00:00Z",
          "validTo": "2021-11-23T00:00:00Z"
         },
         {
          "$type": "Tfl.Api.Presentation.Entities.MatchedRoute, Tfl.Api.Presentation.Entities",
          "destination": "940GZZLUHBT",
          "destinationName": "High Barnet Underground Station",
          "direction": "outbound",
          "name": "Morden Underground Station - High Barnet Underground Station",
          "originationName": "Morden Underground Station",
          "originator": "940GZZLUMDN",
          "serviceType": "Regular",
          "validFrom": "2021-06-12T00:00:00Z",
          "validTo": "2021-11-23T00:00:00Z"
         },
         {
          "$type": "Tfl.Api.Presentation.Entities.MatchedRoute, Tfl.Api.Presentation.Entities",
          "destination": "940GZZLUHBT",
          "destinationName": "High Barnet Underground Station",
          "direction": "outbound",
          "name": "Morden Underground Station - High Barnet Underground Station",
          "originationName": "Morden Underground Station",
          "originator": "940GZZLUMDN",
          "serviceType": "Regular",
          "validFrom": "2021-06-12T00:00:00Z",
          "validTo": "2021-11-23T00:00:00Z"
         },
         {
          "$type": "Tfl.Api.Presentation.Entities.MatchedRoute, Tfl.Api.Presentation.Entities",
          "destination": "940GZZLUMDN",
          "destinationName": "Morden Underground Station",
          "direction": "inbound",
          "name": "Edgware Underground Station - Morden Underground Station",
          "originationName": "Edgware Underground Station",
          "originator": "940GZZLUEGW",
          "serviceType": "Regular",
          "validFrom": "2021-06-12T00:00:00Z",
          "validTo": "2021-11-23T00:00:00Z"
         },
         {
          "$type": "Tfl.Api.Presentation.Entities.MatchedRoute, Tfl.Api.Presentation.Entities",
          "destination": "940GZZLUMDN",
          "destinationName": "Morden Underground Station",
          "direction": "inbound",
          "name": "Edgware Underground Station - Morden Underground Station",
          "originationName": "Edgware Underground Station",
          "originator": "940GZZLUEGW",
          "serviceType": "Regular",
          "validFrom": "2021-06-12T00:00:00Z",
          "validTo": "2021-11-23T00:00:00Z"
         },
         {
          "$type": "Tfl.Api.Presentation.Entities.MatchedRoute, Tfl.Api.Presentation.Entities",
          "destination": "940GZZLUEGW",
          "destinationName": "Edgware Underground Station",
          "direction": "outbound",
          "name": "Morden Underground Station - Edgware Underground Station",
          "originationName": "Morden Underground Station",
          "originator": "940GZZLUMDN",
          "serviceType": "Regular",
          "validFrom": "2021-06-12T00:00:00Z",
          "validTo": "2021-11-23T00:00:00Z"
         },
         {
          "$type": "Tfl.Api.Presentation.Entities.MatchedRoute, Tfl.Api.Presentation.Entities",
          "destination": "940GZZLUEGW",
          "destinationName": "Edgware Underground Station",
          "direction": "outbound",
          "name": "Morden Underground Station - Edgware Underground Station",
          "originationName": "Morden Underground Station",
          "originator": "940GZZLUMDN",
          "serviceType": "Regular",
          "validFrom": "2021-06-12T00:00:00Z",
          "validTo": "2021-11-23T00:00:00Z"
         },
         {
          "$type": "Tfl.Api.Presentation.Entities.MatchedRoute, Tfl.Api.Presentation.Entities",
          "destination": "940GZZLUMDN",
          "destinationName": "Morden Underground Station",
          "direction": "inbound",
          "name": "Mill Hill East Underground Station - Morden Underground Station",
          "originationName": "Mill Hill East Underground Station",
          "originator": "940GZZLUMHL",
          "serviceType": "Regular",
          "validFrom": "2021-06-12T00:00:00Z",
          "validTo": "2021-11-23T00:00:00Z"
         },
         {
          "$type": "Tfl.Api.Presentation.Entities.MatchedRoute, Tfl.Api.Presentation.Entities",
          "destination": "940GZZLUMHL",
          "destinationName": "Mill Hill East Underground Station",
          "direction": "outbound",
          "name": "Morden Underground Station - Mill Hill East Underground Station",
          "originationName": "Morden Underground Station",
          "originator": "940GZZLUMDN",
          "serviceType": "Regular",
          "validFrom": "2021-06-12T00:00:00Z",
          "validTo": "2021-11-23T00:00:00Z"
         },
         {
          "$type": "Tfl.Api.Presentation.Entities.MatchedRoute, Tfl.Api.Presentation.Entities",
          "destination": "940GZZLUMHL",
          "destinationName": "Mill Hill East Underground Station",
          "direction": "outbound",
          "name": "Morden Underground Station - Mill Hill East Underground Station",
          "originationName": "Morden Underground Station",
          "originator": "940GZZLUMDN",
          "serviceType": "Regular",
          "validFrom": "2021-06-12T00:00:00Z",
          "validTo": "2021-11-23T00:00:00Z"
         }
        ],
        "serviceTypes": [
         {
          "$type": "Tfl.Api.Presentation.Entities.LineServiceTypeInfo, Tfl.Api.Presentation.Entities",
          "name": "Regular",
          "uri": "/Line/Route?ids=Northern&serviceTypes=Regular"
         },
         {
          "$type": "Tfl.Api.Presentation.Entities.LineServiceTypeInfo, Tfl.Api.Presentation.Entities",
          "name": "Night",
          "uri": "/Line/Route?ids=Northern&serviceTypes=Night"
         }
        ]
       },
       {
        "$type": "Tfl.Api.Presentation.Entities.Line, Tfl.Api.Presentation.Entities",
        "created": "2021-06-22T18:41:11.143Z",
        "crowding": {
         "$type": "Tfl.Api.Presentation.Entities.Crowding, Tfl.Api.Presentation.Entities"
        },
        "disruptions": [],
        "id": "piccadilly",
        "lineStatuses": [],
        "modeName": "tube",
        "modified": "2021-06-22T18:41:11.143Z",
        "name": "Piccadilly",
        "routeSections": [
         {
          "$type": "Tfl.Api.Presentation.Entities.MatchedRoute, Tfl.Api.Presentation.Entities",
          "destination": "940GZZLUUXB",
          "destinationName": "Uxbridge Underground Station",
          "direction": "inbound",
          "name": "Cockfosters Underground Station - Uxbridge Underground Station",
          "originationName": "Cockfosters Underground Station",
          "originator": "940GZZLUCKS",
          "serviceType": "Regular",
          "validFrom": "2021-06-12T00:00:00Z",
          "validTo": "2021-07-11T00:00:00Z"
         },
         {
          "$type": "Tfl.Api.Presentation.Entities.MatchedRoute, Tfl.Api.Presentation.Entities",
          "destination": "940GZZLUCKS",
          "destinationName": "Cockfosters Underground Station",
          "direction": "outbound",
          "name": "Uxbridge Underground Station - Cockfosters Underground Station",
          "originationName": "Uxbridge Underground Station",
          "originator": "940GZZLUUXB",
          "serviceType": "Regular",
          "validFrom": "2021-06-12T00:00:00Z",
          "validTo": "2021-07-11T00:00:00Z"
         },
         {
          "$type": "Tfl.Api.Presentation.Entities.MatchedRoute, Tfl.Api.Presentation.Entities",
          "destination": "940GZZLUHR5",
          "destinationName": "Heathrow Terminal 5 Underground Station",
          "direction": "inbound",
          "name": "Cockfosters Underground Station - Heathrow Terminal 5 Underground Station",
          "originationName": "Cockfosters Underground Station",
          "originator": "940GZZLUCKS",
          "serviceType": "Regular",
          "validFrom": "2021-06-12T00:00:00Z",
          "validTo": "2021-07-11T00:00:00Z"
         },
         {
          "$type": "Tfl.Api.Presentation.Entities.MatchedRoute, Tfl.Api.Presentation.Entities",
          "destination": "940GZZLUCKS",
          "destinationName": "Cockfosters Underground Station",
          "direction": "outbound",
          "name": "Heathrow Terminal 5 Underground Station - Cockfosters Underground Station",
          "originationName": "Heathrow Terminal 5 Underground Station",
          "originator": "940GZZLUHR5",
          "serviceType": "Regular",
          "validFrom": "2021-06-12T00:00:00Z",
          "validTo": "2021-07-11T00:00:00Z"
         }
        ],
        "serviceTypes": [
         {
          "$type": "Tfl.Api.Presentation.Entities.LineServiceTypeInfo, Tfl.Api.Presentation.Entities",
          "name": "Regular",
          "uri": "/Line/Route?ids=Piccadilly&serviceTypes=Regular"
         },
         {
          "$type": "Tfl.Api.Presentation.Entities.LineServiceTypeInfo, Tfl.Api.Presentation.Entities",
          "name": "Night",
          "uri": "/Line/Route?ids=Piccadilly&serviceTypes=Night"
         }
        ]
       },
       {
        "$type": "Tfl.Api.Presentation.Entities.Line, Tfl.Api.Presentation.Entities",
        "created": "2021-06-22T18:41:11.143Z",
        "crowding": {
         "$type": "Tfl.Api.Presentation.Entities.Crowding, Tfl.Api.Presentation.Entities"
        },
        "disruptions": [],
        "id": "victoria",
        "lineStatuses": [],
        "modeName": "tube",
        "modified": "2021-06-22T18:41:11.143Z",
        "name": "Victoria",
        "routeSections": [
         {
          "$type": "Tfl.Api.Presentation.Entities.MatchedRoute, Tfl.Api.Presentation.Entities",
          "destination": "940GZZLUWWL",
          "destinationName": "Walthamstow Central Underground Station",
          "direction": "outbound",
          "name": "Brixton Underground Station - Walthamstow Central Underground Station",
          "originationName": "Brixton Underground Station",
          "originator": "940GZZLUBXN",
          "serviceType": "Regular",
          "validFrom": "2021-06-12T00:00:00Z",
          "validTo": "2021-11-23T00:00:00Z"
         },
         {
          "$type": "Tfl.Api.Presentation.Entities.MatchedRoute, Tfl.Api.Presentation.Entities",
          "destination": "940GZZLUBXN",
          "destinationName": "Brixton Underground Station",
          "direction": "inbound",
          "name": "Walthamstow Central Underground Station - Brixton Underground Station",
          "originationName": "Walthamstow Central Underground Station",
          "originator": "940GZZLUWWL",
          "serviceType": "Regular",
          "validFrom": "2021-06-12T00:00:00Z",
          "validTo": "2021-11-23T00:00:00Z"
         }
        ],
        "serviceTypes": [
         {
          "$type": "Tfl.Api.Presentation.Entities.LineServiceTypeInfo, Tfl.Api.Presentation.Entities",
          "name": "Regular",
          "uri": "/Line/Route?ids=Victoria&serviceTypes=Regular"
         },
         {
          "$type": "Tfl.Api.Presentation.Entities.LineServiceTypeInfo, Tfl.Api.Presentation.Entities",
          "name": "Night",
          "uri": "/Line/Route?ids=Victoria&serviceTypes=Night"
         }
        ]
       },
       {
        "$type": "Tfl.Api.Presentation.Entities.Line, Tfl.Api.Presentation.Entities",
        "created": "2021-06-22T18:41:11.16Z",
        "crowding": {
         "$type": "Tfl.Api.Presentation.Entities.Crowding, Tfl.Api.Presentation.Entities"
        },
        "disruptions": [],
        "id": "waterloo-city",
        "lineStatuses": [],
        "modeName": "tube",
        "modified": "2021-06-22T18:41:11.16Z",
        "name": "Waterloo & City",
        "routeSections": [
         {
          "$type": "Tfl.Api.Presentation.Entities.MatchedRoute, Tfl.Api.Presentation.Entities",
          "destination": "940GZZLUWLO",
          "destinationName": "Waterloo Underground Station",
          "direction": "inbound",
          "name": "Bank Underground Station - Waterloo Underground Station",
          "originationName": "Bank Underground Station",
          "originator": "940GZZLUBNK",
          "serviceType": "Regular",
          "validFrom": "2021-06-14T00:00:00Z",
          "validTo": "2021-11-23T00:00:00Z"
         },
         {
          "$type": "Tfl.Api.Presentation.Entities.MatchedRoute, Tfl.Api.Presentation.Entities",
          "destination": "940GZZLUBNK",
          "destinationName": "Bank Underground Station",
          "direction": "outbound",
          "name": "Waterloo Underground Station - Bank Underground Station",
          "originationName": "Waterloo Underground Station",
          "originator": "940GZZLUWLO",
          "serviceType": "Regular",
          "validFrom": "2021-06-14T00:00:00Z",
          "validTo": "2021-11-23T00:00:00Z"
         }
        ],
        "serviceTypes": [
         {
          "$type": "Tfl.Api.Presentation.Entities.LineServiceTypeInfo, Tfl.Api.Presentation.Entities",
          "name": "Regular",
          "uri": "/Line/Route?ids=Waterloo & City&serviceTypes=Regular"
         }
        ]
       }
      ],
      "text/plain": [
       "<IPython.core.display.JSON object>"
      ]
     },
     "execution_count": 69,
     "metadata": {
      "application/json": {
       "expanded": false,
       "root": "root"
      }
     },
     "output_type": "execute_result"
    }
   ],
   "source": [
    "modes = \"tube\"\n",
    "response_json = get_data(line_endpoint,\"Mode\",f\"/{modes}\",\"/Route\")\n",
    "\n",
    "tube_lines = []\n",
    "for tube in response_json:\n",
    "    tube_lines.append(tube[\"name\"])\n",
    "\n",
    "print(f\"Number of {modes} lines: {len(tube_lines)}\")\n",
    "print(f\"{modes.capitalize()} line names: {str(tube_lines)}\")\n",
    "\n",
    "JSON(response_json)"
   ]
  },
  {
   "cell_type": "code",
   "execution_count": 71,
   "id": "53d7c2ad-128a-4fc5-b18e-d69079b127aa",
   "metadata": {},
   "outputs": [
    {
     "name": "stdout",
     "output_type": "stream",
     "text": [
      "......... Data received successfully from https://api.tfl.gov.uk/Line/Mode//bus//Route\n",
      "Number of bus lines: 677\n"
     ]
    }
   ],
   "source": [
    "modes = \"bus\"\n",
    "response_json = get_data(line_endpoint,\"Mode\",f\"/{modes}\",\"/Route\")\n",
    "\n",
    "tube_lines = []\n",
    "for tube in response_json:\n",
    "    tube_lines.append(tube[\"name\"])\n",
    "\n",
    "print(f\"Number of {modes} lines: {len(tube_lines)}\")\n",
    "\n"
   ]
  },
  {
   "cell_type": "code",
   "execution_count": 73,
   "id": "52729a83-e44e-4bba-ba25-c5f19e687821",
   "metadata": {},
   "outputs": [
    {
     "name": "stdout",
     "output_type": "stream",
     "text": [
      "......... Data received successfully from https://api.tfl.gov.uk/Line/victoria,circle,N133\n"
     ]
    },
    {
     "data": {
      "application/json": [
       {
        "$type": "Tfl.Api.Presentation.Entities.Line, Tfl.Api.Presentation.Entities",
        "created": "2021-06-22T18:41:11.127Z",
        "crowding": {
         "$type": "Tfl.Api.Presentation.Entities.Crowding, Tfl.Api.Presentation.Entities"
        },
        "disruptions": [],
        "id": "circle",
        "lineStatuses": [],
        "modeName": "tube",
        "modified": "2021-06-22T18:41:11.127Z",
        "name": "Circle",
        "routeSections": [],
        "serviceTypes": [
         {
          "$type": "Tfl.Api.Presentation.Entities.LineServiceTypeInfo, Tfl.Api.Presentation.Entities",
          "name": "Regular",
          "uri": "/Line/Route?ids=Circle&serviceTypes=Regular"
         }
        ]
       },
       {
        "$type": "Tfl.Api.Presentation.Entities.Line, Tfl.Api.Presentation.Entities",
        "created": "2021-06-22T18:41:11.16Z",
        "crowding": {
         "$type": "Tfl.Api.Presentation.Entities.Crowding, Tfl.Api.Presentation.Entities"
        },
        "disruptions": [],
        "id": "n133",
        "lineStatuses": [],
        "modeName": "bus",
        "modified": "2021-06-22T18:41:11.16Z",
        "name": "N133",
        "routeSections": [],
        "serviceTypes": [
         {
          "$type": "Tfl.Api.Presentation.Entities.LineServiceTypeInfo, Tfl.Api.Presentation.Entities",
          "name": "Regular",
          "uri": "/Line/Route?ids=N133&serviceTypes=Regular"
         }
        ]
       },
       {
        "$type": "Tfl.Api.Presentation.Entities.Line, Tfl.Api.Presentation.Entities",
        "created": "2021-06-22T18:41:11.143Z",
        "crowding": {
         "$type": "Tfl.Api.Presentation.Entities.Crowding, Tfl.Api.Presentation.Entities"
        },
        "disruptions": [],
        "id": "victoria",
        "lineStatuses": [],
        "modeName": "tube",
        "modified": "2021-06-22T18:41:11.143Z",
        "name": "Victoria",
        "routeSections": [],
        "serviceTypes": [
         {
          "$type": "Tfl.Api.Presentation.Entities.LineServiceTypeInfo, Tfl.Api.Presentation.Entities",
          "name": "Regular",
          "uri": "/Line/Route?ids=Victoria&serviceTypes=Regular"
         },
         {
          "$type": "Tfl.Api.Presentation.Entities.LineServiceTypeInfo, Tfl.Api.Presentation.Entities",
          "name": "Night",
          "uri": "/Line/Route?ids=Victoria&serviceTypes=Night"
         }
        ]
       }
      ],
      "text/plain": [
       "<IPython.core.display.JSON object>"
      ]
     },
     "execution_count": 73,
     "metadata": {
      "application/json": {
       "expanded": false,
       "root": "root"
      }
     },
     "output_type": "execute_result"
    }
   ],
   "source": [
    "response_json = get_data(line_endpoint,\"victoria,circle,N133\")\n",
    "JSON(response_json)"
   ]
  },
  {
   "cell_type": "code",
   "execution_count": 76,
   "id": "2ec21433-4f20-4246-8d41-6d3b9d283c33",
   "metadata": {},
   "outputs": [
    {
     "name": "stdout",
     "output_type": "stream",
     "text": [
      "......... Data received successfully from https://api.tfl.gov.uk/Line//victoria//StopPoints\n",
      "Number of stations that serve victoria: 16\n"
     ]
    },
    {
     "data": {
      "application/json": [
       {
        "$type": "Tfl.Api.Presentation.Entities.StopPoint, Tfl.Api.Presentation.Entities",
        "additionalProperties": [
         {
          "$type": "Tfl.Api.Presentation.Entities.AdditionalProperties, Tfl.Api.Presentation.Entities",
          "category": "ServiceInfo",
          "key": "Night",
          "sourceSystemKey": "TransXchangeETL",
          "value": "yes"
         },
         {
          "$type": "Tfl.Api.Presentation.Entities.AdditionalProperties, Tfl.Api.Presentation.Entities",
          "category": "Facility",
          "key": "Help Points",
          "sourceSystemKey": "StaticObjects",
          "value": "0 on platforms, 0 in ticket halls, 0 elsewhere"
         },
         {
          "$type": "Tfl.Api.Presentation.Entities.AdditionalProperties, Tfl.Api.Presentation.Entities",
          "category": "Facility",
          "key": "Payphones",
          "sourceSystemKey": "StaticObjects",
          "value": "2"
         },
         {
          "$type": "Tfl.Api.Presentation.Entities.AdditionalProperties, Tfl.Api.Presentation.Entities",
          "category": "Geo",
          "key": "Zone",
          "sourceSystemKey": "StaticObjects",
          "value": "3"
         },
         {
          "$type": "Tfl.Api.Presentation.Entities.AdditionalProperties, Tfl.Api.Presentation.Entities",
          "category": "Facility",
          "key": "Bridge",
          "sourceSystemKey": "StaticObjects",
          "value": "no"
         },
         {
          "$type": "Tfl.Api.Presentation.Entities.AdditionalProperties, Tfl.Api.Presentation.Entities",
          "category": "Facility",
          "key": "Ticket Halls",
          "sourceSystemKey": "StaticObjects",
          "value": "1"
         },
         {
          "$type": "Tfl.Api.Presentation.Entities.AdditionalProperties, Tfl.Api.Presentation.Entities",
          "category": "Address",
          "key": "PhoneNo",
          "sourceSystemKey": "StaticObjects",
          "value": "0845 330 9880"
         },
         {
          "$type": "Tfl.Api.Presentation.Entities.AdditionalProperties, Tfl.Api.Presentation.Entities",
          "category": "Facility",
          "key": "Photo Booths",
          "sourceSystemKey": "StaticObjects",
          "value": "0"
         },
         {
          "$type": "Tfl.Api.Presentation.Entities.AdditionalProperties, Tfl.Api.Presentation.Entities",
          "category": "Facility",
          "key": "Waiting Room",
          "sourceSystemKey": "StaticObjects",
          "value": "no"
         },
         {
          "$type": "Tfl.Api.Presentation.Entities.AdditionalProperties, Tfl.Api.Presentation.Entities",
          "category": "Facility",
          "key": "Car park",
          "sourceSystemKey": "StaticObjects",
          "value": "no"
         },
         {
          "$type": "Tfl.Api.Presentation.Entities.AdditionalProperties, Tfl.Api.Presentation.Entities",
          "category": "Facility",
          "key": "Other Facilities",
          "sourceSystemKey": "StaticObjects",
          "value": "post office style queuing for tickets, routeways platform to ticket hall."
         },
         {
          "$type": "Tfl.Api.Presentation.Entities.AdditionalProperties, Tfl.Api.Presentation.Entities",
          "category": "Address",
          "key": "Address",
          "sourceSystemKey": "StaticObjects",
          "value": "Blackhorse Road Underground Station,London Underground Ltd.,Blackhorse Rd,London,E17 6ND"
         },
         {
          "$type": "Tfl.Api.Presentation.Entities.AdditionalProperties, Tfl.Api.Presentation.Entities",
          "category": "Facility",
          "key": "ASDA Click and Collect",
          "sourceSystemKey": "StaticObjects",
          "value": "yes"
         },
         {
          "$type": "Tfl.Api.Presentation.Entities.AdditionalProperties, Tfl.Api.Presentation.Entities",
          "category": "Facility",
          "key": "Cash Machines",
          "sourceSystemKey": "StaticObjects",
          "value": "0"
         },
         {
          "$type": "Tfl.Api.Presentation.Entities.AdditionalProperties, Tfl.Api.Presentation.Entities",
          "category": "Facility",
          "key": "Gates",
          "sourceSystemKey": "StaticObjects",
          "value": "5"
         },
         {
          "$type": "Tfl.Api.Presentation.Entities.AdditionalProperties, Tfl.Api.Presentation.Entities",
          "category": "Facility",
          "key": "Lifts",
          "sourceSystemKey": "StaticObjects",
          "value": "0"
         },
         {
          "$type": "Tfl.Api.Presentation.Entities.AdditionalProperties, Tfl.Api.Presentation.Entities",
          "category": "Facility",
          "key": "Toilets",
          "sourceSystemKey": "StaticObjects",
          "value": "no"
         },
         {
          "$type": "Tfl.Api.Presentation.Entities.AdditionalProperties, Tfl.Api.Presentation.Entities",
          "category": "Facility",
          "key": "Escalators",
          "sourceSystemKey": "StaticObjects",
          "value": "2"
         },
         {
          "$type": "Tfl.Api.Presentation.Entities.AdditionalProperties, Tfl.Api.Presentation.Entities",
          "category": "Facility",
          "key": "WiFi",
          "sourceSystemKey": "StaticObjects",
          "value": "yes"
         },
         {
          "$type": "Tfl.Api.Presentation.Entities.AdditionalProperties, Tfl.Api.Presentation.Entities",
          "category": "NearestPlaces",
          "key": "SourceSystemPlaceId",
          "sourceSystemKey": "StaticObjects",
          "value": "CarParks_800466"
         }
        ],
        "children": [
         {
          "$type": "Tfl.Api.Presentation.Entities.StopPoint, Tfl.Api.Presentation.Entities",
          "additionalProperties": [],
          "children": [],
          "commonName": "Blackhorse Road Underground Station",
          "hubNaptanCode": "HUBBHO",
          "icsCode": "1000024",
          "id": "9400ZZLUBLR1",
          "lat": 0,
          "lineGroup": [],
          "lineModeGroups": [],
          "lines": [],
          "lon": 0,
          "modes": [],
          "naptanId": "9400ZZLUBLR1",
          "placeType": "StopPoint",
          "stationNaptan": "940GZZLUBLR",
          "status": true
         }
        ],
        "commonName": "Blackhorse Road Underground Station",
        "hubNaptanCode": "HUBBHO",
        "icsCode": "1000024",
        "id": "940GZZLUBLR",
        "lat": 51.586919,
        "lineGroup": [
         {
          "$type": "Tfl.Api.Presentation.Entities.LineGroup, Tfl.Api.Presentation.Entities",
          "lineIdentifier": [
           "victoria"
          ],
          "stationAtcoCode": "940GZZLUBLR"
         }
        ],
        "lineModeGroups": [
         {
          "$type": "Tfl.Api.Presentation.Entities.LineModeGroup, Tfl.Api.Presentation.Entities",
          "lineIdentifier": [
           "victoria"
          ],
          "modeName": "tube"
         }
        ],
        "lines": [
         {
          "$type": "Tfl.Api.Presentation.Entities.Identifier, Tfl.Api.Presentation.Entities",
          "crowding": {
           "$type": "Tfl.Api.Presentation.Entities.Crowding, Tfl.Api.Presentation.Entities"
          },
          "id": "victoria",
          "name": "Victoria",
          "routeType": "Unknown",
          "status": "Unknown",
          "type": "Line",
          "uri": "/Line/victoria"
         }
        ],
        "lon": -0.04115,
        "modes": [
         "tube"
        ],
        "naptanId": "940GZZLUBLR",
        "placeType": "StopPoint",
        "stationNaptan": "940GZZLUBLR",
        "status": true,
        "stopType": "NaptanMetroStation"
       },
       {
        "$type": "Tfl.Api.Presentation.Entities.StopPoint, Tfl.Api.Presentation.Entities",
        "additionalProperties": [
         {
          "$type": "Tfl.Api.Presentation.Entities.AdditionalProperties, Tfl.Api.Presentation.Entities",
          "category": "ServiceInfo",
          "key": "Night",
          "sourceSystemKey": "TransXchangeETL",
          "value": "yes"
         },
         {
          "$type": "Tfl.Api.Presentation.Entities.AdditionalProperties, Tfl.Api.Presentation.Entities",
          "category": "Facility",
          "key": "Help Points",
          "sourceSystemKey": "StaticObjects",
          "value": "6 on platforms, 0 in ticket halls, 1 elsewhere"
         },
         {
          "$type": "Tfl.Api.Presentation.Entities.AdditionalProperties, Tfl.Api.Presentation.Entities",
          "category": "Address",
          "key": "PhoneNo",
          "sourceSystemKey": "StaticObjects",
          "value": "0845 330 9880"
         },
         {
          "$type": "Tfl.Api.Presentation.Entities.AdditionalProperties, Tfl.Api.Presentation.Entities",
          "category": "Facility",
          "key": "Waiting Room",
          "sourceSystemKey": "StaticObjects",
          "value": "no"
         },
         {
          "$type": "Tfl.Api.Presentation.Entities.AdditionalProperties, Tfl.Api.Presentation.Entities",
          "category": "Facility",
          "key": "Cash Machines",
          "sourceSystemKey": "StaticObjects",
          "value": "0"
         },
         {
          "$type": "Tfl.Api.Presentation.Entities.AdditionalProperties, Tfl.Api.Presentation.Entities",
          "category": "Facility",
          "key": "Escalators",
          "sourceSystemKey": "StaticObjects",
          "value": "2"
         },
         {
          "$type": "Tfl.Api.Presentation.Entities.AdditionalProperties, Tfl.Api.Presentation.Entities",
          "category": "Geo",
          "key": "Zone",
          "sourceSystemKey": "StaticObjects",
          "value": "2"
         },
         {
          "$type": "Tfl.Api.Presentation.Entities.AdditionalProperties, Tfl.Api.Presentation.Entities",
          "category": "Facility",
          "key": "Bridge",
          "sourceSystemKey": "StaticObjects",
          "value": "no"
         },
         {
          "$type": "Tfl.Api.Presentation.Entities.AdditionalProperties, Tfl.Api.Presentation.Entities",
          "category": "Facility",
          "key": "Car park",
          "sourceSystemKey": "StaticObjects",
          "value": "no"
         },
         {
          "$type": "Tfl.Api.Presentation.Entities.AdditionalProperties, Tfl.Api.Presentation.Entities",
          "category": "Facility",
          "key": "Toilets",
          "sourceSystemKey": "StaticObjects",
          "value": "no"
         },
         {
          "$type": "Tfl.Api.Presentation.Entities.AdditionalProperties, Tfl.Api.Presentation.Entities",
          "category": "Facility",
          "key": "Ticket Halls",
          "sourceSystemKey": "StaticObjects",
          "value": "1"
         },
         {
          "$type": "Tfl.Api.Presentation.Entities.AdditionalProperties, Tfl.Api.Presentation.Entities",
          "category": "Address",
          "key": "Address",
          "sourceSystemKey": "StaticObjects",
          "value": "Brixton Underground Station,London Underground Ltd.,Brixton Rd,London,SW9 8HE"
         },
         {
          "$type": "Tfl.Api.Presentation.Entities.AdditionalProperties, Tfl.Api.Presentation.Entities",
          "category": "Facility",
          "key": "Gates",
          "sourceSystemKey": "StaticObjects",
          "value": "9"
         },
         {
          "$type": "Tfl.Api.Presentation.Entities.AdditionalProperties, Tfl.Api.Presentation.Entities",
          "category": "Facility",
          "key": "Lifts",
          "sourceSystemKey": "StaticObjects",
          "value": "2"
         },
         {
          "$type": "Tfl.Api.Presentation.Entities.AdditionalProperties, Tfl.Api.Presentation.Entities",
          "category": "Facility",
          "key": "Photo Booths",
          "sourceSystemKey": "StaticObjects",
          "value": "0"
         },
         {
          "$type": "Tfl.Api.Presentation.Entities.AdditionalProperties, Tfl.Api.Presentation.Entities",
          "category": "Facility",
          "key": "Other Facilities",
          "sourceSystemKey": "StaticObjects",
          "value": "electronic whiteboards in ticket hall, routeways platform to ticket hall."
         },
         {
          "$type": "Tfl.Api.Presentation.Entities.AdditionalProperties, Tfl.Api.Presentation.Entities",
          "category": "Facility",
          "key": "WiFi",
          "sourceSystemKey": "StaticObjects",
          "value": "yes"
         },
         {
          "$type": "Tfl.Api.Presentation.Entities.AdditionalProperties, Tfl.Api.Presentation.Entities",
          "category": "Facility",
          "key": "Payphones",
          "sourceSystemKey": "StaticObjects",
          "value": "0"
         },
         {
          "$type": "Tfl.Api.Presentation.Entities.AdditionalProperties, Tfl.Api.Presentation.Entities",
          "category": "Accessibility",
          "key": "AccessViaLift",
          "sourceSystemKey": "LRAD",
          "value": "Yes"
         },
         {
          "$type": "Tfl.Api.Presentation.Entities.AdditionalProperties, Tfl.Api.Presentation.Entities",
          "category": "Accessibility",
          "key": "BlueBadgeCarParkSpaces",
          "sourceSystemKey": "LRAD",
          "value": "0"
         },
         {
          "$type": "Tfl.Api.Presentation.Entities.AdditionalProperties, Tfl.Api.Presentation.Entities",
          "category": "Accessibility",
          "key": "LimitedCapacityLift",
          "sourceSystemKey": "LRAD",
          "value": "No"
         },
         {
          "$type": "Tfl.Api.Presentation.Entities.AdditionalProperties, Tfl.Api.Presentation.Entities",
          "category": "Accessibility",
          "key": "SpecificEntranceRequired",
          "sourceSystemKey": "LRAD",
          "value": "No"
         },
         {
          "$type": "Tfl.Api.Presentation.Entities.AdditionalProperties, Tfl.Api.Presentation.Entities",
          "category": "Accessibility",
          "key": "TaxiRankOutsideStation",
          "sourceSystemKey": "LRAD",
          "value": "No"
         },
         {
          "$type": "Tfl.Api.Presentation.Entities.AdditionalProperties, Tfl.Api.Presentation.Entities",
          "category": "Accessibility",
          "key": "Toilet",
          "sourceSystemKey": "LRAD",
          "value": "No"
         },
         {
          "$type": "Tfl.Api.Presentation.Entities.AdditionalProperties, Tfl.Api.Presentation.Entities",
          "category": "NearestPlaces",
          "key": "SourceSystemPlaceId",
          "sourceSystemKey": "StaticObjects",
          "value": "BikePoints_831"
         },
         {
          "$type": "Tfl.Api.Presentation.Entities.AdditionalProperties, Tfl.Api.Presentation.Entities",
          "category": "NearestPlaces",
          "key": "SourceSystemPlaceId",
          "sourceSystemKey": "StaticObjects",
          "value": "BikePoints_833"
         }
        ],
        "children": [
         {
          "$type": "Tfl.Api.Presentation.Entities.StopPoint, Tfl.Api.Presentation.Entities",
          "additionalProperties": [],
          "children": [],
          "commonName": "Brixton Underground Station",
          "hubNaptanCode": "HUBBRX",
          "icsCode": "1000031",
          "id": "9400ZZLUBXN1",
          "lat": 0,
          "lineGroup": [],
          "lineModeGroups": [],
          "lines": [],
          "lon": 0,
          "modes": [],
          "naptanId": "9400ZZLUBXN1",
          "placeType": "StopPoint",
          "stationNaptan": "940GZZLUBXN",
          "status": true
         }
        ],
        "commonName": "Brixton Underground Station",
        "hubNaptanCode": "HUBBRX",
        "icsCode": "1000031",
        "id": "940GZZLUBXN",
        "lat": 51.462618,
        "lineGroup": [
         {
          "$type": "Tfl.Api.Presentation.Entities.LineGroup, Tfl.Api.Presentation.Entities",
          "lineIdentifier": [
           "victoria"
          ],
          "stationAtcoCode": "940GZZLUBXN"
         }
        ],
        "lineModeGroups": [
         {
          "$type": "Tfl.Api.Presentation.Entities.LineModeGroup, Tfl.Api.Presentation.Entities",
          "lineIdentifier": [
           "victoria"
          ],
          "modeName": "tube"
         }
        ],
        "lines": [
         {
          "$type": "Tfl.Api.Presentation.Entities.Identifier, Tfl.Api.Presentation.Entities",
          "crowding": {
           "$type": "Tfl.Api.Presentation.Entities.Crowding, Tfl.Api.Presentation.Entities"
          },
          "id": "victoria",
          "name": "Victoria",
          "routeType": "Unknown",
          "status": "Unknown",
          "type": "Line",
          "uri": "/Line/victoria"
         }
        ],
        "lon": -0.114888,
        "modes": [
         "tube"
        ],
        "naptanId": "940GZZLUBXN",
        "placeType": "StopPoint",
        "stationNaptan": "940GZZLUBXN",
        "status": true,
        "stopType": "NaptanMetroStation"
       },
       {
        "$type": "Tfl.Api.Presentation.Entities.StopPoint, Tfl.Api.Presentation.Entities",
        "additionalProperties": [
         {
          "$type": "Tfl.Api.Presentation.Entities.AdditionalProperties, Tfl.Api.Presentation.Entities",
          "category": "ServiceInfo",
          "key": "Night",
          "sourceSystemKey": "TransXchangeETL",
          "value": "yes"
         },
         {
          "$type": "Tfl.Api.Presentation.Entities.AdditionalProperties, Tfl.Api.Presentation.Entities",
          "category": "Address",
          "key": "PhoneNo",
          "sourceSystemKey": "StaticObjects",
          "value": "0845 330 9880"
         },
         {
          "$type": "Tfl.Api.Presentation.Entities.AdditionalProperties, Tfl.Api.Presentation.Entities",
          "category": "Facility",
          "key": "Bridge",
          "sourceSystemKey": "StaticObjects",
          "value": "no"
         },
         {
          "$type": "Tfl.Api.Presentation.Entities.AdditionalProperties, Tfl.Api.Presentation.Entities",
          "category": "Facility",
          "key": "Help Points",
          "sourceSystemKey": "StaticObjects",
          "value": "0 on platforms, 0 in ticket halls, 0 elsewhere"
         },
         {
          "$type": "Tfl.Api.Presentation.Entities.AdditionalProperties, Tfl.Api.Presentation.Entities",
          "category": "Facility",
          "key": "Other Facilities",
          "sourceSystemKey": "StaticObjects",
          "value": "electronic whiteboards in ticket hall, post office style queuing for tickets."
         },
         {
          "$type": "Tfl.Api.Presentation.Entities.AdditionalProperties, Tfl.Api.Presentation.Entities",
          "category": "Facility",
          "key": "Payphones",
          "sourceSystemKey": "StaticObjects",
          "value": "2"
         },
         {
          "$type": "Tfl.Api.Presentation.Entities.AdditionalProperties, Tfl.Api.Presentation.Entities",
          "category": "Facility",
          "key": "Boarding Ramps",
          "sourceSystemKey": "StaticObjects",
          "value": "yes London Overgrounnd and National Rail only"
         },
         {
          "$type": "Tfl.Api.Presentation.Entities.AdditionalProperties, Tfl.Api.Presentation.Entities",
          "category": "Facility",
          "key": "Toilets",
          "sourceSystemKey": "StaticObjects",
          "value": "yes"
         },
         {
          "$type": "Tfl.Api.Presentation.Entities.AdditionalProperties, Tfl.Api.Presentation.Entities",
          "category": "Facility",
          "key": "Waiting Room",
          "sourceSystemKey": "StaticObjects",
          "value": "no"
         },
         {
          "$type": "Tfl.Api.Presentation.Entities.AdditionalProperties, Tfl.Api.Presentation.Entities",
          "category": "Facility",
          "key": "WiFi",
          "sourceSystemKey": "StaticObjects",
          "value": "yes"
         },
         {
          "$type": "Tfl.Api.Presentation.Entities.AdditionalProperties, Tfl.Api.Presentation.Entities",
          "category": "Geo",
          "key": "Zone",
          "sourceSystemKey": "StaticObjects",
          "value": "1"
         },
         {
          "$type": "Tfl.Api.Presentation.Entities.AdditionalProperties, Tfl.Api.Presentation.Entities",
          "category": "Address",
          "key": "Address",
          "sourceSystemKey": "StaticObjects",
          "value": "Euston Underground Station,London Underground Ltd.,Eversholt St,London,NW1 2DU"
         },
         {
          "$type": "Tfl.Api.Presentation.Entities.AdditionalProperties, Tfl.Api.Presentation.Entities",
          "category": "Facility",
          "key": "Cash Machines",
          "sourceSystemKey": "StaticObjects",
          "value": "2"
         },
         {
          "$type": "Tfl.Api.Presentation.Entities.AdditionalProperties, Tfl.Api.Presentation.Entities",
          "category": "Facility",
          "key": "Gates",
          "sourceSystemKey": "StaticObjects",
          "value": "16"
         },
         {
          "$type": "Tfl.Api.Presentation.Entities.AdditionalProperties, Tfl.Api.Presentation.Entities",
          "category": "Facility",
          "key": "Euro Cash Machines",
          "sourceSystemKey": "StaticObjects",
          "value": "yes"
         },
         {
          "$type": "Tfl.Api.Presentation.Entities.AdditionalProperties, Tfl.Api.Presentation.Entities",
          "category": "Facility",
          "key": "Car park",
          "sourceSystemKey": "StaticObjects",
          "value": "no"
         },
         {
          "$type": "Tfl.Api.Presentation.Entities.AdditionalProperties, Tfl.Api.Presentation.Entities",
          "category": "Facility",
          "key": "Escalators",
          "sourceSystemKey": "StaticObjects",
          "value": "10"
         },
         {
          "$type": "Tfl.Api.Presentation.Entities.AdditionalProperties, Tfl.Api.Presentation.Entities",
          "category": "Facility",
          "key": "Lifts",
          "sourceSystemKey": "StaticObjects",
          "value": "0"
         },
         {
          "$type": "Tfl.Api.Presentation.Entities.AdditionalProperties, Tfl.Api.Presentation.Entities",
          "category": "Facility",
          "key": "Photo Booths",
          "sourceSystemKey": "StaticObjects",
          "value": "0"
         },
         {
          "$type": "Tfl.Api.Presentation.Entities.AdditionalProperties, Tfl.Api.Presentation.Entities",
          "category": "Facility",
          "key": "Ticket Halls",
          "sourceSystemKey": "StaticObjects",
          "value": "1"
         },
         {
          "$type": "Tfl.Api.Presentation.Entities.AdditionalProperties, Tfl.Api.Presentation.Entities",
          "category": "NearestPlaces",
          "key": "SourceSystemPlaceId",
          "sourceSystemKey": "StaticObjects",
          "value": "BikePoints_214"
         },
         {
          "$type": "Tfl.Api.Presentation.Entities.AdditionalProperties, Tfl.Api.Presentation.Entities",
          "category": "NearestPlaces",
          "key": "SourceSystemPlaceId",
          "sourceSystemKey": "StaticObjects",
          "value": "BikePoints_16"
         },
         {
          "$type": "Tfl.Api.Presentation.Entities.AdditionalProperties, Tfl.Api.Presentation.Entities",
          "category": "NearestPlaces",
          "key": "SourceSystemPlaceId",
          "sourceSystemKey": "StaticObjects",
          "value": "BikePoints_19"
         },
         {
          "$type": "Tfl.Api.Presentation.Entities.AdditionalProperties, Tfl.Api.Presentation.Entities",
          "category": "NearestPlaces",
          "key": "SourceSystemPlaceId",
          "sourceSystemKey": "StaticObjects",
          "value": "BikePoints_20"
         },
         {
          "$type": "Tfl.Api.Presentation.Entities.AdditionalProperties, Tfl.Api.Presentation.Entities",
          "category": "NearestPlaces",
          "key": "SourceSystemPlaceId",
          "sourceSystemKey": "StaticObjects",
          "value": "BikePoints_25"
         },
         {
          "$type": "Tfl.Api.Presentation.Entities.AdditionalProperties, Tfl.Api.Presentation.Entities",
          "category": "NearestPlaces",
          "key": "SourceSystemPlaceId",
          "sourceSystemKey": "StaticObjects",
          "value": "BikePoints_69"
         },
         {
          "$type": "Tfl.Api.Presentation.Entities.AdditionalProperties, Tfl.Api.Presentation.Entities",
          "category": "NearestPlaces",
          "key": "SourceSystemPlaceId",
          "sourceSystemKey": "StaticObjects",
          "value": "BikePoints_795"
         },
         {
          "$type": "Tfl.Api.Presentation.Entities.AdditionalProperties, Tfl.Api.Presentation.Entities",
          "category": "NearestPlaces",
          "key": "SourceSystemPlaceId",
          "sourceSystemKey": "StaticObjects",
          "value": "BikePoints_797"
         },
         {
          "$type": "Tfl.Api.Presentation.Entities.AdditionalProperties, Tfl.Api.Presentation.Entities",
          "category": "NearestPlaces",
          "key": "SourceSystemPlaceId",
          "sourceSystemKey": "StaticObjects",
          "value": "TaxiRank_5449"
         },
         {
          "$type": "Tfl.Api.Presentation.Entities.AdditionalProperties, Tfl.Api.Presentation.Entities",
          "category": "NearestPlaces",
          "key": "SourceSystemPlaceId",
          "sourceSystemKey": "StaticObjects",
          "value": "TaxiRank_4427"
         },
         {
          "$type": "Tfl.Api.Presentation.Entities.AdditionalProperties, Tfl.Api.Presentation.Entities",
          "category": "NearestPlaces",
          "key": "SourceSystemPlaceId",
          "sourceSystemKey": "StaticObjects",
          "value": "TaxiRank_4914"
         },
         {
          "$type": "Tfl.Api.Presentation.Entities.AdditionalProperties, Tfl.Api.Presentation.Entities",
          "category": "NearestPlaces",
          "key": "SourceSystemPlaceId",
          "sourceSystemKey": "StaticObjects",
          "value": "TaxiRank_5896"
         }
        ],
        "children": [
         {
          "$type": "Tfl.Api.Presentation.Entities.StopPoint, Tfl.Api.Presentation.Entities",
          "additionalProperties": [],
          "children": [],
          "commonName": "Euston Underground Station",
          "hubNaptanCode": "HUBEUS",
          "icsCode": "1000077",
          "id": "9400ZZLUEUS2",
          "lat": 0,
          "lineGroup": [],
          "lineModeGroups": [],
          "lines": [],
          "lon": 0,
          "modes": [],
          "naptanId": "9400ZZLUEUS2",
          "placeType": "StopPoint",
          "stationNaptan": "940GZZLUEUS",
          "status": true
         },
         {
          "$type": "Tfl.Api.Presentation.Entities.StopPoint, Tfl.Api.Presentation.Entities",
          "additionalProperties": [],
          "children": [],
          "commonName": "Euston Underground Station",
          "hubNaptanCode": "HUBEUS",
          "icsCode": "1000077",
          "id": "9400ZZLUEUS3",
          "lat": 51.528344,
          "lineGroup": [],
          "lineModeGroups": [],
          "lines": [],
          "lon": -0.1323,
          "modes": [],
          "naptanId": "9400ZZLUEUS3",
          "placeType": "StopPoint",
          "stationNaptan": "940GZZLUEUS",
          "status": true
         },
         {
          "$type": "Tfl.Api.Presentation.Entities.StopPoint, Tfl.Api.Presentation.Entities",
          "additionalProperties": [],
          "children": [],
          "commonName": "Euston Underground Station",
          "hubNaptanCode": "HUBEUS",
          "icsCode": "1000077",
          "id": "9400ZZLUEUS4",
          "lat": 0,
          "lineGroup": [],
          "lineModeGroups": [],
          "lines": [],
          "lon": 0,
          "modes": [],
          "naptanId": "9400ZZLUEUS4",
          "placeType": "StopPoint",
          "stationNaptan": "940GZZLUEUS",
          "status": true
         },
         {
          "$type": "Tfl.Api.Presentation.Entities.StopPoint, Tfl.Api.Presentation.Entities",
          "additionalProperties": [],
          "children": [],
          "commonName": "Euston Underground Station",
          "hubNaptanCode": "HUBEUS",
          "icsCode": "1000077",
          "id": "9400ZZLUEUS5",
          "lat": 0,
          "lineGroup": [],
          "lineModeGroups": [],
          "lines": [],
          "lon": 0,
          "modes": [],
          "naptanId": "9400ZZLUEUS5",
          "placeType": "StopPoint",
          "stationNaptan": "940GZZLUEUS",
          "status": true
         },
         {
          "$type": "Tfl.Api.Presentation.Entities.StopPoint, Tfl.Api.Presentation.Entities",
          "additionalProperties": [],
          "children": [],
          "commonName": "Euston Underground Station",
          "hubNaptanCode": "HUBEUS",
          "icsCode": "1000077",
          "id": "9400ZZLUEUS1",
          "lat": 0,
          "lineGroup": [],
          "lineModeGroups": [],
          "lines": [],
          "lon": 0,
          "modes": [],
          "naptanId": "9400ZZLUEUS1",
          "placeType": "StopPoint",
          "stationNaptan": "940GZZLUEUS",
          "status": true
         },
         {
          "$type": "Tfl.Api.Presentation.Entities.StopPoint, Tfl.Api.Presentation.Entities",
          "additionalProperties": [],
          "children": [],
          "commonName": "Euston Underground Station",
          "hubNaptanCode": "HUBEUS",
          "icsCode": "1000077",
          "id": "9400ZZLUEUS6",
          "lat": 0,
          "lineGroup": [],
          "lineModeGroups": [],
          "lines": [],
          "lon": 0,
          "modes": [],
          "naptanId": "9400ZZLUEUS6",
          "placeType": "StopPoint",
          "stationNaptan": "940GZZLUEUS",
          "status": true
         }
        ],
        "commonName": "Euston Underground Station",
        "hubNaptanCode": "HUBEUS",
        "icsCode": "1000077",
        "id": "940GZZLUEUS",
        "lat": 51.528344,
        "lineGroup": [
         {
          "$type": "Tfl.Api.Presentation.Entities.LineGroup, Tfl.Api.Presentation.Entities",
          "lineIdentifier": [
           "northern"
          ],
          "stationAtcoCode": "940GZZLUEUS"
         },
         {
          "$type": "Tfl.Api.Presentation.Entities.LineGroup, Tfl.Api.Presentation.Entities",
          "lineIdentifier": [
           "victoria"
          ],
          "stationAtcoCode": "940GZZLUEUS"
         }
        ],
        "lineModeGroups": [
         {
          "$type": "Tfl.Api.Presentation.Entities.LineModeGroup, Tfl.Api.Presentation.Entities",
          "lineIdentifier": [
           "northern",
           "victoria"
          ],
          "modeName": "tube"
         }
        ],
        "lines": [
         {
          "$type": "Tfl.Api.Presentation.Entities.Identifier, Tfl.Api.Presentation.Entities",
          "crowding": {
           "$type": "Tfl.Api.Presentation.Entities.Crowding, Tfl.Api.Presentation.Entities"
          },
          "id": "northern",
          "name": "Northern",
          "routeType": "Unknown",
          "status": "Unknown",
          "type": "Line",
          "uri": "/Line/northern"
         },
         {
          "$type": "Tfl.Api.Presentation.Entities.Identifier, Tfl.Api.Presentation.Entities",
          "crowding": {
           "$type": "Tfl.Api.Presentation.Entities.Crowding, Tfl.Api.Presentation.Entities"
          },
          "id": "victoria",
          "name": "Victoria",
          "routeType": "Unknown",
          "status": "Unknown",
          "type": "Line",
          "uri": "/Line/victoria"
         }
        ],
        "lon": -0.1323,
        "modes": [
         "tube"
        ],
        "naptanId": "940GZZLUEUS",
        "placeType": "StopPoint",
        "stationNaptan": "940GZZLUEUS",
        "status": true,
        "stopType": "NaptanMetroStation"
       },
       {
        "$type": "Tfl.Api.Presentation.Entities.StopPoint, Tfl.Api.Presentation.Entities",
        "additionalProperties": [
         {
          "$type": "Tfl.Api.Presentation.Entities.AdditionalProperties, Tfl.Api.Presentation.Entities",
          "category": "ServiceInfo",
          "key": "Night",
          "sourceSystemKey": "TransXchangeETL",
          "value": "yes"
         },
         {
          "$type": "Tfl.Api.Presentation.Entities.AdditionalProperties, Tfl.Api.Presentation.Entities",
          "category": "Address",
          "key": "PhoneNo",
          "sourceSystemKey": "StaticObjects",
          "value": "0845 330 9880"
         },
         {
          "$type": "Tfl.Api.Presentation.Entities.AdditionalProperties, Tfl.Api.Presentation.Entities",
          "category": "Opening Time",
          "key": "SunFrom",
          "sourceSystemKey": "StaticObjects",
          "value": "08:15"
         },
         {
          "$type": "Tfl.Api.Presentation.Entities.AdditionalProperties, Tfl.Api.Presentation.Entities",
          "category": "Facility",
          "key": "Cash Machines",
          "sourceSystemKey": "StaticObjects",
          "value": "2"
         },
         {
          "$type": "Tfl.Api.Presentation.Entities.AdditionalProperties, Tfl.Api.Presentation.Entities",
          "category": "Facility",
          "key": "Escalators",
          "sourceSystemKey": "StaticObjects",
          "value": "0"
         },
         {
          "$type": "Tfl.Api.Presentation.Entities.AdditionalProperties, Tfl.Api.Presentation.Entities",
          "category": "Opening Time",
          "key": "MonFriTo",
          "sourceSystemKey": "StaticObjects",
          "value": "21:15"
         },
         {
          "$type": "Tfl.Api.Presentation.Entities.AdditionalProperties, Tfl.Api.Presentation.Entities",
          "category": "Facility",
          "key": "Other Facilities",
          "sourceSystemKey": "StaticObjects",
          "value": "electronic whiteboards in ticket hall, subway to street, routeways platform to ticket hall."
         },
         {
          "$type": "Tfl.Api.Presentation.Entities.AdditionalProperties, Tfl.Api.Presentation.Entities",
          "category": "Opening Time",
          "key": "SatTo",
          "sourceSystemKey": "StaticObjects",
          "value": "22:30"
         },
         {
          "$type": "Tfl.Api.Presentation.Entities.AdditionalProperties, Tfl.Api.Presentation.Entities",
          "category": "Facility",
          "key": "Ticket Halls",
          "sourceSystemKey": "StaticObjects",
          "value": "1"
         },
         {
          "$type": "Tfl.Api.Presentation.Entities.AdditionalProperties, Tfl.Api.Presentation.Entities",
          "category": "Facility",
          "key": "Toilets",
          "sourceSystemKey": "StaticObjects",
          "value": "no"
         },
         {
          "$type": "Tfl.Api.Presentation.Entities.AdditionalProperties, Tfl.Api.Presentation.Entities",
          "category": "Facility",
          "key": "Bridge",
          "sourceSystemKey": "StaticObjects",
          "value": "no"
         },
         {
          "$type": "Tfl.Api.Presentation.Entities.AdditionalProperties, Tfl.Api.Presentation.Entities",
          "category": "Facility",
          "key": "Gates",
          "sourceSystemKey": "StaticObjects",
          "value": "0"
         },
         {
          "$type": "Tfl.Api.Presentation.Entities.AdditionalProperties, Tfl.Api.Presentation.Entities",
          "category": "Facility",
          "key": "Photo Booths",
          "sourceSystemKey": "StaticObjects",
          "value": "0"
         },
         {
          "$type": "Tfl.Api.Presentation.Entities.AdditionalProperties, Tfl.Api.Presentation.Entities",
          "category": "Opening Time",
          "key": "MonFriFrom",
          "sourceSystemKey": "StaticObjects",
          "value": "06:15"
         },
         {
          "$type": "Tfl.Api.Presentation.Entities.AdditionalProperties, Tfl.Api.Presentation.Entities",
          "category": "Facility",
          "key": "WiFi",
          "sourceSystemKey": "StaticObjects",
          "value": "yes"
         },
         {
          "$type": "Tfl.Api.Presentation.Entities.AdditionalProperties, Tfl.Api.Presentation.Entities",
          "category": "Facility",
          "key": "Euro Cash Machines",
          "sourceSystemKey": "StaticObjects",
          "value": "yes"
         },
         {
          "$type": "Tfl.Api.Presentation.Entities.AdditionalProperties, Tfl.Api.Presentation.Entities",
          "category": "Facility",
          "key": "Help Points",
          "sourceSystemKey": "StaticObjects",
          "value": "12 on platforms, 0 in ticket halls, 5 elsewhere"
         },
         {
          "$type": "Tfl.Api.Presentation.Entities.AdditionalProperties, Tfl.Api.Presentation.Entities",
          "category": "Facility",
          "key": "Lifts",
          "sourceSystemKey": "StaticObjects",
          "value": "1"
         },
         {
          "$type": "Tfl.Api.Presentation.Entities.AdditionalProperties, Tfl.Api.Presentation.Entities",
          "category": "Opening Time",
          "key": "SatFrom",
          "sourceSystemKey": "StaticObjects",
          "value": "07:00"
         },
         {
          "$type": "Tfl.Api.Presentation.Entities.AdditionalProperties, Tfl.Api.Presentation.Entities",
          "category": "Geo",
          "key": "Zone",
          "sourceSystemKey": "StaticObjects",
          "value": "2"
         },
         {
          "$type": "Tfl.Api.Presentation.Entities.AdditionalProperties, Tfl.Api.Presentation.Entities",
          "category": "Address",
          "key": "Address",
          "sourceSystemKey": "StaticObjects",
          "value": "Finsbury Park Underground Station,London Underground Ltd.,Wells Terrace,London,N4 3JU"
         },
         {
          "$type": "Tfl.Api.Presentation.Entities.AdditionalProperties, Tfl.Api.Presentation.Entities",
          "category": "Opening Time",
          "key": "SunTo",
          "sourceSystemKey": "StaticObjects",
          "value": "22:00"
         },
         {
          "$type": "Tfl.Api.Presentation.Entities.AdditionalProperties, Tfl.Api.Presentation.Entities",
          "category": "Facility",
          "key": "Car park",
          "sourceSystemKey": "StaticObjects",
          "value": "no"
         },
         {
          "$type": "Tfl.Api.Presentation.Entities.AdditionalProperties, Tfl.Api.Presentation.Entities",
          "category": "Facility",
          "key": "Payphones",
          "sourceSystemKey": "StaticObjects",
          "value": "4"
         },
         {
          "$type": "Tfl.Api.Presentation.Entities.AdditionalProperties, Tfl.Api.Presentation.Entities",
          "category": "Facility",
          "key": "Waiting Room",
          "sourceSystemKey": "StaticObjects",
          "value": "no"
         },
         {
          "$type": "Tfl.Api.Presentation.Entities.AdditionalProperties, Tfl.Api.Presentation.Entities",
          "category": "Accessibility",
          "key": "AccessViaLift",
          "sourceSystemKey": "LRAD",
          "value": "No"
         },
         {
          "$type": "Tfl.Api.Presentation.Entities.AdditionalProperties, Tfl.Api.Presentation.Entities",
          "category": "Accessibility",
          "key": "BlueBadgeCarParkSpaces",
          "sourceSystemKey": "LRAD",
          "value": "0"
         },
         {
          "$type": "Tfl.Api.Presentation.Entities.AdditionalProperties, Tfl.Api.Presentation.Entities",
          "category": "Accessibility",
          "key": "LimitedCapacityLift",
          "sourceSystemKey": "LRAD",
          "value": "No"
         },
         {
          "$type": "Tfl.Api.Presentation.Entities.AdditionalProperties, Tfl.Api.Presentation.Entities",
          "category": "Accessibility",
          "key": "TaxiRankOutsideStation",
          "sourceSystemKey": "LRAD",
          "value": "No"
         },
         {
          "$type": "Tfl.Api.Presentation.Entities.AdditionalProperties, Tfl.Api.Presentation.Entities",
          "category": "Accessibility",
          "key": "Toilet",
          "sourceSystemKey": "LRAD",
          "value": "No"
         },
         {
          "$type": "Tfl.Api.Presentation.Entities.AdditionalProperties, Tfl.Api.Presentation.Entities",
          "category": "NearestPlaces",
          "key": "SourceSystemPlaceId",
          "sourceSystemKey": "StaticObjects",
          "value": "TaxiRank_5870"
         }
        ],
        "children": [
         {
          "$type": "Tfl.Api.Presentation.Entities.StopPoint, Tfl.Api.Presentation.Entities",
          "additionalProperties": [],
          "children": [],
          "commonName": "Finsbury Park Underground Station",
          "hubNaptanCode": "HUBFPK",
          "icsCode": "1000083",
          "id": "9400ZZLUFPK1",
          "lat": 0,
          "lineGroup": [],
          "lineModeGroups": [],
          "lines": [],
          "lon": 0,
          "modes": [],
          "naptanId": "9400ZZLUFPK1",
          "placeType": "StopPoint",
          "stationNaptan": "940GZZLUFPK",
          "status": true
         },
         {
          "$type": "Tfl.Api.Presentation.Entities.StopPoint, Tfl.Api.Presentation.Entities",
          "additionalProperties": [],
          "children": [],
          "commonName": "Finsbury Park Underground Station",
          "hubNaptanCode": "HUBFPK",
          "icsCode": "1000083",
          "id": "9400ZZLUFPK2",
          "lat": 0,
          "lineGroup": [],
          "lineModeGroups": [],
          "lines": [],
          "lon": 0,
          "modes": [],
          "naptanId": "9400ZZLUFPK2",
          "placeType": "StopPoint",
          "stationNaptan": "940GZZLUFPK",
          "status": true
         },
         {
          "$type": "Tfl.Api.Presentation.Entities.StopPoint, Tfl.Api.Presentation.Entities",
          "additionalProperties": [],
          "children": [],
          "commonName": "Finsbury Park Underground Station",
          "hubNaptanCode": "HUBFPK",
          "icsCode": "1000083",
          "id": "9400ZZLUFPK3",
          "lat": 0,
          "lineGroup": [],
          "lineModeGroups": [],
          "lines": [],
          "lon": 0,
          "modes": [],
          "naptanId": "9400ZZLUFPK3",
          "placeType": "StopPoint",
          "stationNaptan": "940GZZLUFPK",
          "status": true
         },
         {
          "$type": "Tfl.Api.Presentation.Entities.StopPoint, Tfl.Api.Presentation.Entities",
          "additionalProperties": [],
          "children": [],
          "commonName": "Finsbury Park Underground Station",
          "hubNaptanCode": "HUBFPK",
          "icsCode": "1000083",
          "id": "9400ZZLUFPK4",
          "lat": 0,
          "lineGroup": [],
          "lineModeGroups": [],
          "lines": [],
          "lon": 0,
          "modes": [],
          "naptanId": "9400ZZLUFPK4",
          "placeType": "StopPoint",
          "stationNaptan": "940GZZLUFPK",
          "status": true
         }
        ],
        "commonName": "Finsbury Park Underground Station",
        "hubNaptanCode": "HUBFPK",
        "icsCode": "1000083",
        "id": "940GZZLUFPK",
        "lat": 51.564158,
        "lineGroup": [
         {
          "$type": "Tfl.Api.Presentation.Entities.LineGroup, Tfl.Api.Presentation.Entities",
          "lineIdentifier": [
           "piccadilly"
          ],
          "stationAtcoCode": "940GZZLUFPK"
         },
         {
          "$type": "Tfl.Api.Presentation.Entities.LineGroup, Tfl.Api.Presentation.Entities",
          "lineIdentifier": [
           "victoria"
          ],
          "stationAtcoCode": "940GZZLUFPK"
         }
        ],
        "lineModeGroups": [
         {
          "$type": "Tfl.Api.Presentation.Entities.LineModeGroup, Tfl.Api.Presentation.Entities",
          "lineIdentifier": [
           "piccadilly",
           "victoria"
          ],
          "modeName": "tube"
         }
        ],
        "lines": [
         {
          "$type": "Tfl.Api.Presentation.Entities.Identifier, Tfl.Api.Presentation.Entities",
          "crowding": {
           "$type": "Tfl.Api.Presentation.Entities.Crowding, Tfl.Api.Presentation.Entities"
          },
          "id": "piccadilly",
          "name": "Piccadilly",
          "routeType": "Unknown",
          "status": "Unknown",
          "type": "Line",
          "uri": "/Line/piccadilly"
         },
         {
          "$type": "Tfl.Api.Presentation.Entities.Identifier, Tfl.Api.Presentation.Entities",
          "crowding": {
           "$type": "Tfl.Api.Presentation.Entities.Crowding, Tfl.Api.Presentation.Entities"
          },
          "id": "victoria",
          "name": "Victoria",
          "routeType": "Unknown",
          "status": "Unknown",
          "type": "Line",
          "uri": "/Line/victoria"
         }
        ],
        "lon": -0.106825,
        "modes": [
         "tube"
        ],
        "naptanId": "940GZZLUFPK",
        "placeType": "StopPoint",
        "stationNaptan": "940GZZLUFPK",
        "status": true,
        "stopType": "NaptanMetroStation"
       },
       {
        "$type": "Tfl.Api.Presentation.Entities.StopPoint, Tfl.Api.Presentation.Entities",
        "additionalProperties": [
         {
          "$type": "Tfl.Api.Presentation.Entities.AdditionalProperties, Tfl.Api.Presentation.Entities",
          "category": "ServiceInfo",
          "key": "Night",
          "sourceSystemKey": "TransXchangeETL",
          "value": "yes"
         },
         {
          "$type": "Tfl.Api.Presentation.Entities.AdditionalProperties, Tfl.Api.Presentation.Entities",
          "category": "Address",
          "key": "PhoneNo",
          "sourceSystemKey": "StaticObjects",
          "value": "0845 330 9880"
         },
         {
          "$type": "Tfl.Api.Presentation.Entities.AdditionalProperties, Tfl.Api.Presentation.Entities",
          "category": "Facility",
          "key": "Waiting Room",
          "sourceSystemKey": "StaticObjects",
          "value": "no"
         },
         {
          "$type": "Tfl.Api.Presentation.Entities.AdditionalProperties, Tfl.Api.Presentation.Entities",
          "category": "Facility",
          "key": "Euro Cash Machines",
          "sourceSystemKey": "StaticObjects",
          "value": "yes"
         },
         {
          "$type": "Tfl.Api.Presentation.Entities.AdditionalProperties, Tfl.Api.Presentation.Entities",
          "category": "Facility",
          "key": "Toilets",
          "sourceSystemKey": "StaticObjects",
          "value": "no"
         },
         {
          "$type": "Tfl.Api.Presentation.Entities.AdditionalProperties, Tfl.Api.Presentation.Entities",
          "category": "Address",
          "key": "Address",
          "sourceSystemKey": "StaticObjects",
          "value": "Green Park Station,London Underground Ltd.,Piccadilly,London,W1J 9DZ"
         },
         {
          "$type": "Tfl.Api.Presentation.Entities.AdditionalProperties, Tfl.Api.Presentation.Entities",
          "category": "Facility",
          "key": "Gates",
          "sourceSystemKey": "StaticObjects",
          "value": "13"
         },
         {
          "$type": "Tfl.Api.Presentation.Entities.AdditionalProperties, Tfl.Api.Presentation.Entities",
          "category": "Facility",
          "key": "WiFi",
          "sourceSystemKey": "StaticObjects",
          "value": "yes"
         },
         {
          "$type": "Tfl.Api.Presentation.Entities.AdditionalProperties, Tfl.Api.Presentation.Entities",
          "category": "Geo",
          "key": "Zone",
          "sourceSystemKey": "StaticObjects",
          "value": "1"
         },
         {
          "$type": "Tfl.Api.Presentation.Entities.AdditionalProperties, Tfl.Api.Presentation.Entities",
          "category": "Facility",
          "key": "Other Facilities",
          "sourceSystemKey": "StaticObjects",
          "value": "electronic whiteboards in ticket hall, subway to street, routeways platform to ticket hall."
         },
         {
          "$type": "Tfl.Api.Presentation.Entities.AdditionalProperties, Tfl.Api.Presentation.Entities",
          "category": "Facility",
          "key": "Ticket Halls",
          "sourceSystemKey": "StaticObjects",
          "value": "1"
         },
         {
          "$type": "Tfl.Api.Presentation.Entities.AdditionalProperties, Tfl.Api.Presentation.Entities",
          "category": "Facility",
          "key": "Help Points",
          "sourceSystemKey": "StaticObjects",
          "value": "0 on platforms, 0 in ticket halls, 0 elsewhere"
         },
         {
          "$type": "Tfl.Api.Presentation.Entities.AdditionalProperties, Tfl.Api.Presentation.Entities",
          "category": "Facility",
          "key": "Lifts",
          "sourceSystemKey": "StaticObjects",
          "value": "5"
         },
         {
          "$type": "Tfl.Api.Presentation.Entities.AdditionalProperties, Tfl.Api.Presentation.Entities",
          "category": "Facility",
          "key": "Bridge",
          "sourceSystemKey": "StaticObjects",
          "value": "no"
         },
         {
          "$type": "Tfl.Api.Presentation.Entities.AdditionalProperties, Tfl.Api.Presentation.Entities",
          "category": "Facility",
          "key": "Car park",
          "sourceSystemKey": "StaticObjects",
          "value": "no"
         },
         {
          "$type": "Tfl.Api.Presentation.Entities.AdditionalProperties, Tfl.Api.Presentation.Entities",
          "category": "Facility",
          "key": "Cash Machines",
          "sourceSystemKey": "StaticObjects",
          "value": "1"
         },
         {
          "$type": "Tfl.Api.Presentation.Entities.AdditionalProperties, Tfl.Api.Presentation.Entities",
          "category": "Facility",
          "key": "Escalators",
          "sourceSystemKey": "StaticObjects",
          "value": "11"
         },
         {
          "$type": "Tfl.Api.Presentation.Entities.AdditionalProperties, Tfl.Api.Presentation.Entities",
          "category": "Facility",
          "key": "Payphones",
          "sourceSystemKey": "StaticObjects",
          "value": "4"
         },
         {
          "$type": "Tfl.Api.Presentation.Entities.AdditionalProperties, Tfl.Api.Presentation.Entities",
          "category": "Facility",
          "key": "Photo Booths",
          "sourceSystemKey": "StaticObjects",
          "value": "0"
         },
         {
          "$type": "Tfl.Api.Presentation.Entities.AdditionalProperties, Tfl.Api.Presentation.Entities",
          "category": "Accessibility",
          "key": "AccessViaLift",
          "sourceSystemKey": "LRAD",
          "value": "Yes"
         },
         {
          "$type": "Tfl.Api.Presentation.Entities.AdditionalProperties, Tfl.Api.Presentation.Entities",
          "category": "Accessibility",
          "key": "AddtionalInformation",
          "sourceSystemKey": "LRAD",
          "value": "You need to make a 220m journey to change between the Jubilee and the Piccadilly line, a  160m journey to change between the Victoria  and the Piccadilly line and a 380m journey to  change between the Victoria and the Jubilee line"
         },
         {
          "$type": "Tfl.Api.Presentation.Entities.AdditionalProperties, Tfl.Api.Presentation.Entities",
          "category": "Accessibility",
          "key": "BlueBadgeCarParkSpaces",
          "sourceSystemKey": "LRAD",
          "value": "0"
         },
         {
          "$type": "Tfl.Api.Presentation.Entities.AdditionalProperties, Tfl.Api.Presentation.Entities",
          "category": "Accessibility",
          "key": "LimitedCapacityLift",
          "sourceSystemKey": "LRAD",
          "value": "No"
         },
         {
          "$type": "Tfl.Api.Presentation.Entities.AdditionalProperties, Tfl.Api.Presentation.Entities",
          "category": "Accessibility",
          "key": "SpecificEntranceRequired",
          "sourceSystemKey": "LRAD",
          "value": "No"
         },
         {
          "$type": "Tfl.Api.Presentation.Entities.AdditionalProperties, Tfl.Api.Presentation.Entities",
          "category": "Accessibility",
          "key": "TaxiRankOutsideStation",
          "sourceSystemKey": "LRAD",
          "value": "No"
         },
         {
          "$type": "Tfl.Api.Presentation.Entities.AdditionalProperties, Tfl.Api.Presentation.Entities",
          "category": "Accessibility",
          "key": "Toilet",
          "sourceSystemKey": "LRAD",
          "value": "No"
         },
         {
          "$type": "Tfl.Api.Presentation.Entities.AdditionalProperties, Tfl.Api.Presentation.Entities",
          "category": "NearestPlaces",
          "key": "SourceSystemPlaceId",
          "sourceSystemKey": "StaticObjects",
          "value": "BikePoints_44"
         },
         {
          "$type": "Tfl.Api.Presentation.Entities.AdditionalProperties, Tfl.Api.Presentation.Entities",
          "category": "NearestPlaces",
          "key": "SourceSystemPlaceId",
          "sourceSystemKey": "StaticObjects",
          "value": "BikePoints_49"
         },
         {
          "$type": "Tfl.Api.Presentation.Entities.AdditionalProperties, Tfl.Api.Presentation.Entities",
          "category": "NearestPlaces",
          "key": "SourceSystemPlaceId",
          "sourceSystemKey": "StaticObjects",
          "value": "BikePoints_53"
         },
         {
          "$type": "Tfl.Api.Presentation.Entities.AdditionalProperties, Tfl.Api.Presentation.Entities",
          "category": "NearestPlaces",
          "key": "SourceSystemPlaceId",
          "sourceSystemKey": "StaticObjects",
          "value": "BikePoints_528"
         },
         {
          "$type": "Tfl.Api.Presentation.Entities.AdditionalProperties, Tfl.Api.Presentation.Entities",
          "category": "NearestPlaces",
          "key": "SourceSystemPlaceId",
          "sourceSystemKey": "StaticObjects",
          "value": "BikePoints_541"
         },
         {
          "$type": "Tfl.Api.Presentation.Entities.AdditionalProperties, Tfl.Api.Presentation.Entities",
          "category": "NearestPlaces",
          "key": "SourceSystemPlaceId",
          "sourceSystemKey": "StaticObjects",
          "value": "BikePoints_318"
         },
         {
          "$type": "Tfl.Api.Presentation.Entities.AdditionalProperties, Tfl.Api.Presentation.Entities",
          "category": "NearestPlaces",
          "key": "SourceSystemPlaceId",
          "sourceSystemKey": "StaticObjects",
          "value": "BikePoints_382"
         },
         {
          "$type": "Tfl.Api.Presentation.Entities.AdditionalProperties, Tfl.Api.Presentation.Entities",
          "category": "NearestPlaces",
          "key": "SourceSystemPlaceId",
          "sourceSystemKey": "StaticObjects",
          "value": "BikePoints_391"
         },
         {
          "$type": "Tfl.Api.Presentation.Entities.AdditionalProperties, Tfl.Api.Presentation.Entities",
          "category": "NearestPlaces",
          "key": "SourceSystemPlaceId",
          "sourceSystemKey": "StaticObjects",
          "value": "TaxiRank_5252"
         },
         {
          "$type": "Tfl.Api.Presentation.Entities.AdditionalProperties, Tfl.Api.Presentation.Entities",
          "category": "NearestPlaces",
          "key": "SourceSystemPlaceId",
          "sourceSystemKey": "StaticObjects",
          "value": "TaxiRank_5510"
         },
         {
          "$type": "Tfl.Api.Presentation.Entities.AdditionalProperties, Tfl.Api.Presentation.Entities",
          "category": "NearestPlaces",
          "key": "SourceSystemPlaceId",
          "sourceSystemKey": "StaticObjects",
          "value": "TaxiRank_5821"
         },
         {
          "$type": "Tfl.Api.Presentation.Entities.AdditionalProperties, Tfl.Api.Presentation.Entities",
          "category": "NearestPlaces",
          "key": "SourceSystemPlaceId",
          "sourceSystemKey": "StaticObjects",
          "value": "TaxiRank_5868"
         },
         {
          "$type": "Tfl.Api.Presentation.Entities.AdditionalProperties, Tfl.Api.Presentation.Entities",
          "category": "NearestPlaces",
          "key": "SourceSystemPlaceId",
          "sourceSystemKey": "StaticObjects",
          "value": "TaxiRank_5191"
         },
         {
          "$type": "Tfl.Api.Presentation.Entities.AdditionalProperties, Tfl.Api.Presentation.Entities",
          "category": "NearestPlaces",
          "key": "SourceSystemPlaceId",
          "sourceSystemKey": "StaticObjects",
          "value": "TaxiRank_3451"
         },
         {
          "$type": "Tfl.Api.Presentation.Entities.AdditionalProperties, Tfl.Api.Presentation.Entities",
          "category": "NearestPlaces",
          "key": "SourceSystemPlaceId",
          "sourceSystemKey": "StaticObjects",
          "value": "TaxiRank_5014"
         },
         {
          "$type": "Tfl.Api.Presentation.Entities.AdditionalProperties, Tfl.Api.Presentation.Entities",
          "category": "NearestPlaces",
          "key": "SourceSystemPlaceId",
          "sourceSystemKey": "StaticObjects",
          "value": "TaxiRank_5862"
         },
         {
          "$type": "Tfl.Api.Presentation.Entities.AdditionalProperties, Tfl.Api.Presentation.Entities",
          "category": "NearestPlaces",
          "key": "SourceSystemPlaceId",
          "sourceSystemKey": "StaticObjects",
          "value": "TaxiRank_5778"
         },
         {
          "$type": "Tfl.Api.Presentation.Entities.AdditionalProperties, Tfl.Api.Presentation.Entities",
          "category": "NearestPlaces",
          "key": "SourceSystemPlaceId",
          "sourceSystemKey": "StaticObjects",
          "value": "TaxiRank_4706"
         },
         {
          "$type": "Tfl.Api.Presentation.Entities.AdditionalProperties, Tfl.Api.Presentation.Entities",
          "category": "NearestPlaces",
          "key": "SourceSystemPlaceId",
          "sourceSystemKey": "StaticObjects",
          "value": "TaxiRank_5594"
         },
         {
          "$type": "Tfl.Api.Presentation.Entities.AdditionalProperties, Tfl.Api.Presentation.Entities",
          "category": "NearestPlaces",
          "key": "SourceSystemPlaceId",
          "sourceSystemKey": "StaticObjects",
          "value": "TaxiRank_4182"
         },
         {
          "$type": "Tfl.Api.Presentation.Entities.AdditionalProperties, Tfl.Api.Presentation.Entities",
          "category": "NearestPlaces",
          "key": "SourceSystemPlaceId",
          "sourceSystemKey": "StaticObjects",
          "value": "TaxiRank_4623"
         },
         {
          "$type": "Tfl.Api.Presentation.Entities.AdditionalProperties, Tfl.Api.Presentation.Entities",
          "category": "NearestPlaces",
          "key": "SourceSystemPlaceId",
          "sourceSystemKey": "StaticObjects",
          "value": "TaxiRank_5714"
         },
         {
          "$type": "Tfl.Api.Presentation.Entities.AdditionalProperties, Tfl.Api.Presentation.Entities",
          "category": "NearestPlaces",
          "key": "SourceSystemPlaceId",
          "sourceSystemKey": "StaticObjects",
          "value": "TaxiRank_5647"
         },
         {
          "$type": "Tfl.Api.Presentation.Entities.AdditionalProperties, Tfl.Api.Presentation.Entities",
          "category": "NearestPlaces",
          "key": "SourceSystemPlaceId",
          "sourceSystemKey": "StaticObjects",
          "value": "TaxiRank_5811"
         },
         {
          "$type": "Tfl.Api.Presentation.Entities.AdditionalProperties, Tfl.Api.Presentation.Entities",
          "category": "NearestPlaces",
          "key": "SourceSystemPlaceId",
          "sourceSystemKey": "StaticObjects",
          "value": "TaxiRank_5863"
         },
         {
          "$type": "Tfl.Api.Presentation.Entities.AdditionalProperties, Tfl.Api.Presentation.Entities",
          "category": "NearestPlaces",
          "key": "SourceSystemPlaceId",
          "sourceSystemKey": "StaticObjects",
          "value": "TaxiRank_5351"
         },
         {
          "$type": "Tfl.Api.Presentation.Entities.AdditionalProperties, Tfl.Api.Presentation.Entities",
          "category": "NearestPlaces",
          "key": "SourceSystemPlaceId",
          "sourceSystemKey": "StaticObjects",
          "value": "TaxiRank_4875"
         },
         {
          "$type": "Tfl.Api.Presentation.Entities.AdditionalProperties, Tfl.Api.Presentation.Entities",
          "category": "NearestPlaces",
          "key": "SourceSystemPlaceId",
          "sourceSystemKey": "StaticObjects",
          "value": "TaxiRank_4150"
         },
         {
          "$type": "Tfl.Api.Presentation.Entities.AdditionalProperties, Tfl.Api.Presentation.Entities",
          "category": "NearestPlaces",
          "key": "SourceSystemPlaceId",
          "sourceSystemKey": "StaticObjects",
          "value": "TaxiRank_5317"
         },
         {
          "$type": "Tfl.Api.Presentation.Entities.AdditionalProperties, Tfl.Api.Presentation.Entities",
          "category": "NearestPlaces",
          "key": "SourceSystemPlaceId",
          "sourceSystemKey": "StaticObjects",
          "value": "TaxiRank_4863"
         },
         {
          "$type": "Tfl.Api.Presentation.Entities.AdditionalProperties, Tfl.Api.Presentation.Entities",
          "category": "NearestPlaces",
          "key": "SourceSystemPlaceId",
          "sourceSystemKey": "StaticObjects",
          "value": "TaxiRank_5713"
         },
         {
          "$type": "Tfl.Api.Presentation.Entities.AdditionalProperties, Tfl.Api.Presentation.Entities",
          "category": "NearestPlaces",
          "key": "SourceSystemPlaceId",
          "sourceSystemKey": "StaticObjects",
          "value": "TaxiRank_5651"
         },
         {
          "$type": "Tfl.Api.Presentation.Entities.AdditionalProperties, Tfl.Api.Presentation.Entities",
          "category": "NearestPlaces",
          "key": "SourceSystemPlaceId",
          "sourceSystemKey": "StaticObjects",
          "value": "TaxiRank_5363"
         },
         {
          "$type": "Tfl.Api.Presentation.Entities.AdditionalProperties, Tfl.Api.Presentation.Entities",
          "category": "NearestPlaces",
          "key": "SourceSystemPlaceId",
          "sourceSystemKey": "StaticObjects",
          "value": "TaxiRank_5323"
         },
         {
          "$type": "Tfl.Api.Presentation.Entities.AdditionalProperties, Tfl.Api.Presentation.Entities",
          "category": "NearestPlaces",
          "key": "SourceSystemPlaceId",
          "sourceSystemKey": "StaticObjects",
          "value": "TaxiRank_5099"
         },
         {
          "$type": "Tfl.Api.Presentation.Entities.AdditionalProperties, Tfl.Api.Presentation.Entities",
          "category": "NearestPlaces",
          "key": "SourceSystemPlaceId",
          "sourceSystemKey": "StaticObjects",
          "value": "TaxiRank_5715"
         },
         {
          "$type": "Tfl.Api.Presentation.Entities.AdditionalProperties, Tfl.Api.Presentation.Entities",
          "category": "NearestPlaces",
          "key": "SourceSystemPlaceId",
          "sourceSystemKey": "StaticObjects",
          "value": "TaxiRank_4475"
         },
         {
          "$type": "Tfl.Api.Presentation.Entities.AdditionalProperties, Tfl.Api.Presentation.Entities",
          "category": "NearestPlaces",
          "key": "SourceSystemPlaceId",
          "sourceSystemKey": "StaticObjects",
          "value": "TaxiRank_5267"
         },
         {
          "$type": "Tfl.Api.Presentation.Entities.AdditionalProperties, Tfl.Api.Presentation.Entities",
          "category": "NearestPlaces",
          "key": "SourceSystemPlaceId",
          "sourceSystemKey": "StaticObjects",
          "value": "TaxiRank_5687"
         },
         {
          "$type": "Tfl.Api.Presentation.Entities.AdditionalProperties, Tfl.Api.Presentation.Entities",
          "category": "NearestPlaces",
          "key": "SourceSystemPlaceId",
          "sourceSystemKey": "StaticObjects",
          "value": "TaxiRank_5861"
         },
         {
          "$type": "Tfl.Api.Presentation.Entities.AdditionalProperties, Tfl.Api.Presentation.Entities",
          "category": "NearestPlaces",
          "key": "SourceSystemPlaceId",
          "sourceSystemKey": "StaticObjects",
          "value": "TaxiRank_5600"
         },
         {
          "$type": "Tfl.Api.Presentation.Entities.AdditionalProperties, Tfl.Api.Presentation.Entities",
          "category": "NearestPlaces",
          "key": "SourceSystemPlaceId",
          "sourceSystemKey": "StaticObjects",
          "value": "TaxiRank_5800"
         },
         {
          "$type": "Tfl.Api.Presentation.Entities.AdditionalProperties, Tfl.Api.Presentation.Entities",
          "category": "NearestPlaces",
          "key": "SourceSystemPlaceId",
          "sourceSystemKey": "StaticObjects",
          "value": "TaxiRank_4949"
         }
        ],
        "children": [
         {
          "$type": "Tfl.Api.Presentation.Entities.StopPoint, Tfl.Api.Presentation.Entities",
          "additionalProperties": [],
          "children": [],
          "commonName": "Green Park Underground Station",
          "icsCode": "1000093",
          "id": "9400ZZLUGPK2",
          "lat": 0,
          "lineGroup": [],
          "lineModeGroups": [],
          "lines": [],
          "lon": 0,
          "modes": [],
          "naptanId": "9400ZZLUGPK2",
          "placeType": "StopPoint",
          "stationNaptan": "940GZZLUGPK",
          "status": true
         },
         {
          "$type": "Tfl.Api.Presentation.Entities.StopPoint, Tfl.Api.Presentation.Entities",
          "additionalProperties": [],
          "children": [],
          "commonName": "Green Park Underground Station",
          "icsCode": "1000093",
          "id": "9400ZZLUGPK3",
          "lat": 0,
          "lineGroup": [],
          "lineModeGroups": [],
          "lines": [],
          "lon": 0,
          "modes": [],
          "naptanId": "9400ZZLUGPK3",
          "placeType": "StopPoint",
          "stationNaptan": "940GZZLUGPK",
          "status": true
         },
         {
          "$type": "Tfl.Api.Presentation.Entities.StopPoint, Tfl.Api.Presentation.Entities",
          "additionalProperties": [],
          "children": [],
          "commonName": "Green Park Underground Station",
          "icsCode": "1000093",
          "id": "9400ZZLUGPK4",
          "lat": 0,
          "lineGroup": [],
          "lineModeGroups": [],
          "lines": [],
          "lon": 0,
          "modes": [],
          "naptanId": "9400ZZLUGPK4",
          "placeType": "StopPoint",
          "stationNaptan": "940GZZLUGPK",
          "status": true
         },
         {
          "$type": "Tfl.Api.Presentation.Entities.StopPoint, Tfl.Api.Presentation.Entities",
          "additionalProperties": [],
          "children": [],
          "commonName": "Green Park Underground Station",
          "icsCode": "1000093",
          "id": "9400ZZLUGPK1",
          "lat": 0,
          "lineGroup": [],
          "lineModeGroups": [],
          "lines": [],
          "lon": 0,
          "modes": [],
          "naptanId": "9400ZZLUGPK1",
          "placeType": "StopPoint",
          "stationNaptan": "940GZZLUGPK",
          "status": true
         },
         {
          "$type": "Tfl.Api.Presentation.Entities.StopPoint, Tfl.Api.Presentation.Entities",
          "additionalProperties": [],
          "children": [],
          "commonName": "Green Park Underground Station",
          "icsCode": "1000093",
          "id": "9400ZZLUGPK5",
          "lat": 0,
          "lineGroup": [],
          "lineModeGroups": [],
          "lines": [],
          "lon": 0,
          "modes": [],
          "naptanId": "9400ZZLUGPK5",
          "placeType": "StopPoint",
          "stationNaptan": "940GZZLUGPK",
          "status": true
         }
        ],
        "commonName": "Green Park Underground Station",
        "icsCode": "1000093",
        "id": "940GZZLUGPK",
        "lat": 51.506947,
        "lineGroup": [
         {
          "$type": "Tfl.Api.Presentation.Entities.LineGroup, Tfl.Api.Presentation.Entities",
          "lineIdentifier": [
           "14",
           "19",
           "38",
           "6",
           "9",
           "n19",
           "n38",
           "n9",
           "n97"
          ],
          "naptanIdReference": "490000093PB",
          "stationAtcoCode": "490G00093PE"
         },
         {
          "$type": "Tfl.Api.Presentation.Entities.LineGroup, Tfl.Api.Presentation.Entities",
          "lineIdentifier": [
           "14",
           "19",
           "22",
           "38",
           "6",
           "9",
           "n19",
           "n22",
           "n38",
           "n9",
           "n97"
          ],
          "naptanIdReference": "490000093PE",
          "stationAtcoCode": "490G00093PE"
         },
         {
          "$type": "Tfl.Api.Presentation.Entities.LineGroup, Tfl.Api.Presentation.Entities",
          "lineIdentifier": [
           "22",
           "n22"
          ],
          "naptanIdReference": "490000093PA",
          "stationAtcoCode": "490G00093PE"
         },
         {
          "$type": "Tfl.Api.Presentation.Entities.LineGroup, Tfl.Api.Presentation.Entities",
          "lineIdentifier": [
           "jubilee"
          ],
          "stationAtcoCode": "940GZZLUGPK"
         },
         {
          "$type": "Tfl.Api.Presentation.Entities.LineGroup, Tfl.Api.Presentation.Entities",
          "lineIdentifier": [
           "piccadilly"
          ],
          "stationAtcoCode": "940GZZLUGPK"
         },
         {
          "$type": "Tfl.Api.Presentation.Entities.LineGroup, Tfl.Api.Presentation.Entities",
          "lineIdentifier": [
           "victoria"
          ],
          "stationAtcoCode": "940GZZLUGPK"
         }
        ],
        "lineModeGroups": [
         {
          "$type": "Tfl.Api.Presentation.Entities.LineModeGroup, Tfl.Api.Presentation.Entities",
          "lineIdentifier": [
           "14",
           "19",
           "22",
           "38",
           "6",
           "9",
           "n19",
           "n22",
           "n38",
           "n9",
           "n97"
          ],
          "modeName": "bus"
         },
         {
          "$type": "Tfl.Api.Presentation.Entities.LineModeGroup, Tfl.Api.Presentation.Entities",
          "lineIdentifier": [
           "jubilee",
           "piccadilly",
           "victoria"
          ],
          "modeName": "tube"
         }
        ],
        "lines": [
         {
          "$type": "Tfl.Api.Presentation.Entities.Identifier, Tfl.Api.Presentation.Entities",
          "crowding": {
           "$type": "Tfl.Api.Presentation.Entities.Crowding, Tfl.Api.Presentation.Entities"
          },
          "id": "14",
          "name": "14",
          "routeType": "Unknown",
          "status": "Unknown",
          "type": "Line",
          "uri": "/Line/14"
         },
         {
          "$type": "Tfl.Api.Presentation.Entities.Identifier, Tfl.Api.Presentation.Entities",
          "crowding": {
           "$type": "Tfl.Api.Presentation.Entities.Crowding, Tfl.Api.Presentation.Entities"
          },
          "id": "19",
          "name": "19",
          "routeType": "Unknown",
          "status": "Unknown",
          "type": "Line",
          "uri": "/Line/19"
         },
         {
          "$type": "Tfl.Api.Presentation.Entities.Identifier, Tfl.Api.Presentation.Entities",
          "crowding": {
           "$type": "Tfl.Api.Presentation.Entities.Crowding, Tfl.Api.Presentation.Entities"
          },
          "id": "22",
          "name": "22",
          "routeType": "Unknown",
          "status": "Unknown",
          "type": "Line",
          "uri": "/Line/22"
         },
         {
          "$type": "Tfl.Api.Presentation.Entities.Identifier, Tfl.Api.Presentation.Entities",
          "crowding": {
           "$type": "Tfl.Api.Presentation.Entities.Crowding, Tfl.Api.Presentation.Entities"
          },
          "id": "38",
          "name": "38",
          "routeType": "Unknown",
          "status": "Unknown",
          "type": "Line",
          "uri": "/Line/38"
         },
         {
          "$type": "Tfl.Api.Presentation.Entities.Identifier, Tfl.Api.Presentation.Entities",
          "crowding": {
           "$type": "Tfl.Api.Presentation.Entities.Crowding, Tfl.Api.Presentation.Entities"
          },
          "id": "6",
          "name": "6",
          "routeType": "Unknown",
          "status": "Unknown",
          "type": "Line",
          "uri": "/Line/6"
         },
         {
          "$type": "Tfl.Api.Presentation.Entities.Identifier, Tfl.Api.Presentation.Entities",
          "crowding": {
           "$type": "Tfl.Api.Presentation.Entities.Crowding, Tfl.Api.Presentation.Entities"
          },
          "id": "9",
          "name": "9",
          "routeType": "Unknown",
          "status": "Unknown",
          "type": "Line",
          "uri": "/Line/9"
         },
         {
          "$type": "Tfl.Api.Presentation.Entities.Identifier, Tfl.Api.Presentation.Entities",
          "crowding": {
           "$type": "Tfl.Api.Presentation.Entities.Crowding, Tfl.Api.Presentation.Entities"
          },
          "id": "jubilee",
          "name": "Jubilee",
          "routeType": "Unknown",
          "status": "Unknown",
          "type": "Line",
          "uri": "/Line/jubilee"
         },
         {
          "$type": "Tfl.Api.Presentation.Entities.Identifier, Tfl.Api.Presentation.Entities",
          "crowding": {
           "$type": "Tfl.Api.Presentation.Entities.Crowding, Tfl.Api.Presentation.Entities"
          },
          "id": "n19",
          "name": "N19",
          "routeType": "Unknown",
          "status": "Unknown",
          "type": "Line",
          "uri": "/Line/n19"
         },
         {
          "$type": "Tfl.Api.Presentation.Entities.Identifier, Tfl.Api.Presentation.Entities",
          "crowding": {
           "$type": "Tfl.Api.Presentation.Entities.Crowding, Tfl.Api.Presentation.Entities"
          },
          "id": "n22",
          "name": "N22",
          "routeType": "Unknown",
          "status": "Unknown",
          "type": "Line",
          "uri": "/Line/n22"
         },
         {
          "$type": "Tfl.Api.Presentation.Entities.Identifier, Tfl.Api.Presentation.Entities",
          "crowding": {
           "$type": "Tfl.Api.Presentation.Entities.Crowding, Tfl.Api.Presentation.Entities"
          },
          "id": "n38",
          "name": "N38",
          "routeType": "Unknown",
          "status": "Unknown",
          "type": "Line",
          "uri": "/Line/n38"
         },
         {
          "$type": "Tfl.Api.Presentation.Entities.Identifier, Tfl.Api.Presentation.Entities",
          "crowding": {
           "$type": "Tfl.Api.Presentation.Entities.Crowding, Tfl.Api.Presentation.Entities"
          },
          "id": "n9",
          "name": "N9",
          "routeType": "Unknown",
          "status": "Unknown",
          "type": "Line",
          "uri": "/Line/n9"
         },
         {
          "$type": "Tfl.Api.Presentation.Entities.Identifier, Tfl.Api.Presentation.Entities",
          "crowding": {
           "$type": "Tfl.Api.Presentation.Entities.Crowding, Tfl.Api.Presentation.Entities"
          },
          "id": "n97",
          "name": "N97",
          "routeType": "Unknown",
          "status": "Unknown",
          "type": "Line",
          "uri": "/Line/n97"
         },
         {
          "$type": "Tfl.Api.Presentation.Entities.Identifier, Tfl.Api.Presentation.Entities",
          "crowding": {
           "$type": "Tfl.Api.Presentation.Entities.Crowding, Tfl.Api.Presentation.Entities"
          },
          "id": "piccadilly",
          "name": "Piccadilly",
          "routeType": "Unknown",
          "status": "Unknown",
          "type": "Line",
          "uri": "/Line/piccadilly"
         },
         {
          "$type": "Tfl.Api.Presentation.Entities.Identifier, Tfl.Api.Presentation.Entities",
          "crowding": {
           "$type": "Tfl.Api.Presentation.Entities.Crowding, Tfl.Api.Presentation.Entities"
          },
          "id": "victoria",
          "name": "Victoria",
          "routeType": "Unknown",
          "status": "Unknown",
          "type": "Line",
          "uri": "/Line/victoria"
         }
        ],
        "lon": -0.142787,
        "modes": [
         "bus",
         "tube"
        ],
        "naptanId": "940GZZLUGPK",
        "placeType": "StopPoint",
        "stationNaptan": "940GZZLUGPK",
        "status": true,
        "stopType": "NaptanMetroStation"
       },
       {
        "$type": "Tfl.Api.Presentation.Entities.StopPoint, Tfl.Api.Presentation.Entities",
        "additionalProperties": [
         {
          "$type": "Tfl.Api.Presentation.Entities.AdditionalProperties, Tfl.Api.Presentation.Entities",
          "category": "ServiceInfo",
          "key": "Night",
          "sourceSystemKey": "TransXchangeETL",
          "value": "yes"
         },
         {
          "$type": "Tfl.Api.Presentation.Entities.AdditionalProperties, Tfl.Api.Presentation.Entities",
          "category": "Facility",
          "key": "Car park",
          "sourceSystemKey": "StaticObjects",
          "value": "no"
         },
         {
          "$type": "Tfl.Api.Presentation.Entities.AdditionalProperties, Tfl.Api.Presentation.Entities",
          "category": "Facility",
          "key": "Photo Booths",
          "sourceSystemKey": "StaticObjects",
          "value": "0"
         },
         {
          "$type": "Tfl.Api.Presentation.Entities.AdditionalProperties, Tfl.Api.Presentation.Entities",
          "category": "Facility",
          "key": "Other Facilities",
          "sourceSystemKey": "StaticObjects",
          "value": "taxi ranks outside station, routeways platform to ticket hall."
         },
         {
          "$type": "Tfl.Api.Presentation.Entities.AdditionalProperties, Tfl.Api.Presentation.Entities",
          "category": "Facility",
          "key": "Toilets",
          "sourceSystemKey": "StaticObjects",
          "value": "no"
         },
         {
          "$type": "Tfl.Api.Presentation.Entities.AdditionalProperties, Tfl.Api.Presentation.Entities",
          "category": "Facility",
          "key": "Bridge",
          "sourceSystemKey": "StaticObjects",
          "value": "yes"
         },
         {
          "$type": "Tfl.Api.Presentation.Entities.AdditionalProperties, Tfl.Api.Presentation.Entities",
          "category": "Facility",
          "key": "Cash Machines",
          "sourceSystemKey": "StaticObjects",
          "value": "0"
         },
         {
          "$type": "Tfl.Api.Presentation.Entities.AdditionalProperties, Tfl.Api.Presentation.Entities",
          "category": "Facility",
          "key": "Payphones",
          "sourceSystemKey": "StaticObjects",
          "value": "2"
         },
         {
          "$type": "Tfl.Api.Presentation.Entities.AdditionalProperties, Tfl.Api.Presentation.Entities",
          "category": "Facility",
          "key": "Waiting Room",
          "sourceSystemKey": "StaticObjects",
          "value": "no"
         },
         {
          "$type": "Tfl.Api.Presentation.Entities.AdditionalProperties, Tfl.Api.Presentation.Entities",
          "category": "Facility",
          "key": "Gates",
          "sourceSystemKey": "StaticObjects",
          "value": "7"
         },
         {
          "$type": "Tfl.Api.Presentation.Entities.AdditionalProperties, Tfl.Api.Presentation.Entities",
          "category": "Address",
          "key": "PhoneNo",
          "sourceSystemKey": "StaticObjects",
          "value": "0845 330 9880"
         },
         {
          "$type": "Tfl.Api.Presentation.Entities.AdditionalProperties, Tfl.Api.Presentation.Entities",
          "category": "Facility",
          "key": "WiFi",
          "sourceSystemKey": "StaticObjects",
          "value": "yes"
         },
         {
          "$type": "Tfl.Api.Presentation.Entities.AdditionalProperties, Tfl.Api.Presentation.Entities",
          "category": "Address",
          "key": "Address",
          "sourceSystemKey": "StaticObjects",
          "value": "Highbury & Islington Underground Station,London Underground Ltd.,Holloway Rd,London,N5 1RA"
         },
         {
          "$type": "Tfl.Api.Presentation.Entities.AdditionalProperties, Tfl.Api.Presentation.Entities",
          "category": "Geo",
          "key": "Zone",
          "sourceSystemKey": "StaticObjects",
          "value": "2"
         },
         {
          "$type": "Tfl.Api.Presentation.Entities.AdditionalProperties, Tfl.Api.Presentation.Entities",
          "category": "Facility",
          "key": "Ticket Halls",
          "sourceSystemKey": "StaticObjects",
          "value": "1"
         },
         {
          "$type": "Tfl.Api.Presentation.Entities.AdditionalProperties, Tfl.Api.Presentation.Entities",
          "category": "Facility",
          "key": "Boarding Ramps",
          "sourceSystemKey": "StaticObjects",
          "value": "yes London Overground Only"
         },
         {
          "$type": "Tfl.Api.Presentation.Entities.AdditionalProperties, Tfl.Api.Presentation.Entities",
          "category": "Facility",
          "key": "Escalators",
          "sourceSystemKey": "StaticObjects",
          "value": "2"
         },
         {
          "$type": "Tfl.Api.Presentation.Entities.AdditionalProperties, Tfl.Api.Presentation.Entities",
          "category": "Facility",
          "key": "Help Points",
          "sourceSystemKey": "StaticObjects",
          "value": "0 on platforms, 0 in ticket halls, 0 elsewhere"
         },
         {
          "$type": "Tfl.Api.Presentation.Entities.AdditionalProperties, Tfl.Api.Presentation.Entities",
          "category": "Facility",
          "key": "Lifts",
          "sourceSystemKey": "StaticObjects",
          "value": "3"
         }
        ],
        "children": [
         {
          "$type": "Tfl.Api.Presentation.Entities.StopPoint, Tfl.Api.Presentation.Entities",
          "additionalProperties": [],
          "children": [],
          "commonName": "Highbury & Islington Underground Station",
          "hubNaptanCode": "HUBHHY",
          "icsCode": "1000108",
          "id": "9400ZZLUHAI1",
          "lat": 0,
          "lineGroup": [],
          "lineModeGroups": [],
          "lines": [],
          "lon": 0,
          "modes": [],
          "naptanId": "9400ZZLUHAI1",
          "placeType": "StopPoint",
          "stationNaptan": "940GZZLUHAI",
          "status": true
         },
         {
          "$type": "Tfl.Api.Presentation.Entities.StopPoint, Tfl.Api.Presentation.Entities",
          "additionalProperties": [],
          "children": [],
          "commonName": "Highbury & Islington Underground Station",
          "hubNaptanCode": "HUBHHY",
          "icsCode": "1000108",
          "id": "9400ZZLUHAI2",
          "lat": 0,
          "lineGroup": [],
          "lineModeGroups": [],
          "lines": [],
          "lon": 0,
          "modes": [],
          "naptanId": "9400ZZLUHAI2",
          "placeType": "StopPoint",
          "stationNaptan": "940GZZLUHAI",
          "status": true
         }
        ],
        "commonName": "Highbury & Islington Underground Station",
        "hubNaptanCode": "HUBHHY",
        "icsCode": "1000108",
        "id": "940GZZLUHAI",
        "lat": 51.54635,
        "lineGroup": [
         {
          "$type": "Tfl.Api.Presentation.Entities.LineGroup, Tfl.Api.Presentation.Entities",
          "lineIdentifier": [
           "victoria"
          ],
          "stationAtcoCode": "940GZZLUHAI"
         }
        ],
        "lineModeGroups": [
         {
          "$type": "Tfl.Api.Presentation.Entities.LineModeGroup, Tfl.Api.Presentation.Entities",
          "lineIdentifier": [
           "victoria"
          ],
          "modeName": "tube"
         }
        ],
        "lines": [
         {
          "$type": "Tfl.Api.Presentation.Entities.Identifier, Tfl.Api.Presentation.Entities",
          "crowding": {
           "$type": "Tfl.Api.Presentation.Entities.Crowding, Tfl.Api.Presentation.Entities"
          },
          "id": "victoria",
          "name": "Victoria",
          "routeType": "Unknown",
          "status": "Unknown",
          "type": "Line",
          "uri": "/Line/victoria"
         }
        ],
        "lon": -0.103324,
        "modes": [
         "tube"
        ],
        "naptanId": "940GZZLUHAI",
        "placeType": "StopPoint",
        "stationNaptan": "940GZZLUHAI",
        "status": true,
        "stopType": "NaptanMetroStation"
       },
       {
        "$type": "Tfl.Api.Presentation.Entities.StopPoint, Tfl.Api.Presentation.Entities",
        "additionalProperties": [
         {
          "$type": "Tfl.Api.Presentation.Entities.AdditionalProperties, Tfl.Api.Presentation.Entities",
          "category": "ServiceInfo",
          "key": "Night",
          "sourceSystemKey": "TransXchangeETL",
          "value": "yes"
         },
         {
          "$type": "Tfl.Api.Presentation.Entities.AdditionalProperties, Tfl.Api.Presentation.Entities",
          "category": "Facility",
          "key": "Toilets",
          "sourceSystemKey": "StaticObjects",
          "value": "no"
         },
         {
          "$type": "Tfl.Api.Presentation.Entities.AdditionalProperties, Tfl.Api.Presentation.Entities",
          "category": "Facility",
          "key": "Bridge",
          "sourceSystemKey": "StaticObjects",
          "value": "no"
         },
         {
          "$type": "Tfl.Api.Presentation.Entities.AdditionalProperties, Tfl.Api.Presentation.Entities",
          "category": "Facility",
          "key": "Cash Machines",
          "sourceSystemKey": "StaticObjects",
          "value": "9"
         },
         {
          "$type": "Tfl.Api.Presentation.Entities.AdditionalProperties, Tfl.Api.Presentation.Entities",
          "category": "VisitorCentre",
          "key": "Location",
          "sourceSystemKey": "StaticObjects",
          "value": "Western Ticket Hall Underground Station"
         },
         {
          "$type": "Tfl.Api.Presentation.Entities.AdditionalProperties, Tfl.Api.Presentation.Entities",
          "category": "Facility",
          "key": "Gates",
          "sourceSystemKey": "StaticObjects",
          "value": "45"
         },
         {
          "$type": "Tfl.Api.Presentation.Entities.AdditionalProperties, Tfl.Api.Presentation.Entities",
          "category": "Address",
          "key": "PhoneNo",
          "sourceSystemKey": "StaticObjects",
          "value": "0845 330 9880"
         },
         {
          "$type": "Tfl.Api.Presentation.Entities.AdditionalProperties, Tfl.Api.Presentation.Entities",
          "category": "Facility",
          "key": "Ticket Halls",
          "sourceSystemKey": "StaticObjects",
          "value": "4"
         },
         {
          "$type": "Tfl.Api.Presentation.Entities.AdditionalProperties, Tfl.Api.Presentation.Entities",
          "category": "Facility",
          "key": "Lifts",
          "sourceSystemKey": "StaticObjects",
          "value": "10"
         },
         {
          "$type": "Tfl.Api.Presentation.Entities.AdditionalProperties, Tfl.Api.Presentation.Entities",
          "category": "Facility",
          "key": "Other Facilities",
          "sourceSystemKey": "StaticObjects",
          "value": "none"
         },
         {
          "$type": "Tfl.Api.Presentation.Entities.AdditionalProperties, Tfl.Api.Presentation.Entities",
          "category": "Facility",
          "key": "WiFi",
          "sourceSystemKey": "StaticObjects",
          "value": "yes"
         },
         {
          "$type": "Tfl.Api.Presentation.Entities.AdditionalProperties, Tfl.Api.Presentation.Entities",
          "category": "Geo",
          "key": "Zone",
          "sourceSystemKey": "StaticObjects",
          "value": "1"
         },
         {
          "$type": "Tfl.Api.Presentation.Entities.AdditionalProperties, Tfl.Api.Presentation.Entities",
          "category": "Address",
          "key": "Address",
          "sourceSystemKey": "StaticObjects",
          "value": "King's Cross St. Pancras,London Underground Ltd.,Euston Road,London,N1 9AL"
         },
         {
          "$type": "Tfl.Api.Presentation.Entities.AdditionalProperties, Tfl.Api.Presentation.Entities",
          "category": "Facility",
          "key": "Help Points",
          "sourceSystemKey": "StaticObjects",
          "value": "0 on platforms, 0 in ticket halls, 0 elsewhere"
         },
         {
          "$type": "Tfl.Api.Presentation.Entities.AdditionalProperties, Tfl.Api.Presentation.Entities",
          "category": "Facility",
          "key": "Waiting Room",
          "sourceSystemKey": "StaticObjects",
          "value": "no"
         },
         {
          "$type": "Tfl.Api.Presentation.Entities.AdditionalProperties, Tfl.Api.Presentation.Entities",
          "category": "Facility",
          "key": "Escalators",
          "sourceSystemKey": "StaticObjects",
          "value": "19"
         },
         {
          "$type": "Tfl.Api.Presentation.Entities.AdditionalProperties, Tfl.Api.Presentation.Entities",
          "category": "Facility",
          "key": "Euro Cash Machines",
          "sourceSystemKey": "StaticObjects",
          "value": "yes"
         },
         {
          "$type": "Tfl.Api.Presentation.Entities.AdditionalProperties, Tfl.Api.Presentation.Entities",
          "category": "Facility",
          "key": "Car park",
          "sourceSystemKey": "StaticObjects",
          "value": "no"
         },
         {
          "$type": "Tfl.Api.Presentation.Entities.AdditionalProperties, Tfl.Api.Presentation.Entities",
          "category": "Facility",
          "key": "Payphones",
          "sourceSystemKey": "StaticObjects",
          "value": "4"
         },
         {
          "$type": "Tfl.Api.Presentation.Entities.AdditionalProperties, Tfl.Api.Presentation.Entities",
          "category": "Facility",
          "key": "Photo Booths",
          "sourceSystemKey": "StaticObjects",
          "value": "0"
         },
         {
          "$type": "Tfl.Api.Presentation.Entities.AdditionalProperties, Tfl.Api.Presentation.Entities",
          "category": "Accessibility",
          "key": "AccessViaLift",
          "sourceSystemKey": "LRAD",
          "value": "Yes"
         },
         {
          "$type": "Tfl.Api.Presentation.Entities.AdditionalProperties, Tfl.Api.Presentation.Entities",
          "category": "Accessibility",
          "key": "BlueBadgeCarParkSpaces",
          "sourceSystemKey": "LRAD",
          "value": "0"
         },
         {
          "$type": "Tfl.Api.Presentation.Entities.AdditionalProperties, Tfl.Api.Presentation.Entities",
          "category": "Accessibility",
          "key": "LimitedCapacityLift",
          "sourceSystemKey": "LRAD",
          "value": "No"
         },
         {
          "$type": "Tfl.Api.Presentation.Entities.AdditionalProperties, Tfl.Api.Presentation.Entities",
          "category": "Accessibility",
          "key": "SpecificEntranceRequired",
          "sourceSystemKey": "LRAD",
          "value": "No"
         },
         {
          "$type": "Tfl.Api.Presentation.Entities.AdditionalProperties, Tfl.Api.Presentation.Entities",
          "category": "Accessibility",
          "key": "TaxiRankOutsideStation",
          "sourceSystemKey": "LRAD",
          "value": "Yes"
         },
         {
          "$type": "Tfl.Api.Presentation.Entities.AdditionalProperties, Tfl.Api.Presentation.Entities",
          "category": "Accessibility",
          "key": "Toilet",
          "sourceSystemKey": "LRAD",
          "value": "Yes"
         },
         {
          "$type": "Tfl.Api.Presentation.Entities.AdditionalProperties, Tfl.Api.Presentation.Entities",
          "category": "Accessibility",
          "key": "ToiletNote",
          "sourceSystemKey": "LRAD",
          "value": "(National Rail)"
         },
         {
          "$type": "Tfl.Api.Presentation.Entities.AdditionalProperties, Tfl.Api.Presentation.Entities",
          "category": "NearestPlaces",
          "key": "SourceSystemPlaceId",
          "sourceSystemKey": "StaticObjects",
          "value": "BikePoints_4"
         },
         {
          "$type": "Tfl.Api.Presentation.Entities.AdditionalProperties, Tfl.Api.Presentation.Entities",
          "category": "NearestPlaces",
          "key": "SourceSystemPlaceId",
          "sourceSystemKey": "StaticObjects",
          "value": "BikePoints_14"
         },
         {
          "$type": "Tfl.Api.Presentation.Entities.AdditionalProperties, Tfl.Api.Presentation.Entities",
          "category": "NearestPlaces",
          "key": "SourceSystemPlaceId",
          "sourceSystemKey": "StaticObjects",
          "value": "BikePoints_70"
         },
         {
          "$type": "Tfl.Api.Presentation.Entities.AdditionalProperties, Tfl.Api.Presentation.Entities",
          "category": "NearestPlaces",
          "key": "SourceSystemPlaceId",
          "sourceSystemKey": "StaticObjects",
          "value": "BikePoints_89"
         },
         {
          "$type": "Tfl.Api.Presentation.Entities.AdditionalProperties, Tfl.Api.Presentation.Entities",
          "category": "NearestPlaces",
          "key": "SourceSystemPlaceId",
          "sourceSystemKey": "StaticObjects",
          "value": "BikePoints_431"
         },
         {
          "$type": "Tfl.Api.Presentation.Entities.AdditionalProperties, Tfl.Api.Presentation.Entities",
          "category": "NearestPlaces",
          "key": "SourceSystemPlaceId",
          "sourceSystemKey": "StaticObjects",
          "value": "BikePoints_439"
         },
         {
          "$type": "Tfl.Api.Presentation.Entities.AdditionalProperties, Tfl.Api.Presentation.Entities",
          "category": "NearestPlaces",
          "key": "SourceSystemPlaceId",
          "sourceSystemKey": "StaticObjects",
          "value": "BikePoints_593"
         },
         {
          "$type": "Tfl.Api.Presentation.Entities.AdditionalProperties, Tfl.Api.Presentation.Entities",
          "category": "NearestPlaces",
          "key": "SourceSystemPlaceId",
          "sourceSystemKey": "StaticObjects",
          "value": "BikePoints_793"
         },
         {
          "$type": "Tfl.Api.Presentation.Entities.AdditionalProperties, Tfl.Api.Presentation.Entities",
          "category": "NearestPlaces",
          "key": "SourceSystemPlaceId",
          "sourceSystemKey": "StaticObjects",
          "value": "BikePoints_797"
         },
         {
          "$type": "Tfl.Api.Presentation.Entities.AdditionalProperties, Tfl.Api.Presentation.Entities",
          "category": "NearestPlaces",
          "key": "SourceSystemPlaceId",
          "sourceSystemKey": "StaticObjects",
          "value": "BikePoints_798"
         },
         {
          "$type": "Tfl.Api.Presentation.Entities.AdditionalProperties, Tfl.Api.Presentation.Entities",
          "category": "NearestPlaces",
          "key": "SourceSystemPlaceId",
          "sourceSystemKey": "StaticObjects",
          "value": "BikePoints_804"
         },
         {
          "$type": "Tfl.Api.Presentation.Entities.AdditionalProperties, Tfl.Api.Presentation.Entities",
          "category": "NearestPlaces",
          "key": "SourceSystemPlaceId",
          "sourceSystemKey": "StaticObjects",
          "value": "TaxiRank_5237"
         },
         {
          "$type": "Tfl.Api.Presentation.Entities.AdditionalProperties, Tfl.Api.Presentation.Entities",
          "category": "NearestPlaces",
          "key": "SourceSystemPlaceId",
          "sourceSystemKey": "StaticObjects",
          "value": "TaxiRank_5896"
         },
         {
          "$type": "Tfl.Api.Presentation.Entities.AdditionalProperties, Tfl.Api.Presentation.Entities",
          "category": "NearestPlaces",
          "key": "SourceSystemPlaceId",
          "sourceSystemKey": "StaticObjects",
          "value": "TaxiRank_5708"
         }
        ],
        "children": [
         {
          "$type": "Tfl.Api.Presentation.Entities.StopPoint, Tfl.Api.Presentation.Entities",
          "additionalProperties": [],
          "children": [],
          "commonName": "King's Cross St. Pancras Underground Station",
          "hubNaptanCode": "HUBKGX",
          "icsCode": "1000129",
          "id": "9400ZZLUKSX3",
          "lat": 0,
          "lineGroup": [],
          "lineModeGroups": [],
          "lines": [],
          "lon": 0,
          "modes": [],
          "naptanId": "9400ZZLUKSX3",
          "placeType": "StopPoint",
          "stationNaptan": "940GZZLUKSX",
          "status": true
         },
         {
          "$type": "Tfl.Api.Presentation.Entities.StopPoint, Tfl.Api.Presentation.Entities",
          "additionalProperties": [],
          "children": [],
          "commonName": "King's Cross St. Pancras Underground Station",
          "hubNaptanCode": "HUBKGX",
          "icsCode": "1000129",
          "id": "9400ZZLUKSX4",
          "lat": 0,
          "lineGroup": [],
          "lineModeGroups": [],
          "lines": [],
          "lon": 0,
          "modes": [],
          "naptanId": "9400ZZLUKSX4",
          "placeType": "StopPoint",
          "stationNaptan": "940GZZLUKSX",
          "status": true
         },
         {
          "$type": "Tfl.Api.Presentation.Entities.StopPoint, Tfl.Api.Presentation.Entities",
          "additionalProperties": [],
          "children": [],
          "commonName": "King's Cross St. Pancras Underground Station",
          "hubNaptanCode": "HUBKGX",
          "icsCode": "1000129",
          "id": "9400ZZLUKSX5",
          "lat": 0,
          "lineGroup": [],
          "lineModeGroups": [],
          "lines": [],
          "lon": 0,
          "modes": [],
          "naptanId": "9400ZZLUKSX5",
          "placeType": "StopPoint",
          "stationNaptan": "940GZZLUKSX",
          "status": true
         },
         {
          "$type": "Tfl.Api.Presentation.Entities.StopPoint, Tfl.Api.Presentation.Entities",
          "additionalProperties": [],
          "children": [],
          "commonName": "King's Cross St. Pancras Underground Station",
          "hubNaptanCode": "HUBKGX",
          "icsCode": "1000129",
          "id": "9400ZZLUKSX6",
          "lat": 0,
          "lineGroup": [],
          "lineModeGroups": [],
          "lines": [],
          "lon": 0,
          "modes": [],
          "naptanId": "9400ZZLUKSX6",
          "placeType": "StopPoint",
          "stationNaptan": "940GZZLUKSX",
          "status": true
         },
         {
          "$type": "Tfl.Api.Presentation.Entities.StopPoint, Tfl.Api.Presentation.Entities",
          "additionalProperties": [],
          "children": [],
          "commonName": "King's Cross St. Pancras Underground Station",
          "hubNaptanCode": "HUBKGX",
          "icsCode": "1000129",
          "id": "9400ZZLUKSX7",
          "lat": 0,
          "lineGroup": [],
          "lineModeGroups": [],
          "lines": [],
          "lon": 0,
          "modes": [],
          "naptanId": "9400ZZLUKSX7",
          "placeType": "StopPoint",
          "stationNaptan": "940GZZLUKSX",
          "status": true
         },
         {
          "$type": "Tfl.Api.Presentation.Entities.StopPoint, Tfl.Api.Presentation.Entities",
          "additionalProperties": [],
          "children": [],
          "commonName": "King's Cross St. Pancras Underground Station",
          "hubNaptanCode": "HUBKGX",
          "icsCode": "1000129",
          "id": "9400ZZLUKSX1",
          "lat": 0,
          "lineGroup": [],
          "lineModeGroups": [],
          "lines": [],
          "lon": 0,
          "modes": [],
          "naptanId": "9400ZZLUKSX1",
          "placeType": "StopPoint",
          "stationNaptan": "940GZZLUKSX",
          "status": true
         },
         {
          "$type": "Tfl.Api.Presentation.Entities.StopPoint, Tfl.Api.Presentation.Entities",
          "additionalProperties": [],
          "children": [],
          "commonName": "King's Cross St. Pancras Underground Station",
          "hubNaptanCode": "HUBKGX",
          "icsCode": "1000129",
          "id": "9400ZZLUKSX2",
          "lat": 0,
          "lineGroup": [],
          "lineModeGroups": [],
          "lines": [],
          "lon": 0,
          "modes": [],
          "naptanId": "9400ZZLUKSX2",
          "placeType": "StopPoint",
          "stationNaptan": "940GZZLUKSX",
          "status": true
         }
        ],
        "commonName": "King's Cross St. Pancras Underground Station",
        "hubNaptanCode": "HUBKGX",
        "icsCode": "1000129",
        "id": "940GZZLUKSX",
        "lat": 51.530663,
        "lineGroup": [
         {
          "$type": "Tfl.Api.Presentation.Entities.LineGroup, Tfl.Api.Presentation.Entities",
          "lineIdentifier": [
           "circle",
           "hammersmith-city",
           "metropolitan"
          ],
          "stationAtcoCode": "940GZZLUKSX"
         },
         {
          "$type": "Tfl.Api.Presentation.Entities.LineGroup, Tfl.Api.Presentation.Entities",
          "lineIdentifier": [
           "northern"
          ],
          "stationAtcoCode": "940GZZLUKSX"
         },
         {
          "$type": "Tfl.Api.Presentation.Entities.LineGroup, Tfl.Api.Presentation.Entities",
          "lineIdentifier": [
           "piccadilly"
          ],
          "stationAtcoCode": "940GZZLUKSX"
         },
         {
          "$type": "Tfl.Api.Presentation.Entities.LineGroup, Tfl.Api.Presentation.Entities",
          "lineIdentifier": [
           "victoria"
          ],
          "stationAtcoCode": "940GZZLUKSX"
         }
        ],
        "lineModeGroups": [
         {
          "$type": "Tfl.Api.Presentation.Entities.LineModeGroup, Tfl.Api.Presentation.Entities",
          "lineIdentifier": [
           "circle",
           "hammersmith-city",
           "metropolitan",
           "northern",
           "piccadilly",
           "victoria"
          ],
          "modeName": "tube"
         }
        ],
        "lines": [
         {
          "$type": "Tfl.Api.Presentation.Entities.Identifier, Tfl.Api.Presentation.Entities",
          "crowding": {
           "$type": "Tfl.Api.Presentation.Entities.Crowding, Tfl.Api.Presentation.Entities"
          },
          "id": "circle",
          "name": "Circle",
          "routeType": "Unknown",
          "status": "Unknown",
          "type": "Line",
          "uri": "/Line/circle"
         },
         {
          "$type": "Tfl.Api.Presentation.Entities.Identifier, Tfl.Api.Presentation.Entities",
          "crowding": {
           "$type": "Tfl.Api.Presentation.Entities.Crowding, Tfl.Api.Presentation.Entities"
          },
          "id": "hammersmith-city",
          "name": "Hammersmith & City",
          "routeType": "Unknown",
          "status": "Unknown",
          "type": "Line",
          "uri": "/Line/hammersmith-city"
         },
         {
          "$type": "Tfl.Api.Presentation.Entities.Identifier, Tfl.Api.Presentation.Entities",
          "crowding": {
           "$type": "Tfl.Api.Presentation.Entities.Crowding, Tfl.Api.Presentation.Entities"
          },
          "id": "metropolitan",
          "name": "Metropolitan",
          "routeType": "Unknown",
          "status": "Unknown",
          "type": "Line",
          "uri": "/Line/metropolitan"
         },
         {
          "$type": "Tfl.Api.Presentation.Entities.Identifier, Tfl.Api.Presentation.Entities",
          "crowding": {
           "$type": "Tfl.Api.Presentation.Entities.Crowding, Tfl.Api.Presentation.Entities"
          },
          "id": "northern",
          "name": "Northern",
          "routeType": "Unknown",
          "status": "Unknown",
          "type": "Line",
          "uri": "/Line/northern"
         },
         {
          "$type": "Tfl.Api.Presentation.Entities.Identifier, Tfl.Api.Presentation.Entities",
          "crowding": {
           "$type": "Tfl.Api.Presentation.Entities.Crowding, Tfl.Api.Presentation.Entities"
          },
          "id": "piccadilly",
          "name": "Piccadilly",
          "routeType": "Unknown",
          "status": "Unknown",
          "type": "Line",
          "uri": "/Line/piccadilly"
         },
         {
          "$type": "Tfl.Api.Presentation.Entities.Identifier, Tfl.Api.Presentation.Entities",
          "crowding": {
           "$type": "Tfl.Api.Presentation.Entities.Crowding, Tfl.Api.Presentation.Entities"
          },
          "id": "victoria",
          "name": "Victoria",
          "routeType": "Unknown",
          "status": "Unknown",
          "type": "Line",
          "uri": "/Line/victoria"
         }
        ],
        "lon": -0.123194,
        "modes": [
         "tube"
        ],
        "naptanId": "940GZZLUKSX",
        "placeType": "StopPoint",
        "stationNaptan": "940GZZLUKSX",
        "status": true,
        "stopType": "NaptanMetroStation"
       },
       {
        "$type": "Tfl.Api.Presentation.Entities.StopPoint, Tfl.Api.Presentation.Entities",
        "additionalProperties": [
         {
          "$type": "Tfl.Api.Presentation.Entities.AdditionalProperties, Tfl.Api.Presentation.Entities",
          "category": "ServiceInfo",
          "key": "Night",
          "sourceSystemKey": "TransXchangeETL",
          "value": "yes"
         },
         {
          "$type": "Tfl.Api.Presentation.Entities.AdditionalProperties, Tfl.Api.Presentation.Entities",
          "category": "Facility",
          "key": "Lifts",
          "sourceSystemKey": "StaticObjects",
          "value": "0"
         },
         {
          "$type": "Tfl.Api.Presentation.Entities.AdditionalProperties, Tfl.Api.Presentation.Entities",
          "category": "Address",
          "key": "PhoneNo",
          "sourceSystemKey": "StaticObjects",
          "value": "0845 330 9880"
         },
         {
          "$type": "Tfl.Api.Presentation.Entities.AdditionalProperties, Tfl.Api.Presentation.Entities",
          "category": "Facility",
          "key": "WiFi",
          "sourceSystemKey": "StaticObjects",
          "value": "yes"
         },
         {
          "$type": "Tfl.Api.Presentation.Entities.AdditionalProperties, Tfl.Api.Presentation.Entities",
          "category": "Geo",
          "key": "Zone",
          "sourceSystemKey": "StaticObjects",
          "value": "1"
         },
         {
          "$type": "Tfl.Api.Presentation.Entities.AdditionalProperties, Tfl.Api.Presentation.Entities",
          "category": "Facility",
          "key": "Bridge",
          "sourceSystemKey": "StaticObjects",
          "value": "no"
         },
         {
          "$type": "Tfl.Api.Presentation.Entities.AdditionalProperties, Tfl.Api.Presentation.Entities",
          "category": "Facility",
          "key": "Gates",
          "sourceSystemKey": "StaticObjects",
          "value": "30"
         },
         {
          "$type": "Tfl.Api.Presentation.Entities.AdditionalProperties, Tfl.Api.Presentation.Entities",
          "category": "Facility",
          "key": "Payphones",
          "sourceSystemKey": "StaticObjects",
          "value": "3"
         },
         {
          "$type": "Tfl.Api.Presentation.Entities.AdditionalProperties, Tfl.Api.Presentation.Entities",
          "category": "Facility",
          "key": "Photo Booths",
          "sourceSystemKey": "StaticObjects",
          "value": "0"
         },
         {
          "$type": "Tfl.Api.Presentation.Entities.AdditionalProperties, Tfl.Api.Presentation.Entities",
          "category": "Facility",
          "key": "Cash Machines",
          "sourceSystemKey": "StaticObjects",
          "value": "3"
         },
         {
          "$type": "Tfl.Api.Presentation.Entities.AdditionalProperties, Tfl.Api.Presentation.Entities",
          "category": "Facility",
          "key": "Toilets",
          "sourceSystemKey": "StaticObjects",
          "value": "no"
         },
         {
          "$type": "Tfl.Api.Presentation.Entities.AdditionalProperties, Tfl.Api.Presentation.Entities",
          "category": "Facility",
          "key": "Car park",
          "sourceSystemKey": "StaticObjects",
          "value": "no"
         },
         {
          "$type": "Tfl.Api.Presentation.Entities.AdditionalProperties, Tfl.Api.Presentation.Entities",
          "category": "Facility",
          "key": "Escalators",
          "sourceSystemKey": "StaticObjects",
          "value": "14"
         },
         {
          "$type": "Tfl.Api.Presentation.Entities.AdditionalProperties, Tfl.Api.Presentation.Entities",
          "category": "Facility",
          "key": "Euro Cash Machines",
          "sourceSystemKey": "StaticObjects",
          "value": "yes"
         },
         {
          "$type": "Tfl.Api.Presentation.Entities.AdditionalProperties, Tfl.Api.Presentation.Entities",
          "category": "Facility",
          "key": "Ticket Halls",
          "sourceSystemKey": "StaticObjects",
          "value": "2"
         },
         {
          "$type": "Tfl.Api.Presentation.Entities.AdditionalProperties, Tfl.Api.Presentation.Entities",
          "category": "Address",
          "key": "Address",
          "sourceSystemKey": "StaticObjects",
          "value": "Oxford Circus Station,London Underground Ltd.,Oxford St,London,W1B 3AG"
         },
         {
          "$type": "Tfl.Api.Presentation.Entities.AdditionalProperties, Tfl.Api.Presentation.Entities",
          "category": "Facility",
          "key": "Other Facilities",
          "sourceSystemKey": "StaticObjects",
          "value": "canopies over platform, routeways platform to ticket hall."
         },
         {
          "$type": "Tfl.Api.Presentation.Entities.AdditionalProperties, Tfl.Api.Presentation.Entities",
          "category": "Facility",
          "key": "Waiting Room",
          "sourceSystemKey": "StaticObjects",
          "value": "no"
         },
         {
          "$type": "Tfl.Api.Presentation.Entities.AdditionalProperties, Tfl.Api.Presentation.Entities",
          "category": "Facility",
          "key": "Help Points",
          "sourceSystemKey": "StaticObjects",
          "value": "18 on platforms, 0 in ticket halls, 18 elsewhere"
         },
         {
          "$type": "Tfl.Api.Presentation.Entities.AdditionalProperties, Tfl.Api.Presentation.Entities",
          "category": "Accessibility",
          "key": "AccessViaLift",
          "sourceSystemKey": "LRAD",
          "value": "No"
         },
         {
          "$type": "Tfl.Api.Presentation.Entities.AdditionalProperties, Tfl.Api.Presentation.Entities",
          "category": "Accessibility",
          "key": "BlueBadgeCarParkSpaces",
          "sourceSystemKey": "LRAD",
          "value": "0"
         },
         {
          "$type": "Tfl.Api.Presentation.Entities.AdditionalProperties, Tfl.Api.Presentation.Entities",
          "category": "Accessibility",
          "key": "LimitedCapacityLift",
          "sourceSystemKey": "LRAD",
          "value": "No"
         },
         {
          "$type": "Tfl.Api.Presentation.Entities.AdditionalProperties, Tfl.Api.Presentation.Entities",
          "category": "Accessibility",
          "key": "TaxiRankOutsideStation",
          "sourceSystemKey": "LRAD",
          "value": "No"
         },
         {
          "$type": "Tfl.Api.Presentation.Entities.AdditionalProperties, Tfl.Api.Presentation.Entities",
          "category": "Accessibility",
          "key": "Toilet",
          "sourceSystemKey": "LRAD",
          "value": "No"
         },
         {
          "$type": "Tfl.Api.Presentation.Entities.AdditionalProperties, Tfl.Api.Presentation.Entities",
          "category": "NearestPlaces",
          "key": "SourceSystemPlaceId",
          "sourceSystemKey": "StaticObjects",
          "value": "BikePoints_260"
         },
         {
          "$type": "Tfl.Api.Presentation.Entities.AdditionalProperties, Tfl.Api.Presentation.Entities",
          "category": "NearestPlaces",
          "key": "SourceSystemPlaceId",
          "sourceSystemKey": "StaticObjects",
          "value": "BikePoints_301"
         },
         {
          "$type": "Tfl.Api.Presentation.Entities.AdditionalProperties, Tfl.Api.Presentation.Entities",
          "category": "NearestPlaces",
          "key": "SourceSystemPlaceId",
          "sourceSystemKey": "StaticObjects",
          "value": "BikePoints_6"
         },
         {
          "$type": "Tfl.Api.Presentation.Entities.AdditionalProperties, Tfl.Api.Presentation.Entities",
          "category": "NearestPlaces",
          "key": "SourceSystemPlaceId",
          "sourceSystemKey": "StaticObjects",
          "value": "BikePoints_106"
         },
         {
          "$type": "Tfl.Api.Presentation.Entities.AdditionalProperties, Tfl.Api.Presentation.Entities",
          "category": "NearestPlaces",
          "key": "SourceSystemPlaceId",
          "sourceSystemKey": "StaticObjects",
          "value": "BikePoints_116"
         },
         {
          "$type": "Tfl.Api.Presentation.Entities.AdditionalProperties, Tfl.Api.Presentation.Entities",
          "category": "NearestPlaces",
          "key": "SourceSystemPlaceId",
          "sourceSystemKey": "StaticObjects",
          "value": "BikePoints_141"
         },
         {
          "$type": "Tfl.Api.Presentation.Entities.AdditionalProperties, Tfl.Api.Presentation.Entities",
          "category": "NearestPlaces",
          "key": "SourceSystemPlaceId",
          "sourceSystemKey": "StaticObjects",
          "value": "BikePoints_159"
         },
         {
          "$type": "Tfl.Api.Presentation.Entities.AdditionalProperties, Tfl.Api.Presentation.Entities",
          "category": "NearestPlaces",
          "key": "SourceSystemPlaceId",
          "sourceSystemKey": "StaticObjects",
          "value": "BikePoints_311"
         },
         {
          "$type": "Tfl.Api.Presentation.Entities.AdditionalProperties, Tfl.Api.Presentation.Entities",
          "category": "NearestPlaces",
          "key": "SourceSystemPlaceId",
          "sourceSystemKey": "StaticObjects",
          "value": "BikePoints_313"
         },
         {
          "$type": "Tfl.Api.Presentation.Entities.AdditionalProperties, Tfl.Api.Presentation.Entities",
          "category": "NearestPlaces",
          "key": "SourceSystemPlaceId",
          "sourceSystemKey": "StaticObjects",
          "value": "BikePoints_349"
         },
         {
          "$type": "Tfl.Api.Presentation.Entities.AdditionalProperties, Tfl.Api.Presentation.Entities",
          "category": "NearestPlaces",
          "key": "SourceSystemPlaceId",
          "sourceSystemKey": "StaticObjects",
          "value": "TaxiRank_5683"
         },
         {
          "$type": "Tfl.Api.Presentation.Entities.AdditionalProperties, Tfl.Api.Presentation.Entities",
          "category": "NearestPlaces",
          "key": "SourceSystemPlaceId",
          "sourceSystemKey": "StaticObjects",
          "value": "TaxiRank_5576"
         },
         {
          "$type": "Tfl.Api.Presentation.Entities.AdditionalProperties, Tfl.Api.Presentation.Entities",
          "category": "NearestPlaces",
          "key": "SourceSystemPlaceId",
          "sourceSystemKey": "StaticObjects",
          "value": "TaxiRank_5379"
         },
         {
          "$type": "Tfl.Api.Presentation.Entities.AdditionalProperties, Tfl.Api.Presentation.Entities",
          "category": "NearestPlaces",
          "key": "SourceSystemPlaceId",
          "sourceSystemKey": "StaticObjects",
          "value": "TaxiRank_4334"
         },
         {
          "$type": "Tfl.Api.Presentation.Entities.AdditionalProperties, Tfl.Api.Presentation.Entities",
          "category": "NearestPlaces",
          "key": "SourceSystemPlaceId",
          "sourceSystemKey": "StaticObjects",
          "value": "TaxiRank_5580"
         },
         {
          "$type": "Tfl.Api.Presentation.Entities.AdditionalProperties, Tfl.Api.Presentation.Entities",
          "category": "NearestPlaces",
          "key": "SourceSystemPlaceId",
          "sourceSystemKey": "StaticObjects",
          "value": "TaxiRank_5500"
         },
         {
          "$type": "Tfl.Api.Presentation.Entities.AdditionalProperties, Tfl.Api.Presentation.Entities",
          "category": "NearestPlaces",
          "key": "SourceSystemPlaceId",
          "sourceSystemKey": "StaticObjects",
          "value": "TaxiRank_4787"
         },
         {
          "$type": "Tfl.Api.Presentation.Entities.AdditionalProperties, Tfl.Api.Presentation.Entities",
          "category": "NearestPlaces",
          "key": "SourceSystemPlaceId",
          "sourceSystemKey": "StaticObjects",
          "value": "TaxiRank_5866"
         },
         {
          "$type": "Tfl.Api.Presentation.Entities.AdditionalProperties, Tfl.Api.Presentation.Entities",
          "category": "NearestPlaces",
          "key": "SourceSystemPlaceId",
          "sourceSystemKey": "StaticObjects",
          "value": "TaxiRank_5677"
         },
         {
          "$type": "Tfl.Api.Presentation.Entities.AdditionalProperties, Tfl.Api.Presentation.Entities",
          "category": "NearestPlaces",
          "key": "SourceSystemPlaceId",
          "sourceSystemKey": "StaticObjects",
          "value": "TaxiRank_5074"
         },
         {
          "$type": "Tfl.Api.Presentation.Entities.AdditionalProperties, Tfl.Api.Presentation.Entities",
          "category": "NearestPlaces",
          "key": "SourceSystemPlaceId",
          "sourceSystemKey": "StaticObjects",
          "value": "TaxiRank_5195"
         },
         {
          "$type": "Tfl.Api.Presentation.Entities.AdditionalProperties, Tfl.Api.Presentation.Entities",
          "category": "NearestPlaces",
          "key": "SourceSystemPlaceId",
          "sourceSystemKey": "StaticObjects",
          "value": "TaxiRank_5660"
         },
         {
          "$type": "Tfl.Api.Presentation.Entities.AdditionalProperties, Tfl.Api.Presentation.Entities",
          "category": "NearestPlaces",
          "key": "SourceSystemPlaceId",
          "sourceSystemKey": "StaticObjects",
          "value": "TaxiRank_5015"
         },
         {
          "$type": "Tfl.Api.Presentation.Entities.AdditionalProperties, Tfl.Api.Presentation.Entities",
          "category": "NearestPlaces",
          "key": "SourceSystemPlaceId",
          "sourceSystemKey": "StaticObjects",
          "value": "TaxiRank_4603"
         },
         {
          "$type": "Tfl.Api.Presentation.Entities.AdditionalProperties, Tfl.Api.Presentation.Entities",
          "category": "NearestPlaces",
          "key": "SourceSystemPlaceId",
          "sourceSystemKey": "StaticObjects",
          "value": "TaxiRank_5627"
         },
         {
          "$type": "Tfl.Api.Presentation.Entities.AdditionalProperties, Tfl.Api.Presentation.Entities",
          "category": "NearestPlaces",
          "key": "SourceSystemPlaceId",
          "sourceSystemKey": "StaticObjects",
          "value": "TaxiRank_5065"
         },
         {
          "$type": "Tfl.Api.Presentation.Entities.AdditionalProperties, Tfl.Api.Presentation.Entities",
          "category": "NearestPlaces",
          "key": "SourceSystemPlaceId",
          "sourceSystemKey": "StaticObjects",
          "value": "TaxiRank_5816"
         },
         {
          "$type": "Tfl.Api.Presentation.Entities.AdditionalProperties, Tfl.Api.Presentation.Entities",
          "category": "NearestPlaces",
          "key": "SourceSystemPlaceId",
          "sourceSystemKey": "StaticObjects",
          "value": "TaxiRank_5611"
         }
        ],
        "children": [
         {
          "$type": "Tfl.Api.Presentation.Entities.StopPoint, Tfl.Api.Presentation.Entities",
          "additionalProperties": [],
          "children": [],
          "commonName": "Oxford Circus Underground Station",
          "icsCode": "1000173",
          "id": "9400ZZLUOXC3",
          "lat": 0,
          "lineGroup": [],
          "lineModeGroups": [],
          "lines": [],
          "lon": 0,
          "modes": [],
          "naptanId": "9400ZZLUOXC3",
          "placeType": "StopPoint",
          "stationNaptan": "940GZZLUOXC",
          "status": true
         },
         {
          "$type": "Tfl.Api.Presentation.Entities.StopPoint, Tfl.Api.Presentation.Entities",
          "additionalProperties": [],
          "children": [],
          "commonName": "Oxford Circus Underground Station",
          "icsCode": "1000173",
          "id": "9400ZZLUOXC4",
          "lat": 0,
          "lineGroup": [],
          "lineModeGroups": [],
          "lines": [],
          "lon": 0,
          "modes": [],
          "naptanId": "9400ZZLUOXC4",
          "placeType": "StopPoint",
          "stationNaptan": "940GZZLUOXC",
          "status": true
         },
         {
          "$type": "Tfl.Api.Presentation.Entities.StopPoint, Tfl.Api.Presentation.Entities",
          "additionalProperties": [],
          "children": [],
          "commonName": "Oxford Circus Underground Station",
          "icsCode": "1000173",
          "id": "9400ZZLUOXC1",
          "lat": 0,
          "lineGroup": [],
          "lineModeGroups": [],
          "lines": [],
          "lon": 0,
          "modes": [],
          "naptanId": "9400ZZLUOXC1",
          "placeType": "StopPoint",
          "stationNaptan": "940GZZLUOXC",
          "status": true
         },
         {
          "$type": "Tfl.Api.Presentation.Entities.StopPoint, Tfl.Api.Presentation.Entities",
          "additionalProperties": [],
          "children": [],
          "commonName": "Oxford Circus Underground Station",
          "icsCode": "1000173",
          "id": "9400ZZLUOXC5",
          "lat": 0,
          "lineGroup": [],
          "lineModeGroups": [],
          "lines": [],
          "lon": 0,
          "modes": [],
          "naptanId": "9400ZZLUOXC5",
          "placeType": "StopPoint",
          "stationNaptan": "940GZZLUOXC",
          "status": true
         },
         {
          "$type": "Tfl.Api.Presentation.Entities.StopPoint, Tfl.Api.Presentation.Entities",
          "additionalProperties": [],
          "children": [],
          "commonName": "Oxford Circus Underground Station",
          "icsCode": "1000173",
          "id": "9400ZZLUOXC2",
          "lat": 0,
          "lineGroup": [],
          "lineModeGroups": [],
          "lines": [],
          "lon": 0,
          "modes": [],
          "naptanId": "9400ZZLUOXC2",
          "placeType": "StopPoint",
          "stationNaptan": "940GZZLUOXC",
          "status": true
         },
         {
          "$type": "Tfl.Api.Presentation.Entities.StopPoint, Tfl.Api.Presentation.Entities",
          "additionalProperties": [],
          "children": [],
          "commonName": "Oxford Circus Underground Station",
          "icsCode": "1000173",
          "id": "9400ZZLUOXC6",
          "lat": 0,
          "lineGroup": [],
          "lineModeGroups": [],
          "lines": [],
          "lon": 0,
          "modes": [],
          "naptanId": "9400ZZLUOXC6",
          "placeType": "StopPoint",
          "stationNaptan": "940GZZLUOXC",
          "status": true
         }
        ],
        "commonName": "Oxford Circus Underground Station",
        "icsCode": "1000173",
        "id": "940GZZLUOXC",
        "lat": 51.515224,
        "lineGroup": [
         {
          "$type": "Tfl.Api.Presentation.Entities.LineGroup, Tfl.Api.Presentation.Entities",
          "lineIdentifier": [
           "113",
           "n137"
          ],
          "naptanIdReference": "490000173Z",
          "stationAtcoCode": "490G00173OQ"
         },
         {
          "$type": "Tfl.Api.Presentation.Entities.LineGroup, Tfl.Api.Presentation.Entities",
          "lineIdentifier": [
           "12",
           "159",
           "22",
           "88",
           "94",
           "n15",
           "n22",
           "n3"
          ],
          "naptanIdReference": "490000173RC",
          "stationAtcoCode": "490G00173RG"
         },
         {
          "$type": "Tfl.Api.Presentation.Entities.LineGroup, Tfl.Api.Presentation.Entities",
          "lineIdentifier": [
           "139",
           "159",
           "22",
           "94",
           "n109",
           "n113",
           "n136",
           "n15",
           "n18",
           "n22"
          ],
          "naptanIdReference": "490000173RG",
          "stationAtcoCode": "490G00173RG"
         },
         {
          "$type": "Tfl.Api.Presentation.Entities.LineGroup, Tfl.Api.Presentation.Entities",
          "lineIdentifier": [
           "bakerloo"
          ],
          "stationAtcoCode": "940GZZLUOXC"
         },
         {
          "$type": "Tfl.Api.Presentation.Entities.LineGroup, Tfl.Api.Presentation.Entities",
          "lineIdentifier": [
           "central"
          ],
          "stationAtcoCode": "940GZZLUOXC"
         },
         {
          "$type": "Tfl.Api.Presentation.Entities.LineGroup, Tfl.Api.Presentation.Entities",
          "lineIdentifier": [
           "victoria"
          ],
          "stationAtcoCode": "940GZZLUOXC"
         }
        ],
        "lineModeGroups": [
         {
          "$type": "Tfl.Api.Presentation.Entities.LineModeGroup, Tfl.Api.Presentation.Entities",
          "lineIdentifier": [
           "113",
           "12",
           "139",
           "159",
           "22",
           "88",
           "94",
           "n109",
           "n113",
           "n136",
           "n137",
           "n15",
           "n18",
           "n22",
           "n3"
          ],
          "modeName": "bus"
         },
         {
          "$type": "Tfl.Api.Presentation.Entities.LineModeGroup, Tfl.Api.Presentation.Entities",
          "lineIdentifier": [
           "bakerloo",
           "central",
           "victoria"
          ],
          "modeName": "tube"
         }
        ],
        "lines": [
         {
          "$type": "Tfl.Api.Presentation.Entities.Identifier, Tfl.Api.Presentation.Entities",
          "crowding": {
           "$type": "Tfl.Api.Presentation.Entities.Crowding, Tfl.Api.Presentation.Entities"
          },
          "id": "113",
          "name": "113",
          "routeType": "Unknown",
          "status": "Unknown",
          "type": "Line",
          "uri": "/Line/113"
         },
         {
          "$type": "Tfl.Api.Presentation.Entities.Identifier, Tfl.Api.Presentation.Entities",
          "crowding": {
           "$type": "Tfl.Api.Presentation.Entities.Crowding, Tfl.Api.Presentation.Entities"
          },
          "id": "12",
          "name": "12",
          "routeType": "Unknown",
          "status": "Unknown",
          "type": "Line",
          "uri": "/Line/12"
         },
         {
          "$type": "Tfl.Api.Presentation.Entities.Identifier, Tfl.Api.Presentation.Entities",
          "crowding": {
           "$type": "Tfl.Api.Presentation.Entities.Crowding, Tfl.Api.Presentation.Entities"
          },
          "id": "139",
          "name": "139",
          "routeType": "Unknown",
          "status": "Unknown",
          "type": "Line",
          "uri": "/Line/139"
         },
         {
          "$type": "Tfl.Api.Presentation.Entities.Identifier, Tfl.Api.Presentation.Entities",
          "crowding": {
           "$type": "Tfl.Api.Presentation.Entities.Crowding, Tfl.Api.Presentation.Entities"
          },
          "id": "159",
          "name": "159",
          "routeType": "Unknown",
          "status": "Unknown",
          "type": "Line",
          "uri": "/Line/159"
         },
         {
          "$type": "Tfl.Api.Presentation.Entities.Identifier, Tfl.Api.Presentation.Entities",
          "crowding": {
           "$type": "Tfl.Api.Presentation.Entities.Crowding, Tfl.Api.Presentation.Entities"
          },
          "id": "22",
          "name": "22",
          "routeType": "Unknown",
          "status": "Unknown",
          "type": "Line",
          "uri": "/Line/22"
         },
         {
          "$type": "Tfl.Api.Presentation.Entities.Identifier, Tfl.Api.Presentation.Entities",
          "crowding": {
           "$type": "Tfl.Api.Presentation.Entities.Crowding, Tfl.Api.Presentation.Entities"
          },
          "id": "88",
          "name": "88",
          "routeType": "Unknown",
          "status": "Unknown",
          "type": "Line",
          "uri": "/Line/88"
         },
         {
          "$type": "Tfl.Api.Presentation.Entities.Identifier, Tfl.Api.Presentation.Entities",
          "crowding": {
           "$type": "Tfl.Api.Presentation.Entities.Crowding, Tfl.Api.Presentation.Entities"
          },
          "id": "94",
          "name": "94",
          "routeType": "Unknown",
          "status": "Unknown",
          "type": "Line",
          "uri": "/Line/94"
         },
         {
          "$type": "Tfl.Api.Presentation.Entities.Identifier, Tfl.Api.Presentation.Entities",
          "crowding": {
           "$type": "Tfl.Api.Presentation.Entities.Crowding, Tfl.Api.Presentation.Entities"
          },
          "id": "bakerloo",
          "name": "Bakerloo",
          "routeType": "Unknown",
          "status": "Unknown",
          "type": "Line",
          "uri": "/Line/bakerloo"
         },
         {
          "$type": "Tfl.Api.Presentation.Entities.Identifier, Tfl.Api.Presentation.Entities",
          "crowding": {
           "$type": "Tfl.Api.Presentation.Entities.Crowding, Tfl.Api.Presentation.Entities"
          },
          "id": "central",
          "name": "Central",
          "routeType": "Unknown",
          "status": "Unknown",
          "type": "Line",
          "uri": "/Line/central"
         },
         {
          "$type": "Tfl.Api.Presentation.Entities.Identifier, Tfl.Api.Presentation.Entities",
          "crowding": {
           "$type": "Tfl.Api.Presentation.Entities.Crowding, Tfl.Api.Presentation.Entities"
          },
          "id": "n109",
          "name": "N109",
          "routeType": "Unknown",
          "status": "Unknown",
          "type": "Line",
          "uri": "/Line/n109"
         },
         {
          "$type": "Tfl.Api.Presentation.Entities.Identifier, Tfl.Api.Presentation.Entities",
          "crowding": {
           "$type": "Tfl.Api.Presentation.Entities.Crowding, Tfl.Api.Presentation.Entities"
          },
          "id": "n113",
          "name": "N113",
          "routeType": "Unknown",
          "status": "Unknown",
          "type": "Line",
          "uri": "/Line/n113"
         },
         {
          "$type": "Tfl.Api.Presentation.Entities.Identifier, Tfl.Api.Presentation.Entities",
          "crowding": {
           "$type": "Tfl.Api.Presentation.Entities.Crowding, Tfl.Api.Presentation.Entities"
          },
          "id": "n136",
          "name": "N136",
          "routeType": "Unknown",
          "status": "Unknown",
          "type": "Line",
          "uri": "/Line/n136"
         },
         {
          "$type": "Tfl.Api.Presentation.Entities.Identifier, Tfl.Api.Presentation.Entities",
          "crowding": {
           "$type": "Tfl.Api.Presentation.Entities.Crowding, Tfl.Api.Presentation.Entities"
          },
          "id": "n137",
          "name": "N137",
          "routeType": "Unknown",
          "status": "Unknown",
          "type": "Line",
          "uri": "/Line/n137"
         },
         {
          "$type": "Tfl.Api.Presentation.Entities.Identifier, Tfl.Api.Presentation.Entities",
          "crowding": {
           "$type": "Tfl.Api.Presentation.Entities.Crowding, Tfl.Api.Presentation.Entities"
          },
          "id": "n15",
          "name": "N15",
          "routeType": "Unknown",
          "status": "Unknown",
          "type": "Line",
          "uri": "/Line/n15"
         },
         {
          "$type": "Tfl.Api.Presentation.Entities.Identifier, Tfl.Api.Presentation.Entities",
          "crowding": {
           "$type": "Tfl.Api.Presentation.Entities.Crowding, Tfl.Api.Presentation.Entities"
          },
          "id": "n18",
          "name": "N18",
          "routeType": "Unknown",
          "status": "Unknown",
          "type": "Line",
          "uri": "/Line/n18"
         },
         {
          "$type": "Tfl.Api.Presentation.Entities.Identifier, Tfl.Api.Presentation.Entities",
          "crowding": {
           "$type": "Tfl.Api.Presentation.Entities.Crowding, Tfl.Api.Presentation.Entities"
          },
          "id": "n22",
          "name": "N22",
          "routeType": "Unknown",
          "status": "Unknown",
          "type": "Line",
          "uri": "/Line/n22"
         },
         {
          "$type": "Tfl.Api.Presentation.Entities.Identifier, Tfl.Api.Presentation.Entities",
          "crowding": {
           "$type": "Tfl.Api.Presentation.Entities.Crowding, Tfl.Api.Presentation.Entities"
          },
          "id": "n3",
          "name": "N3",
          "routeType": "Unknown",
          "status": "Unknown",
          "type": "Line",
          "uri": "/Line/n3"
         },
         {
          "$type": "Tfl.Api.Presentation.Entities.Identifier, Tfl.Api.Presentation.Entities",
          "crowding": {
           "$type": "Tfl.Api.Presentation.Entities.Crowding, Tfl.Api.Presentation.Entities"
          },
          "id": "victoria",
          "name": "Victoria",
          "routeType": "Unknown",
          "status": "Unknown",
          "type": "Line",
          "uri": "/Line/victoria"
         }
        ],
        "lon": -0.141903,
        "modes": [
         "bus",
         "tube"
        ],
        "naptanId": "940GZZLUOXC",
        "placeType": "StopPoint",
        "stationNaptan": "940GZZLUOXC",
        "status": true,
        "stopType": "NaptanMetroStation"
       },
       {
        "$type": "Tfl.Api.Presentation.Entities.StopPoint, Tfl.Api.Presentation.Entities",
        "additionalProperties": [
         {
          "$type": "Tfl.Api.Presentation.Entities.AdditionalProperties, Tfl.Api.Presentation.Entities",
          "category": "ServiceInfo",
          "key": "Night",
          "sourceSystemKey": "TransXchangeETL",
          "value": "yes"
         },
         {
          "$type": "Tfl.Api.Presentation.Entities.AdditionalProperties, Tfl.Api.Presentation.Entities",
          "category": "Facility",
          "key": "Cash Machines",
          "sourceSystemKey": "StaticObjects",
          "value": "0"
         },
         {
          "$type": "Tfl.Api.Presentation.Entities.AdditionalProperties, Tfl.Api.Presentation.Entities",
          "category": "Facility",
          "key": "Gates",
          "sourceSystemKey": "StaticObjects",
          "value": "7"
         },
         {
          "$type": "Tfl.Api.Presentation.Entities.AdditionalProperties, Tfl.Api.Presentation.Entities",
          "category": "Facility",
          "key": "Help Points",
          "sourceSystemKey": "StaticObjects",
          "value": "4 on platforms, 0 in ticket halls, 1 elsewhere"
         },
         {
          "$type": "Tfl.Api.Presentation.Entities.AdditionalProperties, Tfl.Api.Presentation.Entities",
          "category": "Facility",
          "key": "Car park",
          "sourceSystemKey": "StaticObjects",
          "value": "no"
         },
         {
          "$type": "Tfl.Api.Presentation.Entities.AdditionalProperties, Tfl.Api.Presentation.Entities",
          "category": "Facility",
          "key": "Lifts",
          "sourceSystemKey": "StaticObjects",
          "value": "0"
         },
         {
          "$type": "Tfl.Api.Presentation.Entities.AdditionalProperties, Tfl.Api.Presentation.Entities",
          "category": "Address",
          "key": "Address",
          "sourceSystemKey": "StaticObjects",
          "value": "Pimlico Station,London Underground Ltd.,Bessborough St,London,SW1V 2JA"
         },
         {
          "$type": "Tfl.Api.Presentation.Entities.AdditionalProperties, Tfl.Api.Presentation.Entities",
          "category": "Address",
          "key": "PhoneNo",
          "sourceSystemKey": "StaticObjects",
          "value": "0845 330 9880"
         },
         {
          "$type": "Tfl.Api.Presentation.Entities.AdditionalProperties, Tfl.Api.Presentation.Entities",
          "category": "Facility",
          "key": "Photo Booths",
          "sourceSystemKey": "StaticObjects",
          "value": "0"
         },
         {
          "$type": "Tfl.Api.Presentation.Entities.AdditionalProperties, Tfl.Api.Presentation.Entities",
          "category": "Facility",
          "key": "Other Facilities",
          "sourceSystemKey": "StaticObjects",
          "value": "routeways platform to ticket hall."
         },
         {
          "$type": "Tfl.Api.Presentation.Entities.AdditionalProperties, Tfl.Api.Presentation.Entities",
          "category": "Facility",
          "key": "Payphones",
          "sourceSystemKey": "StaticObjects",
          "value": "1"
         },
         {
          "$type": "Tfl.Api.Presentation.Entities.AdditionalProperties, Tfl.Api.Presentation.Entities",
          "category": "Facility",
          "key": "Toilets",
          "sourceSystemKey": "StaticObjects",
          "value": "no"
         },
         {
          "$type": "Tfl.Api.Presentation.Entities.AdditionalProperties, Tfl.Api.Presentation.Entities",
          "category": "Facility",
          "key": "Bridge",
          "sourceSystemKey": "StaticObjects",
          "value": "no"
         },
         {
          "$type": "Tfl.Api.Presentation.Entities.AdditionalProperties, Tfl.Api.Presentation.Entities",
          "category": "Facility",
          "key": "Ticket Halls",
          "sourceSystemKey": "StaticObjects",
          "value": "1"
         },
         {
          "$type": "Tfl.Api.Presentation.Entities.AdditionalProperties, Tfl.Api.Presentation.Entities",
          "category": "Facility",
          "key": "WiFi",
          "sourceSystemKey": "StaticObjects",
          "value": "yes"
         },
         {
          "$type": "Tfl.Api.Presentation.Entities.AdditionalProperties, Tfl.Api.Presentation.Entities",
          "category": "Geo",
          "key": "Zone",
          "sourceSystemKey": "StaticObjects",
          "value": "1"
         },
         {
          "$type": "Tfl.Api.Presentation.Entities.AdditionalProperties, Tfl.Api.Presentation.Entities",
          "category": "Facility",
          "key": "Escalators",
          "sourceSystemKey": "StaticObjects",
          "value": "2"
         },
         {
          "$type": "Tfl.Api.Presentation.Entities.AdditionalProperties, Tfl.Api.Presentation.Entities",
          "category": "Facility",
          "key": "Waiting Room",
          "sourceSystemKey": "StaticObjects",
          "value": "no"
         },
         {
          "$type": "Tfl.Api.Presentation.Entities.AdditionalProperties, Tfl.Api.Presentation.Entities",
          "category": "NearestPlaces",
          "key": "SourceSystemPlaceId",
          "sourceSystemKey": "StaticObjects",
          "value": "BikePoints_267"
         },
         {
          "$type": "Tfl.Api.Presentation.Entities.AdditionalProperties, Tfl.Api.Presentation.Entities",
          "category": "NearestPlaces",
          "key": "SourceSystemPlaceId",
          "sourceSystemKey": "StaticObjects",
          "value": "BikePoints_294"
         },
         {
          "$type": "Tfl.Api.Presentation.Entities.AdditionalProperties, Tfl.Api.Presentation.Entities",
          "category": "NearestPlaces",
          "key": "SourceSystemPlaceId",
          "sourceSystemKey": "StaticObjects",
          "value": "BikePoints_146"
         },
         {
          "$type": "Tfl.Api.Presentation.Entities.AdditionalProperties, Tfl.Api.Presentation.Entities",
          "category": "NearestPlaces",
          "key": "SourceSystemPlaceId",
          "sourceSystemKey": "StaticObjects",
          "value": "BikePoints_148"
         },
         {
          "$type": "Tfl.Api.Presentation.Entities.AdditionalProperties, Tfl.Api.Presentation.Entities",
          "category": "NearestPlaces",
          "key": "SourceSystemPlaceId",
          "sourceSystemKey": "StaticObjects",
          "value": "BikePoints_185"
         },
         {
          "$type": "Tfl.Api.Presentation.Entities.AdditionalProperties, Tfl.Api.Presentation.Entities",
          "category": "NearestPlaces",
          "key": "SourceSystemPlaceId",
          "sourceSystemKey": "StaticObjects",
          "value": "BikePoints_190"
         },
         {
          "$type": "Tfl.Api.Presentation.Entities.AdditionalProperties, Tfl.Api.Presentation.Entities",
          "category": "NearestPlaces",
          "key": "SourceSystemPlaceId",
          "sourceSystemKey": "StaticObjects",
          "value": "TaxiRank_5495"
         }
        ],
        "children": [
         {
          "$type": "Tfl.Api.Presentation.Entities.StopPoint, Tfl.Api.Presentation.Entities",
          "additionalProperties": [],
          "children": [],
          "commonName": "Pimlico Underground Station",
          "icsCode": "1000180",
          "id": "9400ZZLUPCO1",
          "lat": 0,
          "lineGroup": [],
          "lineModeGroups": [],
          "lines": [],
          "lon": 0,
          "modes": [],
          "naptanId": "9400ZZLUPCO1",
          "placeType": "StopPoint",
          "stationNaptan": "940GZZLUPCO",
          "status": true
         }
        ],
        "commonName": "Pimlico Underground Station",
        "icsCode": "1000180",
        "id": "940GZZLUPCO",
        "lat": 51.489097,
        "lineGroup": [
         {
          "$type": "Tfl.Api.Presentation.Entities.LineGroup, Tfl.Api.Presentation.Entities",
          "lineIdentifier": [
           "185",
           "2",
           "36",
           "n136",
           "n2"
          ],
          "naptanIdReference": "490000180A",
          "stationAtcoCode": "490G00180A"
         },
         {
          "$type": "Tfl.Api.Presentation.Entities.LineGroup, Tfl.Api.Presentation.Entities",
          "lineIdentifier": [
           "185",
           "2",
           "36",
           "n136",
           "n2"
          ],
          "naptanIdReference": "490000180D",
          "stationAtcoCode": "490G00180A"
         },
         {
          "$type": "Tfl.Api.Presentation.Entities.LineGroup, Tfl.Api.Presentation.Entities",
          "lineIdentifier": [
           "360",
           "c10"
          ],
          "naptanIdReference": "490000180H",
          "stationAtcoCode": "490G00180H"
         },
         {
          "$type": "Tfl.Api.Presentation.Entities.LineGroup, Tfl.Api.Presentation.Entities",
          "lineIdentifier": [
           "360",
           "c10"
          ],
          "naptanIdReference": "490000180J",
          "stationAtcoCode": "490G00180H"
         },
         {
          "$type": "Tfl.Api.Presentation.Entities.LineGroup, Tfl.Api.Presentation.Entities",
          "lineIdentifier": [
           "victoria"
          ],
          "stationAtcoCode": "940GZZLUPCO"
         }
        ],
        "lineModeGroups": [
         {
          "$type": "Tfl.Api.Presentation.Entities.LineModeGroup, Tfl.Api.Presentation.Entities",
          "lineIdentifier": [
           "185",
           "2",
           "36",
           "360",
           "c10",
           "n136",
           "n2"
          ],
          "modeName": "bus"
         },
         {
          "$type": "Tfl.Api.Presentation.Entities.LineModeGroup, Tfl.Api.Presentation.Entities",
          "lineIdentifier": [
           "victoria"
          ],
          "modeName": "tube"
         }
        ],
        "lines": [
         {
          "$type": "Tfl.Api.Presentation.Entities.Identifier, Tfl.Api.Presentation.Entities",
          "crowding": {
           "$type": "Tfl.Api.Presentation.Entities.Crowding, Tfl.Api.Presentation.Entities"
          },
          "id": "185",
          "name": "185",
          "routeType": "Unknown",
          "status": "Unknown",
          "type": "Line",
          "uri": "/Line/185"
         },
         {
          "$type": "Tfl.Api.Presentation.Entities.Identifier, Tfl.Api.Presentation.Entities",
          "crowding": {
           "$type": "Tfl.Api.Presentation.Entities.Crowding, Tfl.Api.Presentation.Entities"
          },
          "id": "2",
          "name": "2",
          "routeType": "Unknown",
          "status": "Unknown",
          "type": "Line",
          "uri": "/Line/2"
         },
         {
          "$type": "Tfl.Api.Presentation.Entities.Identifier, Tfl.Api.Presentation.Entities",
          "crowding": {
           "$type": "Tfl.Api.Presentation.Entities.Crowding, Tfl.Api.Presentation.Entities"
          },
          "id": "36",
          "name": "36",
          "routeType": "Unknown",
          "status": "Unknown",
          "type": "Line",
          "uri": "/Line/36"
         },
         {
          "$type": "Tfl.Api.Presentation.Entities.Identifier, Tfl.Api.Presentation.Entities",
          "crowding": {
           "$type": "Tfl.Api.Presentation.Entities.Crowding, Tfl.Api.Presentation.Entities"
          },
          "id": "360",
          "name": "360",
          "routeType": "Unknown",
          "status": "Unknown",
          "type": "Line",
          "uri": "/Line/360"
         },
         {
          "$type": "Tfl.Api.Presentation.Entities.Identifier, Tfl.Api.Presentation.Entities",
          "crowding": {
           "$type": "Tfl.Api.Presentation.Entities.Crowding, Tfl.Api.Presentation.Entities"
          },
          "id": "c10",
          "name": "C10",
          "routeType": "Unknown",
          "status": "Unknown",
          "type": "Line",
          "uri": "/Line/c10"
         },
         {
          "$type": "Tfl.Api.Presentation.Entities.Identifier, Tfl.Api.Presentation.Entities",
          "crowding": {
           "$type": "Tfl.Api.Presentation.Entities.Crowding, Tfl.Api.Presentation.Entities"
          },
          "id": "n136",
          "name": "N136",
          "routeType": "Unknown",
          "status": "Unknown",
          "type": "Line",
          "uri": "/Line/n136"
         },
         {
          "$type": "Tfl.Api.Presentation.Entities.Identifier, Tfl.Api.Presentation.Entities",
          "crowding": {
           "$type": "Tfl.Api.Presentation.Entities.Crowding, Tfl.Api.Presentation.Entities"
          },
          "id": "n2",
          "name": "N2",
          "routeType": "Unknown",
          "status": "Unknown",
          "type": "Line",
          "uri": "/Line/n2"
         },
         {
          "$type": "Tfl.Api.Presentation.Entities.Identifier, Tfl.Api.Presentation.Entities",
          "crowding": {
           "$type": "Tfl.Api.Presentation.Entities.Crowding, Tfl.Api.Presentation.Entities"
          },
          "id": "victoria",
          "name": "Victoria",
          "routeType": "Unknown",
          "status": "Unknown",
          "type": "Line",
          "uri": "/Line/victoria"
         }
        ],
        "lon": -0.133761,
        "modes": [
         "tube",
         "bus"
        ],
        "naptanId": "940GZZLUPCO",
        "placeType": "StopPoint",
        "stationNaptan": "940GZZLUPCO",
        "status": true,
        "stopType": "NaptanMetroStation"
       },
       {
        "$type": "Tfl.Api.Presentation.Entities.StopPoint, Tfl.Api.Presentation.Entities",
        "additionalProperties": [
         {
          "$type": "Tfl.Api.Presentation.Entities.AdditionalProperties, Tfl.Api.Presentation.Entities",
          "category": "ServiceInfo",
          "key": "Night",
          "sourceSystemKey": "TransXchangeETL",
          "value": "yes"
         },
         {
          "$type": "Tfl.Api.Presentation.Entities.AdditionalProperties, Tfl.Api.Presentation.Entities",
          "category": "Facility",
          "key": "Cash Machines",
          "sourceSystemKey": "StaticObjects",
          "value": "0"
         },
         {
          "$type": "Tfl.Api.Presentation.Entities.AdditionalProperties, Tfl.Api.Presentation.Entities",
          "category": "Facility",
          "key": "Gates",
          "sourceSystemKey": "StaticObjects",
          "value": "7"
         },
         {
          "$type": "Tfl.Api.Presentation.Entities.AdditionalProperties, Tfl.Api.Presentation.Entities",
          "category": "Facility",
          "key": "Lifts",
          "sourceSystemKey": "StaticObjects",
          "value": "0"
         },
         {
          "$type": "Tfl.Api.Presentation.Entities.AdditionalProperties, Tfl.Api.Presentation.Entities",
          "category": "Facility",
          "key": "Other Facilities",
          "sourceSystemKey": "StaticObjects",
          "value": "electronic whiteboards in ticket hall, post office style queuing for tickets."
         },
         {
          "$type": "Tfl.Api.Presentation.Entities.AdditionalProperties, Tfl.Api.Presentation.Entities",
          "category": "Facility",
          "key": "Toilets",
          "sourceSystemKey": "StaticObjects",
          "value": "no"
         },
         {
          "$type": "Tfl.Api.Presentation.Entities.AdditionalProperties, Tfl.Api.Presentation.Entities",
          "category": "Facility",
          "key": "Bridge",
          "sourceSystemKey": "StaticObjects",
          "value": "no"
         },
         {
          "$type": "Tfl.Api.Presentation.Entities.AdditionalProperties, Tfl.Api.Presentation.Entities",
          "category": "Facility",
          "key": "Waiting Room",
          "sourceSystemKey": "StaticObjects",
          "value": "no"
         },
         {
          "$type": "Tfl.Api.Presentation.Entities.AdditionalProperties, Tfl.Api.Presentation.Entities",
          "category": "Facility",
          "key": "Car park",
          "sourceSystemKey": "StaticObjects",
          "value": "no"
         },
         {
          "$type": "Tfl.Api.Presentation.Entities.AdditionalProperties, Tfl.Api.Presentation.Entities",
          "category": "Facility",
          "key": "Escalators",
          "sourceSystemKey": "StaticObjects",
          "value": "3"
         },
         {
          "$type": "Tfl.Api.Presentation.Entities.AdditionalProperties, Tfl.Api.Presentation.Entities",
          "category": "Facility",
          "key": "Photo Booths",
          "sourceSystemKey": "StaticObjects",
          "value": "0"
         },
         {
          "$type": "Tfl.Api.Presentation.Entities.AdditionalProperties, Tfl.Api.Presentation.Entities",
          "category": "Address",
          "key": "Address",
          "sourceSystemKey": "StaticObjects",
          "value": "Stockwell Station,London Underground Ltd.,Clapham Rd,London,SW9 9AE"
         },
         {
          "$type": "Tfl.Api.Presentation.Entities.AdditionalProperties, Tfl.Api.Presentation.Entities",
          "category": "Facility",
          "key": "Help Points",
          "sourceSystemKey": "StaticObjects",
          "value": "0 on platforms, 0 in ticket halls, 0 elsewhere"
         },
         {
          "$type": "Tfl.Api.Presentation.Entities.AdditionalProperties, Tfl.Api.Presentation.Entities",
          "category": "Facility",
          "key": "Payphones",
          "sourceSystemKey": "StaticObjects",
          "value": "5"
         },
         {
          "$type": "Tfl.Api.Presentation.Entities.AdditionalProperties, Tfl.Api.Presentation.Entities",
          "category": "Facility",
          "key": "Ticket Halls",
          "sourceSystemKey": "StaticObjects",
          "value": "1"
         },
         {
          "$type": "Tfl.Api.Presentation.Entities.AdditionalProperties, Tfl.Api.Presentation.Entities",
          "category": "Facility",
          "key": "WiFi",
          "sourceSystemKey": "StaticObjects",
          "value": "yes"
         },
         {
          "$type": "Tfl.Api.Presentation.Entities.AdditionalProperties, Tfl.Api.Presentation.Entities",
          "category": "Address",
          "key": "PhoneNo",
          "sourceSystemKey": "StaticObjects",
          "value": "0845 330 9880"
         },
         {
          "$type": "Tfl.Api.Presentation.Entities.AdditionalProperties, Tfl.Api.Presentation.Entities",
          "category": "Geo",
          "key": "Zone",
          "sourceSystemKey": "StaticObjects",
          "value": "2"
         },
         {
          "$type": "Tfl.Api.Presentation.Entities.AdditionalProperties, Tfl.Api.Presentation.Entities",
          "category": "Accessibility",
          "key": "AccessViaLift",
          "sourceSystemKey": "LRAD",
          "value": "No"
         },
         {
          "$type": "Tfl.Api.Presentation.Entities.AdditionalProperties, Tfl.Api.Presentation.Entities",
          "category": "Accessibility",
          "key": "BlueBadgeCarParkSpaces",
          "sourceSystemKey": "LRAD",
          "value": "0"
         },
         {
          "$type": "Tfl.Api.Presentation.Entities.AdditionalProperties, Tfl.Api.Presentation.Entities",
          "category": "Accessibility",
          "key": "LimitedCapacityLift",
          "sourceSystemKey": "LRAD",
          "value": "No"
         },
         {
          "$type": "Tfl.Api.Presentation.Entities.AdditionalProperties, Tfl.Api.Presentation.Entities",
          "category": "Accessibility",
          "key": "TaxiRankOutsideStation",
          "sourceSystemKey": "LRAD",
          "value": "No"
         },
         {
          "$type": "Tfl.Api.Presentation.Entities.AdditionalProperties, Tfl.Api.Presentation.Entities",
          "category": "Accessibility",
          "key": "Toilet",
          "sourceSystemKey": "LRAD",
          "value": "No"
         },
         {
          "$type": "Tfl.Api.Presentation.Entities.AdditionalProperties, Tfl.Api.Presentation.Entities",
          "category": "NearestPlaces",
          "key": "SourceSystemPlaceId",
          "sourceSystemKey": "StaticObjects",
          "value": "BikePoints_630"
         },
         {
          "$type": "Tfl.Api.Presentation.Entities.AdditionalProperties, Tfl.Api.Presentation.Entities",
          "category": "NearestPlaces",
          "key": "SourceSystemPlaceId",
          "sourceSystemKey": "StaticObjects",
          "value": "BikePoints_669"
         },
         {
          "$type": "Tfl.Api.Presentation.Entities.AdditionalProperties, Tfl.Api.Presentation.Entities",
          "category": "NearestPlaces",
          "key": "SourceSystemPlaceId",
          "sourceSystemKey": "StaticObjects",
          "value": "BikePoints_830"
         },
         {
          "$type": "Tfl.Api.Presentation.Entities.AdditionalProperties, Tfl.Api.Presentation.Entities",
          "category": "NearestPlaces",
          "key": "SourceSystemPlaceId",
          "sourceSystemKey": "StaticObjects",
          "value": "BikePoints_772"
         },
         {
          "$type": "Tfl.Api.Presentation.Entities.AdditionalProperties, Tfl.Api.Presentation.Entities",
          "category": "NearestPlaces",
          "key": "SourceSystemPlaceId",
          "sourceSystemKey": "StaticObjects",
          "value": "BikePoints_814"
         }
        ],
        "children": [
         {
          "$type": "Tfl.Api.Presentation.Entities.StopPoint, Tfl.Api.Presentation.Entities",
          "additionalProperties": [],
          "children": [],
          "commonName": "Stockwell Underground Station",
          "icsCode": "1000223",
          "id": "9400ZZLUSKW1",
          "lat": 0,
          "lineGroup": [],
          "lineModeGroups": [],
          "lines": [],
          "lon": 0,
          "modes": [],
          "naptanId": "9400ZZLUSKW1",
          "placeType": "StopPoint",
          "stationNaptan": "940GZZLUSKW",
          "status": true
         },
         {
          "$type": "Tfl.Api.Presentation.Entities.StopPoint, Tfl.Api.Presentation.Entities",
          "additionalProperties": [],
          "children": [],
          "commonName": "Stockwell Underground Station",
          "icsCode": "1000223",
          "id": "9400ZZLUSKW2",
          "lat": 0,
          "lineGroup": [],
          "lineModeGroups": [],
          "lines": [],
          "lon": 0,
          "modes": [],
          "naptanId": "9400ZZLUSKW2",
          "placeType": "StopPoint",
          "stationNaptan": "940GZZLUSKW",
          "status": true
         },
         {
          "$type": "Tfl.Api.Presentation.Entities.StopPoint, Tfl.Api.Presentation.Entities",
          "additionalProperties": [],
          "children": [],
          "commonName": "Stockwell Underground Station",
          "icsCode": "1000223",
          "id": "9400ZZLUSKW3",
          "lat": 0,
          "lineGroup": [],
          "lineModeGroups": [],
          "lines": [],
          "lon": 0,
          "modes": [],
          "naptanId": "9400ZZLUSKW3",
          "placeType": "StopPoint",
          "stationNaptan": "940GZZLUSKW",
          "status": true
         },
         {
          "$type": "Tfl.Api.Presentation.Entities.StopPoint, Tfl.Api.Presentation.Entities",
          "additionalProperties": [],
          "children": [],
          "commonName": "Stockwell Underground Station",
          "icsCode": "1000223",
          "id": "9400ZZLUSKW4",
          "lat": 0,
          "lineGroup": [],
          "lineModeGroups": [],
          "lines": [],
          "lon": 0,
          "modes": [],
          "naptanId": "9400ZZLUSKW4",
          "placeType": "StopPoint",
          "stationNaptan": "940GZZLUSKW",
          "status": true
         }
        ],
        "commonName": "Stockwell Underground Station",
        "icsCode": "1000223",
        "id": "940GZZLUSKW",
        "lat": 51.472184,
        "lineGroup": [
         {
          "$type": "Tfl.Api.Presentation.Entities.LineGroup, Tfl.Api.Presentation.Entities",
          "lineIdentifier": [
           "155",
           "345",
           "n155"
          ],
          "naptanIdReference": "490000223G",
          "stationAtcoCode": "490G00223G"
         },
         {
          "$type": "Tfl.Api.Presentation.Entities.LineGroup, Tfl.Api.Presentation.Entities",
          "lineIdentifier": [
           "northern"
          ],
          "stationAtcoCode": "940GZZLUSKW"
         },
         {
          "$type": "Tfl.Api.Presentation.Entities.LineGroup, Tfl.Api.Presentation.Entities",
          "lineIdentifier": [
           "victoria"
          ],
          "stationAtcoCode": "940GZZLUSKW"
         }
        ],
        "lineModeGroups": [
         {
          "$type": "Tfl.Api.Presentation.Entities.LineModeGroup, Tfl.Api.Presentation.Entities",
          "lineIdentifier": [
           "155",
           "345",
           "n155"
          ],
          "modeName": "bus"
         },
         {
          "$type": "Tfl.Api.Presentation.Entities.LineModeGroup, Tfl.Api.Presentation.Entities",
          "lineIdentifier": [
           "northern",
           "victoria"
          ],
          "modeName": "tube"
         }
        ],
        "lines": [
         {
          "$type": "Tfl.Api.Presentation.Entities.Identifier, Tfl.Api.Presentation.Entities",
          "crowding": {
           "$type": "Tfl.Api.Presentation.Entities.Crowding, Tfl.Api.Presentation.Entities"
          },
          "id": "155",
          "name": "155",
          "routeType": "Unknown",
          "status": "Unknown",
          "type": "Line",
          "uri": "/Line/155"
         },
         {
          "$type": "Tfl.Api.Presentation.Entities.Identifier, Tfl.Api.Presentation.Entities",
          "crowding": {
           "$type": "Tfl.Api.Presentation.Entities.Crowding, Tfl.Api.Presentation.Entities"
          },
          "id": "345",
          "name": "345",
          "routeType": "Unknown",
          "status": "Unknown",
          "type": "Line",
          "uri": "/Line/345"
         },
         {
          "$type": "Tfl.Api.Presentation.Entities.Identifier, Tfl.Api.Presentation.Entities",
          "crowding": {
           "$type": "Tfl.Api.Presentation.Entities.Crowding, Tfl.Api.Presentation.Entities"
          },
          "id": "n155",
          "name": "N155",
          "routeType": "Unknown",
          "status": "Unknown",
          "type": "Line",
          "uri": "/Line/n155"
         },
         {
          "$type": "Tfl.Api.Presentation.Entities.Identifier, Tfl.Api.Presentation.Entities",
          "crowding": {
           "$type": "Tfl.Api.Presentation.Entities.Crowding, Tfl.Api.Presentation.Entities"
          },
          "id": "northern",
          "name": "Northern",
          "routeType": "Unknown",
          "status": "Unknown",
          "type": "Line",
          "uri": "/Line/northern"
         },
         {
          "$type": "Tfl.Api.Presentation.Entities.Identifier, Tfl.Api.Presentation.Entities",
          "crowding": {
           "$type": "Tfl.Api.Presentation.Entities.Crowding, Tfl.Api.Presentation.Entities"
          },
          "id": "victoria",
          "name": "Victoria",
          "routeType": "Unknown",
          "status": "Unknown",
          "type": "Line",
          "uri": "/Line/victoria"
         }
        ],
        "lon": -0.122644,
        "modes": [
         "bus",
         "tube"
        ],
        "naptanId": "940GZZLUSKW",
        "placeType": "StopPoint",
        "stationNaptan": "940GZZLUSKW",
        "status": true,
        "stopType": "NaptanMetroStation"
       },
       {
        "$type": "Tfl.Api.Presentation.Entities.StopPoint, Tfl.Api.Presentation.Entities",
        "additionalProperties": [
         {
          "$type": "Tfl.Api.Presentation.Entities.AdditionalProperties, Tfl.Api.Presentation.Entities",
          "category": "ServiceInfo",
          "key": "Night",
          "sourceSystemKey": "TransXchangeETL",
          "value": "yes"
         },
         {
          "$type": "Tfl.Api.Presentation.Entities.AdditionalProperties, Tfl.Api.Presentation.Entities",
          "category": "Facility",
          "key": "Payphones",
          "sourceSystemKey": "StaticObjects",
          "value": "4"
         },
         {
          "$type": "Tfl.Api.Presentation.Entities.AdditionalProperties, Tfl.Api.Presentation.Entities",
          "category": "Facility",
          "key": "Photo Booths",
          "sourceSystemKey": "StaticObjects",
          "value": "0"
         },
         {
          "$type": "Tfl.Api.Presentation.Entities.AdditionalProperties, Tfl.Api.Presentation.Entities",
          "category": "Facility",
          "key": "Waiting Room",
          "sourceSystemKey": "StaticObjects",
          "value": "no"
         },
         {
          "$type": "Tfl.Api.Presentation.Entities.AdditionalProperties, Tfl.Api.Presentation.Entities",
          "category": "Facility",
          "key": "Euro Cash Machines",
          "sourceSystemKey": "StaticObjects",
          "value": "yes"
         },
         {
          "$type": "Tfl.Api.Presentation.Entities.AdditionalProperties, Tfl.Api.Presentation.Entities",
          "category": "Facility",
          "key": "Ticket Halls",
          "sourceSystemKey": "StaticObjects",
          "value": "2"
         },
         {
          "$type": "Tfl.Api.Presentation.Entities.AdditionalProperties, Tfl.Api.Presentation.Entities",
          "category": "Facility",
          "key": "Toilets",
          "sourceSystemKey": "StaticObjects",
          "value": "no"
         },
         {
          "$type": "Tfl.Api.Presentation.Entities.AdditionalProperties, Tfl.Api.Presentation.Entities",
          "category": "Geo",
          "key": "Zone",
          "sourceSystemKey": "StaticObjects",
          "value": "3"
         },
         {
          "$type": "Tfl.Api.Presentation.Entities.AdditionalProperties, Tfl.Api.Presentation.Entities",
          "category": "Address",
          "key": "Address",
          "sourceSystemKey": "StaticObjects",
          "value": "Seven Sisters Underground Station,London Underground Ltd.,Seven Sisters Rd,London"
         },
         {
          "$type": "Tfl.Api.Presentation.Entities.AdditionalProperties, Tfl.Api.Presentation.Entities",
          "category": "Facility",
          "key": "Gates",
          "sourceSystemKey": "StaticObjects",
          "value": "13"
         },
         {
          "$type": "Tfl.Api.Presentation.Entities.AdditionalProperties, Tfl.Api.Presentation.Entities",
          "category": "Facility",
          "key": "Bridge",
          "sourceSystemKey": "StaticObjects",
          "value": "no"
         },
         {
          "$type": "Tfl.Api.Presentation.Entities.AdditionalProperties, Tfl.Api.Presentation.Entities",
          "category": "Facility",
          "key": "Escalators",
          "sourceSystemKey": "StaticObjects",
          "value": "4"
         },
         {
          "$type": "Tfl.Api.Presentation.Entities.AdditionalProperties, Tfl.Api.Presentation.Entities",
          "category": "Facility",
          "key": "Lifts",
          "sourceSystemKey": "StaticObjects",
          "value": "0"
         },
         {
          "$type": "Tfl.Api.Presentation.Entities.AdditionalProperties, Tfl.Api.Presentation.Entities",
          "category": "Address",
          "key": "PhoneNo",
          "sourceSystemKey": "StaticObjects",
          "value": "0845 330 9880"
         },
         {
          "$type": "Tfl.Api.Presentation.Entities.AdditionalProperties, Tfl.Api.Presentation.Entities",
          "category": "Facility",
          "key": "WiFi",
          "sourceSystemKey": "StaticObjects",
          "value": "yes"
         },
         {
          "$type": "Tfl.Api.Presentation.Entities.AdditionalProperties, Tfl.Api.Presentation.Entities",
          "category": "Facility",
          "key": "Help Points",
          "sourceSystemKey": "StaticObjects",
          "value": "0 on platforms, 0 in ticket halls, 0 elsewhere"
         },
         {
          "$type": "Tfl.Api.Presentation.Entities.AdditionalProperties, Tfl.Api.Presentation.Entities",
          "category": "Facility",
          "key": "Car park",
          "sourceSystemKey": "StaticObjects",
          "value": "no"
         },
         {
          "$type": "Tfl.Api.Presentation.Entities.AdditionalProperties, Tfl.Api.Presentation.Entities",
          "category": "Facility",
          "key": "Cash Machines",
          "sourceSystemKey": "StaticObjects",
          "value": "1"
         },
         {
          "$type": "Tfl.Api.Presentation.Entities.AdditionalProperties, Tfl.Api.Presentation.Entities",
          "category": "Facility",
          "key": "Other Facilities",
          "sourceSystemKey": "StaticObjects",
          "value": "taxi ranks outside station, subway to street, routeways platform to ticket hall."
         }
        ],
        "children": [
         {
          "$type": "Tfl.Api.Presentation.Entities.StopPoint, Tfl.Api.Presentation.Entities",
          "additionalProperties": [],
          "children": [],
          "commonName": "Seven Sisters Underground Station",
          "hubNaptanCode": "HUBSVS",
          "icsCode": "1000201",
          "id": "9400ZZLUSVS1",
          "lat": 0,
          "lineGroup": [],
          "lineModeGroups": [],
          "lines": [],
          "lon": 0,
          "modes": [],
          "naptanId": "9400ZZLUSVS1",
          "placeType": "StopPoint",
          "stationNaptan": "940GZZLUSVS",
          "status": true
         },
         {
          "$type": "Tfl.Api.Presentation.Entities.StopPoint, Tfl.Api.Presentation.Entities",
          "additionalProperties": [],
          "children": [],
          "commonName": "Seven Sisters Underground Station",
          "hubNaptanCode": "HUBSVS",
          "icsCode": "1000201",
          "id": "9400ZZLUSVS2",
          "lat": 0,
          "lineGroup": [],
          "lineModeGroups": [],
          "lines": [],
          "lon": 0,
          "modes": [],
          "naptanId": "9400ZZLUSVS2",
          "placeType": "StopPoint",
          "stationNaptan": "940GZZLUSVS",
          "status": true
         }
        ],
        "commonName": "Seven Sisters Underground Station",
        "hubNaptanCode": "HUBSVS",
        "icsCode": "1000201",
        "id": "940GZZLUSVS",
        "lat": 51.58333,
        "lineGroup": [
         {
          "$type": "Tfl.Api.Presentation.Entities.LineGroup, Tfl.Api.Presentation.Entities",
          "lineIdentifier": [
           "victoria"
          ],
          "stationAtcoCode": "940GZZLUSVS"
         }
        ],
        "lineModeGroups": [
         {
          "$type": "Tfl.Api.Presentation.Entities.LineModeGroup, Tfl.Api.Presentation.Entities",
          "lineIdentifier": [
           "victoria"
          ],
          "modeName": "tube"
         }
        ],
        "lines": [
         {
          "$type": "Tfl.Api.Presentation.Entities.Identifier, Tfl.Api.Presentation.Entities",
          "crowding": {
           "$type": "Tfl.Api.Presentation.Entities.Crowding, Tfl.Api.Presentation.Entities"
          },
          "id": "victoria",
          "name": "Victoria",
          "routeType": "Unknown",
          "status": "Unknown",
          "type": "Line",
          "uri": "/Line/victoria"
         }
        ],
        "lon": -0.072584,
        "modes": [
         "tube"
        ],
        "naptanId": "940GZZLUSVS",
        "placeType": "StopPoint",
        "stationNaptan": "940GZZLUSVS",
        "status": true,
        "stopType": "NaptanMetroStation"
       },
       {
        "$type": "Tfl.Api.Presentation.Entities.StopPoint, Tfl.Api.Presentation.Entities",
        "additionalProperties": [
         {
          "$type": "Tfl.Api.Presentation.Entities.AdditionalProperties, Tfl.Api.Presentation.Entities",
          "category": "ServiceInfo",
          "key": "Night",
          "sourceSystemKey": "TransXchangeETL",
          "value": "yes"
         },
         {
          "$type": "Tfl.Api.Presentation.Entities.AdditionalProperties, Tfl.Api.Presentation.Entities",
          "category": "Facility",
          "key": "Escalators",
          "sourceSystemKey": "StaticObjects",
          "value": "2"
         },
         {
          "$type": "Tfl.Api.Presentation.Entities.AdditionalProperties, Tfl.Api.Presentation.Entities",
          "category": "Facility",
          "key": "Photo Booths",
          "sourceSystemKey": "StaticObjects",
          "value": "0"
         },
         {
          "$type": "Tfl.Api.Presentation.Entities.AdditionalProperties, Tfl.Api.Presentation.Entities",
          "category": "Address",
          "key": "Address",
          "sourceSystemKey": "StaticObjects",
          "value": "Tottenham Hale Underground Station,London Underground Ltd.,Station Rd,London,N17 9LR"
         },
         {
          "$type": "Tfl.Api.Presentation.Entities.AdditionalProperties, Tfl.Api.Presentation.Entities",
          "category": "Facility",
          "key": "Other Facilities",
          "sourceSystemKey": "StaticObjects",
          "value": "taxi ranks outside station, post office style queuing for tickets, routeways platform to ticket hall."
         },
         {
          "$type": "Tfl.Api.Presentation.Entities.AdditionalProperties, Tfl.Api.Presentation.Entities",
          "category": "Facility",
          "key": "Ticket Halls",
          "sourceSystemKey": "StaticObjects",
          "value": "1"
         },
         {
          "$type": "Tfl.Api.Presentation.Entities.AdditionalProperties, Tfl.Api.Presentation.Entities",
          "category": "Geo",
          "key": "Zone",
          "sourceSystemKey": "StaticObjects",
          "value": "3"
         },
         {
          "$type": "Tfl.Api.Presentation.Entities.AdditionalProperties, Tfl.Api.Presentation.Entities",
          "category": "Facility",
          "key": "WiFi",
          "sourceSystemKey": "StaticObjects",
          "value": "yes"
         },
         {
          "$type": "Tfl.Api.Presentation.Entities.AdditionalProperties, Tfl.Api.Presentation.Entities",
          "category": "Facility",
          "key": "Help Points",
          "sourceSystemKey": "StaticObjects",
          "value": "6 on platforms, 0 in ticket halls, 1 elsewhere"
         },
         {
          "$type": "Tfl.Api.Presentation.Entities.AdditionalProperties, Tfl.Api.Presentation.Entities",
          "category": "Facility",
          "key": "Lifts",
          "sourceSystemKey": "StaticObjects",
          "value": "0"
         },
         {
          "$type": "Tfl.Api.Presentation.Entities.AdditionalProperties, Tfl.Api.Presentation.Entities",
          "category": "Address",
          "key": "PhoneNo",
          "sourceSystemKey": "StaticObjects",
          "value": "0845 330 9880"
         },
         {
          "$type": "Tfl.Api.Presentation.Entities.AdditionalProperties, Tfl.Api.Presentation.Entities",
          "category": "Facility",
          "key": "Waiting Room",
          "sourceSystemKey": "StaticObjects",
          "value": "no"
         },
         {
          "$type": "Tfl.Api.Presentation.Entities.AdditionalProperties, Tfl.Api.Presentation.Entities",
          "category": "Facility",
          "key": "Cash Machines",
          "sourceSystemKey": "StaticObjects",
          "value": "0"
         },
         {
          "$type": "Tfl.Api.Presentation.Entities.AdditionalProperties, Tfl.Api.Presentation.Entities",
          "category": "Facility",
          "key": "Toilets",
          "sourceSystemKey": "StaticObjects",
          "value": "no"
         },
         {
          "$type": "Tfl.Api.Presentation.Entities.AdditionalProperties, Tfl.Api.Presentation.Entities",
          "category": "Facility",
          "key": "Bridge",
          "sourceSystemKey": "StaticObjects",
          "value": "no"
         },
         {
          "$type": "Tfl.Api.Presentation.Entities.AdditionalProperties, Tfl.Api.Presentation.Entities",
          "category": "Facility",
          "key": "Car park",
          "sourceSystemKey": "StaticObjects",
          "value": "no"
         },
         {
          "$type": "Tfl.Api.Presentation.Entities.AdditionalProperties, Tfl.Api.Presentation.Entities",
          "category": "Facility",
          "key": "Gates",
          "sourceSystemKey": "StaticObjects",
          "value": "5"
         },
         {
          "$type": "Tfl.Api.Presentation.Entities.AdditionalProperties, Tfl.Api.Presentation.Entities",
          "category": "Facility",
          "key": "Payphones",
          "sourceSystemKey": "StaticObjects",
          "value": "2"
         },
         {
          "$type": "Tfl.Api.Presentation.Entities.AdditionalProperties, Tfl.Api.Presentation.Entities",
          "category": "NearestPlaces",
          "key": "SourceSystemPlaceId",
          "sourceSystemKey": "StaticObjects",
          "value": "CarParks_800494"
         }
        ],
        "children": [
         {
          "$type": "Tfl.Api.Presentation.Entities.StopPoint, Tfl.Api.Presentation.Entities",
          "additionalProperties": [],
          "children": [],
          "commonName": "Tottenham Hale Underground Station",
          "hubNaptanCode": "HUBTOM",
          "icsCode": "1000236",
          "id": "9400ZZLUTMH1",
          "lat": 0,
          "lineGroup": [],
          "lineModeGroups": [],
          "lines": [],
          "lon": 0,
          "modes": [],
          "naptanId": "9400ZZLUTMH1",
          "placeType": "StopPoint",
          "stationNaptan": "940GZZLUTMH",
          "status": true
         }
        ],
        "commonName": "Tottenham Hale Underground Station",
        "hubNaptanCode": "HUBTOM",
        "icsCode": "1000236",
        "id": "940GZZLUTMH",
        "lat": 51.588108,
        "lineGroup": [
         {
          "$type": "Tfl.Api.Presentation.Entities.LineGroup, Tfl.Api.Presentation.Entities",
          "lineIdentifier": [
           "victoria"
          ],
          "stationAtcoCode": "940GZZLUTMH"
         }
        ],
        "lineModeGroups": [
         {
          "$type": "Tfl.Api.Presentation.Entities.LineModeGroup, Tfl.Api.Presentation.Entities",
          "lineIdentifier": [
           "victoria"
          ],
          "modeName": "tube"
         }
        ],
        "lines": [
         {
          "$type": "Tfl.Api.Presentation.Entities.Identifier, Tfl.Api.Presentation.Entities",
          "crowding": {
           "$type": "Tfl.Api.Presentation.Entities.Crowding, Tfl.Api.Presentation.Entities"
          },
          "id": "victoria",
          "name": "Victoria",
          "routeType": "Unknown",
          "status": "Unknown",
          "type": "Line",
          "uri": "/Line/victoria"
         }
        ],
        "lon": -0.060241,
        "modes": [
         "tube"
        ],
        "naptanId": "940GZZLUTMH",
        "placeType": "StopPoint",
        "stationNaptan": "940GZZLUTMH",
        "status": true,
        "stopType": "NaptanMetroStation"
       },
       {
        "$type": "Tfl.Api.Presentation.Entities.StopPoint, Tfl.Api.Presentation.Entities",
        "additionalProperties": [
         {
          "$type": "Tfl.Api.Presentation.Entities.AdditionalProperties, Tfl.Api.Presentation.Entities",
          "category": "ServiceInfo",
          "key": "Night",
          "sourceSystemKey": "TransXchangeETL",
          "value": "yes"
         },
         {
          "$type": "Tfl.Api.Presentation.Entities.AdditionalProperties, Tfl.Api.Presentation.Entities",
          "category": "Facility",
          "key": "Escalators",
          "sourceSystemKey": "StaticObjects",
          "value": "6"
         },
         {
          "$type": "Tfl.Api.Presentation.Entities.AdditionalProperties, Tfl.Api.Presentation.Entities",
          "category": "Facility",
          "key": "Help Points",
          "sourceSystemKey": "StaticObjects",
          "value": "0 on platforms, 0 in ticket halls, 0 elsewhere"
         },
         {
          "$type": "Tfl.Api.Presentation.Entities.AdditionalProperties, Tfl.Api.Presentation.Entities",
          "category": "Address",
          "key": "Address",
          "sourceSystemKey": "StaticObjects",
          "value": "Victoria Underground Station,London Underground Ltd.,Victoria St,London,SW1E 5ND"
         },
         {
          "$type": "Tfl.Api.Presentation.Entities.AdditionalProperties, Tfl.Api.Presentation.Entities",
          "category": "Facility",
          "key": "Other Facilities",
          "sourceSystemKey": "StaticObjects",
          "value": "canopies over platform, taxi ranks outside station, routeways platform to ticket hall."
         },
         {
          "$type": "Tfl.Api.Presentation.Entities.AdditionalProperties, Tfl.Api.Presentation.Entities",
          "category": "Facility",
          "key": "Boarding Ramps",
          "sourceSystemKey": "StaticObjects",
          "value": "yes"
         },
         {
          "$type": "Tfl.Api.Presentation.Entities.AdditionalProperties, Tfl.Api.Presentation.Entities",
          "category": "Facility",
          "key": "Gates",
          "sourceSystemKey": "StaticObjects",
          "value": "33"
         },
         {
          "$type": "Tfl.Api.Presentation.Entities.AdditionalProperties, Tfl.Api.Presentation.Entities",
          "category": "Facility",
          "key": "Car park",
          "sourceSystemKey": "StaticObjects",
          "value": "no"
         },
         {
          "$type": "Tfl.Api.Presentation.Entities.AdditionalProperties, Tfl.Api.Presentation.Entities",
          "category": "Facility",
          "key": "Cash Machines",
          "sourceSystemKey": "StaticObjects",
          "value": "1"
         },
         {
          "$type": "Tfl.Api.Presentation.Entities.AdditionalProperties, Tfl.Api.Presentation.Entities",
          "category": "Facility",
          "key": "Payphones",
          "sourceSystemKey": "StaticObjects",
          "value": "4"
         },
         {
          "$type": "Tfl.Api.Presentation.Entities.AdditionalProperties, Tfl.Api.Presentation.Entities",
          "category": "Address",
          "key": "PhoneNo",
          "sourceSystemKey": "StaticObjects",
          "value": "0845 330 9880"
         },
         {
          "$type": "Tfl.Api.Presentation.Entities.AdditionalProperties, Tfl.Api.Presentation.Entities",
          "category": "Facility",
          "key": "Photo Booths",
          "sourceSystemKey": "StaticObjects",
          "value": "0"
         },
         {
          "$type": "Tfl.Api.Presentation.Entities.AdditionalProperties, Tfl.Api.Presentation.Entities",
          "category": "Facility",
          "key": "Toilets",
          "sourceSystemKey": "StaticObjects",
          "value": "yes"
         },
         {
          "$type": "Tfl.Api.Presentation.Entities.AdditionalProperties, Tfl.Api.Presentation.Entities",
          "category": "Facility",
          "key": "Waiting Room",
          "sourceSystemKey": "StaticObjects",
          "value": "no"
         },
         {
          "$type": "Tfl.Api.Presentation.Entities.AdditionalProperties, Tfl.Api.Presentation.Entities",
          "category": "Facility",
          "key": "Bridge",
          "sourceSystemKey": "StaticObjects",
          "value": "no"
         },
         {
          "$type": "Tfl.Api.Presentation.Entities.AdditionalProperties, Tfl.Api.Presentation.Entities",
          "category": "Facility",
          "key": "Euro Cash Machines",
          "sourceSystemKey": "StaticObjects",
          "value": "yes"
         },
         {
          "$type": "Tfl.Api.Presentation.Entities.AdditionalProperties, Tfl.Api.Presentation.Entities",
          "category": "VisitorCentre",
          "key": "Location",
          "sourceSystemKey": "StaticObjects",
          "value": "Main Opposite Platform 8 Victoria Rail Station"
         },
         {
          "$type": "Tfl.Api.Presentation.Entities.AdditionalProperties, Tfl.Api.Presentation.Entities",
          "category": "Facility",
          "key": "Lifts",
          "sourceSystemKey": "StaticObjects",
          "value": "1"
         },
         {
          "$type": "Tfl.Api.Presentation.Entities.AdditionalProperties, Tfl.Api.Presentation.Entities",
          "category": "Facility",
          "key": "Ticket Halls",
          "sourceSystemKey": "StaticObjects",
          "value": "2"
         },
         {
          "$type": "Tfl.Api.Presentation.Entities.AdditionalProperties, Tfl.Api.Presentation.Entities",
          "category": "Facility",
          "key": "WiFi",
          "sourceSystemKey": "StaticObjects",
          "value": "yes"
         },
         {
          "$type": "Tfl.Api.Presentation.Entities.AdditionalProperties, Tfl.Api.Presentation.Entities",
          "category": "Geo",
          "key": "Zone",
          "sourceSystemKey": "StaticObjects",
          "value": "1"
         },
         {
          "$type": "Tfl.Api.Presentation.Entities.AdditionalProperties, Tfl.Api.Presentation.Entities",
          "category": "NearestPlaces",
          "key": "SourceSystemPlaceId",
          "sourceSystemKey": "StaticObjects",
          "value": "BikePoints_268"
         },
         {
          "$type": "Tfl.Api.Presentation.Entities.AdditionalProperties, Tfl.Api.Presentation.Entities",
          "category": "NearestPlaces",
          "key": "SourceSystemPlaceId",
          "sourceSystemKey": "StaticObjects",
          "value": "BikePoints_646"
         },
         {
          "$type": "Tfl.Api.Presentation.Entities.AdditionalProperties, Tfl.Api.Presentation.Entities",
          "category": "NearestPlaces",
          "key": "SourceSystemPlaceId",
          "sourceSystemKey": "StaticObjects",
          "value": "BikePoints_161"
         },
         {
          "$type": "Tfl.Api.Presentation.Entities.AdditionalProperties, Tfl.Api.Presentation.Entities",
          "category": "NearestPlaces",
          "key": "SourceSystemPlaceId",
          "sourceSystemKey": "StaticObjects",
          "value": "BikePoints_167"
         },
         {
          "$type": "Tfl.Api.Presentation.Entities.AdditionalProperties, Tfl.Api.Presentation.Entities",
          "category": "NearestPlaces",
          "key": "SourceSystemPlaceId",
          "sourceSystemKey": "StaticObjects",
          "value": "BikePoints_177"
         },
         {
          "$type": "Tfl.Api.Presentation.Entities.AdditionalProperties, Tfl.Api.Presentation.Entities",
          "category": "NearestPlaces",
          "key": "SourceSystemPlaceId",
          "sourceSystemKey": "StaticObjects",
          "value": "BikePoints_316"
         },
         {
          "$type": "Tfl.Api.Presentation.Entities.AdditionalProperties, Tfl.Api.Presentation.Entities",
          "category": "NearestPlaces",
          "key": "SourceSystemPlaceId",
          "sourceSystemKey": "StaticObjects",
          "value": "BikePoints_320"
         },
         {
          "$type": "Tfl.Api.Presentation.Entities.AdditionalProperties, Tfl.Api.Presentation.Entities",
          "category": "NearestPlaces",
          "key": "SourceSystemPlaceId",
          "sourceSystemKey": "StaticObjects",
          "value": "BikePoints_360"
         },
         {
          "$type": "Tfl.Api.Presentation.Entities.AdditionalProperties, Tfl.Api.Presentation.Entities",
          "category": "NearestPlaces",
          "key": "SourceSystemPlaceId",
          "sourceSystemKey": "StaticObjects",
          "value": "BikePoints_799"
         },
         {
          "$type": "Tfl.Api.Presentation.Entities.AdditionalProperties, Tfl.Api.Presentation.Entities",
          "category": "NearestPlaces",
          "key": "SourceSystemPlaceId",
          "sourceSystemKey": "StaticObjects",
          "value": "BikePoints_826"
         },
         {
          "$type": "Tfl.Api.Presentation.Entities.AdditionalProperties, Tfl.Api.Presentation.Entities",
          "category": "NearestPlaces",
          "key": "SourceSystemPlaceId",
          "sourceSystemKey": "StaticObjects",
          "value": "TaxiRank_5970"
         },
         {
          "$type": "Tfl.Api.Presentation.Entities.AdditionalProperties, Tfl.Api.Presentation.Entities",
          "category": "NearestPlaces",
          "key": "SourceSystemPlaceId",
          "sourceSystemKey": "StaticObjects",
          "value": "TaxiRank_5744"
         },
         {
          "$type": "Tfl.Api.Presentation.Entities.AdditionalProperties, Tfl.Api.Presentation.Entities",
          "category": "NearestPlaces",
          "key": "SourceSystemPlaceId",
          "sourceSystemKey": "StaticObjects",
          "value": "TaxiRank_5654"
         },
         {
          "$type": "Tfl.Api.Presentation.Entities.AdditionalProperties, Tfl.Api.Presentation.Entities",
          "category": "NearestPlaces",
          "key": "SourceSystemPlaceId",
          "sourceSystemKey": "StaticObjects",
          "value": "TaxiRank_5773"
         },
         {
          "$type": "Tfl.Api.Presentation.Entities.AdditionalProperties, Tfl.Api.Presentation.Entities",
          "category": "NearestPlaces",
          "key": "SourceSystemPlaceId",
          "sourceSystemKey": "StaticObjects",
          "value": "TaxiRank_5743"
         }
        ],
        "children": [
         {
          "$type": "Tfl.Api.Presentation.Entities.StopPoint, Tfl.Api.Presentation.Entities",
          "additionalProperties": [],
          "children": [],
          "commonName": "Victoria Underground Station",
          "hubNaptanCode": "HUBVIC",
          "icsCode": "1000248",
          "id": "9400ZZLUVIC1",
          "lat": 0,
          "lineGroup": [],
          "lineModeGroups": [],
          "lines": [],
          "lon": 0,
          "modes": [],
          "naptanId": "9400ZZLUVIC1",
          "placeType": "StopPoint",
          "stationNaptan": "940GZZLUVIC",
          "status": true
         },
         {
          "$type": "Tfl.Api.Presentation.Entities.StopPoint, Tfl.Api.Presentation.Entities",
          "additionalProperties": [],
          "children": [],
          "commonName": "Victoria Underground Station",
          "hubNaptanCode": "HUBVIC",
          "icsCode": "1000248",
          "id": "9400ZZLUVIC4",
          "lat": 0,
          "lineGroup": [],
          "lineModeGroups": [],
          "lines": [],
          "lon": 0,
          "modes": [],
          "naptanId": "9400ZZLUVIC4",
          "placeType": "StopPoint",
          "stationNaptan": "940GZZLUVIC",
          "status": true
         },
         {
          "$type": "Tfl.Api.Presentation.Entities.StopPoint, Tfl.Api.Presentation.Entities",
          "additionalProperties": [],
          "children": [],
          "commonName": "Victoria Underground Station",
          "hubNaptanCode": "HUBVIC",
          "icsCode": "1000248",
          "id": "9400ZZLUVIC2",
          "lat": 0,
          "lineGroup": [],
          "lineModeGroups": [],
          "lines": [],
          "lon": 0,
          "modes": [],
          "naptanId": "9400ZZLUVIC2",
          "placeType": "StopPoint",
          "stationNaptan": "940GZZLUVIC",
          "status": true
         },
         {
          "$type": "Tfl.Api.Presentation.Entities.StopPoint, Tfl.Api.Presentation.Entities",
          "additionalProperties": [],
          "children": [],
          "commonName": "Victoria Underground Station",
          "hubNaptanCode": "HUBVIC",
          "icsCode": "1000248",
          "id": "9400ZZLUVIC3",
          "lat": 0,
          "lineGroup": [],
          "lineModeGroups": [],
          "lines": [],
          "lon": 0,
          "modes": [],
          "naptanId": "9400ZZLUVIC3",
          "placeType": "StopPoint",
          "stationNaptan": "940GZZLUVIC",
          "status": true
         }
        ],
        "commonName": "Victoria Underground Station",
        "hubNaptanCode": "HUBVIC",
        "icsCode": "1000248",
        "id": "940GZZLUVIC",
        "lat": 51.496359,
        "lineGroup": [
         {
          "$type": "Tfl.Api.Presentation.Entities.LineGroup, Tfl.Api.Presentation.Entities",
          "lineIdentifier": [
           "circle"
          ],
          "stationAtcoCode": "940GZZLUVIC"
         },
         {
          "$type": "Tfl.Api.Presentation.Entities.LineGroup, Tfl.Api.Presentation.Entities",
          "lineIdentifier": [
           "circle",
           "district"
          ],
          "stationAtcoCode": "940GZZLUVIC"
         },
         {
          "$type": "Tfl.Api.Presentation.Entities.LineGroup, Tfl.Api.Presentation.Entities",
          "lineIdentifier": [
           "victoria"
          ],
          "stationAtcoCode": "940GZZLUVIC"
         }
        ],
        "lineModeGroups": [
         {
          "$type": "Tfl.Api.Presentation.Entities.LineModeGroup, Tfl.Api.Presentation.Entities",
          "lineIdentifier": [
           "circle",
           "district",
           "victoria"
          ],
          "modeName": "tube"
         }
        ],
        "lines": [
         {
          "$type": "Tfl.Api.Presentation.Entities.Identifier, Tfl.Api.Presentation.Entities",
          "crowding": {
           "$type": "Tfl.Api.Presentation.Entities.Crowding, Tfl.Api.Presentation.Entities"
          },
          "id": "circle",
          "name": "Circle",
          "routeType": "Unknown",
          "status": "Unknown",
          "type": "Line",
          "uri": "/Line/circle"
         },
         {
          "$type": "Tfl.Api.Presentation.Entities.Identifier, Tfl.Api.Presentation.Entities",
          "crowding": {
           "$type": "Tfl.Api.Presentation.Entities.Crowding, Tfl.Api.Presentation.Entities"
          },
          "id": "district",
          "name": "District",
          "routeType": "Unknown",
          "status": "Unknown",
          "type": "Line",
          "uri": "/Line/district"
         },
         {
          "$type": "Tfl.Api.Presentation.Entities.Identifier, Tfl.Api.Presentation.Entities",
          "crowding": {
           "$type": "Tfl.Api.Presentation.Entities.Crowding, Tfl.Api.Presentation.Entities"
          },
          "id": "victoria",
          "name": "Victoria",
          "routeType": "Unknown",
          "status": "Unknown",
          "type": "Line",
          "uri": "/Line/victoria"
         }
        ],
        "lon": -0.143102,
        "modes": [
         "tube"
        ],
        "naptanId": "940GZZLUVIC",
        "placeType": "StopPoint",
        "stationNaptan": "940GZZLUVIC",
        "status": true,
        "stopType": "NaptanMetroStation"
       },
       {
        "$type": "Tfl.Api.Presentation.Entities.StopPoint, Tfl.Api.Presentation.Entities",
        "additionalProperties": [
         {
          "$type": "Tfl.Api.Presentation.Entities.AdditionalProperties, Tfl.Api.Presentation.Entities",
          "category": "ServiceInfo",
          "key": "Night",
          "sourceSystemKey": "TransXchangeETL",
          "value": "yes"
         },
         {
          "$type": "Tfl.Api.Presentation.Entities.AdditionalProperties, Tfl.Api.Presentation.Entities",
          "category": "Address",
          "key": "Address",
          "sourceSystemKey": "StaticObjects",
          "value": "Vauxhall Underground Station,London Underground Ltd.,Vauxhall Cross,London,SE1"
         },
         {
          "$type": "Tfl.Api.Presentation.Entities.AdditionalProperties, Tfl.Api.Presentation.Entities",
          "category": "Facility",
          "key": "Bridge",
          "sourceSystemKey": "StaticObjects",
          "value": "no"
         },
         {
          "$type": "Tfl.Api.Presentation.Entities.AdditionalProperties, Tfl.Api.Presentation.Entities",
          "category": "Facility",
          "key": "Help Points",
          "sourceSystemKey": "StaticObjects",
          "value": "4 on platforms, 0 in ticket halls, 1 elsewhere"
         },
         {
          "$type": "Tfl.Api.Presentation.Entities.AdditionalProperties, Tfl.Api.Presentation.Entities",
          "category": "Facility",
          "key": "Payphones",
          "sourceSystemKey": "StaticObjects",
          "value": "2"
         },
         {
          "$type": "Tfl.Api.Presentation.Entities.AdditionalProperties, Tfl.Api.Presentation.Entities",
          "category": "Facility",
          "key": "Toilets",
          "sourceSystemKey": "StaticObjects",
          "value": "no"
         },
         {
          "$type": "Tfl.Api.Presentation.Entities.AdditionalProperties, Tfl.Api.Presentation.Entities",
          "category": "Geo",
          "key": "Zone",
          "sourceSystemKey": "StaticObjects",
          "value": "1+2"
         },
         {
          "$type": "Tfl.Api.Presentation.Entities.AdditionalProperties, Tfl.Api.Presentation.Entities",
          "category": "Facility",
          "key": "Cash Machines",
          "sourceSystemKey": "StaticObjects",
          "value": "3"
         },
         {
          "$type": "Tfl.Api.Presentation.Entities.AdditionalProperties, Tfl.Api.Presentation.Entities",
          "category": "Facility",
          "key": "Waiting Room",
          "sourceSystemKey": "StaticObjects",
          "value": "no"
         },
         {
          "$type": "Tfl.Api.Presentation.Entities.AdditionalProperties, Tfl.Api.Presentation.Entities",
          "category": "Address",
          "key": "PhoneNo",
          "sourceSystemKey": "StaticObjects",
          "value": "0845 330 9880"
         },
         {
          "$type": "Tfl.Api.Presentation.Entities.AdditionalProperties, Tfl.Api.Presentation.Entities",
          "category": "Facility",
          "key": "Euro Cash Machines",
          "sourceSystemKey": "StaticObjects",
          "value": "yes"
         },
         {
          "$type": "Tfl.Api.Presentation.Entities.AdditionalProperties, Tfl.Api.Presentation.Entities",
          "category": "Facility",
          "key": "Lifts",
          "sourceSystemKey": "StaticObjects",
          "value": "0"
         },
         {
          "$type": "Tfl.Api.Presentation.Entities.AdditionalProperties, Tfl.Api.Presentation.Entities",
          "category": "Facility",
          "key": "Ticket Halls",
          "sourceSystemKey": "StaticObjects",
          "value": "1"
         },
         {
          "$type": "Tfl.Api.Presentation.Entities.AdditionalProperties, Tfl.Api.Presentation.Entities",
          "category": "Facility",
          "key": "WiFi",
          "sourceSystemKey": "StaticObjects",
          "value": "yes"
         },
         {
          "$type": "Tfl.Api.Presentation.Entities.AdditionalProperties, Tfl.Api.Presentation.Entities",
          "category": "Facility",
          "key": "Car park",
          "sourceSystemKey": "StaticObjects",
          "value": "no"
         },
         {
          "$type": "Tfl.Api.Presentation.Entities.AdditionalProperties, Tfl.Api.Presentation.Entities",
          "category": "Facility",
          "key": "Escalators",
          "sourceSystemKey": "StaticObjects",
          "value": "2"
         },
         {
          "$type": "Tfl.Api.Presentation.Entities.AdditionalProperties, Tfl.Api.Presentation.Entities",
          "category": "Facility",
          "key": "Other Facilities",
          "sourceSystemKey": "StaticObjects",
          "value": "taxi ranks outside station, subway to street, routeways platform to ticket hall."
         },
         {
          "$type": "Tfl.Api.Presentation.Entities.AdditionalProperties, Tfl.Api.Presentation.Entities",
          "category": "Facility",
          "key": "Gates",
          "sourceSystemKey": "StaticObjects",
          "value": "8"
         },
         {
          "$type": "Tfl.Api.Presentation.Entities.AdditionalProperties, Tfl.Api.Presentation.Entities",
          "category": "Facility",
          "key": "Photo Booths",
          "sourceSystemKey": "StaticObjects",
          "value": "0"
         },
         {
          "$type": "Tfl.Api.Presentation.Entities.AdditionalProperties, Tfl.Api.Presentation.Entities",
          "category": "NearestPlaces",
          "key": "SourceSystemPlaceId",
          "sourceSystemKey": "StaticObjects",
          "value": "BikePoints_270"
         },
         {
          "$type": "Tfl.Api.Presentation.Entities.AdditionalProperties, Tfl.Api.Presentation.Entities",
          "category": "NearestPlaces",
          "key": "SourceSystemPlaceId",
          "sourceSystemKey": "StaticObjects",
          "value": "BikePoints_74"
         },
         {
          "$type": "Tfl.Api.Presentation.Entities.AdditionalProperties, Tfl.Api.Presentation.Entities",
          "category": "NearestPlaces",
          "key": "SourceSystemPlaceId",
          "sourceSystemKey": "StaticObjects",
          "value": "BikePoints_437"
         },
         {
          "$type": "Tfl.Api.Presentation.Entities.AdditionalProperties, Tfl.Api.Presentation.Entities",
          "category": "NearestPlaces",
          "key": "SourceSystemPlaceId",
          "sourceSystemKey": "StaticObjects",
          "value": "BikePoints_146"
         },
         {
          "$type": "Tfl.Api.Presentation.Entities.AdditionalProperties, Tfl.Api.Presentation.Entities",
          "category": "NearestPlaces",
          "key": "SourceSystemPlaceId",
          "sourceSystemKey": "StaticObjects",
          "value": "BikePoints_600"
         },
         {
          "$type": "Tfl.Api.Presentation.Entities.AdditionalProperties, Tfl.Api.Presentation.Entities",
          "category": "NearestPlaces",
          "key": "SourceSystemPlaceId",
          "sourceSystemKey": "StaticObjects",
          "value": "BikePoints_813"
         },
         {
          "$type": "Tfl.Api.Presentation.Entities.AdditionalProperties, Tfl.Api.Presentation.Entities",
          "category": "NearestPlaces",
          "key": "SourceSystemPlaceId",
          "sourceSystemKey": "StaticObjects",
          "value": "TaxiRank_5533"
         },
         {
          "$type": "Tfl.Api.Presentation.Entities.AdditionalProperties, Tfl.Api.Presentation.Entities",
          "category": "NearestPlaces",
          "key": "SourceSystemPlaceId",
          "sourceSystemKey": "StaticObjects",
          "value": "TaxiRank_5490"
         }
        ],
        "children": [
         {
          "$type": "Tfl.Api.Presentation.Entities.StopPoint, Tfl.Api.Presentation.Entities",
          "additionalProperties": [],
          "children": [],
          "commonName": "Vauxhall Underground Station",
          "hubNaptanCode": "HUBVXH",
          "icsCode": "1000247",
          "id": "9400ZZLUVXL1",
          "lat": 0,
          "lineGroup": [],
          "lineModeGroups": [],
          "lines": [],
          "lon": 0,
          "modes": [],
          "naptanId": "9400ZZLUVXL1",
          "placeType": "StopPoint",
          "stationNaptan": "940GZZLUVXL",
          "status": true
         }
        ],
        "commonName": "Vauxhall Underground Station",
        "hubNaptanCode": "HUBVXH",
        "icsCode": "1000247",
        "id": "940GZZLUVXL",
        "lat": 51.485743,
        "lineGroup": [
         {
          "$type": "Tfl.Api.Presentation.Entities.LineGroup, Tfl.Api.Presentation.Entities",
          "lineIdentifier": [
           "victoria"
          ],
          "stationAtcoCode": "940GZZLUVXL"
         }
        ],
        "lineModeGroups": [
         {
          "$type": "Tfl.Api.Presentation.Entities.LineModeGroup, Tfl.Api.Presentation.Entities",
          "lineIdentifier": [
           "victoria"
          ],
          "modeName": "tube"
         }
        ],
        "lines": [
         {
          "$type": "Tfl.Api.Presentation.Entities.Identifier, Tfl.Api.Presentation.Entities",
          "crowding": {
           "$type": "Tfl.Api.Presentation.Entities.Crowding, Tfl.Api.Presentation.Entities"
          },
          "id": "victoria",
          "name": "Victoria",
          "routeType": "Unknown",
          "status": "Unknown",
          "type": "Line",
          "uri": "/Line/victoria"
         }
        ],
        "lon": -0.124204,
        "modes": [
         "tube"
        ],
        "naptanId": "940GZZLUVXL",
        "placeType": "StopPoint",
        "stationNaptan": "940GZZLUVXL",
        "status": true,
        "stopType": "NaptanMetroStation"
       },
       {
        "$type": "Tfl.Api.Presentation.Entities.StopPoint, Tfl.Api.Presentation.Entities",
        "additionalProperties": [
         {
          "$type": "Tfl.Api.Presentation.Entities.AdditionalProperties, Tfl.Api.Presentation.Entities",
          "category": "ServiceInfo",
          "key": "Night",
          "sourceSystemKey": "TransXchangeETL",
          "value": "yes"
         },
         {
          "$type": "Tfl.Api.Presentation.Entities.AdditionalProperties, Tfl.Api.Presentation.Entities",
          "category": "Facility",
          "key": "Help Points",
          "sourceSystemKey": "StaticObjects",
          "value": "0 on platforms, 0 in ticket halls, 5 elsewhere"
         },
         {
          "$type": "Tfl.Api.Presentation.Entities.AdditionalProperties, Tfl.Api.Presentation.Entities",
          "category": "Address",
          "key": "PhoneNo",
          "sourceSystemKey": "StaticObjects",
          "value": "0845 330 9880"
         },
         {
          "$type": "Tfl.Api.Presentation.Entities.AdditionalProperties, Tfl.Api.Presentation.Entities",
          "category": "Facility",
          "key": "Waiting Room",
          "sourceSystemKey": "StaticObjects",
          "value": "no"
         },
         {
          "$type": "Tfl.Api.Presentation.Entities.AdditionalProperties, Tfl.Api.Presentation.Entities",
          "category": "Geo",
          "key": "Zone",
          "sourceSystemKey": "StaticObjects",
          "value": "1"
         },
         {
          "$type": "Tfl.Api.Presentation.Entities.AdditionalProperties, Tfl.Api.Presentation.Entities",
          "category": "Address",
          "key": "Address",
          "sourceSystemKey": "StaticObjects",
          "value": "Warren Street Station,London Underground Ltd.,Tottenham Court Rd,London,NW1 3AA"
         },
         {
          "$type": "Tfl.Api.Presentation.Entities.AdditionalProperties, Tfl.Api.Presentation.Entities",
          "category": "Facility",
          "key": "Gates",
          "sourceSystemKey": "StaticObjects",
          "value": "10"
         },
         {
          "$type": "Tfl.Api.Presentation.Entities.AdditionalProperties, Tfl.Api.Presentation.Entities",
          "category": "Facility",
          "key": "Payphones",
          "sourceSystemKey": "StaticObjects",
          "value": "1"
         },
         {
          "$type": "Tfl.Api.Presentation.Entities.AdditionalProperties, Tfl.Api.Presentation.Entities",
          "category": "Facility",
          "key": "Escalators",
          "sourceSystemKey": "StaticObjects",
          "value": "7"
         },
         {
          "$type": "Tfl.Api.Presentation.Entities.AdditionalProperties, Tfl.Api.Presentation.Entities",
          "category": "Facility",
          "key": "Lifts",
          "sourceSystemKey": "StaticObjects",
          "value": "0"
         },
         {
          "$type": "Tfl.Api.Presentation.Entities.AdditionalProperties, Tfl.Api.Presentation.Entities",
          "category": "Facility",
          "key": "Ticket Halls",
          "sourceSystemKey": "StaticObjects",
          "value": "1"
         },
         {
          "$type": "Tfl.Api.Presentation.Entities.AdditionalProperties, Tfl.Api.Presentation.Entities",
          "category": "Facility",
          "key": "WiFi",
          "sourceSystemKey": "StaticObjects",
          "value": "yes"
         },
         {
          "$type": "Tfl.Api.Presentation.Entities.AdditionalProperties, Tfl.Api.Presentation.Entities",
          "category": "Facility",
          "key": "Car park",
          "sourceSystemKey": "StaticObjects",
          "value": "no"
         },
         {
          "$type": "Tfl.Api.Presentation.Entities.AdditionalProperties, Tfl.Api.Presentation.Entities",
          "category": "Facility",
          "key": "Photo Booths",
          "sourceSystemKey": "StaticObjects",
          "value": "0"
         },
         {
          "$type": "Tfl.Api.Presentation.Entities.AdditionalProperties, Tfl.Api.Presentation.Entities",
          "category": "Facility",
          "key": "Bridge",
          "sourceSystemKey": "StaticObjects",
          "value": "no"
         },
         {
          "$type": "Tfl.Api.Presentation.Entities.AdditionalProperties, Tfl.Api.Presentation.Entities",
          "category": "Facility",
          "key": "Cash Machines",
          "sourceSystemKey": "StaticObjects",
          "value": "0"
         },
         {
          "$type": "Tfl.Api.Presentation.Entities.AdditionalProperties, Tfl.Api.Presentation.Entities",
          "category": "Facility",
          "key": "Toilets",
          "sourceSystemKey": "StaticObjects",
          "value": "yes"
         },
         {
          "$type": "Tfl.Api.Presentation.Entities.AdditionalProperties, Tfl.Api.Presentation.Entities",
          "category": "Facility",
          "key": "Other Facilities",
          "sourceSystemKey": "StaticObjects",
          "value": "canopies over platform, routeways platform to ticket hall."
         },
         {
          "$type": "Tfl.Api.Presentation.Entities.AdditionalProperties, Tfl.Api.Presentation.Entities",
          "category": "NearestPlaces",
          "key": "SourceSystemPlaceId",
          "sourceSystemKey": "StaticObjects",
          "value": "BikePoints_239"
         },
         {
          "$type": "Tfl.Api.Presentation.Entities.AdditionalProperties, Tfl.Api.Presentation.Entities",
          "category": "NearestPlaces",
          "key": "SourceSystemPlaceId",
          "sourceSystemKey": "StaticObjects",
          "value": "BikePoints_19"
         },
         {
          "$type": "Tfl.Api.Presentation.Entities.AdditionalProperties, Tfl.Api.Presentation.Entities",
          "category": "NearestPlaces",
          "key": "SourceSystemPlaceId",
          "sourceSystemKey": "StaticObjects",
          "value": "BikePoints_20"
         },
         {
          "$type": "Tfl.Api.Presentation.Entities.AdditionalProperties, Tfl.Api.Presentation.Entities",
          "category": "NearestPlaces",
          "key": "SourceSystemPlaceId",
          "sourceSystemKey": "StaticObjects",
          "value": "BikePoints_28"
         },
         {
          "$type": "Tfl.Api.Presentation.Entities.AdditionalProperties, Tfl.Api.Presentation.Entities",
          "category": "NearestPlaces",
          "key": "SourceSystemPlaceId",
          "sourceSystemKey": "StaticObjects",
          "value": "BikePoints_69"
         },
         {
          "$type": "Tfl.Api.Presentation.Entities.AdditionalProperties, Tfl.Api.Presentation.Entities",
          "category": "NearestPlaces",
          "key": "SourceSystemPlaceId",
          "sourceSystemKey": "StaticObjects",
          "value": "BikePoints_76"
         },
         {
          "$type": "Tfl.Api.Presentation.Entities.AdditionalProperties, Tfl.Api.Presentation.Entities",
          "category": "NearestPlaces",
          "key": "SourceSystemPlaceId",
          "sourceSystemKey": "StaticObjects",
          "value": "BikePoints_98"
         },
         {
          "$type": "Tfl.Api.Presentation.Entities.AdditionalProperties, Tfl.Api.Presentation.Entities",
          "category": "NearestPlaces",
          "key": "SourceSystemPlaceId",
          "sourceSystemKey": "StaticObjects",
          "value": "BikePoints_357"
         },
         {
          "$type": "Tfl.Api.Presentation.Entities.AdditionalProperties, Tfl.Api.Presentation.Entities",
          "category": "NearestPlaces",
          "key": "SourceSystemPlaceId",
          "sourceSystemKey": "StaticObjects",
          "value": "TaxiRank_5405"
         },
         {
          "$type": "Tfl.Api.Presentation.Entities.AdditionalProperties, Tfl.Api.Presentation.Entities",
          "category": "NearestPlaces",
          "key": "SourceSystemPlaceId",
          "sourceSystemKey": "StaticObjects",
          "value": "TaxiRank_5592"
         },
         {
          "$type": "Tfl.Api.Presentation.Entities.AdditionalProperties, Tfl.Api.Presentation.Entities",
          "category": "NearestPlaces",
          "key": "SourceSystemPlaceId",
          "sourceSystemKey": "StaticObjects",
          "value": "TaxiRank_4427"
         },
         {
          "$type": "Tfl.Api.Presentation.Entities.AdditionalProperties, Tfl.Api.Presentation.Entities",
          "category": "NearestPlaces",
          "key": "SourceSystemPlaceId",
          "sourceSystemKey": "StaticObjects",
          "value": "TaxiRank_4914"
         },
         {
          "$type": "Tfl.Api.Presentation.Entities.AdditionalProperties, Tfl.Api.Presentation.Entities",
          "category": "NearestPlaces",
          "key": "SourceSystemPlaceId",
          "sourceSystemKey": "StaticObjects",
          "value": "TaxiRank_5399"
         },
         {
          "$type": "Tfl.Api.Presentation.Entities.AdditionalProperties, Tfl.Api.Presentation.Entities",
          "category": "NearestPlaces",
          "key": "SourceSystemPlaceId",
          "sourceSystemKey": "StaticObjects",
          "value": "TaxiRank_5638"
         },
         {
          "$type": "Tfl.Api.Presentation.Entities.AdditionalProperties, Tfl.Api.Presentation.Entities",
          "category": "NearestPlaces",
          "key": "SourceSystemPlaceId",
          "sourceSystemKey": "StaticObjects",
          "value": "TaxiRank_5433"
         }
        ],
        "children": [
         {
          "$type": "Tfl.Api.Presentation.Entities.StopPoint, Tfl.Api.Presentation.Entities",
          "additionalProperties": [],
          "children": [],
          "commonName": "Warren Street Underground Station",
          "icsCode": "1000252",
          "id": "9400ZZLUWRR1",
          "lat": 0,
          "lineGroup": [],
          "lineModeGroups": [],
          "lines": [],
          "lon": 0,
          "modes": [],
          "naptanId": "9400ZZLUWRR1",
          "placeType": "StopPoint",
          "stationNaptan": "940GZZLUWRR",
          "status": true
         },
         {
          "$type": "Tfl.Api.Presentation.Entities.StopPoint, Tfl.Api.Presentation.Entities",
          "additionalProperties": [],
          "children": [],
          "commonName": "Warren Street Underground Station",
          "icsCode": "1000252",
          "id": "9400ZZLUWRR2",
          "lat": 0,
          "lineGroup": [],
          "lineModeGroups": [],
          "lines": [],
          "lon": 0,
          "modes": [],
          "naptanId": "9400ZZLUWRR2",
          "placeType": "StopPoint",
          "stationNaptan": "940GZZLUWRR",
          "status": true
         },
         {
          "$type": "Tfl.Api.Presentation.Entities.StopPoint, Tfl.Api.Presentation.Entities",
          "additionalProperties": [],
          "children": [],
          "commonName": "Warren Street Underground Station",
          "icsCode": "1000252",
          "id": "9400ZZLUWRR3",
          "lat": 0,
          "lineGroup": [],
          "lineModeGroups": [],
          "lines": [],
          "lon": 0,
          "modes": [],
          "naptanId": "9400ZZLUWRR3",
          "placeType": "StopPoint",
          "stationNaptan": "940GZZLUWRR",
          "status": true
         },
         {
          "$type": "Tfl.Api.Presentation.Entities.StopPoint, Tfl.Api.Presentation.Entities",
          "additionalProperties": [],
          "children": [],
          "commonName": "Warren Street Underground Station",
          "icsCode": "1000252",
          "id": "9400ZZLUWRR4",
          "lat": 0,
          "lineGroup": [],
          "lineModeGroups": [],
          "lines": [],
          "lon": 0,
          "modes": [],
          "naptanId": "9400ZZLUWRR4",
          "placeType": "StopPoint",
          "stationNaptan": "940GZZLUWRR",
          "status": true
         }
        ],
        "commonName": "Warren Street Underground Station",
        "icsCode": "1000252",
        "id": "940GZZLUWRR",
        "lat": 51.524951,
        "lineGroup": [
         {
          "$type": "Tfl.Api.Presentation.Entities.LineGroup, Tfl.Api.Presentation.Entities",
          "lineIdentifier": [
           "134",
           "24",
           "29",
           "390",
           "73",
           "n20",
           "n253",
           "n279",
           "n29",
           "n5",
           "n73"
          ],
          "naptanIdReference": "490000252X",
          "stationAtcoCode": "490G00252X"
         },
         {
          "$type": "Tfl.Api.Presentation.Entities.LineGroup, Tfl.Api.Presentation.Entities",
          "lineIdentifier": [
           "18",
           "205",
           "30",
           "n205"
          ],
          "naptanIdReference": "490000252KA",
          "stationAtcoCode": "490G00252KA"
         },
         {
          "$type": "Tfl.Api.Presentation.Entities.LineGroup, Tfl.Api.Presentation.Entities",
          "lineIdentifier": [
           "18",
           "205",
           "27",
           "30",
           "n205",
           "n27"
          ],
          "naptanIdReference": "490000252V",
          "stationAtcoCode": "490G00252KA"
         },
         {
          "$type": "Tfl.Api.Presentation.Entities.LineGroup, Tfl.Api.Presentation.Entities",
          "lineIdentifier": [
           "northern"
          ],
          "stationAtcoCode": "940GZZLUWRR"
         },
         {
          "$type": "Tfl.Api.Presentation.Entities.LineGroup, Tfl.Api.Presentation.Entities",
          "lineIdentifier": [
           "victoria"
          ],
          "stationAtcoCode": "940GZZLUWRR"
         }
        ],
        "lineModeGroups": [
         {
          "$type": "Tfl.Api.Presentation.Entities.LineModeGroup, Tfl.Api.Presentation.Entities",
          "lineIdentifier": [
           "134",
           "18",
           "205",
           "24",
           "27",
           "29",
           "30",
           "390",
           "73",
           "n20",
           "n205",
           "n253",
           "n27",
           "n279",
           "n29",
           "n5",
           "n73"
          ],
          "modeName": "bus"
         },
         {
          "$type": "Tfl.Api.Presentation.Entities.LineModeGroup, Tfl.Api.Presentation.Entities",
          "lineIdentifier": [
           "northern",
           "victoria"
          ],
          "modeName": "tube"
         }
        ],
        "lines": [
         {
          "$type": "Tfl.Api.Presentation.Entities.Identifier, Tfl.Api.Presentation.Entities",
          "crowding": {
           "$type": "Tfl.Api.Presentation.Entities.Crowding, Tfl.Api.Presentation.Entities"
          },
          "id": "134",
          "name": "134",
          "routeType": "Unknown",
          "status": "Unknown",
          "type": "Line",
          "uri": "/Line/134"
         },
         {
          "$type": "Tfl.Api.Presentation.Entities.Identifier, Tfl.Api.Presentation.Entities",
          "crowding": {
           "$type": "Tfl.Api.Presentation.Entities.Crowding, Tfl.Api.Presentation.Entities"
          },
          "id": "18",
          "name": "18",
          "routeType": "Unknown",
          "status": "Unknown",
          "type": "Line",
          "uri": "/Line/18"
         },
         {
          "$type": "Tfl.Api.Presentation.Entities.Identifier, Tfl.Api.Presentation.Entities",
          "crowding": {
           "$type": "Tfl.Api.Presentation.Entities.Crowding, Tfl.Api.Presentation.Entities"
          },
          "id": "205",
          "name": "205",
          "routeType": "Unknown",
          "status": "Unknown",
          "type": "Line",
          "uri": "/Line/205"
         },
         {
          "$type": "Tfl.Api.Presentation.Entities.Identifier, Tfl.Api.Presentation.Entities",
          "crowding": {
           "$type": "Tfl.Api.Presentation.Entities.Crowding, Tfl.Api.Presentation.Entities"
          },
          "id": "24",
          "name": "24",
          "routeType": "Unknown",
          "status": "Unknown",
          "type": "Line",
          "uri": "/Line/24"
         },
         {
          "$type": "Tfl.Api.Presentation.Entities.Identifier, Tfl.Api.Presentation.Entities",
          "crowding": {
           "$type": "Tfl.Api.Presentation.Entities.Crowding, Tfl.Api.Presentation.Entities"
          },
          "id": "27",
          "name": "27",
          "routeType": "Unknown",
          "status": "Unknown",
          "type": "Line",
          "uri": "/Line/27"
         },
         {
          "$type": "Tfl.Api.Presentation.Entities.Identifier, Tfl.Api.Presentation.Entities",
          "crowding": {
           "$type": "Tfl.Api.Presentation.Entities.Crowding, Tfl.Api.Presentation.Entities"
          },
          "id": "29",
          "name": "29",
          "routeType": "Unknown",
          "status": "Unknown",
          "type": "Line",
          "uri": "/Line/29"
         },
         {
          "$type": "Tfl.Api.Presentation.Entities.Identifier, Tfl.Api.Presentation.Entities",
          "crowding": {
           "$type": "Tfl.Api.Presentation.Entities.Crowding, Tfl.Api.Presentation.Entities"
          },
          "id": "30",
          "name": "30",
          "routeType": "Unknown",
          "status": "Unknown",
          "type": "Line",
          "uri": "/Line/30"
         },
         {
          "$type": "Tfl.Api.Presentation.Entities.Identifier, Tfl.Api.Presentation.Entities",
          "crowding": {
           "$type": "Tfl.Api.Presentation.Entities.Crowding, Tfl.Api.Presentation.Entities"
          },
          "id": "390",
          "name": "390",
          "routeType": "Unknown",
          "status": "Unknown",
          "type": "Line",
          "uri": "/Line/390"
         },
         {
          "$type": "Tfl.Api.Presentation.Entities.Identifier, Tfl.Api.Presentation.Entities",
          "crowding": {
           "$type": "Tfl.Api.Presentation.Entities.Crowding, Tfl.Api.Presentation.Entities"
          },
          "id": "73",
          "name": "73",
          "routeType": "Unknown",
          "status": "Unknown",
          "type": "Line",
          "uri": "/Line/73"
         },
         {
          "$type": "Tfl.Api.Presentation.Entities.Identifier, Tfl.Api.Presentation.Entities",
          "crowding": {
           "$type": "Tfl.Api.Presentation.Entities.Crowding, Tfl.Api.Presentation.Entities"
          },
          "id": "n20",
          "name": "N20",
          "routeType": "Unknown",
          "status": "Unknown",
          "type": "Line",
          "uri": "/Line/n20"
         },
         {
          "$type": "Tfl.Api.Presentation.Entities.Identifier, Tfl.Api.Presentation.Entities",
          "crowding": {
           "$type": "Tfl.Api.Presentation.Entities.Crowding, Tfl.Api.Presentation.Entities"
          },
          "id": "n205",
          "name": "N205",
          "routeType": "Unknown",
          "status": "Unknown",
          "type": "Line",
          "uri": "/Line/n205"
         },
         {
          "$type": "Tfl.Api.Presentation.Entities.Identifier, Tfl.Api.Presentation.Entities",
          "crowding": {
           "$type": "Tfl.Api.Presentation.Entities.Crowding, Tfl.Api.Presentation.Entities"
          },
          "id": "n253",
          "name": "N253",
          "routeType": "Unknown",
          "status": "Unknown",
          "type": "Line",
          "uri": "/Line/n253"
         },
         {
          "$type": "Tfl.Api.Presentation.Entities.Identifier, Tfl.Api.Presentation.Entities",
          "crowding": {
           "$type": "Tfl.Api.Presentation.Entities.Crowding, Tfl.Api.Presentation.Entities"
          },
          "id": "n27",
          "name": "N27",
          "routeType": "Unknown",
          "status": "Unknown",
          "type": "Line",
          "uri": "/Line/n27"
         },
         {
          "$type": "Tfl.Api.Presentation.Entities.Identifier, Tfl.Api.Presentation.Entities",
          "crowding": {
           "$type": "Tfl.Api.Presentation.Entities.Crowding, Tfl.Api.Presentation.Entities"
          },
          "id": "n279",
          "name": "N279",
          "routeType": "Unknown",
          "status": "Unknown",
          "type": "Line",
          "uri": "/Line/n279"
         },
         {
          "$type": "Tfl.Api.Presentation.Entities.Identifier, Tfl.Api.Presentation.Entities",
          "crowding": {
           "$type": "Tfl.Api.Presentation.Entities.Crowding, Tfl.Api.Presentation.Entities"
          },
          "id": "n29",
          "name": "N29",
          "routeType": "Unknown",
          "status": "Unknown",
          "type": "Line",
          "uri": "/Line/n29"
         },
         {
          "$type": "Tfl.Api.Presentation.Entities.Identifier, Tfl.Api.Presentation.Entities",
          "crowding": {
           "$type": "Tfl.Api.Presentation.Entities.Crowding, Tfl.Api.Presentation.Entities"
          },
          "id": "n5",
          "name": "N5",
          "routeType": "Unknown",
          "status": "Unknown",
          "type": "Line",
          "uri": "/Line/n5"
         },
         {
          "$type": "Tfl.Api.Presentation.Entities.Identifier, Tfl.Api.Presentation.Entities",
          "crowding": {
           "$type": "Tfl.Api.Presentation.Entities.Crowding, Tfl.Api.Presentation.Entities"
          },
          "id": "n73",
          "name": "N73",
          "routeType": "Unknown",
          "status": "Unknown",
          "type": "Line",
          "uri": "/Line/n73"
         },
         {
          "$type": "Tfl.Api.Presentation.Entities.Identifier, Tfl.Api.Presentation.Entities",
          "crowding": {
           "$type": "Tfl.Api.Presentation.Entities.Crowding, Tfl.Api.Presentation.Entities"
          },
          "id": "northern",
          "name": "Northern",
          "routeType": "Unknown",
          "status": "Unknown",
          "type": "Line",
          "uri": "/Line/northern"
         },
         {
          "$type": "Tfl.Api.Presentation.Entities.Identifier, Tfl.Api.Presentation.Entities",
          "crowding": {
           "$type": "Tfl.Api.Presentation.Entities.Crowding, Tfl.Api.Presentation.Entities"
          },
          "id": "victoria",
          "name": "Victoria",
          "routeType": "Unknown",
          "status": "Unknown",
          "type": "Line",
          "uri": "/Line/victoria"
         }
        ],
        "lon": -0.138321,
        "modes": [
         "tube",
         "bus"
        ],
        "naptanId": "940GZZLUWRR",
        "placeType": "StopPoint",
        "stationNaptan": "940GZZLUWRR",
        "status": true,
        "stopType": "NaptanMetroStation"
       },
       {
        "$type": "Tfl.Api.Presentation.Entities.StopPoint, Tfl.Api.Presentation.Entities",
        "additionalProperties": [
         {
          "$type": "Tfl.Api.Presentation.Entities.AdditionalProperties, Tfl.Api.Presentation.Entities",
          "category": "ServiceInfo",
          "key": "Night",
          "sourceSystemKey": "TransXchangeETL",
          "value": "yes"
         },
         {
          "$type": "Tfl.Api.Presentation.Entities.AdditionalProperties, Tfl.Api.Presentation.Entities",
          "category": "Address",
          "key": "Address",
          "sourceSystemKey": "StaticObjects",
          "value": "Walthamstow Central Station BR Hoe St,London,E17 7LP"
         },
         {
          "$type": "Tfl.Api.Presentation.Entities.AdditionalProperties, Tfl.Api.Presentation.Entities",
          "category": "Facility",
          "key": "Payphones",
          "sourceSystemKey": "StaticObjects",
          "value": "0"
         },
         {
          "$type": "Tfl.Api.Presentation.Entities.AdditionalProperties, Tfl.Api.Presentation.Entities",
          "category": "Facility",
          "key": "Cash Machines",
          "sourceSystemKey": "StaticObjects",
          "value": "0"
         },
         {
          "$type": "Tfl.Api.Presentation.Entities.AdditionalProperties, Tfl.Api.Presentation.Entities",
          "category": "Facility",
          "key": "Gates",
          "sourceSystemKey": "StaticObjects",
          "value": "7"
         },
         {
          "$type": "Tfl.Api.Presentation.Entities.AdditionalProperties, Tfl.Api.Presentation.Entities",
          "category": "Facility",
          "key": "Escalators",
          "sourceSystemKey": "StaticObjects",
          "value": "2"
         },
         {
          "$type": "Tfl.Api.Presentation.Entities.AdditionalProperties, Tfl.Api.Presentation.Entities",
          "category": "Facility",
          "key": "Photo Booths",
          "sourceSystemKey": "StaticObjects",
          "value": "0"
         },
         {
          "$type": "Tfl.Api.Presentation.Entities.AdditionalProperties, Tfl.Api.Presentation.Entities",
          "category": "Facility",
          "key": "Ticket Halls",
          "sourceSystemKey": "StaticObjects",
          "value": "1"
         },
         {
          "$type": "Tfl.Api.Presentation.Entities.AdditionalProperties, Tfl.Api.Presentation.Entities",
          "category": "Facility",
          "key": "Bridge",
          "sourceSystemKey": "StaticObjects",
          "value": "no"
         },
         {
          "$type": "Tfl.Api.Presentation.Entities.AdditionalProperties, Tfl.Api.Presentation.Entities",
          "category": "Facility",
          "key": "Lifts",
          "sourceSystemKey": "StaticObjects",
          "value": "0"
         },
         {
          "$type": "Tfl.Api.Presentation.Entities.AdditionalProperties, Tfl.Api.Presentation.Entities",
          "category": "Facility",
          "key": "Other Facilities",
          "sourceSystemKey": "StaticObjects",
          "value": "electronic whiteboards in ticket hall, post office style queuing for tickets, subway to street, routeways platform to ticket hall."
         },
         {
          "$type": "Tfl.Api.Presentation.Entities.AdditionalProperties, Tfl.Api.Presentation.Entities",
          "category": "Facility",
          "key": "Toilets",
          "sourceSystemKey": "StaticObjects",
          "value": "no"
         },
         {
          "$type": "Tfl.Api.Presentation.Entities.AdditionalProperties, Tfl.Api.Presentation.Entities",
          "category": "Facility",
          "key": "WiFi",
          "sourceSystemKey": "StaticObjects",
          "value": "yes"
         },
         {
          "$type": "Tfl.Api.Presentation.Entities.AdditionalProperties, Tfl.Api.Presentation.Entities",
          "category": "Facility",
          "key": "Car park",
          "sourceSystemKey": "StaticObjects",
          "value": "no"
         },
         {
          "$type": "Tfl.Api.Presentation.Entities.AdditionalProperties, Tfl.Api.Presentation.Entities",
          "category": "Facility",
          "key": "Help Points",
          "sourceSystemKey": "StaticObjects",
          "value": "0 on platforms, 0 in ticket halls, 0 elsewhere"
         },
         {
          "$type": "Tfl.Api.Presentation.Entities.AdditionalProperties, Tfl.Api.Presentation.Entities",
          "category": "Address",
          "key": "PhoneNo",
          "sourceSystemKey": "StaticObjects",
          "value": "0845 330 9880"
         },
         {
          "$type": "Tfl.Api.Presentation.Entities.AdditionalProperties, Tfl.Api.Presentation.Entities",
          "category": "Facility",
          "key": "Waiting Room",
          "sourceSystemKey": "StaticObjects",
          "value": "no"
         },
         {
          "$type": "Tfl.Api.Presentation.Entities.AdditionalProperties, Tfl.Api.Presentation.Entities",
          "category": "Geo",
          "key": "Zone",
          "sourceSystemKey": "StaticObjects",
          "value": "3"
         },
         {
          "$type": "Tfl.Api.Presentation.Entities.AdditionalProperties, Tfl.Api.Presentation.Entities",
          "category": "NearestPlaces",
          "key": "SourceSystemPlaceId",
          "sourceSystemKey": "StaticObjects",
          "value": "TaxiRank_5295"
         },
         {
          "$type": "Tfl.Api.Presentation.Entities.AdditionalProperties, Tfl.Api.Presentation.Entities",
          "category": "NearestPlaces",
          "key": "SourceSystemPlaceId",
          "sourceSystemKey": "StaticObjects",
          "value": "TaxiRank_5235"
         },
         {
          "$type": "Tfl.Api.Presentation.Entities.AdditionalProperties, Tfl.Api.Presentation.Entities",
          "category": "NearestPlaces",
          "key": "SourceSystemPlaceId",
          "sourceSystemKey": "StaticObjects",
          "value": "TaxiRank_4913"
         }
        ],
        "children": [
         {
          "$type": "Tfl.Api.Presentation.Entities.StopPoint, Tfl.Api.Presentation.Entities",
          "additionalProperties": [],
          "children": [],
          "commonName": "Walthamstow Central Underground Station",
          "hubNaptanCode": "HUBWHC",
          "icsCode": "1000249",
          "id": "9400ZZLUWWL1",
          "lat": 0,
          "lineGroup": [],
          "lineModeGroups": [],
          "lines": [],
          "lon": 0,
          "modes": [],
          "naptanId": "9400ZZLUWWL1",
          "placeType": "StopPoint",
          "stationNaptan": "940GZZLUWWL",
          "status": true
         }
        ],
        "commonName": "Walthamstow Central Underground Station",
        "hubNaptanCode": "HUBWHC",
        "icsCode": "1000249",
        "id": "940GZZLUWWL",
        "lat": 51.582965,
        "lineGroup": [
         {
          "$type": "Tfl.Api.Presentation.Entities.LineGroup, Tfl.Api.Presentation.Entities",
          "lineIdentifier": [
           "victoria"
          ],
          "stationAtcoCode": "940GZZLUWWL"
         }
        ],
        "lineModeGroups": [
         {
          "$type": "Tfl.Api.Presentation.Entities.LineModeGroup, Tfl.Api.Presentation.Entities",
          "lineIdentifier": [
           "victoria"
          ],
          "modeName": "tube"
         }
        ],
        "lines": [
         {
          "$type": "Tfl.Api.Presentation.Entities.Identifier, Tfl.Api.Presentation.Entities",
          "crowding": {
           "$type": "Tfl.Api.Presentation.Entities.Crowding, Tfl.Api.Presentation.Entities"
          },
          "id": "victoria",
          "name": "Victoria",
          "routeType": "Unknown",
          "status": "Unknown",
          "type": "Line",
          "uri": "/Line/victoria"
         }
        ],
        "lon": -0.019885,
        "modes": [
         "tube"
        ],
        "naptanId": "940GZZLUWWL",
        "placeType": "StopPoint",
        "stationNaptan": "940GZZLUWWL",
        "status": true,
        "stopType": "NaptanMetroStation"
       }
      ],
      "text/plain": [
       "<IPython.core.display.JSON object>"
      ]
     },
     "execution_count": 76,
     "metadata": {
      "application/json": {
       "expanded": false,
       "root": "root"
      }
     },
     "output_type": "execute_result"
    }
   ],
   "source": [
    "response_json = get_data(line_endpoint,\"/victoria\",\"/StopPoints\")\n",
    "print(f\"Number of stations that serve victoria: {len(response_json)}\")\n",
    "JSON(response_json)"
   ]
  },
  {
   "cell_type": "code",
   "execution_count": 83,
   "id": "df92215d-e575-4081-92b4-707e41001d6d",
   "metadata": {},
   "outputs": [
    {
     "name": "stdout",
     "output_type": "stream",
     "text": [
      "......... Data received successfully from https://api.tfl.gov.uk/StopPoint/Search\n"
     ]
    },
    {
     "data": {
      "application/json": {
       "$type": "Tfl.Api.Presentation.Entities.SearchResponse, Tfl.Api.Presentation.Entities",
       "matches": [
        {
         "$type": "Tfl.Api.Presentation.Entities.MatchedStop, Tfl.Api.Presentation.Entities",
         "icsId": "1000104",
         "id": "HUBHX4",
         "lat": 51.458837,
         "lon": -0.446419,
         "modes": [
          "national-rail",
          "tflrail",
          "tube",
          "plane",
          "bus"
         ],
         "name": "Heathrow Airport Terminal 4",
         "zone": "6"
        },
        {
         "$type": "Tfl.Api.Presentation.Entities.MatchedStop, Tfl.Api.Presentation.Entities",
         "icsId": "1016430",
         "id": "HUBHX5",
         "lat": 51.471569,
         "lon": -0.489556,
         "modes": [
          "tflrail",
          "national-rail",
          "plane",
          "tube",
          "bus"
         ],
         "name": "Heathrow Airport Terminal 5",
         "zone": "6"
        }
       ],
       "query": "Heathrow Airport",
       "total": 2
      },
      "text/plain": [
       "<IPython.core.display.JSON object>"
      ]
     },
     "execution_count": 83,
     "metadata": {
      "application/json": {
       "expanded": false,
       "root": "root"
      }
     },
     "output_type": "execute_result"
    }
   ],
   "source": [
    "query_string = \"Heathrow Airport\"\n",
    "response_json = get_data(stoppoint_endpoint,\"Search\",params={\"query\":query_string})\n",
    "ics_ids_heathrow_airport = {}\n",
    "for ics_id in response_json[\"matches\"]:\n",
    "    ics_ids_heathrow_airport[ics_id[\"icsId\"]]=ics_id[\"name\"]\n",
    "    \n",
    "JSON(response_json)"
   ]
  },
  {
   "cell_type": "code",
   "execution_count": 84,
   "id": "7a0420b5-accc-43bd-b823-aea143b6eec3",
   "metadata": {},
   "outputs": [
    {
     "name": "stdout",
     "output_type": "stream",
     "text": [
      "......... Data received successfully from https://api.tfl.gov.uk/StopPoint/Search\n"
     ]
    },
    {
     "data": {
      "application/json": {
       "$type": "Tfl.Api.Presentation.Entities.SearchResponse, Tfl.Api.Presentation.Entities",
       "matches": [
        {
         "$type": "Tfl.Api.Presentation.Entities.MatchedStop, Tfl.Api.Presentation.Entities",
         "icsId": "1013744",
         "id": "490G00013744",
         "lat": 51.503661,
         "lon": -0.07674,
         "modes": [
          "bus"
         ],
         "name": "Tower Bridge / City Hall",
         "topMostParentId": "490G00013744"
        },
        {
         "$type": "Tfl.Api.Presentation.Entities.MatchedStop, Tfl.Api.Presentation.Entities",
         "icsId": "1013746",
         "id": "490G00013746",
         "lat": 51.501842,
         "lon": -0.079323,
         "modes": [
          "bus"
         ],
         "name": "Tower Bridge Road",
         "topMostParentId": "490G00013746"
        },
        {
         "$type": "Tfl.Api.Presentation.Entities.MatchedStop, Tfl.Api.Presentation.Entities",
         "icsId": "1019012",
         "id": "490G00019012",
         "lat": 51.495155,
         "lon": -0.083955,
         "modes": [
          "bus"
         ],
         "name": "Bricklayer's Arms / Tower Bridge Road",
         "topMostParentId": "490G00019012"
        },
        {
         "$type": "Tfl.Api.Presentation.Entities.MatchedStop, Tfl.Api.Presentation.Entities",
         "icsId": "1002087",
         "id": "930GSTC",
         "lat": 51.50614,
         "lon": -0.073797,
         "modes": [
          "river-bus"
         ],
         "name": "Tower Bridge Quay",
         "topMostParentId": "930GSTC"
        }
       ],
       "query": "Tower Bridge",
       "total": 4
      },
      "text/plain": [
       "<IPython.core.display.JSON object>"
      ]
     },
     "execution_count": 84,
     "metadata": {
      "application/json": {
       "expanded": false,
       "root": "root"
      }
     },
     "output_type": "execute_result"
    }
   ],
   "source": [
    "query_string = \"Tower Bridge\"\n",
    "response_json = get_data(stoppoint_endpoint,\"Search\",params={\"query\":query_string})\n",
    "ics_ids_tower_bridge = {}\n",
    "for ics_id in response_json[\"matches\"]:\n",
    "    ics_ids_tower_bridge[ics_id[\"icsId\"]]=ics_id[\"name\"]\n",
    "\n",
    "JSON(response_json)"
   ]
  },
  {
   "cell_type": "code",
   "execution_count": 87,
   "id": "c1f70b1b-d588-4f54-9277-6f775fe9f2e3",
   "metadata": {},
   "outputs": [
    {
     "name": "stdout",
     "output_type": "stream",
     "text": [
      "......... Data received successfully from https://api.tfl.gov.uk/Journey/JourneyResults//1000104/to/1013744\n",
      "Fastest possible Journey between Heathrow Airport Terminal 4 and Tower Bridge / City Hall is: 107 minutes\n",
      "......... Data received successfully from https://api.tfl.gov.uk/Journey/JourneyResults//1000104/to/1013746\n",
      "Fastest possible Journey between Heathrow Airport Terminal 4 and Tower Bridge Road is: 104 minutes\n",
      "......... Data received successfully from https://api.tfl.gov.uk/Journey/JourneyResults//1000104/to/1019012\n",
      "Fastest possible Journey between Heathrow Airport Terminal 4 and Bricklayer's Arms / Tower Bridge Road is: 116 minutes\n",
      "......... Data received successfully from https://api.tfl.gov.uk/Journey/JourneyResults//1000104/to/1002087\n",
      "Fastest possible Journey between Heathrow Airport Terminal 4 and Tower Bridge Quay is: 118 minutes\n",
      "......... Data received successfully from https://api.tfl.gov.uk/Journey/JourneyResults//1016430/to/1013744\n",
      "Fastest possible Journey between Heathrow Airport Terminal 5 and Tower Bridge / City Hall is: 80 minutes\n",
      "......... Data received successfully from https://api.tfl.gov.uk/Journey/JourneyResults//1016430/to/1013746\n",
      "Fastest possible Journey between Heathrow Airport Terminal 5 and Tower Bridge Road is: 77 minutes\n",
      "......... Data received successfully from https://api.tfl.gov.uk/Journey/JourneyResults//1016430/to/1019012\n",
      "Fastest possible Journey between Heathrow Airport Terminal 5 and Bricklayer's Arms / Tower Bridge Road is: 83 minutes\n",
      "......... Data received successfully from https://api.tfl.gov.uk/Journey/JourneyResults//1016430/to/1002087\n",
      "Fastest possible Journey between Heathrow Airport Terminal 5 and Tower Bridge Quay is: 112 minutes\n"
     ]
    }
   ],
   "source": [
    "mode = \"bus,tube\"\n",
    "for heathrow_ics_id,heathrow_ics_name in ics_ids_heathrow_airport.items():\n",
    "    for tower_bridge_ics_id,tower_ics_name in ics_ids_tower_bridge.items():\n",
    "        response_json = get_data(journey_endpoint,\"JourneyResults/\",heathrow_ics_id,\"to\",tower_bridge_ics_id,params={\"mode\":mode})\n",
    "        min_duration = min([journey[\"duration\"] for journey in response_json[\"journeys\"]])\n",
    "        print(f\"Fastest possible Journey between {heathrow_ics_name} and {tower_ics_name} is: {min_duration} minutes\")"
   ]
  }
 ],
 "metadata": {
  "kernelspec": {
   "display_name": "bootcamp",
   "language": "python",
   "name": "bootcamp"
  },
  "language_info": {
   "codemirror_mode": {
    "name": "ipython",
    "version": 3
   },
   "file_extension": ".py",
   "mimetype": "text/x-python",
   "name": "python",
   "nbconvert_exporter": "python",
   "pygments_lexer": "ipython3",
   "version": "3.9.5"
  }
 },
 "nbformat": 4,
 "nbformat_minor": 5
}
