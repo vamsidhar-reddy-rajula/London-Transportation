{
 "cells": [
  {
   "cell_type": "code",
   "execution_count": 1,
   "id": "a5e90041-9780-4cc8-8579-99faa7d1c7a4",
   "metadata": {},
   "outputs": [],
   "source": [
    "import requests\n",
    "from IPython.display import JSON"
   ]
  },
  {
   "cell_type": "code",
   "execution_count": 2,
   "id": "103ee34a-c963-4772-bb80-3bc6a94c8fc4",
   "metadata": {},
   "outputs": [],
   "source": [
    "root_url = \"https://api.tfl.gov.uk/\"\n",
    "#endpoints\n",
    "accident_stats_endpoint = \"AccidentStats/\"\n",
    "air_quality_endpoint = \"AirQuality/\"\n",
    "line_endpoint = \"Line/\"\n",
    "bike_endpoint = \"BikePoint/\"\n",
    "journey_endpoint = \"Journey/\"\n",
    "stoppoint_endpoint = \"StopPoint/\""
   ]
  },
  {
   "cell_type": "code",
   "execution_count": 3,
   "id": "4ccafe87-03a8-4cef-90cf-d4cc8e8c85a9",
   "metadata": {},
   "outputs": [],
   "source": [
    "def get_data(endpoint,*args,params=None):\n",
    "    ''' Return the json body for the provided endpoints'''\n",
    "    if len(args):\n",
    "        endpoint = endpoint+\"/\".join(args[:])\n",
    "    url = root_url+endpoint\n",
    "    try:\n",
    "        response = requests.get(url,params=params)\n",
    "    except:\n",
    "        print(\"Error in requesting data from the resource provided\")\n",
    "    else:\n",
    "        print(f\"......... Data received successfully from {url}\")\n",
    "        if response.status_code == 200:\n",
    "            return response.json()"
   ]
  },
  {
   "cell_type": "code",
   "execution_count": 4,
   "id": "e3a61e3b-d069-4937-90ac-ae3d740f3cac",
   "metadata": {},
   "outputs": [
    {
     "name": "stdout",
     "output_type": "stream",
     "text": [
      "......... Data received successfully from https://api.tfl.gov.uk/AirQuality/\n",
      "\n",
      " Forecast for tomorrow is:\n",
      " Unsettled, with rain or showers moving southeast on Friday.&lt;br/&gt;Cloud cover and sunny intervals with possible showers on Saturday.&lt;br/&gt;&lt;br/&gt;A steady feed of westerly air arriving from the Atlantic should give good dispersion of local emissions while bearing little imported pollution.&lt;br/&gt;&lt;br/&gt;Air pollution is expected to remain &#39;Low&#39; for the following pollutants:&lt;br/&gt;&lt;br/&gt;Nitrogen Dioxide&lt;br/&gt;Ozone&lt;br/&gt;PM10 Particulate&lt;br/&gt;PM2.5 Particulate&lt;br/&gt;Sulphur Dioxide&lt;br/&gt;\n"
     ]
    }
   ],
   "source": [
    "response_json = get_data(air_quality_endpoint)\n",
    "# print(JSON(response_json))\n",
    "future_air_quality_prediction = response_json[\"currentForecast\"][1][\"forecastText\"]\n",
    "print(f\"\\n Forecast for tomorrow is:\\n {future_air_quality_prediction}\")"
   ]
  },
  {
   "cell_type": "code",
   "execution_count": 5,
   "id": "690aa97a-f772-462d-bc90-3f90075a02a9",
   "metadata": {},
   "outputs": [
    {
     "name": "stdout",
     "output_type": "stream",
     "text": [
      "......... Data received successfully from https://api.tfl.gov.uk/Line/Meta/Modes\n",
      "['bus', 'cable-car', 'coach', 'cycle', 'cycle-hire', 'dlr', 'interchange-keep-sitting', 'interchange-secure', 'national-rail', 'overground', 'replacement-bus', 'river-bus', 'river-tour', 'taxi', 'tflrail', 'tram', 'tube', 'walking']\n",
      "Number of different modes of transport is: 18\n"
     ]
    }
   ],
   "source": [
    "response_json = get_data(line_endpoint,\"Meta\",\"Modes\")\n",
    "modes=[]\n",
    "for mode in response_json:\n",
    "    modes.append(mode[\"modeName\"])\n",
    "print(modes)\n",
    "print(f\"Number of different modes of transport is: {len(modes)}\")"
   ]
  },
  {
   "cell_type": "code",
   "execution_count": 6,
   "id": "70af36a3-4442-45ef-a8d7-c3ed64a695ca",
   "metadata": {},
   "outputs": [
    {
     "name": "stdout",
     "output_type": "stream",
     "text": [
      "......... Data received successfully from https://api.tfl.gov.uk/BikePoint/\n",
      "Number of bikepoints: 785\n",
      "Total number of docks across all bikepoints: 20831\n"
     ]
    }
   ],
   "source": [
    "response_json = get_data(bike_endpoint)\n",
    "n_docks = []\n",
    "for bike_point in response_json:\n",
    "    n_docks.append(int(bike_point[\"additionalProperties\"][8][\"value\"]))\n",
    "print(f\"Number of bikepoints: {len(n_docks)}\")\n",
    "print(f\"Total number of docks across all bikepoints: {sum(n_docks)}\")"
   ]
  },
  {
   "cell_type": "code",
   "execution_count": 7,
   "id": "09571012-72d7-43e4-a38b-81fb3f1e0c78",
   "metadata": {},
   "outputs": [
    {
     "name": "stdout",
     "output_type": "stream",
     "text": [
      "......... Data received successfully from https://api.tfl.gov.uk/Line/Mode//tube//Route\n",
      "Number of tube lines: 11\n",
      "Tube line names: ['Bakerloo', 'Central', 'Circle', 'District', 'Hammersmith & City', 'Jubilee', 'Metropolitan', 'Northern', 'Piccadilly', 'Victoria', 'Waterloo & City']\n"
     ]
    },
    {
     "data": {
      "application/json": [
       {
        "$type": "Tfl.Api.Presentation.Entities.Line, Tfl.Api.Presentation.Entities",
        "created": "2021-06-22T18:41:11.143Z",
        "crowding": {
         "$type": "Tfl.Api.Presentation.Entities.Crowding, Tfl.Api.Presentation.Entities"
        },
        "disruptions": [],
        "id": "bakerloo",
        "lineStatuses": [],
        "modeName": "tube",
        "modified": "2021-06-22T18:41:11.143Z",
        "name": "Bakerloo",
        "routeSections": [
         {
          "$type": "Tfl.Api.Presentation.Entities.MatchedRoute, Tfl.Api.Presentation.Entities",
          "destination": "940GZZLUEAC",
          "destinationName": "Elephant & Castle Underground Station",
          "direction": "inbound",
          "name": "Harrow & Wealdstone Underground Station - Elephant & Castle Underground Station",
          "originationName": "Harrow & Wealdstone Underground Station",
          "originator": "940GZZLUHAW",
          "serviceType": "Regular",
          "validFrom": "2021-06-12T00:00:00Z",
          "validTo": "2021-11-23T00:00:00Z"
         },
         {
          "$type": "Tfl.Api.Presentation.Entities.MatchedRoute, Tfl.Api.Presentation.Entities",
          "destination": "940GZZLUHAW",
          "destinationName": "Harrow & Wealdstone Underground Station",
          "direction": "outbound",
          "name": "Elephant & Castle Underground Station - Harrow & Wealdstone Underground Station",
          "originationName": "Elephant & Castle Underground Station",
          "originator": "940GZZLUEAC",
          "serviceType": "Regular",
          "validFrom": "2021-06-12T00:00:00Z",
          "validTo": "2021-11-23T00:00:00Z"
         }
        ],
        "serviceTypes": [
         {
          "$type": "Tfl.Api.Presentation.Entities.LineServiceTypeInfo, Tfl.Api.Presentation.Entities",
          "name": "Regular",
          "uri": "/Line/Route?ids=Bakerloo&serviceTypes=Regular"
         }
        ]
       },
       {
        "$type": "Tfl.Api.Presentation.Entities.Line, Tfl.Api.Presentation.Entities",
        "created": "2021-06-22T18:41:11.143Z",
        "crowding": {
         "$type": "Tfl.Api.Presentation.Entities.Crowding, Tfl.Api.Presentation.Entities"
        },
        "disruptions": [],
        "id": "central",
        "lineStatuses": [],
        "modeName": "tube",
        "modified": "2021-06-22T18:41:11.143Z",
        "name": "Central",
        "routeSections": [
         {
          "$type": "Tfl.Api.Presentation.Entities.MatchedRoute, Tfl.Api.Presentation.Entities",
          "destination": "940GZZLUWRP",
          "destinationName": "West Ruislip Underground Station",
          "direction": "inbound",
          "name": "Epping Underground Station - West Ruislip Underground Station",
          "originationName": "Epping Underground Station",
          "originator": "940GZZLUEPG",
          "serviceType": "Regular",
          "validFrom": "2021-06-12T00:00:00Z",
          "validTo": "2021-11-23T00:00:00Z"
         },
         {
          "$type": "Tfl.Api.Presentation.Entities.MatchedRoute, Tfl.Api.Presentation.Entities",
          "destination": "940GZZLUEPG",
          "destinationName": "Epping Underground Station",
          "direction": "outbound",
          "name": "West Ruislip Underground Station - Epping Underground Station",
          "originationName": "West Ruislip Underground Station",
          "originator": "940GZZLUWRP",
          "serviceType": "Regular",
          "validFrom": "2021-06-12T00:00:00Z",
          "validTo": "2021-11-23T00:00:00Z"
         },
         {
          "$type": "Tfl.Api.Presentation.Entities.MatchedRoute, Tfl.Api.Presentation.Entities",
          "destination": "940GZZLUWRP",
          "destinationName": "West Ruislip Underground Station",
          "direction": "inbound",
          "name": "Hainault Underground Station - West Ruislip Underground Station",
          "originationName": "Hainault Underground Station",
          "originator": "940GZZLUHLT",
          "serviceType": "Regular",
          "validFrom": "2021-06-12T00:00:00Z",
          "validTo": "2021-11-23T00:00:00Z"
         },
         {
          "$type": "Tfl.Api.Presentation.Entities.MatchedRoute, Tfl.Api.Presentation.Entities",
          "destination": "940GZZLUWRP",
          "destinationName": "West Ruislip Underground Station",
          "direction": "inbound",
          "name": "Hainault Underground Station - West Ruislip Underground Station",
          "originationName": "Hainault Underground Station",
          "originator": "940GZZLUHLT",
          "serviceType": "Regular",
          "validFrom": "2021-06-12T00:00:00Z",
          "validTo": "2021-11-23T00:00:00Z"
         },
         {
          "$type": "Tfl.Api.Presentation.Entities.MatchedRoute, Tfl.Api.Presentation.Entities",
          "destination": "940GZZLUHLT",
          "destinationName": "Hainault Underground Station",
          "direction": "outbound",
          "name": "West Ruislip Underground Station - Hainault Underground Station",
          "originationName": "West Ruislip Underground Station",
          "originator": "940GZZLUWRP",
          "serviceType": "Regular",
          "validFrom": "2021-06-12T00:00:00Z",
          "validTo": "2021-11-23T00:00:00Z"
         },
         {
          "$type": "Tfl.Api.Presentation.Entities.MatchedRoute, Tfl.Api.Presentation.Entities",
          "destination": "940GZZLUHLT",
          "destinationName": "Hainault Underground Station",
          "direction": "outbound",
          "name": "West Ruislip Underground Station - Hainault Underground Station",
          "originationName": "West Ruislip Underground Station",
          "originator": "940GZZLUWRP",
          "serviceType": "Regular",
          "validFrom": "2021-06-12T00:00:00Z",
          "validTo": "2021-11-23T00:00:00Z"
         },
         {
          "$type": "Tfl.Api.Presentation.Entities.MatchedRoute, Tfl.Api.Presentation.Entities",
          "destination": "940GZZLUEBY",
          "destinationName": "Ealing Broadway Underground Station",
          "direction": "inbound",
          "name": "Epping Underground Station - Ealing Broadway Underground Station",
          "originationName": "Epping Underground Station",
          "originator": "940GZZLUEPG",
          "serviceType": "Regular",
          "validFrom": "2021-06-12T00:00:00Z",
          "validTo": "2021-11-23T00:00:00Z"
         },
         {
          "$type": "Tfl.Api.Presentation.Entities.MatchedRoute, Tfl.Api.Presentation.Entities",
          "destination": "940GZZLUEPG",
          "destinationName": "Epping Underground Station",
          "direction": "outbound",
          "name": "Ealing Broadway Underground Station - Epping Underground Station",
          "originationName": "Ealing Broadway Underground Station",
          "originator": "940GZZLUEBY",
          "serviceType": "Regular",
          "validFrom": "2021-06-12T00:00:00Z",
          "validTo": "2021-11-23T00:00:00Z"
         },
         {
          "$type": "Tfl.Api.Presentation.Entities.MatchedRoute, Tfl.Api.Presentation.Entities",
          "destination": "940GZZLUEBY",
          "destinationName": "Ealing Broadway Underground Station",
          "direction": "inbound",
          "name": "Hainault Underground Station - Ealing Broadway Underground Station",
          "originationName": "Hainault Underground Station",
          "originator": "940GZZLUHLT",
          "serviceType": "Regular",
          "validFrom": "2021-06-12T00:00:00Z",
          "validTo": "2021-11-23T00:00:00Z"
         },
         {
          "$type": "Tfl.Api.Presentation.Entities.MatchedRoute, Tfl.Api.Presentation.Entities",
          "destination": "940GZZLUHLT",
          "destinationName": "Hainault Underground Station",
          "direction": "outbound",
          "name": "Ealing Broadway Underground Station - Hainault Underground Station",
          "originationName": "Ealing Broadway Underground Station",
          "originator": "940GZZLUEBY",
          "serviceType": "Regular",
          "validFrom": "2021-06-12T00:00:00Z",
          "validTo": "2021-11-23T00:00:00Z"
         }
        ],
        "serviceTypes": [
         {
          "$type": "Tfl.Api.Presentation.Entities.LineServiceTypeInfo, Tfl.Api.Presentation.Entities",
          "name": "Regular",
          "uri": "/Line/Route?ids=Central&serviceTypes=Regular"
         },
         {
          "$type": "Tfl.Api.Presentation.Entities.LineServiceTypeInfo, Tfl.Api.Presentation.Entities",
          "name": "Night",
          "uri": "/Line/Route?ids=Central&serviceTypes=Night"
         }
        ]
       },
       {
        "$type": "Tfl.Api.Presentation.Entities.Line, Tfl.Api.Presentation.Entities",
        "created": "2021-06-22T18:41:11.127Z",
        "crowding": {
         "$type": "Tfl.Api.Presentation.Entities.Crowding, Tfl.Api.Presentation.Entities"
        },
        "disruptions": [],
        "id": "circle",
        "lineStatuses": [],
        "modeName": "tube",
        "modified": "2021-06-22T18:41:11.127Z",
        "name": "Circle",
        "routeSections": [
         {
          "$type": "Tfl.Api.Presentation.Entities.MatchedRoute, Tfl.Api.Presentation.Entities",
          "destination": "940GZZLUHSC",
          "destinationName": "Hammersmith (H&C Line) Underground Station",
          "direction": "inbound",
          "name": "Edgware Road (Circle Line) Underground Station - Hammersmith (H&C Line) Underground Station",
          "originationName": "Edgware Road (Circle Line) Underground Station",
          "originator": "940GZZLUERC",
          "serviceType": "Regular",
          "validFrom": "2021-06-14T00:00:00Z",
          "validTo": "2021-11-23T00:00:00Z"
         },
         {
          "$type": "Tfl.Api.Presentation.Entities.MatchedRoute, Tfl.Api.Presentation.Entities",
          "destination": "940GZZLUERC",
          "destinationName": "Edgware Road (Circle Line) Underground Station",
          "direction": "outbound",
          "name": "Hammersmith (H&C Line) Underground Station - Edgware Road (Circle Line) Underground Station",
          "originationName": "Hammersmith (H&C Line) Underground Station",
          "originator": "940GZZLUHSC",
          "serviceType": "Regular",
          "validFrom": "2021-06-14T00:00:00Z",
          "validTo": "2021-11-23T00:00:00Z"
         }
        ],
        "serviceTypes": [
         {
          "$type": "Tfl.Api.Presentation.Entities.LineServiceTypeInfo, Tfl.Api.Presentation.Entities",
          "name": "Regular",
          "uri": "/Line/Route?ids=Circle&serviceTypes=Regular"
         }
        ]
       },
       {
        "$type": "Tfl.Api.Presentation.Entities.Line, Tfl.Api.Presentation.Entities",
        "created": "2021-06-22T18:41:11.127Z",
        "crowding": {
         "$type": "Tfl.Api.Presentation.Entities.Crowding, Tfl.Api.Presentation.Entities"
        },
        "disruptions": [],
        "id": "district",
        "lineStatuses": [],
        "modeName": "tube",
        "modified": "2021-06-22T18:41:11.127Z",
        "name": "District",
        "routeSections": [
         {
          "$type": "Tfl.Api.Presentation.Entities.MatchedRoute, Tfl.Api.Presentation.Entities",
          "destination": "940GZZLUEBY",
          "destinationName": "Ealing Broadway Underground Station",
          "direction": "inbound",
          "name": "Upminster Underground Station - Ealing Broadway Underground Station",
          "originationName": "Upminster Underground Station",
          "originator": "940GZZLUUPM",
          "serviceType": "Regular",
          "validFrom": "2021-06-12T00:00:00Z",
          "validTo": "2021-11-23T00:00:00Z"
         },
         {
          "$type": "Tfl.Api.Presentation.Entities.MatchedRoute, Tfl.Api.Presentation.Entities",
          "destination": "940GZZLUUPM",
          "destinationName": "Upminster Underground Station",
          "direction": "outbound",
          "name": "Ealing Broadway Underground Station - Upminster Underground Station",
          "originationName": "Ealing Broadway Underground Station",
          "originator": "940GZZLUEBY",
          "serviceType": "Regular",
          "validFrom": "2021-06-12T00:00:00Z",
          "validTo": "2021-11-23T00:00:00Z"
         },
         {
          "$type": "Tfl.Api.Presentation.Entities.MatchedRoute, Tfl.Api.Presentation.Entities",
          "destination": "940GZZLURMD",
          "destinationName": "Richmond Underground Station",
          "direction": "inbound",
          "name": "Upminster Underground Station - Richmond Underground Station",
          "originationName": "Upminster Underground Station",
          "originator": "940GZZLUUPM",
          "serviceType": "Regular",
          "validFrom": "2021-06-12T00:00:00Z",
          "validTo": "2021-11-23T00:00:00Z"
         },
         {
          "$type": "Tfl.Api.Presentation.Entities.MatchedRoute, Tfl.Api.Presentation.Entities",
          "destination": "940GZZLUUPM",
          "destinationName": "Upminster Underground Station",
          "direction": "outbound",
          "name": "Richmond Underground Station - Upminster Underground Station",
          "originationName": "Richmond Underground Station",
          "originator": "940GZZLURMD",
          "serviceType": "Regular",
          "validFrom": "2021-06-12T00:00:00Z",
          "validTo": "2021-11-23T00:00:00Z"
         },
         {
          "$type": "Tfl.Api.Presentation.Entities.MatchedRoute, Tfl.Api.Presentation.Entities",
          "destination": "940GZZLUWIM",
          "destinationName": "Wimbledon Underground Station",
          "direction": "inbound",
          "name": "Upminster Underground Station - Wimbledon Underground Station",
          "originationName": "Upminster Underground Station",
          "originator": "940GZZLUUPM",
          "serviceType": "Regular",
          "validFrom": "2021-06-12T00:00:00Z",
          "validTo": "2021-11-23T00:00:00Z"
         },
         {
          "$type": "Tfl.Api.Presentation.Entities.MatchedRoute, Tfl.Api.Presentation.Entities",
          "destination": "940GZZLUUPM",
          "destinationName": "Upminster Underground Station",
          "direction": "outbound",
          "name": "Wimbledon Underground Station - Upminster Underground Station",
          "originationName": "Wimbledon Underground Station",
          "originator": "940GZZLUWIM",
          "serviceType": "Regular",
          "validFrom": "2021-06-12T00:00:00Z",
          "validTo": "2021-11-23T00:00:00Z"
         },
         {
          "$type": "Tfl.Api.Presentation.Entities.MatchedRoute, Tfl.Api.Presentation.Entities",
          "destination": "940GZZLUUPM",
          "destinationName": "Upminster Underground Station",
          "direction": "outbound",
          "name": "Kensington (Olympia) Underground Station - Upminster Underground Station",
          "originationName": "Kensington (Olympia) Underground Station",
          "originator": "940GZZLUKOY",
          "serviceType": "Regular",
          "validFrom": "2021-06-12T00:00:00Z",
          "validTo": "2021-11-23T00:00:00Z"
         },
         {
          "$type": "Tfl.Api.Presentation.Entities.MatchedRoute, Tfl.Api.Presentation.Entities",
          "destination": "940GZZLUEBY",
          "destinationName": "Ealing Broadway Underground Station",
          "direction": "inbound",
          "name": "Edgware Road (Circle Line) Underground Station - Ealing Broadway Underground Station",
          "originationName": "Edgware Road (Circle Line) Underground Station",
          "originator": "940GZZLUERC",
          "serviceType": "Regular",
          "validFrom": "2021-06-12T00:00:00Z",
          "validTo": "2021-11-23T00:00:00Z"
         },
         {
          "$type": "Tfl.Api.Presentation.Entities.MatchedRoute, Tfl.Api.Presentation.Entities",
          "destination": "940GZZLUERC",
          "destinationName": "Edgware Road (Circle Line) Underground Station",
          "direction": "outbound",
          "name": "Ealing Broadway Underground Station - Edgware Road (Circle Line) Underground Station",
          "originationName": "Ealing Broadway Underground Station",
          "originator": "940GZZLUEBY",
          "serviceType": "Regular",
          "validFrom": "2021-06-12T00:00:00Z",
          "validTo": "2021-11-23T00:00:00Z"
         },
         {
          "$type": "Tfl.Api.Presentation.Entities.MatchedRoute, Tfl.Api.Presentation.Entities",
          "destination": "940GZZLURMD",
          "destinationName": "Richmond Underground Station",
          "direction": "inbound",
          "name": "Edgware Road (Circle Line) Underground Station - Richmond Underground Station",
          "originationName": "Edgware Road (Circle Line) Underground Station",
          "originator": "940GZZLUERC",
          "serviceType": "Regular",
          "validFrom": "2021-06-12T00:00:00Z",
          "validTo": "2021-11-23T00:00:00Z"
         },
         {
          "$type": "Tfl.Api.Presentation.Entities.MatchedRoute, Tfl.Api.Presentation.Entities",
          "destination": "940GZZLUERC",
          "destinationName": "Edgware Road (Circle Line) Underground Station",
          "direction": "outbound",
          "name": "Richmond Underground Station - Edgware Road (Circle Line) Underground Station",
          "originationName": "Richmond Underground Station",
          "originator": "940GZZLURMD",
          "serviceType": "Regular",
          "validFrom": "2021-06-12T00:00:00Z",
          "validTo": "2021-11-23T00:00:00Z"
         },
         {
          "$type": "Tfl.Api.Presentation.Entities.MatchedRoute, Tfl.Api.Presentation.Entities",
          "destination": "940GZZLUWIM",
          "destinationName": "Wimbledon Underground Station",
          "direction": "inbound",
          "name": "Edgware Road (Circle Line) Underground Station - Wimbledon Underground Station",
          "originationName": "Edgware Road (Circle Line) Underground Station",
          "originator": "940GZZLUERC",
          "serviceType": "Regular",
          "validFrom": "2021-06-12T00:00:00Z",
          "validTo": "2021-11-23T00:00:00Z"
         },
         {
          "$type": "Tfl.Api.Presentation.Entities.MatchedRoute, Tfl.Api.Presentation.Entities",
          "destination": "940GZZLUERC",
          "destinationName": "Edgware Road (Circle Line) Underground Station",
          "direction": "outbound",
          "name": "Wimbledon Underground Station - Edgware Road (Circle Line) Underground Station",
          "originationName": "Wimbledon Underground Station",
          "originator": "940GZZLUWIM",
          "serviceType": "Regular",
          "validFrom": "2021-06-12T00:00:00Z",
          "validTo": "2021-11-23T00:00:00Z"
         },
         {
          "$type": "Tfl.Api.Presentation.Entities.MatchedRoute, Tfl.Api.Presentation.Entities",
          "destination": "940GZZLUKOY",
          "destinationName": "Kensington (Olympia) Underground Station",
          "direction": "inbound",
          "name": "Edgware Road (Circle Line) Underground Station - Kensington (Olympia) Underground Station",
          "originationName": "Edgware Road (Circle Line) Underground Station",
          "originator": "940GZZLUERC",
          "serviceType": "Regular",
          "validFrom": "2021-06-12T00:00:00Z",
          "validTo": "2021-11-23T00:00:00Z"
         },
         {
          "$type": "Tfl.Api.Presentation.Entities.MatchedRoute, Tfl.Api.Presentation.Entities",
          "destination": "940GZZLUERC",
          "destinationName": "Edgware Road (Circle Line) Underground Station",
          "direction": "outbound",
          "name": "Kensington (Olympia) Underground Station - Edgware Road (Circle Line) Underground Station",
          "originationName": "Kensington (Olympia) Underground Station",
          "originator": "940GZZLUKOY",
          "serviceType": "Regular",
          "validFrom": "2021-06-12T00:00:00Z",
          "validTo": "2021-11-23T00:00:00Z"
         }
        ],
        "serviceTypes": [
         {
          "$type": "Tfl.Api.Presentation.Entities.LineServiceTypeInfo, Tfl.Api.Presentation.Entities",
          "name": "Regular",
          "uri": "/Line/Route?ids=District&serviceTypes=Regular"
         }
        ]
       },
       {
        "$type": "Tfl.Api.Presentation.Entities.Line, Tfl.Api.Presentation.Entities",
        "created": "2021-06-22T18:41:11.127Z",
        "crowding": {
         "$type": "Tfl.Api.Presentation.Entities.Crowding, Tfl.Api.Presentation.Entities"
        },
        "disruptions": [],
        "id": "hammersmith-city",
        "lineStatuses": [],
        "modeName": "tube",
        "modified": "2021-06-22T18:41:11.127Z",
        "name": "Hammersmith & City",
        "routeSections": [
         {
          "$type": "Tfl.Api.Presentation.Entities.MatchedRoute, Tfl.Api.Presentation.Entities",
          "destination": "940GZZLUHSC",
          "destinationName": "Hammersmith (H&C Line) Underground Station",
          "direction": "inbound",
          "name": "Barking Underground Station - Hammersmith (H&C Line) Underground Station",
          "originationName": "Barking Underground Station",
          "originator": "940GZZLUBKG",
          "serviceType": "Regular",
          "validFrom": "2021-06-12T00:00:00Z",
          "validTo": "2021-11-23T00:00:00Z"
         },
         {
          "$type": "Tfl.Api.Presentation.Entities.MatchedRoute, Tfl.Api.Presentation.Entities",
          "destination": "940GZZLUBKG",
          "destinationName": "Barking Underground Station",
          "direction": "outbound",
          "name": "Hammersmith (H&C Line) Underground Station - Barking Underground Station",
          "originationName": "Hammersmith (H&C Line) Underground Station",
          "originator": "940GZZLUHSC",
          "serviceType": "Regular",
          "validFrom": "2021-06-12T00:00:00Z",
          "validTo": "2021-11-23T00:00:00Z"
         }
        ],
        "serviceTypes": [
         {
          "$type": "Tfl.Api.Presentation.Entities.LineServiceTypeInfo, Tfl.Api.Presentation.Entities",
          "name": "Regular",
          "uri": "/Line/Route?ids=Hammersmith & City&serviceTypes=Regular"
         }
        ]
       },
       {
        "$type": "Tfl.Api.Presentation.Entities.Line, Tfl.Api.Presentation.Entities",
        "created": "2021-06-22T18:41:11.127Z",
        "crowding": {
         "$type": "Tfl.Api.Presentation.Entities.Crowding, Tfl.Api.Presentation.Entities"
        },
        "disruptions": [],
        "id": "jubilee",
        "lineStatuses": [],
        "modeName": "tube",
        "modified": "2021-06-22T18:41:11.127Z",
        "name": "Jubilee",
        "routeSections": [
         {
          "$type": "Tfl.Api.Presentation.Entities.MatchedRoute, Tfl.Api.Presentation.Entities",
          "destination": "940GZZLUSTM",
          "destinationName": "Stanmore Underground Station",
          "direction": "inbound",
          "name": "Stratford Underground Station - Stanmore Underground Station",
          "originationName": "Stratford Underground Station",
          "originator": "940GZZLUSTD",
          "serviceType": "Regular",
          "validFrom": "2021-06-12T00:00:00Z",
          "validTo": "2021-11-23T00:00:00Z"
         },
         {
          "$type": "Tfl.Api.Presentation.Entities.MatchedRoute, Tfl.Api.Presentation.Entities",
          "destination": "940GZZLUSTD",
          "destinationName": "Stratford Underground Station",
          "direction": "outbound",
          "name": "Stanmore Underground Station - Stratford Underground Station",
          "originationName": "Stanmore Underground Station",
          "originator": "940GZZLUSTM",
          "serviceType": "Regular",
          "validFrom": "2021-06-12T00:00:00Z",
          "validTo": "2021-11-23T00:00:00Z"
         }
        ],
        "serviceTypes": [
         {
          "$type": "Tfl.Api.Presentation.Entities.LineServiceTypeInfo, Tfl.Api.Presentation.Entities",
          "name": "Regular",
          "uri": "/Line/Route?ids=Jubilee&serviceTypes=Regular"
         },
         {
          "$type": "Tfl.Api.Presentation.Entities.LineServiceTypeInfo, Tfl.Api.Presentation.Entities",
          "name": "Night",
          "uri": "/Line/Route?ids=Jubilee&serviceTypes=Night"
         }
        ]
       },
       {
        "$type": "Tfl.Api.Presentation.Entities.Line, Tfl.Api.Presentation.Entities",
        "created": "2021-06-22T18:41:11.143Z",
        "crowding": {
         "$type": "Tfl.Api.Presentation.Entities.Crowding, Tfl.Api.Presentation.Entities"
        },
        "disruptions": [],
        "id": "metropolitan",
        "lineStatuses": [],
        "modeName": "tube",
        "modified": "2021-06-22T18:41:11.143Z",
        "name": "Metropolitan",
        "routeSections": [
         {
          "$type": "Tfl.Api.Presentation.Entities.MatchedRoute, Tfl.Api.Presentation.Entities",
          "destination": "940GZZLUALD",
          "destinationName": "Aldgate Underground Station",
          "direction": "outbound",
          "name": "Amersham Underground Station - Aldgate Underground Station",
          "originationName": "Amersham Underground Station",
          "originator": "940GZZLUAMS",
          "serviceType": "Regular",
          "validFrom": "2021-06-12T00:00:00Z",
          "validTo": "2021-07-11T00:00:00Z"
         },
         {
          "$type": "Tfl.Api.Presentation.Entities.MatchedRoute, Tfl.Api.Presentation.Entities",
          "destination": "940GZZLUAMS",
          "destinationName": "Amersham Underground Station",
          "direction": "inbound",
          "name": "Aldgate Underground Station - Amersham Underground Station",
          "originationName": "Aldgate Underground Station",
          "originator": "940GZZLUALD",
          "serviceType": "Regular",
          "validFrom": "2021-06-12T00:00:00Z",
          "validTo": "2021-07-11T00:00:00Z"
         },
         {
          "$type": "Tfl.Api.Presentation.Entities.MatchedRoute, Tfl.Api.Presentation.Entities",
          "destination": "940GZZLUCSM",
          "destinationName": "Chesham Underground Station",
          "direction": "inbound",
          "name": "Aldgate Underground Station - Chesham Underground Station",
          "originationName": "Aldgate Underground Station",
          "originator": "940GZZLUALD",
          "serviceType": "Regular",
          "validFrom": "2021-06-12T00:00:00Z",
          "validTo": "2021-07-11T00:00:00Z"
         },
         {
          "$type": "Tfl.Api.Presentation.Entities.MatchedRoute, Tfl.Api.Presentation.Entities",
          "destination": "940GZZLUALD",
          "destinationName": "Aldgate Underground Station",
          "direction": "outbound",
          "name": "Chesham Underground Station - Aldgate Underground Station",
          "originationName": "Chesham Underground Station",
          "originator": "940GZZLUCSM",
          "serviceType": "Regular",
          "validFrom": "2021-06-12T00:00:00Z",
          "validTo": "2021-07-11T00:00:00Z"
         },
         {
          "$type": "Tfl.Api.Presentation.Entities.MatchedRoute, Tfl.Api.Presentation.Entities",
          "destination": "940GZZLUALD",
          "destinationName": "Aldgate Underground Station",
          "direction": "outbound",
          "name": "Uxbridge Underground Station - Aldgate Underground Station",
          "originationName": "Uxbridge Underground Station",
          "originator": "940GZZLUUXB",
          "serviceType": "Regular",
          "validFrom": "2021-06-12T00:00:00Z",
          "validTo": "2021-07-11T00:00:00Z"
         },
         {
          "$type": "Tfl.Api.Presentation.Entities.MatchedRoute, Tfl.Api.Presentation.Entities",
          "destination": "940GZZLUWAF",
          "destinationName": "Watford Underground Station",
          "direction": "inbound",
          "name": "Aldgate Underground Station - Watford Underground Station",
          "originationName": "Aldgate Underground Station",
          "originator": "940GZZLUALD",
          "serviceType": "Regular",
          "validFrom": "2021-06-12T00:00:00Z",
          "validTo": "2021-07-11T00:00:00Z"
         },
         {
          "$type": "Tfl.Api.Presentation.Entities.MatchedRoute, Tfl.Api.Presentation.Entities",
          "destination": "940GZZLUALD",
          "destinationName": "Aldgate Underground Station",
          "direction": "outbound",
          "name": "Watford Underground Station - Aldgate Underground Station",
          "originationName": "Watford Underground Station",
          "originator": "940GZZLUWAF",
          "serviceType": "Regular",
          "validFrom": "2021-06-12T00:00:00Z",
          "validTo": "2021-07-11T00:00:00Z"
         },
         {
          "$type": "Tfl.Api.Presentation.Entities.MatchedRoute, Tfl.Api.Presentation.Entities",
          "destination": "940GZZLUUXB",
          "destinationName": "Uxbridge Underground Station",
          "direction": "inbound",
          "name": "Aldgate Underground Station - Uxbridge Underground Station",
          "originationName": "Aldgate Underground Station",
          "originator": "940GZZLUALD",
          "serviceType": "Regular",
          "validFrom": "2021-06-12T00:00:00Z",
          "validTo": "2021-07-11T00:00:00Z"
         },
         {
          "$type": "Tfl.Api.Presentation.Entities.MatchedRoute, Tfl.Api.Presentation.Entities",
          "destination": "940GZZLUWAF",
          "destinationName": "Watford Underground Station",
          "direction": "outbound",
          "name": "Chesham Underground Station - Watford Underground Station",
          "originationName": "Chesham Underground Station",
          "originator": "940GZZLUCSM",
          "serviceType": "Regular",
          "validFrom": "2021-06-12T00:00:00Z",
          "validTo": "2021-07-11T00:00:00Z"
         },
         {
          "$type": "Tfl.Api.Presentation.Entities.MatchedRoute, Tfl.Api.Presentation.Entities",
          "destination": "940GZZLURKW",
          "destinationName": "Rickmansworth Underground Station",
          "direction": "inbound",
          "name": "Watford Underground Station - Rickmansworth Underground Station",
          "originationName": "Watford Underground Station",
          "originator": "940GZZLUWAF",
          "serviceType": "Regular",
          "validFrom": "2021-06-12T00:00:00Z",
          "validTo": "2021-07-11T00:00:00Z"
         }
        ],
        "serviceTypes": [
         {
          "$type": "Tfl.Api.Presentation.Entities.LineServiceTypeInfo, Tfl.Api.Presentation.Entities",
          "name": "Regular",
          "uri": "/Line/Route?ids=Metropolitan&serviceTypes=Regular"
         }
        ]
       },
       {
        "$type": "Tfl.Api.Presentation.Entities.Line, Tfl.Api.Presentation.Entities",
        "created": "2021-06-22T18:41:11.127Z",
        "crowding": {
         "$type": "Tfl.Api.Presentation.Entities.Crowding, Tfl.Api.Presentation.Entities"
        },
        "disruptions": [],
        "id": "northern",
        "lineStatuses": [],
        "modeName": "tube",
        "modified": "2021-06-22T18:41:11.127Z",
        "name": "Northern",
        "routeSections": [
         {
          "$type": "Tfl.Api.Presentation.Entities.MatchedRoute, Tfl.Api.Presentation.Entities",
          "destination": "940GZZLUMDN",
          "destinationName": "Morden Underground Station",
          "direction": "inbound",
          "name": "High Barnet Underground Station - Morden Underground Station",
          "originationName": "High Barnet Underground Station",
          "originator": "940GZZLUHBT",
          "serviceType": "Regular",
          "validFrom": "2021-06-12T00:00:00Z",
          "validTo": "2021-11-23T00:00:00Z"
         },
         {
          "$type": "Tfl.Api.Presentation.Entities.MatchedRoute, Tfl.Api.Presentation.Entities",
          "destination": "940GZZLUMDN",
          "destinationName": "Morden Underground Station",
          "direction": "inbound",
          "name": "High Barnet Underground Station - Morden Underground Station",
          "originationName": "High Barnet Underground Station",
          "originator": "940GZZLUHBT",
          "serviceType": "Regular",
          "validFrom": "2021-06-12T00:00:00Z",
          "validTo": "2021-11-23T00:00:00Z"
         },
         {
          "$type": "Tfl.Api.Presentation.Entities.MatchedRoute, Tfl.Api.Presentation.Entities",
          "destination": "940GZZLUHBT",
          "destinationName": "High Barnet Underground Station",
          "direction": "outbound",
          "name": "Morden Underground Station - High Barnet Underground Station",
          "originationName": "Morden Underground Station",
          "originator": "940GZZLUMDN",
          "serviceType": "Regular",
          "validFrom": "2021-06-12T00:00:00Z",
          "validTo": "2021-11-23T00:00:00Z"
         },
         {
          "$type": "Tfl.Api.Presentation.Entities.MatchedRoute, Tfl.Api.Presentation.Entities",
          "destination": "940GZZLUHBT",
          "destinationName": "High Barnet Underground Station",
          "direction": "outbound",
          "name": "Morden Underground Station - High Barnet Underground Station",
          "originationName": "Morden Underground Station",
          "originator": "940GZZLUMDN",
          "serviceType": "Regular",
          "validFrom": "2021-06-12T00:00:00Z",
          "validTo": "2021-11-23T00:00:00Z"
         },
         {
          "$type": "Tfl.Api.Presentation.Entities.MatchedRoute, Tfl.Api.Presentation.Entities",
          "destination": "940GZZLUMDN",
          "destinationName": "Morden Underground Station",
          "direction": "inbound",
          "name": "Edgware Underground Station - Morden Underground Station",
          "originationName": "Edgware Underground Station",
          "originator": "940GZZLUEGW",
          "serviceType": "Regular",
          "validFrom": "2021-06-12T00:00:00Z",
          "validTo": "2021-11-23T00:00:00Z"
         },
         {
          "$type": "Tfl.Api.Presentation.Entities.MatchedRoute, Tfl.Api.Presentation.Entities",
          "destination": "940GZZLUMDN",
          "destinationName": "Morden Underground Station",
          "direction": "inbound",
          "name": "Edgware Underground Station - Morden Underground Station",
          "originationName": "Edgware Underground Station",
          "originator": "940GZZLUEGW",
          "serviceType": "Regular",
          "validFrom": "2021-06-12T00:00:00Z",
          "validTo": "2021-11-23T00:00:00Z"
         },
         {
          "$type": "Tfl.Api.Presentation.Entities.MatchedRoute, Tfl.Api.Presentation.Entities",
          "destination": "940GZZLUEGW",
          "destinationName": "Edgware Underground Station",
          "direction": "outbound",
          "name": "Morden Underground Station - Edgware Underground Station",
          "originationName": "Morden Underground Station",
          "originator": "940GZZLUMDN",
          "serviceType": "Regular",
          "validFrom": "2021-06-12T00:00:00Z",
          "validTo": "2021-11-23T00:00:00Z"
         },
         {
          "$type": "Tfl.Api.Presentation.Entities.MatchedRoute, Tfl.Api.Presentation.Entities",
          "destination": "940GZZLUEGW",
          "destinationName": "Edgware Underground Station",
          "direction": "outbound",
          "name": "Morden Underground Station - Edgware Underground Station",
          "originationName": "Morden Underground Station",
          "originator": "940GZZLUMDN",
          "serviceType": "Regular",
          "validFrom": "2021-06-12T00:00:00Z",
          "validTo": "2021-11-23T00:00:00Z"
         },
         {
          "$type": "Tfl.Api.Presentation.Entities.MatchedRoute, Tfl.Api.Presentation.Entities",
          "destination": "940GZZLUMDN",
          "destinationName": "Morden Underground Station",
          "direction": "inbound",
          "name": "Mill Hill East Underground Station - Morden Underground Station",
          "originationName": "Mill Hill East Underground Station",
          "originator": "940GZZLUMHL",
          "serviceType": "Regular",
          "validFrom": "2021-06-12T00:00:00Z",
          "validTo": "2021-11-23T00:00:00Z"
         },
         {
          "$type": "Tfl.Api.Presentation.Entities.MatchedRoute, Tfl.Api.Presentation.Entities",
          "destination": "940GZZLUMHL",
          "destinationName": "Mill Hill East Underground Station",
          "direction": "outbound",
          "name": "Morden Underground Station - Mill Hill East Underground Station",
          "originationName": "Morden Underground Station",
          "originator": "940GZZLUMDN",
          "serviceType": "Regular",
          "validFrom": "2021-06-12T00:00:00Z",
          "validTo": "2021-11-23T00:00:00Z"
         },
         {
          "$type": "Tfl.Api.Presentation.Entities.MatchedRoute, Tfl.Api.Presentation.Entities",
          "destination": "940GZZLUMHL",
          "destinationName": "Mill Hill East Underground Station",
          "direction": "outbound",
          "name": "Morden Underground Station - Mill Hill East Underground Station",
          "originationName": "Morden Underground Station",
          "originator": "940GZZLUMDN",
          "serviceType": "Regular",
          "validFrom": "2021-06-12T00:00:00Z",
          "validTo": "2021-11-23T00:00:00Z"
         }
        ],
        "serviceTypes": [
         {
          "$type": "Tfl.Api.Presentation.Entities.LineServiceTypeInfo, Tfl.Api.Presentation.Entities",
          "name": "Regular",
          "uri": "/Line/Route?ids=Northern&serviceTypes=Regular"
         },
         {
          "$type": "Tfl.Api.Presentation.Entities.LineServiceTypeInfo, Tfl.Api.Presentation.Entities",
          "name": "Night",
          "uri": "/Line/Route?ids=Northern&serviceTypes=Night"
         }
        ]
       },
       {
        "$type": "Tfl.Api.Presentation.Entities.Line, Tfl.Api.Presentation.Entities",
        "created": "2021-06-22T18:41:11.143Z",
        "crowding": {
         "$type": "Tfl.Api.Presentation.Entities.Crowding, Tfl.Api.Presentation.Entities"
        },
        "disruptions": [],
        "id": "piccadilly",
        "lineStatuses": [],
        "modeName": "tube",
        "modified": "2021-06-22T18:41:11.143Z",
        "name": "Piccadilly",
        "routeSections": [
         {
          "$type": "Tfl.Api.Presentation.Entities.MatchedRoute, Tfl.Api.Presentation.Entities",
          "destination": "940GZZLUUXB",
          "destinationName": "Uxbridge Underground Station",
          "direction": "inbound",
          "name": "Cockfosters Underground Station - Uxbridge Underground Station",
          "originationName": "Cockfosters Underground Station",
          "originator": "940GZZLUCKS",
          "serviceType": "Regular",
          "validFrom": "2021-06-12T00:00:00Z",
          "validTo": "2021-07-11T00:00:00Z"
         },
         {
          "$type": "Tfl.Api.Presentation.Entities.MatchedRoute, Tfl.Api.Presentation.Entities",
          "destination": "940GZZLUCKS",
          "destinationName": "Cockfosters Underground Station",
          "direction": "outbound",
          "name": "Uxbridge Underground Station - Cockfosters Underground Station",
          "originationName": "Uxbridge Underground Station",
          "originator": "940GZZLUUXB",
          "serviceType": "Regular",
          "validFrom": "2021-06-12T00:00:00Z",
          "validTo": "2021-07-11T00:00:00Z"
         },
         {
          "$type": "Tfl.Api.Presentation.Entities.MatchedRoute, Tfl.Api.Presentation.Entities",
          "destination": "940GZZLUHR5",
          "destinationName": "Heathrow Terminal 5 Underground Station",
          "direction": "inbound",
          "name": "Cockfosters Underground Station - Heathrow Terminal 5 Underground Station",
          "originationName": "Cockfosters Underground Station",
          "originator": "940GZZLUCKS",
          "serviceType": "Regular",
          "validFrom": "2021-06-12T00:00:00Z",
          "validTo": "2021-07-11T00:00:00Z"
         },
         {
          "$type": "Tfl.Api.Presentation.Entities.MatchedRoute, Tfl.Api.Presentation.Entities",
          "destination": "940GZZLUCKS",
          "destinationName": "Cockfosters Underground Station",
          "direction": "outbound",
          "name": "Heathrow Terminal 5 Underground Station - Cockfosters Underground Station",
          "originationName": "Heathrow Terminal 5 Underground Station",
          "originator": "940GZZLUHR5",
          "serviceType": "Regular",
          "validFrom": "2021-06-12T00:00:00Z",
          "validTo": "2021-07-11T00:00:00Z"
         }
        ],
        "serviceTypes": [
         {
          "$type": "Tfl.Api.Presentation.Entities.LineServiceTypeInfo, Tfl.Api.Presentation.Entities",
          "name": "Regular",
          "uri": "/Line/Route?ids=Piccadilly&serviceTypes=Regular"
         },
         {
          "$type": "Tfl.Api.Presentation.Entities.LineServiceTypeInfo, Tfl.Api.Presentation.Entities",
          "name": "Night",
          "uri": "/Line/Route?ids=Piccadilly&serviceTypes=Night"
         }
        ]
       },
       {
        "$type": "Tfl.Api.Presentation.Entities.Line, Tfl.Api.Presentation.Entities",
        "created": "2021-06-22T18:41:11.143Z",
        "crowding": {
         "$type": "Tfl.Api.Presentation.Entities.Crowding, Tfl.Api.Presentation.Entities"
        },
        "disruptions": [],
        "id": "victoria",
        "lineStatuses": [],
        "modeName": "tube",
        "modified": "2021-06-22T18:41:11.143Z",
        "name": "Victoria",
        "routeSections": [
         {
          "$type": "Tfl.Api.Presentation.Entities.MatchedRoute, Tfl.Api.Presentation.Entities",
          "destination": "940GZZLUWWL",
          "destinationName": "Walthamstow Central Underground Station",
          "direction": "outbound",
          "name": "Brixton Underground Station - Walthamstow Central Underground Station",
          "originationName": "Brixton Underground Station",
          "originator": "940GZZLUBXN",
          "serviceType": "Regular",
          "validFrom": "2021-06-12T00:00:00Z",
          "validTo": "2021-11-23T00:00:00Z"
         },
         {
          "$type": "Tfl.Api.Presentation.Entities.MatchedRoute, Tfl.Api.Presentation.Entities",
          "destination": "940GZZLUBXN",
          "destinationName": "Brixton Underground Station",
          "direction": "inbound",
          "name": "Walthamstow Central Underground Station - Brixton Underground Station",
          "originationName": "Walthamstow Central Underground Station",
          "originator": "940GZZLUWWL",
          "serviceType": "Regular",
          "validFrom": "2021-06-12T00:00:00Z",
          "validTo": "2021-11-23T00:00:00Z"
         }
        ],
        "serviceTypes": [
         {
          "$type": "Tfl.Api.Presentation.Entities.LineServiceTypeInfo, Tfl.Api.Presentation.Entities",
          "name": "Regular",
          "uri": "/Line/Route?ids=Victoria&serviceTypes=Regular"
         },
         {
          "$type": "Tfl.Api.Presentation.Entities.LineServiceTypeInfo, Tfl.Api.Presentation.Entities",
          "name": "Night",
          "uri": "/Line/Route?ids=Victoria&serviceTypes=Night"
         }
        ]
       },
       {
        "$type": "Tfl.Api.Presentation.Entities.Line, Tfl.Api.Presentation.Entities",
        "created": "2021-06-22T18:41:11.16Z",
        "crowding": {
         "$type": "Tfl.Api.Presentation.Entities.Crowding, Tfl.Api.Presentation.Entities"
        },
        "disruptions": [],
        "id": "waterloo-city",
        "lineStatuses": [],
        "modeName": "tube",
        "modified": "2021-06-22T18:41:11.16Z",
        "name": "Waterloo & City",
        "routeSections": [
         {
          "$type": "Tfl.Api.Presentation.Entities.MatchedRoute, Tfl.Api.Presentation.Entities",
          "destination": "940GZZLUWLO",
          "destinationName": "Waterloo Underground Station",
          "direction": "inbound",
          "name": "Bank Underground Station - Waterloo Underground Station",
          "originationName": "Bank Underground Station",
          "originator": "940GZZLUBNK",
          "serviceType": "Regular",
          "validFrom": "2021-06-14T00:00:00Z",
          "validTo": "2021-11-23T00:00:00Z"
         },
         {
          "$type": "Tfl.Api.Presentation.Entities.MatchedRoute, Tfl.Api.Presentation.Entities",
          "destination": "940GZZLUBNK",
          "destinationName": "Bank Underground Station",
          "direction": "outbound",
          "name": "Waterloo Underground Station - Bank Underground Station",
          "originationName": "Waterloo Underground Station",
          "originator": "940GZZLUWLO",
          "serviceType": "Regular",
          "validFrom": "2021-06-14T00:00:00Z",
          "validTo": "2021-11-23T00:00:00Z"
         }
        ],
        "serviceTypes": [
         {
          "$type": "Tfl.Api.Presentation.Entities.LineServiceTypeInfo, Tfl.Api.Presentation.Entities",
          "name": "Regular",
          "uri": "/Line/Route?ids=Waterloo & City&serviceTypes=Regular"
         }
        ]
       }
      ],
      "text/plain": [
       "<IPython.core.display.JSON object>"
      ]
     },
     "execution_count": 7,
     "metadata": {
      "application/json": {
       "expanded": false,
       "root": "root"
      }
     },
     "output_type": "execute_result"
    }
   ],
   "source": [
    "modes = \"tube\"\n",
    "response_json = get_data(line_endpoint,\"Mode\",f\"/{modes}\",\"/Route\")\n",
    "\n",
    "tube_lines = []\n",
    "for tube in response_json:\n",
    "    tube_lines.append(tube[\"name\"])\n",
    "\n",
    "print(f\"Number of {modes} lines: {len(tube_lines)}\")\n",
    "print(f\"{modes.capitalize()} line names: {str(tube_lines)}\")\n",
    "\n",
    "JSON(response_json)"
   ]
  },
  {
   "cell_type": "code",
   "execution_count": 8,
   "id": "53d7c2ad-128a-4fc5-b18e-d69079b127aa",
   "metadata": {},
   "outputs": [
    {
     "name": "stdout",
     "output_type": "stream",
     "text": [
      "......... Data received successfully from https://api.tfl.gov.uk/Line/Mode//bus//Route\n",
      "Number of bus lines: 677\n"
     ]
    }
   ],
   "source": [
    "modes = \"bus\"\n",
    "response_json = get_data(line_endpoint,\"Mode\",f\"/{modes}\",\"/Route\")\n",
    "\n",
    "tube_lines = []\n",
    "for tube in response_json:\n",
    "    tube_lines.append(tube[\"name\"])\n",
    "\n",
    "print(f\"Number of {modes} lines: {len(tube_lines)}\")\n",
    "\n"
   ]
  },
  {
   "cell_type": "code",
   "execution_count": 9,
   "id": "52729a83-e44e-4bba-ba25-c5f19e687821",
   "metadata": {},
   "outputs": [
    {
     "name": "stdout",
     "output_type": "stream",
     "text": [
      "......... Data received successfully from https://api.tfl.gov.uk/Line/victoria,circle,N133\n"
     ]
    },
    {
     "data": {
      "application/json": [
       {
        "$type": "Tfl.Api.Presentation.Entities.Line, Tfl.Api.Presentation.Entities",
        "created": "2021-06-22T18:41:11.127Z",
        "crowding": {
         "$type": "Tfl.Api.Presentation.Entities.Crowding, Tfl.Api.Presentation.Entities"
        },
        "disruptions": [],
        "id": "circle",
        "lineStatuses": [],
        "modeName": "tube",
        "modified": "2021-06-22T18:41:11.127Z",
        "name": "Circle",
        "routeSections": [],
        "serviceTypes": [
         {
          "$type": "Tfl.Api.Presentation.Entities.LineServiceTypeInfo, Tfl.Api.Presentation.Entities",
          "name": "Regular",
          "uri": "/Line/Route?ids=Circle&serviceTypes=Regular"
         }
        ]
       },
       {
        "$type": "Tfl.Api.Presentation.Entities.Line, Tfl.Api.Presentation.Entities",
        "created": "2021-06-22T18:41:11.16Z",
        "crowding": {
         "$type": "Tfl.Api.Presentation.Entities.Crowding, Tfl.Api.Presentation.Entities"
        },
        "disruptions": [],
        "id": "n133",
        "lineStatuses": [],
        "modeName": "bus",
        "modified": "2021-06-22T18:41:11.16Z",
        "name": "N133",
        "routeSections": [],
        "serviceTypes": [
         {
          "$type": "Tfl.Api.Presentation.Entities.LineServiceTypeInfo, Tfl.Api.Presentation.Entities",
          "name": "Regular",
          "uri": "/Line/Route?ids=N133&serviceTypes=Regular"
         }
        ]
       },
       {
        "$type": "Tfl.Api.Presentation.Entities.Line, Tfl.Api.Presentation.Entities",
        "created": "2021-06-22T18:41:11.143Z",
        "crowding": {
         "$type": "Tfl.Api.Presentation.Entities.Crowding, Tfl.Api.Presentation.Entities"
        },
        "disruptions": [],
        "id": "victoria",
        "lineStatuses": [],
        "modeName": "tube",
        "modified": "2021-06-22T18:41:11.143Z",
        "name": "Victoria",
        "routeSections": [],
        "serviceTypes": [
         {
          "$type": "Tfl.Api.Presentation.Entities.LineServiceTypeInfo, Tfl.Api.Presentation.Entities",
          "name": "Regular",
          "uri": "/Line/Route?ids=Victoria&serviceTypes=Regular"
         },
         {
          "$type": "Tfl.Api.Presentation.Entities.LineServiceTypeInfo, Tfl.Api.Presentation.Entities",
          "name": "Night",
          "uri": "/Line/Route?ids=Victoria&serviceTypes=Night"
         }
        ]
       }
      ],
      "text/plain": [
       "<IPython.core.display.JSON object>"
      ]
     },
     "execution_count": 9,
     "metadata": {
      "application/json": {
       "expanded": false,
       "root": "root"
      }
     },
     "output_type": "execute_result"
    }
   ],
   "source": [
    "response_json = get_data(line_endpoint,\"victoria,circle,N133\")\n",
    "JSON(response_json)"
   ]
  },
  {
   "cell_type": "code",
   "execution_count": 10,
   "id": "2ec21433-4f20-4246-8d41-6d3b9d283c33",
   "metadata": {},
   "outputs": [
    {
     "name": "stdout",
     "output_type": "stream",
     "text": [
      "......... Data received successfully from https://api.tfl.gov.uk/Line//victoria//StopPoints\n",
      "Number of stations that serve victoria: 16\n"
     ]
    },
    {
     "data": {
      "application/json": [
       {
        "$type": "Tfl.Api.Presentation.Entities.StopPoint, Tfl.Api.Presentation.Entities",
        "additionalProperties": [
         {
          "$type": "Tfl.Api.Presentation.Entities.AdditionalProperties, Tfl.Api.Presentation.Entities",
          "category": "ServiceInfo",
          "key": "Night",
          "sourceSystemKey": "TransXchangeETL",
          "value": "yes"
         },
         {
          "$type": "Tfl.Api.Presentation.Entities.AdditionalProperties, Tfl.Api.Presentation.Entities",
          "category": "Facility",
          "key": "Help Points",
          "sourceSystemKey": "StaticObjects",
          "value": "0 on platforms, 0 in ticket halls, 0 elsewhere"
         },
         {
          "$type": "Tfl.Api.Presentation.Entities.AdditionalProperties, Tfl.Api.Presentation.Entities",
          "category": "Facility",
          "key": "Payphones",
          "sourceSystemKey": "StaticObjects",
          "value": "2"
         },
         {
          "$type": "Tfl.Api.Presentation.Entities.AdditionalProperties, Tfl.Api.Presentation.Entities",
          "category": "Geo",
          "key": "Zone",
          "sourceSystemKey": "StaticObjects",
          "value": "3"
         },
         {
          "$type": "Tfl.Api.Presentation.Entities.AdditionalProperties, Tfl.Api.Presentation.Entities",
          "category": "Facility",
          "key": "Bridge",
          "sourceSystemKey": "StaticObjects",
          "value": "no"
         },
         {
          "$type": "Tfl.Api.Presentation.Entities.AdditionalProperties, Tfl.Api.Presentation.Entities",
          "category": "Facility",
          "key": "Ticket Halls",
          "sourceSystemKey": "StaticObjects",
          "value": "1"
         },
         {
          "$type": "Tfl.Api.Presentation.Entities.AdditionalProperties, Tfl.Api.Presentation.Entities",
          "category": "Address",
          "key": "PhoneNo",
          "sourceSystemKey": "StaticObjects",
          "value": "0845 330 9880"
         },
         {
          "$type": "Tfl.Api.Presentation.Entities.AdditionalProperties, Tfl.Api.Presentation.Entities",
          "category": "Facility",
          "key": "Photo Booths",
          "sourceSystemKey": "StaticObjects",
          "value": "0"
         },
         {
          "$type": "Tfl.Api.Presentation.Entities.AdditionalProperties, Tfl.Api.Presentation.Entities",
          "category": "Facility",
          "key": "Waiting Room",
          "sourceSystemKey": "StaticObjects",
          "value": "no"
         },
         {
          "$type": "Tfl.Api.Presentation.Entities.AdditionalProperties, Tfl.Api.Presentation.Entities",
          "category": "Facility",
          "key": "Car park",
          "sourceSystemKey": "StaticObjects",
          "value": "no"
         },
         {
          "$type": "Tfl.Api.Presentation.Entities.AdditionalProperties, Tfl.Api.Presentation.Entities",
          "category": "Facility",
          "key": "Other Facilities",
          "sourceSystemKey": "StaticObjects",
          "value": "post office style queuing for tickets, routeways platform to ticket hall."
         },
         {
          "$type": "Tfl.Api.Presentation.Entities.AdditionalProperties, Tfl.Api.Presentation.Entities",
          "category": "Address",
          "key": "Address",
          "sourceSystemKey": "StaticObjects",
          "value": "Blackhorse Road Underground Station,London Underground Ltd.,Blackhorse Rd,London,E17 6ND"
         },
         {
          "$type": "Tfl.Api.Presentation.Entities.AdditionalProperties, Tfl.Api.Presentation.Entities",
          "category": "Facility",
          "key": "ASDA Click and Collect",
          "sourceSystemKey": "StaticObjects",
          "value": "yes"
         },
         {
          "$type": "Tfl.Api.Presentation.Entities.AdditionalProperties, Tfl.Api.Presentation.Entities",
          "category": "Facility",
          "key": "Cash Machines",
          "sourceSystemKey": "StaticObjects",
          "value": "0"
         },
         {
          "$type": "Tfl.Api.Presentation.Entities.AdditionalProperties, Tfl.Api.Presentation.Entities",
          "category": "Facility",
          "key": "Gates",
          "sourceSystemKey": "StaticObjects",
          "value": "5"
         },
         {
          "$type": "Tfl.Api.Presentation.Entities.AdditionalProperties, Tfl.Api.Presentation.Entities",
          "category": "Facility",
          "key": "Lifts",
          "sourceSystemKey": "StaticObjects",
          "value": "0"
         },
         {
          "$type": "Tfl.Api.Presentation.Entities.AdditionalProperties, Tfl.Api.Presentation.Entities",
          "category": "Facility",
          "key": "Toilets",
          "sourceSystemKey": "StaticObjects",
          "value": "no"
         },
         {
          "$type": "Tfl.Api.Presentation.Entities.AdditionalProperties, Tfl.Api.Presentation.Entities",
          "category": "Facility",
          "key": "Escalators",
          "sourceSystemKey": "StaticObjects",
          "value": "2"
         },
         {
          "$type": "Tfl.Api.Presentation.Entities.AdditionalProperties, Tfl.Api.Presentation.Entities",
          "category": "Facility",
          "key": "WiFi",
          "sourceSystemKey": "StaticObjects",
          "value": "yes"
         },
         {
          "$type": "Tfl.Api.Presentation.Entities.AdditionalProperties, Tfl.Api.Presentation.Entities",
          "category": "NearestPlaces",
          "key": "SourceSystemPlaceId",
          "sourceSystemKey": "StaticObjects",
          "value": "CarParks_800466"
         }
        ],
        "children": [
         {
          "$type": "Tfl.Api.Presentation.Entities.StopPoint, Tfl.Api.Presentation.Entities",
          "additionalProperties": [],
          "children": [],
          "commonName": "Blackhorse Road Underground Station",
          "hubNaptanCode": "HUBBHO",
          "icsCode": "1000024",
          "id": "9400ZZLUBLR1",
          "lat": 0,
          "lineGroup": [],
          "lineModeGroups": [],
          "lines": [],
          "lon": 0,
          "modes": [],
          "naptanId": "9400ZZLUBLR1",
          "placeType": "StopPoint",
          "stationNaptan": "940GZZLUBLR",
          "status": true
         }
        ],
        "commonName": "Blackhorse Road Underground Station",
        "hubNaptanCode": "HUBBHO",
        "icsCode": "1000024",
        "id": "940GZZLUBLR",
        "lat": 51.586919,
        "lineGroup": [
         {
          "$type": "Tfl.Api.Presentation.Entities.LineGroup, Tfl.Api.Presentation.Entities",
          "lineIdentifier": [
           "victoria"
          ],
          "stationAtcoCode": "940GZZLUBLR"
         }
        ],
        "lineModeGroups": [
         {
          "$type": "Tfl.Api.Presentation.Entities.LineModeGroup, Tfl.Api.Presentation.Entities",
          "lineIdentifier": [
           "victoria"
          ],
          "modeName": "tube"
         }
        ],
        "lines": [
         {
          "$type": "Tfl.Api.Presentation.Entities.Identifier, Tfl.Api.Presentation.Entities",
          "crowding": {
           "$type": "Tfl.Api.Presentation.Entities.Crowding, Tfl.Api.Presentation.Entities"
          },
          "id": "victoria",
          "name": "Victoria",
          "routeType": "Unknown",
          "status": "Unknown",
          "type": "Line",
          "uri": "/Line/victoria"
         }
        ],
        "lon": -0.04115,
        "modes": [
         "tube"
        ],
        "naptanId": "940GZZLUBLR",
        "placeType": "StopPoint",
        "stationNaptan": "940GZZLUBLR",
        "status": true,
        "stopType": "NaptanMetroStation"
       },
       {
        "$type": "Tfl.Api.Presentation.Entities.StopPoint, Tfl.Api.Presentation.Entities",
        "additionalProperties": [
         {
          "$type": "Tfl.Api.Presentation.Entities.AdditionalProperties, Tfl.Api.Presentation.Entities",
          "category": "ServiceInfo",
          "key": "Night",
          "sourceSystemKey": "TransXchangeETL",
          "value": "yes"
         },
         {
          "$type": "Tfl.Api.Presentation.Entities.AdditionalProperties, Tfl.Api.Presentation.Entities",
          "category": "Facility",
          "key": "Help Points",
          "sourceSystemKey": "StaticObjects",
          "value": "6 on platforms, 0 in ticket halls, 1 elsewhere"
         },
         {
          "$type": "Tfl.Api.Presentation.Entities.AdditionalProperties, Tfl.Api.Presentation.Entities",
          "category": "Address",
          "key": "PhoneNo",
          "sourceSystemKey": "StaticObjects",
          "value": "0845 330 9880"
         },
         {
          "$type": "Tfl.Api.Presentation.Entities.AdditionalProperties, Tfl.Api.Presentation.Entities",
          "category": "Facility",
          "key": "Waiting Room",
          "sourceSystemKey": "StaticObjects",
          "value": "no"
         },
         {
          "$type": "Tfl.Api.Presentation.Entities.AdditionalProperties, Tfl.Api.Presentation.Entities",
          "category": "Facility",
          "key": "Cash Machines",
          "sourceSystemKey": "StaticObjects",
          "value": "0"
         },
         {
          "$type": "Tfl.Api.Presentation.Entities.AdditionalProperties, Tfl.Api.Presentation.Entities",
          "category": "Facility",
          "key": "Escalators",
          "sourceSystemKey": "StaticObjects",
          "value": "2"
         },
         {
          "$type": "Tfl.Api.Presentation.Entities.AdditionalProperties, Tfl.Api.Presentation.Entities",
          "category": "Geo",
          "key": "Zone",
          "sourceSystemKey": "StaticObjects",
          "value": "2"
         },
         {
          "$type": "Tfl.Api.Presentation.Entities.AdditionalProperties, Tfl.Api.Presentation.Entities",
          "category": "Facility",
          "key": "Bridge",
          "sourceSystemKey": "StaticObjects",
          "value": "no"
         },
         {
          "$type": "Tfl.Api.Presentation.Entities.AdditionalProperties, Tfl.Api.Presentation.Entities",
          "category": "Facility",
          "key": "Car park",
          "sourceSystemKey": "StaticObjects",
          "value": "no"
         },
         {
          "$type": "Tfl.Api.Presentation.Entities.AdditionalProperties, Tfl.Api.Presentation.Entities",
          "category": "Facility",
          "key": "Toilets",
          "sourceSystemKey": "StaticObjects",
          "value": "no"
         },
         {
          "$type": "Tfl.Api.Presentation.Entities.AdditionalProperties, Tfl.Api.Presentation.Entities",
          "category": "Facility",
          "key": "Ticket Halls",
          "sourceSystemKey": "StaticObjects",
          "value": "1"
         },
         {
          "$type": "Tfl.Api.Presentation.Entities.AdditionalProperties, Tfl.Api.Presentation.Entities",
          "category": "Address",
          "key": "Address",
          "sourceSystemKey": "StaticObjects",
          "value": "Brixton Underground Station,London Underground Ltd.,Brixton Rd,London,SW9 8HE"
         },
         {
          "$type": "Tfl.Api.Presentation.Entities.AdditionalProperties, Tfl.Api.Presentation.Entities",
          "category": "Facility",
          "key": "Gates",
          "sourceSystemKey": "StaticObjects",
          "value": "9"
         },
         {
          "$type": "Tfl.Api.Presentation.Entities.AdditionalProperties, Tfl.Api.Presentation.Entities",
          "category": "Facility",
          "key": "Lifts",
          "sourceSystemKey": "StaticObjects",
          "value": "2"
         },
         {
          "$type": "Tfl.Api.Presentation.Entities.AdditionalProperties, Tfl.Api.Presentation.Entities",
          "category": "Facility",
          "key": "Photo Booths",
          "sourceSystemKey": "StaticObjects",
          "value": "0"
         },
         {
          "$type": "Tfl.Api.Presentation.Entities.AdditionalProperties, Tfl.Api.Presentation.Entities",
          "category": "Facility",
          "key": "Other Facilities",
          "sourceSystemKey": "StaticObjects",
          "value": "electronic whiteboards in ticket hall, routeways platform to ticket hall."
         },
         {
          "$type": "Tfl.Api.Presentation.Entities.AdditionalProperties, Tfl.Api.Presentation.Entities",
          "category": "Facility",
          "key": "WiFi",
          "sourceSystemKey": "StaticObjects",
          "value": "yes"
         },
         {
          "$type": "Tfl.Api.Presentation.Entities.AdditionalProperties, Tfl.Api.Presentation.Entities",
          "category": "Facility",
          "key": "Payphones",
          "sourceSystemKey": "StaticObjects",
          "value": "0"
         },
         {
          "$type": "Tfl.Api.Presentation.Entities.AdditionalProperties, Tfl.Api.Presentation.Entities",
          "category": "Accessibility",
          "key": "AccessViaLift",
          "sourceSystemKey": "LRAD",
          "value": "Yes"
         },
         {
          "$type": "Tfl.Api.Presentation.Entities.AdditionalProperties, Tfl.Api.Presentation.Entities",
          "category": "Accessibility",
          "key": "BlueBadgeCarParkSpaces",
          "sourceSystemKey": "LRAD",
          "value": "0"
         },
         {
          "$type": "Tfl.Api.Presentation.Entities.AdditionalProperties, Tfl.Api.Presentation.Entities",
          "category": "Accessibility",
          "key": "LimitedCapacityLift",
          "sourceSystemKey": "LRAD",
          "value": "No"
         },
         {
          "$type": "Tfl.Api.Presentation.Entities.AdditionalProperties, Tfl.Api.Presentation.Entities",
          "category": "Accessibility",
          "key": "SpecificEntranceRequired",
          "sourceSystemKey": "LRAD",
          "value": "No"
         },
         {
          "$type": "Tfl.Api.Presentation.Entities.AdditionalProperties, Tfl.Api.Presentation.Entities",
          "category": "Accessibility",
          "key": "TaxiRankOutsideStation",
          "sourceSystemKey": "LRAD",
          "value": "No"
         },
         {
          "$type": "Tfl.Api.Presentation.Entities.AdditionalProperties, Tfl.Api.Presentation.Entities",
          "category": "Accessibility",
          "key": "Toilet",
          "sourceSystemKey": "LRAD",
          "value": "No"
         },
         {
          "$type": "Tfl.Api.Presentation.Entities.AdditionalProperties, Tfl.Api.Presentation.Entities",
          "category": "NearestPlaces",
          "key": "SourceSystemPlaceId",
          "sourceSystemKey": "StaticObjects",
          "value": "BikePoints_831"
         },
         {
          "$type": "Tfl.Api.Presentation.Entities.AdditionalProperties, Tfl.Api.Presentation.Entities",
          "category": "NearestPlaces",
          "key": "SourceSystemPlaceId",
          "sourceSystemKey": "StaticObjects",
          "value": "BikePoints_833"
         }
        ],
        "children": [
         {
          "$type": "Tfl.Api.Presentation.Entities.StopPoint, Tfl.Api.Presentation.Entities",
          "additionalProperties": [],
          "children": [],
          "commonName": "Brixton Underground Station",
          "hubNaptanCode": "HUBBRX",
          "icsCode": "1000031",
          "id": "9400ZZLUBXN1",
          "lat": 0,
          "lineGroup": [],
          "lineModeGroups": [],
          "lines": [],
          "lon": 0,
          "modes": [],
          "naptanId": "9400ZZLUBXN1",
          "placeType": "StopPoint",
          "stationNaptan": "940GZZLUBXN",
          "status": true
         }
        ],
        "commonName": "Brixton Underground Station",
        "hubNaptanCode": "HUBBRX",
        "icsCode": "1000031",
        "id": "940GZZLUBXN",
        "lat": 51.462618,
        "lineGroup": [
         {
          "$type": "Tfl.Api.Presentation.Entities.LineGroup, Tfl.Api.Presentation.Entities",
          "lineIdentifier": [
           "victoria"
          ],
          "stationAtcoCode": "940GZZLUBXN"
         }
        ],
        "lineModeGroups": [
         {
          "$type": "Tfl.Api.Presentation.Entities.LineModeGroup, Tfl.Api.Presentation.Entities",
          "lineIdentifier": [
           "victoria"
          ],
          "modeName": "tube"
         }
        ],
        "lines": [
         {
          "$type": "Tfl.Api.Presentation.Entities.Identifier, Tfl.Api.Presentation.Entities",
          "crowding": {
           "$type": "Tfl.Api.Presentation.Entities.Crowding, Tfl.Api.Presentation.Entities"
          },
          "id": "victoria",
          "name": "Victoria",
          "routeType": "Unknown",
          "status": "Unknown",
          "type": "Line",
          "uri": "/Line/victoria"
         }
        ],
        "lon": -0.114888,
        "modes": [
         "tube"
        ],
        "naptanId": "940GZZLUBXN",
        "placeType": "StopPoint",
        "stationNaptan": "940GZZLUBXN",
        "status": true,
        "stopType": "NaptanMetroStation"
       },
       {
        "$type": "Tfl.Api.Presentation.Entities.StopPoint, Tfl.Api.Presentation.Entities",
        "additionalProperties": [
         {
          "$type": "Tfl.Api.Presentation.Entities.AdditionalProperties, Tfl.Api.Presentation.Entities",
          "category": "ServiceInfo",
          "key": "Night",
          "sourceSystemKey": "TransXchangeETL",
          "value": "yes"
         },
         {
          "$type": "Tfl.Api.Presentation.Entities.AdditionalProperties, Tfl.Api.Presentation.Entities",
          "category": "Address",
          "key": "PhoneNo",
          "sourceSystemKey": "StaticObjects",
          "value": "0845 330 9880"
         },
         {
          "$type": "Tfl.Api.Presentation.Entities.AdditionalProperties, Tfl.Api.Presentation.Entities",
          "category": "Facility",
          "key": "Bridge",
          "sourceSystemKey": "StaticObjects",
          "value": "no"
         },
         {
          "$type": "Tfl.Api.Presentation.Entities.AdditionalProperties, Tfl.Api.Presentation.Entities",
          "category": "Facility",
          "key": "Help Points",
          "sourceSystemKey": "StaticObjects",
          "value": "0 on platforms, 0 in ticket halls, 0 elsewhere"
         },
         {
          "$type": "Tfl.Api.Presentation.Entities.AdditionalProperties, Tfl.Api.Presentation.Entities",
          "category": "Facility",
          "key": "Other Facilities",
          "sourceSystemKey": "StaticObjects",
          "value": "electronic whiteboards in ticket hall, post office style queuing for tickets."
         },
         {
          "$type": "Tfl.Api.Presentation.Entities.AdditionalProperties, Tfl.Api.Presentation.Entities",
          "category": "Facility",
          "key": "Payphones",
          "sourceSystemKey": "StaticObjects",
          "value": "2"
         },
         {
          "$type": "Tfl.Api.Presentation.Entities.AdditionalProperties, Tfl.Api.Presentation.Entities",
          "category": "Facility",
          "key": "Boarding Ramps",
          "sourceSystemKey": "StaticObjects",
          "value": "yes London Overgrounnd and National Rail only"
         },
         {
          "$type": "Tfl.Api.Presentation.Entities.AdditionalProperties, Tfl.Api.Presentation.Entities",
          "category": "Facility",
          "key": "Toilets",
          "sourceSystemKey": "StaticObjects",
          "value": "yes"
         },
         {
          "$type": "Tfl.Api.Presentation.Entities.AdditionalProperties, Tfl.Api.Presentation.Entities",
          "category": "Facility",
          "key": "Waiting Room",
          "sourceSystemKey": "StaticObjects",
          "value": "no"
         },
         {
          "$type": "Tfl.Api.Presentation.Entities.AdditionalProperties, Tfl.Api.Presentation.Entities",
          "category": "Facility",
          "key": "WiFi",
          "sourceSystemKey": "StaticObjects",
          "value": "yes"
         },
         {
          "$type": "Tfl.Api.Presentation.Entities.AdditionalProperties, Tfl.Api.Presentation.Entities",
          "category": "Geo",
          "key": "Zone",
          "sourceSystemKey": "StaticObjects",
          "value": "1"
         },
         {
          "$type": "Tfl.Api.Presentation.Entities.AdditionalProperties, Tfl.Api.Presentation.Entities",
          "category": "Address",
          "key": "Address",
          "sourceSystemKey": "StaticObjects",
          "value": "Euston Underground Station,London Underground Ltd.,Eversholt St,London,NW1 2DU"
         },
         {
          "$type": "Tfl.Api.Presentation.Entities.AdditionalProperties, Tfl.Api.Presentation.Entities",
          "category": "Facility",
          "key": "Cash Machines",
          "sourceSystemKey": "StaticObjects",
          "value": "2"
         },
         {
          "$type": "Tfl.Api.Presentation.Entities.AdditionalProperties, Tfl.Api.Presentation.Entities",
          "category": "Facility",
          "key": "Gates",
          "sourceSystemKey": "StaticObjects",
          "value": "16"
         },
         {
          "$type": "Tfl.Api.Presentation.Entities.AdditionalProperties, Tfl.Api.Presentation.Entities",
          "category": "Facility",
          "key": "Euro Cash Machines",
          "sourceSystemKey": "StaticObjects",
          "value": "yes"
         },
         {
          "$type": "Tfl.Api.Presentation.Entities.AdditionalProperties, Tfl.Api.Presentation.Entities",
          "category": "Facility",
          "key": "Car park",
          "sourceSystemKey": "StaticObjects",
          "value": "no"
         },
         {
          "$type": "Tfl.Api.Presentation.Entities.AdditionalProperties, Tfl.Api.Presentation.Entities",
          "category": "Facility",
          "key": "Escalators",
          "sourceSystemKey": "StaticObjects",
          "value": "10"
         },
         {
          "$type": "Tfl.Api.Presentation.Entities.AdditionalProperties, Tfl.Api.Presentation.Entities",
          "category": "Facility",
          "key": "Lifts",
          "sourceSystemKey": "StaticObjects",
          "value": "0"
         },
         {
          "$type": "Tfl.Api.Presentation.Entities.AdditionalProperties, Tfl.Api.Presentation.Entities",
          "category": "Facility",
          "key": "Photo Booths",
          "sourceSystemKey": "StaticObjects",
          "value": "0"
         },
         {
          "$type": "Tfl.Api.Presentation.Entities.AdditionalProperties, Tfl.Api.Presentation.Entities",
          "category": "Facility",
          "key": "Ticket Halls",
          "sourceSystemKey": "StaticObjects",
          "value": "1"
         },
         {
          "$type": "Tfl.Api.Presentation.Entities.AdditionalProperties, Tfl.Api.Presentation.Entities",
          "category": "NearestPlaces",
          "key": "SourceSystemPlaceId",
          "sourceSystemKey": "StaticObjects",
          "value": "BikePoints_214"
         },
         {
          "$type": "Tfl.Api.Presentation.Entities.AdditionalProperties, Tfl.Api.Presentation.Entities",
          "category": "NearestPlaces",
          "key": "SourceSystemPlaceId",
          "sourceSystemKey": "StaticObjects",
          "value": "BikePoints_16"
         },
         {
          "$type": "Tfl.Api.Presentation.Entities.AdditionalProperties, Tfl.Api.Presentation.Entities",
          "category": "NearestPlaces",
          "key": "SourceSystemPlaceId",
          "sourceSystemKey": "StaticObjects",
          "value": "BikePoints_19"
         },
         {
          "$type": "Tfl.Api.Presentation.Entities.AdditionalProperties, Tfl.Api.Presentation.Entities",
          "category": "NearestPlaces",
          "key": "SourceSystemPlaceId",
          "sourceSystemKey": "StaticObjects",
          "value": "BikePoints_20"
         },
         {
          "$type": "Tfl.Api.Presentation.Entities.AdditionalProperties, Tfl.Api.Presentation.Entities",
          "category": "NearestPlaces",
          "key": "SourceSystemPlaceId",
          "sourceSystemKey": "StaticObjects",
          "value": "BikePoints_25"
         },
         {
          "$type": "Tfl.Api.Presentation.Entities.AdditionalProperties, Tfl.Api.Presentation.Entities",
          "category": "NearestPlaces",
          "key": "SourceSystemPlaceId",
          "sourceSystemKey": "StaticObjects",
          "value": "BikePoints_69"
         },
         {
          "$type": "Tfl.Api.Presentation.Entities.AdditionalProperties, Tfl.Api.Presentation.Entities",
          "category": "NearestPlaces",
          "key": "SourceSystemPlaceId",
          "sourceSystemKey": "StaticObjects",
          "value": "BikePoints_795"
         },
         {
          "$type": "Tfl.Api.Presentation.Entities.AdditionalProperties, Tfl.Api.Presentation.Entities",
          "category": "NearestPlaces",
          "key": "SourceSystemPlaceId",
          "sourceSystemKey": "StaticObjects",
          "value": "BikePoints_797"
         },
         {
          "$type": "Tfl.Api.Presentation.Entities.AdditionalProperties, Tfl.Api.Presentation.Entities",
          "category": "NearestPlaces",
          "key": "SourceSystemPlaceId",
          "sourceSystemKey": "StaticObjects",
          "value": "TaxiRank_5449"
         },
         {
          "$type": "Tfl.Api.Presentation.Entities.AdditionalProperties, Tfl.Api.Presentation.Entities",
          "category": "NearestPlaces",
          "key": "SourceSystemPlaceId",
          "sourceSystemKey": "StaticObjects",
          "value": "TaxiRank_4427"
         },
         {
          "$type": "Tfl.Api.Presentation.Entities.AdditionalProperties, Tfl.Api.Presentation.Entities",
          "category": "NearestPlaces",
          "key": "SourceSystemPlaceId",
          "sourceSystemKey": "StaticObjects",
          "value": "TaxiRank_4914"
         },
         {
          "$type": "Tfl.Api.Presentation.Entities.AdditionalProperties, Tfl.Api.Presentation.Entities",
          "category": "NearestPlaces",
          "key": "SourceSystemPlaceId",
          "sourceSystemKey": "StaticObjects",
          "value": "TaxiRank_5896"
         }
        ],
        "children": [
         {
          "$type": "Tfl.Api.Presentation.Entities.StopPoint, Tfl.Api.Presentation.Entities",
          "additionalProperties": [],
          "children": [],
          "commonName": "Euston Underground Station",
          "hubNaptanCode": "HUBEUS",
          "icsCode": "1000077",
          "id": "9400ZZLUEUS2",
          "lat": 0,
          "lineGroup": [],
          "lineModeGroups": [],
          "lines": [],
          "lon": 0,
          "modes": [],
          "naptanId": "9400ZZLUEUS2",
          "placeType": "StopPoint",
          "stationNaptan": "940GZZLUEUS",
          "status": true
         },
         {
          "$type": "Tfl.Api.Presentation.Entities.StopPoint, Tfl.Api.Presentation.Entities",
          "additionalProperties": [],
          "children": [],
          "commonName": "Euston Underground Station",
          "hubNaptanCode": "HUBEUS",
          "icsCode": "1000077",
          "id": "9400ZZLUEUS3",
          "lat": 51.528344,
          "lineGroup": [],
          "lineModeGroups": [],
          "lines": [],
          "lon": -0.1323,
          "modes": [],
          "naptanId": "9400ZZLUEUS3",
          "placeType": "StopPoint",
          "stationNaptan": "940GZZLUEUS",
          "status": true
         },
         {
          "$type": "Tfl.Api.Presentation.Entities.StopPoint, Tfl.Api.Presentation.Entities",
          "additionalProperties": [],
          "children": [],
          "commonName": "Euston Underground Station",
          "hubNaptanCode": "HUBEUS",
          "icsCode": "1000077",
          "id": "9400ZZLUEUS4",
          "lat": 0,
          "lineGroup": [],
          "lineModeGroups": [],
          "lines": [],
          "lon": 0,
          "modes": [],
          "naptanId": "9400ZZLUEUS4",
          "placeType": "StopPoint",
          "stationNaptan": "940GZZLUEUS",
          "status": true
         },
         {
          "$type": "Tfl.Api.Presentation.Entities.StopPoint, Tfl.Api.Presentation.Entities",
          "additionalProperties": [],
          "children": [],
          "commonName": "Euston Underground Station",
          "hubNaptanCode": "HUBEUS",
          "icsCode": "1000077",
          "id": "9400ZZLUEUS5",
          "lat": 0,
          "lineGroup": [],
          "lineModeGroups": [],
          "lines": [],
          "lon": 0,
          "modes": [],
          "naptanId": "9400ZZLUEUS5",
          "placeType": "StopPoint",
          "stationNaptan": "940GZZLUEUS",
          "status": true
         },
         {
          "$type": "Tfl.Api.Presentation.Entities.StopPoint, Tfl.Api.Presentation.Entities",
          "additionalProperties": [],
          "children": [],
          "commonName": "Euston Underground Station",
          "hubNaptanCode": "HUBEUS",
          "icsCode": "1000077",
          "id": "9400ZZLUEUS1",
          "lat": 0,
          "lineGroup": [],
          "lineModeGroups": [],
          "lines": [],
          "lon": 0,
          "modes": [],
          "naptanId": "9400ZZLUEUS1",
          "placeType": "StopPoint",
          "stationNaptan": "940GZZLUEUS",
          "status": true
         },
         {
          "$type": "Tfl.Api.Presentation.Entities.StopPoint, Tfl.Api.Presentation.Entities",
          "additionalProperties": [],
          "children": [],
          "commonName": "Euston Underground Station",
          "hubNaptanCode": "HUBEUS",
          "icsCode": "1000077",
          "id": "9400ZZLUEUS6",
          "lat": 0,
          "lineGroup": [],
          "lineModeGroups": [],
          "lines": [],
          "lon": 0,
          "modes": [],
          "naptanId": "9400ZZLUEUS6",
          "placeType": "StopPoint",
          "stationNaptan": "940GZZLUEUS",
          "status": true
         }
        ],
        "commonName": "Euston Underground Station",
        "hubNaptanCode": "HUBEUS",
        "icsCode": "1000077",
        "id": "940GZZLUEUS",
        "lat": 51.528344,
        "lineGroup": [
         {
          "$type": "Tfl.Api.Presentation.Entities.LineGroup, Tfl.Api.Presentation.Entities",
          "lineIdentifier": [
           "northern"
          ],
          "stationAtcoCode": "940GZZLUEUS"
         },
         {
          "$type": "Tfl.Api.Presentation.Entities.LineGroup, Tfl.Api.Presentation.Entities",
          "lineIdentifier": [
           "victoria"
          ],
          "stationAtcoCode": "940GZZLUEUS"
         }
        ],
        "lineModeGroups": [
         {
          "$type": "Tfl.Api.Presentation.Entities.LineModeGroup, Tfl.Api.Presentation.Entities",
          "lineIdentifier": [
           "northern",
           "victoria"
          ],
          "modeName": "tube"
         }
        ],
        "lines": [
         {
          "$type": "Tfl.Api.Presentation.Entities.Identifier, Tfl.Api.Presentation.Entities",
          "crowding": {
           "$type": "Tfl.Api.Presentation.Entities.Crowding, Tfl.Api.Presentation.Entities"
          },
          "id": "northern",
          "name": "Northern",
          "routeType": "Unknown",
          "status": "Unknown",
          "type": "Line",
          "uri": "/Line/northern"
         },
         {
          "$type": "Tfl.Api.Presentation.Entities.Identifier, Tfl.Api.Presentation.Entities",
          "crowding": {
           "$type": "Tfl.Api.Presentation.Entities.Crowding, Tfl.Api.Presentation.Entities"
          },
          "id": "victoria",
          "name": "Victoria",
          "routeType": "Unknown",
          "status": "Unknown",
          "type": "Line",
          "uri": "/Line/victoria"
         }
        ],
        "lon": -0.1323,
        "modes": [
         "tube"
        ],
        "naptanId": "940GZZLUEUS",
        "placeType": "StopPoint",
        "stationNaptan": "940GZZLUEUS",
        "status": true,
        "stopType": "NaptanMetroStation"
       },
       {
        "$type": "Tfl.Api.Presentation.Entities.StopPoint, Tfl.Api.Presentation.Entities",
        "additionalProperties": [
         {
          "$type": "Tfl.Api.Presentation.Entities.AdditionalProperties, Tfl.Api.Presentation.Entities",
          "category": "ServiceInfo",
          "key": "Night",
          "sourceSystemKey": "TransXchangeETL",
          "value": "yes"
         },
         {
          "$type": "Tfl.Api.Presentation.Entities.AdditionalProperties, Tfl.Api.Presentation.Entities",
          "category": "Address",
          "key": "PhoneNo",
          "sourceSystemKey": "StaticObjects",
          "value": "0845 330 9880"
         },
         {
          "$type": "Tfl.Api.Presentation.Entities.AdditionalProperties, Tfl.Api.Presentation.Entities",
          "category": "Opening Time",
          "key": "SunFrom",
          "sourceSystemKey": "StaticObjects",
          "value": "08:15"
         },
         {
          "$type": "Tfl.Api.Presentation.Entities.AdditionalProperties, Tfl.Api.Presentation.Entities",
          "category": "Facility",
          "key": "Cash Machines",
          "sourceSystemKey": "StaticObjects",
          "value": "2"
         },
         {
          "$type": "Tfl.Api.Presentation.Entities.AdditionalProperties, Tfl.Api.Presentation.Entities",
          "category": "Facility",
          "key": "Escalators",
          "sourceSystemKey": "StaticObjects",
          "value": "0"
         },
         {
          "$type": "Tfl.Api.Presentation.Entities.AdditionalProperties, Tfl.Api.Presentation.Entities",
          "category": "Opening Time",
          "key": "MonFriTo",
          "sourceSystemKey": "StaticObjects",
          "value": "21:15"
         },
         {
          "$type": "Tfl.Api.Presentation.Entities.AdditionalProperties, Tfl.Api.Presentation.Entities",
          "category": "Facility",
          "key": "Other Facilities",
          "sourceSystemKey": "StaticObjects",
          "value": "electronic whiteboards in ticket hall, subway to street, routeways platform to ticket hall."
         },
         {
          "$type": "Tfl.Api.Presentation.Entities.AdditionalProperties, Tfl.Api.Presentation.Entities",
          "category": "Opening Time",
          "key": "SatTo",
          "sourceSystemKey": "StaticObjects",
          "value": "22:30"
         },
         {
          "$type": "Tfl.Api.Presentation.Entities.AdditionalProperties, Tfl.Api.Presentation.Entities",
          "category": "Facility",
          "key": "Ticket Halls",
          "sourceSystemKey": "StaticObjects",
          "value": "1"
         },
         {
          "$type": "Tfl.Api.Presentation.Entities.AdditionalProperties, Tfl.Api.Presentation.Entities",
          "category": "Facility",
          "key": "Toilets",
          "sourceSystemKey": "StaticObjects",
          "value": "no"
         },
         {
          "$type": "Tfl.Api.Presentation.Entities.AdditionalProperties, Tfl.Api.Presentation.Entities",
          "category": "Facility",
          "key": "Bridge",
          "sourceSystemKey": "StaticObjects",
          "value": "no"
         },
         {
          "$type": "Tfl.Api.Presentation.Entities.AdditionalProperties, Tfl.Api.Presentation.Entities",
          "category": "Facility",
          "key": "Gates",
          "sourceSystemKey": "StaticObjects",
          "value": "0"
         },
         {
          "$type": "Tfl.Api.Presentation.Entities.AdditionalProperties, Tfl.Api.Presentation.Entities",
          "category": "Facility",
          "key": "Photo Booths",
          "sourceSystemKey": "StaticObjects",
          "value": "0"
         },
         {
          "$type": "Tfl.Api.Presentation.Entities.AdditionalProperties, Tfl.Api.Presentation.Entities",
          "category": "Opening Time",
          "key": "MonFriFrom",
          "sourceSystemKey": "StaticObjects",
          "value": "06:15"
         },
         {
          "$type": "Tfl.Api.Presentation.Entities.AdditionalProperties, Tfl.Api.Presentation.Entities",
          "category": "Facility",
          "key": "WiFi",
          "sourceSystemKey": "StaticObjects",
          "value": "yes"
         },
         {
          "$type": "Tfl.Api.Presentation.Entities.AdditionalProperties, Tfl.Api.Presentation.Entities",
          "category": "Facility",
          "key": "Euro Cash Machines",
          "sourceSystemKey": "StaticObjects",
          "value": "yes"
         },
         {
          "$type": "Tfl.Api.Presentation.Entities.AdditionalProperties, Tfl.Api.Presentation.Entities",
          "category": "Facility",
          "key": "Help Points",
          "sourceSystemKey": "StaticObjects",
          "value": "12 on platforms, 0 in ticket halls, 5 elsewhere"
         },
         {
          "$type": "Tfl.Api.Presentation.Entities.AdditionalProperties, Tfl.Api.Presentation.Entities",
          "category": "Facility",
          "key": "Lifts",
          "sourceSystemKey": "StaticObjects",
          "value": "1"
         },
         {
          "$type": "Tfl.Api.Presentation.Entities.AdditionalProperties, Tfl.Api.Presentation.Entities",
          "category": "Opening Time",
          "key": "SatFrom",
          "sourceSystemKey": "StaticObjects",
          "value": "07:00"
         },
         {
          "$type": "Tfl.Api.Presentation.Entities.AdditionalProperties, Tfl.Api.Presentation.Entities",
          "category": "Geo",
          "key": "Zone",
          "sourceSystemKey": "StaticObjects",
          "value": "2"
         },
         {
          "$type": "Tfl.Api.Presentation.Entities.AdditionalProperties, Tfl.Api.Presentation.Entities",
          "category": "Address",
          "key": "Address",
          "sourceSystemKey": "StaticObjects",
          "value": "Finsbury Park Underground Station,London Underground Ltd.,Wells Terrace,London,N4 3JU"
         },
         {
          "$type": "Tfl.Api.Presentation.Entities.AdditionalProperties, Tfl.Api.Presentation.Entities",
          "category": "Opening Time",
          "key": "SunTo",
          "sourceSystemKey": "StaticObjects",
          "value": "22:00"
         },
         {
          "$type": "Tfl.Api.Presentation.Entities.AdditionalProperties, Tfl.Api.Presentation.Entities",
          "category": "Facility",
          "key": "Car park",
          "sourceSystemKey": "StaticObjects",
          "value": "no"
         },
         {
          "$type": "Tfl.Api.Presentation.Entities.AdditionalProperties, Tfl.Api.Presentation.Entities",
          "category": "Facility",
          "key": "Payphones",
          "sourceSystemKey": "StaticObjects",
          "value": "4"
         },
         {
          "$type": "Tfl.Api.Presentation.Entities.AdditionalProperties, Tfl.Api.Presentation.Entities",
          "category": "Facility",
          "key": "Waiting Room",
          "sourceSystemKey": "StaticObjects",
          "value": "no"
         },
         {
          "$type": "Tfl.Api.Presentation.Entities.AdditionalProperties, Tfl.Api.Presentation.Entities",
          "category": "Accessibility",
          "key": "AccessViaLift",
          "sourceSystemKey": "LRAD",
          "value": "No"
         },
         {
          "$type": "Tfl.Api.Presentation.Entities.AdditionalProperties, Tfl.Api.Presentation.Entities",
          "category": "Accessibility",
          "key": "BlueBadgeCarParkSpaces",
          "sourceSystemKey": "LRAD",
          "value": "0"
         },
         {
          "$type": "Tfl.Api.Presentation.Entities.AdditionalProperties, Tfl.Api.Presentation.Entities",
          "category": "Accessibility",
          "key": "LimitedCapacityLift",
          "sourceSystemKey": "LRAD",
          "value": "No"
         },
         {
          "$type": "Tfl.Api.Presentation.Entities.AdditionalProperties, Tfl.Api.Presentation.Entities",
          "category": "Accessibility",
          "key": "TaxiRankOutsideStation",
          "sourceSystemKey": "LRAD",
          "value": "No"
         },
         {
          "$type": "Tfl.Api.Presentation.Entities.AdditionalProperties, Tfl.Api.Presentation.Entities",
          "category": "Accessibility",
          "key": "Toilet",
          "sourceSystemKey": "LRAD",
          "value": "No"
         },
         {
          "$type": "Tfl.Api.Presentation.Entities.AdditionalProperties, Tfl.Api.Presentation.Entities",
          "category": "NearestPlaces",
          "key": "SourceSystemPlaceId",
          "sourceSystemKey": "StaticObjects",
          "value": "TaxiRank_5870"
         }
        ],
        "children": [
         {
          "$type": "Tfl.Api.Presentation.Entities.StopPoint, Tfl.Api.Presentation.Entities",
          "additionalProperties": [],
          "children": [],
          "commonName": "Finsbury Park Underground Station",
          "hubNaptanCode": "HUBFPK",
          "icsCode": "1000083",
          "id": "9400ZZLUFPK1",
          "lat": 0,
          "lineGroup": [],
          "lineModeGroups": [],
          "lines": [],
          "lon": 0,
          "modes": [],
          "naptanId": "9400ZZLUFPK1",
          "placeType": "StopPoint",
          "stationNaptan": "940GZZLUFPK",
          "status": true
         },
         {
          "$type": "Tfl.Api.Presentation.Entities.StopPoint, Tfl.Api.Presentation.Entities",
          "additionalProperties": [],
          "children": [],
          "commonName": "Finsbury Park Underground Station",
          "hubNaptanCode": "HUBFPK",
          "icsCode": "1000083",
          "id": "9400ZZLUFPK2",
          "lat": 0,
          "lineGroup": [],
          "lineModeGroups": [],
          "lines": [],
          "lon": 0,
          "modes": [],
          "naptanId": "9400ZZLUFPK2",
          "placeType": "StopPoint",
          "stationNaptan": "940GZZLUFPK",
          "status": true
         },
         {
          "$type": "Tfl.Api.Presentation.Entities.StopPoint, Tfl.Api.Presentation.Entities",
          "additionalProperties": [],
          "children": [],
          "commonName": "Finsbury Park Underground Station",
          "hubNaptanCode": "HUBFPK",
          "icsCode": "1000083",
          "id": "9400ZZLUFPK3",
          "lat": 0,
          "lineGroup": [],
          "lineModeGroups": [],
          "lines": [],
          "lon": 0,
          "modes": [],
          "naptanId": "9400ZZLUFPK3",
          "placeType": "StopPoint",
          "stationNaptan": "940GZZLUFPK",
          "status": true
         },
         {
          "$type": "Tfl.Api.Presentation.Entities.StopPoint, Tfl.Api.Presentation.Entities",
          "additionalProperties": [],
          "children": [],
          "commonName": "Finsbury Park Underground Station",
          "hubNaptanCode": "HUBFPK",
          "icsCode": "1000083",
          "id": "9400ZZLUFPK4",
          "lat": 0,
          "lineGroup": [],
          "lineModeGroups": [],
          "lines": [],
          "lon": 0,
          "modes": [],
          "naptanId": "9400ZZLUFPK4",
          "placeType": "StopPoint",
          "stationNaptan": "940GZZLUFPK",
          "status": true
         }
        ],
        "commonName": "Finsbury Park Underground Station",
        "hubNaptanCode": "HUBFPK",
        "icsCode": "1000083",
        "id": "940GZZLUFPK",
        "lat": 51.564158,
        "lineGroup": [
         {
          "$type": "Tfl.Api.Presentation.Entities.LineGroup, Tfl.Api.Presentation.Entities",
          "lineIdentifier": [
           "piccadilly"
          ],
          "stationAtcoCode": "940GZZLUFPK"
         },
         {
          "$type": "Tfl.Api.Presentation.Entities.LineGroup, Tfl.Api.Presentation.Entities",
          "lineIdentifier": [
           "victoria"
          ],
          "stationAtcoCode": "940GZZLUFPK"
         }
        ],
        "lineModeGroups": [
         {
          "$type": "Tfl.Api.Presentation.Entities.LineModeGroup, Tfl.Api.Presentation.Entities",
          "lineIdentifier": [
           "piccadilly",
           "victoria"
          ],
          "modeName": "tube"
         }
        ],
        "lines": [
         {
          "$type": "Tfl.Api.Presentation.Entities.Identifier, Tfl.Api.Presentation.Entities",
          "crowding": {
           "$type": "Tfl.Api.Presentation.Entities.Crowding, Tfl.Api.Presentation.Entities"
          },
          "id": "piccadilly",
          "name": "Piccadilly",
          "routeType": "Unknown",
          "status": "Unknown",
          "type": "Line",
          "uri": "/Line/piccadilly"
         },
         {
          "$type": "Tfl.Api.Presentation.Entities.Identifier, Tfl.Api.Presentation.Entities",
          "crowding": {
           "$type": "Tfl.Api.Presentation.Entities.Crowding, Tfl.Api.Presentation.Entities"
          },
          "id": "victoria",
          "name": "Victoria",
          "routeType": "Unknown",
          "status": "Unknown",
          "type": "Line",
          "uri": "/Line/victoria"
         }
        ],
        "lon": -0.106825,
        "modes": [
         "tube"
        ],
        "naptanId": "940GZZLUFPK",
        "placeType": "StopPoint",
        "stationNaptan": "940GZZLUFPK",
        "status": true,
        "stopType": "NaptanMetroStation"
       },
       {
        "$type": "Tfl.Api.Presentation.Entities.StopPoint, Tfl.Api.Presentation.Entities",
        "additionalProperties": [
         {
          "$type": "Tfl.Api.Presentation.Entities.AdditionalProperties, Tfl.Api.Presentation.Entities",
          "category": "ServiceInfo",
          "key": "Night",
          "sourceSystemKey": "TransXchangeETL",
          "value": "yes"
         },
         {
          "$type": "Tfl.Api.Presentation.Entities.AdditionalProperties, Tfl.Api.Presentation.Entities",
          "category": "Address",
          "key": "PhoneNo",
          "sourceSystemKey": "StaticObjects",
          "value": "0845 330 9880"
         },
         {
          "$type": "Tfl.Api.Presentation.Entities.AdditionalProperties, Tfl.Api.Presentation.Entities",
          "category": "Facility",
          "key": "Waiting Room",
          "sourceSystemKey": "StaticObjects",
          "value": "no"
         },
         {
          "$type": "Tfl.Api.Presentation.Entities.AdditionalProperties, Tfl.Api.Presentation.Entities",
          "category": "Facility",
          "key": "Euro Cash Machines",
          "sourceSystemKey": "StaticObjects",
          "value": "yes"
         },
         {
          "$type": "Tfl.Api.Presentation.Entities.AdditionalProperties, Tfl.Api.Presentation.Entities",
          "category": "Facility",
          "key": "Toilets",
          "sourceSystemKey": "StaticObjects",
          "value": "no"
         },
         {
          "$type": "Tfl.Api.Presentation.Entities.AdditionalProperties, Tfl.Api.Presentation.Entities",
          "category": "Address",
          "key": "Address",
          "sourceSystemKey": "StaticObjects",
          "value": "Green Park Station,London Underground Ltd.,Piccadilly,London,W1J 9DZ"
         },
         {
          "$type": "Tfl.Api.Presentation.Entities.AdditionalProperties, Tfl.Api.Presentation.Entities",
          "category": "Facility",
          "key": "Gates",
          "sourceSystemKey": "StaticObjects",
          "value": "13"
         },
         {
          "$type": "Tfl.Api.Presentation.Entities.AdditionalProperties, Tfl.Api.Presentation.Entities",
          "category": "Facility",
          "key": "WiFi",
          "sourceSystemKey": "StaticObjects",
          "value": "yes"
         },
         {
          "$type": "Tfl.Api.Presentation.Entities.AdditionalProperties, Tfl.Api.Presentation.Entities",
          "category": "Geo",
          "key": "Zone",
          "sourceSystemKey": "StaticObjects",
          "value": "1"
         },
         {
          "$type": "Tfl.Api.Presentation.Entities.AdditionalProperties, Tfl.Api.Presentation.Entities",
          "category": "Facility",
          "key": "Other Facilities",
          "sourceSystemKey": "StaticObjects",
          "value": "electronic whiteboards in ticket hall, subway to street, routeways platform to ticket hall."
         },
         {
          "$type": "Tfl.Api.Presentation.Entities.AdditionalProperties, Tfl.Api.Presentation.Entities",
          "category": "Facility",
          "key": "Ticket Halls",
          "sourceSystemKey": "StaticObjects",
          "value": "1"
         },
         {
          "$type": "Tfl.Api.Presentation.Entities.AdditionalProperties, Tfl.Api.Presentation.Entities",
          "category": "Facility",
          "key": "Help Points",
          "sourceSystemKey": "StaticObjects",
          "value": "0 on platforms, 0 in ticket halls, 0 elsewhere"
         },
         {
          "$type": "Tfl.Api.Presentation.Entities.AdditionalProperties, Tfl.Api.Presentation.Entities",
          "category": "Facility",
          "key": "Lifts",
          "sourceSystemKey": "StaticObjects",
          "value": "5"
         },
         {
          "$type": "Tfl.Api.Presentation.Entities.AdditionalProperties, Tfl.Api.Presentation.Entities",
          "category": "Facility",
          "key": "Bridge",
          "sourceSystemKey": "StaticObjects",
          "value": "no"
         },
         {
          "$type": "Tfl.Api.Presentation.Entities.AdditionalProperties, Tfl.Api.Presentation.Entities",
          "category": "Facility",
          "key": "Car park",
          "sourceSystemKey": "StaticObjects",
          "value": "no"
         },
         {
          "$type": "Tfl.Api.Presentation.Entities.AdditionalProperties, Tfl.Api.Presentation.Entities",
          "category": "Facility",
          "key": "Cash Machines",
          "sourceSystemKey": "StaticObjects",
          "value": "1"
         },
         {
          "$type": "Tfl.Api.Presentation.Entities.AdditionalProperties, Tfl.Api.Presentation.Entities",
          "category": "Facility",
          "key": "Escalators",
          "sourceSystemKey": "StaticObjects",
          "value": "11"
         },
         {
          "$type": "Tfl.Api.Presentation.Entities.AdditionalProperties, Tfl.Api.Presentation.Entities",
          "category": "Facility",
          "key": "Payphones",
          "sourceSystemKey": "StaticObjects",
          "value": "4"
         },
         {
          "$type": "Tfl.Api.Presentation.Entities.AdditionalProperties, Tfl.Api.Presentation.Entities",
          "category": "Facility",
          "key": "Photo Booths",
          "sourceSystemKey": "StaticObjects",
          "value": "0"
         },
         {
          "$type": "Tfl.Api.Presentation.Entities.AdditionalProperties, Tfl.Api.Presentation.Entities",
          "category": "Accessibility",
          "key": "AccessViaLift",
          "sourceSystemKey": "LRAD",
          "value": "Yes"
         },
         {
          "$type": "Tfl.Api.Presentation.Entities.AdditionalProperties, Tfl.Api.Presentation.Entities",
          "category": "Accessibility",
          "key": "AddtionalInformation",
          "sourceSystemKey": "LRAD",
          "value": "You need to make a 220m journey to change between the Jubilee and the Piccadilly line, a  160m journey to change between the Victoria  and the Piccadilly line and a 380m journey to  change between the Victoria and the Jubilee line"
         },
         {
          "$type": "Tfl.Api.Presentation.Entities.AdditionalProperties, Tfl.Api.Presentation.Entities",
          "category": "Accessibility",
          "key": "BlueBadgeCarParkSpaces",
          "sourceSystemKey": "LRAD",
          "value": "0"
         },
         {
          "$type": "Tfl.Api.Presentation.Entities.AdditionalProperties, Tfl.Api.Presentation.Entities",
          "category": "Accessibility",
          "key": "LimitedCapacityLift",
          "sourceSystemKey": "LRAD",
          "value": "No"
         },
         {
          "$type": "Tfl.Api.Presentation.Entities.AdditionalProperties, Tfl.Api.Presentation.Entities",
          "category": "Accessibility",
          "key": "SpecificEntranceRequired",
          "sourceSystemKey": "LRAD",
          "value": "No"
         },
         {
          "$type": "Tfl.Api.Presentation.Entities.AdditionalProperties, Tfl.Api.Presentation.Entities",
          "category": "Accessibility",
          "key": "TaxiRankOutsideStation",
          "sourceSystemKey": "LRAD",
          "value": "No"
         },
         {
          "$type": "Tfl.Api.Presentation.Entities.AdditionalProperties, Tfl.Api.Presentation.Entities",
          "category": "Accessibility",
          "key": "Toilet",
          "sourceSystemKey": "LRAD",
          "value": "No"
         },
         {
          "$type": "Tfl.Api.Presentation.Entities.AdditionalProperties, Tfl.Api.Presentation.Entities",
          "category": "NearestPlaces",
          "key": "SourceSystemPlaceId",
          "sourceSystemKey": "StaticObjects",
          "value": "BikePoints_44"
         },
         {
          "$type": "Tfl.Api.Presentation.Entities.AdditionalProperties, Tfl.Api.Presentation.Entities",
          "category": "NearestPlaces",
          "key": "SourceSystemPlaceId",
          "sourceSystemKey": "StaticObjects",
          "value": "BikePoints_49"
         },
         {
          "$type": "Tfl.Api.Presentation.Entities.AdditionalProperties, Tfl.Api.Presentation.Entities",
          "category": "NearestPlaces",
          "key": "SourceSystemPlaceId",
          "sourceSystemKey": "StaticObjects",
          "value": "BikePoints_53"
         },
         {
          "$type": "Tfl.Api.Presentation.Entities.AdditionalProperties, Tfl.Api.Presentation.Entities",
          "category": "NearestPlaces",
          "key": "SourceSystemPlaceId",
          "sourceSystemKey": "StaticObjects",
          "value": "BikePoints_528"
         },
         {
          "$type": "Tfl.Api.Presentation.Entities.AdditionalProperties, Tfl.Api.Presentation.Entities",
          "category": "NearestPlaces",
          "key": "SourceSystemPlaceId",
          "sourceSystemKey": "StaticObjects",
          "value": "BikePoints_541"
         },
         {
          "$type": "Tfl.Api.Presentation.Entities.AdditionalProperties, Tfl.Api.Presentation.Entities",
          "category": "NearestPlaces",
          "key": "SourceSystemPlaceId",
          "sourceSystemKey": "StaticObjects",
          "value": "BikePoints_318"
         },
         {
          "$type": "Tfl.Api.Presentation.Entities.AdditionalProperties, Tfl.Api.Presentation.Entities",
          "category": "NearestPlaces",
          "key": "SourceSystemPlaceId",
          "sourceSystemKey": "StaticObjects",
          "value": "BikePoints_382"
         },
         {
          "$type": "Tfl.Api.Presentation.Entities.AdditionalProperties, Tfl.Api.Presentation.Entities",
          "category": "NearestPlaces",
          "key": "SourceSystemPlaceId",
          "sourceSystemKey": "StaticObjects",
          "value": "BikePoints_391"
         },
         {
          "$type": "Tfl.Api.Presentation.Entities.AdditionalProperties, Tfl.Api.Presentation.Entities",
          "category": "NearestPlaces",
          "key": "SourceSystemPlaceId",
          "sourceSystemKey": "StaticObjects",
          "value": "TaxiRank_5252"
         },
         {
          "$type": "Tfl.Api.Presentation.Entities.AdditionalProperties, Tfl.Api.Presentation.Entities",
          "category": "NearestPlaces",
          "key": "SourceSystemPlaceId",
          "sourceSystemKey": "StaticObjects",
          "value": "TaxiRank_5510"
         },
         {
          "$type": "Tfl.Api.Presentation.Entities.AdditionalProperties, Tfl.Api.Presentation.Entities",
          "category": "NearestPlaces",
          "key": "SourceSystemPlaceId",
          "sourceSystemKey": "StaticObjects",
          "value": "TaxiRank_5821"
         },
         {
          "$type": "Tfl.Api.Presentation.Entities.AdditionalProperties, Tfl.Api.Presentation.Entities",
          "category": "NearestPlaces",
          "key": "SourceSystemPlaceId",
          "sourceSystemKey": "StaticObjects",
          "value": "TaxiRank_5868"
         },
         {
          "$type": "Tfl.Api.Presentation.Entities.AdditionalProperties, Tfl.Api.Presentation.Entities",
          "category": "NearestPlaces",
          "key": "SourceSystemPlaceId",
          "sourceSystemKey": "StaticObjects",
          "value": "TaxiRank_5191"
         },
         {
          "$type": "Tfl.Api.Presentation.Entities.AdditionalProperties, Tfl.Api.Presentation.Entities",
          "category": "NearestPlaces",
          "key": "SourceSystemPlaceId",
          "sourceSystemKey": "StaticObjects",
          "value": "TaxiRank_3451"
         },
         {
          "$type": "Tfl.Api.Presentation.Entities.AdditionalProperties, Tfl.Api.Presentation.Entities",
          "category": "NearestPlaces",
          "key": "SourceSystemPlaceId",
          "sourceSystemKey": "StaticObjects",
          "value": "TaxiRank_5014"
         },
         {
          "$type": "Tfl.Api.Presentation.Entities.AdditionalProperties, Tfl.Api.Presentation.Entities",
          "category": "NearestPlaces",
          "key": "SourceSystemPlaceId",
          "sourceSystemKey": "StaticObjects",
          "value": "TaxiRank_5862"
         },
         {
          "$type": "Tfl.Api.Presentation.Entities.AdditionalProperties, Tfl.Api.Presentation.Entities",
          "category": "NearestPlaces",
          "key": "SourceSystemPlaceId",
          "sourceSystemKey": "StaticObjects",
          "value": "TaxiRank_5778"
         },
         {
          "$type": "Tfl.Api.Presentation.Entities.AdditionalProperties, Tfl.Api.Presentation.Entities",
          "category": "NearestPlaces",
          "key": "SourceSystemPlaceId",
          "sourceSystemKey": "StaticObjects",
          "value": "TaxiRank_4706"
         },
         {
          "$type": "Tfl.Api.Presentation.Entities.AdditionalProperties, Tfl.Api.Presentation.Entities",
          "category": "NearestPlaces",
          "key": "SourceSystemPlaceId",
          "sourceSystemKey": "StaticObjects",
          "value": "TaxiRank_5594"
         },
         {
          "$type": "Tfl.Api.Presentation.Entities.AdditionalProperties, Tfl.Api.Presentation.Entities",
          "category": "NearestPlaces",
          "key": "SourceSystemPlaceId",
          "sourceSystemKey": "StaticObjects",
          "value": "TaxiRank_4182"
         },
         {
          "$type": "Tfl.Api.Presentation.Entities.AdditionalProperties, Tfl.Api.Presentation.Entities",
          "category": "NearestPlaces",
          "key": "SourceSystemPlaceId",
          "sourceSystemKey": "StaticObjects",
          "value": "TaxiRank_4623"
         },
         {
          "$type": "Tfl.Api.Presentation.Entities.AdditionalProperties, Tfl.Api.Presentation.Entities",
          "category": "NearestPlaces",
          "key": "SourceSystemPlaceId",
          "sourceSystemKey": "StaticObjects",
          "value": "TaxiRank_5714"
         },
         {
          "$type": "Tfl.Api.Presentation.Entities.AdditionalProperties, Tfl.Api.Presentation.Entities",
          "category": "NearestPlaces",
          "key": "SourceSystemPlaceId",
          "sourceSystemKey": "StaticObjects",
          "value": "TaxiRank_5647"
         },
         {
          "$type": "Tfl.Api.Presentation.Entities.AdditionalProperties, Tfl.Api.Presentation.Entities",
          "category": "NearestPlaces",
          "key": "SourceSystemPlaceId",
          "sourceSystemKey": "StaticObjects",
          "value": "TaxiRank_5811"
         },
         {
          "$type": "Tfl.Api.Presentation.Entities.AdditionalProperties, Tfl.Api.Presentation.Entities",
          "category": "NearestPlaces",
          "key": "SourceSystemPlaceId",
          "sourceSystemKey": "StaticObjects",
          "value": "TaxiRank_5863"
         },
         {
          "$type": "Tfl.Api.Presentation.Entities.AdditionalProperties, Tfl.Api.Presentation.Entities",
          "category": "NearestPlaces",
          "key": "SourceSystemPlaceId",
          "sourceSystemKey": "StaticObjects",
          "value": "TaxiRank_5351"
         },
         {
          "$type": "Tfl.Api.Presentation.Entities.AdditionalProperties, Tfl.Api.Presentation.Entities",
          "category": "NearestPlaces",
          "key": "SourceSystemPlaceId",
          "sourceSystemKey": "StaticObjects",
          "value": "TaxiRank_4875"
         },
         {
          "$type": "Tfl.Api.Presentation.Entities.AdditionalProperties, Tfl.Api.Presentation.Entities",
          "category": "NearestPlaces",
          "key": "SourceSystemPlaceId",
          "sourceSystemKey": "StaticObjects",
          "value": "TaxiRank_4150"
         },
         {
          "$type": "Tfl.Api.Presentation.Entities.AdditionalProperties, Tfl.Api.Presentation.Entities",
          "category": "NearestPlaces",
          "key": "SourceSystemPlaceId",
          "sourceSystemKey": "StaticObjects",
          "value": "TaxiRank_5317"
         },
         {
          "$type": "Tfl.Api.Presentation.Entities.AdditionalProperties, Tfl.Api.Presentation.Entities",
          "category": "NearestPlaces",
          "key": "SourceSystemPlaceId",
          "sourceSystemKey": "StaticObjects",
          "value": "TaxiRank_4863"
         },
         {
          "$type": "Tfl.Api.Presentation.Entities.AdditionalProperties, Tfl.Api.Presentation.Entities",
          "category": "NearestPlaces",
          "key": "SourceSystemPlaceId",
          "sourceSystemKey": "StaticObjects",
          "value": "TaxiRank_5713"
         },
         {
          "$type": "Tfl.Api.Presentation.Entities.AdditionalProperties, Tfl.Api.Presentation.Entities",
          "category": "NearestPlaces",
          "key": "SourceSystemPlaceId",
          "sourceSystemKey": "StaticObjects",
          "value": "TaxiRank_5651"
         },
         {
          "$type": "Tfl.Api.Presentation.Entities.AdditionalProperties, Tfl.Api.Presentation.Entities",
          "category": "NearestPlaces",
          "key": "SourceSystemPlaceId",
          "sourceSystemKey": "StaticObjects",
          "value": "TaxiRank_5363"
         },
         {
          "$type": "Tfl.Api.Presentation.Entities.AdditionalProperties, Tfl.Api.Presentation.Entities",
          "category": "NearestPlaces",
          "key": "SourceSystemPlaceId",
          "sourceSystemKey": "StaticObjects",
          "value": "TaxiRank_5323"
         },
         {
          "$type": "Tfl.Api.Presentation.Entities.AdditionalProperties, Tfl.Api.Presentation.Entities",
          "category": "NearestPlaces",
          "key": "SourceSystemPlaceId",
          "sourceSystemKey": "StaticObjects",
          "value": "TaxiRank_5099"
         },
         {
          "$type": "Tfl.Api.Presentation.Entities.AdditionalProperties, Tfl.Api.Presentation.Entities",
          "category": "NearestPlaces",
          "key": "SourceSystemPlaceId",
          "sourceSystemKey": "StaticObjects",
          "value": "TaxiRank_5715"
         },
         {
          "$type": "Tfl.Api.Presentation.Entities.AdditionalProperties, Tfl.Api.Presentation.Entities",
          "category": "NearestPlaces",
          "key": "SourceSystemPlaceId",
          "sourceSystemKey": "StaticObjects",
          "value": "TaxiRank_4475"
         },
         {
          "$type": "Tfl.Api.Presentation.Entities.AdditionalProperties, Tfl.Api.Presentation.Entities",
          "category": "NearestPlaces",
          "key": "SourceSystemPlaceId",
          "sourceSystemKey": "StaticObjects",
          "value": "TaxiRank_5267"
         },
         {
          "$type": "Tfl.Api.Presentation.Entities.AdditionalProperties, Tfl.Api.Presentation.Entities",
          "category": "NearestPlaces",
          "key": "SourceSystemPlaceId",
          "sourceSystemKey": "StaticObjects",
          "value": "TaxiRank_5687"
         },
         {
          "$type": "Tfl.Api.Presentation.Entities.AdditionalProperties, Tfl.Api.Presentation.Entities",
          "category": "NearestPlaces",
          "key": "SourceSystemPlaceId",
          "sourceSystemKey": "StaticObjects",
          "value": "TaxiRank_5861"
         },
         {
          "$type": "Tfl.Api.Presentation.Entities.AdditionalProperties, Tfl.Api.Presentation.Entities",
          "category": "NearestPlaces",
          "key": "SourceSystemPlaceId",
          "sourceSystemKey": "StaticObjects",
          "value": "TaxiRank_5600"
         },
         {
          "$type": "Tfl.Api.Presentation.Entities.AdditionalProperties, Tfl.Api.Presentation.Entities",
          "category": "NearestPlaces",
          "key": "SourceSystemPlaceId",
          "sourceSystemKey": "StaticObjects",
          "value": "TaxiRank_5800"
         },
         {
          "$type": "Tfl.Api.Presentation.Entities.AdditionalProperties, Tfl.Api.Presentation.Entities",
          "category": "NearestPlaces",
          "key": "SourceSystemPlaceId",
          "sourceSystemKey": "StaticObjects",
          "value": "TaxiRank_4949"
         }
        ],
        "children": [
         {
          "$type": "Tfl.Api.Presentation.Entities.StopPoint, Tfl.Api.Presentation.Entities",
          "additionalProperties": [],
          "children": [],
          "commonName": "Green Park Underground Station",
          "icsCode": "1000093",
          "id": "9400ZZLUGPK2",
          "lat": 0,
          "lineGroup": [],
          "lineModeGroups": [],
          "lines": [],
          "lon": 0,
          "modes": [],
          "naptanId": "9400ZZLUGPK2",
          "placeType": "StopPoint",
          "stationNaptan": "940GZZLUGPK",
          "status": true
         },
         {
          "$type": "Tfl.Api.Presentation.Entities.StopPoint, Tfl.Api.Presentation.Entities",
          "additionalProperties": [],
          "children": [],
          "commonName": "Green Park Underground Station",
          "icsCode": "1000093",
          "id": "9400ZZLUGPK3",
          "lat": 0,
          "lineGroup": [],
          "lineModeGroups": [],
          "lines": [],
          "lon": 0,
          "modes": [],
          "naptanId": "9400ZZLUGPK3",
          "placeType": "StopPoint",
          "stationNaptan": "940GZZLUGPK",
          "status": true
         },
         {
          "$type": "Tfl.Api.Presentation.Entities.StopPoint, Tfl.Api.Presentation.Entities",
          "additionalProperties": [],
          "children": [],
          "commonName": "Green Park Underground Station",
          "icsCode": "1000093",
          "id": "9400ZZLUGPK4",
          "lat": 0,
          "lineGroup": [],
          "lineModeGroups": [],
          "lines": [],
          "lon": 0,
          "modes": [],
          "naptanId": "9400ZZLUGPK4",
          "placeType": "StopPoint",
          "stationNaptan": "940GZZLUGPK",
          "status": true
         },
         {
          "$type": "Tfl.Api.Presentation.Entities.StopPoint, Tfl.Api.Presentation.Entities",
          "additionalProperties": [],
          "children": [],
          "commonName": "Green Park Underground Station",
          "icsCode": "1000093",
          "id": "9400ZZLUGPK1",
          "lat": 0,
          "lineGroup": [],
          "lineModeGroups": [],
          "lines": [],
          "lon": 0,
          "modes": [],
          "naptanId": "9400ZZLUGPK1",
          "placeType": "StopPoint",
          "stationNaptan": "940GZZLUGPK",
          "status": true
         },
         {
          "$type": "Tfl.Api.Presentation.Entities.StopPoint, Tfl.Api.Presentation.Entities",
          "additionalProperties": [],
          "children": [],
          "commonName": "Green Park Underground Station",
          "icsCode": "1000093",
          "id": "9400ZZLUGPK5",
          "lat": 0,
          "lineGroup": [],
          "lineModeGroups": [],
          "lines": [],
          "lon": 0,
          "modes": [],
          "naptanId": "9400ZZLUGPK5",
          "placeType": "StopPoint",
          "stationNaptan": "940GZZLUGPK",
          "status": true
         }
        ],
        "commonName": "Green Park Underground Station",
        "icsCode": "1000093",
        "id": "940GZZLUGPK",
        "lat": 51.506947,
        "lineGroup": [
         {
          "$type": "Tfl.Api.Presentation.Entities.LineGroup, Tfl.Api.Presentation.Entities",
          "lineIdentifier": [
           "14",
           "19",
           "38",
           "6",
           "9",
           "n19",
           "n38",
           "n9",
           "n97"
          ],
          "naptanIdReference": "490000093PB",
          "stationAtcoCode": "490G00093PE"
         },
         {
          "$type": "Tfl.Api.Presentation.Entities.LineGroup, Tfl.Api.Presentation.Entities",
          "lineIdentifier": [
           "14",
           "19",
           "22",
           "38",
           "6",
           "9",
           "n19",
           "n22",
           "n38",
           "n9",
           "n97"
          ],
          "naptanIdReference": "490000093PE",
          "stationAtcoCode": "490G00093PE"
         },
         {
          "$type": "Tfl.Api.Presentation.Entities.LineGroup, Tfl.Api.Presentation.Entities",
          "lineIdentifier": [
           "22",
           "n22"
          ],
          "naptanIdReference": "490000093PA",
          "stationAtcoCode": "490G00093PE"
         },
         {
          "$type": "Tfl.Api.Presentation.Entities.LineGroup, Tfl.Api.Presentation.Entities",
          "lineIdentifier": [
           "jubilee"
          ],
          "stationAtcoCode": "940GZZLUGPK"
         },
         {
          "$type": "Tfl.Api.Presentation.Entities.LineGroup, Tfl.Api.Presentation.Entities",
          "lineIdentifier": [
           "piccadilly"
          ],
          "stationAtcoCode": "940GZZLUGPK"
         },
         {
          "$type": "Tfl.Api.Presentation.Entities.LineGroup, Tfl.Api.Presentation.Entities",
          "lineIdentifier": [
           "victoria"
          ],
          "stationAtcoCode": "940GZZLUGPK"
         }
        ],
        "lineModeGroups": [
         {
          "$type": "Tfl.Api.Presentation.Entities.LineModeGroup, Tfl.Api.Presentation.Entities",
          "lineIdentifier": [
           "14",
           "19",
           "22",
           "38",
           "6",
           "9",
           "n19",
           "n22",
           "n38",
           "n9",
           "n97"
          ],
          "modeName": "bus"
         },
         {
          "$type": "Tfl.Api.Presentation.Entities.LineModeGroup, Tfl.Api.Presentation.Entities",
          "lineIdentifier": [
           "jubilee",
           "piccadilly",
           "victoria"
          ],
          "modeName": "tube"
         }
        ],
        "lines": [
         {
          "$type": "Tfl.Api.Presentation.Entities.Identifier, Tfl.Api.Presentation.Entities",
          "crowding": {
           "$type": "Tfl.Api.Presentation.Entities.Crowding, Tfl.Api.Presentation.Entities"
          },
          "id": "14",
          "name": "14",
          "routeType": "Unknown",
          "status": "Unknown",
          "type": "Line",
          "uri": "/Line/14"
         },
         {
          "$type": "Tfl.Api.Presentation.Entities.Identifier, Tfl.Api.Presentation.Entities",
          "crowding": {
           "$type": "Tfl.Api.Presentation.Entities.Crowding, Tfl.Api.Presentation.Entities"
          },
          "id": "19",
          "name": "19",
          "routeType": "Unknown",
          "status": "Unknown",
          "type": "Line",
          "uri": "/Line/19"
         },
         {
          "$type": "Tfl.Api.Presentation.Entities.Identifier, Tfl.Api.Presentation.Entities",
          "crowding": {
           "$type": "Tfl.Api.Presentation.Entities.Crowding, Tfl.Api.Presentation.Entities"
          },
          "id": "22",
          "name": "22",
          "routeType": "Unknown",
          "status": "Unknown",
          "type": "Line",
          "uri": "/Line/22"
         },
         {
          "$type": "Tfl.Api.Presentation.Entities.Identifier, Tfl.Api.Presentation.Entities",
          "crowding": {
           "$type": "Tfl.Api.Presentation.Entities.Crowding, Tfl.Api.Presentation.Entities"
          },
          "id": "38",
          "name": "38",
          "routeType": "Unknown",
          "status": "Unknown",
          "type": "Line",
          "uri": "/Line/38"
         },
         {
          "$type": "Tfl.Api.Presentation.Entities.Identifier, Tfl.Api.Presentation.Entities",
          "crowding": {
           "$type": "Tfl.Api.Presentation.Entities.Crowding, Tfl.Api.Presentation.Entities"
          },
          "id": "6",
          "name": "6",
          "routeType": "Unknown",
          "status": "Unknown",
          "type": "Line",
          "uri": "/Line/6"
         },
         {
          "$type": "Tfl.Api.Presentation.Entities.Identifier, Tfl.Api.Presentation.Entities",
          "crowding": {
           "$type": "Tfl.Api.Presentation.Entities.Crowding, Tfl.Api.Presentation.Entities"
          },
          "id": "9",
          "name": "9",
          "routeType": "Unknown",
          "status": "Unknown",
          "type": "Line",
          "uri": "/Line/9"
         },
         {
          "$type": "Tfl.Api.Presentation.Entities.Identifier, Tfl.Api.Presentation.Entities",
          "crowding": {
           "$type": "Tfl.Api.Presentation.Entities.Crowding, Tfl.Api.Presentation.Entities"
          },
          "id": "jubilee",
          "name": "Jubilee",
          "routeType": "Unknown",
          "status": "Unknown",
          "type": "Line",
          "uri": "/Line/jubilee"
         },
         {
          "$type": "Tfl.Api.Presentation.Entities.Identifier, Tfl.Api.Presentation.Entities",
          "crowding": {
           "$type": "Tfl.Api.Presentation.Entities.Crowding, Tfl.Api.Presentation.Entities"
          },
          "id": "n19",
          "name": "N19",
          "routeType": "Unknown",
          "status": "Unknown",
          "type": "Line",
          "uri": "/Line/n19"
         },
         {
          "$type": "Tfl.Api.Presentation.Entities.Identifier, Tfl.Api.Presentation.Entities",
          "crowding": {
           "$type": "Tfl.Api.Presentation.Entities.Crowding, Tfl.Api.Presentation.Entities"
          },
          "id": "n22",
          "name": "N22",
          "routeType": "Unknown",
          "status": "Unknown",
          "type": "Line",
          "uri": "/Line/n22"
         },
         {
          "$type": "Tfl.Api.Presentation.Entities.Identifier, Tfl.Api.Presentation.Entities",
          "crowding": {
           "$type": "Tfl.Api.Presentation.Entities.Crowding, Tfl.Api.Presentation.Entities"
          },
          "id": "n38",
          "name": "N38",
          "routeType": "Unknown",
          "status": "Unknown",
          "type": "Line",
          "uri": "/Line/n38"
         },
         {
          "$type": "Tfl.Api.Presentation.Entities.Identifier, Tfl.Api.Presentation.Entities",
          "crowding": {
           "$type": "Tfl.Api.Presentation.Entities.Crowding, Tfl.Api.Presentation.Entities"
          },
          "id": "n9",
          "name": "N9",
          "routeType": "Unknown",
          "status": "Unknown",
          "type": "Line",
          "uri": "/Line/n9"
         },
         {
          "$type": "Tfl.Api.Presentation.Entities.Identifier, Tfl.Api.Presentation.Entities",
          "crowding": {
           "$type": "Tfl.Api.Presentation.Entities.Crowding, Tfl.Api.Presentation.Entities"
          },
          "id": "n97",
          "name": "N97",
          "routeType": "Unknown",
          "status": "Unknown",
          "type": "Line",
          "uri": "/Line/n97"
         },
         {
          "$type": "Tfl.Api.Presentation.Entities.Identifier, Tfl.Api.Presentation.Entities",
          "crowding": {
           "$type": "Tfl.Api.Presentation.Entities.Crowding, Tfl.Api.Presentation.Entities"
          },
          "id": "piccadilly",
          "name": "Piccadilly",
          "routeType": "Unknown",
          "status": "Unknown",
          "type": "Line",
          "uri": "/Line/piccadilly"
         },
         {
          "$type": "Tfl.Api.Presentation.Entities.Identifier, Tfl.Api.Presentation.Entities",
          "crowding": {
           "$type": "Tfl.Api.Presentation.Entities.Crowding, Tfl.Api.Presentation.Entities"
          },
          "id": "victoria",
          "name": "Victoria",
          "routeType": "Unknown",
          "status": "Unknown",
          "type": "Line",
          "uri": "/Line/victoria"
         }
        ],
        "lon": -0.142787,
        "modes": [
         "bus",
         "tube"
        ],
        "naptanId": "940GZZLUGPK",
        "placeType": "StopPoint",
        "stationNaptan": "940GZZLUGPK",
        "status": true,
        "stopType": "NaptanMetroStation"
       },
       {
        "$type": "Tfl.Api.Presentation.Entities.StopPoint, Tfl.Api.Presentation.Entities",
        "additionalProperties": [
         {
          "$type": "Tfl.Api.Presentation.Entities.AdditionalProperties, Tfl.Api.Presentation.Entities",
          "category": "ServiceInfo",
          "key": "Night",
          "sourceSystemKey": "TransXchangeETL",
          "value": "yes"
         },
         {
          "$type": "Tfl.Api.Presentation.Entities.AdditionalProperties, Tfl.Api.Presentation.Entities",
          "category": "Facility",
          "key": "Car park",
          "sourceSystemKey": "StaticObjects",
          "value": "no"
         },
         {
          "$type": "Tfl.Api.Presentation.Entities.AdditionalProperties, Tfl.Api.Presentation.Entities",
          "category": "Facility",
          "key": "Photo Booths",
          "sourceSystemKey": "StaticObjects",
          "value": "0"
         },
         {
          "$type": "Tfl.Api.Presentation.Entities.AdditionalProperties, Tfl.Api.Presentation.Entities",
          "category": "Facility",
          "key": "Other Facilities",
          "sourceSystemKey": "StaticObjects",
          "value": "taxi ranks outside station, routeways platform to ticket hall."
         },
         {
          "$type": "Tfl.Api.Presentation.Entities.AdditionalProperties, Tfl.Api.Presentation.Entities",
          "category": "Facility",
          "key": "Toilets",
          "sourceSystemKey": "StaticObjects",
          "value": "no"
         },
         {
          "$type": "Tfl.Api.Presentation.Entities.AdditionalProperties, Tfl.Api.Presentation.Entities",
          "category": "Facility",
          "key": "Bridge",
          "sourceSystemKey": "StaticObjects",
          "value": "yes"
         },
         {
          "$type": "Tfl.Api.Presentation.Entities.AdditionalProperties, Tfl.Api.Presentation.Entities",
          "category": "Facility",
          "key": "Cash Machines",
          "sourceSystemKey": "StaticObjects",
          "value": "0"
         },
         {
          "$type": "Tfl.Api.Presentation.Entities.AdditionalProperties, Tfl.Api.Presentation.Entities",
          "category": "Facility",
          "key": "Payphones",
          "sourceSystemKey": "StaticObjects",
          "value": "2"
         },
         {
          "$type": "Tfl.Api.Presentation.Entities.AdditionalProperties, Tfl.Api.Presentation.Entities",
          "category": "Facility",
          "key": "Waiting Room",
          "sourceSystemKey": "StaticObjects",
          "value": "no"
         },
         {
          "$type": "Tfl.Api.Presentation.Entities.AdditionalProperties, Tfl.Api.Presentation.Entities",
          "category": "Facility",
          "key": "Gates",
          "sourceSystemKey": "StaticObjects",
          "value": "7"
         },
         {
          "$type": "Tfl.Api.Presentation.Entities.AdditionalProperties, Tfl.Api.Presentation.Entities",
          "category": "Address",
          "key": "PhoneNo",
          "sourceSystemKey": "StaticObjects",
          "value": "0845 330 9880"
         },
         {
          "$type": "Tfl.Api.Presentation.Entities.AdditionalProperties, Tfl.Api.Presentation.Entities",
          "category": "Facility",
          "key": "WiFi",
          "sourceSystemKey": "StaticObjects",
          "value": "yes"
         },
         {
          "$type": "Tfl.Api.Presentation.Entities.AdditionalProperties, Tfl.Api.Presentation.Entities",
          "category": "Address",
          "key": "Address",
          "sourceSystemKey": "StaticObjects",
          "value": "Highbury & Islington Underground Station,London Underground Ltd.,Holloway Rd,London,N5 1RA"
         },
         {
          "$type": "Tfl.Api.Presentation.Entities.AdditionalProperties, Tfl.Api.Presentation.Entities",
          "category": "Geo",
          "key": "Zone",
          "sourceSystemKey": "StaticObjects",
          "value": "2"
         },
         {
          "$type": "Tfl.Api.Presentation.Entities.AdditionalProperties, Tfl.Api.Presentation.Entities",
          "category": "Facility",
          "key": "Ticket Halls",
          "sourceSystemKey": "StaticObjects",
          "value": "1"
         },
         {
          "$type": "Tfl.Api.Presentation.Entities.AdditionalProperties, Tfl.Api.Presentation.Entities",
          "category": "Facility",
          "key": "Boarding Ramps",
          "sourceSystemKey": "StaticObjects",
          "value": "yes London Overground Only"
         },
         {
          "$type": "Tfl.Api.Presentation.Entities.AdditionalProperties, Tfl.Api.Presentation.Entities",
          "category": "Facility",
          "key": "Escalators",
          "sourceSystemKey": "StaticObjects",
          "value": "2"
         },
         {
          "$type": "Tfl.Api.Presentation.Entities.AdditionalProperties, Tfl.Api.Presentation.Entities",
          "category": "Facility",
          "key": "Help Points",
          "sourceSystemKey": "StaticObjects",
          "value": "0 on platforms, 0 in ticket halls, 0 elsewhere"
         },
         {
          "$type": "Tfl.Api.Presentation.Entities.AdditionalProperties, Tfl.Api.Presentation.Entities",
          "category": "Facility",
          "key": "Lifts",
          "sourceSystemKey": "StaticObjects",
          "value": "3"
         }
        ],
        "children": [
         {
          "$type": "Tfl.Api.Presentation.Entities.StopPoint, Tfl.Api.Presentation.Entities",
          "additionalProperties": [],
          "children": [],
          "commonName": "Highbury & Islington Underground Station",
          "hubNaptanCode": "HUBHHY",
          "icsCode": "1000108",
          "id": "9400ZZLUHAI1",
          "lat": 0,
          "lineGroup": [],
          "lineModeGroups": [],
          "lines": [],
          "lon": 0,
          "modes": [],
          "naptanId": "9400ZZLUHAI1",
          "placeType": "StopPoint",
          "stationNaptan": "940GZZLUHAI",
          "status": true
         },
         {
          "$type": "Tfl.Api.Presentation.Entities.StopPoint, Tfl.Api.Presentation.Entities",
          "additionalProperties": [],
          "children": [],
          "commonName": "Highbury & Islington Underground Station",
          "hubNaptanCode": "HUBHHY",
          "icsCode": "1000108",
          "id": "9400ZZLUHAI2",
          "lat": 0,
          "lineGroup": [],
          "lineModeGroups": [],
          "lines": [],
          "lon": 0,
          "modes": [],
          "naptanId": "9400ZZLUHAI2",
          "placeType": "StopPoint",
          "stationNaptan": "940GZZLUHAI",
          "status": true
         }
        ],
        "commonName": "Highbury & Islington Underground Station",
        "hubNaptanCode": "HUBHHY",
        "icsCode": "1000108",
        "id": "940GZZLUHAI",
        "lat": 51.54635,
        "lineGroup": [
         {
          "$type": "Tfl.Api.Presentation.Entities.LineGroup, Tfl.Api.Presentation.Entities",
          "lineIdentifier": [
           "victoria"
          ],
          "stationAtcoCode": "940GZZLUHAI"
         }
        ],
        "lineModeGroups": [
         {
          "$type": "Tfl.Api.Presentation.Entities.LineModeGroup, Tfl.Api.Presentation.Entities",
          "lineIdentifier": [
           "victoria"
          ],
          "modeName": "tube"
         }
        ],
        "lines": [
         {
          "$type": "Tfl.Api.Presentation.Entities.Identifier, Tfl.Api.Presentation.Entities",
          "crowding": {
           "$type": "Tfl.Api.Presentation.Entities.Crowding, Tfl.Api.Presentation.Entities"
          },
          "id": "victoria",
          "name": "Victoria",
          "routeType": "Unknown",
          "status": "Unknown",
          "type": "Line",
          "uri": "/Line/victoria"
         }
        ],
        "lon": -0.103324,
        "modes": [
         "tube"
        ],
        "naptanId": "940GZZLUHAI",
        "placeType": "StopPoint",
        "stationNaptan": "940GZZLUHAI",
        "status": true,
        "stopType": "NaptanMetroStation"
       },
       {
        "$type": "Tfl.Api.Presentation.Entities.StopPoint, Tfl.Api.Presentation.Entities",
        "additionalProperties": [
         {
          "$type": "Tfl.Api.Presentation.Entities.AdditionalProperties, Tfl.Api.Presentation.Entities",
          "category": "ServiceInfo",
          "key": "Night",
          "sourceSystemKey": "TransXchangeETL",
          "value": "yes"
         },
         {
          "$type": "Tfl.Api.Presentation.Entities.AdditionalProperties, Tfl.Api.Presentation.Entities",
          "category": "Facility",
          "key": "Toilets",
          "sourceSystemKey": "StaticObjects",
          "value": "no"
         },
         {
          "$type": "Tfl.Api.Presentation.Entities.AdditionalProperties, Tfl.Api.Presentation.Entities",
          "category": "Facility",
          "key": "Bridge",
          "sourceSystemKey": "StaticObjects",
          "value": "no"
         },
         {
          "$type": "Tfl.Api.Presentation.Entities.AdditionalProperties, Tfl.Api.Presentation.Entities",
          "category": "Facility",
          "key": "Cash Machines",
          "sourceSystemKey": "StaticObjects",
          "value": "9"
         },
         {
          "$type": "Tfl.Api.Presentation.Entities.AdditionalProperties, Tfl.Api.Presentation.Entities",
          "category": "VisitorCentre",
          "key": "Location",
          "sourceSystemKey": "StaticObjects",
          "value": "Western Ticket Hall Underground Station"
         },
         {
          "$type": "Tfl.Api.Presentation.Entities.AdditionalProperties, Tfl.Api.Presentation.Entities",
          "category": "Facility",
          "key": "Gates",
          "sourceSystemKey": "StaticObjects",
          "value": "45"
         },
         {
          "$type": "Tfl.Api.Presentation.Entities.AdditionalProperties, Tfl.Api.Presentation.Entities",
          "category": "Address",
          "key": "PhoneNo",
          "sourceSystemKey": "StaticObjects",
          "value": "0845 330 9880"
         },
         {
          "$type": "Tfl.Api.Presentation.Entities.AdditionalProperties, Tfl.Api.Presentation.Entities",
          "category": "Facility",
          "key": "Ticket Halls",
          "sourceSystemKey": "StaticObjects",
          "value": "4"
         },
         {
          "$type": "Tfl.Api.Presentation.Entities.AdditionalProperties, Tfl.Api.Presentation.Entities",
          "category": "Facility",
          "key": "Lifts",
          "sourceSystemKey": "StaticObjects",
          "value": "10"
         },
         {
          "$type": "Tfl.Api.Presentation.Entities.AdditionalProperties, Tfl.Api.Presentation.Entities",
          "category": "Facility",
          "key": "Other Facilities",
          "sourceSystemKey": "StaticObjects",
          "value": "none"
         },
         {
          "$type": "Tfl.Api.Presentation.Entities.AdditionalProperties, Tfl.Api.Presentation.Entities",
          "category": "Facility",
          "key": "WiFi",
          "sourceSystemKey": "StaticObjects",
          "value": "yes"
         },
         {
          "$type": "Tfl.Api.Presentation.Entities.AdditionalProperties, Tfl.Api.Presentation.Entities",
          "category": "Geo",
          "key": "Zone",
          "sourceSystemKey": "StaticObjects",
          "value": "1"
         },
         {
          "$type": "Tfl.Api.Presentation.Entities.AdditionalProperties, Tfl.Api.Presentation.Entities",
          "category": "Address",
          "key": "Address",
          "sourceSystemKey": "StaticObjects",
          "value": "King's Cross St. Pancras,London Underground Ltd.,Euston Road,London,N1 9AL"
         },
         {
          "$type": "Tfl.Api.Presentation.Entities.AdditionalProperties, Tfl.Api.Presentation.Entities",
          "category": "Facility",
          "key": "Help Points",
          "sourceSystemKey": "StaticObjects",
          "value": "0 on platforms, 0 in ticket halls, 0 elsewhere"
         },
         {
          "$type": "Tfl.Api.Presentation.Entities.AdditionalProperties, Tfl.Api.Presentation.Entities",
          "category": "Facility",
          "key": "Waiting Room",
          "sourceSystemKey": "StaticObjects",
          "value": "no"
         },
         {
          "$type": "Tfl.Api.Presentation.Entities.AdditionalProperties, Tfl.Api.Presentation.Entities",
          "category": "Facility",
          "key": "Escalators",
          "sourceSystemKey": "StaticObjects",
          "value": "19"
         },
         {
          "$type": "Tfl.Api.Presentation.Entities.AdditionalProperties, Tfl.Api.Presentation.Entities",
          "category": "Facility",
          "key": "Euro Cash Machines",
          "sourceSystemKey": "StaticObjects",
          "value": "yes"
         },
         {
          "$type": "Tfl.Api.Presentation.Entities.AdditionalProperties, Tfl.Api.Presentation.Entities",
          "category": "Facility",
          "key": "Car park",
          "sourceSystemKey": "StaticObjects",
          "value": "no"
         },
         {
          "$type": "Tfl.Api.Presentation.Entities.AdditionalProperties, Tfl.Api.Presentation.Entities",
          "category": "Facility",
          "key": "Payphones",
          "sourceSystemKey": "StaticObjects",
          "value": "4"
         },
         {
          "$type": "Tfl.Api.Presentation.Entities.AdditionalProperties, Tfl.Api.Presentation.Entities",
          "category": "Facility",
          "key": "Photo Booths",
          "sourceSystemKey": "StaticObjects",
          "value": "0"
         },
         {
          "$type": "Tfl.Api.Presentation.Entities.AdditionalProperties, Tfl.Api.Presentation.Entities",
          "category": "Accessibility",
          "key": "AccessViaLift",
          "sourceSystemKey": "LRAD",
          "value": "Yes"
         },
         {
          "$type": "Tfl.Api.Presentation.Entities.AdditionalProperties, Tfl.Api.Presentation.Entities",
          "category": "Accessibility",
          "key": "BlueBadgeCarParkSpaces",
          "sourceSystemKey": "LRAD",
          "value": "0"
         },
         {
          "$type": "Tfl.Api.Presentation.Entities.AdditionalProperties, Tfl.Api.Presentation.Entities",
          "category": "Accessibility",
          "key": "LimitedCapacityLift",
          "sourceSystemKey": "LRAD",
          "value": "No"
         },
         {
          "$type": "Tfl.Api.Presentation.Entities.AdditionalProperties, Tfl.Api.Presentation.Entities",
          "category": "Accessibility",
          "key": "SpecificEntranceRequired",
          "sourceSystemKey": "LRAD",
          "value": "No"
         },
         {
          "$type": "Tfl.Api.Presentation.Entities.AdditionalProperties, Tfl.Api.Presentation.Entities",
          "category": "Accessibility",
          "key": "TaxiRankOutsideStation",
          "sourceSystemKey": "LRAD",
          "value": "Yes"
         },
         {
          "$type": "Tfl.Api.Presentation.Entities.AdditionalProperties, Tfl.Api.Presentation.Entities",
          "category": "Accessibility",
          "key": "Toilet",
          "sourceSystemKey": "LRAD",
          "value": "Yes"
         },
         {
          "$type": "Tfl.Api.Presentation.Entities.AdditionalProperties, Tfl.Api.Presentation.Entities",
          "category": "Accessibility",
          "key": "ToiletNote",
          "sourceSystemKey": "LRAD",
          "value": "(National Rail)"
         },
         {
          "$type": "Tfl.Api.Presentation.Entities.AdditionalProperties, Tfl.Api.Presentation.Entities",
          "category": "NearestPlaces",
          "key": "SourceSystemPlaceId",
          "sourceSystemKey": "StaticObjects",
          "value": "BikePoints_4"
         },
         {
          "$type": "Tfl.Api.Presentation.Entities.AdditionalProperties, Tfl.Api.Presentation.Entities",
          "category": "NearestPlaces",
          "key": "SourceSystemPlaceId",
          "sourceSystemKey": "StaticObjects",
          "value": "BikePoints_14"
         },
         {
          "$type": "Tfl.Api.Presentation.Entities.AdditionalProperties, Tfl.Api.Presentation.Entities",
          "category": "NearestPlaces",
          "key": "SourceSystemPlaceId",
          "sourceSystemKey": "StaticObjects",
          "value": "BikePoints_70"
         },
         {
          "$type": "Tfl.Api.Presentation.Entities.AdditionalProperties, Tfl.Api.Presentation.Entities",
          "category": "NearestPlaces",
          "key": "SourceSystemPlaceId",
          "sourceSystemKey": "StaticObjects",
          "value": "BikePoints_89"
         },
         {
          "$type": "Tfl.Api.Presentation.Entities.AdditionalProperties, Tfl.Api.Presentation.Entities",
          "category": "NearestPlaces",
          "key": "SourceSystemPlaceId",
          "sourceSystemKey": "StaticObjects",
          "value": "BikePoints_431"
         },
         {
          "$type": "Tfl.Api.Presentation.Entities.AdditionalProperties, Tfl.Api.Presentation.Entities",
          "category": "NearestPlaces",
          "key": "SourceSystemPlaceId",
          "sourceSystemKey": "StaticObjects",
          "value": "BikePoints_439"
         },
         {
          "$type": "Tfl.Api.Presentation.Entities.AdditionalProperties, Tfl.Api.Presentation.Entities",
          "category": "NearestPlaces",
          "key": "SourceSystemPlaceId",
          "sourceSystemKey": "StaticObjects",
          "value": "BikePoints_593"
         },
         {
          "$type": "Tfl.Api.Presentation.Entities.AdditionalProperties, Tfl.Api.Presentation.Entities",
          "category": "NearestPlaces",
          "key": "SourceSystemPlaceId",
          "sourceSystemKey": "StaticObjects",
          "value": "BikePoints_793"
         },
         {
          "$type": "Tfl.Api.Presentation.Entities.AdditionalProperties, Tfl.Api.Presentation.Entities",
          "category": "NearestPlaces",
          "key": "SourceSystemPlaceId",
          "sourceSystemKey": "StaticObjects",
          "value": "BikePoints_797"
         },
         {
          "$type": "Tfl.Api.Presentation.Entities.AdditionalProperties, Tfl.Api.Presentation.Entities",
          "category": "NearestPlaces",
          "key": "SourceSystemPlaceId",
          "sourceSystemKey": "StaticObjects",
          "value": "BikePoints_798"
         },
         {
          "$type": "Tfl.Api.Presentation.Entities.AdditionalProperties, Tfl.Api.Presentation.Entities",
          "category": "NearestPlaces",
          "key": "SourceSystemPlaceId",
          "sourceSystemKey": "StaticObjects",
          "value": "BikePoints_804"
         },
         {
          "$type": "Tfl.Api.Presentation.Entities.AdditionalProperties, Tfl.Api.Presentation.Entities",
          "category": "NearestPlaces",
          "key": "SourceSystemPlaceId",
          "sourceSystemKey": "StaticObjects",
          "value": "TaxiRank_5237"
         },
         {
          "$type": "Tfl.Api.Presentation.Entities.AdditionalProperties, Tfl.Api.Presentation.Entities",
          "category": "NearestPlaces",
          "key": "SourceSystemPlaceId",
          "sourceSystemKey": "StaticObjects",
          "value": "TaxiRank_5896"
         },
         {
          "$type": "Tfl.Api.Presentation.Entities.AdditionalProperties, Tfl.Api.Presentation.Entities",
          "category": "NearestPlaces",
          "key": "SourceSystemPlaceId",
          "sourceSystemKey": "StaticObjects",
          "value": "TaxiRank_5708"
         }
        ],
        "children": [
         {
          "$type": "Tfl.Api.Presentation.Entities.StopPoint, Tfl.Api.Presentation.Entities",
          "additionalProperties": [],
          "children": [],
          "commonName": "King's Cross St. Pancras Underground Station",
          "hubNaptanCode": "HUBKGX",
          "icsCode": "1000129",
          "id": "9400ZZLUKSX3",
          "lat": 0,
          "lineGroup": [],
          "lineModeGroups": [],
          "lines": [],
          "lon": 0,
          "modes": [],
          "naptanId": "9400ZZLUKSX3",
          "placeType": "StopPoint",
          "stationNaptan": "940GZZLUKSX",
          "status": true
         },
         {
          "$type": "Tfl.Api.Presentation.Entities.StopPoint, Tfl.Api.Presentation.Entities",
          "additionalProperties": [],
          "children": [],
          "commonName": "King's Cross St. Pancras Underground Station",
          "hubNaptanCode": "HUBKGX",
          "icsCode": "1000129",
          "id": "9400ZZLUKSX4",
          "lat": 0,
          "lineGroup": [],
          "lineModeGroups": [],
          "lines": [],
          "lon": 0,
          "modes": [],
          "naptanId": "9400ZZLUKSX4",
          "placeType": "StopPoint",
          "stationNaptan": "940GZZLUKSX",
          "status": true
         },
         {
          "$type": "Tfl.Api.Presentation.Entities.StopPoint, Tfl.Api.Presentation.Entities",
          "additionalProperties": [],
          "children": [],
          "commonName": "King's Cross St. Pancras Underground Station",
          "hubNaptanCode": "HUBKGX",
          "icsCode": "1000129",
          "id": "9400ZZLUKSX5",
          "lat": 0,
          "lineGroup": [],
          "lineModeGroups": [],
          "lines": [],
          "lon": 0,
          "modes": [],
          "naptanId": "9400ZZLUKSX5",
          "placeType": "StopPoint",
          "stationNaptan": "940GZZLUKSX",
          "status": true
         },
         {
          "$type": "Tfl.Api.Presentation.Entities.StopPoint, Tfl.Api.Presentation.Entities",
          "additionalProperties": [],
          "children": [],
          "commonName": "King's Cross St. Pancras Underground Station",
          "hubNaptanCode": "HUBKGX",
          "icsCode": "1000129",
          "id": "9400ZZLUKSX6",
          "lat": 0,
          "lineGroup": [],
          "lineModeGroups": [],
          "lines": [],
          "lon": 0,
          "modes": [],
          "naptanId": "9400ZZLUKSX6",
          "placeType": "StopPoint",
          "stationNaptan": "940GZZLUKSX",
          "status": true
         },
         {
          "$type": "Tfl.Api.Presentation.Entities.StopPoint, Tfl.Api.Presentation.Entities",
          "additionalProperties": [],
          "children": [],
          "commonName": "King's Cross St. Pancras Underground Station",
          "hubNaptanCode": "HUBKGX",
          "icsCode": "1000129",
          "id": "9400ZZLUKSX7",
          "lat": 0,
          "lineGroup": [],
          "lineModeGroups": [],
          "lines": [],
          "lon": 0,
          "modes": [],
          "naptanId": "9400ZZLUKSX7",
          "placeType": "StopPoint",
          "stationNaptan": "940GZZLUKSX",
          "status": true
         },
         {
          "$type": "Tfl.Api.Presentation.Entities.StopPoint, Tfl.Api.Presentation.Entities",
          "additionalProperties": [],
          "children": [],
          "commonName": "King's Cross St. Pancras Underground Station",
          "hubNaptanCode": "HUBKGX",
          "icsCode": "1000129",
          "id": "9400ZZLUKSX1",
          "lat": 0,
          "lineGroup": [],
          "lineModeGroups": [],
          "lines": [],
          "lon": 0,
          "modes": [],
          "naptanId": "9400ZZLUKSX1",
          "placeType": "StopPoint",
          "stationNaptan": "940GZZLUKSX",
          "status": true
         },
         {
          "$type": "Tfl.Api.Presentation.Entities.StopPoint, Tfl.Api.Presentation.Entities",
          "additionalProperties": [],
          "children": [],
          "commonName": "King's Cross St. Pancras Underground Station",
          "hubNaptanCode": "HUBKGX",
          "icsCode": "1000129",
          "id": "9400ZZLUKSX2",
          "lat": 0,
          "lineGroup": [],
          "lineModeGroups": [],
          "lines": [],
          "lon": 0,
          "modes": [],
          "naptanId": "9400ZZLUKSX2",
          "placeType": "StopPoint",
          "stationNaptan": "940GZZLUKSX",
          "status": true
         }
        ],
        "commonName": "King's Cross St. Pancras Underground Station",
        "hubNaptanCode": "HUBKGX",
        "icsCode": "1000129",
        "id": "940GZZLUKSX",
        "lat": 51.530663,
        "lineGroup": [
         {
          "$type": "Tfl.Api.Presentation.Entities.LineGroup, Tfl.Api.Presentation.Entities",
          "lineIdentifier": [
           "circle",
           "hammersmith-city",
           "metropolitan"
          ],
          "stationAtcoCode": "940GZZLUKSX"
         },
         {
          "$type": "Tfl.Api.Presentation.Entities.LineGroup, Tfl.Api.Presentation.Entities",
          "lineIdentifier": [
           "northern"
          ],
          "stationAtcoCode": "940GZZLUKSX"
         },
         {
          "$type": "Tfl.Api.Presentation.Entities.LineGroup, Tfl.Api.Presentation.Entities",
          "lineIdentifier": [
           "piccadilly"
          ],
          "stationAtcoCode": "940GZZLUKSX"
         },
         {
          "$type": "Tfl.Api.Presentation.Entities.LineGroup, Tfl.Api.Presentation.Entities",
          "lineIdentifier": [
           "victoria"
          ],
          "stationAtcoCode": "940GZZLUKSX"
         }
        ],
        "lineModeGroups": [
         {
          "$type": "Tfl.Api.Presentation.Entities.LineModeGroup, Tfl.Api.Presentation.Entities",
          "lineIdentifier": [
           "circle",
           "hammersmith-city",
           "metropolitan",
           "northern",
           "piccadilly",
           "victoria"
          ],
          "modeName": "tube"
         }
        ],
        "lines": [
         {
          "$type": "Tfl.Api.Presentation.Entities.Identifier, Tfl.Api.Presentation.Entities",
          "crowding": {
           "$type": "Tfl.Api.Presentation.Entities.Crowding, Tfl.Api.Presentation.Entities"
          },
          "id": "circle",
          "name": "Circle",
          "routeType": "Unknown",
          "status": "Unknown",
          "type": "Line",
          "uri": "/Line/circle"
         },
         {
          "$type": "Tfl.Api.Presentation.Entities.Identifier, Tfl.Api.Presentation.Entities",
          "crowding": {
           "$type": "Tfl.Api.Presentation.Entities.Crowding, Tfl.Api.Presentation.Entities"
          },
          "id": "hammersmith-city",
          "name": "Hammersmith & City",
          "routeType": "Unknown",
          "status": "Unknown",
          "type": "Line",
          "uri": "/Line/hammersmith-city"
         },
         {
          "$type": "Tfl.Api.Presentation.Entities.Identifier, Tfl.Api.Presentation.Entities",
          "crowding": {
           "$type": "Tfl.Api.Presentation.Entities.Crowding, Tfl.Api.Presentation.Entities"
          },
          "id": "metropolitan",
          "name": "Metropolitan",
          "routeType": "Unknown",
          "status": "Unknown",
          "type": "Line",
          "uri": "/Line/metropolitan"
         },
         {
          "$type": "Tfl.Api.Presentation.Entities.Identifier, Tfl.Api.Presentation.Entities",
          "crowding": {
           "$type": "Tfl.Api.Presentation.Entities.Crowding, Tfl.Api.Presentation.Entities"
          },
          "id": "northern",
          "name": "Northern",
          "routeType": "Unknown",
          "status": "Unknown",
          "type": "Line",
          "uri": "/Line/northern"
         },
         {
          "$type": "Tfl.Api.Presentation.Entities.Identifier, Tfl.Api.Presentation.Entities",
          "crowding": {
           "$type": "Tfl.Api.Presentation.Entities.Crowding, Tfl.Api.Presentation.Entities"
          },
          "id": "piccadilly",
          "name": "Piccadilly",
          "routeType": "Unknown",
          "status": "Unknown",
          "type": "Line",
          "uri": "/Line/piccadilly"
         },
         {
          "$type": "Tfl.Api.Presentation.Entities.Identifier, Tfl.Api.Presentation.Entities",
          "crowding": {
           "$type": "Tfl.Api.Presentation.Entities.Crowding, Tfl.Api.Presentation.Entities"
          },
          "id": "victoria",
          "name": "Victoria",
          "routeType": "Unknown",
          "status": "Unknown",
          "type": "Line",
          "uri": "/Line/victoria"
         }
        ],
        "lon": -0.123194,
        "modes": [
         "tube"
        ],
        "naptanId": "940GZZLUKSX",
        "placeType": "StopPoint",
        "stationNaptan": "940GZZLUKSX",
        "status": true,
        "stopType": "NaptanMetroStation"
       },
       {
        "$type": "Tfl.Api.Presentation.Entities.StopPoint, Tfl.Api.Presentation.Entities",
        "additionalProperties": [
         {
          "$type": "Tfl.Api.Presentation.Entities.AdditionalProperties, Tfl.Api.Presentation.Entities",
          "category": "ServiceInfo",
          "key": "Night",
          "sourceSystemKey": "TransXchangeETL",
          "value": "yes"
         },
         {
          "$type": "Tfl.Api.Presentation.Entities.AdditionalProperties, Tfl.Api.Presentation.Entities",
          "category": "Facility",
          "key": "Lifts",
          "sourceSystemKey": "StaticObjects",
          "value": "0"
         },
         {
          "$type": "Tfl.Api.Presentation.Entities.AdditionalProperties, Tfl.Api.Presentation.Entities",
          "category": "Address",
          "key": "PhoneNo",
          "sourceSystemKey": "StaticObjects",
          "value": "0845 330 9880"
         },
         {
          "$type": "Tfl.Api.Presentation.Entities.AdditionalProperties, Tfl.Api.Presentation.Entities",
          "category": "Facility",
          "key": "WiFi",
          "sourceSystemKey": "StaticObjects",
          "value": "yes"
         },
         {
          "$type": "Tfl.Api.Presentation.Entities.AdditionalProperties, Tfl.Api.Presentation.Entities",
          "category": "Geo",
          "key": "Zone",
          "sourceSystemKey": "StaticObjects",
          "value": "1"
         },
         {
          "$type": "Tfl.Api.Presentation.Entities.AdditionalProperties, Tfl.Api.Presentation.Entities",
          "category": "Facility",
          "key": "Bridge",
          "sourceSystemKey": "StaticObjects",
          "value": "no"
         },
         {
          "$type": "Tfl.Api.Presentation.Entities.AdditionalProperties, Tfl.Api.Presentation.Entities",
          "category": "Facility",
          "key": "Gates",
          "sourceSystemKey": "StaticObjects",
          "value": "30"
         },
         {
          "$type": "Tfl.Api.Presentation.Entities.AdditionalProperties, Tfl.Api.Presentation.Entities",
          "category": "Facility",
          "key": "Payphones",
          "sourceSystemKey": "StaticObjects",
          "value": "3"
         },
         {
          "$type": "Tfl.Api.Presentation.Entities.AdditionalProperties, Tfl.Api.Presentation.Entities",
          "category": "Facility",
          "key": "Photo Booths",
          "sourceSystemKey": "StaticObjects",
          "value": "0"
         },
         {
          "$type": "Tfl.Api.Presentation.Entities.AdditionalProperties, Tfl.Api.Presentation.Entities",
          "category": "Facility",
          "key": "Cash Machines",
          "sourceSystemKey": "StaticObjects",
          "value": "3"
         },
         {
          "$type": "Tfl.Api.Presentation.Entities.AdditionalProperties, Tfl.Api.Presentation.Entities",
          "category": "Facility",
          "key": "Toilets",
          "sourceSystemKey": "StaticObjects",
          "value": "no"
         },
         {
          "$type": "Tfl.Api.Presentation.Entities.AdditionalProperties, Tfl.Api.Presentation.Entities",
          "category": "Facility",
          "key": "Car park",
          "sourceSystemKey": "StaticObjects",
          "value": "no"
         },
         {
          "$type": "Tfl.Api.Presentation.Entities.AdditionalProperties, Tfl.Api.Presentation.Entities",
          "category": "Facility",
          "key": "Escalators",
          "sourceSystemKey": "StaticObjects",
          "value": "14"
         },
         {
          "$type": "Tfl.Api.Presentation.Entities.AdditionalProperties, Tfl.Api.Presentation.Entities",
          "category": "Facility",
          "key": "Euro Cash Machines",
          "sourceSystemKey": "StaticObjects",
          "value": "yes"
         },
         {
          "$type": "Tfl.Api.Presentation.Entities.AdditionalProperties, Tfl.Api.Presentation.Entities",
          "category": "Facility",
          "key": "Ticket Halls",
          "sourceSystemKey": "StaticObjects",
          "value": "2"
         },
         {
          "$type": "Tfl.Api.Presentation.Entities.AdditionalProperties, Tfl.Api.Presentation.Entities",
          "category": "Address",
          "key": "Address",
          "sourceSystemKey": "StaticObjects",
          "value": "Oxford Circus Station,London Underground Ltd.,Oxford St,London,W1B 3AG"
         },
         {
          "$type": "Tfl.Api.Presentation.Entities.AdditionalProperties, Tfl.Api.Presentation.Entities",
          "category": "Facility",
          "key": "Other Facilities",
          "sourceSystemKey": "StaticObjects",
          "value": "canopies over platform, routeways platform to ticket hall."
         },
         {
          "$type": "Tfl.Api.Presentation.Entities.AdditionalProperties, Tfl.Api.Presentation.Entities",
          "category": "Facility",
          "key": "Waiting Room",
          "sourceSystemKey": "StaticObjects",
          "value": "no"
         },
         {
          "$type": "Tfl.Api.Presentation.Entities.AdditionalProperties, Tfl.Api.Presentation.Entities",
          "category": "Facility",
          "key": "Help Points",
          "sourceSystemKey": "StaticObjects",
          "value": "18 on platforms, 0 in ticket halls, 18 elsewhere"
         },
         {
          "$type": "Tfl.Api.Presentation.Entities.AdditionalProperties, Tfl.Api.Presentation.Entities",
          "category": "Accessibility",
          "key": "AccessViaLift",
          "sourceSystemKey": "LRAD",
          "value": "No"
         },
         {
          "$type": "Tfl.Api.Presentation.Entities.AdditionalProperties, Tfl.Api.Presentation.Entities",
          "category": "Accessibility",
          "key": "BlueBadgeCarParkSpaces",
          "sourceSystemKey": "LRAD",
          "value": "0"
         },
         {
          "$type": "Tfl.Api.Presentation.Entities.AdditionalProperties, Tfl.Api.Presentation.Entities",
          "category": "Accessibility",
          "key": "LimitedCapacityLift",
          "sourceSystemKey": "LRAD",
          "value": "No"
         },
         {
          "$type": "Tfl.Api.Presentation.Entities.AdditionalProperties, Tfl.Api.Presentation.Entities",
          "category": "Accessibility",
          "key": "TaxiRankOutsideStation",
          "sourceSystemKey": "LRAD",
          "value": "No"
         },
         {
          "$type": "Tfl.Api.Presentation.Entities.AdditionalProperties, Tfl.Api.Presentation.Entities",
          "category": "Accessibility",
          "key": "Toilet",
          "sourceSystemKey": "LRAD",
          "value": "No"
         },
         {
          "$type": "Tfl.Api.Presentation.Entities.AdditionalProperties, Tfl.Api.Presentation.Entities",
          "category": "NearestPlaces",
          "key": "SourceSystemPlaceId",
          "sourceSystemKey": "StaticObjects",
          "value": "BikePoints_260"
         },
         {
          "$type": "Tfl.Api.Presentation.Entities.AdditionalProperties, Tfl.Api.Presentation.Entities",
          "category": "NearestPlaces",
          "key": "SourceSystemPlaceId",
          "sourceSystemKey": "StaticObjects",
          "value": "BikePoints_301"
         },
         {
          "$type": "Tfl.Api.Presentation.Entities.AdditionalProperties, Tfl.Api.Presentation.Entities",
          "category": "NearestPlaces",
          "key": "SourceSystemPlaceId",
          "sourceSystemKey": "StaticObjects",
          "value": "BikePoints_6"
         },
         {
          "$type": "Tfl.Api.Presentation.Entities.AdditionalProperties, Tfl.Api.Presentation.Entities",
          "category": "NearestPlaces",
          "key": "SourceSystemPlaceId",
          "sourceSystemKey": "StaticObjects",
          "value": "BikePoints_106"
         },
         {
          "$type": "Tfl.Api.Presentation.Entities.AdditionalProperties, Tfl.Api.Presentation.Entities",
          "category": "NearestPlaces",
          "key": "SourceSystemPlaceId",
          "sourceSystemKey": "StaticObjects",
          "value": "BikePoints_116"
         },
         {
          "$type": "Tfl.Api.Presentation.Entities.AdditionalProperties, Tfl.Api.Presentation.Entities",
          "category": "NearestPlaces",
          "key": "SourceSystemPlaceId",
          "sourceSystemKey": "StaticObjects",
          "value": "BikePoints_141"
         },
         {
          "$type": "Tfl.Api.Presentation.Entities.AdditionalProperties, Tfl.Api.Presentation.Entities",
          "category": "NearestPlaces",
          "key": "SourceSystemPlaceId",
          "sourceSystemKey": "StaticObjects",
          "value": "BikePoints_159"
         },
         {
          "$type": "Tfl.Api.Presentation.Entities.AdditionalProperties, Tfl.Api.Presentation.Entities",
          "category": "NearestPlaces",
          "key": "SourceSystemPlaceId",
          "sourceSystemKey": "StaticObjects",
          "value": "BikePoints_311"
         },
         {
          "$type": "Tfl.Api.Presentation.Entities.AdditionalProperties, Tfl.Api.Presentation.Entities",
          "category": "NearestPlaces",
          "key": "SourceSystemPlaceId",
          "sourceSystemKey": "StaticObjects",
          "value": "BikePoints_313"
         },
         {
          "$type": "Tfl.Api.Presentation.Entities.AdditionalProperties, Tfl.Api.Presentation.Entities",
          "category": "NearestPlaces",
          "key": "SourceSystemPlaceId",
          "sourceSystemKey": "StaticObjects",
          "value": "BikePoints_349"
         },
         {
          "$type": "Tfl.Api.Presentation.Entities.AdditionalProperties, Tfl.Api.Presentation.Entities",
          "category": "NearestPlaces",
          "key": "SourceSystemPlaceId",
          "sourceSystemKey": "StaticObjects",
          "value": "TaxiRank_5683"
         },
         {
          "$type": "Tfl.Api.Presentation.Entities.AdditionalProperties, Tfl.Api.Presentation.Entities",
          "category": "NearestPlaces",
          "key": "SourceSystemPlaceId",
          "sourceSystemKey": "StaticObjects",
          "value": "TaxiRank_5576"
         },
         {
          "$type": "Tfl.Api.Presentation.Entities.AdditionalProperties, Tfl.Api.Presentation.Entities",
          "category": "NearestPlaces",
          "key": "SourceSystemPlaceId",
          "sourceSystemKey": "StaticObjects",
          "value": "TaxiRank_5379"
         },
         {
          "$type": "Tfl.Api.Presentation.Entities.AdditionalProperties, Tfl.Api.Presentation.Entities",
          "category": "NearestPlaces",
          "key": "SourceSystemPlaceId",
          "sourceSystemKey": "StaticObjects",
          "value": "TaxiRank_4334"
         },
         {
          "$type": "Tfl.Api.Presentation.Entities.AdditionalProperties, Tfl.Api.Presentation.Entities",
          "category": "NearestPlaces",
          "key": "SourceSystemPlaceId",
          "sourceSystemKey": "StaticObjects",
          "value": "TaxiRank_5580"
         },
         {
          "$type": "Tfl.Api.Presentation.Entities.AdditionalProperties, Tfl.Api.Presentation.Entities",
          "category": "NearestPlaces",
          "key": "SourceSystemPlaceId",
          "sourceSystemKey": "StaticObjects",
          "value": "TaxiRank_5500"
         },
         {
          "$type": "Tfl.Api.Presentation.Entities.AdditionalProperties, Tfl.Api.Presentation.Entities",
          "category": "NearestPlaces",
          "key": "SourceSystemPlaceId",
          "sourceSystemKey": "StaticObjects",
          "value": "TaxiRank_4787"
         },
         {
          "$type": "Tfl.Api.Presentation.Entities.AdditionalProperties, Tfl.Api.Presentation.Entities",
          "category": "NearestPlaces",
          "key": "SourceSystemPlaceId",
          "sourceSystemKey": "StaticObjects",
          "value": "TaxiRank_5866"
         },
         {
          "$type": "Tfl.Api.Presentation.Entities.AdditionalProperties, Tfl.Api.Presentation.Entities",
          "category": "NearestPlaces",
          "key": "SourceSystemPlaceId",
          "sourceSystemKey": "StaticObjects",
          "value": "TaxiRank_5677"
         },
         {
          "$type": "Tfl.Api.Presentation.Entities.AdditionalProperties, Tfl.Api.Presentation.Entities",
          "category": "NearestPlaces",
          "key": "SourceSystemPlaceId",
          "sourceSystemKey": "StaticObjects",
          "value": "TaxiRank_5074"
         },
         {
          "$type": "Tfl.Api.Presentation.Entities.AdditionalProperties, Tfl.Api.Presentation.Entities",
          "category": "NearestPlaces",
          "key": "SourceSystemPlaceId",
          "sourceSystemKey": "StaticObjects",
          "value": "TaxiRank_5195"
         },
         {
          "$type": "Tfl.Api.Presentation.Entities.AdditionalProperties, Tfl.Api.Presentation.Entities",
          "category": "NearestPlaces",
          "key": "SourceSystemPlaceId",
          "sourceSystemKey": "StaticObjects",
          "value": "TaxiRank_5660"
         },
         {
          "$type": "Tfl.Api.Presentation.Entities.AdditionalProperties, Tfl.Api.Presentation.Entities",
          "category": "NearestPlaces",
          "key": "SourceSystemPlaceId",
          "sourceSystemKey": "StaticObjects",
          "value": "TaxiRank_5015"
         },
         {
          "$type": "Tfl.Api.Presentation.Entities.AdditionalProperties, Tfl.Api.Presentation.Entities",
          "category": "NearestPlaces",
          "key": "SourceSystemPlaceId",
          "sourceSystemKey": "StaticObjects",
          "value": "TaxiRank_4603"
         },
         {
          "$type": "Tfl.Api.Presentation.Entities.AdditionalProperties, Tfl.Api.Presentation.Entities",
          "category": "NearestPlaces",
          "key": "SourceSystemPlaceId",
          "sourceSystemKey": "StaticObjects",
          "value": "TaxiRank_5627"
         },
         {
          "$type": "Tfl.Api.Presentation.Entities.AdditionalProperties, Tfl.Api.Presentation.Entities",
          "category": "NearestPlaces",
          "key": "SourceSystemPlaceId",
          "sourceSystemKey": "StaticObjects",
          "value": "TaxiRank_5065"
         },
         {
          "$type": "Tfl.Api.Presentation.Entities.AdditionalProperties, Tfl.Api.Presentation.Entities",
          "category": "NearestPlaces",
          "key": "SourceSystemPlaceId",
          "sourceSystemKey": "StaticObjects",
          "value": "TaxiRank_5816"
         },
         {
          "$type": "Tfl.Api.Presentation.Entities.AdditionalProperties, Tfl.Api.Presentation.Entities",
          "category": "NearestPlaces",
          "key": "SourceSystemPlaceId",
          "sourceSystemKey": "StaticObjects",
          "value": "TaxiRank_5611"
         }
        ],
        "children": [
         {
          "$type": "Tfl.Api.Presentation.Entities.StopPoint, Tfl.Api.Presentation.Entities",
          "additionalProperties": [],
          "children": [],
          "commonName": "Oxford Circus Underground Station",
          "icsCode": "1000173",
          "id": "9400ZZLUOXC3",
          "lat": 0,
          "lineGroup": [],
          "lineModeGroups": [],
          "lines": [],
          "lon": 0,
          "modes": [],
          "naptanId": "9400ZZLUOXC3",
          "placeType": "StopPoint",
          "stationNaptan": "940GZZLUOXC",
          "status": true
         },
         {
          "$type": "Tfl.Api.Presentation.Entities.StopPoint, Tfl.Api.Presentation.Entities",
          "additionalProperties": [],
          "children": [],
          "commonName": "Oxford Circus Underground Station",
          "icsCode": "1000173",
          "id": "9400ZZLUOXC4",
          "lat": 0,
          "lineGroup": [],
          "lineModeGroups": [],
          "lines": [],
          "lon": 0,
          "modes": [],
          "naptanId": "9400ZZLUOXC4",
          "placeType": "StopPoint",
          "stationNaptan": "940GZZLUOXC",
          "status": true
         },
         {
          "$type": "Tfl.Api.Presentation.Entities.StopPoint, Tfl.Api.Presentation.Entities",
          "additionalProperties": [],
          "children": [],
          "commonName": "Oxford Circus Underground Station",
          "icsCode": "1000173",
          "id": "9400ZZLUOXC1",
          "lat": 0,
          "lineGroup": [],
          "lineModeGroups": [],
          "lines": [],
          "lon": 0,
          "modes": [],
          "naptanId": "9400ZZLUOXC1",
          "placeType": "StopPoint",
          "stationNaptan": "940GZZLUOXC",
          "status": true
         },
         {
          "$type": "Tfl.Api.Presentation.Entities.StopPoint, Tfl.Api.Presentation.Entities",
          "additionalProperties": [],
          "children": [],
          "commonName": "Oxford Circus Underground Station",
          "icsCode": "1000173",
          "id": "9400ZZLUOXC5",
          "lat": 0,
          "lineGroup": [],
          "lineModeGroups": [],
          "lines": [],
          "lon": 0,
          "modes": [],
          "naptanId": "9400ZZLUOXC5",
          "placeType": "StopPoint",
          "stationNaptan": "940GZZLUOXC",
          "status": true
         },
         {
          "$type": "Tfl.Api.Presentation.Entities.StopPoint, Tfl.Api.Presentation.Entities",
          "additionalProperties": [],
          "children": [],
          "commonName": "Oxford Circus Underground Station",
          "icsCode": "1000173",
          "id": "9400ZZLUOXC2",
          "lat": 0,
          "lineGroup": [],
          "lineModeGroups": [],
          "lines": [],
          "lon": 0,
          "modes": [],
          "naptanId": "9400ZZLUOXC2",
          "placeType": "StopPoint",
          "stationNaptan": "940GZZLUOXC",
          "status": true
         },
         {
          "$type": "Tfl.Api.Presentation.Entities.StopPoint, Tfl.Api.Presentation.Entities",
          "additionalProperties": [],
          "children": [],
          "commonName": "Oxford Circus Underground Station",
          "icsCode": "1000173",
          "id": "9400ZZLUOXC6",
          "lat": 0,
          "lineGroup": [],
          "lineModeGroups": [],
          "lines": [],
          "lon": 0,
          "modes": [],
          "naptanId": "9400ZZLUOXC6",
          "placeType": "StopPoint",
          "stationNaptan": "940GZZLUOXC",
          "status": true
         }
        ],
        "commonName": "Oxford Circus Underground Station",
        "icsCode": "1000173",
        "id": "940GZZLUOXC",
        "lat": 51.515224,
        "lineGroup": [
         {
          "$type": "Tfl.Api.Presentation.Entities.LineGroup, Tfl.Api.Presentation.Entities",
          "lineIdentifier": [
           "113",
           "n137"
          ],
          "naptanIdReference": "490000173Z",
          "stationAtcoCode": "490G00173OQ"
         },
         {
          "$type": "Tfl.Api.Presentation.Entities.LineGroup, Tfl.Api.Presentation.Entities",
          "lineIdentifier": [
           "12",
           "159",
           "22",
           "88",
           "94",
           "n15",
           "n22",
           "n3"
          ],
          "naptanIdReference": "490000173RC",
          "stationAtcoCode": "490G00173RG"
         },
         {
          "$type": "Tfl.Api.Presentation.Entities.LineGroup, Tfl.Api.Presentation.Entities",
          "lineIdentifier": [
           "139",
           "159",
           "22",
           "94",
           "n109",
           "n113",
           "n136",
           "n15",
           "n18",
           "n22"
          ],
          "naptanIdReference": "490000173RG",
          "stationAtcoCode": "490G00173RG"
         },
         {
          "$type": "Tfl.Api.Presentation.Entities.LineGroup, Tfl.Api.Presentation.Entities",
          "lineIdentifier": [
           "bakerloo"
          ],
          "stationAtcoCode": "940GZZLUOXC"
         },
         {
          "$type": "Tfl.Api.Presentation.Entities.LineGroup, Tfl.Api.Presentation.Entities",
          "lineIdentifier": [
           "central"
          ],
          "stationAtcoCode": "940GZZLUOXC"
         },
         {
          "$type": "Tfl.Api.Presentation.Entities.LineGroup, Tfl.Api.Presentation.Entities",
          "lineIdentifier": [
           "victoria"
          ],
          "stationAtcoCode": "940GZZLUOXC"
         }
        ],
        "lineModeGroups": [
         {
          "$type": "Tfl.Api.Presentation.Entities.LineModeGroup, Tfl.Api.Presentation.Entities",
          "lineIdentifier": [
           "113",
           "12",
           "139",
           "159",
           "22",
           "88",
           "94",
           "n109",
           "n113",
           "n136",
           "n137",
           "n15",
           "n18",
           "n22",
           "n3"
          ],
          "modeName": "bus"
         },
         {
          "$type": "Tfl.Api.Presentation.Entities.LineModeGroup, Tfl.Api.Presentation.Entities",
          "lineIdentifier": [
           "bakerloo",
           "central",
           "victoria"
          ],
          "modeName": "tube"
         }
        ],
        "lines": [
         {
          "$type": "Tfl.Api.Presentation.Entities.Identifier, Tfl.Api.Presentation.Entities",
          "crowding": {
           "$type": "Tfl.Api.Presentation.Entities.Crowding, Tfl.Api.Presentation.Entities"
          },
          "id": "113",
          "name": "113",
          "routeType": "Unknown",
          "status": "Unknown",
          "type": "Line",
          "uri": "/Line/113"
         },
         {
          "$type": "Tfl.Api.Presentation.Entities.Identifier, Tfl.Api.Presentation.Entities",
          "crowding": {
           "$type": "Tfl.Api.Presentation.Entities.Crowding, Tfl.Api.Presentation.Entities"
          },
          "id": "12",
          "name": "12",
          "routeType": "Unknown",
          "status": "Unknown",
          "type": "Line",
          "uri": "/Line/12"
         },
         {
          "$type": "Tfl.Api.Presentation.Entities.Identifier, Tfl.Api.Presentation.Entities",
          "crowding": {
           "$type": "Tfl.Api.Presentation.Entities.Crowding, Tfl.Api.Presentation.Entities"
          },
          "id": "139",
          "name": "139",
          "routeType": "Unknown",
          "status": "Unknown",
          "type": "Line",
          "uri": "/Line/139"
         },
         {
          "$type": "Tfl.Api.Presentation.Entities.Identifier, Tfl.Api.Presentation.Entities",
          "crowding": {
           "$type": "Tfl.Api.Presentation.Entities.Crowding, Tfl.Api.Presentation.Entities"
          },
          "id": "159",
          "name": "159",
          "routeType": "Unknown",
          "status": "Unknown",
          "type": "Line",
          "uri": "/Line/159"
         },
         {
          "$type": "Tfl.Api.Presentation.Entities.Identifier, Tfl.Api.Presentation.Entities",
          "crowding": {
           "$type": "Tfl.Api.Presentation.Entities.Crowding, Tfl.Api.Presentation.Entities"
          },
          "id": "22",
          "name": "22",
          "routeType": "Unknown",
          "status": "Unknown",
          "type": "Line",
          "uri": "/Line/22"
         },
         {
          "$type": "Tfl.Api.Presentation.Entities.Identifier, Tfl.Api.Presentation.Entities",
          "crowding": {
           "$type": "Tfl.Api.Presentation.Entities.Crowding, Tfl.Api.Presentation.Entities"
          },
          "id": "88",
          "name": "88",
          "routeType": "Unknown",
          "status": "Unknown",
          "type": "Line",
          "uri": "/Line/88"
         },
         {
          "$type": "Tfl.Api.Presentation.Entities.Identifier, Tfl.Api.Presentation.Entities",
          "crowding": {
           "$type": "Tfl.Api.Presentation.Entities.Crowding, Tfl.Api.Presentation.Entities"
          },
          "id": "94",
          "name": "94",
          "routeType": "Unknown",
          "status": "Unknown",
          "type": "Line",
          "uri": "/Line/94"
         },
         {
          "$type": "Tfl.Api.Presentation.Entities.Identifier, Tfl.Api.Presentation.Entities",
          "crowding": {
           "$type": "Tfl.Api.Presentation.Entities.Crowding, Tfl.Api.Presentation.Entities"
          },
          "id": "bakerloo",
          "name": "Bakerloo",
          "routeType": "Unknown",
          "status": "Unknown",
          "type": "Line",
          "uri": "/Line/bakerloo"
         },
         {
          "$type": "Tfl.Api.Presentation.Entities.Identifier, Tfl.Api.Presentation.Entities",
          "crowding": {
           "$type": "Tfl.Api.Presentation.Entities.Crowding, Tfl.Api.Presentation.Entities"
          },
          "id": "central",
          "name": "Central",
          "routeType": "Unknown",
          "status": "Unknown",
          "type": "Line",
          "uri": "/Line/central"
         },
         {
          "$type": "Tfl.Api.Presentation.Entities.Identifier, Tfl.Api.Presentation.Entities",
          "crowding": {
           "$type": "Tfl.Api.Presentation.Entities.Crowding, Tfl.Api.Presentation.Entities"
          },
          "id": "n109",
          "name": "N109",
          "routeType": "Unknown",
          "status": "Unknown",
          "type": "Line",
          "uri": "/Line/n109"
         },
         {
          "$type": "Tfl.Api.Presentation.Entities.Identifier, Tfl.Api.Presentation.Entities",
          "crowding": {
           "$type": "Tfl.Api.Presentation.Entities.Crowding, Tfl.Api.Presentation.Entities"
          },
          "id": "n113",
          "name": "N113",
          "routeType": "Unknown",
          "status": "Unknown",
          "type": "Line",
          "uri": "/Line/n113"
         },
         {
          "$type": "Tfl.Api.Presentation.Entities.Identifier, Tfl.Api.Presentation.Entities",
          "crowding": {
           "$type": "Tfl.Api.Presentation.Entities.Crowding, Tfl.Api.Presentation.Entities"
          },
          "id": "n136",
          "name": "N136",
          "routeType": "Unknown",
          "status": "Unknown",
          "type": "Line",
          "uri": "/Line/n136"
         },
         {
          "$type": "Tfl.Api.Presentation.Entities.Identifier, Tfl.Api.Presentation.Entities",
          "crowding": {
           "$type": "Tfl.Api.Presentation.Entities.Crowding, Tfl.Api.Presentation.Entities"
          },
          "id": "n137",
          "name": "N137",
          "routeType": "Unknown",
          "status": "Unknown",
          "type": "Line",
          "uri": "/Line/n137"
         },
         {
          "$type": "Tfl.Api.Presentation.Entities.Identifier, Tfl.Api.Presentation.Entities",
          "crowding": {
           "$type": "Tfl.Api.Presentation.Entities.Crowding, Tfl.Api.Presentation.Entities"
          },
          "id": "n15",
          "name": "N15",
          "routeType": "Unknown",
          "status": "Unknown",
          "type": "Line",
          "uri": "/Line/n15"
         },
         {
          "$type": "Tfl.Api.Presentation.Entities.Identifier, Tfl.Api.Presentation.Entities",
          "crowding": {
           "$type": "Tfl.Api.Presentation.Entities.Crowding, Tfl.Api.Presentation.Entities"
          },
          "id": "n18",
          "name": "N18",
          "routeType": "Unknown",
          "status": "Unknown",
          "type": "Line",
          "uri": "/Line/n18"
         },
         {
          "$type": "Tfl.Api.Presentation.Entities.Identifier, Tfl.Api.Presentation.Entities",
          "crowding": {
           "$type": "Tfl.Api.Presentation.Entities.Crowding, Tfl.Api.Presentation.Entities"
          },
          "id": "n22",
          "name": "N22",
          "routeType": "Unknown",
          "status": "Unknown",
          "type": "Line",
          "uri": "/Line/n22"
         },
         {
          "$type": "Tfl.Api.Presentation.Entities.Identifier, Tfl.Api.Presentation.Entities",
          "crowding": {
           "$type": "Tfl.Api.Presentation.Entities.Crowding, Tfl.Api.Presentation.Entities"
          },
          "id": "n3",
          "name": "N3",
          "routeType": "Unknown",
          "status": "Unknown",
          "type": "Line",
          "uri": "/Line/n3"
         },
         {
          "$type": "Tfl.Api.Presentation.Entities.Identifier, Tfl.Api.Presentation.Entities",
          "crowding": {
           "$type": "Tfl.Api.Presentation.Entities.Crowding, Tfl.Api.Presentation.Entities"
          },
          "id": "victoria",
          "name": "Victoria",
          "routeType": "Unknown",
          "status": "Unknown",
          "type": "Line",
          "uri": "/Line/victoria"
         }
        ],
        "lon": -0.141903,
        "modes": [
         "bus",
         "tube"
        ],
        "naptanId": "940GZZLUOXC",
        "placeType": "StopPoint",
        "stationNaptan": "940GZZLUOXC",
        "status": true,
        "stopType": "NaptanMetroStation"
       },
       {
        "$type": "Tfl.Api.Presentation.Entities.StopPoint, Tfl.Api.Presentation.Entities",
        "additionalProperties": [
         {
          "$type": "Tfl.Api.Presentation.Entities.AdditionalProperties, Tfl.Api.Presentation.Entities",
          "category": "ServiceInfo",
          "key": "Night",
          "sourceSystemKey": "TransXchangeETL",
          "value": "yes"
         },
         {
          "$type": "Tfl.Api.Presentation.Entities.AdditionalProperties, Tfl.Api.Presentation.Entities",
          "category": "Facility",
          "key": "Cash Machines",
          "sourceSystemKey": "StaticObjects",
          "value": "0"
         },
         {
          "$type": "Tfl.Api.Presentation.Entities.AdditionalProperties, Tfl.Api.Presentation.Entities",
          "category": "Facility",
          "key": "Gates",
          "sourceSystemKey": "StaticObjects",
          "value": "7"
         },
         {
          "$type": "Tfl.Api.Presentation.Entities.AdditionalProperties, Tfl.Api.Presentation.Entities",
          "category": "Facility",
          "key": "Help Points",
          "sourceSystemKey": "StaticObjects",
          "value": "4 on platforms, 0 in ticket halls, 1 elsewhere"
         },
         {
          "$type": "Tfl.Api.Presentation.Entities.AdditionalProperties, Tfl.Api.Presentation.Entities",
          "category": "Facility",
          "key": "Car park",
          "sourceSystemKey": "StaticObjects",
          "value": "no"
         },
         {
          "$type": "Tfl.Api.Presentation.Entities.AdditionalProperties, Tfl.Api.Presentation.Entities",
          "category": "Facility",
          "key": "Lifts",
          "sourceSystemKey": "StaticObjects",
          "value": "0"
         },
         {
          "$type": "Tfl.Api.Presentation.Entities.AdditionalProperties, Tfl.Api.Presentation.Entities",
          "category": "Address",
          "key": "Address",
          "sourceSystemKey": "StaticObjects",
          "value": "Pimlico Station,London Underground Ltd.,Bessborough St,London,SW1V 2JA"
         },
         {
          "$type": "Tfl.Api.Presentation.Entities.AdditionalProperties, Tfl.Api.Presentation.Entities",
          "category": "Address",
          "key": "PhoneNo",
          "sourceSystemKey": "StaticObjects",
          "value": "0845 330 9880"
         },
         {
          "$type": "Tfl.Api.Presentation.Entities.AdditionalProperties, Tfl.Api.Presentation.Entities",
          "category": "Facility",
          "key": "Photo Booths",
          "sourceSystemKey": "StaticObjects",
          "value": "0"
         },
         {
          "$type": "Tfl.Api.Presentation.Entities.AdditionalProperties, Tfl.Api.Presentation.Entities",
          "category": "Facility",
          "key": "Other Facilities",
          "sourceSystemKey": "StaticObjects",
          "value": "routeways platform to ticket hall."
         },
         {
          "$type": "Tfl.Api.Presentation.Entities.AdditionalProperties, Tfl.Api.Presentation.Entities",
          "category": "Facility",
          "key": "Payphones",
          "sourceSystemKey": "StaticObjects",
          "value": "1"
         },
         {
          "$type": "Tfl.Api.Presentation.Entities.AdditionalProperties, Tfl.Api.Presentation.Entities",
          "category": "Facility",
          "key": "Toilets",
          "sourceSystemKey": "StaticObjects",
          "value": "no"
         },
         {
          "$type": "Tfl.Api.Presentation.Entities.AdditionalProperties, Tfl.Api.Presentation.Entities",
          "category": "Facility",
          "key": "Bridge",
          "sourceSystemKey": "StaticObjects",
          "value": "no"
         },
         {
          "$type": "Tfl.Api.Presentation.Entities.AdditionalProperties, Tfl.Api.Presentation.Entities",
          "category": "Facility",
          "key": "Ticket Halls",
          "sourceSystemKey": "StaticObjects",
          "value": "1"
         },
         {
          "$type": "Tfl.Api.Presentation.Entities.AdditionalProperties, Tfl.Api.Presentation.Entities",
          "category": "Facility",
          "key": "WiFi",
          "sourceSystemKey": "StaticObjects",
          "value": "yes"
         },
         {
          "$type": "Tfl.Api.Presentation.Entities.AdditionalProperties, Tfl.Api.Presentation.Entities",
          "category": "Geo",
          "key": "Zone",
          "sourceSystemKey": "StaticObjects",
          "value": "1"
         },
         {
          "$type": "Tfl.Api.Presentation.Entities.AdditionalProperties, Tfl.Api.Presentation.Entities",
          "category": "Facility",
          "key": "Escalators",
          "sourceSystemKey": "StaticObjects",
          "value": "2"
         },
         {
          "$type": "Tfl.Api.Presentation.Entities.AdditionalProperties, Tfl.Api.Presentation.Entities",
          "category": "Facility",
          "key": "Waiting Room",
          "sourceSystemKey": "StaticObjects",
          "value": "no"
         },
         {
          "$type": "Tfl.Api.Presentation.Entities.AdditionalProperties, Tfl.Api.Presentation.Entities",
          "category": "NearestPlaces",
          "key": "SourceSystemPlaceId",
          "sourceSystemKey": "StaticObjects",
          "value": "BikePoints_267"
         },
         {
          "$type": "Tfl.Api.Presentation.Entities.AdditionalProperties, Tfl.Api.Presentation.Entities",
          "category": "NearestPlaces",
          "key": "SourceSystemPlaceId",
          "sourceSystemKey": "StaticObjects",
          "value": "BikePoints_294"
         },
         {
          "$type": "Tfl.Api.Presentation.Entities.AdditionalProperties, Tfl.Api.Presentation.Entities",
          "category": "NearestPlaces",
          "key": "SourceSystemPlaceId",
          "sourceSystemKey": "StaticObjects",
          "value": "BikePoints_146"
         },
         {
          "$type": "Tfl.Api.Presentation.Entities.AdditionalProperties, Tfl.Api.Presentation.Entities",
          "category": "NearestPlaces",
          "key": "SourceSystemPlaceId",
          "sourceSystemKey": "StaticObjects",
          "value": "BikePoints_148"
         },
         {
          "$type": "Tfl.Api.Presentation.Entities.AdditionalProperties, Tfl.Api.Presentation.Entities",
          "category": "NearestPlaces",
          "key": "SourceSystemPlaceId",
          "sourceSystemKey": "StaticObjects",
          "value": "BikePoints_185"
         },
         {
          "$type": "Tfl.Api.Presentation.Entities.AdditionalProperties, Tfl.Api.Presentation.Entities",
          "category": "NearestPlaces",
          "key": "SourceSystemPlaceId",
          "sourceSystemKey": "StaticObjects",
          "value": "BikePoints_190"
         },
         {
          "$type": "Tfl.Api.Presentation.Entities.AdditionalProperties, Tfl.Api.Presentation.Entities",
          "category": "NearestPlaces",
          "key": "SourceSystemPlaceId",
          "sourceSystemKey": "StaticObjects",
          "value": "TaxiRank_5495"
         }
        ],
        "children": [
         {
          "$type": "Tfl.Api.Presentation.Entities.StopPoint, Tfl.Api.Presentation.Entities",
          "additionalProperties": [],
          "children": [],
          "commonName": "Pimlico Underground Station",
          "icsCode": "1000180",
          "id": "9400ZZLUPCO1",
          "lat": 0,
          "lineGroup": [],
          "lineModeGroups": [],
          "lines": [],
          "lon": 0,
          "modes": [],
          "naptanId": "9400ZZLUPCO1",
          "placeType": "StopPoint",
          "stationNaptan": "940GZZLUPCO",
          "status": true
         }
        ],
        "commonName": "Pimlico Underground Station",
        "icsCode": "1000180",
        "id": "940GZZLUPCO",
        "lat": 51.489097,
        "lineGroup": [
         {
          "$type": "Tfl.Api.Presentation.Entities.LineGroup, Tfl.Api.Presentation.Entities",
          "lineIdentifier": [
           "185",
           "2",
           "36",
           "n136",
           "n2"
          ],
          "naptanIdReference": "490000180A",
          "stationAtcoCode": "490G00180A"
         },
         {
          "$type": "Tfl.Api.Presentation.Entities.LineGroup, Tfl.Api.Presentation.Entities",
          "lineIdentifier": [
           "185",
           "2",
           "36",
           "n136",
           "n2"
          ],
          "naptanIdReference": "490000180D",
          "stationAtcoCode": "490G00180A"
         },
         {
          "$type": "Tfl.Api.Presentation.Entities.LineGroup, Tfl.Api.Presentation.Entities",
          "lineIdentifier": [
           "360",
           "c10"
          ],
          "naptanIdReference": "490000180H",
          "stationAtcoCode": "490G00180H"
         },
         {
          "$type": "Tfl.Api.Presentation.Entities.LineGroup, Tfl.Api.Presentation.Entities",
          "lineIdentifier": [
           "360",
           "c10"
          ],
          "naptanIdReference": "490000180J",
          "stationAtcoCode": "490G00180H"
         },
         {
          "$type": "Tfl.Api.Presentation.Entities.LineGroup, Tfl.Api.Presentation.Entities",
          "lineIdentifier": [
           "victoria"
          ],
          "stationAtcoCode": "940GZZLUPCO"
         }
        ],
        "lineModeGroups": [
         {
          "$type": "Tfl.Api.Presentation.Entities.LineModeGroup, Tfl.Api.Presentation.Entities",
          "lineIdentifier": [
           "185",
           "2",
           "36",
           "360",
           "c10",
           "n136",
           "n2"
          ],
          "modeName": "bus"
         },
         {
          "$type": "Tfl.Api.Presentation.Entities.LineModeGroup, Tfl.Api.Presentation.Entities",
          "lineIdentifier": [
           "victoria"
          ],
          "modeName": "tube"
         }
        ],
        "lines": [
         {
          "$type": "Tfl.Api.Presentation.Entities.Identifier, Tfl.Api.Presentation.Entities",
          "crowding": {
           "$type": "Tfl.Api.Presentation.Entities.Crowding, Tfl.Api.Presentation.Entities"
          },
          "id": "185",
          "name": "185",
          "routeType": "Unknown",
          "status": "Unknown",
          "type": "Line",
          "uri": "/Line/185"
         },
         {
          "$type": "Tfl.Api.Presentation.Entities.Identifier, Tfl.Api.Presentation.Entities",
          "crowding": {
           "$type": "Tfl.Api.Presentation.Entities.Crowding, Tfl.Api.Presentation.Entities"
          },
          "id": "2",
          "name": "2",
          "routeType": "Unknown",
          "status": "Unknown",
          "type": "Line",
          "uri": "/Line/2"
         },
         {
          "$type": "Tfl.Api.Presentation.Entities.Identifier, Tfl.Api.Presentation.Entities",
          "crowding": {
           "$type": "Tfl.Api.Presentation.Entities.Crowding, Tfl.Api.Presentation.Entities"
          },
          "id": "36",
          "name": "36",
          "routeType": "Unknown",
          "status": "Unknown",
          "type": "Line",
          "uri": "/Line/36"
         },
         {
          "$type": "Tfl.Api.Presentation.Entities.Identifier, Tfl.Api.Presentation.Entities",
          "crowding": {
           "$type": "Tfl.Api.Presentation.Entities.Crowding, Tfl.Api.Presentation.Entities"
          },
          "id": "360",
          "name": "360",
          "routeType": "Unknown",
          "status": "Unknown",
          "type": "Line",
          "uri": "/Line/360"
         },
         {
          "$type": "Tfl.Api.Presentation.Entities.Identifier, Tfl.Api.Presentation.Entities",
          "crowding": {
           "$type": "Tfl.Api.Presentation.Entities.Crowding, Tfl.Api.Presentation.Entities"
          },
          "id": "c10",
          "name": "C10",
          "routeType": "Unknown",
          "status": "Unknown",
          "type": "Line",
          "uri": "/Line/c10"
         },
         {
          "$type": "Tfl.Api.Presentation.Entities.Identifier, Tfl.Api.Presentation.Entities",
          "crowding": {
           "$type": "Tfl.Api.Presentation.Entities.Crowding, Tfl.Api.Presentation.Entities"
          },
          "id": "n136",
          "name": "N136",
          "routeType": "Unknown",
          "status": "Unknown",
          "type": "Line",
          "uri": "/Line/n136"
         },
         {
          "$type": "Tfl.Api.Presentation.Entities.Identifier, Tfl.Api.Presentation.Entities",
          "crowding": {
           "$type": "Tfl.Api.Presentation.Entities.Crowding, Tfl.Api.Presentation.Entities"
          },
          "id": "n2",
          "name": "N2",
          "routeType": "Unknown",
          "status": "Unknown",
          "type": "Line",
          "uri": "/Line/n2"
         },
         {
          "$type": "Tfl.Api.Presentation.Entities.Identifier, Tfl.Api.Presentation.Entities",
          "crowding": {
           "$type": "Tfl.Api.Presentation.Entities.Crowding, Tfl.Api.Presentation.Entities"
          },
          "id": "victoria",
          "name": "Victoria",
          "routeType": "Unknown",
          "status": "Unknown",
          "type": "Line",
          "uri": "/Line/victoria"
         }
        ],
        "lon": -0.133761,
        "modes": [
         "tube",
         "bus"
        ],
        "naptanId": "940GZZLUPCO",
        "placeType": "StopPoint",
        "stationNaptan": "940GZZLUPCO",
        "status": true,
        "stopType": "NaptanMetroStation"
       },
       {
        "$type": "Tfl.Api.Presentation.Entities.StopPoint, Tfl.Api.Presentation.Entities",
        "additionalProperties": [
         {
          "$type": "Tfl.Api.Presentation.Entities.AdditionalProperties, Tfl.Api.Presentation.Entities",
          "category": "ServiceInfo",
          "key": "Night",
          "sourceSystemKey": "TransXchangeETL",
          "value": "yes"
         },
         {
          "$type": "Tfl.Api.Presentation.Entities.AdditionalProperties, Tfl.Api.Presentation.Entities",
          "category": "Facility",
          "key": "Cash Machines",
          "sourceSystemKey": "StaticObjects",
          "value": "0"
         },
         {
          "$type": "Tfl.Api.Presentation.Entities.AdditionalProperties, Tfl.Api.Presentation.Entities",
          "category": "Facility",
          "key": "Gates",
          "sourceSystemKey": "StaticObjects",
          "value": "7"
         },
         {
          "$type": "Tfl.Api.Presentation.Entities.AdditionalProperties, Tfl.Api.Presentation.Entities",
          "category": "Facility",
          "key": "Lifts",
          "sourceSystemKey": "StaticObjects",
          "value": "0"
         },
         {
          "$type": "Tfl.Api.Presentation.Entities.AdditionalProperties, Tfl.Api.Presentation.Entities",
          "category": "Facility",
          "key": "Other Facilities",
          "sourceSystemKey": "StaticObjects",
          "value": "electronic whiteboards in ticket hall, post office style queuing for tickets."
         },
         {
          "$type": "Tfl.Api.Presentation.Entities.AdditionalProperties, Tfl.Api.Presentation.Entities",
          "category": "Facility",
          "key": "Toilets",
          "sourceSystemKey": "StaticObjects",
          "value": "no"
         },
         {
          "$type": "Tfl.Api.Presentation.Entities.AdditionalProperties, Tfl.Api.Presentation.Entities",
          "category": "Facility",
          "key": "Bridge",
          "sourceSystemKey": "StaticObjects",
          "value": "no"
         },
         {
          "$type": "Tfl.Api.Presentation.Entities.AdditionalProperties, Tfl.Api.Presentation.Entities",
          "category": "Facility",
          "key": "Waiting Room",
          "sourceSystemKey": "StaticObjects",
          "value": "no"
         },
         {
          "$type": "Tfl.Api.Presentation.Entities.AdditionalProperties, Tfl.Api.Presentation.Entities",
          "category": "Facility",
          "key": "Car park",
          "sourceSystemKey": "StaticObjects",
          "value": "no"
         },
         {
          "$type": "Tfl.Api.Presentation.Entities.AdditionalProperties, Tfl.Api.Presentation.Entities",
          "category": "Facility",
          "key": "Escalators",
          "sourceSystemKey": "StaticObjects",
          "value": "3"
         },
         {
          "$type": "Tfl.Api.Presentation.Entities.AdditionalProperties, Tfl.Api.Presentation.Entities",
          "category": "Facility",
          "key": "Photo Booths",
          "sourceSystemKey": "StaticObjects",
          "value": "0"
         },
         {
          "$type": "Tfl.Api.Presentation.Entities.AdditionalProperties, Tfl.Api.Presentation.Entities",
          "category": "Address",
          "key": "Address",
          "sourceSystemKey": "StaticObjects",
          "value": "Stockwell Station,London Underground Ltd.,Clapham Rd,London,SW9 9AE"
         },
         {
          "$type": "Tfl.Api.Presentation.Entities.AdditionalProperties, Tfl.Api.Presentation.Entities",
          "category": "Facility",
          "key": "Help Points",
          "sourceSystemKey": "StaticObjects",
          "value": "0 on platforms, 0 in ticket halls, 0 elsewhere"
         },
         {
          "$type": "Tfl.Api.Presentation.Entities.AdditionalProperties, Tfl.Api.Presentation.Entities",
          "category": "Facility",
          "key": "Payphones",
          "sourceSystemKey": "StaticObjects",
          "value": "5"
         },
         {
          "$type": "Tfl.Api.Presentation.Entities.AdditionalProperties, Tfl.Api.Presentation.Entities",
          "category": "Facility",
          "key": "Ticket Halls",
          "sourceSystemKey": "StaticObjects",
          "value": "1"
         },
         {
          "$type": "Tfl.Api.Presentation.Entities.AdditionalProperties, Tfl.Api.Presentation.Entities",
          "category": "Facility",
          "key": "WiFi",
          "sourceSystemKey": "StaticObjects",
          "value": "yes"
         },
         {
          "$type": "Tfl.Api.Presentation.Entities.AdditionalProperties, Tfl.Api.Presentation.Entities",
          "category": "Address",
          "key": "PhoneNo",
          "sourceSystemKey": "StaticObjects",
          "value": "0845 330 9880"
         },
         {
          "$type": "Tfl.Api.Presentation.Entities.AdditionalProperties, Tfl.Api.Presentation.Entities",
          "category": "Geo",
          "key": "Zone",
          "sourceSystemKey": "StaticObjects",
          "value": "2"
         },
         {
          "$type": "Tfl.Api.Presentation.Entities.AdditionalProperties, Tfl.Api.Presentation.Entities",
          "category": "Accessibility",
          "key": "AccessViaLift",
          "sourceSystemKey": "LRAD",
          "value": "No"
         },
         {
          "$type": "Tfl.Api.Presentation.Entities.AdditionalProperties, Tfl.Api.Presentation.Entities",
          "category": "Accessibility",
          "key": "BlueBadgeCarParkSpaces",
          "sourceSystemKey": "LRAD",
          "value": "0"
         },
         {
          "$type": "Tfl.Api.Presentation.Entities.AdditionalProperties, Tfl.Api.Presentation.Entities",
          "category": "Accessibility",
          "key": "LimitedCapacityLift",
          "sourceSystemKey": "LRAD",
          "value": "No"
         },
         {
          "$type": "Tfl.Api.Presentation.Entities.AdditionalProperties, Tfl.Api.Presentation.Entities",
          "category": "Accessibility",
          "key": "TaxiRankOutsideStation",
          "sourceSystemKey": "LRAD",
          "value": "No"
         },
         {
          "$type": "Tfl.Api.Presentation.Entities.AdditionalProperties, Tfl.Api.Presentation.Entities",
          "category": "Accessibility",
          "key": "Toilet",
          "sourceSystemKey": "LRAD",
          "value": "No"
         },
         {
          "$type": "Tfl.Api.Presentation.Entities.AdditionalProperties, Tfl.Api.Presentation.Entities",
          "category": "NearestPlaces",
          "key": "SourceSystemPlaceId",
          "sourceSystemKey": "StaticObjects",
          "value": "BikePoints_630"
         },
         {
          "$type": "Tfl.Api.Presentation.Entities.AdditionalProperties, Tfl.Api.Presentation.Entities",
          "category": "NearestPlaces",
          "key": "SourceSystemPlaceId",
          "sourceSystemKey": "StaticObjects",
          "value": "BikePoints_669"
         },
         {
          "$type": "Tfl.Api.Presentation.Entities.AdditionalProperties, Tfl.Api.Presentation.Entities",
          "category": "NearestPlaces",
          "key": "SourceSystemPlaceId",
          "sourceSystemKey": "StaticObjects",
          "value": "BikePoints_830"
         },
         {
          "$type": "Tfl.Api.Presentation.Entities.AdditionalProperties, Tfl.Api.Presentation.Entities",
          "category": "NearestPlaces",
          "key": "SourceSystemPlaceId",
          "sourceSystemKey": "StaticObjects",
          "value": "BikePoints_772"
         },
         {
          "$type": "Tfl.Api.Presentation.Entities.AdditionalProperties, Tfl.Api.Presentation.Entities",
          "category": "NearestPlaces",
          "key": "SourceSystemPlaceId",
          "sourceSystemKey": "StaticObjects",
          "value": "BikePoints_814"
         }
        ],
        "children": [
         {
          "$type": "Tfl.Api.Presentation.Entities.StopPoint, Tfl.Api.Presentation.Entities",
          "additionalProperties": [],
          "children": [],
          "commonName": "Stockwell Underground Station",
          "icsCode": "1000223",
          "id": "9400ZZLUSKW1",
          "lat": 0,
          "lineGroup": [],
          "lineModeGroups": [],
          "lines": [],
          "lon": 0,
          "modes": [],
          "naptanId": "9400ZZLUSKW1",
          "placeType": "StopPoint",
          "stationNaptan": "940GZZLUSKW",
          "status": true
         },
         {
          "$type": "Tfl.Api.Presentation.Entities.StopPoint, Tfl.Api.Presentation.Entities",
          "additionalProperties": [],
          "children": [],
          "commonName": "Stockwell Underground Station",
          "icsCode": "1000223",
          "id": "9400ZZLUSKW2",
          "lat": 0,
          "lineGroup": [],
          "lineModeGroups": [],
          "lines": [],
          "lon": 0,
          "modes": [],
          "naptanId": "9400ZZLUSKW2",
          "placeType": "StopPoint",
          "stationNaptan": "940GZZLUSKW",
          "status": true
         },
         {
          "$type": "Tfl.Api.Presentation.Entities.StopPoint, Tfl.Api.Presentation.Entities",
          "additionalProperties": [],
          "children": [],
          "commonName": "Stockwell Underground Station",
          "icsCode": "1000223",
          "id": "9400ZZLUSKW3",
          "lat": 0,
          "lineGroup": [],
          "lineModeGroups": [],
          "lines": [],
          "lon": 0,
          "modes": [],
          "naptanId": "9400ZZLUSKW3",
          "placeType": "StopPoint",
          "stationNaptan": "940GZZLUSKW",
          "status": true
         },
         {
          "$type": "Tfl.Api.Presentation.Entities.StopPoint, Tfl.Api.Presentation.Entities",
          "additionalProperties": [],
          "children": [],
          "commonName": "Stockwell Underground Station",
          "icsCode": "1000223",
          "id": "9400ZZLUSKW4",
          "lat": 0,
          "lineGroup": [],
          "lineModeGroups": [],
          "lines": [],
          "lon": 0,
          "modes": [],
          "naptanId": "9400ZZLUSKW4",
          "placeType": "StopPoint",
          "stationNaptan": "940GZZLUSKW",
          "status": true
         }
        ],
        "commonName": "Stockwell Underground Station",
        "icsCode": "1000223",
        "id": "940GZZLUSKW",
        "lat": 51.472184,
        "lineGroup": [
         {
          "$type": "Tfl.Api.Presentation.Entities.LineGroup, Tfl.Api.Presentation.Entities",
          "lineIdentifier": [
           "155",
           "345",
           "n155"
          ],
          "naptanIdReference": "490000223G",
          "stationAtcoCode": "490G00223G"
         },
         {
          "$type": "Tfl.Api.Presentation.Entities.LineGroup, Tfl.Api.Presentation.Entities",
          "lineIdentifier": [
           "northern"
          ],
          "stationAtcoCode": "940GZZLUSKW"
         },
         {
          "$type": "Tfl.Api.Presentation.Entities.LineGroup, Tfl.Api.Presentation.Entities",
          "lineIdentifier": [
           "victoria"
          ],
          "stationAtcoCode": "940GZZLUSKW"
         }
        ],
        "lineModeGroups": [
         {
          "$type": "Tfl.Api.Presentation.Entities.LineModeGroup, Tfl.Api.Presentation.Entities",
          "lineIdentifier": [
           "155",
           "345",
           "n155"
          ],
          "modeName": "bus"
         },
         {
          "$type": "Tfl.Api.Presentation.Entities.LineModeGroup, Tfl.Api.Presentation.Entities",
          "lineIdentifier": [
           "northern",
           "victoria"
          ],
          "modeName": "tube"
         }
        ],
        "lines": [
         {
          "$type": "Tfl.Api.Presentation.Entities.Identifier, Tfl.Api.Presentation.Entities",
          "crowding": {
           "$type": "Tfl.Api.Presentation.Entities.Crowding, Tfl.Api.Presentation.Entities"
          },
          "id": "155",
          "name": "155",
          "routeType": "Unknown",
          "status": "Unknown",
          "type": "Line",
          "uri": "/Line/155"
         },
         {
          "$type": "Tfl.Api.Presentation.Entities.Identifier, Tfl.Api.Presentation.Entities",
          "crowding": {
           "$type": "Tfl.Api.Presentation.Entities.Crowding, Tfl.Api.Presentation.Entities"
          },
          "id": "345",
          "name": "345",
          "routeType": "Unknown",
          "status": "Unknown",
          "type": "Line",
          "uri": "/Line/345"
         },
         {
          "$type": "Tfl.Api.Presentation.Entities.Identifier, Tfl.Api.Presentation.Entities",
          "crowding": {
           "$type": "Tfl.Api.Presentation.Entities.Crowding, Tfl.Api.Presentation.Entities"
          },
          "id": "n155",
          "name": "N155",
          "routeType": "Unknown",
          "status": "Unknown",
          "type": "Line",
          "uri": "/Line/n155"
         },
         {
          "$type": "Tfl.Api.Presentation.Entities.Identifier, Tfl.Api.Presentation.Entities",
          "crowding": {
           "$type": "Tfl.Api.Presentation.Entities.Crowding, Tfl.Api.Presentation.Entities"
          },
          "id": "northern",
          "name": "Northern",
          "routeType": "Unknown",
          "status": "Unknown",
          "type": "Line",
          "uri": "/Line/northern"
         },
         {
          "$type": "Tfl.Api.Presentation.Entities.Identifier, Tfl.Api.Presentation.Entities",
          "crowding": {
           "$type": "Tfl.Api.Presentation.Entities.Crowding, Tfl.Api.Presentation.Entities"
          },
          "id": "victoria",
          "name": "Victoria",
          "routeType": "Unknown",
          "status": "Unknown",
          "type": "Line",
          "uri": "/Line/victoria"
         }
        ],
        "lon": -0.122644,
        "modes": [
         "bus",
         "tube"
        ],
        "naptanId": "940GZZLUSKW",
        "placeType": "StopPoint",
        "stationNaptan": "940GZZLUSKW",
        "status": true,
        "stopType": "NaptanMetroStation"
       },
       {
        "$type": "Tfl.Api.Presentation.Entities.StopPoint, Tfl.Api.Presentation.Entities",
        "additionalProperties": [
         {
          "$type": "Tfl.Api.Presentation.Entities.AdditionalProperties, Tfl.Api.Presentation.Entities",
          "category": "ServiceInfo",
          "key": "Night",
          "sourceSystemKey": "TransXchangeETL",
          "value": "yes"
         },
         {
          "$type": "Tfl.Api.Presentation.Entities.AdditionalProperties, Tfl.Api.Presentation.Entities",
          "category": "Facility",
          "key": "Payphones",
          "sourceSystemKey": "StaticObjects",
          "value": "4"
         },
         {
          "$type": "Tfl.Api.Presentation.Entities.AdditionalProperties, Tfl.Api.Presentation.Entities",
          "category": "Facility",
          "key": "Photo Booths",
          "sourceSystemKey": "StaticObjects",
          "value": "0"
         },
         {
          "$type": "Tfl.Api.Presentation.Entities.AdditionalProperties, Tfl.Api.Presentation.Entities",
          "category": "Facility",
          "key": "Waiting Room",
          "sourceSystemKey": "StaticObjects",
          "value": "no"
         },
         {
          "$type": "Tfl.Api.Presentation.Entities.AdditionalProperties, Tfl.Api.Presentation.Entities",
          "category": "Facility",
          "key": "Euro Cash Machines",
          "sourceSystemKey": "StaticObjects",
          "value": "yes"
         },
         {
          "$type": "Tfl.Api.Presentation.Entities.AdditionalProperties, Tfl.Api.Presentation.Entities",
          "category": "Facility",
          "key": "Ticket Halls",
          "sourceSystemKey": "StaticObjects",
          "value": "2"
         },
         {
          "$type": "Tfl.Api.Presentation.Entities.AdditionalProperties, Tfl.Api.Presentation.Entities",
          "category": "Facility",
          "key": "Toilets",
          "sourceSystemKey": "StaticObjects",
          "value": "no"
         },
         {
          "$type": "Tfl.Api.Presentation.Entities.AdditionalProperties, Tfl.Api.Presentation.Entities",
          "category": "Geo",
          "key": "Zone",
          "sourceSystemKey": "StaticObjects",
          "value": "3"
         },
         {
          "$type": "Tfl.Api.Presentation.Entities.AdditionalProperties, Tfl.Api.Presentation.Entities",
          "category": "Address",
          "key": "Address",
          "sourceSystemKey": "StaticObjects",
          "value": "Seven Sisters Underground Station,London Underground Ltd.,Seven Sisters Rd,London"
         },
         {
          "$type": "Tfl.Api.Presentation.Entities.AdditionalProperties, Tfl.Api.Presentation.Entities",
          "category": "Facility",
          "key": "Gates",
          "sourceSystemKey": "StaticObjects",
          "value": "13"
         },
         {
          "$type": "Tfl.Api.Presentation.Entities.AdditionalProperties, Tfl.Api.Presentation.Entities",
          "category": "Facility",
          "key": "Bridge",
          "sourceSystemKey": "StaticObjects",
          "value": "no"
         },
         {
          "$type": "Tfl.Api.Presentation.Entities.AdditionalProperties, Tfl.Api.Presentation.Entities",
          "category": "Facility",
          "key": "Escalators",
          "sourceSystemKey": "StaticObjects",
          "value": "4"
         },
         {
          "$type": "Tfl.Api.Presentation.Entities.AdditionalProperties, Tfl.Api.Presentation.Entities",
          "category": "Facility",
          "key": "Lifts",
          "sourceSystemKey": "StaticObjects",
          "value": "0"
         },
         {
          "$type": "Tfl.Api.Presentation.Entities.AdditionalProperties, Tfl.Api.Presentation.Entities",
          "category": "Address",
          "key": "PhoneNo",
          "sourceSystemKey": "StaticObjects",
          "value": "0845 330 9880"
         },
         {
          "$type": "Tfl.Api.Presentation.Entities.AdditionalProperties, Tfl.Api.Presentation.Entities",
          "category": "Facility",
          "key": "WiFi",
          "sourceSystemKey": "StaticObjects",
          "value": "yes"
         },
         {
          "$type": "Tfl.Api.Presentation.Entities.AdditionalProperties, Tfl.Api.Presentation.Entities",
          "category": "Facility",
          "key": "Help Points",
          "sourceSystemKey": "StaticObjects",
          "value": "0 on platforms, 0 in ticket halls, 0 elsewhere"
         },
         {
          "$type": "Tfl.Api.Presentation.Entities.AdditionalProperties, Tfl.Api.Presentation.Entities",
          "category": "Facility",
          "key": "Car park",
          "sourceSystemKey": "StaticObjects",
          "value": "no"
         },
         {
          "$type": "Tfl.Api.Presentation.Entities.AdditionalProperties, Tfl.Api.Presentation.Entities",
          "category": "Facility",
          "key": "Cash Machines",
          "sourceSystemKey": "StaticObjects",
          "value": "1"
         },
         {
          "$type": "Tfl.Api.Presentation.Entities.AdditionalProperties, Tfl.Api.Presentation.Entities",
          "category": "Facility",
          "key": "Other Facilities",
          "sourceSystemKey": "StaticObjects",
          "value": "taxi ranks outside station, subway to street, routeways platform to ticket hall."
         }
        ],
        "children": [
         {
          "$type": "Tfl.Api.Presentation.Entities.StopPoint, Tfl.Api.Presentation.Entities",
          "additionalProperties": [],
          "children": [],
          "commonName": "Seven Sisters Underground Station",
          "hubNaptanCode": "HUBSVS",
          "icsCode": "1000201",
          "id": "9400ZZLUSVS1",
          "lat": 0,
          "lineGroup": [],
          "lineModeGroups": [],
          "lines": [],
          "lon": 0,
          "modes": [],
          "naptanId": "9400ZZLUSVS1",
          "placeType": "StopPoint",
          "stationNaptan": "940GZZLUSVS",
          "status": true
         },
         {
          "$type": "Tfl.Api.Presentation.Entities.StopPoint, Tfl.Api.Presentation.Entities",
          "additionalProperties": [],
          "children": [],
          "commonName": "Seven Sisters Underground Station",
          "hubNaptanCode": "HUBSVS",
          "icsCode": "1000201",
          "id": "9400ZZLUSVS2",
          "lat": 0,
          "lineGroup": [],
          "lineModeGroups": [],
          "lines": [],
          "lon": 0,
          "modes": [],
          "naptanId": "9400ZZLUSVS2",
          "placeType": "StopPoint",
          "stationNaptan": "940GZZLUSVS",
          "status": true
         }
        ],
        "commonName": "Seven Sisters Underground Station",
        "hubNaptanCode": "HUBSVS",
        "icsCode": "1000201",
        "id": "940GZZLUSVS",
        "lat": 51.58333,
        "lineGroup": [
         {
          "$type": "Tfl.Api.Presentation.Entities.LineGroup, Tfl.Api.Presentation.Entities",
          "lineIdentifier": [
           "victoria"
          ],
          "stationAtcoCode": "940GZZLUSVS"
         }
        ],
        "lineModeGroups": [
         {
          "$type": "Tfl.Api.Presentation.Entities.LineModeGroup, Tfl.Api.Presentation.Entities",
          "lineIdentifier": [
           "victoria"
          ],
          "modeName": "tube"
         }
        ],
        "lines": [
         {
          "$type": "Tfl.Api.Presentation.Entities.Identifier, Tfl.Api.Presentation.Entities",
          "crowding": {
           "$type": "Tfl.Api.Presentation.Entities.Crowding, Tfl.Api.Presentation.Entities"
          },
          "id": "victoria",
          "name": "Victoria",
          "routeType": "Unknown",
          "status": "Unknown",
          "type": "Line",
          "uri": "/Line/victoria"
         }
        ],
        "lon": -0.072584,
        "modes": [
         "tube"
        ],
        "naptanId": "940GZZLUSVS",
        "placeType": "StopPoint",
        "stationNaptan": "940GZZLUSVS",
        "status": true,
        "stopType": "NaptanMetroStation"
       },
       {
        "$type": "Tfl.Api.Presentation.Entities.StopPoint, Tfl.Api.Presentation.Entities",
        "additionalProperties": [
         {
          "$type": "Tfl.Api.Presentation.Entities.AdditionalProperties, Tfl.Api.Presentation.Entities",
          "category": "ServiceInfo",
          "key": "Night",
          "sourceSystemKey": "TransXchangeETL",
          "value": "yes"
         },
         {
          "$type": "Tfl.Api.Presentation.Entities.AdditionalProperties, Tfl.Api.Presentation.Entities",
          "category": "Facility",
          "key": "Escalators",
          "sourceSystemKey": "StaticObjects",
          "value": "2"
         },
         {
          "$type": "Tfl.Api.Presentation.Entities.AdditionalProperties, Tfl.Api.Presentation.Entities",
          "category": "Facility",
          "key": "Photo Booths",
          "sourceSystemKey": "StaticObjects",
          "value": "0"
         },
         {
          "$type": "Tfl.Api.Presentation.Entities.AdditionalProperties, Tfl.Api.Presentation.Entities",
          "category": "Address",
          "key": "Address",
          "sourceSystemKey": "StaticObjects",
          "value": "Tottenham Hale Underground Station,London Underground Ltd.,Station Rd,London,N17 9LR"
         },
         {
          "$type": "Tfl.Api.Presentation.Entities.AdditionalProperties, Tfl.Api.Presentation.Entities",
          "category": "Facility",
          "key": "Other Facilities",
          "sourceSystemKey": "StaticObjects",
          "value": "taxi ranks outside station, post office style queuing for tickets, routeways platform to ticket hall."
         },
         {
          "$type": "Tfl.Api.Presentation.Entities.AdditionalProperties, Tfl.Api.Presentation.Entities",
          "category": "Facility",
          "key": "Ticket Halls",
          "sourceSystemKey": "StaticObjects",
          "value": "1"
         },
         {
          "$type": "Tfl.Api.Presentation.Entities.AdditionalProperties, Tfl.Api.Presentation.Entities",
          "category": "Geo",
          "key": "Zone",
          "sourceSystemKey": "StaticObjects",
          "value": "3"
         },
         {
          "$type": "Tfl.Api.Presentation.Entities.AdditionalProperties, Tfl.Api.Presentation.Entities",
          "category": "Facility",
          "key": "WiFi",
          "sourceSystemKey": "StaticObjects",
          "value": "yes"
         },
         {
          "$type": "Tfl.Api.Presentation.Entities.AdditionalProperties, Tfl.Api.Presentation.Entities",
          "category": "Facility",
          "key": "Help Points",
          "sourceSystemKey": "StaticObjects",
          "value": "6 on platforms, 0 in ticket halls, 1 elsewhere"
         },
         {
          "$type": "Tfl.Api.Presentation.Entities.AdditionalProperties, Tfl.Api.Presentation.Entities",
          "category": "Facility",
          "key": "Lifts",
          "sourceSystemKey": "StaticObjects",
          "value": "0"
         },
         {
          "$type": "Tfl.Api.Presentation.Entities.AdditionalProperties, Tfl.Api.Presentation.Entities",
          "category": "Address",
          "key": "PhoneNo",
          "sourceSystemKey": "StaticObjects",
          "value": "0845 330 9880"
         },
         {
          "$type": "Tfl.Api.Presentation.Entities.AdditionalProperties, Tfl.Api.Presentation.Entities",
          "category": "Facility",
          "key": "Waiting Room",
          "sourceSystemKey": "StaticObjects",
          "value": "no"
         },
         {
          "$type": "Tfl.Api.Presentation.Entities.AdditionalProperties, Tfl.Api.Presentation.Entities",
          "category": "Facility",
          "key": "Cash Machines",
          "sourceSystemKey": "StaticObjects",
          "value": "0"
         },
         {
          "$type": "Tfl.Api.Presentation.Entities.AdditionalProperties, Tfl.Api.Presentation.Entities",
          "category": "Facility",
          "key": "Toilets",
          "sourceSystemKey": "StaticObjects",
          "value": "no"
         },
         {
          "$type": "Tfl.Api.Presentation.Entities.AdditionalProperties, Tfl.Api.Presentation.Entities",
          "category": "Facility",
          "key": "Bridge",
          "sourceSystemKey": "StaticObjects",
          "value": "no"
         },
         {
          "$type": "Tfl.Api.Presentation.Entities.AdditionalProperties, Tfl.Api.Presentation.Entities",
          "category": "Facility",
          "key": "Car park",
          "sourceSystemKey": "StaticObjects",
          "value": "no"
         },
         {
          "$type": "Tfl.Api.Presentation.Entities.AdditionalProperties, Tfl.Api.Presentation.Entities",
          "category": "Facility",
          "key": "Gates",
          "sourceSystemKey": "StaticObjects",
          "value": "5"
         },
         {
          "$type": "Tfl.Api.Presentation.Entities.AdditionalProperties, Tfl.Api.Presentation.Entities",
          "category": "Facility",
          "key": "Payphones",
          "sourceSystemKey": "StaticObjects",
          "value": "2"
         },
         {
          "$type": "Tfl.Api.Presentation.Entities.AdditionalProperties, Tfl.Api.Presentation.Entities",
          "category": "NearestPlaces",
          "key": "SourceSystemPlaceId",
          "sourceSystemKey": "StaticObjects",
          "value": "CarParks_800494"
         }
        ],
        "children": [
         {
          "$type": "Tfl.Api.Presentation.Entities.StopPoint, Tfl.Api.Presentation.Entities",
          "additionalProperties": [],
          "children": [],
          "commonName": "Tottenham Hale Underground Station",
          "hubNaptanCode": "HUBTOM",
          "icsCode": "1000236",
          "id": "9400ZZLUTMH1",
          "lat": 0,
          "lineGroup": [],
          "lineModeGroups": [],
          "lines": [],
          "lon": 0,
          "modes": [],
          "naptanId": "9400ZZLUTMH1",
          "placeType": "StopPoint",
          "stationNaptan": "940GZZLUTMH",
          "status": true
         }
        ],
        "commonName": "Tottenham Hale Underground Station",
        "hubNaptanCode": "HUBTOM",
        "icsCode": "1000236",
        "id": "940GZZLUTMH",
        "lat": 51.588108,
        "lineGroup": [
         {
          "$type": "Tfl.Api.Presentation.Entities.LineGroup, Tfl.Api.Presentation.Entities",
          "lineIdentifier": [
           "victoria"
          ],
          "stationAtcoCode": "940GZZLUTMH"
         }
        ],
        "lineModeGroups": [
         {
          "$type": "Tfl.Api.Presentation.Entities.LineModeGroup, Tfl.Api.Presentation.Entities",
          "lineIdentifier": [
           "victoria"
          ],
          "modeName": "tube"
         }
        ],
        "lines": [
         {
          "$type": "Tfl.Api.Presentation.Entities.Identifier, Tfl.Api.Presentation.Entities",
          "crowding": {
           "$type": "Tfl.Api.Presentation.Entities.Crowding, Tfl.Api.Presentation.Entities"
          },
          "id": "victoria",
          "name": "Victoria",
          "routeType": "Unknown",
          "status": "Unknown",
          "type": "Line",
          "uri": "/Line/victoria"
         }
        ],
        "lon": -0.060241,
        "modes": [
         "tube"
        ],
        "naptanId": "940GZZLUTMH",
        "placeType": "StopPoint",
        "stationNaptan": "940GZZLUTMH",
        "status": true,
        "stopType": "NaptanMetroStation"
       },
       {
        "$type": "Tfl.Api.Presentation.Entities.StopPoint, Tfl.Api.Presentation.Entities",
        "additionalProperties": [
         {
          "$type": "Tfl.Api.Presentation.Entities.AdditionalProperties, Tfl.Api.Presentation.Entities",
          "category": "ServiceInfo",
          "key": "Night",
          "sourceSystemKey": "TransXchangeETL",
          "value": "yes"
         },
         {
          "$type": "Tfl.Api.Presentation.Entities.AdditionalProperties, Tfl.Api.Presentation.Entities",
          "category": "Facility",
          "key": "Escalators",
          "sourceSystemKey": "StaticObjects",
          "value": "6"
         },
         {
          "$type": "Tfl.Api.Presentation.Entities.AdditionalProperties, Tfl.Api.Presentation.Entities",
          "category": "Facility",
          "key": "Help Points",
          "sourceSystemKey": "StaticObjects",
          "value": "0 on platforms, 0 in ticket halls, 0 elsewhere"
         },
         {
          "$type": "Tfl.Api.Presentation.Entities.AdditionalProperties, Tfl.Api.Presentation.Entities",
          "category": "Address",
          "key": "Address",
          "sourceSystemKey": "StaticObjects",
          "value": "Victoria Underground Station,London Underground Ltd.,Victoria St,London,SW1E 5ND"
         },
         {
          "$type": "Tfl.Api.Presentation.Entities.AdditionalProperties, Tfl.Api.Presentation.Entities",
          "category": "Facility",
          "key": "Other Facilities",
          "sourceSystemKey": "StaticObjects",
          "value": "canopies over platform, taxi ranks outside station, routeways platform to ticket hall."
         },
         {
          "$type": "Tfl.Api.Presentation.Entities.AdditionalProperties, Tfl.Api.Presentation.Entities",
          "category": "Facility",
          "key": "Boarding Ramps",
          "sourceSystemKey": "StaticObjects",
          "value": "yes"
         },
         {
          "$type": "Tfl.Api.Presentation.Entities.AdditionalProperties, Tfl.Api.Presentation.Entities",
          "category": "Facility",
          "key": "Gates",
          "sourceSystemKey": "StaticObjects",
          "value": "33"
         },
         {
          "$type": "Tfl.Api.Presentation.Entities.AdditionalProperties, Tfl.Api.Presentation.Entities",
          "category": "Facility",
          "key": "Car park",
          "sourceSystemKey": "StaticObjects",
          "value": "no"
         },
         {
          "$type": "Tfl.Api.Presentation.Entities.AdditionalProperties, Tfl.Api.Presentation.Entities",
          "category": "Facility",
          "key": "Cash Machines",
          "sourceSystemKey": "StaticObjects",
          "value": "1"
         },
         {
          "$type": "Tfl.Api.Presentation.Entities.AdditionalProperties, Tfl.Api.Presentation.Entities",
          "category": "Facility",
          "key": "Payphones",
          "sourceSystemKey": "StaticObjects",
          "value": "4"
         },
         {
          "$type": "Tfl.Api.Presentation.Entities.AdditionalProperties, Tfl.Api.Presentation.Entities",
          "category": "Address",
          "key": "PhoneNo",
          "sourceSystemKey": "StaticObjects",
          "value": "0845 330 9880"
         },
         {
          "$type": "Tfl.Api.Presentation.Entities.AdditionalProperties, Tfl.Api.Presentation.Entities",
          "category": "Facility",
          "key": "Photo Booths",
          "sourceSystemKey": "StaticObjects",
          "value": "0"
         },
         {
          "$type": "Tfl.Api.Presentation.Entities.AdditionalProperties, Tfl.Api.Presentation.Entities",
          "category": "Facility",
          "key": "Toilets",
          "sourceSystemKey": "StaticObjects",
          "value": "yes"
         },
         {
          "$type": "Tfl.Api.Presentation.Entities.AdditionalProperties, Tfl.Api.Presentation.Entities",
          "category": "Facility",
          "key": "Waiting Room",
          "sourceSystemKey": "StaticObjects",
          "value": "no"
         },
         {
          "$type": "Tfl.Api.Presentation.Entities.AdditionalProperties, Tfl.Api.Presentation.Entities",
          "category": "Facility",
          "key": "Bridge",
          "sourceSystemKey": "StaticObjects",
          "value": "no"
         },
         {
          "$type": "Tfl.Api.Presentation.Entities.AdditionalProperties, Tfl.Api.Presentation.Entities",
          "category": "Facility",
          "key": "Euro Cash Machines",
          "sourceSystemKey": "StaticObjects",
          "value": "yes"
         },
         {
          "$type": "Tfl.Api.Presentation.Entities.AdditionalProperties, Tfl.Api.Presentation.Entities",
          "category": "VisitorCentre",
          "key": "Location",
          "sourceSystemKey": "StaticObjects",
          "value": "Main Opposite Platform 8 Victoria Rail Station"
         },
         {
          "$type": "Tfl.Api.Presentation.Entities.AdditionalProperties, Tfl.Api.Presentation.Entities",
          "category": "Facility",
          "key": "Lifts",
          "sourceSystemKey": "StaticObjects",
          "value": "1"
         },
         {
          "$type": "Tfl.Api.Presentation.Entities.AdditionalProperties, Tfl.Api.Presentation.Entities",
          "category": "Facility",
          "key": "Ticket Halls",
          "sourceSystemKey": "StaticObjects",
          "value": "2"
         },
         {
          "$type": "Tfl.Api.Presentation.Entities.AdditionalProperties, Tfl.Api.Presentation.Entities",
          "category": "Facility",
          "key": "WiFi",
          "sourceSystemKey": "StaticObjects",
          "value": "yes"
         },
         {
          "$type": "Tfl.Api.Presentation.Entities.AdditionalProperties, Tfl.Api.Presentation.Entities",
          "category": "Geo",
          "key": "Zone",
          "sourceSystemKey": "StaticObjects",
          "value": "1"
         },
         {
          "$type": "Tfl.Api.Presentation.Entities.AdditionalProperties, Tfl.Api.Presentation.Entities",
          "category": "NearestPlaces",
          "key": "SourceSystemPlaceId",
          "sourceSystemKey": "StaticObjects",
          "value": "BikePoints_268"
         },
         {
          "$type": "Tfl.Api.Presentation.Entities.AdditionalProperties, Tfl.Api.Presentation.Entities",
          "category": "NearestPlaces",
          "key": "SourceSystemPlaceId",
          "sourceSystemKey": "StaticObjects",
          "value": "BikePoints_646"
         },
         {
          "$type": "Tfl.Api.Presentation.Entities.AdditionalProperties, Tfl.Api.Presentation.Entities",
          "category": "NearestPlaces",
          "key": "SourceSystemPlaceId",
          "sourceSystemKey": "StaticObjects",
          "value": "BikePoints_161"
         },
         {
          "$type": "Tfl.Api.Presentation.Entities.AdditionalProperties, Tfl.Api.Presentation.Entities",
          "category": "NearestPlaces",
          "key": "SourceSystemPlaceId",
          "sourceSystemKey": "StaticObjects",
          "value": "BikePoints_167"
         },
         {
          "$type": "Tfl.Api.Presentation.Entities.AdditionalProperties, Tfl.Api.Presentation.Entities",
          "category": "NearestPlaces",
          "key": "SourceSystemPlaceId",
          "sourceSystemKey": "StaticObjects",
          "value": "BikePoints_177"
         },
         {
          "$type": "Tfl.Api.Presentation.Entities.AdditionalProperties, Tfl.Api.Presentation.Entities",
          "category": "NearestPlaces",
          "key": "SourceSystemPlaceId",
          "sourceSystemKey": "StaticObjects",
          "value": "BikePoints_316"
         },
         {
          "$type": "Tfl.Api.Presentation.Entities.AdditionalProperties, Tfl.Api.Presentation.Entities",
          "category": "NearestPlaces",
          "key": "SourceSystemPlaceId",
          "sourceSystemKey": "StaticObjects",
          "value": "BikePoints_320"
         },
         {
          "$type": "Tfl.Api.Presentation.Entities.AdditionalProperties, Tfl.Api.Presentation.Entities",
          "category": "NearestPlaces",
          "key": "SourceSystemPlaceId",
          "sourceSystemKey": "StaticObjects",
          "value": "BikePoints_360"
         },
         {
          "$type": "Tfl.Api.Presentation.Entities.AdditionalProperties, Tfl.Api.Presentation.Entities",
          "category": "NearestPlaces",
          "key": "SourceSystemPlaceId",
          "sourceSystemKey": "StaticObjects",
          "value": "BikePoints_799"
         },
         {
          "$type": "Tfl.Api.Presentation.Entities.AdditionalProperties, Tfl.Api.Presentation.Entities",
          "category": "NearestPlaces",
          "key": "SourceSystemPlaceId",
          "sourceSystemKey": "StaticObjects",
          "value": "BikePoints_826"
         },
         {
          "$type": "Tfl.Api.Presentation.Entities.AdditionalProperties, Tfl.Api.Presentation.Entities",
          "category": "NearestPlaces",
          "key": "SourceSystemPlaceId",
          "sourceSystemKey": "StaticObjects",
          "value": "TaxiRank_5970"
         },
         {
          "$type": "Tfl.Api.Presentation.Entities.AdditionalProperties, Tfl.Api.Presentation.Entities",
          "category": "NearestPlaces",
          "key": "SourceSystemPlaceId",
          "sourceSystemKey": "StaticObjects",
          "value": "TaxiRank_5744"
         },
         {
          "$type": "Tfl.Api.Presentation.Entities.AdditionalProperties, Tfl.Api.Presentation.Entities",
          "category": "NearestPlaces",
          "key": "SourceSystemPlaceId",
          "sourceSystemKey": "StaticObjects",
          "value": "TaxiRank_5654"
         },
         {
          "$type": "Tfl.Api.Presentation.Entities.AdditionalProperties, Tfl.Api.Presentation.Entities",
          "category": "NearestPlaces",
          "key": "SourceSystemPlaceId",
          "sourceSystemKey": "StaticObjects",
          "value": "TaxiRank_5773"
         },
         {
          "$type": "Tfl.Api.Presentation.Entities.AdditionalProperties, Tfl.Api.Presentation.Entities",
          "category": "NearestPlaces",
          "key": "SourceSystemPlaceId",
          "sourceSystemKey": "StaticObjects",
          "value": "TaxiRank_5743"
         }
        ],
        "children": [
         {
          "$type": "Tfl.Api.Presentation.Entities.StopPoint, Tfl.Api.Presentation.Entities",
          "additionalProperties": [],
          "children": [],
          "commonName": "Victoria Underground Station",
          "hubNaptanCode": "HUBVIC",
          "icsCode": "1000248",
          "id": "9400ZZLUVIC1",
          "lat": 0,
          "lineGroup": [],
          "lineModeGroups": [],
          "lines": [],
          "lon": 0,
          "modes": [],
          "naptanId": "9400ZZLUVIC1",
          "placeType": "StopPoint",
          "stationNaptan": "940GZZLUVIC",
          "status": true
         },
         {
          "$type": "Tfl.Api.Presentation.Entities.StopPoint, Tfl.Api.Presentation.Entities",
          "additionalProperties": [],
          "children": [],
          "commonName": "Victoria Underground Station",
          "hubNaptanCode": "HUBVIC",
          "icsCode": "1000248",
          "id": "9400ZZLUVIC4",
          "lat": 0,
          "lineGroup": [],
          "lineModeGroups": [],
          "lines": [],
          "lon": 0,
          "modes": [],
          "naptanId": "9400ZZLUVIC4",
          "placeType": "StopPoint",
          "stationNaptan": "940GZZLUVIC",
          "status": true
         },
         {
          "$type": "Tfl.Api.Presentation.Entities.StopPoint, Tfl.Api.Presentation.Entities",
          "additionalProperties": [],
          "children": [],
          "commonName": "Victoria Underground Station",
          "hubNaptanCode": "HUBVIC",
          "icsCode": "1000248",
          "id": "9400ZZLUVIC2",
          "lat": 0,
          "lineGroup": [],
          "lineModeGroups": [],
          "lines": [],
          "lon": 0,
          "modes": [],
          "naptanId": "9400ZZLUVIC2",
          "placeType": "StopPoint",
          "stationNaptan": "940GZZLUVIC",
          "status": true
         },
         {
          "$type": "Tfl.Api.Presentation.Entities.StopPoint, Tfl.Api.Presentation.Entities",
          "additionalProperties": [],
          "children": [],
          "commonName": "Victoria Underground Station",
          "hubNaptanCode": "HUBVIC",
          "icsCode": "1000248",
          "id": "9400ZZLUVIC3",
          "lat": 0,
          "lineGroup": [],
          "lineModeGroups": [],
          "lines": [],
          "lon": 0,
          "modes": [],
          "naptanId": "9400ZZLUVIC3",
          "placeType": "StopPoint",
          "stationNaptan": "940GZZLUVIC",
          "status": true
         }
        ],
        "commonName": "Victoria Underground Station",
        "hubNaptanCode": "HUBVIC",
        "icsCode": "1000248",
        "id": "940GZZLUVIC",
        "lat": 51.496359,
        "lineGroup": [
         {
          "$type": "Tfl.Api.Presentation.Entities.LineGroup, Tfl.Api.Presentation.Entities",
          "lineIdentifier": [
           "circle"
          ],
          "stationAtcoCode": "940GZZLUVIC"
         },
         {
          "$type": "Tfl.Api.Presentation.Entities.LineGroup, Tfl.Api.Presentation.Entities",
          "lineIdentifier": [
           "circle",
           "district"
          ],
          "stationAtcoCode": "940GZZLUVIC"
         },
         {
          "$type": "Tfl.Api.Presentation.Entities.LineGroup, Tfl.Api.Presentation.Entities",
          "lineIdentifier": [
           "victoria"
          ],
          "stationAtcoCode": "940GZZLUVIC"
         }
        ],
        "lineModeGroups": [
         {
          "$type": "Tfl.Api.Presentation.Entities.LineModeGroup, Tfl.Api.Presentation.Entities",
          "lineIdentifier": [
           "circle",
           "district",
           "victoria"
          ],
          "modeName": "tube"
         }
        ],
        "lines": [
         {
          "$type": "Tfl.Api.Presentation.Entities.Identifier, Tfl.Api.Presentation.Entities",
          "crowding": {
           "$type": "Tfl.Api.Presentation.Entities.Crowding, Tfl.Api.Presentation.Entities"
          },
          "id": "circle",
          "name": "Circle",
          "routeType": "Unknown",
          "status": "Unknown",
          "type": "Line",
          "uri": "/Line/circle"
         },
         {
          "$type": "Tfl.Api.Presentation.Entities.Identifier, Tfl.Api.Presentation.Entities",
          "crowding": {
           "$type": "Tfl.Api.Presentation.Entities.Crowding, Tfl.Api.Presentation.Entities"
          },
          "id": "district",
          "name": "District",
          "routeType": "Unknown",
          "status": "Unknown",
          "type": "Line",
          "uri": "/Line/district"
         },
         {
          "$type": "Tfl.Api.Presentation.Entities.Identifier, Tfl.Api.Presentation.Entities",
          "crowding": {
           "$type": "Tfl.Api.Presentation.Entities.Crowding, Tfl.Api.Presentation.Entities"
          },
          "id": "victoria",
          "name": "Victoria",
          "routeType": "Unknown",
          "status": "Unknown",
          "type": "Line",
          "uri": "/Line/victoria"
         }
        ],
        "lon": -0.143102,
        "modes": [
         "tube"
        ],
        "naptanId": "940GZZLUVIC",
        "placeType": "StopPoint",
        "stationNaptan": "940GZZLUVIC",
        "status": true,
        "stopType": "NaptanMetroStation"
       },
       {
        "$type": "Tfl.Api.Presentation.Entities.StopPoint, Tfl.Api.Presentation.Entities",
        "additionalProperties": [
         {
          "$type": "Tfl.Api.Presentation.Entities.AdditionalProperties, Tfl.Api.Presentation.Entities",
          "category": "ServiceInfo",
          "key": "Night",
          "sourceSystemKey": "TransXchangeETL",
          "value": "yes"
         },
         {
          "$type": "Tfl.Api.Presentation.Entities.AdditionalProperties, Tfl.Api.Presentation.Entities",
          "category": "Address",
          "key": "Address",
          "sourceSystemKey": "StaticObjects",
          "value": "Vauxhall Underground Station,London Underground Ltd.,Vauxhall Cross,London,SE1"
         },
         {
          "$type": "Tfl.Api.Presentation.Entities.AdditionalProperties, Tfl.Api.Presentation.Entities",
          "category": "Facility",
          "key": "Bridge",
          "sourceSystemKey": "StaticObjects",
          "value": "no"
         },
         {
          "$type": "Tfl.Api.Presentation.Entities.AdditionalProperties, Tfl.Api.Presentation.Entities",
          "category": "Facility",
          "key": "Help Points",
          "sourceSystemKey": "StaticObjects",
          "value": "4 on platforms, 0 in ticket halls, 1 elsewhere"
         },
         {
          "$type": "Tfl.Api.Presentation.Entities.AdditionalProperties, Tfl.Api.Presentation.Entities",
          "category": "Facility",
          "key": "Payphones",
          "sourceSystemKey": "StaticObjects",
          "value": "2"
         },
         {
          "$type": "Tfl.Api.Presentation.Entities.AdditionalProperties, Tfl.Api.Presentation.Entities",
          "category": "Facility",
          "key": "Toilets",
          "sourceSystemKey": "StaticObjects",
          "value": "no"
         },
         {
          "$type": "Tfl.Api.Presentation.Entities.AdditionalProperties, Tfl.Api.Presentation.Entities",
          "category": "Geo",
          "key": "Zone",
          "sourceSystemKey": "StaticObjects",
          "value": "1+2"
         },
         {
          "$type": "Tfl.Api.Presentation.Entities.AdditionalProperties, Tfl.Api.Presentation.Entities",
          "category": "Facility",
          "key": "Cash Machines",
          "sourceSystemKey": "StaticObjects",
          "value": "3"
         },
         {
          "$type": "Tfl.Api.Presentation.Entities.AdditionalProperties, Tfl.Api.Presentation.Entities",
          "category": "Facility",
          "key": "Waiting Room",
          "sourceSystemKey": "StaticObjects",
          "value": "no"
         },
         {
          "$type": "Tfl.Api.Presentation.Entities.AdditionalProperties, Tfl.Api.Presentation.Entities",
          "category": "Address",
          "key": "PhoneNo",
          "sourceSystemKey": "StaticObjects",
          "value": "0845 330 9880"
         },
         {
          "$type": "Tfl.Api.Presentation.Entities.AdditionalProperties, Tfl.Api.Presentation.Entities",
          "category": "Facility",
          "key": "Euro Cash Machines",
          "sourceSystemKey": "StaticObjects",
          "value": "yes"
         },
         {
          "$type": "Tfl.Api.Presentation.Entities.AdditionalProperties, Tfl.Api.Presentation.Entities",
          "category": "Facility",
          "key": "Lifts",
          "sourceSystemKey": "StaticObjects",
          "value": "0"
         },
         {
          "$type": "Tfl.Api.Presentation.Entities.AdditionalProperties, Tfl.Api.Presentation.Entities",
          "category": "Facility",
          "key": "Ticket Halls",
          "sourceSystemKey": "StaticObjects",
          "value": "1"
         },
         {
          "$type": "Tfl.Api.Presentation.Entities.AdditionalProperties, Tfl.Api.Presentation.Entities",
          "category": "Facility",
          "key": "WiFi",
          "sourceSystemKey": "StaticObjects",
          "value": "yes"
         },
         {
          "$type": "Tfl.Api.Presentation.Entities.AdditionalProperties, Tfl.Api.Presentation.Entities",
          "category": "Facility",
          "key": "Car park",
          "sourceSystemKey": "StaticObjects",
          "value": "no"
         },
         {
          "$type": "Tfl.Api.Presentation.Entities.AdditionalProperties, Tfl.Api.Presentation.Entities",
          "category": "Facility",
          "key": "Escalators",
          "sourceSystemKey": "StaticObjects",
          "value": "2"
         },
         {
          "$type": "Tfl.Api.Presentation.Entities.AdditionalProperties, Tfl.Api.Presentation.Entities",
          "category": "Facility",
          "key": "Other Facilities",
          "sourceSystemKey": "StaticObjects",
          "value": "taxi ranks outside station, subway to street, routeways platform to ticket hall."
         },
         {
          "$type": "Tfl.Api.Presentation.Entities.AdditionalProperties, Tfl.Api.Presentation.Entities",
          "category": "Facility",
          "key": "Gates",
          "sourceSystemKey": "StaticObjects",
          "value": "8"
         },
         {
          "$type": "Tfl.Api.Presentation.Entities.AdditionalProperties, Tfl.Api.Presentation.Entities",
          "category": "Facility",
          "key": "Photo Booths",
          "sourceSystemKey": "StaticObjects",
          "value": "0"
         },
         {
          "$type": "Tfl.Api.Presentation.Entities.AdditionalProperties, Tfl.Api.Presentation.Entities",
          "category": "NearestPlaces",
          "key": "SourceSystemPlaceId",
          "sourceSystemKey": "StaticObjects",
          "value": "BikePoints_270"
         },
         {
          "$type": "Tfl.Api.Presentation.Entities.AdditionalProperties, Tfl.Api.Presentation.Entities",
          "category": "NearestPlaces",
          "key": "SourceSystemPlaceId",
          "sourceSystemKey": "StaticObjects",
          "value": "BikePoints_74"
         },
         {
          "$type": "Tfl.Api.Presentation.Entities.AdditionalProperties, Tfl.Api.Presentation.Entities",
          "category": "NearestPlaces",
          "key": "SourceSystemPlaceId",
          "sourceSystemKey": "StaticObjects",
          "value": "BikePoints_437"
         },
         {
          "$type": "Tfl.Api.Presentation.Entities.AdditionalProperties, Tfl.Api.Presentation.Entities",
          "category": "NearestPlaces",
          "key": "SourceSystemPlaceId",
          "sourceSystemKey": "StaticObjects",
          "value": "BikePoints_146"
         },
         {
          "$type": "Tfl.Api.Presentation.Entities.AdditionalProperties, Tfl.Api.Presentation.Entities",
          "category": "NearestPlaces",
          "key": "SourceSystemPlaceId",
          "sourceSystemKey": "StaticObjects",
          "value": "BikePoints_600"
         },
         {
          "$type": "Tfl.Api.Presentation.Entities.AdditionalProperties, Tfl.Api.Presentation.Entities",
          "category": "NearestPlaces",
          "key": "SourceSystemPlaceId",
          "sourceSystemKey": "StaticObjects",
          "value": "BikePoints_813"
         },
         {
          "$type": "Tfl.Api.Presentation.Entities.AdditionalProperties, Tfl.Api.Presentation.Entities",
          "category": "NearestPlaces",
          "key": "SourceSystemPlaceId",
          "sourceSystemKey": "StaticObjects",
          "value": "TaxiRank_5533"
         },
         {
          "$type": "Tfl.Api.Presentation.Entities.AdditionalProperties, Tfl.Api.Presentation.Entities",
          "category": "NearestPlaces",
          "key": "SourceSystemPlaceId",
          "sourceSystemKey": "StaticObjects",
          "value": "TaxiRank_5490"
         }
        ],
        "children": [
         {
          "$type": "Tfl.Api.Presentation.Entities.StopPoint, Tfl.Api.Presentation.Entities",
          "additionalProperties": [],
          "children": [],
          "commonName": "Vauxhall Underground Station",
          "hubNaptanCode": "HUBVXH",
          "icsCode": "1000247",
          "id": "9400ZZLUVXL1",
          "lat": 0,
          "lineGroup": [],
          "lineModeGroups": [],
          "lines": [],
          "lon": 0,
          "modes": [],
          "naptanId": "9400ZZLUVXL1",
          "placeType": "StopPoint",
          "stationNaptan": "940GZZLUVXL",
          "status": true
         }
        ],
        "commonName": "Vauxhall Underground Station",
        "hubNaptanCode": "HUBVXH",
        "icsCode": "1000247",
        "id": "940GZZLUVXL",
        "lat": 51.485743,
        "lineGroup": [
         {
          "$type": "Tfl.Api.Presentation.Entities.LineGroup, Tfl.Api.Presentation.Entities",
          "lineIdentifier": [
           "victoria"
          ],
          "stationAtcoCode": "940GZZLUVXL"
         }
        ],
        "lineModeGroups": [
         {
          "$type": "Tfl.Api.Presentation.Entities.LineModeGroup, Tfl.Api.Presentation.Entities",
          "lineIdentifier": [
           "victoria"
          ],
          "modeName": "tube"
         }
        ],
        "lines": [
         {
          "$type": "Tfl.Api.Presentation.Entities.Identifier, Tfl.Api.Presentation.Entities",
          "crowding": {
           "$type": "Tfl.Api.Presentation.Entities.Crowding, Tfl.Api.Presentation.Entities"
          },
          "id": "victoria",
          "name": "Victoria",
          "routeType": "Unknown",
          "status": "Unknown",
          "type": "Line",
          "uri": "/Line/victoria"
         }
        ],
        "lon": -0.124204,
        "modes": [
         "tube"
        ],
        "naptanId": "940GZZLUVXL",
        "placeType": "StopPoint",
        "stationNaptan": "940GZZLUVXL",
        "status": true,
        "stopType": "NaptanMetroStation"
       },
       {
        "$type": "Tfl.Api.Presentation.Entities.StopPoint, Tfl.Api.Presentation.Entities",
        "additionalProperties": [
         {
          "$type": "Tfl.Api.Presentation.Entities.AdditionalProperties, Tfl.Api.Presentation.Entities",
          "category": "ServiceInfo",
          "key": "Night",
          "sourceSystemKey": "TransXchangeETL",
          "value": "yes"
         },
         {
          "$type": "Tfl.Api.Presentation.Entities.AdditionalProperties, Tfl.Api.Presentation.Entities",
          "category": "Facility",
          "key": "Help Points",
          "sourceSystemKey": "StaticObjects",
          "value": "0 on platforms, 0 in ticket halls, 5 elsewhere"
         },
         {
          "$type": "Tfl.Api.Presentation.Entities.AdditionalProperties, Tfl.Api.Presentation.Entities",
          "category": "Address",
          "key": "PhoneNo",
          "sourceSystemKey": "StaticObjects",
          "value": "0845 330 9880"
         },
         {
          "$type": "Tfl.Api.Presentation.Entities.AdditionalProperties, Tfl.Api.Presentation.Entities",
          "category": "Facility",
          "key": "Waiting Room",
          "sourceSystemKey": "StaticObjects",
          "value": "no"
         },
         {
          "$type": "Tfl.Api.Presentation.Entities.AdditionalProperties, Tfl.Api.Presentation.Entities",
          "category": "Geo",
          "key": "Zone",
          "sourceSystemKey": "StaticObjects",
          "value": "1"
         },
         {
          "$type": "Tfl.Api.Presentation.Entities.AdditionalProperties, Tfl.Api.Presentation.Entities",
          "category": "Address",
          "key": "Address",
          "sourceSystemKey": "StaticObjects",
          "value": "Warren Street Station,London Underground Ltd.,Tottenham Court Rd,London,NW1 3AA"
         },
         {
          "$type": "Tfl.Api.Presentation.Entities.AdditionalProperties, Tfl.Api.Presentation.Entities",
          "category": "Facility",
          "key": "Gates",
          "sourceSystemKey": "StaticObjects",
          "value": "10"
         },
         {
          "$type": "Tfl.Api.Presentation.Entities.AdditionalProperties, Tfl.Api.Presentation.Entities",
          "category": "Facility",
          "key": "Payphones",
          "sourceSystemKey": "StaticObjects",
          "value": "1"
         },
         {
          "$type": "Tfl.Api.Presentation.Entities.AdditionalProperties, Tfl.Api.Presentation.Entities",
          "category": "Facility",
          "key": "Escalators",
          "sourceSystemKey": "StaticObjects",
          "value": "7"
         },
         {
          "$type": "Tfl.Api.Presentation.Entities.AdditionalProperties, Tfl.Api.Presentation.Entities",
          "category": "Facility",
          "key": "Lifts",
          "sourceSystemKey": "StaticObjects",
          "value": "0"
         },
         {
          "$type": "Tfl.Api.Presentation.Entities.AdditionalProperties, Tfl.Api.Presentation.Entities",
          "category": "Facility",
          "key": "Ticket Halls",
          "sourceSystemKey": "StaticObjects",
          "value": "1"
         },
         {
          "$type": "Tfl.Api.Presentation.Entities.AdditionalProperties, Tfl.Api.Presentation.Entities",
          "category": "Facility",
          "key": "WiFi",
          "sourceSystemKey": "StaticObjects",
          "value": "yes"
         },
         {
          "$type": "Tfl.Api.Presentation.Entities.AdditionalProperties, Tfl.Api.Presentation.Entities",
          "category": "Facility",
          "key": "Car park",
          "sourceSystemKey": "StaticObjects",
          "value": "no"
         },
         {
          "$type": "Tfl.Api.Presentation.Entities.AdditionalProperties, Tfl.Api.Presentation.Entities",
          "category": "Facility",
          "key": "Photo Booths",
          "sourceSystemKey": "StaticObjects",
          "value": "0"
         },
         {
          "$type": "Tfl.Api.Presentation.Entities.AdditionalProperties, Tfl.Api.Presentation.Entities",
          "category": "Facility",
          "key": "Bridge",
          "sourceSystemKey": "StaticObjects",
          "value": "no"
         },
         {
          "$type": "Tfl.Api.Presentation.Entities.AdditionalProperties, Tfl.Api.Presentation.Entities",
          "category": "Facility",
          "key": "Cash Machines",
          "sourceSystemKey": "StaticObjects",
          "value": "0"
         },
         {
          "$type": "Tfl.Api.Presentation.Entities.AdditionalProperties, Tfl.Api.Presentation.Entities",
          "category": "Facility",
          "key": "Toilets",
          "sourceSystemKey": "StaticObjects",
          "value": "yes"
         },
         {
          "$type": "Tfl.Api.Presentation.Entities.AdditionalProperties, Tfl.Api.Presentation.Entities",
          "category": "Facility",
          "key": "Other Facilities",
          "sourceSystemKey": "StaticObjects",
          "value": "canopies over platform, routeways platform to ticket hall."
         },
         {
          "$type": "Tfl.Api.Presentation.Entities.AdditionalProperties, Tfl.Api.Presentation.Entities",
          "category": "NearestPlaces",
          "key": "SourceSystemPlaceId",
          "sourceSystemKey": "StaticObjects",
          "value": "BikePoints_239"
         },
         {
          "$type": "Tfl.Api.Presentation.Entities.AdditionalProperties, Tfl.Api.Presentation.Entities",
          "category": "NearestPlaces",
          "key": "SourceSystemPlaceId",
          "sourceSystemKey": "StaticObjects",
          "value": "BikePoints_19"
         },
         {
          "$type": "Tfl.Api.Presentation.Entities.AdditionalProperties, Tfl.Api.Presentation.Entities",
          "category": "NearestPlaces",
          "key": "SourceSystemPlaceId",
          "sourceSystemKey": "StaticObjects",
          "value": "BikePoints_20"
         },
         {
          "$type": "Tfl.Api.Presentation.Entities.AdditionalProperties, Tfl.Api.Presentation.Entities",
          "category": "NearestPlaces",
          "key": "SourceSystemPlaceId",
          "sourceSystemKey": "StaticObjects",
          "value": "BikePoints_28"
         },
         {
          "$type": "Tfl.Api.Presentation.Entities.AdditionalProperties, Tfl.Api.Presentation.Entities",
          "category": "NearestPlaces",
          "key": "SourceSystemPlaceId",
          "sourceSystemKey": "StaticObjects",
          "value": "BikePoints_69"
         },
         {
          "$type": "Tfl.Api.Presentation.Entities.AdditionalProperties, Tfl.Api.Presentation.Entities",
          "category": "NearestPlaces",
          "key": "SourceSystemPlaceId",
          "sourceSystemKey": "StaticObjects",
          "value": "BikePoints_76"
         },
         {
          "$type": "Tfl.Api.Presentation.Entities.AdditionalProperties, Tfl.Api.Presentation.Entities",
          "category": "NearestPlaces",
          "key": "SourceSystemPlaceId",
          "sourceSystemKey": "StaticObjects",
          "value": "BikePoints_98"
         },
         {
          "$type": "Tfl.Api.Presentation.Entities.AdditionalProperties, Tfl.Api.Presentation.Entities",
          "category": "NearestPlaces",
          "key": "SourceSystemPlaceId",
          "sourceSystemKey": "StaticObjects",
          "value": "BikePoints_357"
         },
         {
          "$type": "Tfl.Api.Presentation.Entities.AdditionalProperties, Tfl.Api.Presentation.Entities",
          "category": "NearestPlaces",
          "key": "SourceSystemPlaceId",
          "sourceSystemKey": "StaticObjects",
          "value": "TaxiRank_5405"
         },
         {
          "$type": "Tfl.Api.Presentation.Entities.AdditionalProperties, Tfl.Api.Presentation.Entities",
          "category": "NearestPlaces",
          "key": "SourceSystemPlaceId",
          "sourceSystemKey": "StaticObjects",
          "value": "TaxiRank_5592"
         },
         {
          "$type": "Tfl.Api.Presentation.Entities.AdditionalProperties, Tfl.Api.Presentation.Entities",
          "category": "NearestPlaces",
          "key": "SourceSystemPlaceId",
          "sourceSystemKey": "StaticObjects",
          "value": "TaxiRank_4427"
         },
         {
          "$type": "Tfl.Api.Presentation.Entities.AdditionalProperties, Tfl.Api.Presentation.Entities",
          "category": "NearestPlaces",
          "key": "SourceSystemPlaceId",
          "sourceSystemKey": "StaticObjects",
          "value": "TaxiRank_4914"
         },
         {
          "$type": "Tfl.Api.Presentation.Entities.AdditionalProperties, Tfl.Api.Presentation.Entities",
          "category": "NearestPlaces",
          "key": "SourceSystemPlaceId",
          "sourceSystemKey": "StaticObjects",
          "value": "TaxiRank_5399"
         },
         {
          "$type": "Tfl.Api.Presentation.Entities.AdditionalProperties, Tfl.Api.Presentation.Entities",
          "category": "NearestPlaces",
          "key": "SourceSystemPlaceId",
          "sourceSystemKey": "StaticObjects",
          "value": "TaxiRank_5638"
         },
         {
          "$type": "Tfl.Api.Presentation.Entities.AdditionalProperties, Tfl.Api.Presentation.Entities",
          "category": "NearestPlaces",
          "key": "SourceSystemPlaceId",
          "sourceSystemKey": "StaticObjects",
          "value": "TaxiRank_5433"
         }
        ],
        "children": [
         {
          "$type": "Tfl.Api.Presentation.Entities.StopPoint, Tfl.Api.Presentation.Entities",
          "additionalProperties": [],
          "children": [],
          "commonName": "Warren Street Underground Station",
          "icsCode": "1000252",
          "id": "9400ZZLUWRR1",
          "lat": 0,
          "lineGroup": [],
          "lineModeGroups": [],
          "lines": [],
          "lon": 0,
          "modes": [],
          "naptanId": "9400ZZLUWRR1",
          "placeType": "StopPoint",
          "stationNaptan": "940GZZLUWRR",
          "status": true
         },
         {
          "$type": "Tfl.Api.Presentation.Entities.StopPoint, Tfl.Api.Presentation.Entities",
          "additionalProperties": [],
          "children": [],
          "commonName": "Warren Street Underground Station",
          "icsCode": "1000252",
          "id": "9400ZZLUWRR2",
          "lat": 0,
          "lineGroup": [],
          "lineModeGroups": [],
          "lines": [],
          "lon": 0,
          "modes": [],
          "naptanId": "9400ZZLUWRR2",
          "placeType": "StopPoint",
          "stationNaptan": "940GZZLUWRR",
          "status": true
         },
         {
          "$type": "Tfl.Api.Presentation.Entities.StopPoint, Tfl.Api.Presentation.Entities",
          "additionalProperties": [],
          "children": [],
          "commonName": "Warren Street Underground Station",
          "icsCode": "1000252",
          "id": "9400ZZLUWRR3",
          "lat": 0,
          "lineGroup": [],
          "lineModeGroups": [],
          "lines": [],
          "lon": 0,
          "modes": [],
          "naptanId": "9400ZZLUWRR3",
          "placeType": "StopPoint",
          "stationNaptan": "940GZZLUWRR",
          "status": true
         },
         {
          "$type": "Tfl.Api.Presentation.Entities.StopPoint, Tfl.Api.Presentation.Entities",
          "additionalProperties": [],
          "children": [],
          "commonName": "Warren Street Underground Station",
          "icsCode": "1000252",
          "id": "9400ZZLUWRR4",
          "lat": 0,
          "lineGroup": [],
          "lineModeGroups": [],
          "lines": [],
          "lon": 0,
          "modes": [],
          "naptanId": "9400ZZLUWRR4",
          "placeType": "StopPoint",
          "stationNaptan": "940GZZLUWRR",
          "status": true
         }
        ],
        "commonName": "Warren Street Underground Station",
        "icsCode": "1000252",
        "id": "940GZZLUWRR",
        "lat": 51.524951,
        "lineGroup": [
         {
          "$type": "Tfl.Api.Presentation.Entities.LineGroup, Tfl.Api.Presentation.Entities",
          "lineIdentifier": [
           "134",
           "24",
           "29",
           "390",
           "73",
           "n20",
           "n253",
           "n279",
           "n29",
           "n5",
           "n73"
          ],
          "naptanIdReference": "490000252X",
          "stationAtcoCode": "490G00252X"
         },
         {
          "$type": "Tfl.Api.Presentation.Entities.LineGroup, Tfl.Api.Presentation.Entities",
          "lineIdentifier": [
           "18",
           "205",
           "30",
           "n205"
          ],
          "naptanIdReference": "490000252KA",
          "stationAtcoCode": "490G00252KA"
         },
         {
          "$type": "Tfl.Api.Presentation.Entities.LineGroup, Tfl.Api.Presentation.Entities",
          "lineIdentifier": [
           "18",
           "205",
           "27",
           "30",
           "n205",
           "n27"
          ],
          "naptanIdReference": "490000252V",
          "stationAtcoCode": "490G00252KA"
         },
         {
          "$type": "Tfl.Api.Presentation.Entities.LineGroup, Tfl.Api.Presentation.Entities",
          "lineIdentifier": [
           "northern"
          ],
          "stationAtcoCode": "940GZZLUWRR"
         },
         {
          "$type": "Tfl.Api.Presentation.Entities.LineGroup, Tfl.Api.Presentation.Entities",
          "lineIdentifier": [
           "victoria"
          ],
          "stationAtcoCode": "940GZZLUWRR"
         }
        ],
        "lineModeGroups": [
         {
          "$type": "Tfl.Api.Presentation.Entities.LineModeGroup, Tfl.Api.Presentation.Entities",
          "lineIdentifier": [
           "134",
           "18",
           "205",
           "24",
           "27",
           "29",
           "30",
           "390",
           "73",
           "n20",
           "n205",
           "n253",
           "n27",
           "n279",
           "n29",
           "n5",
           "n73"
          ],
          "modeName": "bus"
         },
         {
          "$type": "Tfl.Api.Presentation.Entities.LineModeGroup, Tfl.Api.Presentation.Entities",
          "lineIdentifier": [
           "northern",
           "victoria"
          ],
          "modeName": "tube"
         }
        ],
        "lines": [
         {
          "$type": "Tfl.Api.Presentation.Entities.Identifier, Tfl.Api.Presentation.Entities",
          "crowding": {
           "$type": "Tfl.Api.Presentation.Entities.Crowding, Tfl.Api.Presentation.Entities"
          },
          "id": "134",
          "name": "134",
          "routeType": "Unknown",
          "status": "Unknown",
          "type": "Line",
          "uri": "/Line/134"
         },
         {
          "$type": "Tfl.Api.Presentation.Entities.Identifier, Tfl.Api.Presentation.Entities",
          "crowding": {
           "$type": "Tfl.Api.Presentation.Entities.Crowding, Tfl.Api.Presentation.Entities"
          },
          "id": "18",
          "name": "18",
          "routeType": "Unknown",
          "status": "Unknown",
          "type": "Line",
          "uri": "/Line/18"
         },
         {
          "$type": "Tfl.Api.Presentation.Entities.Identifier, Tfl.Api.Presentation.Entities",
          "crowding": {
           "$type": "Tfl.Api.Presentation.Entities.Crowding, Tfl.Api.Presentation.Entities"
          },
          "id": "205",
          "name": "205",
          "routeType": "Unknown",
          "status": "Unknown",
          "type": "Line",
          "uri": "/Line/205"
         },
         {
          "$type": "Tfl.Api.Presentation.Entities.Identifier, Tfl.Api.Presentation.Entities",
          "crowding": {
           "$type": "Tfl.Api.Presentation.Entities.Crowding, Tfl.Api.Presentation.Entities"
          },
          "id": "24",
          "name": "24",
          "routeType": "Unknown",
          "status": "Unknown",
          "type": "Line",
          "uri": "/Line/24"
         },
         {
          "$type": "Tfl.Api.Presentation.Entities.Identifier, Tfl.Api.Presentation.Entities",
          "crowding": {
           "$type": "Tfl.Api.Presentation.Entities.Crowding, Tfl.Api.Presentation.Entities"
          },
          "id": "27",
          "name": "27",
          "routeType": "Unknown",
          "status": "Unknown",
          "type": "Line",
          "uri": "/Line/27"
         },
         {
          "$type": "Tfl.Api.Presentation.Entities.Identifier, Tfl.Api.Presentation.Entities",
          "crowding": {
           "$type": "Tfl.Api.Presentation.Entities.Crowding, Tfl.Api.Presentation.Entities"
          },
          "id": "29",
          "name": "29",
          "routeType": "Unknown",
          "status": "Unknown",
          "type": "Line",
          "uri": "/Line/29"
         },
         {
          "$type": "Tfl.Api.Presentation.Entities.Identifier, Tfl.Api.Presentation.Entities",
          "crowding": {
           "$type": "Tfl.Api.Presentation.Entities.Crowding, Tfl.Api.Presentation.Entities"
          },
          "id": "30",
          "name": "30",
          "routeType": "Unknown",
          "status": "Unknown",
          "type": "Line",
          "uri": "/Line/30"
         },
         {
          "$type": "Tfl.Api.Presentation.Entities.Identifier, Tfl.Api.Presentation.Entities",
          "crowding": {
           "$type": "Tfl.Api.Presentation.Entities.Crowding, Tfl.Api.Presentation.Entities"
          },
          "id": "390",
          "name": "390",
          "routeType": "Unknown",
          "status": "Unknown",
          "type": "Line",
          "uri": "/Line/390"
         },
         {
          "$type": "Tfl.Api.Presentation.Entities.Identifier, Tfl.Api.Presentation.Entities",
          "crowding": {
           "$type": "Tfl.Api.Presentation.Entities.Crowding, Tfl.Api.Presentation.Entities"
          },
          "id": "73",
          "name": "73",
          "routeType": "Unknown",
          "status": "Unknown",
          "type": "Line",
          "uri": "/Line/73"
         },
         {
          "$type": "Tfl.Api.Presentation.Entities.Identifier, Tfl.Api.Presentation.Entities",
          "crowding": {
           "$type": "Tfl.Api.Presentation.Entities.Crowding, Tfl.Api.Presentation.Entities"
          },
          "id": "n20",
          "name": "N20",
          "routeType": "Unknown",
          "status": "Unknown",
          "type": "Line",
          "uri": "/Line/n20"
         },
         {
          "$type": "Tfl.Api.Presentation.Entities.Identifier, Tfl.Api.Presentation.Entities",
          "crowding": {
           "$type": "Tfl.Api.Presentation.Entities.Crowding, Tfl.Api.Presentation.Entities"
          },
          "id": "n205",
          "name": "N205",
          "routeType": "Unknown",
          "status": "Unknown",
          "type": "Line",
          "uri": "/Line/n205"
         },
         {
          "$type": "Tfl.Api.Presentation.Entities.Identifier, Tfl.Api.Presentation.Entities",
          "crowding": {
           "$type": "Tfl.Api.Presentation.Entities.Crowding, Tfl.Api.Presentation.Entities"
          },
          "id": "n253",
          "name": "N253",
          "routeType": "Unknown",
          "status": "Unknown",
          "type": "Line",
          "uri": "/Line/n253"
         },
         {
          "$type": "Tfl.Api.Presentation.Entities.Identifier, Tfl.Api.Presentation.Entities",
          "crowding": {
           "$type": "Tfl.Api.Presentation.Entities.Crowding, Tfl.Api.Presentation.Entities"
          },
          "id": "n27",
          "name": "N27",
          "routeType": "Unknown",
          "status": "Unknown",
          "type": "Line",
          "uri": "/Line/n27"
         },
         {
          "$type": "Tfl.Api.Presentation.Entities.Identifier, Tfl.Api.Presentation.Entities",
          "crowding": {
           "$type": "Tfl.Api.Presentation.Entities.Crowding, Tfl.Api.Presentation.Entities"
          },
          "id": "n279",
          "name": "N279",
          "routeType": "Unknown",
          "status": "Unknown",
          "type": "Line",
          "uri": "/Line/n279"
         },
         {
          "$type": "Tfl.Api.Presentation.Entities.Identifier, Tfl.Api.Presentation.Entities",
          "crowding": {
           "$type": "Tfl.Api.Presentation.Entities.Crowding, Tfl.Api.Presentation.Entities"
          },
          "id": "n29",
          "name": "N29",
          "routeType": "Unknown",
          "status": "Unknown",
          "type": "Line",
          "uri": "/Line/n29"
         },
         {
          "$type": "Tfl.Api.Presentation.Entities.Identifier, Tfl.Api.Presentation.Entities",
          "crowding": {
           "$type": "Tfl.Api.Presentation.Entities.Crowding, Tfl.Api.Presentation.Entities"
          },
          "id": "n5",
          "name": "N5",
          "routeType": "Unknown",
          "status": "Unknown",
          "type": "Line",
          "uri": "/Line/n5"
         },
         {
          "$type": "Tfl.Api.Presentation.Entities.Identifier, Tfl.Api.Presentation.Entities",
          "crowding": {
           "$type": "Tfl.Api.Presentation.Entities.Crowding, Tfl.Api.Presentation.Entities"
          },
          "id": "n73",
          "name": "N73",
          "routeType": "Unknown",
          "status": "Unknown",
          "type": "Line",
          "uri": "/Line/n73"
         },
         {
          "$type": "Tfl.Api.Presentation.Entities.Identifier, Tfl.Api.Presentation.Entities",
          "crowding": {
           "$type": "Tfl.Api.Presentation.Entities.Crowding, Tfl.Api.Presentation.Entities"
          },
          "id": "northern",
          "name": "Northern",
          "routeType": "Unknown",
          "status": "Unknown",
          "type": "Line",
          "uri": "/Line/northern"
         },
         {
          "$type": "Tfl.Api.Presentation.Entities.Identifier, Tfl.Api.Presentation.Entities",
          "crowding": {
           "$type": "Tfl.Api.Presentation.Entities.Crowding, Tfl.Api.Presentation.Entities"
          },
          "id": "victoria",
          "name": "Victoria",
          "routeType": "Unknown",
          "status": "Unknown",
          "type": "Line",
          "uri": "/Line/victoria"
         }
        ],
        "lon": -0.138321,
        "modes": [
         "tube",
         "bus"
        ],
        "naptanId": "940GZZLUWRR",
        "placeType": "StopPoint",
        "stationNaptan": "940GZZLUWRR",
        "status": true,
        "stopType": "NaptanMetroStation"
       },
       {
        "$type": "Tfl.Api.Presentation.Entities.StopPoint, Tfl.Api.Presentation.Entities",
        "additionalProperties": [
         {
          "$type": "Tfl.Api.Presentation.Entities.AdditionalProperties, Tfl.Api.Presentation.Entities",
          "category": "ServiceInfo",
          "key": "Night",
          "sourceSystemKey": "TransXchangeETL",
          "value": "yes"
         },
         {
          "$type": "Tfl.Api.Presentation.Entities.AdditionalProperties, Tfl.Api.Presentation.Entities",
          "category": "Address",
          "key": "Address",
          "sourceSystemKey": "StaticObjects",
          "value": "Walthamstow Central Station BR Hoe St,London,E17 7LP"
         },
         {
          "$type": "Tfl.Api.Presentation.Entities.AdditionalProperties, Tfl.Api.Presentation.Entities",
          "category": "Facility",
          "key": "Payphones",
          "sourceSystemKey": "StaticObjects",
          "value": "0"
         },
         {
          "$type": "Tfl.Api.Presentation.Entities.AdditionalProperties, Tfl.Api.Presentation.Entities",
          "category": "Facility",
          "key": "Cash Machines",
          "sourceSystemKey": "StaticObjects",
          "value": "0"
         },
         {
          "$type": "Tfl.Api.Presentation.Entities.AdditionalProperties, Tfl.Api.Presentation.Entities",
          "category": "Facility",
          "key": "Gates",
          "sourceSystemKey": "StaticObjects",
          "value": "7"
         },
         {
          "$type": "Tfl.Api.Presentation.Entities.AdditionalProperties, Tfl.Api.Presentation.Entities",
          "category": "Facility",
          "key": "Escalators",
          "sourceSystemKey": "StaticObjects",
          "value": "2"
         },
         {
          "$type": "Tfl.Api.Presentation.Entities.AdditionalProperties, Tfl.Api.Presentation.Entities",
          "category": "Facility",
          "key": "Photo Booths",
          "sourceSystemKey": "StaticObjects",
          "value": "0"
         },
         {
          "$type": "Tfl.Api.Presentation.Entities.AdditionalProperties, Tfl.Api.Presentation.Entities",
          "category": "Facility",
          "key": "Ticket Halls",
          "sourceSystemKey": "StaticObjects",
          "value": "1"
         },
         {
          "$type": "Tfl.Api.Presentation.Entities.AdditionalProperties, Tfl.Api.Presentation.Entities",
          "category": "Facility",
          "key": "Bridge",
          "sourceSystemKey": "StaticObjects",
          "value": "no"
         },
         {
          "$type": "Tfl.Api.Presentation.Entities.AdditionalProperties, Tfl.Api.Presentation.Entities",
          "category": "Facility",
          "key": "Lifts",
          "sourceSystemKey": "StaticObjects",
          "value": "0"
         },
         {
          "$type": "Tfl.Api.Presentation.Entities.AdditionalProperties, Tfl.Api.Presentation.Entities",
          "category": "Facility",
          "key": "Other Facilities",
          "sourceSystemKey": "StaticObjects",
          "value": "electronic whiteboards in ticket hall, post office style queuing for tickets, subway to street, routeways platform to ticket hall."
         },
         {
          "$type": "Tfl.Api.Presentation.Entities.AdditionalProperties, Tfl.Api.Presentation.Entities",
          "category": "Facility",
          "key": "Toilets",
          "sourceSystemKey": "StaticObjects",
          "value": "no"
         },
         {
          "$type": "Tfl.Api.Presentation.Entities.AdditionalProperties, Tfl.Api.Presentation.Entities",
          "category": "Facility",
          "key": "WiFi",
          "sourceSystemKey": "StaticObjects",
          "value": "yes"
         },
         {
          "$type": "Tfl.Api.Presentation.Entities.AdditionalProperties, Tfl.Api.Presentation.Entities",
          "category": "Facility",
          "key": "Car park",
          "sourceSystemKey": "StaticObjects",
          "value": "no"
         },
         {
          "$type": "Tfl.Api.Presentation.Entities.AdditionalProperties, Tfl.Api.Presentation.Entities",
          "category": "Facility",
          "key": "Help Points",
          "sourceSystemKey": "StaticObjects",
          "value": "0 on platforms, 0 in ticket halls, 0 elsewhere"
         },
         {
          "$type": "Tfl.Api.Presentation.Entities.AdditionalProperties, Tfl.Api.Presentation.Entities",
          "category": "Address",
          "key": "PhoneNo",
          "sourceSystemKey": "StaticObjects",
          "value": "0845 330 9880"
         },
         {
          "$type": "Tfl.Api.Presentation.Entities.AdditionalProperties, Tfl.Api.Presentation.Entities",
          "category": "Facility",
          "key": "Waiting Room",
          "sourceSystemKey": "StaticObjects",
          "value": "no"
         },
         {
          "$type": "Tfl.Api.Presentation.Entities.AdditionalProperties, Tfl.Api.Presentation.Entities",
          "category": "Geo",
          "key": "Zone",
          "sourceSystemKey": "StaticObjects",
          "value": "3"
         },
         {
          "$type": "Tfl.Api.Presentation.Entities.AdditionalProperties, Tfl.Api.Presentation.Entities",
          "category": "NearestPlaces",
          "key": "SourceSystemPlaceId",
          "sourceSystemKey": "StaticObjects",
          "value": "TaxiRank_5295"
         },
         {
          "$type": "Tfl.Api.Presentation.Entities.AdditionalProperties, Tfl.Api.Presentation.Entities",
          "category": "NearestPlaces",
          "key": "SourceSystemPlaceId",
          "sourceSystemKey": "StaticObjects",
          "value": "TaxiRank_5235"
         },
         {
          "$type": "Tfl.Api.Presentation.Entities.AdditionalProperties, Tfl.Api.Presentation.Entities",
          "category": "NearestPlaces",
          "key": "SourceSystemPlaceId",
          "sourceSystemKey": "StaticObjects",
          "value": "TaxiRank_4913"
         }
        ],
        "children": [
         {
          "$type": "Tfl.Api.Presentation.Entities.StopPoint, Tfl.Api.Presentation.Entities",
          "additionalProperties": [],
          "children": [],
          "commonName": "Walthamstow Central Underground Station",
          "hubNaptanCode": "HUBWHC",
          "icsCode": "1000249",
          "id": "9400ZZLUWWL1",
          "lat": 0,
          "lineGroup": [],
          "lineModeGroups": [],
          "lines": [],
          "lon": 0,
          "modes": [],
          "naptanId": "9400ZZLUWWL1",
          "placeType": "StopPoint",
          "stationNaptan": "940GZZLUWWL",
          "status": true
         }
        ],
        "commonName": "Walthamstow Central Underground Station",
        "hubNaptanCode": "HUBWHC",
        "icsCode": "1000249",
        "id": "940GZZLUWWL",
        "lat": 51.582965,
        "lineGroup": [
         {
          "$type": "Tfl.Api.Presentation.Entities.LineGroup, Tfl.Api.Presentation.Entities",
          "lineIdentifier": [
           "victoria"
          ],
          "stationAtcoCode": "940GZZLUWWL"
         }
        ],
        "lineModeGroups": [
         {
          "$type": "Tfl.Api.Presentation.Entities.LineModeGroup, Tfl.Api.Presentation.Entities",
          "lineIdentifier": [
           "victoria"
          ],
          "modeName": "tube"
         }
        ],
        "lines": [
         {
          "$type": "Tfl.Api.Presentation.Entities.Identifier, Tfl.Api.Presentation.Entities",
          "crowding": {
           "$type": "Tfl.Api.Presentation.Entities.Crowding, Tfl.Api.Presentation.Entities"
          },
          "id": "victoria",
          "name": "Victoria",
          "routeType": "Unknown",
          "status": "Unknown",
          "type": "Line",
          "uri": "/Line/victoria"
         }
        ],
        "lon": -0.019885,
        "modes": [
         "tube"
        ],
        "naptanId": "940GZZLUWWL",
        "placeType": "StopPoint",
        "stationNaptan": "940GZZLUWWL",
        "status": true,
        "stopType": "NaptanMetroStation"
       }
      ],
      "text/plain": [
       "<IPython.core.display.JSON object>"
      ]
     },
     "execution_count": 10,
     "metadata": {
      "application/json": {
       "expanded": false,
       "root": "root"
      }
     },
     "output_type": "execute_result"
    }
   ],
   "source": [
    "response_json = get_data(line_endpoint,\"/victoria\",\"/StopPoints\")\n",
    "print(f\"Number of stations that serve victoria: {len(response_json)}\")\n",
    "JSON(response_json)"
   ]
  },
  {
   "cell_type": "code",
   "execution_count": 11,
   "id": "df92215d-e575-4081-92b4-707e41001d6d",
   "metadata": {},
   "outputs": [
    {
     "name": "stdout",
     "output_type": "stream",
     "text": [
      "......... Data received successfully from https://api.tfl.gov.uk/StopPoint/Search\n"
     ]
    },
    {
     "data": {
      "application/json": {
       "$type": "Tfl.Api.Presentation.Entities.SearchResponse, Tfl.Api.Presentation.Entities",
       "matches": [
        {
         "$type": "Tfl.Api.Presentation.Entities.MatchedStop, Tfl.Api.Presentation.Entities",
         "icsId": "1000104",
         "id": "HUBHX4",
         "lat": 51.458837,
         "lon": -0.446419,
         "modes": [
          "national-rail",
          "tflrail",
          "tube",
          "plane",
          "bus"
         ],
         "name": "Heathrow Airport Terminal 4",
         "zone": "6"
        },
        {
         "$type": "Tfl.Api.Presentation.Entities.MatchedStop, Tfl.Api.Presentation.Entities",
         "icsId": "1016430",
         "id": "HUBHX5",
         "lat": 51.471569,
         "lon": -0.489556,
         "modes": [
          "tflrail",
          "national-rail",
          "plane",
          "tube",
          "bus"
         ],
         "name": "Heathrow Airport Terminal 5",
         "zone": "6"
        }
       ],
       "query": "Heathrow Airport",
       "total": 2
      },
      "text/plain": [
       "<IPython.core.display.JSON object>"
      ]
     },
     "execution_count": 11,
     "metadata": {
      "application/json": {
       "expanded": false,
       "root": "root"
      }
     },
     "output_type": "execute_result"
    }
   ],
   "source": [
    "query_string = \"Heathrow Airport\"\n",
    "response_json = get_data(stoppoint_endpoint,\"Search\",params={\"query\":query_string})\n",
    "ics_ids_heathrow_airport = {}\n",
    "for ics_id in response_json[\"matches\"]:\n",
    "    ics_ids_heathrow_airport[ics_id[\"icsId\"]]=ics_id[\"name\"]\n",
    "    \n",
    "JSON(response_json)"
   ]
  },
  {
   "cell_type": "code",
   "execution_count": 12,
   "id": "7a0420b5-accc-43bd-b823-aea143b6eec3",
   "metadata": {},
   "outputs": [
    {
     "name": "stdout",
     "output_type": "stream",
     "text": [
      "......... Data received successfully from https://api.tfl.gov.uk/StopPoint/Search\n"
     ]
    },
    {
     "data": {
      "application/json": {
       "$type": "Tfl.Api.Presentation.Entities.SearchResponse, Tfl.Api.Presentation.Entities",
       "matches": [
        {
         "$type": "Tfl.Api.Presentation.Entities.MatchedStop, Tfl.Api.Presentation.Entities",
         "icsId": "1013744",
         "id": "490G00013744",
         "lat": 51.503661,
         "lon": -0.07674,
         "modes": [
          "bus"
         ],
         "name": "Tower Bridge / City Hall",
         "topMostParentId": "490G00013744"
        },
        {
         "$type": "Tfl.Api.Presentation.Entities.MatchedStop, Tfl.Api.Presentation.Entities",
         "icsId": "1013746",
         "id": "490G00013746",
         "lat": 51.501842,
         "lon": -0.079323,
         "modes": [
          "bus"
         ],
         "name": "Tower Bridge Road",
         "topMostParentId": "490G00013746"
        },
        {
         "$type": "Tfl.Api.Presentation.Entities.MatchedStop, Tfl.Api.Presentation.Entities",
         "icsId": "1019012",
         "id": "490G00019012",
         "lat": 51.495155,
         "lon": -0.083955,
         "modes": [
          "bus"
         ],
         "name": "Bricklayer's Arms / Tower Bridge Road",
         "topMostParentId": "490G00019012"
        },
        {
         "$type": "Tfl.Api.Presentation.Entities.MatchedStop, Tfl.Api.Presentation.Entities",
         "icsId": "1002087",
         "id": "930GSTC",
         "lat": 51.50614,
         "lon": -0.073797,
         "modes": [
          "river-bus"
         ],
         "name": "Tower Bridge Quay",
         "topMostParentId": "930GSTC"
        }
       ],
       "query": "Tower Bridge",
       "total": 4
      },
      "text/plain": [
       "<IPython.core.display.JSON object>"
      ]
     },
     "execution_count": 12,
     "metadata": {
      "application/json": {
       "expanded": false,
       "root": "root"
      }
     },
     "output_type": "execute_result"
    }
   ],
   "source": [
    "query_string = \"Tower Bridge\"\n",
    "response_json = get_data(stoppoint_endpoint,\"Search\",params={\"query\":query_string})\n",
    "ics_ids_tower_bridge = {}\n",
    "for ics_id in response_json[\"matches\"]:\n",
    "    ics_ids_tower_bridge[ics_id[\"icsId\"]]=ics_id[\"name\"]\n",
    "\n",
    "JSON(response_json)"
   ]
  },
  {
   "cell_type": "code",
   "execution_count": 13,
   "id": "c1f70b1b-d588-4f54-9277-6f775fe9f2e3",
   "metadata": {},
   "outputs": [
    {
     "name": "stdout",
     "output_type": "stream",
     "text": [
      "......... Data received successfully from https://api.tfl.gov.uk/Journey/JourneyResults//1000104/to/1013744\n",
      "Fastest possible Journey between Heathrow Airport Terminal 4 and Tower Bridge / City Hall is: 90 minutes\n",
      "......... Data received successfully from https://api.tfl.gov.uk/Journey/JourneyResults//1000104/to/1013746\n",
      "Fastest possible Journey between Heathrow Airport Terminal 4 and Tower Bridge Road is: 93 minutes\n",
      "......... Data received successfully from https://api.tfl.gov.uk/Journey/JourneyResults//1000104/to/1019012\n",
      "Fastest possible Journey between Heathrow Airport Terminal 4 and Bricklayer's Arms / Tower Bridge Road is: 96 minutes\n",
      "......... Data received successfully from https://api.tfl.gov.uk/Journey/JourneyResults//1000104/to/1002087\n",
      "Fastest possible Journey between Heathrow Airport Terminal 4 and Tower Bridge Quay is: 118 minutes\n",
      "......... Data received successfully from https://api.tfl.gov.uk/Journey/JourneyResults//1016430/to/1013744\n",
      "Fastest possible Journey between Heathrow Airport Terminal 5 and Tower Bridge / City Hall is: 102 minutes\n",
      "......... Data received successfully from https://api.tfl.gov.uk/Journey/JourneyResults//1016430/to/1013746\n",
      "Fastest possible Journey between Heathrow Airport Terminal 5 and Tower Bridge Road is: 99 minutes\n",
      "......... Data received successfully from https://api.tfl.gov.uk/Journey/JourneyResults//1016430/to/1019012\n",
      "Fastest possible Journey between Heathrow Airport Terminal 5 and Bricklayer's Arms / Tower Bridge Road is: 102 minutes\n",
      "......... Data received successfully from https://api.tfl.gov.uk/Journey/JourneyResults//1016430/to/1002087\n",
      "Fastest possible Journey between Heathrow Airport Terminal 5 and Tower Bridge Quay is: 104 minutes\n"
     ]
    }
   ],
   "source": [
    "mode = \"bus,tube\"\n",
    "for heathrow_ics_id,heathrow_ics_name in ics_ids_heathrow_airport.items():\n",
    "    for tower_bridge_ics_id,tower_ics_name in ics_ids_tower_bridge.items():\n",
    "        response_json = get_data(journey_endpoint,\"JourneyResults/\",heathrow_ics_id,\"to\",tower_bridge_ics_id,params={\"mode\":mode})\n",
    "        min_duration = min([journey[\"duration\"] for journey in response_json[\"journeys\"]])\n",
    "        print(f\"Fastest possible Journey between {heathrow_ics_name} and {tower_ics_name} is: {min_duration} minutes\")"
   ]
  },
  {
   "cell_type": "code",
   "execution_count": 14,
   "id": "041278ac-0c61-4f9d-961d-0373c120b5b6",
   "metadata": {},
   "outputs": [
    {
     "name": "stdout",
     "output_type": "stream",
     "text": [
      "......... Data received successfully from https://api.tfl.gov.uk/Journey/JourneyResults//1000104/to/1013744\n"
     ]
    }
   ],
   "source": [
    "response_json = get_data(journey_endpoint,\"JourneyResults/\",\"1000104\",\"to\",\"1013744\",params={\"mode\":\"bus\"})"
   ]
  },
  {
   "cell_type": "code",
   "execution_count": 15,
   "id": "6ca47a27-ed32-462c-a982-c5714ce4fff1",
   "metadata": {},
   "outputs": [
    {
     "data": {
      "application/json": {
       "$type": "Tfl.Api.Presentation.Entities.JourneyPlanner.ItineraryResult, Tfl.Api.Presentation.Entities",
       "journeyVector": {
        "$type": "Tfl.Api.Presentation.Entities.JourneyPlanner.JourneyVector, Tfl.Api.Presentation.Entities",
        "from": "1000104",
        "to": "1013744",
        "uri": "/journey/journeyresults/1000104/to/1013744?mode=bus",
        "via": ""
       },
       "journeys": [
        {
         "$type": "Tfl.Api.Presentation.Entities.JourneyPlanner.Journey, Tfl.Api.Presentation.Entities",
         "arrivalDateTime": "2021-06-25T01:06:00",
         "duration": 120,
         "legs": [
          {
           "$type": "Tfl.Api.Presentation.Entities.JourneyPlanner.Leg, Tfl.Api.Presentation.Entities",
           "arrivalPoint": {
            "$type": "Tfl.Api.Presentation.Entities.StopPoint, Tfl.Api.Presentation.Entities",
            "additionalProperties": [],
            "commonName": "Hounslow West Stn  / Vicarage Farm Rd",
            "icsCode": "1000404",
            "lat": 51.47367522125,
            "lon": -0.38662343926000003,
            "naptanId": "490G000053",
            "placeType": "StopPoint",
            "platformName": "D",
            "stopLetter": "D"
           },
           "arrivalTime": "2021-06-24T23:21:00",
           "departurePoint": {
            "$type": "Tfl.Api.Presentation.Entities.StopPoint, Tfl.Api.Presentation.Entities",
            "additionalProperties": [],
            "commonName": "Heathrow Terminal 4",
            "icsCode": "1000104",
            "lat": 51.459036988810006,
            "lon": -0.44664640231999997,
            "naptanId": "490G00104A",
            "placeType": "StopPoint",
            "platformName": ""
           },
           "departureTime": "2021-06-24T23:06:00",
           "disruptions": [
            {
             "$type": "Tfl.Api.Presentation.Entities.Disruption, Tfl.Api.Presentation.Entities",
             "additionalInfo": "",
             "category": "PlannedWork",
             "categoryDescription": "PlannedWork",
             "created": "2020-04-27T13:47:00",
             "description": "Temporary closure of Heathrow Terminal 4 stations: Due to a significant drop in demand, all flights to/from Heathrow Airport are operating from Terminals 2 & 5 only. The Piccadilly line and TfL Rail stations at Terminal 4 are closed until further notice.  All Piccadilly line and TfL Rail services to the airport are operating to/from Heathrow T1,2,3 & 5 stations. To check flight departure and arrivals information, visit Heathrow.com or contact your airline.",
             "lastUpdate": "2021-04-13T15:25:00",
             "summary": "",
             "type": "stopBlocking"
            },
            {
             "$type": "Tfl.Api.Presentation.Entities.Disruption, Tfl.Api.Presentation.Entities",
             "additionalInfo": "",
             "category": "PlannedWork",
             "categoryDescription": "PlannedWork",
             "created": "2020-04-27T13:48:00",
             "description": "Temporary closure of Heathrow Terminal 4 stations: Due to a significant drop in demand, all flights to/from Heathrow Airport are operating from Terminals 2 & 5 only. The Piccadilly line and TfL Rail stations at Terminal 4 are closed until further notice.  All Piccadilly line and TfL Rail services to the airport are operating to/from Heathrow T1,2,3 & 5 stations. To check flight departure and arrivals information, visit Heathrow.com or contact your airline.",
             "lastUpdate": "2021-04-13T15:25:00",
             "summary": "",
             "type": "stopBlocking"
            },
            {
             "$type": "Tfl.Api.Presentation.Entities.Disruption, Tfl.Api.Presentation.Entities",
             "additionalInfo": "",
             "category": "PlannedWork",
             "categoryDescription": "PlannedWork",
             "created": "2020-11-23T13:18:00",
             "description": ".",
             "lastUpdate": "2021-04-13T15:24:00",
             "summary": "heathrow terminal 4 interim block",
             "type": "stopBlocking"
            }
           ],
           "duration": 15,
           "hasFixedLocations": true,
           "instruction": {
            "$type": "Tfl.Api.Presentation.Entities.Instruction, Tfl.Api.Presentation.Entities",
            "detailed": "482 bus towards Southall, Town Hall",
            "steps": [],
            "summary": "482 bus to Hounslow West Station / Vicarage Farm Road"
           },
           "isDisrupted": true,
           "mode": {
            "$type": "Tfl.Api.Presentation.Entities.Identifier, Tfl.Api.Presentation.Entities",
            "id": "bus",
            "name": "bus",
            "routeType": "Unknown",
            "status": "Unknown",
            "type": "Mode"
           },
           "obstacles": [],
           "path": {
            "$type": "Tfl.Api.Presentation.Entities.JourneyPlanner.Path, Tfl.Api.Presentation.Entities",
            "elevation": [],
            "lineString": "[[51.45900762536, -0.44659467453],[51.45967978145, -0.44561695662],[51.45983124588, -0.44551104854],[51.45985649368, -0.44538063857],[51.45979970268, -0.44516664796],[51.45931244941, -0.44436271691],[51.4590037958, -0.44414289934],[51.4587798542, -0.44420809108],[51.45845799672, -0.44434858238],[51.45834000459, -0.44426622837],[51.45814667005, -0.44392734159],[51.45816407363, -0.44388356729],[51.45799560164, -0.44338550253],[51.45843756124, -0.44280909252],[51.45884413851, -0.4422770589],[51.45895085002, -0.44218705973],[51.45906960813, -0.44232696117],[51.45930846637, -0.44203093956],[51.45962611413, -0.44157389077],[51.45990611569, -0.44097666546],[51.45990611569, -0.44097666546],[51.45997588663, -0.44082784636],[51.46006136756, -0.440493854],[51.4600957679, -0.43902441437],[51.46018563317, -0.43834479273],[51.46162244602, -0.43482649448],[51.46227027656, -0.4335087405],[51.46501350296, -0.42683568312],[51.46572068008, -0.42525653524],[51.46645412832, -0.42429549523],[51.46677441274, -0.42403971564],[51.46679634794, -0.42366464029],[51.46718950317, -0.42347832797],[51.46728411546, -0.42315833186],[51.46719268623, -0.4230463072],[51.46696112414, -0.42321265639],[51.46680398184, -0.42356359884],[51.46680398184, -0.42356359884],[51.46679634794, -0.42366464029],[51.46677441274, -0.42403971564],[51.46758594729, -0.42353665071],[51.46762411532, -0.42303143433],[51.46764991841, -0.42294416171],[51.46742076388, -0.42262092847],[51.46700343915, -0.42234737921],[51.46686087167, -0.42177641875],[51.46717146242, -0.42080110199],[51.46740406076, -0.42004442259],[51.46952126552, -0.41301716446],[51.46970423386, -0.41240721088],[51.46970423386, -0.41240721088],[51.46982240443, -0.41201326249],[51.47006373825, -0.41124179211],[51.47021830748, -0.41070369686],[51.47097137993, -0.40854658885],[51.47107572036, -0.40828378925],[51.4713197653, -0.4077137602],[51.47190162975, -0.40619605446],[51.47208333519, -0.40567137273],[51.47210052852, -0.40561317895],[51.4721698887, -0.40542357881],[51.4723431899, -0.40494238003],[51.47271468006, -0.4038144675],[51.47271468006, -0.4038144675],[51.47307719819, -0.40271374589],[51.47322450452, -0.40230543006],[51.47333624966, -0.40192715222],[51.47381920787, -0.40048638923],[51.47381920787, -0.40048638923],[51.47434720655, -0.39891116534],[51.47444648526, -0.39862218196],[51.47444648526, -0.39862218196],[51.47463260621, -0.3980804066],[51.47495198456, -0.39710445132],[51.47514204618, -0.39653620591],[51.47529812173, -0.39611314412],[51.47541378425, -0.39602268953],[51.4754683027, -0.39606397637],[51.47562090143, -0.3960442244],[51.47570061199, -0.39595503005],[51.47575001122, -0.3956221025],[51.47572166884, -0.3955222985],[51.47569450799, -0.39550885171],[51.47551238525, -0.39534244527],[51.47535092223, -0.39471452635],[51.47526589255, -0.39441511906],[51.47509721084, -0.3939170564],[51.47497228372, -0.39333106303],[51.47485752523, -0.39283111243],[51.47467649426, -0.39208870357],[51.47440862073, -0.39108603012],[51.47440862073, -0.39108603012],[51.47430681304, -0.3907049667],[51.47408882888, -0.38989187964],[51.47392812772, -0.38932156904],[51.47352226457, -0.38792475294],[51.47348433416, -0.38778209924],[51.47316587878, -0.38685739222],[51.47365917403, -0.3865560776]]",
            "stopPoints": [
             {
              "$type": "Tfl.Api.Presentation.Entities.Identifier, Tfl.Api.Presentation.Entities",
              "id": "490G000002",
              "name": "Starlight Way",
              "routeType": "Unknown",
              "status": "Unknown",
              "type": "StopPoint",
              "uri": "/StopPoint/490G000002"
             },
             {
              "$type": "Tfl.Api.Presentation.Entities.Identifier, Tfl.Api.Presentation.Entities",
              "id": "490G00103G",
              "name": "Hatton Cross Station",
              "routeType": "Unknown",
              "status": "Unknown",
              "type": "StopPoint",
              "uri": "/StopPoint/490G00103G"
             },
             {
              "$type": "Tfl.Api.Presentation.Entities.Identifier, Tfl.Api.Presentation.Entities",
              "id": "490G00007196",
              "name": "Girling Way",
              "routeType": "Unknown",
              "status": "Unknown",
              "type": "StopPoint",
              "uri": "/StopPoint/490G00007196"
             },
             {
              "$type": "Tfl.Api.Presentation.Entities.Identifier, Tfl.Api.Presentation.Entities",
              "id": "490G00013285",
              "name": "The Parkway",
              "routeType": "Unknown",
              "status": "Unknown",
              "type": "StopPoint",
              "uri": "/StopPoint/490G00013285"
             },
             {
              "$type": "Tfl.Api.Presentation.Entities.Identifier, Tfl.Api.Presentation.Entities",
              "id": "490G00007370",
              "name": "Grantley Road",
              "routeType": "Unknown",
              "status": "Unknown",
              "type": "StopPoint",
              "uri": "/StopPoint/490G00007370"
             },
             {
              "$type": "Tfl.Api.Presentation.Entities.Identifier, Tfl.Api.Presentation.Entities",
              "id": "490G00015462",
              "name": "Henlys Roundabout",
              "routeType": "Unknown",
              "status": "Unknown",
              "type": "StopPoint",
              "uri": "/StopPoint/490G00015462"
             },
             {
              "$type": "Tfl.Api.Presentation.Entities.Identifier, Tfl.Api.Presentation.Entities",
              "id": "490G000040",
              "name": "Great West Road / Renfrew Road",
              "routeType": "Unknown",
              "status": "Unknown",
              "type": "StopPoint",
              "uri": "/StopPoint/490G000040"
             },
             {
              "$type": "Tfl.Api.Presentation.Entities.Identifier, Tfl.Api.Presentation.Entities",
              "id": "490G000053",
              "name": "Hounslow West Stn  / Vicarage Farm Rd",
              "routeType": "Unknown",
              "status": "Unknown",
              "type": "StopPoint",
              "uri": "/StopPoint/490G000053"
             }
            ]
           },
           "plannedWorks": [],
           "routeOptions": [
            {
             "$type": "Tfl.Api.Presentation.Entities.JourneyPlanner.RouteOption, Tfl.Api.Presentation.Entities",
             "directions": [
              "Southall, Town Hall"
             ],
             "lineIdentifier": {
              "$type": "Tfl.Api.Presentation.Entities.Identifier, Tfl.Api.Presentation.Entities",
              "crowding": {
               "$type": "Tfl.Api.Presentation.Entities.Crowding, Tfl.Api.Presentation.Entities"
              },
              "id": "482",
              "name": "482",
              "routeType": "Unknown",
              "status": "Unknown",
              "type": "Line",
              "uri": "/Line/482"
             },
             "name": "482"
            }
           ]
          },
          {
           "$type": "Tfl.Api.Presentation.Entities.JourneyPlanner.Leg, Tfl.Api.Presentation.Entities",
           "arrivalPoint": {
            "$type": "Tfl.Api.Presentation.Entities.StopPoint, Tfl.Api.Presentation.Entities",
            "additionalProperties": [],
            "commonName": "Hammersmith Bus Station",
            "icsCode": "1007705",
            "lat": 51.49259065112,
            "lon": -0.22450195684,
            "naptanId": "490G000565",
            "placeType": "StopPoint",
            "platformName": "",
            "stopLetter": "Z1"
           },
           "arrivalTime": "2021-06-24T23:53:00",
           "departurePoint": {
            "$type": "Tfl.Api.Presentation.Entities.StopPoint, Tfl.Api.Presentation.Entities",
            "additionalProperties": [],
            "commonName": "Hounslow West Stn  / Vicarage Farm Rd",
            "icsCode": "1000404",
            "lat": 51.47367522125,
            "lon": -0.38662343926000003,
            "naptanId": "490G000053",
            "placeType": "StopPoint",
            "platformName": "D",
            "stopLetter": "D"
           },
           "departureTime": "2021-06-24T23:24:00",
           "disruptions": [],
           "duration": 29,
           "hasFixedLocations": true,
           "instruction": {
            "$type": "Tfl.Api.Presentation.Entities.Instruction, Tfl.Api.Presentation.Entities",
            "detailed": "H91 bus towards Hammersmith",
            "steps": [],
            "summary": "H91 bus to Hammersmith Bus Station"
           },
           "isDisrupted": false,
           "mode": {
            "$type": "Tfl.Api.Presentation.Entities.Identifier, Tfl.Api.Presentation.Entities",
            "id": "bus",
            "name": "bus",
            "routeType": "Unknown",
            "status": "Unknown",
            "type": "Mode"
           },
           "obstacles": [],
           "path": {
            "$type": "Tfl.Api.Presentation.Entities.JourneyPlanner.Path, Tfl.Api.Presentation.Entities",
            "elevation": [],
            "lineString": "[[51.47365917403, -0.3865560776],[51.47406653169, -0.38630725001],[51.47477645381, -0.38561982335],[51.47504311938, -0.3853944161],[51.47578898748, -0.38470569046],[51.47629614385, -0.384313377],[51.47642098321, -0.38423696615],[51.47646552619, -0.38420659225],[51.47650590397, -0.38387396481],[51.47657965311, -0.38335295642],[51.47659167836, -0.38325388829],[51.47659167836, -0.38325388829],[51.47666040286, -0.38268769792],[51.47671636943, -0.38218171502],[51.47687924285, -0.38095193974],[51.47693559945, -0.38047473872],[51.47719811746, -0.37849840611],[51.47719811746, -0.37849840611],[51.47727768035, -0.37789937311],[51.47731823927, -0.37758112782],[51.47752221678, -0.37607625287],[51.47774775786, -0.37420580337],[51.47774775786, -0.37420580337],[51.47778031002, -0.37393582087],[51.47796107214, -0.37270534975],[51.47805813825, -0.37192426627],[51.47859989341, -0.36779044431],[51.47859989341, -0.36779044431],[51.47865161717, -0.36739570657],[51.47883849029, -0.36596335567],[51.47897583469, -0.36484958285],[51.47901615723, -0.36451692125],[51.47905748271, -0.36425622751],[51.4791150904, -0.36382072361],[51.4791150904, -0.36382072361],[51.47912255795, -0.36376426932],[51.47920420044, -0.36317091026],[51.47924411628, -0.36280945816],[51.47932575391, -0.36221609593],[51.47987670707, -0.35801693758],[51.47987670707, -0.35801693758],[51.47999208419, -0.35713741796],[51.48007369293, -0.35654403651],[51.48022013695, -0.35544427795],[51.4803430409, -0.35459018136],[51.48062336583, -0.35277992098],[51.48077768107, -0.35186608333],[51.48077768107, -0.35186608333],[51.48085580753, -0.35140340863],[51.48131259654, -0.34935631203],[51.48178671631, -0.34726534217],[51.48185415476, -0.34694606522],[51.48198862305, -0.34627871961],[51.48213414154, -0.34525716848],[51.48213414154, -0.34525716848],[51.48224226175, -0.34449811128],[51.48237147178, -0.34252790987],[51.48237147178, -0.34252790987],[51.48244201382, -0.34145206297],[51.48246409047, -0.34110561463],[51.48249189488, -0.34052852628],[51.48263374719, -0.33773653638],[51.48263374719, -0.33773653638],[51.48268174605, -0.33679150412],[51.48270401309, -0.33645944666],[51.48294217649, -0.3315457228],[51.48294217649, -0.3315457228],[51.4829543537, -0.33129436998],[51.48310172155, -0.32901344393],[51.48316674535, -0.32856720605],[51.48316674535, -0.32856720605],[51.48338021164, -0.32710216284],[51.48348739784, -0.32642133135],[51.48378244146, -0.32504230052],[51.48395175054, -0.32445867902],[51.48395175054, -0.32445867902],[51.48407383051, -0.32403785097],[51.48417674424, -0.32368841693],[51.48466193711, -0.32240318758],[51.48486144401, -0.32189176933],[51.48532192147, -0.32076584123],[51.48534880116, -0.32070108339],[51.48534880116, -0.32070108339],[51.48570438691, -0.31984440033],[51.48625203723, -0.31852798238],[51.48633902344, -0.31832313731],[51.48679089139, -0.31722625972],[51.48744222778, -0.31561788645],[51.4876584386, -0.31501936909],[51.48786730036, -0.31445161829],[51.48786730036, -0.31445161829],[51.48812576626, -0.31374901046],[51.48829951419, -0.31332488855],[51.4884561138, -0.31295901199],[51.4889167108, -0.31184730288],[51.48943039293, -0.3106759922],[51.48956168073, -0.31042626717],[51.48979613177, -0.30971192352],[51.48979613177, -0.30971192352],[51.48994931489, -0.30924518208],[51.49000911425, -0.3090269038],[51.49005218372, -0.30889567052],[51.49088948981, -0.30647351062],[51.49115147056, -0.30530875879],[51.49115147056, -0.30530875879],[51.49137956201, -0.30429462381],[51.49142262609, -0.30416338224],[51.49139212408, -0.30391963155],[51.4914073922, -0.30373180177],[51.49148125364, -0.3020004744],[51.49149906178, -0.30074658724],[51.49150556662, -0.30018133399],[51.49150556662, -0.30018133399],[51.491518954, -0.29901725964],[51.49155303064, -0.29826693589],[51.49151227523, -0.29793714071],[51.4915032601, -0.2948404228],[51.49147167493, -0.29390528313],[51.49146038345, -0.29374725084],[51.49147246948, -0.29272405198],[51.49151884798, -0.29220374259],[51.49157714752, -0.29188465555],[51.4916872839, -0.29157060302],[51.49172595014, -0.29160539941],[51.49245109816, -0.28953275197],[51.49241371045, -0.28949910786],[51.49287215763, -0.28819170067],[51.49300355497, -0.28733686088],[51.49299850833, -0.2869913207],[51.49277096891, -0.28557372336],[51.49266368676, -0.28500153662],[51.49256583788, -0.28465487506],[51.49256583788, -0.28465487506],[51.49239813887, -0.28406075847],[51.4922937994, -0.28369014171],[51.49216333942, -0.28337812832],[51.49178157459, -0.28248495241],[51.49184237806, -0.28233861702],[51.49188913219, -0.2818470882],[51.49187866823, -0.28174664629],[51.49180065085, -0.28133183399],[51.49185955372, -0.28105592311],[51.49195145067, -0.28057709936],[51.49200655137, -0.28004203808],[51.49210923691, -0.27907303044],[51.49213990434, -0.27871174734],[51.49217078201, -0.27836486095],[51.49221209707, -0.27794497883],[51.49221209707, -0.27794497883],[51.49223337999, -0.27772867563],[51.49233932118, -0.2763705946],[51.49239877902, -0.275766214],[51.49239877902, -0.275766214],[51.49243320055, -0.27541630875],[51.49250307544, -0.27466459877],[51.49257811835, -0.27365339623],[51.49262292789, -0.27303227592],[51.49281741517, -0.27158439074],[51.49285039388, -0.27138146829],[51.49288927685, -0.27081196001],[51.49288927685, -0.27081196001],[51.49293913599, -0.27008162581],[51.49294302589, -0.26973574897],[51.49291995266, -0.26939089314],[51.49289730342, -0.26907483236],[51.49268332138, -0.26676368051],[51.49262970516, -0.26557007351],[51.49257967723, -0.2648892199],[51.49257967723, -0.2648892199],[51.49256215017, -0.26465069901],[51.49253373446, -0.26394591932],[51.49245976884, -0.26259463485],[51.49245784915, -0.2624650605],[51.49244867533, -0.26184598325],[51.49244376706, -0.26151484904],[51.49244376706, -0.26151484904],[51.49243949823, -0.26122690633],[51.49244378904, -0.26090982741],[51.49245772438, -0.26003057609],[51.49247206748, -0.25978514044],[51.49250075213, -0.2592942687],[51.49252558682, -0.25854424784],[51.49254014061, -0.25831320857],[51.49255335695, -0.258081421],[51.49255335695, -0.258081421],[51.49260434335, -0.25718714724],[51.49261140499, -0.25705723009],[51.49265933384, -0.25604702882],[51.49270404994, -0.2554258924],[51.49274383456, -0.25447361971],[51.49278105551, -0.25395360451],[51.49280651648, -0.25337688302],[51.49280651648, -0.25337688302],[51.49284156966, -0.25258277979],[51.49285182034, -0.2520637934],[51.49286099545, -0.25147282087],[51.49294632862, -0.25056201359],[51.4929781968, -0.25028709017],[51.49304236096, -0.24976603672],[51.49310624109, -0.24927125674],[51.49310624109, -0.24927125674],[51.49317132725, -0.24876711738],[51.49321217847, -0.248491847],[51.49326842274, -0.24804311957],[51.49332999501, -0.24734929217],[51.49333683054, -0.24720497438],[51.49335582219, -0.24674964397],[51.49335582219, -0.24674964397],[51.4933765482, -0.24625268296],[51.49340259157, -0.24558902656],[51.49343078572, -0.2450693427],[51.49344229608, -0.24463673267],[51.49349098008, -0.24368409191],[51.49353217917, -0.24283257626],[51.49353771467, -0.24260187327],[51.49355928213, -0.24224090282],[51.49355604504, -0.24202494273],[51.49356257862, -0.24126119228],[51.49355890785, -0.24101643763],[51.49353169517, -0.24026828273],[51.49353169517, -0.24026828273],[51.49349768155, -0.23933333615],[51.49348350624, -0.23898814736],[51.49346142383, -0.23871529162],[51.49339733599, -0.23804069864],[51.49332793545, -0.23761120722],[51.49322386253, -0.23714848127],[51.49322386253, -0.23714848127],[51.49316411615, -0.23688284326],[51.49309730929, -0.2366261217],[51.49304804327, -0.23633991294],[51.49294842621, -0.23569551183],[51.4929243376, -0.2352406338],[51.4929243376, -0.2352406338],[51.49292330323, -0.23522110183],[51.49290186215, -0.2349914427],[51.49282919933, -0.23434600505],[51.49322333561, -0.23424434337],[51.49371611418, -0.23412446236],[51.4938862206, -0.23407467163],[51.49406574779, -0.23405332807],[51.49444147566, -0.23392356043],[51.49446419537, -0.23304391988],[51.49447635226, -0.23261636543],[51.49447635226, -0.23261636543],[51.49448182757, -0.23242378229],[51.49447727018, -0.23212143366],[51.49449402903, -0.23144370544],[51.49447613842, -0.23085375392],[51.49447860901, -0.23042147972],[51.49447404646, -0.23011913145],[51.49447404646, -0.23011913145],[51.49446970044, -0.22983118078],[51.49442310102, -0.22912709509],[51.49439033907, -0.22814876168],[51.49439721735, -0.22741379251],[51.49380064483, -0.2266158063],[51.49361282209, -0.22613708873],[51.49361282209, -0.22613708873],[51.49356682039, -0.22601984219],[51.49310749593, -0.22478439212],[51.49302247048, -0.22451399052],[51.49305580336, -0.22433982929],[51.49307884074, -0.22407963476],[51.49310868408, -0.22367512011],[51.49292654222, -0.2235237399],[51.49289669938, -0.22392825301],[51.49283025256, -0.22429097155],[51.49263842032, -0.22468737086],[51.49255235611, -0.22458296959]]",
            "stopPoints": [
             {
              "$type": "Tfl.Api.Presentation.Entities.Identifier, Tfl.Api.Presentation.Entities",
              "id": "490G00014037",
              "name": "Vicarage Farm Road",
              "routeType": "Unknown",
              "status": "Unknown",
              "type": "StopPoint",
              "uri": "/StopPoint/490G00014037"
             },
             {
              "$type": "Tfl.Api.Presentation.Entities.Identifier, Tfl.Api.Presentation.Entities",
              "id": "490G00007436",
              "name": "Greencroft Road",
              "routeType": "Unknown",
              "status": "Unknown",
              "type": "StopPoint",
              "uri": "/StopPoint/490G00007436"
             },
             {
              "$type": "Tfl.Api.Presentation.Entities.Identifier, Tfl.Api.Presentation.Entities",
              "id": "490G00013078",
              "name": "Sutton Lane",
              "routeType": "Unknown",
              "status": "Unknown",
              "type": "StopPoint",
              "uri": "/StopPoint/490G00013078"
             },
             {
              "$type": "Tfl.Api.Presentation.Entities.Identifier, Tfl.Api.Presentation.Entities",
              "id": "490G000347",
              "name": "Lampton School",
              "routeType": "Unknown",
              "status": "Unknown",
              "type": "StopPoint",
              "uri": "/StopPoint/490G000347"
             },
             {
              "$type": "Tfl.Api.Presentation.Entities.Identifier, Tfl.Api.Presentation.Entities",
              "id": "490G00008925",
              "name": "Lampton Road",
              "routeType": "Unknown",
              "status": "Unknown",
              "type": "StopPoint",
              "uri": "/StopPoint/490G00008925"
             },
             {
              "$type": "Tfl.Api.Presentation.Entities.Identifier, Tfl.Api.Presentation.Entities",
              "id": "490G00007524",
              "name": "Gresham Road",
              "routeType": "Unknown",
              "status": "Unknown",
              "type": "StopPoint",
              "uri": "/StopPoint/490G00007524"
             },
             {
              "$type": "Tfl.Api.Presentation.Entities.Identifier, Tfl.Api.Presentation.Entities",
              "id": "490G00171A",
              "name": "Osterley Station",
              "routeType": "Unknown",
              "status": "Unknown",
              "type": "StopPoint",
              "uri": "/StopPoint/490G00171A"
             },
             {
              "$type": "Tfl.Api.Presentation.Entities.Identifier, Tfl.Api.Presentation.Entities",
              "id": "490G00010658",
              "name": "Osterley Library",
              "routeType": "Unknown",
              "status": "Unknown",
              "type": "StopPoint",
              "uri": "/StopPoint/490G00010658"
             },
             {
              "$type": "Tfl.Api.Presentation.Entities.Identifier, Tfl.Api.Presentation.Entities",
              "id": "490G00011577",
              "name": "Ridgeway Road",
              "routeType": "Unknown",
              "status": "Unknown",
              "type": "StopPoint",
              "uri": "/StopPoint/490G00011577"
             },
             {
              "$type": "Tfl.Api.Presentation.Entities.Identifier, Tfl.Api.Presentation.Entities",
              "id": "490G00014873",
              "name": "Wood Lane",
              "routeType": "Unknown",
              "status": "Unknown",
              "type": "StopPoint",
              "uri": "/StopPoint/490G00014873"
             },
             {
              "$type": "Tfl.Api.Presentation.Entities.Identifier, Tfl.Api.Presentation.Entities",
              "id": "490G00012686",
              "name": "St Francis Of Assisi Church",
              "routeType": "Unknown",
              "status": "Unknown",
              "type": "StopPoint",
              "uri": "/StopPoint/490G00012686"
             },
             {
              "$type": "Tfl.Api.Presentation.Entities.Identifier, Tfl.Api.Presentation.Entities",
              "id": "490G00007179",
              "name": "Gillette Corner",
              "routeType": "Unknown",
              "status": "Unknown",
              "type": "StopPoint",
              "uri": "/StopPoint/490G00007179"
             },
             {
              "$type": "Tfl.Api.Presentation.Entities.Identifier, Tfl.Api.Presentation.Entities",
              "id": "490G00014416",
              "name": "West Cross Centre",
              "routeType": "Unknown",
              "status": "Unknown",
              "type": "StopPoint",
              "uri": "/StopPoint/490G00014416"
             },
             {
              "$type": "Tfl.Api.Presentation.Entities.Identifier, Tfl.Api.Presentation.Entities",
              "id": "490G00014417",
              "name": "West Cross Way",
              "routeType": "Unknown",
              "status": "Unknown",
              "type": "StopPoint",
              "uri": "/StopPoint/490G00014417"
             },
             {
              "$type": "Tfl.Api.Presentation.Entities.Identifier, Tfl.Api.Presentation.Entities",
              "id": "490G00007421",
              "name": "Boston Manor Road",
              "routeType": "Unknown",
              "status": "Unknown",
              "type": "StopPoint",
              "uri": "/StopPoint/490G00007421"
             },
             {
              "$type": "Tfl.Api.Presentation.Entities.Identifier, Tfl.Api.Presentation.Entities",
              "id": "490G00014772",
              "name": "Windmill Road",
              "routeType": "Unknown",
              "status": "Unknown",
              "type": "StopPoint",
              "uri": "/StopPoint/490G00014772"
             },
             {
              "$type": "Tfl.Api.Presentation.Entities.Identifier, Tfl.Api.Presentation.Entities",
              "id": "490G00006300",
              "name": "Ealing Road",
              "routeType": "Unknown",
              "status": "Unknown",
              "type": "StopPoint",
              "uri": "/StopPoint/490G00006300"
             },
             {
              "$type": "Tfl.Api.Presentation.Entities.Identifier, Tfl.Api.Presentation.Entities",
              "id": "490G00005378",
              "name": "Clayponds Avenue",
              "routeType": "Unknown",
              "status": "Unknown",
              "type": "StopPoint",
              "uri": "/StopPoint/490G00005378"
             },
             {
              "$type": "Tfl.Api.Presentation.Entities.Identifier, Tfl.Api.Presentation.Entities",
              "id": "490G00009200",
              "name": "Lionel Road",
              "routeType": "Unknown",
              "status": "Unknown",
              "type": "StopPoint",
              "uri": "/StopPoint/490G00009200"
             },
             {
              "$type": "Tfl.Api.Presentation.Entities.Identifier, Tfl.Api.Presentation.Entities",
              "id": "490G00014010",
              "name": "Vantage West",
              "routeType": "Unknown",
              "status": "Unknown",
              "type": "StopPoint",
              "uri": "/StopPoint/490G00014010"
             },
             {
              "$type": "Tfl.Api.Presentation.Entities.Identifier, Tfl.Api.Presentation.Entities",
              "id": "490G00007605",
              "name": "Chiswick Roundabout / Gunnersbury",
              "routeType": "Unknown",
              "status": "Unknown",
              "type": "StopPoint",
              "uri": "/StopPoint/490G00007605"
             },
             {
              "$type": "Tfl.Api.Presentation.Entities.Identifier, Tfl.Api.Presentation.Entities",
              "id": "490G000750",
              "name": "Thorney Hedge Road",
              "routeType": "Unknown",
              "status": "Unknown",
              "type": "StopPoint",
              "uri": "/StopPoint/490G000750"
             },
             {
              "$type": "Tfl.Api.Presentation.Entities.Identifier, Tfl.Api.Presentation.Entities",
              "id": "490G00094B",
              "name": "Gunnersbury Station",
              "routeType": "Unknown",
              "status": "Unknown",
              "type": "StopPoint",
              "uri": "/StopPoint/490G00094B"
             },
             {
              "$type": "Tfl.Api.Presentation.Entities.Identifier, Tfl.Api.Presentation.Entities",
              "id": "490G00005211",
              "name": "Chiswick Road",
              "routeType": "Unknown",
              "status": "Unknown",
              "type": "StopPoint",
              "uri": "/StopPoint/490G00005211"
             },
             {
              "$type": "Tfl.Api.Presentation.Entities.Identifier, Tfl.Api.Presentation.Entities",
              "id": "490G000807",
              "name": "Turnham Green Church",
              "routeType": "Unknown",
              "status": "Unknown",
              "type": "StopPoint",
              "uri": "/StopPoint/490G000807"
             },
             {
              "$type": "Tfl.Api.Presentation.Entities.Identifier, Tfl.Api.Presentation.Entities",
              "id": "490G00005423",
              "name": "Clifton Gardens",
              "routeType": "Unknown",
              "status": "Unknown",
              "type": "StopPoint",
              "uri": "/StopPoint/490G00005423"
             },
             {
              "$type": "Tfl.Api.Presentation.Entities.Identifier, Tfl.Api.Presentation.Entities",
              "id": "490G00005210",
              "name": "Chiswick Police Station",
              "routeType": "Unknown",
              "status": "Unknown",
              "type": "StopPoint",
              "uri": "/StopPoint/490G00005210"
             },
             {
              "$type": "Tfl.Api.Presentation.Entities.Identifier, Tfl.Api.Presentation.Entities",
              "id": "490G00013850",
              "name": "Chiswick Lane",
              "routeType": "Unknown",
              "status": "Unknown",
              "type": "StopPoint",
              "uri": "/StopPoint/490G00013850"
             },
             {
              "$type": "Tfl.Api.Presentation.Entities.Identifier, Tfl.Api.Presentation.Entities",
              "id": "490G00012521",
              "name": "Stamford Brook Bus Garage",
              "routeType": "Unknown",
              "status": "Unknown",
              "type": "StopPoint",
              "uri": "/StopPoint/490G00012521"
             },
             {
              "$type": "Tfl.Api.Presentation.Entities.Identifier, Tfl.Api.Presentation.Entities",
              "id": "490G000535",
              "name": "Goldhawk Road / Young's Corner",
              "routeType": "Unknown",
              "status": "Unknown",
              "type": "StopPoint",
              "uri": "/StopPoint/490G000535"
             },
             {
              "$type": "Tfl.Api.Presentation.Entities.Identifier, Tfl.Api.Presentation.Entities",
              "id": "490G00012533",
              "name": "Ravenscourt Park",
              "routeType": "Unknown",
              "status": "Unknown",
              "type": "StopPoint",
              "uri": "/StopPoint/490G00012533"
             },
             {
              "$type": "Tfl.Api.Presentation.Entities.Identifier, Tfl.Api.Presentation.Entities",
              "id": "490G00188A",
              "name": "Ravenscourt Park Station",
              "routeType": "Unknown",
              "status": "Unknown",
              "type": "StopPoint",
              "uri": "/StopPoint/490G00188A"
             },
             {
              "$type": "Tfl.Api.Presentation.Entities.Identifier, Tfl.Api.Presentation.Entities",
              "id": "490G00005937",
              "name": "Dalling Road",
              "routeType": "Unknown",
              "status": "Unknown",
              "type": "StopPoint",
              "uri": "/StopPoint/490G00005937"
             },
             {
              "$type": "Tfl.Api.Presentation.Entities.Identifier, Tfl.Api.Presentation.Entities",
              "id": "490G00015588",
              "name": "Lamington Street",
              "routeType": "Unknown",
              "status": "Unknown",
              "type": "StopPoint",
              "uri": "/StopPoint/490G00015588"
             },
             {
              "$type": "Tfl.Api.Presentation.Entities.Identifier, Tfl.Api.Presentation.Entities",
              "id": "490G00007239",
              "name": "Iffley Road",
              "routeType": "Unknown",
              "status": "Unknown",
              "type": "StopPoint",
              "uri": "/StopPoint/490G00007239"
             },
             {
              "$type": "Tfl.Api.Presentation.Entities.Identifier, Tfl.Api.Presentation.Entities",
              "id": "490G00097T",
              "name": "Hammersmith Stn / H&C and Circle Lines",
              "routeType": "Unknown",
              "status": "Unknown",
              "type": "StopPoint",
              "uri": "/StopPoint/490G00097T"
             },
             {
              "$type": "Tfl.Api.Presentation.Entities.Identifier, Tfl.Api.Presentation.Entities",
              "id": "490G000565",
              "name": "Hammersmith Bus Station",
              "routeType": "Unknown",
              "status": "Unknown",
              "type": "StopPoint",
              "uri": "/StopPoint/490G000565"
             }
            ]
           },
           "plannedWorks": [],
           "routeOptions": [
            {
             "$type": "Tfl.Api.Presentation.Entities.JourneyPlanner.RouteOption, Tfl.Api.Presentation.Entities",
             "directions": [
              "Hammersmith"
             ],
             "lineIdentifier": {
              "$type": "Tfl.Api.Presentation.Entities.Identifier, Tfl.Api.Presentation.Entities",
              "crowding": {
               "$type": "Tfl.Api.Presentation.Entities.Crowding, Tfl.Api.Presentation.Entities"
              },
              "id": "h91",
              "name": "H91",
              "routeType": "Unknown",
              "status": "Unknown",
              "type": "Line",
              "uri": "/Line/h91"
             },
             "name": "H91"
            }
           ]
          },
          {
           "$type": "Tfl.Api.Presentation.Entities.JourneyPlanner.Leg, Tfl.Api.Presentation.Entities",
           "arrivalPoint": {
            "$type": "Tfl.Api.Presentation.Entities.StopPoint, Tfl.Api.Presentation.Entities",
            "additionalProperties": [],
            "commonName": "Southampton Street / Covent Garden",
            "icsCode": "1012247",
            "lat": 51.51039701446,
            "lon": -0.12182258537,
            "naptanId": "490G00012247",
            "placeType": "StopPoint",
            "platformName": "A",
            "stopLetter": "A"
           },
           "arrivalTime": "2021-06-25T00:27:00",
           "departurePoint": {
            "$type": "Tfl.Api.Presentation.Entities.StopPoint, Tfl.Api.Presentation.Entities",
            "additionalProperties": [],
            "commonName": "Hammersmith Bus Station",
            "icsCode": "1007705",
            "lat": 51.49254641849,
            "lon": -0.22395627195,
            "naptanId": "490G000565",
            "placeType": "StopPoint",
            "platformName": "",
            "stopLetter": "F"
           },
           "departureTime": "2021-06-25T00:02:00",
           "disruptions": [],
           "duration": 25,
           "hasFixedLocations": true,
           "instruction": {
            "$type": "Tfl.Api.Presentation.Entities.Instruction, Tfl.Api.Presentation.Entities",
            "detailed": "9 bus towards Aldwych",
            "steps": [],
            "summary": "9 bus to Southampton Street / Covent Garden"
           },
           "isDisrupted": false,
           "mode": {
            "$type": "Tfl.Api.Presentation.Entities.Identifier, Tfl.Api.Presentation.Entities",
            "id": "bus",
            "name": "bus",
            "routeType": "Unknown",
            "status": "Unknown",
            "type": "Mode"
           },
           "obstacles": [],
           "path": {
            "$type": "Tfl.Api.Presentation.Entities.JourneyPlanner.Path, Tfl.Api.Presentation.Entities",
            "elevation": [],
            "lineString": "[[51.49254577137, -0.22395768944],[51.49283025256, -0.22429097155],[51.49289669938, -0.22392825301],[51.49292654222, -0.2235237399],[51.49307779709, -0.22341702133],[51.49303377754, -0.22288572883],[51.49305288382, -0.22236638725],[51.49307005802, -0.22112684423],[51.49319659439, -0.21998387896],[51.4932033962, -0.21983955834],[51.49323366205, -0.2194638343],[51.49324595244, -0.21908881028],[51.4932496023, -0.21903172639],[51.4932496023, -0.21903172639],[51.4934130545, -0.21647487756],[51.49356715802, -0.21596466389],[51.4936210824, -0.21578876975],[51.4936210824, -0.21578876975],[51.49377277194, -0.21529397184],[51.49386637118, -0.21494457742],[51.49410551597, -0.21411410145],[51.49426793821, -0.21356032892],[51.49441326111, -0.21306484495],[51.49451671837, -0.21277267933],[51.49470204183, -0.21230745853],[51.49470204183, -0.21230745853],[51.49481985472, -0.2120117063],[51.49489744572, -0.2117925785],[51.49505416355, -0.2114551037],[51.49561000721, -0.21016558868],[51.49582369513, -0.20943689778],[51.49591419828, -0.20888590647],[51.4959689705, -0.20835072043],[51.4960086263, -0.20800341014],[51.49606647525, -0.20766979207],[51.49615983134, -0.20730596705],[51.49625230572, -0.2068845489],[51.49664152944, -0.2058752137],[51.49681422114, -0.20540741736],[51.4969127914, -0.20514215643],[51.4969127914, -0.20514215643],[51.49715105266, -0.20450096369],[51.49729743909, -0.20407741145],[51.4974038288, -0.20376137524],[51.4974038288, -0.20376137524],[51.4975038661, -0.20346420553],[51.49782314955, -0.20258722794],[51.49790072261, -0.20236807005],[51.498012919, -0.20206110629],[51.49822832229, -0.20144752806],[51.4983236464, -0.20121326016],[51.49848212303, -0.2007539867],[51.49848212303, -0.2007539867],[51.49853027906, -0.20061442637],[51.49863348374, -0.20030780815],[51.49880983497, -0.19949404872],[51.49891148898, -0.19908663532],[51.49903943913, -0.19863496097],[51.49909969419, -0.19845969565],[51.49927191323, -0.19796304902],[51.49943580703, -0.19750994979],[51.49951447703, -0.19736277003],[51.49960014175, -0.19708564511],[51.49977247803, -0.19659149835],[51.49977247803, -0.19659149835],[51.49996187539, -0.19604842041],[51.50021230837, -0.19537577199],[51.50039327946, -0.19486434765],[51.50054795236, -0.19439718239],[51.50063147985, -0.19416718771],[51.50063147985, -0.19416718771],[51.50089301862, -0.19344702169],[51.50097933941, -0.19321307912],[51.50124861741, -0.19259728681],[51.50136977469, -0.19228992137],[51.5016388257, -0.19165971894],[51.50188291116, -0.19116017279],[51.50199574398, -0.19089635402],[51.5021189959, -0.19014223454],[51.50219254462, -0.18966384158],[51.50234452831, -0.18902384436],[51.50237647355, -0.18876322465],[51.50237091341, -0.18840323221],[51.50235551997, -0.18825436033],[51.50235551997, -0.18825436033],[51.5022863365, -0.1875853023],[51.50225425702, -0.18725517997],[51.50222195401, -0.18691065849],[51.50212949332, -0.18616508913],[51.50207000352, -0.18580724055],[51.50195933913, -0.18504799062],[51.5018632176, -0.18456367735],[51.5018632176, -0.18456367735],[51.50180328927, -0.18426173149],[51.50174624636, -0.18406228217],[51.50167776326, -0.18370479679],[51.50150624696, -0.18250132279],[51.50149547477, -0.18238648535],[51.50145104555, -0.18184074006],[51.50144568752, -0.18149515564],[51.5014483204, -0.18130343707],[51.5014483204, -0.18130343707],[51.50145835521, -0.18057252394],[51.50146421456, -0.18037057516],[51.5014720844, -0.18029822046],[51.50147119071, -0.18024062308],[51.50153235954, -0.17954658966],[51.50157380261, -0.17816174314],[51.50156354629, -0.17692304002],[51.50160617336, -0.1763667839],[51.50160617336, -0.1763667839],[51.5017429474, -0.17458172945],[51.50180049507, -0.17365729478],[51.50180746376, -0.1735273409],[51.5019000637, -0.17196753186],[51.50192526656, -0.17103788626],[51.50192526656, -0.17103788626],[51.50192860897, -0.17091457589],[51.50190884056, -0.1702237641],[51.50185379079, -0.16900125621],[51.50185199227, -0.1688860612],[51.50183693457, -0.16849763843],[51.50182637358, -0.16839720318],[51.50181962633, -0.16796522235],[51.50182186435, -0.16753288121],[51.50182091398, -0.16712782869],[51.50182091398, -0.16712782869],[51.50182027482, -0.16685575109],[51.5017189044, -0.165548659],[51.50167349575, -0.16494533227],[51.50167393338, -0.16316910258],[51.50167393338, -0.16316910258],[51.50167404841, -0.16268320064],[51.50166592629, -0.16216482706],[51.50167152822, -0.16194847655],[51.50172694399, -0.1608944365],[51.50186328072, -0.16041347039],[51.5020534849, -0.15935399288],[51.50223717984, -0.15845326262],[51.50234302614, -0.15660469962],[51.50235760458, -0.15638798279],[51.50245933388, -0.15599484493],[51.50268166805, -0.15526543629],[51.5028538517, -0.15420664572],[51.50292061999, -0.15348398613],[51.50292061999, -0.15348398613],[51.50297678308, -0.15287607161],[51.50299807311, -0.15251499127],[51.50303892369, -0.15225398086],[51.50306384215, -0.15212329372],[51.50311435937, -0.15190511792],[51.50313927744, -0.15177443038],[51.50325601381, -0.1511933527],[51.50327979599, -0.15099066598],[51.50330289665, -0.15074477999],[51.50330279988, -0.15016842877],[51.50376092273, -0.14899715453],[51.50383031675, -0.14883584301],[51.50403040989, -0.14835058751],[51.50403040989, -0.14835058751],[51.50409014443, -0.14820572062],[51.5042284752, -0.14785429249],[51.50442925725, -0.14747151096],[51.50491818178, -0.14654388977],[51.50499655908, -0.14638220579],[51.50504035482, -0.14630838133],[51.50551959994, -0.14533789922],[51.50566781968, -0.14504368807],[51.50583401214, -0.14474874497],[51.50589372996, -0.14454458344],[51.50615604076, -0.14407281429],[51.50642596865, -0.1435142708],[51.50665255626, -0.14305835242],[51.50672216991, -0.14291142246],[51.50694875511, -0.14245549816],[51.50694875511, -0.14245549816],[51.50714098851, -0.14210183746],[51.50752431093, -0.14132250244],[51.50774837857, -0.14070815122],[51.507791714, -0.14060551486],[51.50803397962, -0.14000482571],[51.50816329846, -0.13965370876],[51.50819764623, -0.13955143656],[51.50826898363, -0.13933902458],[51.50826898363, -0.13933902458],[51.50840373098, -0.13893780016],[51.50843762106, -0.13880672447],[51.50861719896, -0.13822298313],[51.50873661104, -0.13781461798],[51.50879654522, -0.13762483593],[51.50897680338, -0.13708428955],[51.50906232377, -0.1368069974],[51.50908768233, -0.13670508774],[51.50925572211, -0.13619348546],[51.50925572211, -0.13619348546],[51.50937074103, -0.1358433007],[51.5094140721, -0.13574065615],[51.50945648737, -0.13558040539],[51.50967245365, -0.1350239738],[51.50974045379, -0.13477621091],[51.50984943911, -0.13484381454],[51.50995636316, -0.1347818036],[51.51011422956, -0.13453036792],[51.51002395632, -0.13394320319],[51.5100961279, -0.13339263412],[51.50993877003, -0.13311084572],[51.50974661115, -0.1329025368],[51.50968232884, -0.13281869933],[51.50965733006, -0.13279420354],[51.50965733006, -0.13279420354],[51.50952703333, -0.13266652896],[51.50924363106, -0.13237549018],[51.50883395601, -0.13206079821],[51.50846875468, -0.13171547141],[51.50808626736, -0.13141408857],[51.50769433368, -0.13108427662],[51.5076344804, -0.13015005748],[51.50761421105, -0.13000678455],[51.50757229389, -0.12963383392],[51.50756518671, -0.12956509332],[51.50756518671, -0.12956509332],[51.50750849702, -0.12901680599],[51.50748730727, -0.12881593069],[51.50750252335, -0.12864238436],[51.5075039263, -0.12816678878],[51.50751592321, -0.12779163061],[51.50753274706, -0.12771888968],[51.50754058422, -0.12764651712],[51.50755671824, -0.12753057359],[51.50772125611, -0.12713474931],[51.50784315945, -0.12688477438],[51.50801737185, -0.1265317796],[51.50804079584, -0.12648389583],[51.50804079584, -0.12648389583],[51.5081828266, -0.12619355187],[51.50841833239, -0.12573716274],[51.5086031391, -0.12548459834],[51.50869876951, -0.12527892445],[51.50881214259, -0.12505811062],[51.50904741353, -0.12458730809],[51.50932577286, -0.12399944414],[51.50964837099, -0.12336652231],[51.50983155909, -0.1230131309],[51.51000575947, -0.12266010608],[51.51008387264, -0.12248396212],[51.51022166374, -0.12210360821],[51.51034807208, -0.1217743316]]",
            "stopPoints": [
             {
              "$type": "Tfl.Api.Presentation.Entities.Identifier, Tfl.Api.Presentation.Entities",
              "id": "490G00008997",
              "name": "Latymer Court",
              "routeType": "Unknown",
              "status": "Unknown",
              "type": "StopPoint",
              "uri": "/StopPoint/490G00008997"
             },
             {
              "$type": "Tfl.Api.Presentation.Entities.Identifier, Tfl.Api.Presentation.Entities",
              "id": "490G00004455",
              "name": "Brook Green",
              "routeType": "Unknown",
              "status": "Unknown",
              "type": "StopPoint",
              "uri": "/StopPoint/490G00004455"
             },
             {
              "$type": "Tfl.Api.Presentation.Entities.Identifier, Tfl.Api.Presentation.Entities",
              "id": "490G00010357",
              "name": "North End Road",
              "routeType": "Unknown",
              "status": "Unknown",
              "type": "StopPoint",
              "uri": "/StopPoint/490G00010357"
             },
             {
              "$type": "Tfl.Api.Presentation.Entities.Identifier, Tfl.Api.Presentation.Entities",
              "id": "490G00008287",
              "name": "Holland Road",
              "routeType": "Unknown",
              "status": "Unknown",
              "type": "StopPoint",
              "uri": "/StopPoint/490G00008287"
             },
             {
              "$type": "Tfl.Api.Presentation.Entities.Identifier, Tfl.Api.Presentation.Entities",
              "id": "490G00003106",
              "name": "Warwick Gardens",
              "routeType": "Unknown",
              "status": "Unknown",
              "type": "StopPoint",
              "uri": "/StopPoint/490G00003106"
             },
             {
              "$type": "Tfl.Api.Presentation.Entities.Identifier, Tfl.Api.Presentation.Entities",
              "id": "490G00005528",
              "name": "The Design Museum",
              "routeType": "Unknown",
              "status": "Unknown",
              "type": "StopPoint",
              "uri": "/StopPoint/490G00005528"
             },
             {
              "$type": "Tfl.Api.Presentation.Entities.Identifier, Tfl.Api.Presentation.Entities",
              "id": "490G00010984",
              "name": "Phillimore Gardens",
              "routeType": "Unknown",
              "status": "Unknown",
              "type": "StopPoint",
              "uri": "/StopPoint/490G00010984"
             },
             {
              "$type": "Tfl.Api.Presentation.Entities.Identifier, Tfl.Api.Presentation.Entities",
              "id": "490G00110R",
              "name": "High Street Kensington Station",
              "routeType": "Unknown",
              "status": "Unknown",
              "type": "StopPoint",
              "uri": "/StopPoint/490G00110R"
             },
             {
              "$type": "Tfl.Api.Presentation.Entities.Identifier, Tfl.Api.Presentation.Entities",
              "id": "490G00011761",
              "name": "Kensington Palace",
              "routeType": "Unknown",
              "status": "Unknown",
              "type": "StopPoint",
              "uri": "/StopPoint/490G00011761"
             },
             {
              "$type": "Tfl.Api.Presentation.Entities.Identifier, Tfl.Api.Presentation.Entities",
              "id": "490G00010728",
              "name": "Palace Gate",
              "routeType": "Unknown",
              "status": "Unknown",
              "type": "StopPoint",
              "uri": "/StopPoint/490G00010728"
             },
             {
              "$type": "Tfl.Api.Presentation.Entities.Identifier, Tfl.Api.Presentation.Entities",
              "id": "490G00019923",
              "name": "Queen's Gate",
              "routeType": "Unknown",
              "status": "Unknown",
              "type": "StopPoint",
              "uri": "/StopPoint/490G00019923"
             },
             {
              "$type": "Tfl.Api.Presentation.Entities.Identifier, Tfl.Api.Presentation.Entities",
              "id": "490G00011750",
              "name": "Royal Albert Hall",
              "routeType": "Unknown",
              "status": "Unknown",
              "type": "StopPoint",
              "uri": "/StopPoint/490G00011750"
             },
             {
              "$type": "Tfl.Api.Presentation.Entities.Identifier, Tfl.Api.Presentation.Entities",
              "id": "490G00011198",
              "name": "Prince Of Wales Gate",
              "routeType": "Unknown",
              "status": "Unknown",
              "type": "StopPoint",
              "uri": "/StopPoint/490G00011198"
             },
             {
              "$type": "Tfl.Api.Presentation.Entities.Identifier, Tfl.Api.Presentation.Entities",
              "id": "490G00011822",
              "name": "Rutland Gardens",
              "routeType": "Unknown",
              "status": "Unknown",
              "type": "StopPoint",
              "uri": "/StopPoint/490G00011822"
             },
             {
              "$type": "Tfl.Api.Presentation.Entities.Identifier, Tfl.Api.Presentation.Entities",
              "id": "490G000575",
              "name": "Knightsbridge Station  / Harrods",
              "routeType": "Unknown",
              "status": "Unknown",
              "type": "StopPoint",
              "uri": "/StopPoint/490G000575"
             },
             {
              "$type": "Tfl.Api.Presentation.Entities.Identifier, Tfl.Api.Presentation.Entities",
              "id": "490G00119A",
              "name": "Hyde Park Corner",
              "routeType": "Unknown",
              "status": "Unknown",
              "type": "StopPoint",
              "uri": "/StopPoint/490G00119A"
             },
             {
              "$type": "Tfl.Api.Presentation.Entities.Identifier, Tfl.Api.Presentation.Entities",
              "id": "490G00010574",
              "name": "Old Park Lane / Hard Rock Cafe",
              "routeType": "Unknown",
              "status": "Unknown",
              "type": "StopPoint",
              "uri": "/StopPoint/490G00010574"
             },
             {
              "$type": "Tfl.Api.Presentation.Entities.Identifier, Tfl.Api.Presentation.Entities",
              "id": "490G00093PE",
              "name": "Green Park Station",
              "routeType": "Unknown",
              "status": "Unknown",
              "type": "StopPoint",
              "uri": "/StopPoint/490G00093PE"
             },
             {
              "$type": "Tfl.Api.Presentation.Entities.Identifier, Tfl.Api.Presentation.Entities",
              "id": "490G00010526",
              "name": "Old Bond Street / Royal Academy",
              "routeType": "Unknown",
              "status": "Unknown",
              "type": "StopPoint",
              "uri": "/StopPoint/490G00010526"
             },
             {
              "$type": "Tfl.Api.Presentation.Entities.Identifier, Tfl.Api.Presentation.Entities",
              "id": "490G00179B",
              "name": "Piccadilly Circus",
              "routeType": "Unknown",
              "status": "Unknown",
              "type": "StopPoint",
              "uri": "/StopPoint/490G00179B"
             },
             {
              "$type": "Tfl.Api.Presentation.Entities.Identifier, Tfl.Api.Presentation.Entities",
              "id": "490G00020307",
              "name": "Haymarket / Jermyn Street",
              "routeType": "Unknown",
              "status": "Unknown",
              "type": "StopPoint",
              "uri": "/StopPoint/490G00020307"
             },
             {
              "$type": "Tfl.Api.Presentation.Entities.Identifier, Tfl.Api.Presentation.Entities",
              "id": "490G000804",
              "name": "Northumberland Avenue / Trafalgar Square",
              "routeType": "Unknown",
              "status": "Unknown",
              "type": "StopPoint",
              "uri": "/StopPoint/490G000804"
             },
             {
              "$type": "Tfl.Api.Presentation.Entities.Identifier, Tfl.Api.Presentation.Entities",
              "id": "490G00045",
              "name": "Charing Cross Stn / Trafalgar Square",
              "routeType": "Unknown",
              "status": "Unknown",
              "type": "StopPoint",
              "uri": "/StopPoint/490G00045"
             },
             {
              "$type": "Tfl.Api.Presentation.Entities.Identifier, Tfl.Api.Presentation.Entities",
              "id": "490G00012247",
              "name": "Southampton Street / Covent Garden",
              "routeType": "Unknown",
              "status": "Unknown",
              "type": "StopPoint",
              "uri": "/StopPoint/490G00012247"
             }
            ]
           },
           "plannedWorks": [],
           "routeOptions": [
            {
             "$type": "Tfl.Api.Presentation.Entities.JourneyPlanner.RouteOption, Tfl.Api.Presentation.Entities",
             "directions": [
              "Aldwych"
             ],
             "lineIdentifier": {
              "$type": "Tfl.Api.Presentation.Entities.Identifier, Tfl.Api.Presentation.Entities",
              "crowding": {
               "$type": "Tfl.Api.Presentation.Entities.Crowding, Tfl.Api.Presentation.Entities"
              },
              "id": "9",
              "name": "9",
              "routeType": "Unknown",
              "status": "Unknown",
              "type": "Line",
              "uri": "/Line/9"
             },
             "name": "9"
            }
           ]
          },
          {
           "$type": "Tfl.Api.Presentation.Entities.JourneyPlanner.Leg, Tfl.Api.Presentation.Entities",
           "arrivalPoint": {
            "$type": "Tfl.Api.Presentation.Entities.StopPoint, Tfl.Api.Presentation.Entities",
            "additionalProperties": [],
            "commonName": "Tower Hill / Tower Gateway Station",
            "icsCode": "1015074",
            "lat": 51.50982189297,
            "lon": -0.07306488539,
            "naptanId": "490G000857",
            "placeType": "StopPoint",
            "platformName": "TE",
            "stopLetter": "TE"
           },
           "arrivalTime": "2021-06-25T00:56:00",
           "departurePoint": {
            "$type": "Tfl.Api.Presentation.Entities.StopPoint, Tfl.Api.Presentation.Entities",
            "additionalProperties": [],
            "commonName": "Southampton Street / Covent Garden",
            "icsCode": "1012247",
            "lat": 51.51039701446,
            "lon": -0.12182258537,
            "naptanId": "490G00012247",
            "placeType": "StopPoint",
            "platformName": "A",
            "stopLetter": "A"
           },
           "departureTime": "2021-06-25T00:38:00",
           "disruptions": [
            {
             "$type": "Tfl.Api.Presentation.Entities.Disruption, Tfl.Api.Presentation.Entities",
             "additionalInfo": "",
             "category": "RealTime",
             "categoryDescription": "RealTime",
             "created": "2021-05-24T17:05:00",
             "description": "QUEEN VICTORIA STREET, EC4: Routes N550 and N551 are diverted (eastbound only) due to emergency Cadent Gas repair works. Buses are diverting via New Change and Cheapside, with no service to either Mansion House Station (ME) and Bank Station / Queen Victoria Street (MD).",
             "lastUpdate": "2021-05-25T14:51:00",
             "summary": "CE21/17008 / QUEEN VICTORIA STREET, EC4 / ROUTES N550 and N551",
             "type": "lineInfo"
            },
            {
             "$type": "Tfl.Api.Presentation.Entities.Disruption, Tfl.Api.Presentation.Entities",
             "additionalInfo": "",
             "category": "PlannedWork",
             "categoryDescription": "PlannedWork",
             "created": "2021-06-22T10:12:00",
             "description": "ROGERS ROAD E16; Until 1800 Tuesday 13 July, routes 147 241 N551 Beckton, Stratford and Ilford are diverted due to Thames Water works. Stops from Hallsville Road to The Appleby Centre are not served.",
             "lastUpdate": "2021-06-22T10:29:00",
             "summary": "ROGERS ROAD E16 - NO21/17903 - ROUTES 147 241 N551",
             "type": "lineInfo"
            }
           ],
           "duration": 18,
           "hasFixedLocations": true,
           "instruction": {
            "$type": "Tfl.Api.Presentation.Entities.Instruction, Tfl.Api.Presentation.Entities",
            "detailed": "N551 bus towards Gallions Reach, Shopping Park",
            "steps": [],
            "summary": "N551 bus to Tower Hill / Tower Gateway Station"
           },
           "isDisrupted": true,
           "mode": {
            "$type": "Tfl.Api.Presentation.Entities.Identifier, Tfl.Api.Presentation.Entities",
            "id": "bus",
            "name": "bus",
            "routeType": "Unknown",
            "status": "Unknown",
            "type": "Mode"
           },
           "obstacles": [],
           "path": {
            "$type": "Tfl.Api.Presentation.Entities.JourneyPlanner.Path, Tfl.Api.Presentation.Entities",
            "elevation": [],
            "lineString": "[[51.51034807208, -0.1217743316],[51.51046337182, -0.12147398766],[51.51061014619, -0.12109325785],[51.51078203294, -0.12059620178],[51.51097212159, -0.12011280398],[51.51110114912, -0.11974720755],[51.51128247854, -0.11927857494],[51.51167326963, -0.11897424871],[51.51203296447, -0.11897384386],[51.51230377816, -0.11877976966],[51.51230377816, -0.11877976966],[51.51235301697, -0.11874448319],[51.51263735364, -0.11853100272],[51.51290993038, -0.11814506049],[51.51301430298, -0.11792457905],[51.51316889619, -0.11747143356],[51.51325228861, -0.11706445729],[51.51329167175, -0.11671694303],[51.51327158255, -0.11602599132],[51.51310724122, -0.11531216987],[51.51309983442, -0.1148512904],[51.5132073988, -0.11427036682],[51.51324236886, -0.11412197027],[51.51324236886, -0.11412197027],[51.51329999823, -0.11387741598],[51.51338314643, -0.11345602974],[51.51344026026, -0.11309336638],[51.51349690944, -0.11270189696],[51.51364730933, -0.11198948212],[51.51372285546, -0.11165487695],[51.51374772809, -0.11152413811],[51.51382854813, -0.11095871686],[51.51393609302, -0.11037777529],[51.51398583526, -0.11011629493],[51.51411824618, -0.10940460848],[51.51414218754, -0.10921625629],[51.51414838773, -0.10904305099],[51.51416334197, -0.1088550707],[51.51416948145, -0.10873934157],[51.51416948145, -0.10873934157],[51.51418403073, -0.10846507927],[51.51419092669, -0.10833508205],[51.5141895329, -0.10824866543],[51.5141961963, -0.1081042654],[51.51421161372, -0.10794509019],[51.51420836076, -0.10774345138],[51.51421293201, -0.1074694263],[51.51421200239, -0.10741181522],[51.51420898095, -0.10722457923],[51.51421262111, -0.10689294306],[51.51419735722, -0.10650444112],[51.51419317159, -0.10624519153],[51.51419131113, -0.1061299695],[51.51418311755, -0.10591696917],[51.51418311755, -0.10591696917],[51.5141758121, -0.10572706533],[51.51416766953, -0.1052229694],[51.514172933, -0.10499215268],[51.51416781308, -0.10467529251],[51.51416362342, -0.10441604335],[51.51414928261, -0.10408515377],[51.51412269419, -0.10355299966],[51.51400940059, -0.10266413961],[51.5139897966, -0.10256406782],[51.51393075109, -0.10224945033],[51.51388069125, -0.10193446012],[51.51387788763, -0.10191056102],[51.51387788763, -0.10191056102],[51.51382853244, -0.10148984722],[51.5138275999, -0.10143223682],[51.5137934122, -0.10098687758],[51.51376178845, -0.10069994733],[51.51370437081, -0.1004861518],[51.51363773301, -0.10025832817],[51.51349873619, -0.10000469164],[51.51328633106, -0.09910556591],[51.51326356947, -0.09825619843],[51.51321490036, -0.09802763172],[51.51313362803, -0.09765709072],[51.51313362803, -0.09765709072],[51.51302068685, -0.09714217448],[51.51289404716, -0.09654214755],[51.51288365823, -0.09645610859],[51.51273623613, -0.09568400843],[51.51264670451, -0.09515450079],[51.51260659161, -0.0949056658],[51.51260659161, -0.0949056658],[51.5125867035, -0.09478229401],[51.51254584423, -0.09448134888],[51.51248724529, -0.09419555655],[51.51239840925, -0.09370926112],[51.51253189123, -0.09306956519],[51.51264903641, -0.09253143148],[51.51269850447, -0.09225553796],[51.51286759094, -0.09169781041],[51.51286759094, -0.09169781041],[51.51293747234, -0.09146730455],[51.51305367234, -0.09087155305],[51.51306172104, -0.09081356826],[51.5131121229, -0.09059527961],[51.51332294725, -0.0897361467],[51.51339061614, -0.08947389659],[51.51336607358, -0.08907138273],[51.51337341738, -0.08897019019],[51.51432986354, -0.08957379767],[51.5162715085, -0.08912273852],[51.51654867996, -0.08902465898],[51.51732604041, -0.08871826658],[51.51746888443, -0.08865463278],[51.51794140939, -0.08840423248],[51.51813723271, -0.08828072368],[51.51833352545, -0.08818602162],[51.5185921377, -0.08804117208],[51.5185921377, -0.08804117208],[51.5192513783, -0.08767192121],[51.51904357702, -0.08706082521],[51.51899606068, -0.08690426277],[51.51877832897, -0.08623593432],[51.51850150234, -0.08525298667],[51.51839578387, -0.08489238681],[51.51839578387, -0.08489238681],[51.51819676731, -0.08421356706],[51.51806860487, -0.08407480852],[51.51787419774, -0.08428475743],[51.5177422246, -0.08446325789],[51.51759274878, -0.08467131863],[51.51709844639, -0.08523976301],[51.51698350407, -0.08535989013],[51.51679855111, -0.08559825851],[51.51675056267, -0.08541289851],[51.51658036062, -0.08486612741],[51.51658036062, -0.08486612741],[51.51655126601, -0.08477266268],[51.51636974815, -0.08356957433],[51.51629672202, -0.08295287599],[51.51619178867, -0.08218246769],[51.51619178867, -0.08218246769],[51.51612299418, -0.08167740871],[51.51602606226, -0.08124909064],[51.51595703066, -0.0808772536],[51.51595325971, -0.08064680407],[51.51611053611, -0.08036634443],[51.51615169608, -0.08013400482],[51.51602093527, -0.07983682971],[51.51576224176, -0.0794153209],[51.51555012995, -0.07909274709],[51.51542929662, -0.07885281243],[51.51479248201, -0.07785630947],[51.51433845653, -0.07703949763],[51.51429896879, -0.07682497333],[51.51440917836, -0.07641678072],[51.51451229017, -0.07612418565],[51.51470077514, -0.07555415174],[51.51484645291, -0.07511563182],[51.51487335493, -0.07505178309],[51.51487335493, -0.07505178309],[51.51493300711, -0.07491020521],[51.51488121897, -0.07449442112],[51.51469770836, -0.07427155808],[51.51444727266, -0.07435418306],[51.51426257875, -0.07460698442],[51.51417626146, -0.07482681102],[51.51412396194, -0.07497304109],[51.51412396194, -0.07497304109],[51.51405588926, -0.07516337178],[51.51390122485, -0.07560226264],[51.51382389201, -0.07582170696],[51.51378108665, -0.07595322173],[51.51357392762, -0.07593312636],[51.51296711518, -0.07567045429],[51.51274464258, -0.07562062377],[51.51274464258, -0.07562062377],[51.5126963426, -0.07560980536],[51.51257881087, -0.07557152271],[51.51209165641, -0.07547675883],[51.51195638823, -0.07545363626],[51.51161254289, -0.07532401136],[51.51138693829, -0.07527587384],[51.51114738359, -0.07492568336],[51.51117694599, -0.07453532647],[51.51118948028, -0.07420333323],[51.5111970464, -0.07356890756],[51.51115116421, -0.07296556013],[51.51108565671, -0.07280979821],[51.51070728314, -0.07276812091],[51.51044644213, -0.07276471778],[51.51009928704, -0.07298112481],[51.50987009331, -0.0731965713]]",
            "stopPoints": [
             {
              "$type": "Tfl.Api.Presentation.Entities.Identifier, Tfl.Api.Presentation.Entities",
              "id": "490G000385",
              "name": "Aldwych",
              "routeType": "Unknown",
              "status": "Unknown",
              "type": "StopPoint",
              "uri": "/StopPoint/490G000385"
             },
             {
              "$type": "Tfl.Api.Presentation.Entities.Identifier, Tfl.Api.Presentation.Entities",
              "id": "490G000731",
              "name": "The Royal Courts Of Justice",
              "routeType": "Unknown",
              "status": "Unknown",
              "type": "StopPoint",
              "uri": "/StopPoint/490G000731"
             },
             {
              "$type": "Tfl.Api.Presentation.Entities.Identifier, Tfl.Api.Presentation.Entities",
              "id": "490G00006826",
              "name": "Fetter Lane",
              "routeType": "Unknown",
              "status": "Unknown",
              "type": "StopPoint",
              "uri": "/StopPoint/490G00006826"
             },
             {
              "$type": "Tfl.Api.Presentation.Entities.Identifier, Tfl.Api.Presentation.Entities",
              "id": "490G00019205",
              "name": "Ludgate Circus",
              "routeType": "Unknown",
              "status": "Unknown",
              "type": "StopPoint",
              "uri": "/StopPoint/490G00019205"
             },
             {
              "$type": "Tfl.Api.Presentation.Entities.Identifier, Tfl.Api.Presentation.Entities",
              "id": "490G00009443",
              "name": "Ludgate Hill / Old Bailey",
              "routeType": "Unknown",
              "status": "Unknown",
              "type": "StopPoint",
              "uri": "/StopPoint/490G00009443"
             },
             {
              "$type": "Tfl.Api.Presentation.Entities.Identifier, Tfl.Api.Presentation.Entities",
              "id": "490G00012873",
              "name": "St Paul's Cathedral",
              "routeType": "Unknown",
              "status": "Unknown",
              "type": "StopPoint",
              "uri": "/StopPoint/490G00012873"
             },
             {
              "$type": "Tfl.Api.Presentation.Entities.Identifier, Tfl.Api.Presentation.Entities",
              "id": "490G00143E",
              "name": "Mansion House Station",
              "routeType": "Unknown",
              "status": "Unknown",
              "type": "StopPoint",
              "uri": "/StopPoint/490G00143E"
             },
             {
              "$type": "Tfl.Api.Presentation.Entities.Identifier, Tfl.Api.Presentation.Entities",
              "id": "490G000780",
              "name": "Bank Station  / Queen Victoria Street",
              "routeType": "Unknown",
              "status": "Unknown",
              "type": "StopPoint",
              "uri": "/StopPoint/490G000780"
             },
             {
              "$type": "Tfl.Api.Presentation.Entities.Identifier, Tfl.Api.Presentation.Entities",
              "id": "490G000713",
              "name": "Bank Station  / Princes Street",
              "routeType": "Unknown",
              "status": "Unknown",
              "type": "StopPoint",
              "uri": "/StopPoint/490G000713"
             },
             {
              "$type": "Tfl.Api.Presentation.Entities.Identifier, Tfl.Api.Presentation.Entities",
              "id": "490G00009290",
              "name": "London Wall",
              "routeType": "Unknown",
              "status": "Unknown",
              "type": "StopPoint",
              "uri": "/StopPoint/490G00009290"
             },
             {
              "$type": "Tfl.Api.Presentation.Entities.Identifier, Tfl.Api.Presentation.Entities",
              "id": "490G00149L",
              "name": "Moorgate Station",
              "routeType": "Unknown",
              "status": "Unknown",
              "type": "StopPoint",
              "uri": "/StopPoint/490G00149L"
             },
             {
              "$type": "Tfl.Api.Presentation.Entities.Identifier, Tfl.Api.Presentation.Entities",
              "id": "490G000863",
              "name": "Eldon Street",
              "routeType": "Unknown",
              "status": "Unknown",
              "type": "StopPoint",
              "uri": "/StopPoint/490G000863"
             },
             {
              "$type": "Tfl.Api.Presentation.Entities.Identifier, Tfl.Api.Presentation.Entities",
              "id": "490G00003172",
              "name": "All Hallows Church",
              "routeType": "Unknown",
              "status": "Unknown",
              "type": "StopPoint",
              "uri": "/StopPoint/490G00003172"
             },
             {
              "$type": "Tfl.Api.Presentation.Entities.Identifier, Tfl.Api.Presentation.Entities",
              "id": "490G00004043",
              "name": "Wormwood Street",
              "routeType": "Unknown",
              "status": "Unknown",
              "type": "StopPoint",
              "uri": "/StopPoint/490G00004043"
             },
             {
              "$type": "Tfl.Api.Presentation.Entities.Identifier, Tfl.Api.Presentation.Entities",
              "id": "490G00019038",
              "name": "St Botolph Street",
              "routeType": "Unknown",
              "status": "Unknown",
              "type": "StopPoint",
              "uri": "/StopPoint/490G00019038"
             },
             {
              "$type": "Tfl.Api.Presentation.Entities.Identifier, Tfl.Api.Presentation.Entities",
              "id": "490G00003N",
              "name": "Aldgate Station",
              "routeType": "Unknown",
              "status": "Unknown",
              "type": "StopPoint",
              "uri": "/StopPoint/490G00003N"
             },
             {
              "$type": "Tfl.Api.Presentation.Entities.Identifier, Tfl.Api.Presentation.Entities",
              "id": "490G000477",
              "name": "Minories",
              "routeType": "Unknown",
              "status": "Unknown",
              "type": "StopPoint",
              "uri": "/StopPoint/490G000477"
             },
             {
              "$type": "Tfl.Api.Presentation.Entities.Identifier, Tfl.Api.Presentation.Entities",
              "id": "490G000857",
              "name": "Tower Hill / Tower Gateway Station",
              "routeType": "Unknown",
              "status": "Unknown",
              "type": "StopPoint",
              "uri": "/StopPoint/490G000857"
             }
            ]
           },
           "plannedWorks": [],
           "routeOptions": [
            {
             "$type": "Tfl.Api.Presentation.Entities.JourneyPlanner.RouteOption, Tfl.Api.Presentation.Entities",
             "directions": [
              "Gallions Reach, Shopping Park"
             ],
             "lineIdentifier": {
              "$type": "Tfl.Api.Presentation.Entities.Identifier, Tfl.Api.Presentation.Entities",
              "crowding": {
               "$type": "Tfl.Api.Presentation.Entities.Crowding, Tfl.Api.Presentation.Entities"
              },
              "id": "n551",
              "name": "N551",
              "routeType": "Unknown",
              "status": "Unknown",
              "type": "Line",
              "uri": "/Line/n551"
             },
             "name": "N551"
            }
           ]
          },
          {
           "$type": "Tfl.Api.Presentation.Entities.JourneyPlanner.Leg, Tfl.Api.Presentation.Entities",
           "arrivalPoint": {
            "$type": "Tfl.Api.Presentation.Entities.StopPoint, Tfl.Api.Presentation.Entities",
            "additionalProperties": [],
            "commonName": "Tower Bridge / City Hall",
            "icsCode": "1013744",
            "lat": 51.503273636239996,
            "lon": -0.07679929902999999,
            "naptanId": "490G00013744",
            "placeType": "StopPoint",
            "platformName": "P",
            "stopLetter": "P"
           },
           "arrivalTime": "2021-06-25T01:06:00",
           "departurePoint": {
            "$type": "Tfl.Api.Presentation.Entities.StopPoint, Tfl.Api.Presentation.Entities",
            "additionalProperties": [],
            "commonName": "Tower Hill / Tower Gateway Station",
            "icsCode": "1015074",
            "lat": 51.50982189297,
            "lon": -0.07306488539,
            "naptanId": "490G000857",
            "placeType": "StopPoint",
            "platformName": "TE",
            "stopLetter": "TE"
           },
           "departureTime": "2021-06-25T01:04:00",
           "disruptions": [],
           "duration": 2,
           "hasFixedLocations": true,
           "instruction": {
            "$type": "Tfl.Api.Presentation.Entities.Instruction, Tfl.Api.Presentation.Entities",
            "detailed": "78 bus towards Nunhead",
            "steps": [],
            "summary": "78 bus to Tower Bridge / City Hall"
           },
           "isDisrupted": false,
           "mode": {
            "$type": "Tfl.Api.Presentation.Entities.Identifier, Tfl.Api.Presentation.Entities",
            "id": "bus",
            "name": "bus",
            "routeType": "Unknown",
            "status": "Unknown",
            "type": "Mode"
           },
           "obstacles": [],
           "path": {
            "$type": "Tfl.Api.Presentation.Entities.JourneyPlanner.Path, Tfl.Api.Presentation.Entities",
            "elevation": [],
            "lineString": "[[51.50987009331, -0.0731965713],[51.50958564902, -0.07346395079],[51.5093096738, -0.07363411306],[51.50915761522, -0.07368375973],[51.50906822463, -0.07371635194],[51.50889890283, -0.07380995856],[51.50857823169, -0.0739964117],[51.50844390916, -0.07403089771],[51.50782550511, -0.07415784955],[51.50715365551, -0.07431587169],[51.50694815118, -0.07439658728],[51.50688571945, -0.07442803979],[51.50651207448, -0.07467435327],[51.50548951361, -0.07538030437],[51.50495576545, -0.07573421435],[51.50430637416, -0.07616503347],[51.50427090104, -0.0761953462],[51.50419096839, -0.07625634998],[51.50346140588, -0.07673375702],[51.50328875357, -0.0768547043]]",
            "stopPoints": [
             {
              "$type": "Tfl.Api.Presentation.Entities.Identifier, Tfl.Api.Presentation.Entities",
              "id": "490G00013744",
              "name": "Tower Bridge / City Hall",
              "routeType": "Unknown",
              "status": "Unknown",
              "type": "StopPoint",
              "uri": "/StopPoint/490G00013744"
             }
            ]
           },
           "plannedWorks": [],
           "routeOptions": [
            {
             "$type": "Tfl.Api.Presentation.Entities.JourneyPlanner.RouteOption, Tfl.Api.Presentation.Entities",
             "directions": [
              "Nunhead"
             ],
             "lineIdentifier": {
              "$type": "Tfl.Api.Presentation.Entities.Identifier, Tfl.Api.Presentation.Entities",
              "crowding": {
               "$type": "Tfl.Api.Presentation.Entities.Crowding, Tfl.Api.Presentation.Entities"
              },
              "id": "78",
              "name": "78",
              "routeType": "Unknown",
              "status": "Unknown",
              "type": "Line",
              "uri": "/Line/78"
             },
             "name": "78"
            }
           ]
          }
         ],
         "startDateTime": "2021-06-24T23:06:00"
        },
        {
         "$type": "Tfl.Api.Presentation.Entities.JourneyPlanner.Journey, Tfl.Api.Presentation.Entities",
         "arrivalDateTime": "2021-06-25T04:40:00",
         "duration": 180,
         "legs": [
          {
           "$type": "Tfl.Api.Presentation.Entities.JourneyPlanner.Leg, Tfl.Api.Presentation.Entities",
           "arrivalPoint": {
            "$type": "Tfl.Api.Presentation.Entities.StopPoint, Tfl.Api.Presentation.Entities",
            "additionalProperties": [],
            "commonName": "Heathrow Terminal 5",
            "icsCode": "1016430",
            "lat": 51.47314128666,
            "lon": -0.48966631003,
            "naptanId": "910GHTRBUS5",
            "placeType": "StopPoint",
            "platformName": "1"
           },
           "arrivalTime": "2021-06-25T01:52:00",
           "departurePoint": {
            "$type": "Tfl.Api.Presentation.Entities.StopPoint, Tfl.Api.Presentation.Entities",
            "additionalProperties": [],
            "commonName": "Heathrow Terminal 4",
            "icsCode": "1000104",
            "lat": 51.458992810139996,
            "lon": -0.44670547972,
            "naptanId": "490G00104A",
            "placeType": "StopPoint",
            "platformName": ""
           },
           "departureTime": "2021-06-25T01:40:00",
           "disruptions": [
            {
             "$type": "Tfl.Api.Presentation.Entities.Disruption, Tfl.Api.Presentation.Entities",
             "additionalInfo": "",
             "category": "PlannedWork",
             "categoryDescription": "PlannedWork",
             "created": "2020-04-27T13:47:00",
             "description": "Temporary closure of Heathrow Terminal 4 stations: Due to a significant drop in demand, all flights to/from Heathrow Airport are operating from Terminals 2 & 5 only. The Piccadilly line and TfL Rail stations at Terminal 4 are closed until further notice.  All Piccadilly line and TfL Rail services to the airport are operating to/from Heathrow T1,2,3 & 5 stations. To check flight departure and arrivals information, visit Heathrow.com or contact your airline.",
             "lastUpdate": "2021-04-13T15:25:00",
             "summary": "",
             "type": "stopBlocking"
            },
            {
             "$type": "Tfl.Api.Presentation.Entities.Disruption, Tfl.Api.Presentation.Entities",
             "additionalInfo": "",
             "category": "PlannedWork",
             "categoryDescription": "PlannedWork",
             "created": "2020-04-27T13:48:00",
             "description": "Temporary closure of Heathrow Terminal 4 stations: Due to a significant drop in demand, all flights to/from Heathrow Airport are operating from Terminals 2 & 5 only. The Piccadilly line and TfL Rail stations at Terminal 4 are closed until further notice.  All Piccadilly line and TfL Rail services to the airport are operating to/from Heathrow T1,2,3 & 5 stations. To check flight departure and arrivals information, visit Heathrow.com or contact your airline.",
             "lastUpdate": "2021-04-13T15:25:00",
             "summary": "",
             "type": "stopBlocking"
            },
            {
             "$type": "Tfl.Api.Presentation.Entities.Disruption, Tfl.Api.Presentation.Entities",
             "additionalInfo": "",
             "category": "PlannedWork",
             "categoryDescription": "PlannedWork",
             "created": "2020-11-23T13:18:00",
             "description": ".",
             "lastUpdate": "2021-04-13T15:24:00",
             "summary": "heathrow terminal 4 interim block",
             "type": "stopBlocking"
            }
           ],
           "duration": 12,
           "hasFixedLocations": true,
           "instruction": {
            "$type": "Tfl.Api.Presentation.Entities.Instruction, Tfl.Api.Presentation.Entities",
            "detailed": "490 bus towards Heathrow Terminal 5",
            "steps": [],
            "summary": "490 bus to Heathrow Terminal 5"
           },
           "isDisrupted": true,
           "mode": {
            "$type": "Tfl.Api.Presentation.Entities.Identifier, Tfl.Api.Presentation.Entities",
            "id": "bus",
            "name": "bus",
            "routeType": "Unknown",
            "status": "Unknown",
            "type": "Mode"
           },
           "obstacles": [],
           "path": {
            "$type": "Tfl.Api.Presentation.Entities.JourneyPlanner.Path, Tfl.Api.Presentation.Entities",
            "elevation": [],
            "lineString": "[[51.45896505836, -0.44665659108],[51.45967978145, -0.44561695662],[51.45983124588, -0.44551104854],[51.45985649368, -0.44538063857],[51.45979970268, -0.44516664796],[51.45931244941, -0.44436271691],[51.4590037958, -0.44414289934],[51.4587798542, -0.44420809108],[51.45845799672, -0.44434858238],[51.45834000459, -0.44426622837],[51.45814667005, -0.44392734159],[51.45816407363, -0.44388356729],[51.45799560164, -0.44338550253],[51.45792235888, -0.44328723541],[51.45788602401, -0.44325968333],[51.45770645087, -0.44328018631],[51.45767221715, -0.44341089697],[51.4574817334, -0.44396434643],[51.45732679889, -0.44516430823],[51.45726233254, -0.44572785977],[51.45705614895, -0.4464545532],[51.45671780477, -0.44738723636],[51.45663759102, -0.44760770666],[51.45663759102, -0.44760770666],[51.45643147834, -0.4481742057],[51.4562424945, -0.44884271747],[51.4561319275, -0.44932145116],[51.45594112053, -0.45121345889],[51.45609285107, -0.45248934515],[51.45665188503, -0.4539673827],[51.45663770229, -0.45425573517],[51.45661225483, -0.45437174399],[51.45663231747, -0.45452939668],[51.45665985114, -0.45457164784],[51.45687976786, -0.45624828868],[51.45732332506, -0.45852195184],[51.45751138884, -0.46051637354],[51.45762804759, -0.46049805496],[51.45871468252, -0.46045088466],[51.45871468252, -0.46045088466],[51.45762804759, -0.46049805496],[51.45751138884, -0.46051637354],[51.45761015415, -0.46152030344],[51.45761015415, -0.46152030344],[51.45824792704, -0.46800534488],[51.45834661048, -0.46798764688],[51.45877098283, -0.4679960769],[51.45877098283, -0.4679960769],[51.45834661048, -0.46798764688],[51.45824792704, -0.46800534488],[51.45837157161, -0.46921031735],[51.45872913239, -0.47249465039],[51.45921432452, -0.47384592645],[51.46018636843, -0.47529616515],[51.46076873073, -0.475823767],[51.46120877295, -0.47647128192],[51.46128292306, -0.47664155405],[51.46147801285, -0.47781546147],[51.46153193967, -0.48614846782],[51.4619009732, -0.48826675828],[51.46199336706, -0.48915621417],[51.46200661925, -0.48948686855],[51.4621981558, -0.48969647566],[51.46243074203, -0.4896024255],[51.46248318955, -0.48948553051],[51.4625084864, -0.4893551362],[51.46285421324, -0.48896943638],[51.46308883855, -0.48903366585],[51.46331948094, -0.48948671182],[51.46342984256, -0.49037560474],[51.46346292026, -0.49084957338],[51.46389759443, -0.49178536438],[51.46417919605, -0.4920064169],[51.46447710871, -0.49209736984],[51.46471979557, -0.49208937098],[51.46618778541, -0.49156589587],[51.46653648162, -0.49141043092],[51.46835834837, -0.49113438882],[51.46942778179, -0.49108471478],[51.47013035768, -0.49117672102],[51.47075333405, -0.49137214183],[51.47130625416, -0.49171386045],[51.47215179815, -0.49243469889],[51.47245396512, -0.49285669669],[51.47250149657, -0.49305671085],[51.4728776023, -0.49363466636],[51.47349768561, -0.49430539102],[51.47441364345, -0.49490880018],[51.47445125953, -0.49503715517],[51.47470588991, -0.49525916471],[51.47494672973, -0.49510724677],[51.47504172291, -0.49480173353],[51.47549156073, -0.4934189714],[51.475532989, -0.49314401502],[51.47542135118, -0.49215412637],[51.47499825959, -0.49141930768],[51.4744590555, -0.49074593132],[51.47374721512, -0.4899342802],[51.4734935017, -0.48978426905],[51.47313809362, -0.48970143961]]",
            "stopPoints": [
             {
              "$type": "Tfl.Api.Presentation.Entities.Identifier, Tfl.Api.Presentation.Entities",
              "id": "490G00011963",
              "name": "Scylla Road",
              "routeType": "Unknown",
              "status": "Unknown",
              "type": "StopPoint",
              "uri": "/StopPoint/490G00011963"
             },
             {
              "$type": "Tfl.Api.Presentation.Entities.Identifier, Tfl.Api.Presentation.Entities",
              "id": "490G00004355",
              "name": "Cargo Centre",
              "routeType": "Unknown",
              "status": "Unknown",
              "type": "StopPoint",
              "uri": "/StopPoint/490G00004355"
             },
             {
              "$type": "Tfl.Api.Presentation.Entities.Identifier, Tfl.Api.Presentation.Entities",
              "id": "490G00011966",
              "name": "Sealand Road",
              "routeType": "Unknown",
              "status": "Unknown",
              "type": "StopPoint",
              "uri": "/StopPoint/490G00011966"
             },
             {
              "$type": "Tfl.Api.Presentation.Entities.Identifier, Tfl.Api.Presentation.Entities",
              "id": "490G00015440",
              "name": "Stirling Road",
              "routeType": "Unknown",
              "status": "Unknown",
              "type": "StopPoint",
              "uri": "/StopPoint/490G00015440"
             },
             {
              "$type": "Tfl.Api.Presentation.Entities.Identifier, Tfl.Api.Presentation.Entities",
              "id": "910GHTRBUS5",
              "name": "Heathrow Terminal 5",
              "routeType": "Unknown",
              "status": "Unknown",
              "type": "StopPoint",
              "uri": "/StopPoint/910GHTRBUS5"
             }
            ]
           },
           "plannedWorks": [],
           "routeOptions": [
            {
             "$type": "Tfl.Api.Presentation.Entities.JourneyPlanner.RouteOption, Tfl.Api.Presentation.Entities",
             "directions": [
              "Heathrow Terminal 5"
             ],
             "lineIdentifier": {
              "$type": "Tfl.Api.Presentation.Entities.Identifier, Tfl.Api.Presentation.Entities",
              "crowding": {
               "$type": "Tfl.Api.Presentation.Entities.Crowding, Tfl.Api.Presentation.Entities"
              },
              "id": "490",
              "name": "490",
              "routeType": "Unknown",
              "status": "Unknown",
              "type": "Line",
              "uri": "/Line/490"
             },
             "name": "490"
            }
           ]
          },
          {
           "$type": "Tfl.Api.Presentation.Entities.JourneyPlanner.Leg, Tfl.Api.Presentation.Entities",
           "arrivalPoint": {
            "$type": "Tfl.Api.Presentation.Entities.StopPoint, Tfl.Api.Presentation.Entities",
            "additionalProperties": [],
            "commonName": "Northumberland Avenue / Trafalgar Square",
            "icsCode": "1013767",
            "lat": 51.50764280917,
            "lon": -0.12954448446,
            "naptanId": "490G000804",
            "placeType": "StopPoint",
            "platformName": "",
            "stopLetter": "B"
           },
           "arrivalTime": "2021-06-25T03:29:00",
           "departurePoint": {
            "$type": "Tfl.Api.Presentation.Entities.StopPoint, Tfl.Api.Presentation.Entities",
            "additionalProperties": [],
            "commonName": "Heathrow Terminal 5",
            "icsCode": "1016430",
            "lat": 51.472147283359995,
            "lon": -0.48998710381,
            "naptanId": "910GHTRBUS5",
            "placeType": "StopPoint",
            "platformName": "6"
           },
           "departureTime": "2021-06-25T02:19:00",
           "disruptions": [],
           "duration": 70,
           "hasFixedLocations": true,
           "instruction": {
            "$type": "Tfl.Api.Presentation.Entities.Instruction, Tfl.Api.Presentation.Entities",
            "detailed": "N9 bus towards Aldwych",
            "steps": [],
            "summary": "N9 bus to Trafalgar Square"
           },
           "isDisrupted": false,
           "mode": {
            "$type": "Tfl.Api.Presentation.Entities.Identifier, Tfl.Api.Presentation.Entities",
            "id": "bus",
            "name": "bus",
            "routeType": "Unknown",
            "status": "Unknown",
            "type": "Mode"
           },
           "obstacles": [],
           "path": {
            "$type": "Tfl.Api.Presentation.Entities.JourneyPlanner.Path, Tfl.Api.Presentation.Entities",
            "elevation": [],
            "lineString": "[[51.4721464221, -0.48969017581],[51.47024628639, -0.48970431158],[51.47011220204, -0.48976633025],[51.46976184039, -0.48979229579],[51.46957604956, -0.49002879281],[51.46958105241, -0.4904173652],[51.4695020095, -0.4905639504],[51.46942778179, -0.49108471478],[51.47013035768, -0.49117672102],[51.47075333405, -0.49137214183],[51.47130625416, -0.49171386045],[51.47215179815, -0.49243469889],[51.47245396512, -0.49285669669],[51.47345840534, -0.49404750396],[51.47394784468, -0.49434816702],[51.47504172291, -0.49480173353],[51.47596974463, -0.49494398529],[51.47707199178, -0.49464850768],[51.47786752372, -0.49427671239],[51.47831816774, -0.49365705539],[51.47859210919, -0.49258239269],[51.4787064716, -0.49168578804],[51.47918792526, -0.48717688416],[51.47932300963, -0.4864955792],[51.47927156471, -0.48599325592],[51.47927913191, -0.48518656345],[51.47927441154, -0.48342982846],[51.47935838568, -0.48227498111],[51.47974757887, -0.48108118892],[51.47993864333, -0.47986516103],[51.47996078424, -0.47879875297],[51.47995648923, -0.4784676735],[51.47996157522, -0.47747383699],[51.47994959656, -0.4772438203],[51.48001120636, -0.47714096158],[51.47993836519, -0.47707138271],[51.47995412426, -0.47413305871],[51.47994906069, -0.47305315437],[51.48001946763, -0.47293559516],[51.47994606167, -0.47282283888],[51.47997748436, -0.47109367071],[51.47997633615, -0.47031605562],[51.4799804136, -0.46925024573],[51.47997721919, -0.46900553579],[51.47996891122, -0.46768092274],[51.48013291626, -0.46715698895],[51.48023028203, -0.46703851627],[51.481029862, -0.46698290592],[51.481125722, -0.46674927012],[51.48106561137, -0.4659353045],[51.48106561137, -0.4659353045],[51.48101644524, -0.46526959809],[51.4808304622, -0.46274121733],[51.48077783886, -0.45941629611],[51.48067291611, -0.45895899209],[51.48067026775, -0.45875746417],[51.48061605458, -0.45805363228],[51.48061378324, -0.45788089435],[51.48055815017, -0.45775315997],[51.48032199499, -0.45757391089],[51.48025907736, -0.45757603333],[51.48018622484, -0.45750648552],[51.48006388641, -0.45709298249],[51.48005054189, -0.45676220899],[51.48004247477, -0.45546638827],[51.4800295049, -0.45516440475],[51.48003970543, -0.45457361771],[51.4801915567, -0.45449647985],[51.48019750945, -0.45426586129],[51.48011915182, -0.45377887418],[51.48010826561, -0.45363523173],[51.48011997741, -0.45315960061],[51.48011928012, -0.45242517001],[51.48015390323, -0.45232319063],[51.48019205892, -0.4511266089],[51.48002090275, -0.45110360465],[51.480023664, -0.44995142825],[51.47987985277, -0.44995630345],[51.47987714216, -0.45043162802],[51.47988037532, -0.45067633529],[51.4796285154, -0.45067046836],[51.4796285154, -0.45067046836],[51.47988037532, -0.45067633529],[51.47988341783, -0.45090664805],[51.47987690132, -0.45109408168],[51.47947167151, -0.45105020522],[51.47952622178, -0.45041471864],[51.47969818605, -0.44981845256],[51.47983971384, -0.44964084262],[51.48040730253, -0.44972240534],[51.48044382619, -0.44976437049],[51.4805573431, -0.45086941445],[51.48058754, -0.45111321197],[51.48052652365, -0.45125929085],[51.48064065453, -0.45173066553],[51.48041855037, -0.45261665698],[51.48022308875, -0.45279608496],[51.47982779724, -0.4528238617],[51.47414439446, -0.45280015196],[51.47340736012, -0.45282508578],[51.47321917706, -0.4528746485],[51.47283306314, -0.45291650731],[51.47253607193, -0.45289775605],[51.47209223078, -0.45265359587],[51.47192854356, -0.45251514878],[51.47181017719, -0.45240396604],[51.47140038817, -0.45201467883],[51.47129100956, -0.45190319442],[51.47104756751, -0.45185384127],[51.47086299442, -0.45217684784],[51.47097389233, -0.45240346593],[51.47101407422, -0.45348903241],[51.47101407422, -0.45348903241],[51.47102977877, -0.45391338582],[51.47123340134, -0.45435284892],[51.47164382467, -0.45410860501],[51.47176814204, -0.45398921576],[51.4718389094, -0.45390043298],[51.47213077657, -0.45353060308],[51.47256683384, -0.45318468913],[51.47283610095, -0.45314678483],[51.47322221498, -0.45310492796],[51.47408413526, -0.45300377882],[51.47417420737, -0.45301513121],[51.47983083553, -0.45305417444],[51.48027239733, -0.45312564199],[51.48032689622, -0.45316700162],[51.48049096238, -0.45333426536],[51.48090783727, -0.45357938727],[51.48107899301, -0.45360240117],[51.4813390818, -0.45355040017],[51.48179653161, -0.4534629197],[51.48194724295, -0.45329940378],[51.48204769582, -0.45273434041],[51.4819630031, -0.45244917367],[51.48188995765, -0.45236523637],[51.48162935737, -0.45169718516],[51.4815074304, -0.45063560289],[51.48142753568, -0.45003344818],[51.48137113303, -0.44984814123],[51.48135277608, -0.4498199607],[51.4812593432, -0.44824648928],[51.4812593432, -0.44824648928],[51.48124865507, -0.44806651712],[51.48118141416, -0.44638383501],[51.48115790672, -0.44596699318],[51.48110660893, -0.44485074433],[51.48110660893, -0.44485074433],[51.48105679557, -0.44376702021],[51.48103806298, -0.44303318812],[51.48101148482, -0.44238603203],[51.48094665055, -0.44089050135],[51.48091833743, -0.44011379483],[51.48089063509, -0.43919645045],[51.48089063509, -0.43919645045],[51.48085402792, -0.43798459424],[51.48083621828, -0.43732274234],[51.48077896367, -0.43572615539],[51.48076859265, -0.43494884035],[51.48075211113, -0.43438775421],[51.48074139338, -0.43425850962],[51.48074004802, -0.43415774669],[51.48072740776, -0.4338845552],[51.48069032907, -0.43309839139],[51.48069032907, -0.43309839139],[51.48065213014, -0.43228859374],[51.48063170332, -0.42874658466],[51.4807350556, -0.42651532735],[51.4807350556, -0.42651532735],[51.48074327993, -0.4263377336],[51.48078145873, -0.42583237365],[51.4809098962, -0.42401338102],[51.48093105628, -0.42358061078],[51.48099590984, -0.42261420937],[51.48099590984, -0.42261420937],[51.48104341969, -0.42190617429],[51.48126090105, -0.4200264766],[51.48127716756, -0.41973193202],[51.48127716756, -0.41973193202],[51.48136208978, -0.41819398861],[51.48134882974, -0.4178776143],[51.48121586028, -0.41668689413],[51.48051086688, -0.41375905236],[51.48027370119, -0.41284560526],[51.48005720113, -0.41204923993],[51.48005720113, -0.41204923993],[51.48003711323, -0.41197535075],[51.47975323824, -0.41093393623],[51.4797155306, -0.41080563771],[51.4796399198, -0.41053464712],[51.47948868509, -0.40999430559],[51.47948868509, -0.40999430559],[51.47917686339, -0.40888024733],[51.4790260231, -0.40836706795],[51.47893106288, -0.40799595373],[51.47879917213, -0.40755412356],[51.47871397939, -0.40724027535],[51.47852561539, -0.40661320888],[51.47829953507, -0.40585785727],[51.47815119939, -0.40534555443],[51.47815119939, -0.40534555443],[51.47796929568, -0.40471733364],[51.47792942717, -0.40443071562],[51.47794681565, -0.40438690751],[51.47798120085, -0.40427050394],[51.47788603189, -0.40388501336],[51.47778559649, -0.40377331589],[51.47762809778, -0.40343320534],[51.4769693816, -0.40118133713],[51.4769693816, -0.40118133713],[51.47683584143, -0.40072484635],[51.47649381445, -0.39938320797],[51.47601886104, -0.39752785119],[51.47587210777, -0.39698325082],[51.47587210777, -0.39698325082],[51.4757536223, -0.39654356138],[51.47570061199, -0.39595503005],[51.47575001122, -0.3956221025],[51.47572166884, -0.3955222985],[51.47569450799, -0.39550885171],[51.47551238525, -0.39534244527],[51.47535092223, -0.39471452635],[51.47526589255, -0.39441511906],[51.47509721084, -0.3939170564],[51.47497228372, -0.39333106303],[51.47485752523, -0.39283111243],[51.47467649426, -0.39208870357],[51.47440862073, -0.39108603012],[51.47440862073, -0.39108603012],[51.47430681304, -0.3907049667],[51.47408882888, -0.38989187964],[51.47392812772, -0.38932156904],[51.47352226457, -0.38792475294],[51.47348433416, -0.38778209924],[51.47316587878, -0.38685739222],[51.47295923305, -0.38621673013],[51.47303735141, -0.38601238855],[51.47292604584, -0.38566947249],[51.47292604584, -0.38566947249],[51.47274624244, -0.38511553473],[51.4726301921, -0.38517722767],[51.47252716247, -0.38487849118],[51.47228316618, -0.38413837542],[51.47221767242, -0.38395350652],[51.47214259535, -0.38372578083],[51.47193692493, -0.3831571054],[51.4715064086, -0.38193405731],[51.47136602876, -0.38153586801],[51.47121646098, -0.38112360797],[51.47116973318, -0.38099567673],[51.47114506465, -0.38092250924],[51.47114506465, -0.38092250924],[51.47096345338, -0.38038385211],[51.47051433592, -0.37911832032],[51.47037394664, -0.37872014846],[51.47007339654, -0.37779493103],[51.46986710026, -0.37718313579],[51.4697046736, -0.37659103413],[51.4697046736, -0.37659103413],[51.46932728898, -0.375215394],[51.46918309671, -0.37454382229],[51.4691541381, -0.37440087408],[51.46896595997, -0.37312604754],[51.46896595997, -0.37312604754],[51.46879683322, -0.37198037478],[51.46873391321, -0.37133472215],[51.46867398882, -0.37090492831],[51.46846562336, -0.36885350391],[51.46791796402, -0.3689162253],[51.46733853655, -0.36863454575],[51.46742240824, -0.36819963875],[51.46751566678, -0.36779318963],[51.46764387352, -0.36731350516],[51.46771136785, -0.36699435577],[51.46761808208, -0.36675293267],[51.4673640167, -0.36658923788],[51.46709257679, -0.36646935663],[51.46706349489, -0.36644735983],[51.46706349489, -0.36644735983],[51.46678358141, -0.36623564201],[51.46671846082, -0.36607960107],[51.46683105275, -0.3651253766],[51.46688955331, -0.3648065511],[51.46708282464, -0.36383503696],[51.46720880565, -0.3631970569],[51.46730922624, -0.36266076841],[51.46750968673, -0.36211328399],[51.46750968673, -0.36211328399],[51.46762971668, -0.36178546044],[51.46772677337, -0.36165240875],[51.4681503465, -0.36107573758],[51.4687927059, -0.35942578824],[51.468870576, -0.35920703031],[51.46926951262, -0.35815607859],[51.46938721893, -0.3579267322],[51.46938721893, -0.3579267322],[51.46964591155, -0.35742267192],[51.46992908616, -0.35709574649],[51.47002593569, -0.35694828738],[51.47052998694, -0.35505841518],[51.47059865903, -0.35482557394],[51.47078669688, -0.35412769296],[51.47094062382, -0.35356465205],[51.47094062382, -0.35356465205],[51.47106894789, -0.35309525195],[51.4710657137, -0.35286499454],[51.47116729962, -0.35241498571],[51.4713528953, -0.35154439239],[51.47148880822, -0.35097795212],[51.47176204336, -0.34994580061],[51.47194828574, -0.34933718931],[51.47194828574, -0.34933718931],[51.47237241418, -0.34795114569],[51.47243289532, -0.34777617529],[51.47287686931, -0.34673781069],[51.47289963995, -0.34668491049],[51.47289963995, -0.34668491049],[51.47328610106, -0.34578707689],[51.47339989627, -0.34556697407],[51.47360133458, -0.34518530817],[51.4738035842, -0.34486120646],[51.47397961837, -0.34457845069],[51.47397961837, -0.34457845069],[51.47465649554, -0.34349118249],[51.47470838879, -0.34334530746],[51.47486060964, -0.34266301285],[51.47490721203, -0.34214293854],[51.47490721203, -0.34214293854],[51.47498836783, -0.34088722939],[51.47500206663, -0.34058434024],[51.47505173848, -0.339646561],[51.47511917435, -0.33869373461],[51.47516903505, -0.33777034352],[51.47519408895, -0.33730630818],[51.47519408895, -0.33730630818],[51.47521888846, -0.33684695059],[51.47523441421, -0.33667358946],[51.47524626434, -0.33624116713],[51.47526587502, -0.33572206383],[51.47534555457, -0.33493649595],[51.47534555457, -0.33493649595],[51.4754315233, -0.33408886107],[51.47549055198, -0.33381311463],[51.4755412059, -0.33358087207],[51.4759237133, -0.33231020098],[51.4759237133, -0.33231020098],[51.47596195965, -0.33218314475],[51.47608266915, -0.33181874265],[51.47680567179, -0.32954593374],[51.47701990483, -0.3288036932],[51.47713389394, -0.32839851153],[51.47713389394, -0.32839851153],[51.47720819612, -0.32813439585],[51.47743957422, -0.32733391317],[51.47760274241, -0.32679512707],[51.47768810047, -0.32647519271],[51.47783370029, -0.32596584483],[51.47785922492, -0.3258641065],[51.4779703102, -0.3254568229],[51.47803561824, -0.32522689602],[51.47803561824, -0.32522689602],[51.47809017611, -0.32503481502],[51.47822760451, -0.32458336006],[51.47827926824, -0.32442305948],[51.47839974751, -0.32404422566],[51.47857168221, -0.323490694],[51.47889818611, -0.32242745785],[51.47916561322, -0.32160099233],[51.47916561322, -0.32160099233],[51.47949237417, -0.32059112176],[51.47963753562, -0.32005294841],[51.47967183645, -0.31993647906],[51.47974002528, -0.31967475268],[51.47993986637, -0.31905984828],[51.47993986637, -0.31905984828],[51.4804031796, -0.3176341896],[51.48080173702, -0.31658261642],[51.48101031638, -0.31607021305],[51.48101031638, -0.31607021305],[51.48112311779, -0.31579309689],[51.48141877124, -0.31509092446],[51.48149697089, -0.31490082022],[51.48162744087, -0.31459357447],[51.4818269138, -0.3140821572],[51.48203269489, -0.31355831884],[51.48203269489, -0.31355831884],[51.48221727937, -0.31308842961],[51.48237160052, -0.31256426357],[51.48238729718, -0.31240526221],[51.48240009309, -0.31204473976],[51.48242692525, -0.31141006047],[51.48247276584, -0.31084668819],[51.48270111974, -0.30984450588],[51.4828305387, -0.30946526548],[51.48300157313, -0.30885404847],[51.48308605098, -0.30847646555],[51.48332154573, -0.30729081354],[51.48332154573, -0.30729081354],[51.48336269968, -0.30708360706],[51.48346935342, -0.30637394233],[51.48360904117, -0.30546141634],[51.48393181515, -0.30424783529],[51.48393181515, -0.30424783529],[51.48398430855, -0.30405046198],[51.48407085293, -0.30381681058],[51.48418394299, -0.30355336803],[51.4845405596, -0.30271918035],[51.48492434118, -0.30189837321],[51.4850786116, -0.30137413931],[51.48516410782, -0.3010685016],[51.48522284922, -0.30077826018],[51.48568835207, -0.2993926655],[51.48602089972, -0.29876095743],[51.48611869517, -0.2984666894],[51.48611869517, -0.2984666894],[51.48617599145, -0.29829428237],[51.48632167588, -0.29779914788],[51.4863697496, -0.29739406584],[51.48638667959, -0.29732141881],[51.48660906563, -0.2965353538],[51.48672945331, -0.29615637905],[51.4869080458, -0.29556748428],[51.4869080458, -0.29556748428],[51.48717566958, -0.29468498874],[51.4872699262, -0.29436459369],[51.48751674078, -0.29340474295],[51.48765278808, -0.2928667268],[51.48771297605, -0.29267723062],[51.48805968744, -0.29178564676],[51.48842379284, -0.29041875942],[51.48842379284, -0.29041875942],[51.48848598405, -0.29018527932],[51.48851962502, -0.2900255772],[51.48861949673, -0.28947448871],[51.48864435925, -0.28932951814],[51.488784333, -0.28844563189],[51.48888755979, -0.2881248764],[51.48905911196, -0.28755668944],[51.48929546606, -0.28711570741],[51.48933715561, -0.2870490605],[51.48933715561, -0.2870490605],[51.48947999688, -0.28682070622],[51.48957612474, -0.28662984701],[51.48961123323, -0.28657091359],[51.48968959612, -0.2863951237],[51.48980411895, -0.2862323817],[51.49009186725, -0.28561660416],[51.49016187266, -0.28548433776],[51.49026656473, -0.28526434245],[51.49071108466, -0.28429164022],[51.49071108466, -0.28429164022],[51.49116404786, -0.28330042435],[51.49135270775, -0.2826739281],[51.49153266728, -0.28268157073],[51.49162190915, -0.28263500243],[51.49170195273, -0.28257437461],[51.49178157459, -0.28248495241],[51.49184237806, -0.28233861702],[51.49188913219, -0.2818470882],[51.49187866823, -0.28174664629],[51.49180065085, -0.28133183399],[51.49185955372, -0.28105592311],[51.49195145067, -0.28057709936],[51.49200655137, -0.28004203808],[51.49210923691, -0.27907303044],[51.49213990434, -0.27871174734],[51.49217078201, -0.27836486095],[51.49221209707, -0.27794497883],[51.49221209707, -0.27794497883],[51.49223337999, -0.27772867563],[51.49233932118, -0.2763705946],[51.49239877902, -0.275766214],[51.49239877902, -0.275766214],[51.49243320055, -0.27541630875],[51.49250307544, -0.27466459877],[51.49257811835, -0.27365339623],[51.49262292789, -0.27303227592],[51.49281741517, -0.27158439074],[51.49285039388, -0.27138146829],[51.49288927685, -0.27081196001],[51.49288927685, -0.27081196001],[51.49293913599, -0.27008162581],[51.49294302589, -0.26973574897],[51.49291995266, -0.26939089314],[51.49289730342, -0.26907483236],[51.49268332138, -0.26676368051],[51.49262970516, -0.26557007351],[51.49257967723, -0.2648892199],[51.49257967723, -0.2648892199],[51.49256215017, -0.26465069901],[51.49253373446, -0.26394591932],[51.49245976884, -0.26259463485],[51.49245784915, -0.2624650605],[51.49244867533, -0.26184598325],[51.49244376706, -0.26151484904],[51.49244376706, -0.26151484904],[51.49243949823, -0.26122690633],[51.49244378904, -0.26090982741],[51.49245772438, -0.26003057609],[51.49247206748, -0.25978514044],[51.49250075213, -0.2592942687],[51.49252558682, -0.25854424784],[51.49254014061, -0.25831320857],[51.49255335695, -0.258081421],[51.49255335695, -0.258081421],[51.49260434335, -0.25718714724],[51.49261140499, -0.25705723009],[51.49265933384, -0.25604702882],[51.49270404994, -0.2554258924],[51.49274383456, -0.25447361971],[51.49278105551, -0.25395360451],[51.49280651648, -0.25337688302],[51.49280651648, -0.25337688302],[51.49284156966, -0.25258277979],[51.49285182034, -0.2520637934],[51.49286099545, -0.25147282087],[51.49294632862, -0.25056201359],[51.4929781968, -0.25028709017],[51.49304236096, -0.24976603672],[51.49310624109, -0.24927125674],[51.49310624109, -0.24927125674],[51.49317132725, -0.24876711738],[51.49321217847, -0.248491847],[51.49326842274, -0.24804311957],[51.49332999501, -0.24734929217],[51.49333683054, -0.24720497438],[51.49335582219, -0.24674964397],[51.49335582219, -0.24674964397],[51.4933765482, -0.24625268296],[51.49340259157, -0.24558902656],[51.49343078572, -0.2450693427],[51.49344229608, -0.24463673267],[51.49349098008, -0.24368409191],[51.49353217917, -0.24283257626],[51.49353771467, -0.24260187327],[51.49355928213, -0.24224090282],[51.49355604504, -0.24202494273],[51.49356257862, -0.24126119228],[51.49355890785, -0.24101643763],[51.49353169517, -0.24026828273],[51.49353169517, -0.24026828273],[51.49349768155, -0.23933333615],[51.49348350624, -0.23898814736],[51.49346142383, -0.23871529162],[51.49339733599, -0.23804069864],[51.49332793545, -0.23761120722],[51.49322386253, -0.23714848127],[51.49322386253, -0.23714848127],[51.49316411615, -0.23688284326],[51.49309730929, -0.2366261217],[51.49304804327, -0.23633991294],[51.49294842621, -0.23569551183],[51.4929243376, -0.2352406338],[51.4929243376, -0.2352406338],[51.49292330323, -0.23522110183],[51.49290186215, -0.2349914427],[51.49282919933, -0.23434600505],[51.49322333561, -0.23424434337],[51.49371611418, -0.23412446236],[51.4938862206, -0.23407467163],[51.49406574779, -0.23405332807],[51.49444147566, -0.23392356043],[51.49446419537, -0.23304391988],[51.49447635226, -0.23261636543],[51.49447635226, -0.23261636543],[51.49448182757, -0.23242378229],[51.49447727018, -0.23212143366],[51.49449402903, -0.23144370544],[51.49447613842, -0.23085375392],[51.49447860901, -0.23042147972],[51.49447404646, -0.23011913145],[51.49447404646, -0.23011913145],[51.49446970044, -0.22983118078],[51.49442310102, -0.22912709509],[51.49439033907, -0.22814876168],[51.49439721735, -0.22741379251],[51.49380064483, -0.2266158063],[51.49361282209, -0.22613708873],[51.49361282209, -0.22613708873],[51.49356682039, -0.22601984219],[51.49310749593, -0.22478439212],[51.49302247048, -0.22451399052],[51.49305580336, -0.22433982929],[51.49307884074, -0.22407963476],[51.49310868408, -0.22367512011],[51.49292654222, -0.2235237399],[51.49289669938, -0.22392825301],[51.49283025256, -0.22429097155],[51.49263842032, -0.22468737086],[51.4916948664, -0.22354280825],[51.49187814394, -0.22317555527],[51.49254577137, -0.22395768944],[51.49254577137, -0.22395768944],[51.49283025256, -0.22429097155],[51.49289669938, -0.22392825301],[51.49292654222, -0.2235237399],[51.49307779709, -0.22341702133],[51.49303377754, -0.22288572883],[51.49305288382, -0.22236638725],[51.49307005802, -0.22112684423],[51.49319659439, -0.21998387896],[51.4932033962, -0.21983955834],[51.49323366205, -0.2194638343],[51.49324595244, -0.21908881028],[51.4932496023, -0.21903172639],[51.4932496023, -0.21903172639],[51.4934130545, -0.21647487756],[51.49356715802, -0.21596466389],[51.4936210824, -0.21578876975],[51.4936210824, -0.21578876975],[51.49377277194, -0.21529397184],[51.49386637118, -0.21494457742],[51.49410551597, -0.21411410145],[51.49426793821, -0.21356032892],[51.49441326111, -0.21306484495],[51.49451671837, -0.21277267933],[51.49470204183, -0.21230745853],[51.49470204183, -0.21230745853],[51.49481985472, -0.2120117063],[51.49489744572, -0.2117925785],[51.49505416355, -0.2114551037],[51.49561000721, -0.21016558868],[51.49582369513, -0.20943689778],[51.49591419828, -0.20888590647],[51.4959689705, -0.20835072043],[51.4960086263, -0.20800341014],[51.49606647525, -0.20766979207],[51.49615983134, -0.20730596705],[51.49625230572, -0.2068845489],[51.49664152944, -0.2058752137],[51.49681422114, -0.20540741736],[51.4969127914, -0.20514215643],[51.4969127914, -0.20514215643],[51.49715105266, -0.20450096369],[51.49729743909, -0.20407741145],[51.4974038288, -0.20376137524],[51.4974038288, -0.20376137524],[51.4975038661, -0.20346420553],[51.49782314955, -0.20258722794],[51.49790072261, -0.20236807005],[51.498012919, -0.20206110629],[51.49822832229, -0.20144752806],[51.4983236464, -0.20121326016],[51.49848212303, -0.2007539867],[51.49848212303, -0.2007539867],[51.49853027906, -0.20061442637],[51.49863348374, -0.20030780815],[51.49880983497, -0.19949404872],[51.49891148898, -0.19908663532],[51.49903943913, -0.19863496097],[51.49909969419, -0.19845969565],[51.49927191323, -0.19796304902],[51.49943580703, -0.19750994979],[51.49951447703, -0.19736277003],[51.49960014175, -0.19708564511],[51.49977247803, -0.19659149835],[51.49977247803, -0.19659149835],[51.49996187539, -0.19604842041],[51.50021230837, -0.19537577199],[51.50039327946, -0.19486434765],[51.50054795236, -0.19439718239],[51.50063147985, -0.19416718771],[51.50063147985, -0.19416718771],[51.50089301862, -0.19344702169],[51.50097933941, -0.19321307912],[51.50124861741, -0.19259728681],[51.50136977469, -0.19228992137],[51.5016388257, -0.19165971894],[51.50188291116, -0.19116017279],[51.50199574398, -0.19089635402],[51.5021189959, -0.19014223454],[51.50219254462, -0.18966384158],[51.50234452831, -0.18902384436],[51.50237647355, -0.18876322465],[51.50237091341, -0.18840323221],[51.50235551997, -0.18825436033],[51.50235551997, -0.18825436033],[51.5022863365, -0.1875853023],[51.50225425702, -0.18725517997],[51.50222195401, -0.18691065849],[51.50212949332, -0.18616508913],[51.50207000352, -0.18580724055],[51.50195933913, -0.18504799062],[51.5018632176, -0.18456367735],[51.5018632176, -0.18456367735],[51.50180328927, -0.18426173149],[51.50174624636, -0.18406228217],[51.50167776326, -0.18370479679],[51.50150624696, -0.18250132279],[51.50149547477, -0.18238648535],[51.50145104555, -0.18184074006],[51.50144568752, -0.18149515564],[51.5014483204, -0.18130343707],[51.5014483204, -0.18130343707],[51.50145835521, -0.18057252394],[51.50146421456, -0.18037057516],[51.5014720844, -0.18029822046],[51.50147119071, -0.18024062308],[51.50153235954, -0.17954658966],[51.50157380261, -0.17816174314],[51.50156354629, -0.17692304002],[51.50160617336, -0.1763667839],[51.50160617336, -0.1763667839],[51.5017429474, -0.17458172945],[51.50180049507, -0.17365729478],[51.50180746376, -0.1735273409],[51.5019000637, -0.17196753186],[51.50192526656, -0.17103788626],[51.50192526656, -0.17103788626],[51.50192860897, -0.17091457589],[51.50190884056, -0.1702237641],[51.50185379079, -0.16900125621],[51.50185199227, -0.1688860612],[51.50183693457, -0.16849763843],[51.50182637358, -0.16839720318],[51.50181962633, -0.16796522235],[51.50182186435, -0.16753288121],[51.50182091398, -0.16712782869],[51.50182091398, -0.16712782869],[51.50182027482, -0.16685575109],[51.5017189044, -0.165548659],[51.50167349575, -0.16494533227],[51.50167393338, -0.16316910258],[51.50167393338, -0.16316910258],[51.50167404841, -0.16268320064],[51.50166592629, -0.16216482706],[51.50167152822, -0.16194847655],[51.50172694399, -0.1608944365],[51.50186328072, -0.16041347039],[51.5020534849, -0.15935399288],[51.50223717984, -0.15845326262],[51.50234302614, -0.15660469962],[51.50235760458, -0.15638798279],[51.50245933388, -0.15599484493],[51.50268166805, -0.15526543629],[51.5028538517, -0.15420664572],[51.50292061999, -0.15348398613],[51.50292061999, -0.15348398613],[51.50297678308, -0.15287607161],[51.50299807311, -0.15251499127],[51.50303892369, -0.15225398086],[51.50306384215, -0.15212329372],[51.50311435937, -0.15190511792],[51.50313927744, -0.15177443038],[51.50325601381, -0.1511933527],[51.50327979599, -0.15099066598],[51.50330289665, -0.15074477999],[51.50330279988, -0.15016842877],[51.50376092273, -0.14899715453],[51.50383031675, -0.14883584301],[51.50403040989, -0.14835058751],[51.50403040989, -0.14835058751],[51.50409014443, -0.14820572062],[51.5042284752, -0.14785429249],[51.50442925725, -0.14747151096],[51.50491818178, -0.14654388977],[51.50499655908, -0.14638220579],[51.50504035482, -0.14630838133],[51.50551959994, -0.14533789922],[51.50566781968, -0.14504368807],[51.50583401214, -0.14474874497],[51.50589372996, -0.14454458344],[51.50615604076, -0.14407281429],[51.50642596865, -0.1435142708],[51.50665255626, -0.14305835242],[51.50672216991, -0.14291142246],[51.50694875511, -0.14245549816],[51.50694875511, -0.14245549816],[51.50714098851, -0.14210183746],[51.50752431093, -0.14132250244],[51.50774837857, -0.14070815122],[51.507791714, -0.14060551486],[51.50803397962, -0.14000482571],[51.50816329846, -0.13965370876],[51.50819764623, -0.13955143656],[51.50826898363, -0.13933902458],[51.50826898363, -0.13933902458],[51.50840373098, -0.13893780016],[51.50843762106, -0.13880672447],[51.50861719896, -0.13822298313],[51.50873661104, -0.13781461798],[51.50879654522, -0.13762483593],[51.50897680338, -0.13708428955],[51.50906232377, -0.1368069974],[51.50908768233, -0.13670508774],[51.50925572211, -0.13619348546],[51.50925572211, -0.13619348546],[51.50937074103, -0.1358433007],[51.5094140721, -0.13574065615],[51.50945648737, -0.13558040539],[51.50967245365, -0.1350239738],[51.50974045379, -0.13477621091],[51.50984943911, -0.13484381454],[51.50995636316, -0.1347818036],[51.51011422956, -0.13453036792],[51.51002395632, -0.13394320319],[51.5100961279, -0.13339263412],[51.50993877003, -0.13311084572],[51.50974661115, -0.1329025368],[51.50968232884, -0.13281869933],[51.50965733006, -0.13279420354],[51.50965733006, -0.13279420354],[51.50952703333, -0.13266652896],[51.50924363106, -0.13237549018],[51.50883395601, -0.13206079821],[51.50846875468, -0.13171547141],[51.50808626736, -0.13141408857],[51.50769433368, -0.13108427662],[51.5076344804, -0.13015005748],[51.50761421105, -0.13000678455],[51.50757229389, -0.12963383392],[51.50756518671, -0.12956509332]]",
            "stopPoints": [
             {
              "$type": "Tfl.Api.Presentation.Entities.Identifier, Tfl.Api.Presentation.Entities",
              "id": "490G00010197",
              "name": "Newbury Road / Compass Centre",
              "routeType": "Unknown",
              "status": "Unknown",
              "type": "StopPoint",
              "uri": "/StopPoint/490G00010197"
             },
             {
              "$type": "Tfl.Api.Presentation.Entities.Identifier, Tfl.Api.Presentation.Entities",
              "id": "490G00010174",
              "name": "Nene Road Roundabout",
              "routeType": "Unknown",
              "status": "Unknown",
              "type": "StopPoint",
              "uri": "/StopPoint/490G00010174"
             },
             {
              "$type": "Tfl.Api.Presentation.Entities.Identifier, Tfl.Api.Presentation.Entities",
              "id": "910GHTRWCBS",
              "name": "Heathrow Central Bus Stn (Rail-Air)",
              "routeType": "Unknown",
              "status": "Unknown",
              "type": "StopPoint",
              "uri": "/StopPoint/910GHTRWCBS"
             },
             {
              "$type": "Tfl.Api.Presentation.Entities.Identifier, Tfl.Api.Presentation.Entities",
              "id": "490G00012176",
              "name": "Nene Road",
              "routeType": "Unknown",
              "status": "Unknown",
              "type": "StopPoint",
              "uri": "/StopPoint/490G00012176"
             },
             {
              "$type": "Tfl.Api.Presentation.Entities.Identifier, Tfl.Api.Presentation.Entities",
              "id": "490G00004139",
              "name": "Bolton's Lane",
              "routeType": "Unknown",
              "status": "Unknown",
              "type": "StopPoint",
              "uri": "/StopPoint/490G00004139"
             },
             {
              "$type": "Tfl.Api.Presentation.Entities.Identifier, Tfl.Api.Presentation.Entities",
              "id": "490G00010251",
              "name": "New Road",
              "routeType": "Unknown",
              "status": "Unknown",
              "type": "StopPoint",
              "uri": "/StopPoint/490G00010251"
             },
             {
              "$type": "Tfl.Api.Presentation.Entities.Identifier, Tfl.Api.Presentation.Entities",
              "id": "490G00007811",
              "name": "Harlington Corner",
              "routeType": "Unknown",
              "status": "Unknown",
              "type": "StopPoint",
              "uri": "/StopPoint/490G00007811"
             },
             {
              "$type": "Tfl.Api.Presentation.Entities.Identifier, Tfl.Api.Presentation.Entities",
              "id": "490G00015397",
              "name": "Nobel Drive",
              "routeType": "Unknown",
              "status": "Unknown",
              "type": "StopPoint",
              "uri": "/StopPoint/490G00015397"
             },
             {
              "$type": "Tfl.Api.Presentation.Entities.Identifier, Tfl.Api.Presentation.Entities",
              "id": "490G00010677",
              "name": "Oxford Avenue",
              "routeType": "Unknown",
              "status": "Unknown",
              "type": "StopPoint",
              "uri": "/StopPoint/490G00010677"
             },
             {
              "$type": "Tfl.Api.Presentation.Entities.Identifier, Tfl.Api.Presentation.Entities",
              "id": "490G00013596",
              "name": "Craneswater",
              "routeType": "Unknown",
              "status": "Unknown",
              "type": "StopPoint",
              "uri": "/StopPoint/490G00013596"
             },
             {
              "$type": "Tfl.Api.Presentation.Entities.Identifier, Tfl.Api.Presentation.Entities",
              "id": "490G00005704",
              "name": "Waye Avenue",
              "routeType": "Unknown",
              "status": "Unknown",
              "type": "StopPoint",
              "uri": "/StopPoint/490G00005704"
             },
             {
              "$type": "Tfl.Api.Presentation.Entities.Identifier, Tfl.Api.Presentation.Entities",
              "id": "490G00013235",
              "name": "The Avenue",
              "routeType": "Unknown",
              "status": "Unknown",
              "type": "StopPoint",
              "uri": "/StopPoint/490G00013235"
             },
             {
              "$type": "Tfl.Api.Presentation.Entities.Identifier, Tfl.Api.Presentation.Entities",
              "id": "490G00013495",
              "name": "The Parkway",
              "routeType": "Unknown",
              "status": "Unknown",
              "type": "StopPoint",
              "uri": "/StopPoint/490G00013495"
             },
             {
              "$type": "Tfl.Api.Presentation.Entities.Identifier, Tfl.Api.Presentation.Entities",
              "id": "490G00011470",
              "name": "Rectory Road",
              "routeType": "Unknown",
              "status": "Unknown",
              "type": "StopPoint",
              "uri": "/StopPoint/490G00011470"
             },
             {
              "$type": "Tfl.Api.Presentation.Entities.Identifier, Tfl.Api.Presentation.Entities",
              "id": "490G00015462",
              "name": "Henlys Roundabout",
              "routeType": "Unknown",
              "status": "Unknown",
              "type": "StopPoint",
              "uri": "/StopPoint/490G00015462"
             },
             {
              "$type": "Tfl.Api.Presentation.Entities.Identifier, Tfl.Api.Presentation.Entities",
              "id": "490G000040",
              "name": "Great West Road / Renfrew Road",
              "routeType": "Unknown",
              "status": "Unknown",
              "type": "StopPoint",
              "uri": "/StopPoint/490G000040"
             },
             {
              "$type": "Tfl.Api.Presentation.Entities.Identifier, Tfl.Api.Presentation.Entities",
              "id": "490G00118B",
              "name": "Hounslow West Station",
              "routeType": "Unknown",
              "status": "Unknown",
              "type": "StopPoint",
              "uri": "/StopPoint/490G00118B"
             },
             {
              "$type": "Tfl.Api.Presentation.Entities.Identifier, Tfl.Api.Presentation.Entities",
              "id": "490G00012458",
              "name": "St Paul's Church",
              "routeType": "Unknown",
              "status": "Unknown",
              "type": "StopPoint",
              "uri": "/StopPoint/490G00012458"
             },
             {
              "$type": "Tfl.Api.Presentation.Entities.Identifier, Tfl.Api.Presentation.Entities",
              "id": "490G00006406",
              "name": "Wellington Road North",
              "routeType": "Unknown",
              "status": "Unknown",
              "type": "StopPoint",
              "uri": "/StopPoint/490G00006406"
             },
             {
              "$type": "Tfl.Api.Presentation.Entities.Identifier, Tfl.Api.Presentation.Entities",
              "id": "490G00012454",
              "name": "St Michael & St Martin Church",
              "routeType": "Unknown",
              "status": "Unknown",
              "type": "StopPoint",
              "uri": "/StopPoint/490G00012454"
             },
             {
              "$type": "Tfl.Api.Presentation.Entities.Identifier, Tfl.Api.Presentation.Entities",
              "id": "490G00013259",
              "name": "The Bell",
              "routeType": "Unknown",
              "status": "Unknown",
              "type": "StopPoint",
              "uri": "/StopPoint/490G00013259"
             },
             {
              "$type": "Tfl.Api.Presentation.Entities.Identifier, Tfl.Api.Presentation.Entities",
              "id": "490G00013777",
              "name": "Treaty Centre",
              "routeType": "Unknown",
              "status": "Unknown",
              "type": "StopPoint",
              "uri": "/StopPoint/490G00013777"
             },
             {
              "$type": "Tfl.Api.Presentation.Entities.Identifier, Tfl.Api.Presentation.Entities",
              "id": "490G00008399",
              "name": "Hounslow High Street",
              "routeType": "Unknown",
              "status": "Unknown",
              "type": "StopPoint",
              "uri": "/StopPoint/490G00008399"
             },
             {
              "$type": "Tfl.Api.Presentation.Entities.Identifier, Tfl.Api.Presentation.Entities",
              "id": "490G000601",
              "name": "Hounslow Bus Station",
              "routeType": "Unknown",
              "status": "Unknown",
              "type": "StopPoint",
              "uri": "/StopPoint/490G000601"
             },
             {
              "$type": "Tfl.Api.Presentation.Entities.Identifier, Tfl.Api.Presentation.Entities",
              "id": "490G00004327",
              "name": "Bridge Road",
              "routeType": "Unknown",
              "status": "Unknown",
              "type": "StopPoint",
              "uri": "/StopPoint/490G00004327"
             },
             {
              "$type": "Tfl.Api.Presentation.Entities.Identifier, Tfl.Api.Presentation.Entities",
              "id": "490G00012599",
              "name": "Star Road",
              "routeType": "Unknown",
              "status": "Unknown",
              "type": "StopPoint",
              "uri": "/StopPoint/490G00012599"
             },
             {
              "$type": "Tfl.Api.Presentation.Entities.Identifier, Tfl.Api.Presentation.Entities",
              "id": "490G00013620",
              "name": "Thornbury Road",
              "routeType": "Unknown",
              "status": "Unknown",
              "type": "StopPoint",
              "uri": "/StopPoint/490G00013620"
             },
             {
              "$type": "Tfl.Api.Presentation.Entities.Identifier, Tfl.Api.Presentation.Entities",
              "id": "490G00008510",
              "name": "West Thames College",
              "routeType": "Unknown",
              "status": "Unknown",
              "type": "StopPoint",
              "uri": "/StopPoint/490G00008510"
             },
             {
              "$type": "Tfl.Api.Presentation.Entities.Identifier, Tfl.Api.Presentation.Entities",
              "id": "490G01158B",
              "name": "Isleworth Station",
              "routeType": "Unknown",
              "status": "Unknown",
              "type": "StopPoint",
              "uri": "/StopPoint/490G01158B"
             },
             {
              "$type": "Tfl.Api.Presentation.Entities.Identifier, Tfl.Api.Presentation.Entities",
              "id": "490G00009185",
              "name": "Linkfield Road",
              "routeType": "Unknown",
              "status": "Unknown",
              "type": "StopPoint",
              "uri": "/StopPoint/490G00009185"
             },
             {
              "$type": "Tfl.Api.Presentation.Entities.Identifier, Tfl.Api.Presentation.Entities",
              "id": "490G00014874",
              "name": "Wood Lane",
              "routeType": "Unknown",
              "status": "Unknown",
              "type": "StopPoint",
              "uri": "/StopPoint/490G00014874"
             },
             {
              "$type": "Tfl.Api.Presentation.Entities.Identifier, Tfl.Api.Presentation.Entities",
              "id": "490G00007873",
              "name": "Turnpike Way",
              "routeType": "Unknown",
              "status": "Unknown",
              "type": "StopPoint",
              "uri": "/StopPoint/490G00007873"
             },
             {
              "$type": "Tfl.Api.Presentation.Entities.Identifier, Tfl.Api.Presentation.Entities",
              "id": "490G00004635",
              "name": "The Green School",
              "routeType": "Unknown",
              "status": "Unknown",
              "type": "StopPoint",
              "uri": "/StopPoint/490G00004635"
             },
             {
              "$type": "Tfl.Api.Presentation.Entities.Identifier, Tfl.Api.Presentation.Entities",
              "id": "490G00015029",
              "name": "Busch Corner",
              "routeType": "Unknown",
              "status": "Unknown",
              "type": "StopPoint",
              "uri": "/StopPoint/490G00015029"
             },
             {
              "$type": "Tfl.Api.Presentation.Entities.Identifier, Tfl.Api.Presentation.Entities",
              "id": "490G00013141",
              "name": "Syon Lane",
              "routeType": "Unknown",
              "status": "Unknown",
              "type": "StopPoint",
              "uri": "/StopPoint/490G00013141"
             },
             {
              "$type": "Tfl.Api.Presentation.Entities.Identifier, Tfl.Api.Presentation.Entities",
              "id": "490G00003804",
              "name": "Beech Avenue",
              "routeType": "Unknown",
              "status": "Unknown",
              "type": "StopPoint",
              "uri": "/StopPoint/490G00003804"
             },
             {
              "$type": "Tfl.Api.Presentation.Entities.Identifier, Tfl.Api.Presentation.Entities",
              "id": "490G00004296",
              "name": "Brent Lea",
              "routeType": "Unknown",
              "status": "Unknown",
              "type": "StopPoint",
              "uri": "/StopPoint/490G00004296"
             },
             {
              "$type": "Tfl.Api.Presentation.Entities.Identifier, Tfl.Api.Presentation.Entities",
              "id": "490G00004292",
              "name": "Market Place",
              "routeType": "Unknown",
              "status": "Unknown",
              "type": "StopPoint",
              "uri": "/StopPoint/490G00004292"
             },
             {
              "$type": "Tfl.Api.Presentation.Entities.Identifier, Tfl.Api.Presentation.Entities",
              "id": "490G00004289",
              "name": "Brentford County Court",
              "routeType": "Unknown",
              "status": "Unknown",
              "type": "StopPoint",
              "uri": "/StopPoint/490G00004289"
             },
             {
              "$type": "Tfl.Api.Presentation.Entities.Identifier, Tfl.Api.Presentation.Entities",
              "id": "490G00006297",
              "name": "Watermans Centre",
              "routeType": "Unknown",
              "status": "Unknown",
              "type": "StopPoint",
              "uri": "/StopPoint/490G00006297"
             },
             {
              "$type": "Tfl.Api.Presentation.Entities.Identifier, Tfl.Api.Presentation.Entities",
              "id": "490G00004293",
              "name": "The Musical Museum",
              "routeType": "Unknown",
              "status": "Unknown",
              "type": "StopPoint",
              "uri": "/StopPoint/490G00004293"
             },
             {
              "$type": "Tfl.Api.Presentation.Entities.Identifier, Tfl.Api.Presentation.Entities",
              "id": "490G00008690",
              "name": "London Museum Of Water and Steam",
              "routeType": "Unknown",
              "status": "Unknown",
              "type": "StopPoint",
              "uri": "/StopPoint/490G00008690"
             },
             {
              "$type": "Tfl.Api.Presentation.Entities.Identifier, Tfl.Api.Presentation.Entities",
              "id": "490G01167S",
              "name": "Kew Bridge Station",
              "routeType": "Unknown",
              "status": "Unknown",
              "type": "StopPoint",
              "uri": "/StopPoint/490G01167S"
             },
             {
              "$type": "Tfl.Api.Presentation.Entities.Identifier, Tfl.Api.Presentation.Entities",
              "id": "490G00004290",
              "name": "Brentford Fountain Leisure Centre",
              "routeType": "Unknown",
              "status": "Unknown",
              "type": "StopPoint",
              "uri": "/StopPoint/490G00004290"
             },
             {
              "$type": "Tfl.Api.Presentation.Entities.Identifier, Tfl.Api.Presentation.Entities",
              "id": "490G000750",
              "name": "Thorney Hedge Road",
              "routeType": "Unknown",
              "status": "Unknown",
              "type": "StopPoint",
              "uri": "/StopPoint/490G000750"
             },
             {
              "$type": "Tfl.Api.Presentation.Entities.Identifier, Tfl.Api.Presentation.Entities",
              "id": "490G00094B",
              "name": "Gunnersbury Station",
              "routeType": "Unknown",
              "status": "Unknown",
              "type": "StopPoint",
              "uri": "/StopPoint/490G00094B"
             },
             {
              "$type": "Tfl.Api.Presentation.Entities.Identifier, Tfl.Api.Presentation.Entities",
              "id": "490G00005211",
              "name": "Chiswick Road",
              "routeType": "Unknown",
              "status": "Unknown",
              "type": "StopPoint",
              "uri": "/StopPoint/490G00005211"
             },
             {
              "$type": "Tfl.Api.Presentation.Entities.Identifier, Tfl.Api.Presentation.Entities",
              "id": "490G000807",
              "name": "Turnham Green Church",
              "routeType": "Unknown",
              "status": "Unknown",
              "type": "StopPoint",
              "uri": "/StopPoint/490G000807"
             },
             {
              "$type": "Tfl.Api.Presentation.Entities.Identifier, Tfl.Api.Presentation.Entities",
              "id": "490G00005423",
              "name": "Clifton Gardens",
              "routeType": "Unknown",
              "status": "Unknown",
              "type": "StopPoint",
              "uri": "/StopPoint/490G00005423"
             },
             {
              "$type": "Tfl.Api.Presentation.Entities.Identifier, Tfl.Api.Presentation.Entities",
              "id": "490G00005210",
              "name": "Chiswick Police Station",
              "routeType": "Unknown",
              "status": "Unknown",
              "type": "StopPoint",
              "uri": "/StopPoint/490G00005210"
             },
             {
              "$type": "Tfl.Api.Presentation.Entities.Identifier, Tfl.Api.Presentation.Entities",
              "id": "490G00013850",
              "name": "Chiswick Lane",
              "routeType": "Unknown",
              "status": "Unknown",
              "type": "StopPoint",
              "uri": "/StopPoint/490G00013850"
             },
             {
              "$type": "Tfl.Api.Presentation.Entities.Identifier, Tfl.Api.Presentation.Entities",
              "id": "490G00012521",
              "name": "Stamford Brook Bus Garage",
              "routeType": "Unknown",
              "status": "Unknown",
              "type": "StopPoint",
              "uri": "/StopPoint/490G00012521"
             },
             {
              "$type": "Tfl.Api.Presentation.Entities.Identifier, Tfl.Api.Presentation.Entities",
              "id": "490G000535",
              "name": "Goldhawk Road / Young's Corner",
              "routeType": "Unknown",
              "status": "Unknown",
              "type": "StopPoint",
              "uri": "/StopPoint/490G000535"
             },
             {
              "$type": "Tfl.Api.Presentation.Entities.Identifier, Tfl.Api.Presentation.Entities",
              "id": "490G00012533",
              "name": "Ravenscourt Park",
              "routeType": "Unknown",
              "status": "Unknown",
              "type": "StopPoint",
              "uri": "/StopPoint/490G00012533"
             },
             {
              "$type": "Tfl.Api.Presentation.Entities.Identifier, Tfl.Api.Presentation.Entities",
              "id": "490G00188A",
              "name": "Ravenscourt Park Station",
              "routeType": "Unknown",
              "status": "Unknown",
              "type": "StopPoint",
              "uri": "/StopPoint/490G00188A"
             },
             {
              "$type": "Tfl.Api.Presentation.Entities.Identifier, Tfl.Api.Presentation.Entities",
              "id": "490G00005937",
              "name": "Dalling Road",
              "routeType": "Unknown",
              "status": "Unknown",
              "type": "StopPoint",
              "uri": "/StopPoint/490G00005937"
             },
             {
              "$type": "Tfl.Api.Presentation.Entities.Identifier, Tfl.Api.Presentation.Entities",
              "id": "490G00015588",
              "name": "Lamington Street",
              "routeType": "Unknown",
              "status": "Unknown",
              "type": "StopPoint",
              "uri": "/StopPoint/490G00015588"
             },
             {
              "$type": "Tfl.Api.Presentation.Entities.Identifier, Tfl.Api.Presentation.Entities",
              "id": "490G00007239",
              "name": "Iffley Road",
              "routeType": "Unknown",
              "status": "Unknown",
              "type": "StopPoint",
              "uri": "/StopPoint/490G00007239"
             },
             {
              "$type": "Tfl.Api.Presentation.Entities.Identifier, Tfl.Api.Presentation.Entities",
              "id": "490G00097T",
              "name": "Hammersmith Stn / H&C and Circle Lines",
              "routeType": "Unknown",
              "status": "Unknown",
              "type": "StopPoint",
              "uri": "/StopPoint/490G00097T"
             },
             {
              "$type": "Tfl.Api.Presentation.Entities.Identifier, Tfl.Api.Presentation.Entities",
              "id": "490G000565",
              "name": "Hammersmith Bus Station",
              "routeType": "Unknown",
              "status": "Unknown",
              "type": "StopPoint",
              "uri": "/StopPoint/490G000565"
             },
             {
              "$type": "Tfl.Api.Presentation.Entities.Identifier, Tfl.Api.Presentation.Entities",
              "id": "490G00008997",
              "name": "Latymer Court",
              "routeType": "Unknown",
              "status": "Unknown",
              "type": "StopPoint",
              "uri": "/StopPoint/490G00008997"
             },
             {
              "$type": "Tfl.Api.Presentation.Entities.Identifier, Tfl.Api.Presentation.Entities",
              "id": "490G00004455",
              "name": "Brook Green",
              "routeType": "Unknown",
              "status": "Unknown",
              "type": "StopPoint",
              "uri": "/StopPoint/490G00004455"
             },
             {
              "$type": "Tfl.Api.Presentation.Entities.Identifier, Tfl.Api.Presentation.Entities",
              "id": "490G00010357",
              "name": "North End Road",
              "routeType": "Unknown",
              "status": "Unknown",
              "type": "StopPoint",
              "uri": "/StopPoint/490G00010357"
             },
             {
              "$type": "Tfl.Api.Presentation.Entities.Identifier, Tfl.Api.Presentation.Entities",
              "id": "490G00008287",
              "name": "Holland Road",
              "routeType": "Unknown",
              "status": "Unknown",
              "type": "StopPoint",
              "uri": "/StopPoint/490G00008287"
             },
             {
              "$type": "Tfl.Api.Presentation.Entities.Identifier, Tfl.Api.Presentation.Entities",
              "id": "490G00003106",
              "name": "Warwick Gardens",
              "routeType": "Unknown",
              "status": "Unknown",
              "type": "StopPoint",
              "uri": "/StopPoint/490G00003106"
             },
             {
              "$type": "Tfl.Api.Presentation.Entities.Identifier, Tfl.Api.Presentation.Entities",
              "id": "490G00005528",
              "name": "The Design Museum",
              "routeType": "Unknown",
              "status": "Unknown",
              "type": "StopPoint",
              "uri": "/StopPoint/490G00005528"
             },
             {
              "$type": "Tfl.Api.Presentation.Entities.Identifier, Tfl.Api.Presentation.Entities",
              "id": "490G00010984",
              "name": "Phillimore Gardens",
              "routeType": "Unknown",
              "status": "Unknown",
              "type": "StopPoint",
              "uri": "/StopPoint/490G00010984"
             },
             {
              "$type": "Tfl.Api.Presentation.Entities.Identifier, Tfl.Api.Presentation.Entities",
              "id": "490G00110R",
              "name": "High Street Kensington Station",
              "routeType": "Unknown",
              "status": "Unknown",
              "type": "StopPoint",
              "uri": "/StopPoint/490G00110R"
             },
             {
              "$type": "Tfl.Api.Presentation.Entities.Identifier, Tfl.Api.Presentation.Entities",
              "id": "490G00011761",
              "name": "Kensington Palace",
              "routeType": "Unknown",
              "status": "Unknown",
              "type": "StopPoint",
              "uri": "/StopPoint/490G00011761"
             },
             {
              "$type": "Tfl.Api.Presentation.Entities.Identifier, Tfl.Api.Presentation.Entities",
              "id": "490G00010728",
              "name": "Palace Gate",
              "routeType": "Unknown",
              "status": "Unknown",
              "type": "StopPoint",
              "uri": "/StopPoint/490G00010728"
             },
             {
              "$type": "Tfl.Api.Presentation.Entities.Identifier, Tfl.Api.Presentation.Entities",
              "id": "490G00019923",
              "name": "Queen's Gate",
              "routeType": "Unknown",
              "status": "Unknown",
              "type": "StopPoint",
              "uri": "/StopPoint/490G00019923"
             },
             {
              "$type": "Tfl.Api.Presentation.Entities.Identifier, Tfl.Api.Presentation.Entities",
              "id": "490G00011750",
              "name": "Royal Albert Hall",
              "routeType": "Unknown",
              "status": "Unknown",
              "type": "StopPoint",
              "uri": "/StopPoint/490G00011750"
             },
             {
              "$type": "Tfl.Api.Presentation.Entities.Identifier, Tfl.Api.Presentation.Entities",
              "id": "490G00011198",
              "name": "Prince Of Wales Gate",
              "routeType": "Unknown",
              "status": "Unknown",
              "type": "StopPoint",
              "uri": "/StopPoint/490G00011198"
             },
             {
              "$type": "Tfl.Api.Presentation.Entities.Identifier, Tfl.Api.Presentation.Entities",
              "id": "490G00011822",
              "name": "Rutland Gardens",
              "routeType": "Unknown",
              "status": "Unknown",
              "type": "StopPoint",
              "uri": "/StopPoint/490G00011822"
             },
             {
              "$type": "Tfl.Api.Presentation.Entities.Identifier, Tfl.Api.Presentation.Entities",
              "id": "490G000575",
              "name": "Knightsbridge Station  / Harrods",
              "routeType": "Unknown",
              "status": "Unknown",
              "type": "StopPoint",
              "uri": "/StopPoint/490G000575"
             },
             {
              "$type": "Tfl.Api.Presentation.Entities.Identifier, Tfl.Api.Presentation.Entities",
              "id": "490G00119A",
              "name": "Hyde Park Corner",
              "routeType": "Unknown",
              "status": "Unknown",
              "type": "StopPoint",
              "uri": "/StopPoint/490G00119A"
             },
             {
              "$type": "Tfl.Api.Presentation.Entities.Identifier, Tfl.Api.Presentation.Entities",
              "id": "490G00010574",
              "name": "Old Park Lane / Hard Rock Cafe",
              "routeType": "Unknown",
              "status": "Unknown",
              "type": "StopPoint",
              "uri": "/StopPoint/490G00010574"
             },
             {
              "$type": "Tfl.Api.Presentation.Entities.Identifier, Tfl.Api.Presentation.Entities",
              "id": "490G00093PE",
              "name": "Green Park Station",
              "routeType": "Unknown",
              "status": "Unknown",
              "type": "StopPoint",
              "uri": "/StopPoint/490G00093PE"
             },
             {
              "$type": "Tfl.Api.Presentation.Entities.Identifier, Tfl.Api.Presentation.Entities",
              "id": "490G00010526",
              "name": "Old Bond Street / Royal Academy",
              "routeType": "Unknown",
              "status": "Unknown",
              "type": "StopPoint",
              "uri": "/StopPoint/490G00010526"
             },
             {
              "$type": "Tfl.Api.Presentation.Entities.Identifier, Tfl.Api.Presentation.Entities",
              "id": "490G00179B",
              "name": "Piccadilly Circus",
              "routeType": "Unknown",
              "status": "Unknown",
              "type": "StopPoint",
              "uri": "/StopPoint/490G00179B"
             },
             {
              "$type": "Tfl.Api.Presentation.Entities.Identifier, Tfl.Api.Presentation.Entities",
              "id": "490G00020307",
              "name": "Haymarket / Jermyn Street",
              "routeType": "Unknown",
              "status": "Unknown",
              "type": "StopPoint",
              "uri": "/StopPoint/490G00020307"
             },
             {
              "$type": "Tfl.Api.Presentation.Entities.Identifier, Tfl.Api.Presentation.Entities",
              "id": "490G000804",
              "name": "Northumberland Avenue / Trafalgar Square",
              "routeType": "Unknown",
              "status": "Unknown",
              "type": "StopPoint",
              "uri": "/StopPoint/490G000804"
             }
            ]
           },
           "plannedWorks": [],
           "routeOptions": [
            {
             "$type": "Tfl.Api.Presentation.Entities.JourneyPlanner.RouteOption, Tfl.Api.Presentation.Entities",
             "directions": [
              "Aldwych"
             ],
             "lineIdentifier": {
              "$type": "Tfl.Api.Presentation.Entities.Identifier, Tfl.Api.Presentation.Entities",
              "crowding": {
               "$type": "Tfl.Api.Presentation.Entities.Crowding, Tfl.Api.Presentation.Entities"
              },
              "id": "n9",
              "name": "N9",
              "routeType": "Unknown",
              "status": "Unknown",
              "type": "Line",
              "uri": "/Line/n9"
             },
             "name": "N9"
            }
           ]
          },
          {
           "$type": "Tfl.Api.Presentation.Entities.JourneyPlanner.Leg, Tfl.Api.Presentation.Entities",
           "arrivalPoint": {
            "$type": "Tfl.Api.Presentation.Entities.StopPoint, Tfl.Api.Presentation.Entities",
            "additionalProperties": [],
            "commonName": "Aldgate Station",
            "icsCode": "1000003",
            "lat": 51.51429166568,
            "lon": -0.07473547029,
            "naptanId": "490G00003N",
            "placeType": "StopPoint",
            "platformName": "",
            "stopLetter": "D"
           },
           "arrivalTime": "2021-06-25T04:04:00",
           "departurePoint": {
            "$type": "Tfl.Api.Presentation.Entities.StopPoint, Tfl.Api.Presentation.Entities",
            "additionalProperties": [],
            "commonName": "Northumberland Avenue / Trafalgar Square",
            "icsCode": "1013767",
            "lat": 51.50764280917,
            "lon": -0.12954448446,
            "naptanId": "490G000804",
            "placeType": "StopPoint",
            "platformName": "",
            "stopLetter": "B"
           },
           "departureTime": "2021-06-25T03:50:00",
           "disruptions": [
            {
             "$type": "Tfl.Api.Presentation.Entities.Disruption, Tfl.Api.Presentation.Entities",
             "additionalInfo": "",
             "category": "RealTime",
             "categoryDescription": "RealTime",
             "created": "2021-05-24T17:05:00",
             "description": "QUEEN VICTORIA STREET, EC4: Routes N550 and N551 are diverted (eastbound only) due to emergency Cadent Gas repair works. Buses are diverting via New Change and Cheapside, with no service to either Mansion House Station (ME) and Bank Station / Queen Victoria Street (MD).",
             "lastUpdate": "2021-05-25T14:51:00",
             "summary": "CE21/17008 / QUEEN VICTORIA STREET, EC4 / ROUTES N550 and N551",
             "type": "lineInfo"
            }
           ],
           "duration": 14,
           "hasFixedLocations": true,
           "instruction": {
            "$type": "Tfl.Api.Presentation.Entities.Instruction, Tfl.Api.Presentation.Entities",
            "detailed": "N550 bus towards Canning Town",
            "steps": [],
            "summary": "N550 bus to Aldgate Station"
           },
           "isDisrupted": true,
           "mode": {
            "$type": "Tfl.Api.Presentation.Entities.Identifier, Tfl.Api.Presentation.Entities",
            "id": "bus",
            "name": "bus",
            "routeType": "Unknown",
            "status": "Unknown",
            "type": "Mode"
           },
           "obstacles": [],
           "path": {
            "$type": "Tfl.Api.Presentation.Entities.JourneyPlanner.Path, Tfl.Api.Presentation.Entities",
            "elevation": [],
            "lineString": "[[51.50756518671, -0.12956509332],[51.50750849702, -0.12901680599],[51.50748730727, -0.12881593069],[51.50750252335, -0.12864238436],[51.5075039263, -0.12816678878],[51.50751592321, -0.12779163061],[51.50753274706, -0.12771888968],[51.50754058422, -0.12764651712],[51.50755671824, -0.12753057359],[51.50772125611, -0.12713474931],[51.50784315945, -0.12688477438],[51.50801737185, -0.1265317796],[51.50817576226, -0.12620799311],[51.50817576226, -0.12620799311],[51.5081828266, -0.12619355187],[51.50841833239, -0.12573716274],[51.5086031391, -0.12548459834],[51.50869876951, -0.12527892445],[51.50881214259, -0.12505811062],[51.50904741353, -0.12458730809],[51.50932577286, -0.12399944414],[51.50964837099, -0.12336652231],[51.50983155909, -0.1230131309],[51.51000575947, -0.12266010608],[51.51008387264, -0.12248396212],[51.51022166374, -0.12210360821],[51.51034807208, -0.1217743316],[51.51034807208, -0.1217743316],[51.51046337182, -0.12147398766],[51.51061014619, -0.12109325785],[51.51078203294, -0.12059620178],[51.51097212159, -0.12011280398],[51.51110114912, -0.11974720755],[51.51128247854, -0.11927857494],[51.51167326963, -0.11897424871],[51.51203296447, -0.11897384386],[51.51230377816, -0.11877976966],[51.51230377816, -0.11877976966],[51.51235301697, -0.11874448319],[51.51263735364, -0.11853100272],[51.51290993038, -0.11814506049],[51.51301430298, -0.11792457905],[51.51316889619, -0.11747143356],[51.51325228861, -0.11706445729],[51.51329167175, -0.11671694303],[51.51327158255, -0.11602599132],[51.51310724122, -0.11531216987],[51.51309983442, -0.1148512904],[51.51314987746, -0.11458102498],[51.51314987746, -0.11458102498],[51.5132073988, -0.11427036682],[51.51329999823, -0.11387741598],[51.51338314643, -0.11345602974],[51.51344026026, -0.11309336638],[51.51349690944, -0.11270189696],[51.51364730933, -0.11198948212],[51.51372285546, -0.11165487695],[51.51374772809, -0.11152413811],[51.51382854813, -0.11095871686],[51.51393609302, -0.11037777529],[51.51398583526, -0.11011629493],[51.51411824618, -0.10940460848],[51.51414218754, -0.10921625629],[51.51414838773, -0.10904305099],[51.51416334197, -0.1088550707],[51.51416948145, -0.10873934157],[51.51416948145, -0.10873934157],[51.51418403073, -0.10846507927],[51.51419092669, -0.10833508205],[51.5141895329, -0.10824866543],[51.5141961963, -0.1081042654],[51.51421161372, -0.10794509019],[51.51420836076, -0.10774345138],[51.51421293201, -0.1074694263],[51.51421200239, -0.10741181522],[51.51420898095, -0.10722457923],[51.51421262111, -0.10689294306],[51.51419735722, -0.10650444112],[51.51419317159, -0.10624519153],[51.51419131113, -0.1061299695],[51.51418311755, -0.10591696917],[51.51418311755, -0.10591696917],[51.5141758121, -0.10572706533],[51.51416766953, -0.1052229694],[51.514172933, -0.10499215268],[51.51416781308, -0.10467529251],[51.51416362342, -0.10441604335],[51.51414928261, -0.10408515377],[51.51412269419, -0.10355299966],[51.51400940059, -0.10266413961],[51.5139897966, -0.10256406782],[51.51393075109, -0.10224945033],[51.51388069125, -0.10193446012],[51.51387788763, -0.10191056102],[51.51387788763, -0.10191056102],[51.51382853244, -0.10148984722],[51.5138275999, -0.10143223682],[51.5137934122, -0.10098687758],[51.51376178845, -0.10069994733],[51.51370437081, -0.1004861518],[51.51363773301, -0.10025832817],[51.51349873619, -0.10000469164],[51.51328633106, -0.09910556591],[51.51326356947, -0.09825619843],[51.51321490036, -0.09802763172],[51.51313362803, -0.09765709072],[51.51313362803, -0.09765709072],[51.51302068685, -0.09714217448],[51.51289404716, -0.09654214755],[51.51288365823, -0.09645610859],[51.51273623613, -0.09568400843],[51.51264670451, -0.09515450079],[51.51260659161, -0.0949056658],[51.51260659161, -0.0949056658],[51.5125867035, -0.09478229401],[51.51254584423, -0.09448134888],[51.51248724529, -0.09419555655],[51.51239840925, -0.09370926112],[51.51253189123, -0.09306956519],[51.51264903641, -0.09253143148],[51.51269850447, -0.09225553796],[51.51286759094, -0.09169781041],[51.51286759094, -0.09169781041],[51.51293747234, -0.09146730455],[51.51305367234, -0.09087155305],[51.51306172104, -0.09081356826],[51.5131121229, -0.09059527961],[51.51332294725, -0.0897361467],[51.51339061614, -0.08947389659],[51.51336607358, -0.08907138273],[51.51337341738, -0.08897019019],[51.51333049651, -0.08799195965],[51.51333072342, -0.0875863688],[51.51333072342, -0.0875863688],[51.51333079455, -0.08745869721],[51.51333156, -0.08695423947],[51.5133597525, -0.08647745664],[51.51335881259, -0.08641984734],[51.51336356905, -0.08616022887],[51.51337067531, -0.08604463361],[51.51336832494, -0.08590061036],[51.5133818316, -0.08562621274],[51.51339181071, -0.08513578008],[51.51339810469, -0.08496946503],[51.51339810469, -0.08496946503],[51.51340437487, -0.08480377284],[51.5134084221, -0.08450094706],[51.51339308417, -0.08411246143],[51.51341679362, -0.08336203244],[51.51347075361, -0.08281210335],[51.51347221925, -0.08275002847],[51.51347221925, -0.08275002847],[51.51349731707, -0.08168683455],[51.51352949342, -0.081454887],[51.51344016363, -0.08039213691],[51.51336759281, -0.0798042881],[51.51333568158, -0.07950297431],[51.51332362924, -0.07931612295],[51.51330642942, -0.07887166645],[51.51330642942, -0.07887166645],[51.51326125701, -0.07770458499],[51.5133125786, -0.07754389051],[51.51344218025, -0.07722136524],[51.51364201888, -0.076794994],[51.51372929477, -0.0760851149],[51.51378108665, -0.07595322173],[51.51382389201, -0.07582170696],[51.51390122485, -0.07560226264],[51.51405588926, -0.07516337178],[51.51417626146, -0.07482681102],[51.51423469167, -0.07467800541]]",
            "stopPoints": [
             {
              "$type": "Tfl.Api.Presentation.Entities.Identifier, Tfl.Api.Presentation.Entities",
              "id": "490G000803",
              "name": "Charing Cross Stn  / Trafalgar Square",
              "routeType": "Unknown",
              "status": "Unknown",
              "type": "StopPoint",
              "uri": "/StopPoint/490G000803"
             },
             {
              "$type": "Tfl.Api.Presentation.Entities.Identifier, Tfl.Api.Presentation.Entities",
              "id": "490G00012247",
              "name": "Southampton Street / Covent Garden",
              "routeType": "Unknown",
              "status": "Unknown",
              "type": "StopPoint",
              "uri": "/StopPoint/490G00012247"
             },
             {
              "$type": "Tfl.Api.Presentation.Entities.Identifier, Tfl.Api.Presentation.Entities",
              "id": "490G000385",
              "name": "Aldwych",
              "routeType": "Unknown",
              "status": "Unknown",
              "type": "StopPoint",
              "uri": "/StopPoint/490G000385"
             },
             {
              "$type": "Tfl.Api.Presentation.Entities.Identifier, Tfl.Api.Presentation.Entities",
              "id": "490G000731",
              "name": "The Royal Courts Of Justice",
              "routeType": "Unknown",
              "status": "Unknown",
              "type": "StopPoint",
              "uri": "/StopPoint/490G000731"
             },
             {
              "$type": "Tfl.Api.Presentation.Entities.Identifier, Tfl.Api.Presentation.Entities",
              "id": "490G00006826",
              "name": "Fetter Lane",
              "routeType": "Unknown",
              "status": "Unknown",
              "type": "StopPoint",
              "uri": "/StopPoint/490G00006826"
             },
             {
              "$type": "Tfl.Api.Presentation.Entities.Identifier, Tfl.Api.Presentation.Entities",
              "id": "490G00019205",
              "name": "Ludgate Circus",
              "routeType": "Unknown",
              "status": "Unknown",
              "type": "StopPoint",
              "uri": "/StopPoint/490G00019205"
             },
             {
              "$type": "Tfl.Api.Presentation.Entities.Identifier, Tfl.Api.Presentation.Entities",
              "id": "490G00009443",
              "name": "Ludgate Hill / Old Bailey",
              "routeType": "Unknown",
              "status": "Unknown",
              "type": "StopPoint",
              "uri": "/StopPoint/490G00009443"
             },
             {
              "$type": "Tfl.Api.Presentation.Entities.Identifier, Tfl.Api.Presentation.Entities",
              "id": "490G00012873",
              "name": "St Paul's Cathedral",
              "routeType": "Unknown",
              "status": "Unknown",
              "type": "StopPoint",
              "uri": "/StopPoint/490G00012873"
             },
             {
              "$type": "Tfl.Api.Presentation.Entities.Identifier, Tfl.Api.Presentation.Entities",
              "id": "490G00143E",
              "name": "Mansion House Station",
              "routeType": "Unknown",
              "status": "Unknown",
              "type": "StopPoint",
              "uri": "/StopPoint/490G00143E"
             },
             {
              "$type": "Tfl.Api.Presentation.Entities.Identifier, Tfl.Api.Presentation.Entities",
              "id": "490G000780",
              "name": "Bank Station  / Queen Victoria Street",
              "routeType": "Unknown",
              "status": "Unknown",
              "type": "StopPoint",
              "uri": "/StopPoint/490G000780"
             },
             {
              "$type": "Tfl.Api.Presentation.Entities.Identifier, Tfl.Api.Presentation.Entities",
              "id": "490G000556",
              "name": "Bank Station  / Cornhill",
              "routeType": "Unknown",
              "status": "Unknown",
              "type": "StopPoint",
              "uri": "/StopPoint/490G000556"
             },
             {
              "$type": "Tfl.Api.Presentation.Entities.Identifier, Tfl.Api.Presentation.Entities",
              "id": "490G00015079",
              "name": "Bishopsgate",
              "routeType": "Unknown",
              "status": "Unknown",
              "type": "StopPoint",
              "uri": "/StopPoint/490G00015079"
             },
             {
              "$type": "Tfl.Api.Presentation.Entities.Identifier, Tfl.Api.Presentation.Entities",
              "id": "490G00012783",
              "name": "St Mary Axe",
              "routeType": "Unknown",
              "status": "Unknown",
              "type": "StopPoint",
              "uri": "/StopPoint/490G00012783"
             },
             {
              "$type": "Tfl.Api.Presentation.Entities.Identifier, Tfl.Api.Presentation.Entities",
              "id": "490G000767",
              "name": "St Katharine Cree",
              "routeType": "Unknown",
              "status": "Unknown",
              "type": "StopPoint",
              "uri": "/StopPoint/490G000767"
             },
             {
              "$type": "Tfl.Api.Presentation.Entities.Identifier, Tfl.Api.Presentation.Entities",
              "id": "490G00003N",
              "name": "Aldgate Station",
              "routeType": "Unknown",
              "status": "Unknown",
              "type": "StopPoint",
              "uri": "/StopPoint/490G00003N"
             }
            ]
           },
           "plannedWorks": [],
           "routeOptions": [
            {
             "$type": "Tfl.Api.Presentation.Entities.JourneyPlanner.RouteOption, Tfl.Api.Presentation.Entities",
             "directions": [
              "Canning Town"
             ],
             "lineIdentifier": {
              "$type": "Tfl.Api.Presentation.Entities.Identifier, Tfl.Api.Presentation.Entities",
              "crowding": {
               "$type": "Tfl.Api.Presentation.Entities.Crowding, Tfl.Api.Presentation.Entities"
              },
              "id": "n550",
              "name": "N550",
              "routeType": "Unknown",
              "status": "Unknown",
              "type": "Line",
              "uri": "/Line/n550"
             },
             "name": "N550"
            }
           ]
          },
          {
           "$type": "Tfl.Api.Presentation.Entities.JourneyPlanner.Leg, Tfl.Api.Presentation.Entities",
           "arrivalPoint": {
            "$type": "Tfl.Api.Presentation.Entities.StopPoint, Tfl.Api.Presentation.Entities",
            "additionalProperties": [],
            "commonName": "Tower Bridge / City Hall",
            "icsCode": "1013744",
            "lat": 51.503273636239996,
            "lon": -0.07679929902999999,
            "naptanId": "490G00013744",
            "placeType": "StopPoint",
            "platformName": "P",
            "stopLetter": "P"
           },
           "arrivalTime": "2021-06-25T04:40:00",
           "departurePoint": {
            "$type": "Tfl.Api.Presentation.Entities.StopPoint, Tfl.Api.Presentation.Entities",
            "additionalProperties": [],
            "commonName": "Aldgate Station",
            "icsCode": "1000003",
            "lat": 51.51407906627,
            "lon": -0.07493179600000001,
            "naptanId": "490G00003N",
            "placeType": "StopPoint",
            "platformName": "R",
            "stopLetter": "R"
           },
           "departureTime": "2021-06-25T04:35:00",
           "disruptions": [],
           "duration": 5,
           "hasFixedLocations": true,
           "instruction": {
            "$type": "Tfl.Api.Presentation.Entities.Instruction, Tfl.Api.Presentation.Entities",
            "detailed": "343 bus towards New Cross Gate",
            "steps": [],
            "summary": "343 bus to Tower Bridge / City Hall"
           },
           "isDisrupted": false,
           "mode": {
            "$type": "Tfl.Api.Presentation.Entities.Identifier, Tfl.Api.Presentation.Entities",
            "id": "bus",
            "name": "bus",
            "routeType": "Unknown",
            "status": "Unknown",
            "type": "Mode"
           },
           "obstacles": [],
           "path": {
            "$type": "Tfl.Api.Presentation.Entities.JourneyPlanner.Path, Tfl.Api.Presentation.Entities",
            "elevation": [],
            "lineString": "[[51.51412396194, -0.07497304109],[51.51405588926, -0.07516337178],[51.51390122485, -0.07560226264],[51.51382389201, -0.07582170696],[51.51378108665, -0.07595322173],[51.51357392762, -0.07593312636],[51.51296711518, -0.07567045429],[51.51274464258, -0.07562062377],[51.51274464258, -0.07562062377],[51.5126963426, -0.07560980536],[51.51257881087, -0.07557152271],[51.51209165641, -0.07547675883],[51.51195638823, -0.07545363626],[51.51161254289, -0.07532401136],[51.51138693829, -0.07527587384],[51.51114738359, -0.07492568336],[51.51117694599, -0.07453532647],[51.51118948028, -0.07420333323],[51.5111970464, -0.07356890756],[51.51115116421, -0.07296556013],[51.51108565671, -0.07280979821],[51.51070728314, -0.07276812091],[51.51044644213, -0.07276471778],[51.51009928704, -0.07298112481],[51.50987009331, -0.0731965713],[51.50987009331, -0.0731965713],[51.50958564902, -0.07346395079],[51.5093096738, -0.07363411306],[51.50915761522, -0.07368375973],[51.50906822463, -0.07371635194],[51.50889890283, -0.07380995856],[51.50857823169, -0.0739964117],[51.50844390916, -0.07403089771],[51.50782550511, -0.07415784955],[51.50715365551, -0.07431587169],[51.50694815118, -0.07439658728],[51.50688571945, -0.07442803979],[51.50651207448, -0.07467435327],[51.50548951361, -0.07538030437],[51.50495576545, -0.07573421435],[51.50430637416, -0.07616503347],[51.50427090104, -0.0761953462],[51.50419096839, -0.07625634998],[51.50346140588, -0.07673375702],[51.50328875357, -0.0768547043]]",
            "stopPoints": [
             {
              "$type": "Tfl.Api.Presentation.Entities.Identifier, Tfl.Api.Presentation.Entities",
              "id": "490G000477",
              "name": "Minories",
              "routeType": "Unknown",
              "status": "Unknown",
              "type": "StopPoint",
              "uri": "/StopPoint/490G000477"
             },
             {
              "$type": "Tfl.Api.Presentation.Entities.Identifier, Tfl.Api.Presentation.Entities",
              "id": "490G000857",
              "name": "Tower Hill / Tower Gateway Station",
              "routeType": "Unknown",
              "status": "Unknown",
              "type": "StopPoint",
              "uri": "/StopPoint/490G000857"
             },
             {
              "$type": "Tfl.Api.Presentation.Entities.Identifier, Tfl.Api.Presentation.Entities",
              "id": "490G00013744",
              "name": "Tower Bridge / City Hall",
              "routeType": "Unknown",
              "status": "Unknown",
              "type": "StopPoint",
              "uri": "/StopPoint/490G00013744"
             }
            ]
           },
           "plannedWorks": [],
           "routeOptions": [
            {
             "$type": "Tfl.Api.Presentation.Entities.JourneyPlanner.RouteOption, Tfl.Api.Presentation.Entities",
             "directions": [
              "New Cross Gate"
             ],
             "lineIdentifier": {
              "$type": "Tfl.Api.Presentation.Entities.Identifier, Tfl.Api.Presentation.Entities",
              "crowding": {
               "$type": "Tfl.Api.Presentation.Entities.Crowding, Tfl.Api.Presentation.Entities"
              },
              "id": "343",
              "name": "343",
              "routeType": "Unknown",
              "status": "Unknown",
              "type": "Line",
              "uri": "/Line/343"
             },
             "name": "343"
            }
           ]
          }
         ],
         "startDateTime": "2021-06-25T01:40:00"
        },
        {
         "$type": "Tfl.Api.Presentation.Entities.JourneyPlanner.Journey, Tfl.Api.Presentation.Entities",
         "arrivalDateTime": "2021-06-25T06:13:00",
         "duration": 113,
         "legs": [
          {
           "$type": "Tfl.Api.Presentation.Entities.JourneyPlanner.Leg, Tfl.Api.Presentation.Entities",
           "arrivalPoint": {
            "$type": "Tfl.Api.Presentation.Entities.StopPoint, Tfl.Api.Presentation.Entities",
            "additionalProperties": [],
            "commonName": "Henlys Roundabout",
            "icsCode": "1015462",
            "lat": 51.47456954805,
            "lon": -0.39873058834,
            "naptanId": "490G00015462",
            "placeType": "StopPoint",
            "platformName": "CW",
            "stopLetter": "CW"
           },
           "arrivalTime": "2021-06-25T04:30:00",
           "departurePoint": {
            "$type": "Tfl.Api.Presentation.Entities.StopPoint, Tfl.Api.Presentation.Entities",
            "additionalProperties": [],
            "commonName": "Heathrow Terminal 4",
            "icsCode": "1000104",
            "lat": 51.459036988810006,
            "lon": -0.44664640231999997,
            "naptanId": "490G00104A",
            "placeType": "StopPoint",
            "platformName": ""
           },
           "departureTime": "2021-06-25T04:20:00",
           "disruptions": [
            {
             "$type": "Tfl.Api.Presentation.Entities.Disruption, Tfl.Api.Presentation.Entities",
             "additionalInfo": "",
             "category": "PlannedWork",
             "categoryDescription": "PlannedWork",
             "created": "2020-04-27T13:47:00",
             "description": "Temporary closure of Heathrow Terminal 4 stations: Due to a significant drop in demand, all flights to/from Heathrow Airport are operating from Terminals 2 & 5 only. The Piccadilly line and TfL Rail stations at Terminal 4 are closed until further notice.  All Piccadilly line and TfL Rail services to the airport are operating to/from Heathrow T1,2,3 & 5 stations. To check flight departure and arrivals information, visit Heathrow.com or contact your airline.",
             "lastUpdate": "2021-04-13T15:25:00",
             "summary": "",
             "type": "stopBlocking"
            },
            {
             "$type": "Tfl.Api.Presentation.Entities.Disruption, Tfl.Api.Presentation.Entities",
             "additionalInfo": "",
             "category": "PlannedWork",
             "categoryDescription": "PlannedWork",
             "created": "2020-04-27T13:48:00",
             "description": "Temporary closure of Heathrow Terminal 4 stations: Due to a significant drop in demand, all flights to/from Heathrow Airport are operating from Terminals 2 & 5 only. The Piccadilly line and TfL Rail stations at Terminal 4 are closed until further notice.  All Piccadilly line and TfL Rail services to the airport are operating to/from Heathrow T1,2,3 & 5 stations. To check flight departure and arrivals information, visit Heathrow.com or contact your airline.",
             "lastUpdate": "2021-04-13T15:25:00",
             "summary": "",
             "type": "stopBlocking"
            },
            {
             "$type": "Tfl.Api.Presentation.Entities.Disruption, Tfl.Api.Presentation.Entities",
             "additionalInfo": "",
             "category": "PlannedWork",
             "categoryDescription": "PlannedWork",
             "created": "2020-11-23T13:18:00",
             "description": ".",
             "lastUpdate": "2021-04-13T15:24:00",
             "summary": "heathrow terminal 4 interim block",
             "type": "stopBlocking"
            }
           ],
           "duration": 10,
           "hasFixedLocations": true,
           "instruction": {
            "$type": "Tfl.Api.Presentation.Entities.Instruction, Tfl.Api.Presentation.Entities",
            "detailed": "482 bus towards Southall, Town Hall",
            "steps": [],
            "summary": "482 bus to Henlys Roundabout"
           },
           "isDisrupted": true,
           "mode": {
            "$type": "Tfl.Api.Presentation.Entities.Identifier, Tfl.Api.Presentation.Entities",
            "id": "bus",
            "name": "bus",
            "routeType": "Unknown",
            "status": "Unknown",
            "type": "Mode"
           },
           "obstacles": [],
           "path": {
            "$type": "Tfl.Api.Presentation.Entities.JourneyPlanner.Path, Tfl.Api.Presentation.Entities",
            "elevation": [],
            "lineString": "[[51.45900762536, -0.44659467453],[51.45967978145, -0.44561695662],[51.45983124588, -0.44551104854],[51.45985649368, -0.44538063857],[51.45979970268, -0.44516664796],[51.45931244941, -0.44436271691],[51.4590037958, -0.44414289934],[51.4587798542, -0.44420809108],[51.45845799672, -0.44434858238],[51.45834000459, -0.44426622837],[51.45814667005, -0.44392734159],[51.45816407363, -0.44388356729],[51.45799560164, -0.44338550253],[51.45843756124, -0.44280909252],[51.45884413851, -0.4422770589],[51.45895085002, -0.44218705973],[51.45906960813, -0.44232696117],[51.45930846637, -0.44203093956],[51.45962611413, -0.44157389077],[51.45990611569, -0.44097666546],[51.45990611569, -0.44097666546],[51.45997588663, -0.44082784636],[51.46006136756, -0.440493854],[51.4600957679, -0.43902441437],[51.46018563317, -0.43834479273],[51.46162244602, -0.43482649448],[51.46227027656, -0.4335087405],[51.46501350296, -0.42683568312],[51.46572068008, -0.42525653524],[51.46645412832, -0.42429549523],[51.46677441274, -0.42403971564],[51.46679634794, -0.42366464029],[51.46718950317, -0.42347832797],[51.46728411546, -0.42315833186],[51.46719268623, -0.4230463072],[51.46696112414, -0.42321265639],[51.46680398184, -0.42356359884],[51.46680398184, -0.42356359884],[51.46679634794, -0.42366464029],[51.46677441274, -0.42403971564],[51.46758594729, -0.42353665071],[51.46762411532, -0.42303143433],[51.46764991841, -0.42294416171],[51.46742076388, -0.42262092847],[51.46700343915, -0.42234737921],[51.46686087167, -0.42177641875],[51.46717146242, -0.42080110199],[51.46740406076, -0.42004442259],[51.46952126552, -0.41301716446],[51.46970423386, -0.41240721088],[51.46970423386, -0.41240721088],[51.46982240443, -0.41201326249],[51.47006373825, -0.41124179211],[51.47021830748, -0.41070369686],[51.47097137993, -0.40854658885],[51.47107572036, -0.40828378925],[51.4713197653, -0.4077137602],[51.47190162975, -0.40619605446],[51.47208333519, -0.40567137273],[51.47210052852, -0.40561317895],[51.4721698887, -0.40542357881],[51.4723431899, -0.40494238003],[51.47271468006, -0.4038144675],[51.47271468006, -0.4038144675],[51.47307719819, -0.40271374589],[51.47322450452, -0.40230543006],[51.47333624966, -0.40192715222],[51.47381920787, -0.40048638923],[51.47381920787, -0.40048638923],[51.47434720655, -0.39891116534],[51.47444648526, -0.39862218196]]",
            "stopPoints": [
             {
              "$type": "Tfl.Api.Presentation.Entities.Identifier, Tfl.Api.Presentation.Entities",
              "id": "490G000002",
              "name": "Starlight Way",
              "routeType": "Unknown",
              "status": "Unknown",
              "type": "StopPoint",
              "uri": "/StopPoint/490G000002"
             },
             {
              "$type": "Tfl.Api.Presentation.Entities.Identifier, Tfl.Api.Presentation.Entities",
              "id": "490G00103G",
              "name": "Hatton Cross Station",
              "routeType": "Unknown",
              "status": "Unknown",
              "type": "StopPoint",
              "uri": "/StopPoint/490G00103G"
             },
             {
              "$type": "Tfl.Api.Presentation.Entities.Identifier, Tfl.Api.Presentation.Entities",
              "id": "490G00007196",
              "name": "Girling Way",
              "routeType": "Unknown",
              "status": "Unknown",
              "type": "StopPoint",
              "uri": "/StopPoint/490G00007196"
             },
             {
              "$type": "Tfl.Api.Presentation.Entities.Identifier, Tfl.Api.Presentation.Entities",
              "id": "490G00013285",
              "name": "The Parkway",
              "routeType": "Unknown",
              "status": "Unknown",
              "type": "StopPoint",
              "uri": "/StopPoint/490G00013285"
             },
             {
              "$type": "Tfl.Api.Presentation.Entities.Identifier, Tfl.Api.Presentation.Entities",
              "id": "490G00007370",
              "name": "Grantley Road",
              "routeType": "Unknown",
              "status": "Unknown",
              "type": "StopPoint",
              "uri": "/StopPoint/490G00007370"
             },
             {
              "$type": "Tfl.Api.Presentation.Entities.Identifier, Tfl.Api.Presentation.Entities",
              "id": "490G00015462",
              "name": "Henlys Roundabout",
              "routeType": "Unknown",
              "status": "Unknown",
              "type": "StopPoint",
              "uri": "/StopPoint/490G00015462"
             }
            ]
           },
           "plannedWorks": [],
           "routeOptions": [
            {
             "$type": "Tfl.Api.Presentation.Entities.JourneyPlanner.RouteOption, Tfl.Api.Presentation.Entities",
             "directions": [
              "Southall, Town Hall"
             ],
             "lineIdentifier": {
              "$type": "Tfl.Api.Presentation.Entities.Identifier, Tfl.Api.Presentation.Entities",
              "crowding": {
               "$type": "Tfl.Api.Presentation.Entities.Crowding, Tfl.Api.Presentation.Entities"
              },
              "id": "482",
              "name": "482",
              "routeType": "Unknown",
              "status": "Unknown",
              "type": "Line",
              "uri": "/Line/482"
             },
             "name": "482"
            }
           ]
          },
          {
           "$type": "Tfl.Api.Presentation.Entities.JourneyPlanner.Leg, Tfl.Api.Presentation.Entities",
           "arrivalPoint": {
            "$type": "Tfl.Api.Presentation.Entities.StopPoint, Tfl.Api.Presentation.Entities",
            "additionalProperties": [],
            "commonName": "Northumberland Avenue / Trafalgar Square",
            "icsCode": "1013767",
            "lat": 51.50764280917,
            "lon": -0.12954448446,
            "naptanId": "490G000804",
            "placeType": "StopPoint",
            "platformName": "",
            "stopLetter": "B"
           },
           "arrivalTime": "2021-06-25T05:34:00",
           "departurePoint": {
            "$type": "Tfl.Api.Presentation.Entities.StopPoint, Tfl.Api.Presentation.Entities",
            "additionalProperties": [],
            "commonName": "Henlys Roundabout",
            "icsCode": "1015462",
            "lat": 51.475912124509996,
            "lon": -0.39695559856999996,
            "naptanId": "490G00015462",
            "placeType": "StopPoint",
            "platformName": "CH",
            "stopLetter": "CH"
           },
           "departureTime": "2021-06-25T04:38:00",
           "disruptions": [],
           "duration": 56,
           "hasFixedLocations": true,
           "instruction": {
            "$type": "Tfl.Api.Presentation.Entities.Instruction, Tfl.Api.Presentation.Entities",
            "detailed": "N9 bus towards Aldwych",
            "steps": [],
            "summary": "N9 bus to Trafalgar Square"
           },
           "isDisrupted": false,
           "mode": {
            "$type": "Tfl.Api.Presentation.Entities.Identifier, Tfl.Api.Presentation.Entities",
            "id": "bus",
            "name": "bus",
            "routeType": "Unknown",
            "status": "Unknown",
            "type": "Mode"
           },
           "obstacles": [],
           "path": {
            "$type": "Tfl.Api.Presentation.Entities.JourneyPlanner.Path, Tfl.Api.Presentation.Entities",
            "elevation": [],
            "lineString": "[[51.47587210777, -0.39698325082],[51.4757536223, -0.39654356138],[51.47570061199, -0.39595503005],[51.47575001122, -0.3956221025],[51.47572166884, -0.3955222985],[51.47569450799, -0.39550885171],[51.47551238525, -0.39534244527],[51.47535092223, -0.39471452635],[51.47526589255, -0.39441511906],[51.47509721084, -0.3939170564],[51.47497228372, -0.39333106303],[51.47485752523, -0.39283111243],[51.47467649426, -0.39208870357],[51.47440862073, -0.39108603012],[51.47440862073, -0.39108603012],[51.47430681304, -0.3907049667],[51.47408882888, -0.38989187964],[51.47392812772, -0.38932156904],[51.47352226457, -0.38792475294],[51.47348433416, -0.38778209924],[51.47316587878, -0.38685739222],[51.47295923305, -0.38621673013],[51.47303735141, -0.38601238855],[51.47292604584, -0.38566947249],[51.47292604584, -0.38566947249],[51.47274624244, -0.38511553473],[51.4726301921, -0.38517722767],[51.47252716247, -0.38487849118],[51.47228316618, -0.38413837542],[51.47221767242, -0.38395350652],[51.47214259535, -0.38372578083],[51.47193692493, -0.3831571054],[51.4715064086, -0.38193405731],[51.47136602876, -0.38153586801],[51.47121646098, -0.38112360797],[51.47116973318, -0.38099567673],[51.47114506465, -0.38092250924],[51.47114506465, -0.38092250924],[51.47096345338, -0.38038385211],[51.47051433592, -0.37911832032],[51.47037394664, -0.37872014846],[51.47007339654, -0.37779493103],[51.46986710026, -0.37718313579],[51.4697046736, -0.37659103413],[51.4697046736, -0.37659103413],[51.46932728898, -0.375215394],[51.46918309671, -0.37454382229],[51.4691541381, -0.37440087408],[51.46896595997, -0.37312604754],[51.46896595997, -0.37312604754],[51.46879683322, -0.37198037478],[51.46873391321, -0.37133472215],[51.46867398882, -0.37090492831],[51.46846562336, -0.36885350391],[51.46791796402, -0.3689162253],[51.46733853655, -0.36863454575],[51.46742240824, -0.36819963875],[51.46751566678, -0.36779318963],[51.46764387352, -0.36731350516],[51.46771136785, -0.36699435577],[51.46761808208, -0.36675293267],[51.4673640167, -0.36658923788],[51.46709257679, -0.36646935663],[51.46706349489, -0.36644735983],[51.46706349489, -0.36644735983],[51.46678358141, -0.36623564201],[51.46671846082, -0.36607960107],[51.46683105275, -0.3651253766],[51.46688955331, -0.3648065511],[51.46708282464, -0.36383503696],[51.46720880565, -0.3631970569],[51.46730922624, -0.36266076841],[51.46750968673, -0.36211328399],[51.46750968673, -0.36211328399],[51.46762971668, -0.36178546044],[51.46772677337, -0.36165240875],[51.4681503465, -0.36107573758],[51.4687927059, -0.35942578824],[51.468870576, -0.35920703031],[51.46926951262, -0.35815607859],[51.46938721893, -0.3579267322],[51.46938721893, -0.3579267322],[51.46964591155, -0.35742267192],[51.46992908616, -0.35709574649],[51.47002593569, -0.35694828738],[51.47052998694, -0.35505841518],[51.47059865903, -0.35482557394],[51.47078669688, -0.35412769296],[51.47094062382, -0.35356465205],[51.47094062382, -0.35356465205],[51.47106894789, -0.35309525195],[51.4710657137, -0.35286499454],[51.47116729962, -0.35241498571],[51.4713528953, -0.35154439239],[51.47148880822, -0.35097795212],[51.47176204336, -0.34994580061],[51.47194828574, -0.34933718931],[51.47194828574, -0.34933718931],[51.47237241418, -0.34795114569],[51.47243289532, -0.34777617529],[51.47287686931, -0.34673781069],[51.47289963995, -0.34668491049],[51.47289963995, -0.34668491049],[51.47328610106, -0.34578707689],[51.47339989627, -0.34556697407],[51.47360133458, -0.34518530817],[51.4738035842, -0.34486120646],[51.47397961837, -0.34457845069],[51.47397961837, -0.34457845069],[51.47465649554, -0.34349118249],[51.47470838879, -0.34334530746],[51.47486060964, -0.34266301285],[51.47490721203, -0.34214293854],[51.47490721203, -0.34214293854],[51.47498836783, -0.34088722939],[51.47500206663, -0.34058434024],[51.47505173848, -0.339646561],[51.47511917435, -0.33869373461],[51.47516903505, -0.33777034352],[51.47519408895, -0.33730630818],[51.47519408895, -0.33730630818],[51.47521888846, -0.33684695059],[51.47523441421, -0.33667358946],[51.47524626434, -0.33624116713],[51.47526587502, -0.33572206383],[51.47534555457, -0.33493649595],[51.47534555457, -0.33493649595],[51.4754315233, -0.33408886107],[51.47549055198, -0.33381311463],[51.4755412059, -0.33358087207],[51.4759237133, -0.33231020098],[51.4759237133, -0.33231020098],[51.47596195965, -0.33218314475],[51.47608266915, -0.33181874265],[51.47680567179, -0.32954593374],[51.47701990483, -0.3288036932],[51.47713389394, -0.32839851153],[51.47713389394, -0.32839851153],[51.47720819612, -0.32813439585],[51.47743957422, -0.32733391317],[51.47760274241, -0.32679512707],[51.47768810047, -0.32647519271],[51.47783370029, -0.32596584483],[51.47785922492, -0.3258641065],[51.4779703102, -0.3254568229],[51.47803561824, -0.32522689602],[51.47803561824, -0.32522689602],[51.47809017611, -0.32503481502],[51.47822760451, -0.32458336006],[51.47827926824, -0.32442305948],[51.47839974751, -0.32404422566],[51.47857168221, -0.323490694],[51.47889818611, -0.32242745785],[51.47916561322, -0.32160099233],[51.47916561322, -0.32160099233],[51.47949237417, -0.32059112176],[51.47963753562, -0.32005294841],[51.47967183645, -0.31993647906],[51.47974002528, -0.31967475268],[51.47993986637, -0.31905984828],[51.47993986637, -0.31905984828],[51.4804031796, -0.3176341896],[51.48080173702, -0.31658261642],[51.48101031638, -0.31607021305],[51.48101031638, -0.31607021305],[51.48112311779, -0.31579309689],[51.48141877124, -0.31509092446],[51.48149697089, -0.31490082022],[51.48162744087, -0.31459357447],[51.4818269138, -0.3140821572],[51.48203269489, -0.31355831884],[51.48203269489, -0.31355831884],[51.48221727937, -0.31308842961],[51.48237160052, -0.31256426357],[51.48238729718, -0.31240526221],[51.48240009309, -0.31204473976],[51.48242692525, -0.31141006047],[51.48247276584, -0.31084668819],[51.48270111974, -0.30984450588],[51.4828305387, -0.30946526548],[51.48300157313, -0.30885404847],[51.48308605098, -0.30847646555],[51.48332154573, -0.30729081354],[51.48332154573, -0.30729081354],[51.48336269968, -0.30708360706],[51.48346935342, -0.30637394233],[51.48360904117, -0.30546141634],[51.48393181515, -0.30424783529],[51.48393181515, -0.30424783529],[51.48398430855, -0.30405046198],[51.48407085293, -0.30381681058],[51.48418394299, -0.30355336803],[51.4845405596, -0.30271918035],[51.48492434118, -0.30189837321],[51.4850786116, -0.30137413931],[51.48516410782, -0.3010685016],[51.48522284922, -0.30077826018],[51.48568835207, -0.2993926655],[51.48602089972, -0.29876095743],[51.48611869517, -0.2984666894],[51.48611869517, -0.2984666894],[51.48617599145, -0.29829428237],[51.48632167588, -0.29779914788],[51.4863697496, -0.29739406584],[51.48638667959, -0.29732141881],[51.48660906563, -0.2965353538],[51.48672945331, -0.29615637905],[51.4869080458, -0.29556748428],[51.4869080458, -0.29556748428],[51.48717566958, -0.29468498874],[51.4872699262, -0.29436459369],[51.48751674078, -0.29340474295],[51.48765278808, -0.2928667268],[51.48771297605, -0.29267723062],[51.48805968744, -0.29178564676],[51.48842379284, -0.29041875942],[51.48842379284, -0.29041875942],[51.48848598405, -0.29018527932],[51.48851962502, -0.2900255772],[51.48861949673, -0.28947448871],[51.48864435925, -0.28932951814],[51.488784333, -0.28844563189],[51.48888755979, -0.2881248764],[51.48905911196, -0.28755668944],[51.48929546606, -0.28711570741],[51.48933715561, -0.2870490605],[51.48933715561, -0.2870490605],[51.48947999688, -0.28682070622],[51.48957612474, -0.28662984701],[51.48961123323, -0.28657091359],[51.48968959612, -0.2863951237],[51.48980411895, -0.2862323817],[51.49009186725, -0.28561660416],[51.49016187266, -0.28548433776],[51.49026656473, -0.28526434245],[51.49071108466, -0.28429164022],[51.49071108466, -0.28429164022],[51.49116404786, -0.28330042435],[51.49135270775, -0.2826739281],[51.49153266728, -0.28268157073],[51.49162190915, -0.28263500243],[51.49170195273, -0.28257437461],[51.49178157459, -0.28248495241],[51.49184237806, -0.28233861702],[51.49188913219, -0.2818470882],[51.49187866823, -0.28174664629],[51.49180065085, -0.28133183399],[51.49185955372, -0.28105592311],[51.49195145067, -0.28057709936],[51.49200655137, -0.28004203808],[51.49210923691, -0.27907303044],[51.49213990434, -0.27871174734],[51.49217078201, -0.27836486095],[51.49221209707, -0.27794497883],[51.49221209707, -0.27794497883],[51.49223337999, -0.27772867563],[51.49233932118, -0.2763705946],[51.49239877902, -0.275766214],[51.49239877902, -0.275766214],[51.49243320055, -0.27541630875],[51.49250307544, -0.27466459877],[51.49257811835, -0.27365339623],[51.49262292789, -0.27303227592],[51.49281741517, -0.27158439074],[51.49285039388, -0.27138146829],[51.49288927685, -0.27081196001],[51.49288927685, -0.27081196001],[51.49293913599, -0.27008162581],[51.49294302589, -0.26973574897],[51.49291995266, -0.26939089314],[51.49289730342, -0.26907483236],[51.49268332138, -0.26676368051],[51.49262970516, -0.26557007351],[51.49257967723, -0.2648892199],[51.49257967723, -0.2648892199],[51.49256215017, -0.26465069901],[51.49253373446, -0.26394591932],[51.49245976884, -0.26259463485],[51.49245784915, -0.2624650605],[51.49244867533, -0.26184598325],[51.49244376706, -0.26151484904],[51.49244376706, -0.26151484904],[51.49243949823, -0.26122690633],[51.49244378904, -0.26090982741],[51.49245772438, -0.26003057609],[51.49247206748, -0.25978514044],[51.49250075213, -0.2592942687],[51.49252558682, -0.25854424784],[51.49254014061, -0.25831320857],[51.49255335695, -0.258081421],[51.49255335695, -0.258081421],[51.49260434335, -0.25718714724],[51.49261140499, -0.25705723009],[51.49265933384, -0.25604702882],[51.49270404994, -0.2554258924],[51.49274383456, -0.25447361971],[51.49278105551, -0.25395360451],[51.49280651648, -0.25337688302],[51.49280651648, -0.25337688302],[51.49284156966, -0.25258277979],[51.49285182034, -0.2520637934],[51.49286099545, -0.25147282087],[51.49294632862, -0.25056201359],[51.4929781968, -0.25028709017],[51.49304236096, -0.24976603672],[51.49310624109, -0.24927125674],[51.49310624109, -0.24927125674],[51.49317132725, -0.24876711738],[51.49321217847, -0.248491847],[51.49326842274, -0.24804311957],[51.49332999501, -0.24734929217],[51.49333683054, -0.24720497438],[51.49335582219, -0.24674964397],[51.49335582219, -0.24674964397],[51.4933765482, -0.24625268296],[51.49340259157, -0.24558902656],[51.49343078572, -0.2450693427],[51.49344229608, -0.24463673267],[51.49349098008, -0.24368409191],[51.49353217917, -0.24283257626],[51.49353771467, -0.24260187327],[51.49355928213, -0.24224090282],[51.49355604504, -0.24202494273],[51.49356257862, -0.24126119228],[51.49355890785, -0.24101643763],[51.49353169517, -0.24026828273],[51.49353169517, -0.24026828273],[51.49349768155, -0.23933333615],[51.49348350624, -0.23898814736],[51.49346142383, -0.23871529162],[51.49339733599, -0.23804069864],[51.49332793545, -0.23761120722],[51.49322386253, -0.23714848127],[51.49322386253, -0.23714848127],[51.49316411615, -0.23688284326],[51.49309730929, -0.2366261217],[51.49304804327, -0.23633991294],[51.49294842621, -0.23569551183],[51.4929243376, -0.2352406338],[51.4929243376, -0.2352406338],[51.49292330323, -0.23522110183],[51.49290186215, -0.2349914427],[51.49282919933, -0.23434600505],[51.49322333561, -0.23424434337],[51.49371611418, -0.23412446236],[51.4938862206, -0.23407467163],[51.49406574779, -0.23405332807],[51.49444147566, -0.23392356043],[51.49446419537, -0.23304391988],[51.49447635226, -0.23261636543],[51.49447635226, -0.23261636543],[51.49448182757, -0.23242378229],[51.49447727018, -0.23212143366],[51.49449402903, -0.23144370544],[51.49447613842, -0.23085375392],[51.49447860901, -0.23042147972],[51.49447404646, -0.23011913145],[51.49447404646, -0.23011913145],[51.49446970044, -0.22983118078],[51.49442310102, -0.22912709509],[51.49439033907, -0.22814876168],[51.49439721735, -0.22741379251],[51.49380064483, -0.2266158063],[51.49361282209, -0.22613708873],[51.49361282209, -0.22613708873],[51.49356682039, -0.22601984219],[51.49310749593, -0.22478439212],[51.49302247048, -0.22451399052],[51.49305580336, -0.22433982929],[51.49307884074, -0.22407963476],[51.49310868408, -0.22367512011],[51.49292654222, -0.2235237399],[51.49289669938, -0.22392825301],[51.49283025256, -0.22429097155],[51.49263842032, -0.22468737086],[51.4916948664, -0.22354280825],[51.49187814394, -0.22317555527],[51.49254577137, -0.22395768944],[51.49254577137, -0.22395768944],[51.49283025256, -0.22429097155],[51.49289669938, -0.22392825301],[51.49292654222, -0.2235237399],[51.49307779709, -0.22341702133],[51.49303377754, -0.22288572883],[51.49305288382, -0.22236638725],[51.49307005802, -0.22112684423],[51.49319659439, -0.21998387896],[51.4932033962, -0.21983955834],[51.49323366205, -0.2194638343],[51.49324595244, -0.21908881028],[51.4932496023, -0.21903172639],[51.4932496023, -0.21903172639],[51.4934130545, -0.21647487756],[51.49356715802, -0.21596466389],[51.4936210824, -0.21578876975],[51.4936210824, -0.21578876975],[51.49377277194, -0.21529397184],[51.49386637118, -0.21494457742],[51.49410551597, -0.21411410145],[51.49426793821, -0.21356032892],[51.49441326111, -0.21306484495],[51.49451671837, -0.21277267933],[51.49470204183, -0.21230745853],[51.49470204183, -0.21230745853],[51.49481985472, -0.2120117063],[51.49489744572, -0.2117925785],[51.49505416355, -0.2114551037],[51.49561000721, -0.21016558868],[51.49582369513, -0.20943689778],[51.49591419828, -0.20888590647],[51.4959689705, -0.20835072043],[51.4960086263, -0.20800341014],[51.49606647525, -0.20766979207],[51.49615983134, -0.20730596705],[51.49625230572, -0.2068845489],[51.49664152944, -0.2058752137],[51.49681422114, -0.20540741736],[51.4969127914, -0.20514215643],[51.4969127914, -0.20514215643],[51.49715105266, -0.20450096369],[51.49729743909, -0.20407741145],[51.4974038288, -0.20376137524],[51.4974038288, -0.20376137524],[51.4975038661, -0.20346420553],[51.49782314955, -0.20258722794],[51.49790072261, -0.20236807005],[51.498012919, -0.20206110629],[51.49822832229, -0.20144752806],[51.4983236464, -0.20121326016],[51.49848212303, -0.2007539867],[51.49848212303, -0.2007539867],[51.49853027906, -0.20061442637],[51.49863348374, -0.20030780815],[51.49880983497, -0.19949404872],[51.49891148898, -0.19908663532],[51.49903943913, -0.19863496097],[51.49909969419, -0.19845969565],[51.49927191323, -0.19796304902],[51.49943580703, -0.19750994979],[51.49951447703, -0.19736277003],[51.49960014175, -0.19708564511],[51.49977247803, -0.19659149835],[51.49977247803, -0.19659149835],[51.49996187539, -0.19604842041],[51.50021230837, -0.19537577199],[51.50039327946, -0.19486434765],[51.50054795236, -0.19439718239],[51.50063147985, -0.19416718771],[51.50063147985, -0.19416718771],[51.50089301862, -0.19344702169],[51.50097933941, -0.19321307912],[51.50124861741, -0.19259728681],[51.50136977469, -0.19228992137],[51.5016388257, -0.19165971894],[51.50188291116, -0.19116017279],[51.50199574398, -0.19089635402],[51.5021189959, -0.19014223454],[51.50219254462, -0.18966384158],[51.50234452831, -0.18902384436],[51.50237647355, -0.18876322465],[51.50237091341, -0.18840323221],[51.50235551997, -0.18825436033],[51.50235551997, -0.18825436033],[51.5022863365, -0.1875853023],[51.50225425702, -0.18725517997],[51.50222195401, -0.18691065849],[51.50212949332, -0.18616508913],[51.50207000352, -0.18580724055],[51.50195933913, -0.18504799062],[51.5018632176, -0.18456367735],[51.5018632176, -0.18456367735],[51.50180328927, -0.18426173149],[51.50174624636, -0.18406228217],[51.50167776326, -0.18370479679],[51.50150624696, -0.18250132279],[51.50149547477, -0.18238648535],[51.50145104555, -0.18184074006],[51.50144568752, -0.18149515564],[51.5014483204, -0.18130343707],[51.5014483204, -0.18130343707],[51.50145835521, -0.18057252394],[51.50146421456, -0.18037057516],[51.5014720844, -0.18029822046],[51.50147119071, -0.18024062308],[51.50153235954, -0.17954658966],[51.50157380261, -0.17816174314],[51.50156354629, -0.17692304002],[51.50160617336, -0.1763667839],[51.50160617336, -0.1763667839],[51.5017429474, -0.17458172945],[51.50180049507, -0.17365729478],[51.50180746376, -0.1735273409],[51.5019000637, -0.17196753186],[51.50192526656, -0.17103788626],[51.50192526656, -0.17103788626],[51.50192860897, -0.17091457589],[51.50190884056, -0.1702237641],[51.50185379079, -0.16900125621],[51.50185199227, -0.1688860612],[51.50183693457, -0.16849763843],[51.50182637358, -0.16839720318],[51.50181962633, -0.16796522235],[51.50182186435, -0.16753288121],[51.50182091398, -0.16712782869],[51.50182091398, -0.16712782869],[51.50182027482, -0.16685575109],[51.5017189044, -0.165548659],[51.50167349575, -0.16494533227],[51.50167393338, -0.16316910258],[51.50167393338, -0.16316910258],[51.50167404841, -0.16268320064],[51.50166592629, -0.16216482706],[51.50167152822, -0.16194847655],[51.50172694399, -0.1608944365],[51.50186328072, -0.16041347039],[51.5020534849, -0.15935399288],[51.50223717984, -0.15845326262],[51.50234302614, -0.15660469962],[51.50235760458, -0.15638798279],[51.50245933388, -0.15599484493],[51.50268166805, -0.15526543629],[51.5028538517, -0.15420664572],[51.50292061999, -0.15348398613],[51.50292061999, -0.15348398613],[51.50297678308, -0.15287607161],[51.50299807311, -0.15251499127],[51.50303892369, -0.15225398086],[51.50306384215, -0.15212329372],[51.50311435937, -0.15190511792],[51.50313927744, -0.15177443038],[51.50325601381, -0.1511933527],[51.50327979599, -0.15099066598],[51.50330289665, -0.15074477999],[51.50330279988, -0.15016842877],[51.50376092273, -0.14899715453],[51.50383031675, -0.14883584301],[51.50403040989, -0.14835058751],[51.50403040989, -0.14835058751],[51.50409014443, -0.14820572062],[51.5042284752, -0.14785429249],[51.50442925725, -0.14747151096],[51.50491818178, -0.14654388977],[51.50499655908, -0.14638220579],[51.50504035482, -0.14630838133],[51.50551959994, -0.14533789922],[51.50566781968, -0.14504368807],[51.50583401214, -0.14474874497],[51.50589372996, -0.14454458344],[51.50615604076, -0.14407281429],[51.50642596865, -0.1435142708],[51.50665255626, -0.14305835242],[51.50672216991, -0.14291142246],[51.50694875511, -0.14245549816],[51.50694875511, -0.14245549816],[51.50714098851, -0.14210183746],[51.50752431093, -0.14132250244],[51.50774837857, -0.14070815122],[51.507791714, -0.14060551486],[51.50803397962, -0.14000482571],[51.50816329846, -0.13965370876],[51.50819764623, -0.13955143656],[51.50826898363, -0.13933902458],[51.50826898363, -0.13933902458],[51.50840373098, -0.13893780016],[51.50843762106, -0.13880672447],[51.50861719896, -0.13822298313],[51.50873661104, -0.13781461798],[51.50879654522, -0.13762483593],[51.50897680338, -0.13708428955],[51.50906232377, -0.1368069974],[51.50908768233, -0.13670508774],[51.50925572211, -0.13619348546],[51.50925572211, -0.13619348546],[51.50937074103, -0.1358433007],[51.5094140721, -0.13574065615],[51.50945648737, -0.13558040539],[51.50967245365, -0.1350239738],[51.50974045379, -0.13477621091],[51.50984943911, -0.13484381454],[51.50995636316, -0.1347818036],[51.51011422956, -0.13453036792],[51.51002395632, -0.13394320319],[51.5100961279, -0.13339263412],[51.50993877003, -0.13311084572],[51.50974661115, -0.1329025368],[51.50968232884, -0.13281869933],[51.50965733006, -0.13279420354],[51.50965733006, -0.13279420354],[51.50952703333, -0.13266652896],[51.50924363106, -0.13237549018],[51.50883395601, -0.13206079821],[51.50846875468, -0.13171547141],[51.50808626736, -0.13141408857],[51.50769433368, -0.13108427662],[51.5076344804, -0.13015005748],[51.50761421105, -0.13000678455],[51.50757229389, -0.12963383392],[51.50756518671, -0.12956509332]]",
            "stopPoints": [
             {
              "$type": "Tfl.Api.Presentation.Entities.Identifier, Tfl.Api.Presentation.Entities",
              "id": "490G000040",
              "name": "Great West Road / Renfrew Road",
              "routeType": "Unknown",
              "status": "Unknown",
              "type": "StopPoint",
              "uri": "/StopPoint/490G000040"
             },
             {
              "$type": "Tfl.Api.Presentation.Entities.Identifier, Tfl.Api.Presentation.Entities",
              "id": "490G00118B",
              "name": "Hounslow West Station",
              "routeType": "Unknown",
              "status": "Unknown",
              "type": "StopPoint",
              "uri": "/StopPoint/490G00118B"
             },
             {
              "$type": "Tfl.Api.Presentation.Entities.Identifier, Tfl.Api.Presentation.Entities",
              "id": "490G00012458",
              "name": "St Paul's Church",
              "routeType": "Unknown",
              "status": "Unknown",
              "type": "StopPoint",
              "uri": "/StopPoint/490G00012458"
             },
             {
              "$type": "Tfl.Api.Presentation.Entities.Identifier, Tfl.Api.Presentation.Entities",
              "id": "490G00006406",
              "name": "Wellington Road North",
              "routeType": "Unknown",
              "status": "Unknown",
              "type": "StopPoint",
              "uri": "/StopPoint/490G00006406"
             },
             {
              "$type": "Tfl.Api.Presentation.Entities.Identifier, Tfl.Api.Presentation.Entities",
              "id": "490G00012454",
              "name": "St Michael & St Martin Church",
              "routeType": "Unknown",
              "status": "Unknown",
              "type": "StopPoint",
              "uri": "/StopPoint/490G00012454"
             },
             {
              "$type": "Tfl.Api.Presentation.Entities.Identifier, Tfl.Api.Presentation.Entities",
              "id": "490G00013259",
              "name": "The Bell",
              "routeType": "Unknown",
              "status": "Unknown",
              "type": "StopPoint",
              "uri": "/StopPoint/490G00013259"
             },
             {
              "$type": "Tfl.Api.Presentation.Entities.Identifier, Tfl.Api.Presentation.Entities",
              "id": "490G00013777",
              "name": "Treaty Centre",
              "routeType": "Unknown",
              "status": "Unknown",
              "type": "StopPoint",
              "uri": "/StopPoint/490G00013777"
             },
             {
              "$type": "Tfl.Api.Presentation.Entities.Identifier, Tfl.Api.Presentation.Entities",
              "id": "490G00008399",
              "name": "Hounslow High Street",
              "routeType": "Unknown",
              "status": "Unknown",
              "type": "StopPoint",
              "uri": "/StopPoint/490G00008399"
             },
             {
              "$type": "Tfl.Api.Presentation.Entities.Identifier, Tfl.Api.Presentation.Entities",
              "id": "490G000601",
              "name": "Hounslow Bus Station",
              "routeType": "Unknown",
              "status": "Unknown",
              "type": "StopPoint",
              "uri": "/StopPoint/490G000601"
             },
             {
              "$type": "Tfl.Api.Presentation.Entities.Identifier, Tfl.Api.Presentation.Entities",
              "id": "490G00004327",
              "name": "Bridge Road",
              "routeType": "Unknown",
              "status": "Unknown",
              "type": "StopPoint",
              "uri": "/StopPoint/490G00004327"
             },
             {
              "$type": "Tfl.Api.Presentation.Entities.Identifier, Tfl.Api.Presentation.Entities",
              "id": "490G00012599",
              "name": "Star Road",
              "routeType": "Unknown",
              "status": "Unknown",
              "type": "StopPoint",
              "uri": "/StopPoint/490G00012599"
             },
             {
              "$type": "Tfl.Api.Presentation.Entities.Identifier, Tfl.Api.Presentation.Entities",
              "id": "490G00013620",
              "name": "Thornbury Road",
              "routeType": "Unknown",
              "status": "Unknown",
              "type": "StopPoint",
              "uri": "/StopPoint/490G00013620"
             },
             {
              "$type": "Tfl.Api.Presentation.Entities.Identifier, Tfl.Api.Presentation.Entities",
              "id": "490G00008510",
              "name": "West Thames College",
              "routeType": "Unknown",
              "status": "Unknown",
              "type": "StopPoint",
              "uri": "/StopPoint/490G00008510"
             },
             {
              "$type": "Tfl.Api.Presentation.Entities.Identifier, Tfl.Api.Presentation.Entities",
              "id": "490G01158B",
              "name": "Isleworth Station",
              "routeType": "Unknown",
              "status": "Unknown",
              "type": "StopPoint",
              "uri": "/StopPoint/490G01158B"
             },
             {
              "$type": "Tfl.Api.Presentation.Entities.Identifier, Tfl.Api.Presentation.Entities",
              "id": "490G00009185",
              "name": "Linkfield Road",
              "routeType": "Unknown",
              "status": "Unknown",
              "type": "StopPoint",
              "uri": "/StopPoint/490G00009185"
             },
             {
              "$type": "Tfl.Api.Presentation.Entities.Identifier, Tfl.Api.Presentation.Entities",
              "id": "490G00014874",
              "name": "Wood Lane",
              "routeType": "Unknown",
              "status": "Unknown",
              "type": "StopPoint",
              "uri": "/StopPoint/490G00014874"
             },
             {
              "$type": "Tfl.Api.Presentation.Entities.Identifier, Tfl.Api.Presentation.Entities",
              "id": "490G00007873",
              "name": "Turnpike Way",
              "routeType": "Unknown",
              "status": "Unknown",
              "type": "StopPoint",
              "uri": "/StopPoint/490G00007873"
             },
             {
              "$type": "Tfl.Api.Presentation.Entities.Identifier, Tfl.Api.Presentation.Entities",
              "id": "490G00004635",
              "name": "The Green School",
              "routeType": "Unknown",
              "status": "Unknown",
              "type": "StopPoint",
              "uri": "/StopPoint/490G00004635"
             },
             {
              "$type": "Tfl.Api.Presentation.Entities.Identifier, Tfl.Api.Presentation.Entities",
              "id": "490G00015029",
              "name": "Busch Corner",
              "routeType": "Unknown",
              "status": "Unknown",
              "type": "StopPoint",
              "uri": "/StopPoint/490G00015029"
             },
             {
              "$type": "Tfl.Api.Presentation.Entities.Identifier, Tfl.Api.Presentation.Entities",
              "id": "490G00013141",
              "name": "Syon Lane",
              "routeType": "Unknown",
              "status": "Unknown",
              "type": "StopPoint",
              "uri": "/StopPoint/490G00013141"
             },
             {
              "$type": "Tfl.Api.Presentation.Entities.Identifier, Tfl.Api.Presentation.Entities",
              "id": "490G00003804",
              "name": "Beech Avenue",
              "routeType": "Unknown",
              "status": "Unknown",
              "type": "StopPoint",
              "uri": "/StopPoint/490G00003804"
             },
             {
              "$type": "Tfl.Api.Presentation.Entities.Identifier, Tfl.Api.Presentation.Entities",
              "id": "490G00004296",
              "name": "Brent Lea",
              "routeType": "Unknown",
              "status": "Unknown",
              "type": "StopPoint",
              "uri": "/StopPoint/490G00004296"
             },
             {
              "$type": "Tfl.Api.Presentation.Entities.Identifier, Tfl.Api.Presentation.Entities",
              "id": "490G00004292",
              "name": "Market Place",
              "routeType": "Unknown",
              "status": "Unknown",
              "type": "StopPoint",
              "uri": "/StopPoint/490G00004292"
             },
             {
              "$type": "Tfl.Api.Presentation.Entities.Identifier, Tfl.Api.Presentation.Entities",
              "id": "490G00004289",
              "name": "Brentford County Court",
              "routeType": "Unknown",
              "status": "Unknown",
              "type": "StopPoint",
              "uri": "/StopPoint/490G00004289"
             },
             {
              "$type": "Tfl.Api.Presentation.Entities.Identifier, Tfl.Api.Presentation.Entities",
              "id": "490G00006297",
              "name": "Watermans Centre",
              "routeType": "Unknown",
              "status": "Unknown",
              "type": "StopPoint",
              "uri": "/StopPoint/490G00006297"
             },
             {
              "$type": "Tfl.Api.Presentation.Entities.Identifier, Tfl.Api.Presentation.Entities",
              "id": "490G00004293",
              "name": "The Musical Museum",
              "routeType": "Unknown",
              "status": "Unknown",
              "type": "StopPoint",
              "uri": "/StopPoint/490G00004293"
             },
             {
              "$type": "Tfl.Api.Presentation.Entities.Identifier, Tfl.Api.Presentation.Entities",
              "id": "490G00008690",
              "name": "London Museum Of Water and Steam",
              "routeType": "Unknown",
              "status": "Unknown",
              "type": "StopPoint",
              "uri": "/StopPoint/490G00008690"
             },
             {
              "$type": "Tfl.Api.Presentation.Entities.Identifier, Tfl.Api.Presentation.Entities",
              "id": "490G01167S",
              "name": "Kew Bridge Station",
              "routeType": "Unknown",
              "status": "Unknown",
              "type": "StopPoint",
              "uri": "/StopPoint/490G01167S"
             },
             {
              "$type": "Tfl.Api.Presentation.Entities.Identifier, Tfl.Api.Presentation.Entities",
              "id": "490G00004290",
              "name": "Brentford Fountain Leisure Centre",
              "routeType": "Unknown",
              "status": "Unknown",
              "type": "StopPoint",
              "uri": "/StopPoint/490G00004290"
             },
             {
              "$type": "Tfl.Api.Presentation.Entities.Identifier, Tfl.Api.Presentation.Entities",
              "id": "490G000750",
              "name": "Thorney Hedge Road",
              "routeType": "Unknown",
              "status": "Unknown",
              "type": "StopPoint",
              "uri": "/StopPoint/490G000750"
             },
             {
              "$type": "Tfl.Api.Presentation.Entities.Identifier, Tfl.Api.Presentation.Entities",
              "id": "490G00094B",
              "name": "Gunnersbury Station",
              "routeType": "Unknown",
              "status": "Unknown",
              "type": "StopPoint",
              "uri": "/StopPoint/490G00094B"
             },
             {
              "$type": "Tfl.Api.Presentation.Entities.Identifier, Tfl.Api.Presentation.Entities",
              "id": "490G00005211",
              "name": "Chiswick Road",
              "routeType": "Unknown",
              "status": "Unknown",
              "type": "StopPoint",
              "uri": "/StopPoint/490G00005211"
             },
             {
              "$type": "Tfl.Api.Presentation.Entities.Identifier, Tfl.Api.Presentation.Entities",
              "id": "490G000807",
              "name": "Turnham Green Church",
              "routeType": "Unknown",
              "status": "Unknown",
              "type": "StopPoint",
              "uri": "/StopPoint/490G000807"
             },
             {
              "$type": "Tfl.Api.Presentation.Entities.Identifier, Tfl.Api.Presentation.Entities",
              "id": "490G00005423",
              "name": "Clifton Gardens",
              "routeType": "Unknown",
              "status": "Unknown",
              "type": "StopPoint",
              "uri": "/StopPoint/490G00005423"
             },
             {
              "$type": "Tfl.Api.Presentation.Entities.Identifier, Tfl.Api.Presentation.Entities",
              "id": "490G00005210",
              "name": "Chiswick Police Station",
              "routeType": "Unknown",
              "status": "Unknown",
              "type": "StopPoint",
              "uri": "/StopPoint/490G00005210"
             },
             {
              "$type": "Tfl.Api.Presentation.Entities.Identifier, Tfl.Api.Presentation.Entities",
              "id": "490G00013850",
              "name": "Chiswick Lane",
              "routeType": "Unknown",
              "status": "Unknown",
              "type": "StopPoint",
              "uri": "/StopPoint/490G00013850"
             },
             {
              "$type": "Tfl.Api.Presentation.Entities.Identifier, Tfl.Api.Presentation.Entities",
              "id": "490G00012521",
              "name": "Stamford Brook Bus Garage",
              "routeType": "Unknown",
              "status": "Unknown",
              "type": "StopPoint",
              "uri": "/StopPoint/490G00012521"
             },
             {
              "$type": "Tfl.Api.Presentation.Entities.Identifier, Tfl.Api.Presentation.Entities",
              "id": "490G000535",
              "name": "Goldhawk Road / Young's Corner",
              "routeType": "Unknown",
              "status": "Unknown",
              "type": "StopPoint",
              "uri": "/StopPoint/490G000535"
             },
             {
              "$type": "Tfl.Api.Presentation.Entities.Identifier, Tfl.Api.Presentation.Entities",
              "id": "490G00012533",
              "name": "Ravenscourt Park",
              "routeType": "Unknown",
              "status": "Unknown",
              "type": "StopPoint",
              "uri": "/StopPoint/490G00012533"
             },
             {
              "$type": "Tfl.Api.Presentation.Entities.Identifier, Tfl.Api.Presentation.Entities",
              "id": "490G00188A",
              "name": "Ravenscourt Park Station",
              "routeType": "Unknown",
              "status": "Unknown",
              "type": "StopPoint",
              "uri": "/StopPoint/490G00188A"
             },
             {
              "$type": "Tfl.Api.Presentation.Entities.Identifier, Tfl.Api.Presentation.Entities",
              "id": "490G00005937",
              "name": "Dalling Road",
              "routeType": "Unknown",
              "status": "Unknown",
              "type": "StopPoint",
              "uri": "/StopPoint/490G00005937"
             },
             {
              "$type": "Tfl.Api.Presentation.Entities.Identifier, Tfl.Api.Presentation.Entities",
              "id": "490G00015588",
              "name": "Lamington Street",
              "routeType": "Unknown",
              "status": "Unknown",
              "type": "StopPoint",
              "uri": "/StopPoint/490G00015588"
             },
             {
              "$type": "Tfl.Api.Presentation.Entities.Identifier, Tfl.Api.Presentation.Entities",
              "id": "490G00007239",
              "name": "Iffley Road",
              "routeType": "Unknown",
              "status": "Unknown",
              "type": "StopPoint",
              "uri": "/StopPoint/490G00007239"
             },
             {
              "$type": "Tfl.Api.Presentation.Entities.Identifier, Tfl.Api.Presentation.Entities",
              "id": "490G00097T",
              "name": "Hammersmith Stn / H&C and Circle Lines",
              "routeType": "Unknown",
              "status": "Unknown",
              "type": "StopPoint",
              "uri": "/StopPoint/490G00097T"
             },
             {
              "$type": "Tfl.Api.Presentation.Entities.Identifier, Tfl.Api.Presentation.Entities",
              "id": "490G000565",
              "name": "Hammersmith Bus Station",
              "routeType": "Unknown",
              "status": "Unknown",
              "type": "StopPoint",
              "uri": "/StopPoint/490G000565"
             },
             {
              "$type": "Tfl.Api.Presentation.Entities.Identifier, Tfl.Api.Presentation.Entities",
              "id": "490G00008997",
              "name": "Latymer Court",
              "routeType": "Unknown",
              "status": "Unknown",
              "type": "StopPoint",
              "uri": "/StopPoint/490G00008997"
             },
             {
              "$type": "Tfl.Api.Presentation.Entities.Identifier, Tfl.Api.Presentation.Entities",
              "id": "490G00004455",
              "name": "Brook Green",
              "routeType": "Unknown",
              "status": "Unknown",
              "type": "StopPoint",
              "uri": "/StopPoint/490G00004455"
             },
             {
              "$type": "Tfl.Api.Presentation.Entities.Identifier, Tfl.Api.Presentation.Entities",
              "id": "490G00010357",
              "name": "North End Road",
              "routeType": "Unknown",
              "status": "Unknown",
              "type": "StopPoint",
              "uri": "/StopPoint/490G00010357"
             },
             {
              "$type": "Tfl.Api.Presentation.Entities.Identifier, Tfl.Api.Presentation.Entities",
              "id": "490G00008287",
              "name": "Holland Road",
              "routeType": "Unknown",
              "status": "Unknown",
              "type": "StopPoint",
              "uri": "/StopPoint/490G00008287"
             },
             {
              "$type": "Tfl.Api.Presentation.Entities.Identifier, Tfl.Api.Presentation.Entities",
              "id": "490G00003106",
              "name": "Warwick Gardens",
              "routeType": "Unknown",
              "status": "Unknown",
              "type": "StopPoint",
              "uri": "/StopPoint/490G00003106"
             },
             {
              "$type": "Tfl.Api.Presentation.Entities.Identifier, Tfl.Api.Presentation.Entities",
              "id": "490G00005528",
              "name": "The Design Museum",
              "routeType": "Unknown",
              "status": "Unknown",
              "type": "StopPoint",
              "uri": "/StopPoint/490G00005528"
             },
             {
              "$type": "Tfl.Api.Presentation.Entities.Identifier, Tfl.Api.Presentation.Entities",
              "id": "490G00010984",
              "name": "Phillimore Gardens",
              "routeType": "Unknown",
              "status": "Unknown",
              "type": "StopPoint",
              "uri": "/StopPoint/490G00010984"
             },
             {
              "$type": "Tfl.Api.Presentation.Entities.Identifier, Tfl.Api.Presentation.Entities",
              "id": "490G00110R",
              "name": "High Street Kensington Station",
              "routeType": "Unknown",
              "status": "Unknown",
              "type": "StopPoint",
              "uri": "/StopPoint/490G00110R"
             },
             {
              "$type": "Tfl.Api.Presentation.Entities.Identifier, Tfl.Api.Presentation.Entities",
              "id": "490G00011761",
              "name": "Kensington Palace",
              "routeType": "Unknown",
              "status": "Unknown",
              "type": "StopPoint",
              "uri": "/StopPoint/490G00011761"
             },
             {
              "$type": "Tfl.Api.Presentation.Entities.Identifier, Tfl.Api.Presentation.Entities",
              "id": "490G00010728",
              "name": "Palace Gate",
              "routeType": "Unknown",
              "status": "Unknown",
              "type": "StopPoint",
              "uri": "/StopPoint/490G00010728"
             },
             {
              "$type": "Tfl.Api.Presentation.Entities.Identifier, Tfl.Api.Presentation.Entities",
              "id": "490G00019923",
              "name": "Queen's Gate",
              "routeType": "Unknown",
              "status": "Unknown",
              "type": "StopPoint",
              "uri": "/StopPoint/490G00019923"
             },
             {
              "$type": "Tfl.Api.Presentation.Entities.Identifier, Tfl.Api.Presentation.Entities",
              "id": "490G00011750",
              "name": "Royal Albert Hall",
              "routeType": "Unknown",
              "status": "Unknown",
              "type": "StopPoint",
              "uri": "/StopPoint/490G00011750"
             },
             {
              "$type": "Tfl.Api.Presentation.Entities.Identifier, Tfl.Api.Presentation.Entities",
              "id": "490G00011198",
              "name": "Prince Of Wales Gate",
              "routeType": "Unknown",
              "status": "Unknown",
              "type": "StopPoint",
              "uri": "/StopPoint/490G00011198"
             },
             {
              "$type": "Tfl.Api.Presentation.Entities.Identifier, Tfl.Api.Presentation.Entities",
              "id": "490G00011822",
              "name": "Rutland Gardens",
              "routeType": "Unknown",
              "status": "Unknown",
              "type": "StopPoint",
              "uri": "/StopPoint/490G00011822"
             },
             {
              "$type": "Tfl.Api.Presentation.Entities.Identifier, Tfl.Api.Presentation.Entities",
              "id": "490G000575",
              "name": "Knightsbridge Station  / Harrods",
              "routeType": "Unknown",
              "status": "Unknown",
              "type": "StopPoint",
              "uri": "/StopPoint/490G000575"
             },
             {
              "$type": "Tfl.Api.Presentation.Entities.Identifier, Tfl.Api.Presentation.Entities",
              "id": "490G00119A",
              "name": "Hyde Park Corner",
              "routeType": "Unknown",
              "status": "Unknown",
              "type": "StopPoint",
              "uri": "/StopPoint/490G00119A"
             },
             {
              "$type": "Tfl.Api.Presentation.Entities.Identifier, Tfl.Api.Presentation.Entities",
              "id": "490G00010574",
              "name": "Old Park Lane / Hard Rock Cafe",
              "routeType": "Unknown",
              "status": "Unknown",
              "type": "StopPoint",
              "uri": "/StopPoint/490G00010574"
             },
             {
              "$type": "Tfl.Api.Presentation.Entities.Identifier, Tfl.Api.Presentation.Entities",
              "id": "490G00093PE",
              "name": "Green Park Station",
              "routeType": "Unknown",
              "status": "Unknown",
              "type": "StopPoint",
              "uri": "/StopPoint/490G00093PE"
             },
             {
              "$type": "Tfl.Api.Presentation.Entities.Identifier, Tfl.Api.Presentation.Entities",
              "id": "490G00010526",
              "name": "Old Bond Street / Royal Academy",
              "routeType": "Unknown",
              "status": "Unknown",
              "type": "StopPoint",
              "uri": "/StopPoint/490G00010526"
             },
             {
              "$type": "Tfl.Api.Presentation.Entities.Identifier, Tfl.Api.Presentation.Entities",
              "id": "490G00179B",
              "name": "Piccadilly Circus",
              "routeType": "Unknown",
              "status": "Unknown",
              "type": "StopPoint",
              "uri": "/StopPoint/490G00179B"
             },
             {
              "$type": "Tfl.Api.Presentation.Entities.Identifier, Tfl.Api.Presentation.Entities",
              "id": "490G00020307",
              "name": "Haymarket / Jermyn Street",
              "routeType": "Unknown",
              "status": "Unknown",
              "type": "StopPoint",
              "uri": "/StopPoint/490G00020307"
             },
             {
              "$type": "Tfl.Api.Presentation.Entities.Identifier, Tfl.Api.Presentation.Entities",
              "id": "490G000804",
              "name": "Northumberland Avenue / Trafalgar Square",
              "routeType": "Unknown",
              "status": "Unknown",
              "type": "StopPoint",
              "uri": "/StopPoint/490G000804"
             }
            ]
           },
           "plannedWorks": [],
           "routeOptions": [
            {
             "$type": "Tfl.Api.Presentation.Entities.JourneyPlanner.RouteOption, Tfl.Api.Presentation.Entities",
             "directions": [
              "Aldwych"
             ],
             "lineIdentifier": {
              "$type": "Tfl.Api.Presentation.Entities.Identifier, Tfl.Api.Presentation.Entities",
              "crowding": {
               "$type": "Tfl.Api.Presentation.Entities.Crowding, Tfl.Api.Presentation.Entities"
              },
              "id": "n9",
              "name": "N9",
              "routeType": "Unknown",
              "status": "Unknown",
              "type": "Line",
              "uri": "/Line/n9"
             },
             "name": "N9"
            }
           ]
          },
          {
           "$type": "Tfl.Api.Presentation.Entities.JourneyPlanner.Leg, Tfl.Api.Presentation.Entities",
           "arrivalPoint": {
            "$type": "Tfl.Api.Presentation.Entities.StopPoint, Tfl.Api.Presentation.Entities",
            "additionalProperties": [],
            "commonName": "Charing Cross Stn  / Trafalgar Square",
            "icsCode": "1013766",
            "lat": 51.50864206552,
            "lon": -0.12623235231,
            "naptanId": "490G000803",
            "placeType": "StopPoint",
            "platformName": "G",
            "stopLetter": "G"
           },
           "arrivalTime": "2021-06-25T05:40:00",
           "departurePoint": {
            "$type": "Tfl.Api.Presentation.Entities.StopPoint, Tfl.Api.Presentation.Entities",
            "additionalProperties": [],
            "commonName": "Northumberland Avenue / Trafalgar Square",
            "icsCode": "1013767",
            "lat": 51.50764280917,
            "lon": -0.12954448446,
            "naptanId": "490G000804",
            "placeType": "StopPoint",
            "platformName": "",
            "stopLetter": "B"
           },
           "departureTime": "2021-06-25T05:34:00",
           "disruptions": [],
           "duration": 6,
           "hasFixedLocations": true,
           "instruction": {
            "$type": "Tfl.Api.Presentation.Entities.Instruction, Tfl.Api.Presentation.Entities",
            "detailed": "Walk to Trafalgar Square/Charing Cross",
            "steps": [
             {
              "$type": "Tfl.Api.Presentation.Entities.InstructionStep, Tfl.Api.Presentation.Entities",
              "cumulativeDistance": 5,
              "cumulativeTravelTime": 5,
              "description": "Cockspur Street for 5 metres",
              "descriptionHeading": "Continue along ",
              "distance": 5,
              "latitude": 51.50764280917,
              "longitude": -0.12954448446,
              "pathAttribute": {
               "$type": "Tfl.Api.Presentation.Entities.PathAttribute, Tfl.Api.Presentation.Entities"
              },
              "skyDirection": 278,
              "skyDirectionDescription": "West",
              "streetName": "Cockspur Street",
              "trackType": "None",
              "turnDirection": "STRAIGHT"
             },
             {
              "$type": "Tfl.Api.Presentation.Entities.InstructionStep, Tfl.Api.Presentation.Entities",
              "cumulativeDistance": 71,
              "cumulativeTravelTime": 64,
              "description": "for 66 metres",
              "descriptionHeading": "Turn right",
              "distance": 66,
              "latitude": 51.50757229389,
              "longitude": -0.12963383392,
              "pathAttribute": {
               "$type": "Tfl.Api.Presentation.Entities.PathAttribute, Tfl.Api.Presentation.Entities"
              },
              "skyDirection": 348,
              "skyDirectionDescription": "North",
              "streetName": "",
              "trackType": "None",
              "turnDirection": "RIGHT"
             },
             {
              "$type": "Tfl.Api.Presentation.Entities.InstructionStep, Tfl.Api.Presentation.Entities",
              "cumulativeDistance": 120,
              "cumulativeTravelTime": 109,
              "description": "on to Pall Mall East, continue for 49 metres",
              "descriptionHeading": "Turn right",
              "distance": 49,
              "latitude": 51.50815065507,
              "longitude": -0.12981189479,
              "pathAttribute": {
               "$type": "Tfl.Api.Presentation.Entities.PathAttribute, Tfl.Api.Presentation.Entities"
              },
              "skyDirection": 429,
              "skyDirectionDescription": "North",
              "streetName": "Pall Mall East",
              "trackType": "None",
              "turnDirection": "RIGHT"
             },
             {
              "$type": "Tfl.Api.Presentation.Entities.InstructionStep, Tfl.Api.Presentation.Entities",
              "cumulativeDistance": 220,
              "cumulativeTravelTime": 199,
              "description": "on to Trafalgar Square, continue for 100 metres",
              "descriptionHeading": "Continue along ",
              "distance": 100,
              "latitude": 51.50830184962,
              "longitude": -0.12914282075,
              "pathAttribute": {
               "$type": "Tfl.Api.Presentation.Entities.PathAttribute, Tfl.Api.Presentation.Entities"
              },
              "skyDirection": 425,
              "skyDirectionDescription": "North",
              "streetName": "Trafalgar Square",
              "trackType": "None",
              "turnDirection": "STRAIGHT"
             },
             {
              "$type": "Tfl.Api.Presentation.Entities.InstructionStep, Tfl.Api.Presentation.Entities",
              "cumulativeDistance": 257,
              "cumulativeTravelTime": 232,
              "description": "on to North Terrace, continue for 37 metres",
              "descriptionHeading": "Continue along ",
              "distance": 37,
              "latitude": 51.50854063093,
              "longitude": -0.12776403492000002,
              "pathAttribute": {
               "$type": "Tfl.Api.Presentation.Entities.PathAttribute, Tfl.Api.Presentation.Entities"
              },
              "skyDirection": 444,
              "skyDirectionDescription": "North",
              "streetName": "North Terrace",
              "trackType": "None",
              "turnDirection": "STRAIGHT"
             },
             {
              "$type": "Tfl.Api.Presentation.Entities.InstructionStep, Tfl.Api.Presentation.Entities",
              "cumulativeDistance": 326,
              "cumulativeTravelTime": 294,
              "description": "on to Duncannon Street, continue for 69 metres",
              "descriptionHeading": "Continue along ",
              "distance": 69,
              "latitude": 51.50856807034,
              "longitude": -0.1272297185,
              "pathAttribute": {
               "$type": "Tfl.Api.Presentation.Entities.PathAttribute, Tfl.Api.Presentation.Entities"
              },
              "skyDirection": 446,
              "skyDirectionDescription": "North",
              "streetName": "Duncannon Street",
              "trackType": "None",
              "turnDirection": "STRAIGHT"
             }
            ],
            "summary": "Walk to Trafalgar Square/Charing Cross"
           },
           "isDisrupted": false,
           "mode": {
            "$type": "Tfl.Api.Presentation.Entities.Identifier, Tfl.Api.Presentation.Entities",
            "id": "walking",
            "name": "walking",
            "routeType": "Unknown",
            "status": "Unknown",
            "type": "Mode"
           },
           "obstacles": [
            {
             "$type": "Tfl.Api.Presentation.Entities.JourneyPlanner.Obstacle, Tfl.Api.Presentation.Entities",
             "incline": "LEVEL",
             "position": "IDEST",
             "stopId": 1013767,
             "type": "WALKWAY"
            }
           ],
           "path": {
            "$type": "Tfl.Api.Presentation.Entities.JourneyPlanner.Path, Tfl.Api.Presentation.Entities",
            "elevation": [],
            "lineString": "[[51.50764280917, -0.12954448446],[51.50756487582, -0.1295620864],[51.50757229389, -0.12963383392],[51.50815065507, -0.12981189479],[51.50830184962, -0.12914282075],[51.50840371611, -0.12876397417],[51.50846779618, -0.12827138999],[51.50854063093, -0.12776403492],[51.50856807034, -0.1272297185],[51.50859177858, -0.12623441548],[51.50864206552, -0.12623235231],[51.50859203346, -0.1262237133]]",
            "stopPoints": [
             {
              "$type": "Tfl.Api.Presentation.Entities.Identifier, Tfl.Api.Presentation.Entities",
              "name": "Trafalgar Square/Charing Cross",
              "routeType": "Unknown",
              "status": "Unknown",
              "type": "StopPoint",
              "uri": "/StopPoint/"
             }
            ]
           },
           "plannedWorks": [],
           "routeOptions": [
            {
             "$type": "Tfl.Api.Presentation.Entities.JourneyPlanner.RouteOption, Tfl.Api.Presentation.Entities",
             "directions": [
              ""
             ],
             "name": ""
            }
           ]
          },
          {
           "$type": "Tfl.Api.Presentation.Entities.JourneyPlanner.Leg, Tfl.Api.Presentation.Entities",
           "arrivalPoint": {
            "$type": "Tfl.Api.Presentation.Entities.StopPoint, Tfl.Api.Presentation.Entities",
            "additionalProperties": [],
            "commonName": "Elephant & Castle Station",
            "icsCode": "1000073",
            "lat": 51.493291236960005,
            "lon": -0.09937564274999999,
            "naptanId": "490G00073G",
            "placeType": "StopPoint",
            "platformName": "R",
            "stopLetter": "R"
           },
           "arrivalTime": "2021-06-25T05:52:00",
           "departurePoint": {
            "$type": "Tfl.Api.Presentation.Entities.StopPoint, Tfl.Api.Presentation.Entities",
            "additionalProperties": [],
            "commonName": "Charing Cross Stn  / Trafalgar Square",
            "icsCode": "1013766",
            "lat": 51.50864206552,
            "lon": -0.12623235231,
            "naptanId": "490G000803",
            "placeType": "StopPoint",
            "platformName": "G",
            "stopLetter": "G"
           },
           "departureTime": "2021-06-25T05:40:00",
           "disruptions": [],
           "duration": 12,
           "hasFixedLocations": true,
           "instruction": {
            "$type": "Tfl.Api.Presentation.Entities.Instruction, Tfl.Api.Presentation.Entities",
            "detailed": "176 bus towards Penge",
            "steps": [],
            "summary": "176 bus to Elephant & Castle Station"
           },
           "isDisrupted": false,
           "mode": {
            "$type": "Tfl.Api.Presentation.Entities.Identifier, Tfl.Api.Presentation.Entities",
            "id": "bus",
            "name": "bus",
            "routeType": "Unknown",
            "status": "Unknown",
            "type": "Mode"
           },
           "obstacles": [],
           "path": {
            "$type": "Tfl.Api.Presentation.Entities.JourneyPlanner.Path, Tfl.Api.Presentation.Entities",
            "elevation": [],
            "lineString": "[[51.50859190078, -0.12622928425],[51.50860036644, -0.12587379825],[51.5086031391, -0.12548459834],[51.50869876951, -0.12527892445],[51.50881214259, -0.12505811062],[51.50904741353, -0.12458730809],[51.50932577286, -0.12399944414],[51.50964837099, -0.12336652231],[51.50983155909, -0.1230131309],[51.51000575947, -0.12266010608],[51.51008387264, -0.12248396212],[51.51022166374, -0.12210360821],[51.51034807208, -0.1217743316],[51.51034807208, -0.1217743316],[51.51046337182, -0.12147398766],[51.51061014619, -0.12109325785],[51.51078203294, -0.12059620178],[51.51097212159, -0.12011280398],[51.51110114912, -0.11974720755],[51.51128247854, -0.11927857494],[51.51126104103, -0.1190632861],[51.51053039266, -0.11847748324],[51.51053039266, -0.11847748324],[51.51001301237, -0.11806268224],[51.50991277328, -0.11798034684],[51.50979432984, -0.11788435105],[51.50906430735, -0.11722272021],[51.50895623706, -0.11721276479],[51.50863731351, -0.1169521108],[51.50736898084, -0.11580835534],[51.50726874023, -0.11572602954],[51.50711342314, -0.11557392571],[51.50703827264, -0.11550582341],[51.50703827264, -0.11550582341],[51.50697654184, -0.1154498824],[51.50691271014, -0.11539487587],[51.50673941947, -0.11524351601],[51.50662996046, -0.11514716298],[51.50619189215, -0.11474735512],[51.50610985548, -0.11467869211],[51.50581834927, -0.11444575909],[51.50530792288, -0.11402013334],[51.50517794225, -0.11376612863],[51.50517724745, -0.11372292871],[51.50510947733, -0.11342312755],[51.50504332815, -0.11322412679],[51.50469192496, -0.11318100478],[51.50440111097, -0.11299128755],[51.50434255734, -0.11270552099],[51.50418283301, -0.11227984367],[51.50407244447, -0.11212590459],[51.50376133741, -0.11179294438],[51.50371547719, -0.11173720379],[51.5034495338, -0.11141679045],[51.50293217606, -0.11078589416],[51.50293217606, -0.11078589416],[51.50275240669, -0.11056667715],[51.50251434797, -0.11030275844],[51.50218433454, -0.1099129695],[51.50186377063, -0.10955161206],[51.50166235235, -0.10932941243],[51.50145148278, -0.10907878919],[51.50127989499, -0.10888453212],[51.50127989499, -0.10888453212],[51.50087441603, -0.10842549057],[51.50060846387, -0.10810511624],[51.50035149741, -0.10778437341],[51.50001248931, -0.10739499324],[51.49913867398, -0.10631834093],[51.49913867398, -0.10631834093],[51.4988472548, -0.10595928696],[51.49875343594, -0.10571824853],[51.49866744015, -0.10540484919],[51.49876187234, -0.10512719007],[51.49889914245, -0.10471808461],[51.49879633452, -0.10447742139],[51.49861613825, -0.10445608274],[51.49831655688, -0.10428121628],[51.49777424623, -0.10355454297],[51.49771939567, -0.10349919093],[51.49696689598, -0.10256515968],[51.49659354841, -0.10208327073],[51.49659354841, -0.10208327073],[51.49629643313, -0.10169978405],[51.4956430045, -0.10077609922],[51.49560250163, -0.10105150704],[51.4954601159, -0.10114386359],[51.49505688761, -0.10123265265],[51.49477749982, -0.10063919893],[51.49422885525, -0.10063319251],[51.49385970804, -0.10060531889],[51.49378758262, -0.100593911],[51.49369701779, -0.10055445774],[51.49352370862, -0.10040319715],[51.49325027064, -0.0996222453],[51.49320224889, -0.09943385594]]",
            "stopPoints": [
             {
              "$type": "Tfl.Api.Presentation.Entities.Identifier, Tfl.Api.Presentation.Entities",
              "id": "490G00012247",
              "name": "Southampton Street / Covent Garden",
              "routeType": "Unknown",
              "status": "Unknown",
              "type": "StopPoint",
              "uri": "/StopPoint/490G00012247"
             },
             {
              "$type": "Tfl.Api.Presentation.Entities.Identifier, Tfl.Api.Presentation.Entities",
              "id": "490G00020255",
              "name": "Lancaster Place / Somerset House",
              "routeType": "Unknown",
              "status": "Unknown",
              "type": "StopPoint",
              "uri": "/StopPoint/490G00020255"
             },
             {
              "$type": "Tfl.Api.Presentation.Entities.Identifier, Tfl.Api.Presentation.Entities",
              "id": "490G000819",
              "name": "Waterloo Bridge / South Bank",
              "routeType": "Unknown",
              "status": "Unknown",
              "type": "StopPoint",
              "uri": "/StopPoint/490G000819"
             },
             {
              "$type": "Tfl.Api.Presentation.Entities.Identifier, Tfl.Api.Presentation.Entities",
              "id": "490G000401",
              "name": "Waterloo Station   / Waterloo Road",
              "routeType": "Unknown",
              "status": "Unknown",
              "type": "StopPoint",
              "uri": "/StopPoint/490G000401"
             },
             {
              "$type": "Tfl.Api.Presentation.Entities.Identifier, Tfl.Api.Presentation.Entities",
              "id": "490G00013485",
              "name": "The Old Vic",
              "routeType": "Unknown",
              "status": "Unknown",
              "type": "StopPoint",
              "uri": "/StopPoint/490G00013485"
             },
             {
              "$type": "Tfl.Api.Presentation.Entities.Identifier, Tfl.Api.Presentation.Entities",
              "id": "490G00012693",
              "name": "St George's Circus",
              "routeType": "Unknown",
              "status": "Unknown",
              "type": "StopPoint",
              "uri": "/StopPoint/490G00012693"
             },
             {
              "$type": "Tfl.Api.Presentation.Entities.Identifier, Tfl.Api.Presentation.Entities",
              "id": "490G000642",
              "name": "Elephant & Castle / London Road",
              "routeType": "Unknown",
              "status": "Unknown",
              "type": "StopPoint",
              "uri": "/StopPoint/490G000642"
             },
             {
              "$type": "Tfl.Api.Presentation.Entities.Identifier, Tfl.Api.Presentation.Entities",
              "id": "490G00073G",
              "name": "Elephant & Castle Station",
              "routeType": "Unknown",
              "status": "Unknown",
              "type": "StopPoint",
              "uri": "/StopPoint/490G00073G"
             }
            ]
           },
           "plannedWorks": [],
           "routeOptions": [
            {
             "$type": "Tfl.Api.Presentation.Entities.JourneyPlanner.RouteOption, Tfl.Api.Presentation.Entities",
             "directions": [
              "Penge"
             ],
             "lineIdentifier": {
              "$type": "Tfl.Api.Presentation.Entities.Identifier, Tfl.Api.Presentation.Entities",
              "crowding": {
               "$type": "Tfl.Api.Presentation.Entities.Crowding, Tfl.Api.Presentation.Entities"
              },
              "id": "176",
              "name": "176",
              "routeType": "Unknown",
              "status": "Unknown",
              "type": "Line",
              "uri": "/Line/176"
             },
             "name": "176"
            }
           ]
          },
          {
           "$type": "Tfl.Api.Presentation.Entities.JourneyPlanner.Leg, Tfl.Api.Presentation.Entities",
           "arrivalPoint": {
            "$type": "Tfl.Api.Presentation.Entities.StopPoint, Tfl.Api.Presentation.Entities",
            "additionalProperties": [],
            "commonName": "Tower Bridge / City Hall",
            "icsCode": "1013744",
            "lat": 51.50365934258,
            "lon": -0.07673983198,
            "naptanId": "490G00013744",
            "placeType": "StopPoint",
            "platformName": "L",
            "stopLetter": "L"
           },
           "arrivalTime": "2021-06-25T06:13:00",
           "departurePoint": {
            "$type": "Tfl.Api.Presentation.Entities.StopPoint, Tfl.Api.Presentation.Entities",
            "additionalProperties": [],
            "commonName": "Elephant & Castle Station",
            "icsCode": "1000073",
            "lat": 51.49396042522999,
            "lon": -0.1007163805,
            "naptanId": "490G00073G",
            "placeType": "StopPoint",
            "platformName": "",
            "stopLetter": "S"
           },
           "departureTime": "2021-06-25T06:03:00",
           "disruptions": [],
           "duration": 10,
           "hasFixedLocations": true,
           "instruction": {
            "$type": "Tfl.Api.Presentation.Entities.Instruction, Tfl.Api.Presentation.Entities",
            "detailed": "343 bus towards Aldgate",
            "steps": [],
            "summary": "343 bus to Tower Bridge / City Hall"
           },
           "isDisrupted": false,
           "mode": {
            "$type": "Tfl.Api.Presentation.Entities.Identifier, Tfl.Api.Presentation.Entities",
            "id": "bus",
            "name": "bus",
            "routeType": "Unknown",
            "status": "Unknown",
            "type": "Mode"
           },
           "obstacles": [],
           "path": {
            "$type": "Tfl.Api.Presentation.Entities.JourneyPlanner.Path, Tfl.Api.Presentation.Entities",
            "elevation": [],
            "lineString": "[[51.49396346243, -0.10061315316],[51.49422885525, -0.10063319251],[51.49477749982, -0.10063919893],[51.49505688761, -0.10123265265],[51.4954601159, -0.10114386359],[51.49560250163, -0.10105150704],[51.4956430045, -0.10077609922],[51.49563600882, -0.10034419346],[51.49590093985, -0.10004504592],[51.49639504167, -0.09979803987],[51.49639504167, -0.09979803987],[51.49656104368, -0.09971505265],[51.49664098916, -0.09965410014],[51.49712019462, -0.09925958593],[51.49764176364, -0.09870482141],[51.49825156045, -0.09804551962],[51.49872172931, -0.09743925524],[51.49872172931, -0.09743925524],[51.49910596691, -0.09694378339],[51.49935081247, -0.09651575994],[51.49941231575, -0.09642675087],[51.49989301484, -0.09557106273],[51.50017263181, -0.09506953454],[51.50044279218, -0.09453957839],[51.50059088321, -0.09424523892],[51.50076436264, -0.09396868872],[51.50076436264, -0.09396868872],[51.50122199502, -0.09323914415],[51.50128396394, -0.09317892418],[51.50172673189, -0.09275700456],[51.50209096205, -0.09248244247],[51.50215316476, -0.09243661915],[51.502313516, -0.09234347098],[51.50259827234, -0.09215867395],[51.50282957805, -0.09200492487],[51.50300676173, -0.09189780374],[51.50300676173, -0.09189780374],[51.50323920719, -0.09175727123],[51.50373565401, -0.09131866705],[51.50380684267, -0.09127246493],[51.50395726892, -0.0911220871],[51.50401923665, -0.09106186058],[51.50415122088, -0.09088343362],[51.50429195686, -0.09069023048],[51.50450294296, -0.09039322375],[51.50468056187, -0.09025611314],[51.50481348281, -0.09013527989],[51.50490928521, -0.08994395059],[51.5050400949, -0.08969351825],[51.50520708444, -0.08945598067],[51.50558669818, -0.08902222002],[51.50568390662, -0.08891728471],[51.50572790025, -0.08885780492],[51.50586957144, -0.08872218876],[51.50610845048, -0.08848163452],[51.50617940321, -0.08842102543],[51.50613993654, -0.08820652889],[51.50611016021, -0.08803485669],[51.50598317284, -0.0873729817],[51.50598317284, -0.0873729817],[51.50587428977, -0.08680548705],[51.50582371923, -0.08646177031],[51.50578401402, -0.08623287728],[51.5057556448, -0.08614760733],[51.50573626196, -0.08606196091],[51.50564833323, -0.0856333533],[51.50550742478, -0.08526460714],[51.50533080462, -0.08491177021],[51.50528422644, -0.08481285579],[51.50510666415, -0.08440242352],[51.50506907198, -0.0843031332],[51.50503491821, -0.08422721342],[51.50503491821, -0.08422721342],[51.50492910045, -0.08399199446],[51.504741843, -0.08353874691],[51.50450682725, -0.08291459471],[51.50439286966, -0.08254473456],[51.50422334406, -0.08207634429],[51.50415390903, -0.08190829133],[51.50415390903, -0.08190829133],[51.50408289568, -0.08173641951],[51.50398051203, -0.08152458092],[51.50383060448, -0.08115623862],[51.50370859758, -0.08084436295],[51.50361307774, -0.08050255769],[51.50351567111, -0.08004556052],[51.50350693766, -0.08000899604],[51.50350693766, -0.08000899604],[51.50345774497, -0.0798030413],[51.50336387271, -0.07956203396],[51.50329790245, -0.07937749042],[51.5032127799, -0.07912170785],[51.50312742092, -0.07885152722],[51.50300399246, -0.07845326866],[51.50297846911, -0.07799325721],[51.5028725385, -0.07756544806],[51.50277653706, -0.07719485829],[51.50289241583, -0.07713234495],[51.50317691104, -0.07693305225],[51.50346140588, -0.07673375702],[51.50362972284, -0.07662361621]]",
            "stopPoints": [
             {
              "$type": "Tfl.Api.Presentation.Entities.Identifier, Tfl.Api.Presentation.Entities",
              "id": "490G000644",
              "name": "Elephant & Castle / Newington Causeway",
              "routeType": "Unknown",
              "status": "Unknown",
              "type": "StopPoint",
              "uri": "/StopPoint/490G000644"
             },
             {
              "$type": "Tfl.Api.Presentation.Entities.Identifier, Tfl.Api.Presentation.Entities",
              "id": "490G00003548",
              "name": "Inner London Crown Court",
              "routeType": "Unknown",
              "status": "Unknown",
              "type": "StopPoint",
              "uri": "/StopPoint/490G00003548"
             },
             {
              "$type": "Tfl.Api.Presentation.Entities.Identifier, Tfl.Api.Presentation.Entities",
              "id": "490G00026B",
              "name": "Borough Station",
              "routeType": "Unknown",
              "status": "Unknown",
              "type": "StopPoint",
              "uri": "/StopPoint/490G00026B"
             },
             {
              "$type": "Tfl.Api.Presentation.Entities.Identifier, Tfl.Api.Presentation.Entities",
              "id": "490G00013910",
              "name": "Union Street",
              "routeType": "Unknown",
              "status": "Unknown",
              "type": "StopPoint",
              "uri": "/StopPoint/490G00013910"
             },
             {
              "$type": "Tfl.Api.Presentation.Entities.Identifier, Tfl.Api.Presentation.Entities",
              "id": "490G00139R",
              "name": "London Bridge Station",
              "routeType": "Unknown",
              "status": "Unknown",
              "type": "StopPoint",
              "uri": "/StopPoint/490G00139R"
             },
             {
              "$type": "Tfl.Api.Presentation.Entities.Identifier, Tfl.Api.Presentation.Entities",
              "id": "490G00007964",
              "name": "Hay's Galleria",
              "routeType": "Unknown",
              "status": "Unknown",
              "type": "StopPoint",
              "uri": "/StopPoint/490G00007964"
             },
             {
              "$type": "Tfl.Api.Presentation.Entities.Identifier, Tfl.Api.Presentation.Entities",
              "id": "490G00018666",
              "name": "Abbots Lane",
              "routeType": "Unknown",
              "status": "Unknown",
              "type": "StopPoint",
              "uri": "/StopPoint/490G00018666"
             },
             {
              "$type": "Tfl.Api.Presentation.Entities.Identifier, Tfl.Api.Presentation.Entities",
              "id": "490G00016580",
              "name": "City Hall",
              "routeType": "Unknown",
              "status": "Unknown",
              "type": "StopPoint",
              "uri": "/StopPoint/490G00016580"
             },
             {
              "$type": "Tfl.Api.Presentation.Entities.Identifier, Tfl.Api.Presentation.Entities",
              "id": "490G00013744",
              "name": "Tower Bridge / City Hall",
              "routeType": "Unknown",
              "status": "Unknown",
              "type": "StopPoint",
              "uri": "/StopPoint/490G00013744"
             }
            ]
           },
           "plannedWorks": [],
           "routeOptions": [
            {
             "$type": "Tfl.Api.Presentation.Entities.JourneyPlanner.RouteOption, Tfl.Api.Presentation.Entities",
             "directions": [
              "Aldgate"
             ],
             "lineIdentifier": {
              "$type": "Tfl.Api.Presentation.Entities.Identifier, Tfl.Api.Presentation.Entities",
              "crowding": {
               "$type": "Tfl.Api.Presentation.Entities.Crowding, Tfl.Api.Presentation.Entities"
              },
              "id": "343",
              "name": "343",
              "routeType": "Unknown",
              "status": "Unknown",
              "type": "Line",
              "uri": "/Line/343"
             },
             "name": "343"
            }
           ]
          }
         ],
         "startDateTime": "2021-06-25T04:20:00"
        }
       ],
       "lines": [
        {
         "$type": "Tfl.Api.Presentation.Entities.Line, Tfl.Api.Presentation.Entities",
         "created": "2021-06-22T18:41:11.143Z",
         "crowding": {
          "$type": "Tfl.Api.Presentation.Entities.Crowding, Tfl.Api.Presentation.Entities"
         },
         "disruptions": [],
         "id": "176",
         "lineStatuses": [
          {
           "$type": "Tfl.Api.Presentation.Entities.LineStatus, Tfl.Api.Presentation.Entities",
           "created": "0001-01-01T00:00:00",
           "disruption": {
            "$type": "Tfl.Api.Presentation.Entities.Disruption, Tfl.Api.Presentation.Entities",
            "affectedRoutes": [],
            "affectedStops": [],
            "category": "PlannedWork",
            "categoryDescription": "PlannedWork",
            "created": "2021-06-18T09:18:00Z",
            "description": "CROYDON ROAD: From 09:00 Monday 21 June to 16:00 Friday 25 June, route 176 is not serving the stop Penge/Pawleyne Arms due to Bromley Council works. Buses towards Waterloo depart from High Street/Maple Road (Stop E)."
           },
           "id": 0,
           "lineId": "176",
           "reason": "CROYDON ROAD: From 09:00 Monday 21 June to 16:00 Friday 25 June, route 176 is not serving the stop Penge/Pawleyne Arms due to Bromley Council works. Buses towards Waterloo depart from High Street/Maple Road (Stop E).",
           "statusSeverity": 0,
           "statusSeverityDescription": "Special Service",
           "validityPeriods": [
            {
             "$type": "Tfl.Api.Presentation.Entities.ValidityPeriod, Tfl.Api.Presentation.Entities",
             "fromDate": "2021-06-21T09:00:00Z",
             "isNow": false,
             "toDate": "2021-06-25T16:00:00Z"
            }
           ]
          }
         ],
         "modeName": "bus",
         "modified": "2021-06-22T18:41:11.143Z",
         "name": "176",
         "routeSections": [],
         "serviceTypes": [
          {
           "$type": "Tfl.Api.Presentation.Entities.LineServiceTypeInfo, Tfl.Api.Presentation.Entities",
           "name": "Regular",
           "uri": "/Line/Route?ids=176&serviceTypes=Regular"
          }
         ]
        },
        {
         "$type": "Tfl.Api.Presentation.Entities.Line, Tfl.Api.Presentation.Entities",
         "created": "2021-06-22T18:41:11.127Z",
         "crowding": {
          "$type": "Tfl.Api.Presentation.Entities.Crowding, Tfl.Api.Presentation.Entities"
         },
         "disruptions": [],
         "id": "343",
         "lineStatuses": [
          {
           "$type": "Tfl.Api.Presentation.Entities.LineStatus, Tfl.Api.Presentation.Entities",
           "created": "0001-01-01T00:00:00",
           "id": 0,
           "statusSeverity": 10,
           "statusSeverityDescription": "Good Service",
           "validityPeriods": []
          }
         ],
         "modeName": "bus",
         "modified": "2021-06-22T18:41:11.127Z",
         "name": "343",
         "routeSections": [],
         "serviceTypes": [
          {
           "$type": "Tfl.Api.Presentation.Entities.LineServiceTypeInfo, Tfl.Api.Presentation.Entities",
           "name": "Regular",
           "uri": "/Line/Route?ids=343&serviceTypes=Regular"
          }
         ]
        },
        {
         "$type": "Tfl.Api.Presentation.Entities.Line, Tfl.Api.Presentation.Entities",
         "created": "2021-06-22T18:41:11.16Z",
         "crowding": {
          "$type": "Tfl.Api.Presentation.Entities.Crowding, Tfl.Api.Presentation.Entities"
         },
         "disruptions": [],
         "id": "482",
         "lineStatuses": [
          {
           "$type": "Tfl.Api.Presentation.Entities.LineStatus, Tfl.Api.Presentation.Entities",
           "created": "0001-01-01T00:00:00",
           "id": 0,
           "statusSeverity": 10,
           "statusSeverityDescription": "Good Service",
           "validityPeriods": []
          }
         ],
         "modeName": "bus",
         "modified": "2021-06-22T18:41:11.16Z",
         "name": "482",
         "routeSections": [],
         "serviceTypes": [
          {
           "$type": "Tfl.Api.Presentation.Entities.LineServiceTypeInfo, Tfl.Api.Presentation.Entities",
           "name": "Regular",
           "uri": "/Line/Route?ids=482&serviceTypes=Regular"
          }
         ]
        },
        {
         "$type": "Tfl.Api.Presentation.Entities.Line, Tfl.Api.Presentation.Entities",
         "created": "2021-06-22T18:41:11.127Z",
         "crowding": {
          "$type": "Tfl.Api.Presentation.Entities.Crowding, Tfl.Api.Presentation.Entities"
         },
         "disruptions": [],
         "id": "490",
         "lineStatuses": [
          {
           "$type": "Tfl.Api.Presentation.Entities.LineStatus, Tfl.Api.Presentation.Entities",
           "created": "0001-01-01T00:00:00",
           "id": 0,
           "statusSeverity": 10,
           "statusSeverityDescription": "Good Service",
           "validityPeriods": []
          }
         ],
         "modeName": "bus",
         "modified": "2021-06-22T18:41:11.127Z",
         "name": "490",
         "routeSections": [],
         "serviceTypes": [
          {
           "$type": "Tfl.Api.Presentation.Entities.LineServiceTypeInfo, Tfl.Api.Presentation.Entities",
           "name": "Regular",
           "uri": "/Line/Route?ids=490&serviceTypes=Regular"
          }
         ]
        },
        {
         "$type": "Tfl.Api.Presentation.Entities.Line, Tfl.Api.Presentation.Entities",
         "created": "2021-06-22T18:41:11.16Z",
         "crowding": {
          "$type": "Tfl.Api.Presentation.Entities.Crowding, Tfl.Api.Presentation.Entities"
         },
         "disruptions": [],
         "id": "78",
         "lineStatuses": [
          {
           "$type": "Tfl.Api.Presentation.Entities.LineStatus, Tfl.Api.Presentation.Entities",
           "created": "0001-01-01T00:00:00",
           "id": 0,
           "statusSeverity": 10,
           "statusSeverityDescription": "Good Service",
           "validityPeriods": []
          }
         ],
         "modeName": "bus",
         "modified": "2021-06-22T18:41:11.16Z",
         "name": "78",
         "routeSections": [],
         "serviceTypes": [
          {
           "$type": "Tfl.Api.Presentation.Entities.LineServiceTypeInfo, Tfl.Api.Presentation.Entities",
           "name": "Regular",
           "uri": "/Line/Route?ids=78&serviceTypes=Regular"
          }
         ]
        },
        {
         "$type": "Tfl.Api.Presentation.Entities.Line, Tfl.Api.Presentation.Entities",
         "created": "2021-06-22T18:41:11.16Z",
         "crowding": {
          "$type": "Tfl.Api.Presentation.Entities.Crowding, Tfl.Api.Presentation.Entities"
         },
         "disruptions": [],
         "id": "9",
         "lineStatuses": [
          {
           "$type": "Tfl.Api.Presentation.Entities.LineStatus, Tfl.Api.Presentation.Entities",
           "created": "0001-01-01T00:00:00",
           "id": 0,
           "statusSeverity": 10,
           "statusSeverityDescription": "Good Service",
           "validityPeriods": []
          }
         ],
         "modeName": "bus",
         "modified": "2021-06-22T18:41:11.16Z",
         "name": "9",
         "routeSections": [],
         "serviceTypes": [
          {
           "$type": "Tfl.Api.Presentation.Entities.LineServiceTypeInfo, Tfl.Api.Presentation.Entities",
           "name": "Regular",
           "uri": "/Line/Route?ids=9&serviceTypes=Regular"
          }
         ]
        },
        {
         "$type": "Tfl.Api.Presentation.Entities.Line, Tfl.Api.Presentation.Entities",
         "created": "2021-06-22T18:41:11.143Z",
         "crowding": {
          "$type": "Tfl.Api.Presentation.Entities.Crowding, Tfl.Api.Presentation.Entities"
         },
         "disruptions": [],
         "id": "h91",
         "lineStatuses": [
          {
           "$type": "Tfl.Api.Presentation.Entities.LineStatus, Tfl.Api.Presentation.Entities",
           "created": "0001-01-01T00:00:00",
           "id": 0,
           "statusSeverity": 10,
           "statusSeverityDescription": "Good Service",
           "validityPeriods": []
          }
         ],
         "modeName": "bus",
         "modified": "2021-06-22T18:41:11.143Z",
         "name": "H91",
         "routeSections": [],
         "serviceTypes": [
          {
           "$type": "Tfl.Api.Presentation.Entities.LineServiceTypeInfo, Tfl.Api.Presentation.Entities",
           "name": "Regular",
           "uri": "/Line/Route?ids=H91&serviceTypes=Regular"
          }
         ]
        },
        {
         "$type": "Tfl.Api.Presentation.Entities.Line, Tfl.Api.Presentation.Entities",
         "created": "2021-06-22T18:41:11.16Z",
         "crowding": {
          "$type": "Tfl.Api.Presentation.Entities.Crowding, Tfl.Api.Presentation.Entities"
         },
         "disruptions": [],
         "id": "n550",
         "lineStatuses": [
          {
           "$type": "Tfl.Api.Presentation.Entities.LineStatus, Tfl.Api.Presentation.Entities",
           "created": "0001-01-01T00:00:00",
           "disruption": {
            "$type": "Tfl.Api.Presentation.Entities.Disruption, Tfl.Api.Presentation.Entities",
            "affectedRoutes": [],
            "affectedStops": [],
            "category": "RealTime",
            "categoryDescription": "RealTime",
            "created": "2021-05-24T17:05:00Z",
            "description": "QUEEN VICTORIA STREET, EC4: Routes N550 and N551 are diverted (eastbound only) due to emergency Cadent Gas repair works. Buses are diverting via New Change and Cheapside, with no service to either Mansion House Station (ME) and Bank Station / Queen Victoria Street (MD)."
           },
           "id": 0,
           "lineId": "n550",
           "reason": "QUEEN VICTORIA STREET, EC4: Routes N550 and N551 are diverted (eastbound only) due to emergency Cadent Gas repair works. Buses are diverting via New Change and Cheapside, with no service to either Mansion House Station (ME) and Bank Station / Queen Victoria Street (MD).",
           "statusSeverity": 0,
           "statusSeverityDescription": "Special Service",
           "validityPeriods": [
            {
             "$type": "Tfl.Api.Presentation.Entities.ValidityPeriod, Tfl.Api.Presentation.Entities",
             "fromDate": "2021-05-24T12:49:00Z",
             "isNow": true,
             "toDate": "2021-07-04T08:00:00Z"
            }
           ]
          }
         ],
         "modeName": "bus",
         "modified": "2021-06-22T18:41:11.16Z",
         "name": "N550",
         "routeSections": [],
         "serviceTypes": [
          {
           "$type": "Tfl.Api.Presentation.Entities.LineServiceTypeInfo, Tfl.Api.Presentation.Entities",
           "name": "Regular",
           "uri": "/Line/Route?ids=N550&serviceTypes=Regular"
          }
         ]
        },
        {
         "$type": "Tfl.Api.Presentation.Entities.Line, Tfl.Api.Presentation.Entities",
         "created": "2021-06-22T18:41:11.143Z",
         "crowding": {
          "$type": "Tfl.Api.Presentation.Entities.Crowding, Tfl.Api.Presentation.Entities"
         },
         "disruptions": [],
         "id": "n551",
         "lineStatuses": [
          {
           "$type": "Tfl.Api.Presentation.Entities.LineStatus, Tfl.Api.Presentation.Entities",
           "created": "0001-01-01T00:00:00",
           "disruption": {
            "$type": "Tfl.Api.Presentation.Entities.Disruption, Tfl.Api.Presentation.Entities",
            "affectedRoutes": [],
            "affectedStops": [],
            "category": "RealTime",
            "categoryDescription": "RealTime",
            "created": "2021-05-24T17:05:00Z",
            "description": "QUEEN VICTORIA STREET, EC4: Routes N550 and N551 are diverted (eastbound only) due to emergency Cadent Gas repair works. Buses are diverting via New Change and Cheapside, with no service to either Mansion House Station (ME) and Bank Station / Queen Victoria Street (MD)."
           },
           "id": 0,
           "lineId": "n551",
           "reason": "QUEEN VICTORIA STREET, EC4: Routes N550 and N551 are diverted (eastbound only) due to emergency Cadent Gas repair works. Buses are diverting via New Change and Cheapside, with no service to either Mansion House Station (ME) and Bank Station / Queen Victoria Street (MD).",
           "statusSeverity": 0,
           "statusSeverityDescription": "Special Service",
           "validityPeriods": [
            {
             "$type": "Tfl.Api.Presentation.Entities.ValidityPeriod, Tfl.Api.Presentation.Entities",
             "fromDate": "2021-05-24T12:49:00Z",
             "isNow": true,
             "toDate": "2021-07-04T08:00:00Z"
            }
           ]
          }
         ],
         "modeName": "bus",
         "modified": "2021-06-22T18:41:11.143Z",
         "name": "N551",
         "routeSections": [],
         "serviceTypes": [
          {
           "$type": "Tfl.Api.Presentation.Entities.LineServiceTypeInfo, Tfl.Api.Presentation.Entities",
           "name": "Regular",
           "uri": "/Line/Route?ids=N551&serviceTypes=Regular"
          }
         ]
        },
        {
         "$type": "Tfl.Api.Presentation.Entities.Line, Tfl.Api.Presentation.Entities",
         "created": "2021-06-22T18:41:11.16Z",
         "crowding": {
          "$type": "Tfl.Api.Presentation.Entities.Crowding, Tfl.Api.Presentation.Entities"
         },
         "disruptions": [],
         "id": "n9",
         "lineStatuses": [
          {
           "$type": "Tfl.Api.Presentation.Entities.LineStatus, Tfl.Api.Presentation.Entities",
           "created": "0001-01-01T00:00:00",
           "id": 0,
           "statusSeverity": 10,
           "statusSeverityDescription": "Good Service",
           "validityPeriods": []
          }
         ],
         "modeName": "bus",
         "modified": "2021-06-22T18:41:11.16Z",
         "name": "N9",
         "routeSections": [],
         "serviceTypes": [
          {
           "$type": "Tfl.Api.Presentation.Entities.LineServiceTypeInfo, Tfl.Api.Presentation.Entities",
           "name": "Regular",
           "uri": "/Line/Route?ids=N9&serviceTypes=Regular"
          }
         ]
        }
       ],
       "recommendedMaxAgeMinutes": 5,
       "searchCriteria": {
        "$type": "Tfl.Api.Presentation.Entities.JourneyPlanner.SearchCriteria, Tfl.Api.Presentation.Entities",
        "dateTime": "2021-06-25T00:41:00",
        "dateTimeType": "Departing",
        "timeAdjustments": {
         "$type": "Tfl.Api.Presentation.Entities.JourneyPlanner.TimeAdjustments, Tfl.Api.Presentation.Entities",
         "earlier": {
          "$type": "Tfl.Api.Presentation.Entities.JourneyPlanner.TimeAdjustment, Tfl.Api.Presentation.Entities",
          "date": "20210624",
          "time": "2306",
          "timeIs": "departing",
          "uri": "/journey/journeyresults/1000104/to/1013744?mode=bus&time=2306&date=20210624&timeIs=departing"
         },
         "earliest": {
          "$type": "Tfl.Api.Presentation.Entities.JourneyPlanner.TimeAdjustment, Tfl.Api.Presentation.Entities",
          "date": "20210625",
          "time": "0300",
          "timeIs": "departing",
          "uri": "/journey/journeyresults/1000104/to/1013744?mode=bus&time=0300&date=20210625&timeIs=departing"
         },
         "later": {
          "$type": "Tfl.Api.Presentation.Entities.JourneyPlanner.TimeAdjustment, Tfl.Api.Presentation.Entities",
          "date": "20210625",
          "time": "0420",
          "timeIs": "departing",
          "uri": "/journey/journeyresults/1000104/to/1013744?mode=bus&time=0420&date=20210625&timeIs=departing"
         },
         "latest": {
          "$type": "Tfl.Api.Presentation.Entities.JourneyPlanner.TimeAdjustment, Tfl.Api.Presentation.Entities",
          "date": "20210626",
          "time": "0300",
          "timeIs": "departing",
          "uri": "/journey/journeyresults/1000104/to/1013744?mode=bus&time=0300&date=20210626&timeIs=departing"
         }
        }
       },
       "stopMessages": [
        "Temporary closure of Heathrow Terminal 4 stations: Due to a significant drop in demand, all flights to/from Heathrow Airport are operating from Terminals 2 & 5 only. The Piccadilly line and TfL Rail stations at Terminal 4 are closed until further notice.  All Piccadilly line and TfL Rail services to the airport are operating to/from Heathrow T1,2,3 & 5 stations. To check flight departure and arrivals information, visit Heathrow.com or contact your airline.",
        "."
       ]
      },
      "text/plain": [
       "<IPython.core.display.JSON object>"
      ]
     },
     "execution_count": 15,
     "metadata": {
      "application/json": {
       "expanded": false,
       "root": "root"
      }
     },
     "output_type": "execute_result"
    }
   ],
   "source": [
    "JSON(response_json)"
   ]
  },
  {
   "cell_type": "markdown",
   "id": "948ca94b-43bb-4106-8637-db3695617c61",
   "metadata": {},
   "source": [
    "# Answers for my questions"
   ]
  },
  {
   "cell_type": "markdown",
   "id": "83833485-0d8c-4804-a2bb-0161ee9f0886",
   "metadata": {},
   "source": [
    "## On an average how many accidents happen per year and which year saw the highest number of accidents?"
   ]
  },
  {
   "cell_type": "code",
   "execution_count": 22,
   "id": "a01dc037-5eb9-41d9-bf93-644d3f585f68",
   "metadata": {},
   "outputs": [
    {
     "name": "stdout",
     "output_type": "stream",
     "text": [
      "......... Data received successfully from https://api.tfl.gov.uk/AccidentStats/2010\n",
      "......... Data received successfully from https://api.tfl.gov.uk/AccidentStats/2010\n",
      "......... Data received successfully from https://api.tfl.gov.uk/AccidentStats/2010\n",
      "......... Data received successfully from https://api.tfl.gov.uk/AccidentStats/2010\n",
      "......... Data received successfully from https://api.tfl.gov.uk/AccidentStats/2010\n",
      "......... Data received successfully from https://api.tfl.gov.uk/AccidentStats/2010\n",
      "......... Data received successfully from https://api.tfl.gov.uk/AccidentStats/2010\n",
      "......... Data received successfully from https://api.tfl.gov.uk/AccidentStats/2010\n",
      "......... Data received successfully from https://api.tfl.gov.uk/AccidentStats/2010\n",
      "Error in requesting data from the resource provided\n",
      "Error in requesting data from the resource provided\n"
     ]
    }
   ],
   "source": [
    "years = range(2010,2021)\n",
    "accidents_stats = []\n",
    "for year in years:\n",
    "    response_json = get_data(accident_stats_endpoint,year)\n",
    "    accidents_stats.append(response_json)"
   ]
  }
 ],
 "metadata": {
  "kernelspec": {
   "display_name": "bootcamp",
   "language": "python",
   "name": "bootcamp"
  },
  "language_info": {
   "codemirror_mode": {
    "name": "ipython",
    "version": 3
   },
   "file_extension": ".py",
   "mimetype": "text/x-python",
   "name": "python",
   "nbconvert_exporter": "python",
   "pygments_lexer": "ipython3",
   "version": "3.9.5"
  }
 },
 "nbformat": 4,
 "nbformat_minor": 5
}
